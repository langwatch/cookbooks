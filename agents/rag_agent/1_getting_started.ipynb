{
  "cells": [
    {
      "cell_type": "markdown",
      "metadata": {
        "id": "8SYQp11Cp4rQ"
      },
      "source": [
        "#**Systematically Improving RAG Agents - Getting Started**"
      ]
    },
    {
      "cell_type": "markdown",
      "source": [
        "## 1. Environment Setup"
      ],
      "metadata": {
        "id": "5DTnKjkVNRHL"
      }
    },
    {
      "cell_type": "markdown",
      "source": [
        "First, let's make sure we have all necessary libraries set up:"
      ],
      "metadata": {
        "id": "iVAMBoMtNbfP"
      }
    },
    {
      "cell_type": "code",
      "source": [
        "!pip install openai firecrawl-py chromadb"
      ],
      "metadata": {
        "id": "DovFy9EENey7"
      },
      "execution_count": null,
      "outputs": []
    },
    {
      "cell_type": "code",
      "source": [
        "import getpass\n",
        "import chromadb\n",
        "from chromadb.utils import embedding_functions\n",
        "from firecrawl import FirecrawlApp\n",
        "from typing import List\n",
        "import uuid\n",
        "import openai"
      ],
      "metadata": {
        "id": "0PL2JT85QYyM"
      },
      "execution_count": null,
      "outputs": []
    },
    {
      "cell_type": "code",
      "source": [
        "openai.api_key = getpass.getpass('Enter your OpenAI API key: ')"
      ],
      "metadata": {
        "colab": {
          "base_uri": "https://localhost:8080/"
        },
        "id": "HQs7ozHZQ8IH",
        "outputId": "fc582799-a24b-428d-dd20-5c45702f9529"
      },
      "execution_count": null,
      "outputs": [
        {
          "name": "stdout",
          "output_type": "stream",
          "text": [
            "Enter your OpenAI API key: ··········\n"
          ]
        }
      ]
    },
    {
      "cell_type": "markdown",
      "source": [
        "## 2. Fetch Content using FireCrawl"
      ],
      "metadata": {
        "id": "UxPgE9vLVmLe"
      }
    },
    {
      "cell_type": "code",
      "source": [
        "# Get FireCrawl API key securely\n",
        "firecrawl_api_key = getpass.getpass('Enter your Firecrawl API key')\n",
        "app = FirecrawlApp(api_key=firecrawl_api_key)\n",
        "\n",
        "# Define the URL to crawl\n",
        "url = 'https://huyenchip.com/2025/01/07/agents.html'\n",
        "\n",
        "# Scrape the content as markdown\n",
        "response = app.scrape_url(url=url, params={\n",
        "    'formats': ['markdown'],\n",
        "})\n",
        "\n",
        "# Extract the markdown text\n",
        "text = response['markdown']"
      ],
      "metadata": {
        "colab": {
          "base_uri": "https://localhost:8080/"
        },
        "id": "FaTd79e88IIi",
        "outputId": "00547954-f5ad-4b78-8177-1d17a661b61f"
      },
      "execution_count": null,
      "outputs": [
        {
          "name": "stdout",
          "output_type": "stream",
          "text": [
            "Enter your Firecrawl API key··········\n"
          ]
        }
      ]
    },
    {
      "cell_type": "markdown",
      "source": [
        "## 3. Text Chunking"
      ],
      "metadata": {
        "id": "Th9n4qOO8q-N"
      }
    },
    {
      "cell_type": "code",
      "source": [
        "def chunk_text(text: str, chunk_size: int, chunk_overlap: int) -> List[str]:\n",
        "    chunks = []\n",
        "    start = 0\n",
        "\n",
        "    while start < len(text):\n",
        "        end = start + chunk_size\n",
        "        chunks.append(text[start:end])\n",
        "        start += chunk_size - chunk_overlap\n",
        "\n",
        "    return chunks\n",
        "\n",
        "# Define chunk parameters\n",
        "CHUNK_SIZE = 1000\n",
        "CHUNK_OVERLAP = 200\n",
        "\n",
        "# Split the text into chunks\n",
        "chunks = chunk_text(text, CHUNK_SIZE, CHUNK_OVERLAP)"
      ],
      "metadata": {
        "id": "x3W1V6kK8tq0"
      },
      "execution_count": null,
      "outputs": []
    },
    {
      "cell_type": "markdown",
      "source": [
        "## 4. Initialize ChromaDB"
      ],
      "metadata": {
        "id": "Fn8gdFzN81ri"
      }
    },
    {
      "cell_type": "code",
      "source": [
        "# Create ChromaDB client\n",
        "client = chromadb.Client()\n",
        "\n",
        "# Initialize embedding function using Sentence Transformers\n",
        "embedding_function = embedding_functions.SentenceTransformerEmbeddingFunction(\n",
        "    model_name=\"all-MiniLM-L6-v2\"\n",
        ")\n",
        "\n",
        "# Create a collection for this blog post\n",
        "collection_name = \"huyen_agents_blog\"\n",
        "\n",
        "# Delete the collection if it already exists\n",
        "try:\n",
        "    client.delete_collection(collection_name)\n",
        "except:\n",
        "    pass\n",
        "\n",
        "# Create the collection\n",
        "collection = client.create_collection(\n",
        "    name=collection_name,\n",
        "    embedding_function=embedding_function\n",
        ")"
      ],
      "metadata": {
        "id": "MkgqK-Pk84em"
      },
      "execution_count": null,
      "outputs": []
    },
    {
      "cell_type": "code",
      "source": [
        "# Add each chunk to the collection\n",
        "for i, chunk in enumerate(chunks):\n",
        "    # Generate unique ID\n",
        "    chunk_id = str(uuid.uuid4())\n",
        "\n",
        "    # Add to collection\n",
        "    collection.add(\n",
        "        documents=[chunk],\n",
        "        metadatas=[{\"source\": url, \"chunk_index\": i}],\n",
        "        ids=[chunk_id]\n",
        "    )"
      ],
      "metadata": {
        "id": "NUgFZlyu9Bc3"
      },
      "execution_count": null,
      "outputs": []
    },
    {
      "cell_type": "markdown",
      "source": [
        "## 5. Query Function"
      ],
      "metadata": {
        "id": "iYkv8P9v9II3"
      }
    },
    {
      "cell_type": "code",
      "source": [
        "def query_rag(query, n_results=3):\n",
        "    \"\"\"\n",
        "    Retrieve relevant documents from ChromaDB.\n",
        "\n",
        "    Args:\n",
        "        query (str): The query or question to search for\n",
        "        n_results (int): Number of documents to retrieve\n",
        "\n",
        "    Returns:\n",
        "        dict: Contains retrieved documents\n",
        "    \"\"\"\n",
        "    # Get relevant documents from ChromaDB\n",
        "    results = collection.query(\n",
        "        query_texts=[query],\n",
        "        n_results=n_results\n",
        "    )\n",
        "\n",
        "    retrieved_docs = results['documents'][0]\n",
        "    return {\"retrieved_docs\": retrieved_docs}"
      ],
      "metadata": {
        "id": "Uao9A60r9KZz"
      },
      "execution_count": null,
      "outputs": []
    },
    {
      "cell_type": "markdown",
      "source": [
        "## 6. Test Queries"
      ],
      "metadata": {
        "id": "xh1Toytw9S7C"
      }
    },
    {
      "cell_type": "code",
      "source": [
        "# Example query\n",
        "query = \"What are agents in AI?\"\n",
        "results = query_rag(query, n_results=2)\n",
        "\n",
        "print(f\"Query: {query}\\n\")\n",
        "print(\"Retrieved Documents:\")\n",
        "for i, doc in enumerate(results[\"retrieved_docs\"]):\n",
        "    print(f\"\\nDocument {i+1}:\")\n",
        "    print(doc)"
      ],
      "metadata": {
        "colab": {
          "base_uri": "https://localhost:8080/"
        },
        "id": "7V4No4I29VNk",
        "outputId": "10399207-c10d-4f15-95f2-745f5d9e1745"
      },
      "execution_count": null,
      "outputs": [
        {
          "output_type": "stream",
          "name": "stdout",
          "text": [
            "Query: What are agents in AI?\n",
            "\n",
            "Retrieved Documents:\n",
            "\n",
            "Document 1:\n",
            " agent or a human operator. When comparing AI agents to human agents, keep in mind that humans and AI have very different modes of operation, so what’s considered efficient for humans might be inefficient for AI and vice versa. For example, visiting 100 web pages might be inefficient for a human agent who can only visit one page at a time but trivial for an AI agent that can visit all the web pages at once.\n",
            "\n",
            "## Conclusion\n",
            "\n",
            "At its core, the concept of an agent is fairly simple. An agent is defined by the environment it operates in and the set of tools it has access to. In an AI-powered agent, the AI model is the brain that leverages its tools and feedback from the environment to plan how best to accomplish a task. Access to tools makes a model vastly more capable, so the agentic pattern is inevitable.\n",
            "\n",
            "While the concept of “agents” sounds novel, they are built upon many concepts that have been used since the early days of LLMs, including self-critique, chain-of-thought, and structured o\n",
            "\n",
            "Document 2:\n",
            "Table of Contents\n",
            "\n",
            "Intelligent agents are considered by many to be the ultimate goal of AI. The classic book by Stuart Russell and Peter Norvig, _Artificial Intelligence: A Modern Approach_ (Prentice Hall, 1995), defines the field of AI research as “ _the study and design of rational agents._”\n",
            "\n",
            "The unprecedented capabilities of foundation models have opened the door to agentic applications that were previously unimaginable. These new capabilities make it finally possible to develop autonomous, intelligent agents to act as our assistants, coworkers, and coaches. They can help us create a website, gather data, plan a trip, do market research, manage a customer account, automate data entry, prepare us for interviews, interview our candidates, negotiate a deal, etc. The possibilities seem endless, and the potential economic value of these agents is enormous.\n",
            "\n",
            "This section will start with an overview of agents and then continue with two aspects that determine the capabilities of an agent: t\n"
          ]
        }
      ]
    },
    {
      "cell_type": "markdown",
      "source": [
        "## 7. Generate Response"
      ],
      "metadata": {
        "id": "L2lVXx2G9zOf"
      }
    },
    {
      "cell_type": "code",
      "source": [
        "def query_rag_with_generation(query, n_results=3, model=\"gpt-3.5-turbo\"):\n",
        "    # Get relevant documents\n",
        "    results = query_rag(query, n_results)\n",
        "    retrieved_docs = results[\"retrieved_docs\"]\n",
        "\n",
        "    # Create context from retrieved documents\n",
        "    context = \"\\n\\n\".join(retrieved_docs)\n",
        "\n",
        "    # Create prompt with context and query\n",
        "    prompt = f\"\"\"Based on the following information from Chip Huyen's blog post about AI agents: {context}\n",
        "             Please answer this question: {query}\n",
        "             \"\"\"\n",
        "\n",
        "    # Generate response\n",
        "    response = openai.chat.completions.create(\n",
        "        model=model,\n",
        "        messages=[\n",
        "            {\"role\": \"system\", \"content\": \"You are a helpful assistant.\"},\n",
        "            {\"role\": \"user\", \"content\": prompt}\n",
        "        ]\n",
        "    )\n",
        "\n",
        "    return response.choices[0].message.content"
      ],
      "metadata": {
        "id": "5NdVInA890pV"
      },
      "execution_count": null,
      "outputs": []
    },
    {
      "cell_type": "code",
      "source": [
        "print(query_rag_with_generation(query))"
      ],
      "metadata": {
        "colab": {
          "base_uri": "https://localhost:8080/"
        },
        "id": "TWCZmZp--ZNS",
        "outputId": "9b09c18a-0904-4a36-b998-363056274b4f"
      },
      "execution_count": null,
      "outputs": [
        {
          "output_type": "stream",
          "name": "stdout",
          "text": [
            "In AI, an agent is defined as anything that can perceive its environment through sensors and act upon that environment through actuators. The environment an agent operates in is specific to its use case, such as playing a game, scraping documents from the internet, or operating a self-driving car. Agents leverage AI models as their brain to plan how best to accomplish tasks, making them capable of autonomous and intelligent actions. The concept of agents integrates various foundational AI concepts, ultimately leading to the development of sophisticated, AI-powered assistants, coworkers, coaches, and more.\n"
          ]
        }
      ]
    }
  ],
  "metadata": {
    "language_info": {
      "name": "python"
    },
    "colab": {
      "provenance": []
    },
    "kernelspec": {
      "name": "python3",
      "display_name": "Python 3"
    }
  },
  "nbformat": 4,
  "nbformat_minor": 0
}
