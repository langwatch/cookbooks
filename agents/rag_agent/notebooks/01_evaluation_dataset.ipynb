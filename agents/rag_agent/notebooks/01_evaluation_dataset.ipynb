{
 "cells": [
  {
   "cell_type": "markdown",
   "metadata": {},
   "source": [
    "# Notebook 1: Generating a Synthetic Evaluation Dataset\n",
    "\n",
    "## 1. Introduction\n",
    "\n",
    "Evaluating Retrieval-Augmented Generation (RAG) Agents is crucial for ensuring they provide accurate, relevant, and helpful responses. This notebook guides you through creating a high-quality synthetic evaluation dataset that will help you systematically benchmark and improve your RAG Agent. By generating high-quality synthetic datasets, we can:\n",
    "\n",
    "1. Benchmark retrieval performance across different configurations\n",
    "2. Identify blind spots in our system before deploying to users\n",
    "3. Create reproducible evaluation workflows for continuous improvement\n",
    "\n",
    "This notebook walks you through creating a synthetic dataset of queries, documents, and answers based on academic papers that will help you systematically evaluate and improve your RAG Agent."
   ]
  },
  {
   "cell_type": "markdown",
   "metadata": {},
   "source": [
    "## 2. Setup\n",
    "\n",
    "First, let's install the necessary libraries and set up our environment:"
   ]
  },
  {
   "cell_type": "code",
   "execution_count": null,
   "metadata": {},
   "outputs": [],
   "source": [
    "# Install required packages\n",
    "%pip install openai llm-data-simulator chromadb sentence_transformers pandas matplotlib"
   ]
  },
  {
   "cell_type": "code",
   "execution_count": null,
   "metadata": {},
   "outputs": [],
   "source": [
    "# Import libraries\n",
    "import openai\n",
    "from data_simulator import DataSimulator\n",
    "import getpass\n",
    "import pandas as pd\n",
    "import matplotlib.pyplot as plt\n",
    "import numpy as np\n",
    "import json\n",
    "from sklearn.metrics.pairwise import cosine_similarity\n",
    "from sentence_transformers import SentenceTransformer\n",
    "\n",
    "# Display settings for better visualization\n",
    "pd.set_option('display.max_columns', None)\n",
    "pd.set_option('display.width', 1000)\n",
    "pd.set_option('display.max_rows', 100)\n",
    "pd.set_option('display.max_colwidth', 100)\n",
    "\n",
    "# Define directories\n",
    "DATA_DIR = \"../data/papers\"\n",
    "EVAL_DIR = \"../data/evalset\""
   ]
  },
  {
   "cell_type": "markdown",
   "metadata": {},
   "source": [
    "## 3. Data Generation\n",
    "\n",
    "We'll use OpenAI's API with the data_simulator library by langwatch to create our synthetic dataset. The library takes our source documents (in this case, the GPT-1 through GPT-4 papers from arXiv) and:\n",
    "\n",
    "1. Filters out the noise to focus on quality content\n",
    "2. Creates realistic questions researchers might actually ask\n",
    "3. Generates accurate answers for each question\n",
    "\n",
    "This saves us from manually creating hundreds of test examples while ensuring our evaluation is based on meaningful questions with reliable ground truth answers."
   ]
  },
  {
   "cell_type": "code",
   "execution_count": 24,
   "metadata": {},
   "outputs": [
    {
     "name": "stderr",
     "output_type": "stream",
     "text": [
      "Filtering documents: 100%|██████████| 884/884 [15:57<00:00,  1.08s/it]\n",
      "Generating queries: 100%|██████████| 214/214 [02:43<00:00,  1.31it/s]\n",
      "Generating answers: 100%|██████████| 214/214 [06:38<00:00,  1.86s/it]\n"
     ]
    }
   ],
   "source": [
    "# Set up OpenAI API key\n",
    "openai.api_key = getpass.getpass('Enter your OpenAI API key: ')\n",
    "generator = DataSimulator(api_key=openai.api_key)\n",
    "\n",
    "# Generate synthetic dataset\n",
    "results = generator.generate_from_docs(\n",
    "    file_paths=[f\"{DATA_DIR}/gpt_1.pdf\", f\"{DATA_DIR}/gpt_2.pdf\", f\"{DATA_DIR}/gpt_3.pdf\", f\"{DATA_DIR}/gpt_4.pdf\"],\n",
    "    context=\"You're an AI research assistant helping researchers understand and analyze academic papers. The researchers need to find specific information, understand methodologies, compare approaches, and extract key findings from these papers.\",\n",
    "    example_queries=\"what are the main contributions of this paper\\nwhat architecture is used in this paper\\nexplain the significance of figure X in this paper\"\n",
    ")"
   ]
  },
  {
   "cell_type": "markdown",
   "metadata": {},
   "source": [
    "## 4. Data Analysis\n",
    "\n",
    "Let's examine the generated questions manually first:"
   ]
  },
  {
   "cell_type": "code",
   "execution_count": 29,
   "metadata": {},
   "outputs": [
    {
     "name": "stdout",
     "output_type": "stream",
     "text": [
      "\n",
      "Total number of questions: 214\n",
      "\n",
      "Example queries:\n",
      "1. summarize the evaluation approach used for testing GPT-4 models\n",
      "2. details on the evaluation methodology for few-shot learning in this study\n",
      "3. compare the accuracy metrics across different model sizes for the HellaSwag and LAMBADA tasks\n",
      "4. analysis of contamination effects on LAMBADA dataset performance\n",
      "5. details on the evaluation conditions for GPT-3's in-context learning abilities\n"
     ]
    }
   ],
   "source": [
    "# Convert to DataFrame for easier analysis\n",
    "eval_df = pd.DataFrame(results)\n",
    "\n",
    "# Basic statistics\n",
    "print(f\"\\nTotal number of questions: {len(eval_df)}\")\n",
    "\n",
    "# Display some example queries\n",
    "print(\"\\nExample queries:\")\n",
    "for i, query in enumerate(eval_df['query'].sample(5).values):\n",
    "    print(f\"{i+1}. {query}\")"
   ]
  },
  {
   "cell_type": "markdown",
   "metadata": {},
   "source": [
    "We can see that the queries are diverse and even look like real questions that a user might ask in production. Ideally, you would have real production data to provide as seed examples in the data_simulator library, but this is a good start. Now, let's evaluate the diversity of the generated questions. This is important because a varied dataset helps us test our RAG system's ability to handle different types of queries."
   ]
  },
  {
   "cell_type": "code",
   "execution_count": 27,
   "metadata": {},
   "outputs": [
    {
     "data": {
      "image/png": "[encoded data removed]",
      "text/plain": [
       "<Figure size 1000x600 with 1 Axes>"
      ]
     },
     "metadata": {},
     "output_type": "display_data"
    }
   ],
   "source": [
    "# Analyze semantic diversity using embeddings\n",
    "model = SentenceTransformer('all-MiniLM-L6-v2')\n",
    "eval_df['embedding'] = eval_df['query'].apply(lambda x: model.encode(x))\n",
    "\n",
    "# Calculate pairwise similarities\n",
    "embeddings = np.array(eval_df['embedding'].tolist())\n",
    "similarities = cosine_similarity(embeddings)\n",
    "\n",
    "# Get upper triangle values (excluding diagonal)\n",
    "mask = np.triu_indices(len(similarities), k=1)\n",
    "upper_tri_similarities = similarities[mask]\n",
    "\n",
    "# Plot histogram of similarities\n",
    "plt.figure(figsize=(10, 6))\n",
    "plt.hist(upper_tri_similarities, bins=30, alpha=0.7)\n",
    "plt.title('Distribution of Question Similarities')\n",
    "plt.xlabel('Cosine Similarity')\n",
    "plt.ylabel('Count')\n",
    "plt.axvline(x=np.mean(upper_tri_similarities), color='r', linestyle='--', \n",
    "            label=f'Mean: {np.mean(upper_tri_similarities):.3f}')\n",
    "plt.legend()\n",
    "plt.show()"
   ]
  },
  {
   "cell_type": "markdown",
   "metadata": {},
   "source": [
    "The histogram shows the distribution of pairwise similarities between our generated questions. A lower mean similarity indicates greater diversity:\n",
    "\n",
    "- Mean < 0.3: Excellent diversity, questions cover many different topics and formats\n",
    "- Mean 0.3-0.5: Good diversity, some question patterns may be repeated\n",
    "- Mean > 0.5: Limited diversity, questions may be too similar\n",
    "\n",
    "Our dataset shows a mean similarity of approximately 0.224, indicating excellent diversity in the generated questions. If the queries in your synthetic dataset are too similar, you may want to adjust the context or example queries to generate more diverse questions."
   ]
  },
  {
   "cell_type": "markdown",
   "metadata": {},
   "source": [
    "## 5. Save the Evaluation Set\n",
    "\n",
    "Now that we've analyzed our dataset and confirmed its quality, let's save it for future use."
   ]
  },
  {
   "cell_type": "code",
   "execution_count": 28,
   "metadata": {},
   "outputs": [],
   "source": [
    "# Save the full evaluation dataset\n",
    "eval_file = f\"{EVAL_DIR}/evalset.json\"\n",
    "with open(eval_file, 'w') as f:\n",
    "    json.dump(results, f, indent=2)"
   ]
  },
  {
   "cell_type": "markdown",
   "metadata": {},
   "source": [
    "## 6. Next Steps\n",
    "\n",
    "This synthetic dataset gives us a great starting point for evaluating our RAG Agent, but keep in mind that real-world usage is the ultimate test. While our generated queries help us establish a baseline, actual user interactions will reveal patterns and edge cases we might never anticipate. In the next notebook, we'll:\n",
    "\n",
    "- Build a complete RAG Agent that can answer questions about our collection of GPT papers\n",
    "- Implement a re-retrieval mechanism when initial results aren't sufficient\n",
    "- Systematically evaluate the agent's performance using our synthetic dataset\n",
    "- Establish a framework for continuous improvement based on evaluation results\n",
    "\n",
    "This systematic approach not only helps us build a more robust RAG system from the start but also creates a foundation for ongoing refinement. The goal is to create an evaluation pipeline that evolves alongside your application, incorporating new user queries and feedback to ensure your RAG system keeps getting better over time. Remember that evaluation isn't a one-time task but an integral part of the RAG development lifecycle. The insights we gain from testing against our synthetic dataset will inform design decisions and highlight areas for improvement before we deploy to real users."
   ]
  }
 ],
 "metadata": {
  "kernelspec": {
   "display_name": "venv",
   "language": "python",
   "name": "python3"
  },
  "language_info": {
   "codemirror_mode": {
    "name": "ipython",
    "version": 3
   },
   "file_extension": ".py",
   "mimetype": "text/x-python",
   "name": "python",
   "nbconvert_exporter": "python",
   "pygments_lexer": "ipython3",
   "version": "3.13.3"
  }
 },
 "nbformat": 4,
 "nbformat_minor": 2
}
