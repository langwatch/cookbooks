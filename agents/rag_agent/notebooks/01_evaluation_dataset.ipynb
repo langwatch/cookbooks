{
 "cells": [
  {
   "cell_type": "markdown",
   "metadata": {},
   "source": [
    "# Notebook 1: Synthetic Evaluation Dataset\n",
    "\n",
    "## Overview\n",
    "\n",
    "In large-scale RAG applications, manually reviewing thousands of user queries isn't feasible. We need systematic ways to evaluate our system's performance with representative test data. By generating high-quality synthetic datasets, we can:\n",
    "\n",
    "1. Benchmark retrieval performance across different configurations\n",
    "2. Identify blind spots in our system before deploying to users\n",
    "3. Create reproducible evaluation workflows for continuous improvement\n",
    "\n",
    "This notebook walks you through creating a synthetic dataset of queries, documents, and answers based on academic papers that will help you systematically evaluate and improve your RAG Agent."
   ]
  },
  {
   "cell_type": "markdown",
   "metadata": {},
   "source": [
    "## Setup\n",
    "\n",
    "First, let's install the necessary libraries:"
   ]
  },
  {
   "cell_type": "code",
   "execution_count": 39,
   "metadata": {},
   "outputs": [
    {
     "name": "stderr",
     "output_type": "stream",
     "text": [
      "huggingface/tokenizers: The current process just got forked, after parallelism has already been used. Disabling parallelism to avoid deadlocks...\n",
      "To disable this warning, you can either:\n",
      "\t- Avoid using `tokenizers` before the fork if possible\n",
      "\t- Explicitly set the environment variable TOKENIZERS_PARALLELISM=(true | false)\n"
     ]
    },
    {
     "name": "stdout",
     "output_type": "stream",
     "text": [
      "Requirement already satisfied: openai in /Users/tahmidtapadar/Documents/cookbooks/venv/lib/python3.13/site-packages (1.74.0)\n",
      "Requirement already satisfied: llm-data-simulator in /Users/tahmidtapadar/Documents/cookbooks/venv/lib/python3.13/site-packages (0.1.0)\n",
      "Requirement already satisfied: chromadb in /Users/tahmidtapadar/Documents/cookbooks/venv/lib/python3.13/site-packages (1.0.4)\n",
      "Requirement already satisfied: sentence_transformers in /Users/tahmidtapadar/Documents/cookbooks/venv/lib/python3.13/site-packages (4.0.2)\n",
      "Requirement already satisfied: pandas in /Users/tahmidtapadar/Documents/cookbooks/venv/lib/python3.13/site-packages (2.2.3)\n",
      "Requirement already satisfied: matplotlib in /Users/tahmidtapadar/Documents/cookbooks/venv/lib/python3.13/site-packages (3.10.1)\n",
      "Requirement already satisfied: anyio<5,>=3.5.0 in /Users/tahmidtapadar/Documents/cookbooks/venv/lib/python3.13/site-packages (from openai) (4.9.0)\n",
      "Requirement already satisfied: distro<2,>=1.7.0 in /Users/tahmidtapadar/Documents/cookbooks/venv/lib/python3.13/site-packages (from openai) (1.9.0)\n",
      "Requirement already satisfied: httpx<1,>=0.23.0 in /Users/tahmidtapadar/Documents/cookbooks/venv/lib/python3.13/site-packages (from openai) (0.28.1)\n",
      "Requirement already satisfied: jiter<1,>=0.4.0 in /Users/tahmidtapadar/Documents/cookbooks/venv/lib/python3.13/site-packages (from openai) (0.9.0)\n",
      "Requirement already satisfied: pydantic<3,>=1.9.0 in /Users/tahmidtapadar/Documents/cookbooks/venv/lib/python3.13/site-packages (from openai) (2.11.3)\n",
      "Requirement already satisfied: sniffio in /Users/tahmidtapadar/Documents/cookbooks/venv/lib/python3.13/site-packages (from openai) (1.3.1)\n",
      "Requirement already satisfied: tqdm>4 in /Users/tahmidtapadar/Documents/cookbooks/venv/lib/python3.13/site-packages (from openai) (4.67.1)\n",
      "Requirement already satisfied: typing-extensions<5,>=4.11 in /Users/tahmidtapadar/Documents/cookbooks/venv/lib/python3.13/site-packages (from openai) (4.13.2)\n",
      "Requirement already satisfied: python-dotenv in /Users/tahmidtapadar/Documents/cookbooks/venv/lib/python3.13/site-packages (from llm-data-simulator) (1.1.0)\n",
      "Requirement already satisfied: langchain_community in /Users/tahmidtapadar/Documents/cookbooks/venv/lib/python3.13/site-packages (from llm-data-simulator) (0.3.21)\n",
      "Requirement already satisfied: langchain in /Users/tahmidtapadar/Documents/cookbooks/venv/lib/python3.13/site-packages (from llm-data-simulator) (0.3.23)\n",
      "Requirement already satisfied: pypdf in /Users/tahmidtapadar/Documents/cookbooks/venv/lib/python3.13/site-packages (from llm-data-simulator) (5.4.0)\n",
      "Requirement already satisfied: build>=1.0.3 in /Users/tahmidtapadar/Documents/cookbooks/venv/lib/python3.13/site-packages (from chromadb) (1.2.2.post1)\n",
      "Requirement already satisfied: chroma-hnswlib==0.7.6 in /Users/tahmidtapadar/Documents/cookbooks/venv/lib/python3.13/site-packages (from chromadb) (0.7.6)\n",
      "Requirement already satisfied: fastapi==0.115.9 in /Users/tahmidtapadar/Documents/cookbooks/venv/lib/python3.13/site-packages (from chromadb) (0.115.9)\n",
      "Requirement already satisfied: uvicorn>=0.18.3 in /Users/tahmidtapadar/Documents/cookbooks/venv/lib/python3.13/site-packages (from uvicorn[standard]>=0.18.3->chromadb) (0.34.1)\n",
      "Requirement already satisfied: numpy>=1.22.5 in /Users/tahmidtapadar/Documents/cookbooks/venv/lib/python3.13/site-packages (from chromadb) (2.2.4)\n",
      "Requirement already satisfied: posthog>=2.4.0 in /Users/tahmidtapadar/Documents/cookbooks/venv/lib/python3.13/site-packages (from chromadb) (3.24.1)\n",
      "Requirement already satisfied: onnxruntime>=1.14.1 in /Users/tahmidtapadar/Documents/cookbooks/venv/lib/python3.13/site-packages (from chromadb) (1.21.0)\n",
      "Requirement already satisfied: opentelemetry-api>=1.2.0 in /Users/tahmidtapadar/Documents/cookbooks/venv/lib/python3.13/site-packages (from chromadb) (1.32.0)\n",
      "Requirement already satisfied: opentelemetry-exporter-otlp-proto-grpc>=1.2.0 in /Users/tahmidtapadar/Documents/cookbooks/venv/lib/python3.13/site-packages (from chromadb) (1.32.0)\n",
      "Requirement already satisfied: opentelemetry-instrumentation-fastapi>=0.41b0 in /Users/tahmidtapadar/Documents/cookbooks/venv/lib/python3.13/site-packages (from chromadb) (0.53b0)\n",
      "Requirement already satisfied: opentelemetry-sdk>=1.2.0 in /Users/tahmidtapadar/Documents/cookbooks/venv/lib/python3.13/site-packages (from chromadb) (1.32.0)\n",
      "Requirement already satisfied: tokenizers>=0.13.2 in /Users/tahmidtapadar/Documents/cookbooks/venv/lib/python3.13/site-packages (from chromadb) (0.21.1)\n",
      "Requirement already satisfied: pypika>=0.48.9 in /Users/tahmidtapadar/Documents/cookbooks/venv/lib/python3.13/site-packages (from chromadb) (0.48.9)\n",
      "Requirement already satisfied: overrides>=7.3.1 in /Users/tahmidtapadar/Documents/cookbooks/venv/lib/python3.13/site-packages (from chromadb) (7.7.0)\n",
      "Requirement already satisfied: importlib-resources in /Users/tahmidtapadar/Documents/cookbooks/venv/lib/python3.13/site-packages (from chromadb) (6.5.2)\n",
      "Requirement already satisfied: grpcio>=1.58.0 in /Users/tahmidtapadar/Documents/cookbooks/venv/lib/python3.13/site-packages (from chromadb) (1.71.0)\n",
      "Requirement already satisfied: bcrypt>=4.0.1 in /Users/tahmidtapadar/Documents/cookbooks/venv/lib/python3.13/site-packages (from chromadb) (4.3.0)\n",
      "Requirement already satisfied: typer>=0.9.0 in /Users/tahmidtapadar/Documents/cookbooks/venv/lib/python3.13/site-packages (from chromadb) (0.15.2)\n",
      "Requirement already satisfied: kubernetes>=28.1.0 in /Users/tahmidtapadar/Documents/cookbooks/venv/lib/python3.13/site-packages (from chromadb) (32.0.1)\n",
      "Requirement already satisfied: tenacity>=8.2.3 in /Users/tahmidtapadar/Documents/cookbooks/venv/lib/python3.13/site-packages (from chromadb) (9.1.2)\n",
      "Requirement already satisfied: pyyaml>=6.0.0 in /Users/tahmidtapadar/Documents/cookbooks/venv/lib/python3.13/site-packages (from chromadb) (6.0.2)\n",
      "Requirement already satisfied: mmh3>=4.0.1 in /Users/tahmidtapadar/Documents/cookbooks/venv/lib/python3.13/site-packages (from chromadb) (5.1.0)\n",
      "Requirement already satisfied: orjson>=3.9.12 in /Users/tahmidtapadar/Documents/cookbooks/venv/lib/python3.13/site-packages (from chromadb) (3.10.16)\n",
      "Requirement already satisfied: rich>=10.11.0 in /Users/tahmidtapadar/Documents/cookbooks/venv/lib/python3.13/site-packages (from chromadb) (14.0.0)\n",
      "Requirement already satisfied: jsonschema>=4.19.0 in /Users/tahmidtapadar/Documents/cookbooks/venv/lib/python3.13/site-packages (from chromadb) (4.23.0)\n",
      "Requirement already satisfied: starlette<0.46.0,>=0.40.0 in /Users/tahmidtapadar/Documents/cookbooks/venv/lib/python3.13/site-packages (from fastapi==0.115.9->chromadb) (0.45.3)\n",
      "Requirement already satisfied: transformers<5.0.0,>=4.41.0 in /Users/tahmidtapadar/Documents/cookbooks/venv/lib/python3.13/site-packages (from sentence_transformers) (4.51.3)\n",
      "Requirement already satisfied: torch>=1.11.0 in /Users/tahmidtapadar/Documents/cookbooks/venv/lib/python3.13/site-packages (from sentence_transformers) (2.6.0)\n",
      "Requirement already satisfied: scikit-learn in /Users/tahmidtapadar/Documents/cookbooks/venv/lib/python3.13/site-packages (from sentence_transformers) (1.6.1)\n",
      "Requirement already satisfied: scipy in /Users/tahmidtapadar/Documents/cookbooks/venv/lib/python3.13/site-packages (from sentence_transformers) (1.15.2)\n",
      "Requirement already satisfied: huggingface-hub>=0.20.0 in /Users/tahmidtapadar/Documents/cookbooks/venv/lib/python3.13/site-packages (from sentence_transformers) (0.30.2)\n",
      "Requirement already satisfied: Pillow in /Users/tahmidtapadar/Documents/cookbooks/venv/lib/python3.13/site-packages (from sentence_transformers) (11.2.1)\n",
      "Requirement already satisfied: python-dateutil>=2.8.2 in /Users/tahmidtapadar/Documents/cookbooks/venv/lib/python3.13/site-packages (from pandas) (2.9.0.post0)\n",
      "Requirement already satisfied: pytz>=2020.1 in /Users/tahmidtapadar/Documents/cookbooks/venv/lib/python3.13/site-packages (from pandas) (2025.2)\n",
      "Requirement already satisfied: tzdata>=2022.7 in /Users/tahmidtapadar/Documents/cookbooks/venv/lib/python3.13/site-packages (from pandas) (2025.2)\n",
      "Requirement already satisfied: contourpy>=1.0.1 in /Users/tahmidtapadar/Documents/cookbooks/venv/lib/python3.13/site-packages (from matplotlib) (1.3.2)\n",
      "Requirement already satisfied: cycler>=0.10 in /Users/tahmidtapadar/Documents/cookbooks/venv/lib/python3.13/site-packages (from matplotlib) (0.12.1)\n",
      "Requirement already satisfied: fonttools>=4.22.0 in /Users/tahmidtapadar/Documents/cookbooks/venv/lib/python3.13/site-packages (from matplotlib) (4.57.0)\n",
      "Requirement already satisfied: kiwisolver>=1.3.1 in /Users/tahmidtapadar/Documents/cookbooks/venv/lib/python3.13/site-packages (from matplotlib) (1.4.8)\n",
      "Requirement already satisfied: packaging>=20.0 in /Users/tahmidtapadar/Documents/cookbooks/venv/lib/python3.13/site-packages (from matplotlib) (24.2)\n",
      "Requirement already satisfied: pyparsing>=2.3.1 in /Users/tahmidtapadar/Documents/cookbooks/venv/lib/python3.13/site-packages (from matplotlib) (3.2.3)\n",
      "Requirement already satisfied: idna>=2.8 in /Users/tahmidtapadar/Documents/cookbooks/venv/lib/python3.13/site-packages (from anyio<5,>=3.5.0->openai) (3.10)\n",
      "Requirement already satisfied: pyproject_hooks in /Users/tahmidtapadar/Documents/cookbooks/venv/lib/python3.13/site-packages (from build>=1.0.3->chromadb) (1.2.0)\n",
      "Requirement already satisfied: certifi in /Users/tahmidtapadar/Documents/cookbooks/venv/lib/python3.13/site-packages (from httpx<1,>=0.23.0->openai) (2025.1.31)\n",
      "Requirement already satisfied: httpcore==1.* in /Users/tahmidtapadar/Documents/cookbooks/venv/lib/python3.13/site-packages (from httpx<1,>=0.23.0->openai) (1.0.8)\n",
      "Requirement already satisfied: h11<0.15,>=0.13 in /Users/tahmidtapadar/Documents/cookbooks/venv/lib/python3.13/site-packages (from httpcore==1.*->httpx<1,>=0.23.0->openai) (0.14.0)\n",
      "Requirement already satisfied: filelock in /Users/tahmidtapadar/Documents/cookbooks/venv/lib/python3.13/site-packages (from huggingface-hub>=0.20.0->sentence_transformers) (3.18.0)\n",
      "Requirement already satisfied: fsspec>=2023.5.0 in /Users/tahmidtapadar/Documents/cookbooks/venv/lib/python3.13/site-packages (from huggingface-hub>=0.20.0->sentence_transformers) (2025.3.2)\n",
      "Requirement already satisfied: requests in /Users/tahmidtapadar/Documents/cookbooks/venv/lib/python3.13/site-packages (from huggingface-hub>=0.20.0->sentence_transformers) (2.32.3)\n",
      "Requirement already satisfied: attrs>=22.2.0 in /Users/tahmidtapadar/Documents/cookbooks/venv/lib/python3.13/site-packages (from jsonschema>=4.19.0->chromadb) (25.3.0)\n",
      "Requirement already satisfied: jsonschema-specifications>=2023.03.6 in /Users/tahmidtapadar/Documents/cookbooks/venv/lib/python3.13/site-packages (from jsonschema>=4.19.0->chromadb) (2024.10.1)\n",
      "Requirement already satisfied: referencing>=0.28.4 in /Users/tahmidtapadar/Documents/cookbooks/venv/lib/python3.13/site-packages (from jsonschema>=4.19.0->chromadb) (0.36.2)\n",
      "Requirement already satisfied: rpds-py>=0.7.1 in /Users/tahmidtapadar/Documents/cookbooks/venv/lib/python3.13/site-packages (from jsonschema>=4.19.0->chromadb) (0.24.0)\n",
      "Requirement already satisfied: six>=1.9.0 in /Users/tahmidtapadar/Documents/cookbooks/venv/lib/python3.13/site-packages (from kubernetes>=28.1.0->chromadb) (1.17.0)\n",
      "Requirement already satisfied: google-auth>=1.0.1 in /Users/tahmidtapadar/Documents/cookbooks/venv/lib/python3.13/site-packages (from kubernetes>=28.1.0->chromadb) (2.39.0)\n",
      "Requirement already satisfied: websocket-client!=0.40.0,!=0.41.*,!=0.42.*,>=0.32.0 in /Users/tahmidtapadar/Documents/cookbooks/venv/lib/python3.13/site-packages (from kubernetes>=28.1.0->chromadb) (1.8.0)\n",
      "Requirement already satisfied: requests-oauthlib in /Users/tahmidtapadar/Documents/cookbooks/venv/lib/python3.13/site-packages (from kubernetes>=28.1.0->chromadb) (2.0.0)\n",
      "Requirement already satisfied: oauthlib>=3.2.2 in /Users/tahmidtapadar/Documents/cookbooks/venv/lib/python3.13/site-packages (from kubernetes>=28.1.0->chromadb) (3.2.2)\n",
      "Requirement already satisfied: urllib3>=1.24.2 in /Users/tahmidtapadar/Documents/cookbooks/venv/lib/python3.13/site-packages (from kubernetes>=28.1.0->chromadb) (2.4.0)\n",
      "Requirement already satisfied: durationpy>=0.7 in /Users/tahmidtapadar/Documents/cookbooks/venv/lib/python3.13/site-packages (from kubernetes>=28.1.0->chromadb) (0.9)\n",
      "Requirement already satisfied: coloredlogs in /Users/tahmidtapadar/Documents/cookbooks/venv/lib/python3.13/site-packages (from onnxruntime>=1.14.1->chromadb) (15.0.1)\n",
      "Requirement already satisfied: flatbuffers in /Users/tahmidtapadar/Documents/cookbooks/venv/lib/python3.13/site-packages (from onnxruntime>=1.14.1->chromadb) (25.2.10)\n",
      "Requirement already satisfied: protobuf in /Users/tahmidtapadar/Documents/cookbooks/venv/lib/python3.13/site-packages (from onnxruntime>=1.14.1->chromadb) (5.29.4)\n",
      "Requirement already satisfied: sympy in /Users/tahmidtapadar/Documents/cookbooks/venv/lib/python3.13/site-packages (from onnxruntime>=1.14.1->chromadb) (1.13.1)\n",
      "Requirement already satisfied: deprecated>=1.2.6 in /Users/tahmidtapadar/Documents/cookbooks/venv/lib/python3.13/site-packages (from opentelemetry-api>=1.2.0->chromadb) (1.2.18)\n",
      "Requirement already satisfied: importlib-metadata<8.7.0,>=6.0 in /Users/tahmidtapadar/Documents/cookbooks/venv/lib/python3.13/site-packages (from opentelemetry-api>=1.2.0->chromadb) (8.6.1)\n",
      "Requirement already satisfied: googleapis-common-protos~=1.52 in /Users/tahmidtapadar/Documents/cookbooks/venv/lib/python3.13/site-packages (from opentelemetry-exporter-otlp-proto-grpc>=1.2.0->chromadb) (1.70.0)\n",
      "Requirement already satisfied: opentelemetry-exporter-otlp-proto-common==1.32.0 in /Users/tahmidtapadar/Documents/cookbooks/venv/lib/python3.13/site-packages (from opentelemetry-exporter-otlp-proto-grpc>=1.2.0->chromadb) (1.32.0)\n",
      "Requirement already satisfied: opentelemetry-proto==1.32.0 in /Users/tahmidtapadar/Documents/cookbooks/venv/lib/python3.13/site-packages (from opentelemetry-exporter-otlp-proto-grpc>=1.2.0->chromadb) (1.32.0)\n",
      "Requirement already satisfied: opentelemetry-instrumentation-asgi==0.53b0 in /Users/tahmidtapadar/Documents/cookbooks/venv/lib/python3.13/site-packages (from opentelemetry-instrumentation-fastapi>=0.41b0->chromadb) (0.53b0)\n",
      "Requirement already satisfied: opentelemetry-instrumentation==0.53b0 in /Users/tahmidtapadar/Documents/cookbooks/venv/lib/python3.13/site-packages (from opentelemetry-instrumentation-fastapi>=0.41b0->chromadb) (0.53b0)\n",
      "Requirement already satisfied: opentelemetry-semantic-conventions==0.53b0 in /Users/tahmidtapadar/Documents/cookbooks/venv/lib/python3.13/site-packages (from opentelemetry-instrumentation-fastapi>=0.41b0->chromadb) (0.53b0)\n",
      "Requirement already satisfied: opentelemetry-util-http==0.53b0 in /Users/tahmidtapadar/Documents/cookbooks/venv/lib/python3.13/site-packages (from opentelemetry-instrumentation-fastapi>=0.41b0->chromadb) (0.53b0)\n",
      "Requirement already satisfied: wrapt<2.0.0,>=1.0.0 in /Users/tahmidtapadar/Documents/cookbooks/venv/lib/python3.13/site-packages (from opentelemetry-instrumentation==0.53b0->opentelemetry-instrumentation-fastapi>=0.41b0->chromadb) (1.17.2)\n",
      "Requirement already satisfied: asgiref~=3.0 in /Users/tahmidtapadar/Documents/cookbooks/venv/lib/python3.13/site-packages (from opentelemetry-instrumentation-asgi==0.53b0->opentelemetry-instrumentation-fastapi>=0.41b0->chromadb) (3.8.1)\n",
      "Requirement already satisfied: monotonic>=1.5 in /Users/tahmidtapadar/Documents/cookbooks/venv/lib/python3.13/site-packages (from posthog>=2.4.0->chromadb) (1.6)\n",
      "Requirement already satisfied: backoff>=1.10.0 in /Users/tahmidtapadar/Documents/cookbooks/venv/lib/python3.13/site-packages (from posthog>=2.4.0->chromadb) (2.2.1)\n",
      "Requirement already satisfied: annotated-types>=0.6.0 in /Users/tahmidtapadar/Documents/cookbooks/venv/lib/python3.13/site-packages (from pydantic<3,>=1.9.0->openai) (0.7.0)\n",
      "Requirement already satisfied: pydantic-core==2.33.1 in /Users/tahmidtapadar/Documents/cookbooks/venv/lib/python3.13/site-packages (from pydantic<3,>=1.9.0->openai) (2.33.1)\n",
      "Requirement already satisfied: typing-inspection>=0.4.0 in /Users/tahmidtapadar/Documents/cookbooks/venv/lib/python3.13/site-packages (from pydantic<3,>=1.9.0->openai) (0.4.0)\n",
      "Requirement already satisfied: markdown-it-py>=2.2.0 in /Users/tahmidtapadar/Documents/cookbooks/venv/lib/python3.13/site-packages (from rich>=10.11.0->chromadb) (3.0.0)\n",
      "Requirement already satisfied: pygments<3.0.0,>=2.13.0 in /Users/tahmidtapadar/Documents/cookbooks/venv/lib/python3.13/site-packages (from rich>=10.11.0->chromadb) (2.19.1)\n",
      "Requirement already satisfied: networkx in /Users/tahmidtapadar/Documents/cookbooks/venv/lib/python3.13/site-packages (from torch>=1.11.0->sentence_transformers) (3.4.2)\n",
      "Requirement already satisfied: jinja2 in /Users/tahmidtapadar/Documents/cookbooks/venv/lib/python3.13/site-packages (from torch>=1.11.0->sentence_transformers) (3.1.6)\n",
      "Requirement already satisfied: setuptools in /Users/tahmidtapadar/Documents/cookbooks/venv/lib/python3.13/site-packages (from torch>=1.11.0->sentence_transformers) (78.1.0)\n",
      "Requirement already satisfied: mpmath<1.4,>=1.1.0 in /Users/tahmidtapadar/Documents/cookbooks/venv/lib/python3.13/site-packages (from sympy->onnxruntime>=1.14.1->chromadb) (1.3.0)\n",
      "Requirement already satisfied: regex!=2019.12.17 in /Users/tahmidtapadar/Documents/cookbooks/venv/lib/python3.13/site-packages (from transformers<5.0.0,>=4.41.0->sentence_transformers) (2024.11.6)\n",
      "Requirement already satisfied: safetensors>=0.4.3 in /Users/tahmidtapadar/Documents/cookbooks/venv/lib/python3.13/site-packages (from transformers<5.0.0,>=4.41.0->sentence_transformers) (0.5.3)\n",
      "Requirement already satisfied: click>=8.0.0 in /Users/tahmidtapadar/Documents/cookbooks/venv/lib/python3.13/site-packages (from typer>=0.9.0->chromadb) (8.1.8)\n",
      "Requirement already satisfied: shellingham>=1.3.0 in /Users/tahmidtapadar/Documents/cookbooks/venv/lib/python3.13/site-packages (from typer>=0.9.0->chromadb) (1.5.4)\n",
      "Requirement already satisfied: httptools>=0.6.3 in /Users/tahmidtapadar/Documents/cookbooks/venv/lib/python3.13/site-packages (from uvicorn[standard]>=0.18.3->chromadb) (0.6.4)\n",
      "Requirement already satisfied: uvloop!=0.15.0,!=0.15.1,>=0.14.0 in /Users/tahmidtapadar/Documents/cookbooks/venv/lib/python3.13/site-packages (from uvicorn[standard]>=0.18.3->chromadb) (0.21.0)\n",
      "Requirement already satisfied: watchfiles>=0.13 in /Users/tahmidtapadar/Documents/cookbooks/venv/lib/python3.13/site-packages (from uvicorn[standard]>=0.18.3->chromadb) (1.0.5)\n",
      "Requirement already satisfied: websockets>=10.4 in /Users/tahmidtapadar/Documents/cookbooks/venv/lib/python3.13/site-packages (from uvicorn[standard]>=0.18.3->chromadb) (15.0.1)\n",
      "Requirement already satisfied: langchain-core<1.0.0,>=0.3.51 in /Users/tahmidtapadar/Documents/cookbooks/venv/lib/python3.13/site-packages (from langchain->llm-data-simulator) (0.3.51)\n",
      "Requirement already satisfied: langchain-text-splitters<1.0.0,>=0.3.8 in /Users/tahmidtapadar/Documents/cookbooks/venv/lib/python3.13/site-packages (from langchain->llm-data-simulator) (0.3.8)\n",
      "Requirement already satisfied: langsmith<0.4,>=0.1.17 in /Users/tahmidtapadar/Documents/cookbooks/venv/lib/python3.13/site-packages (from langchain->llm-data-simulator) (0.3.31)\n",
      "Requirement already satisfied: SQLAlchemy<3,>=1.4 in /Users/tahmidtapadar/Documents/cookbooks/venv/lib/python3.13/site-packages (from langchain->llm-data-simulator) (2.0.40)\n",
      "Requirement already satisfied: aiohttp<4.0.0,>=3.8.3 in /Users/tahmidtapadar/Documents/cookbooks/venv/lib/python3.13/site-packages (from langchain_community->llm-data-simulator) (3.11.16)\n",
      "Requirement already satisfied: dataclasses-json<0.7,>=0.5.7 in /Users/tahmidtapadar/Documents/cookbooks/venv/lib/python3.13/site-packages (from langchain_community->llm-data-simulator) (0.6.7)\n",
      "Requirement already satisfied: pydantic-settings<3.0.0,>=2.4.0 in /Users/tahmidtapadar/Documents/cookbooks/venv/lib/python3.13/site-packages (from langchain_community->llm-data-simulator) (2.8.1)\n",
      "Requirement already satisfied: httpx-sse<1.0.0,>=0.4.0 in /Users/tahmidtapadar/Documents/cookbooks/venv/lib/python3.13/site-packages (from langchain_community->llm-data-simulator) (0.4.0)\n",
      "Requirement already satisfied: joblib>=1.2.0 in /Users/tahmidtapadar/Documents/cookbooks/venv/lib/python3.13/site-packages (from scikit-learn->sentence_transformers) (1.4.2)\n",
      "Requirement already satisfied: threadpoolctl>=3.1.0 in /Users/tahmidtapadar/Documents/cookbooks/venv/lib/python3.13/site-packages (from scikit-learn->sentence_transformers) (3.6.0)\n",
      "Requirement already satisfied: aiohappyeyeballs>=2.3.0 in /Users/tahmidtapadar/Documents/cookbooks/venv/lib/python3.13/site-packages (from aiohttp<4.0.0,>=3.8.3->langchain_community->llm-data-simulator) (2.6.1)\n",
      "Requirement already satisfied: aiosignal>=1.1.2 in /Users/tahmidtapadar/Documents/cookbooks/venv/lib/python3.13/site-packages (from aiohttp<4.0.0,>=3.8.3->langchain_community->llm-data-simulator) (1.3.2)\n",
      "Requirement already satisfied: frozenlist>=1.1.1 in /Users/tahmidtapadar/Documents/cookbooks/venv/lib/python3.13/site-packages (from aiohttp<4.0.0,>=3.8.3->langchain_community->llm-data-simulator) (1.5.0)\n",
      "Requirement already satisfied: multidict<7.0,>=4.5 in /Users/tahmidtapadar/Documents/cookbooks/venv/lib/python3.13/site-packages (from aiohttp<4.0.0,>=3.8.3->langchain_community->llm-data-simulator) (6.4.3)\n",
      "Requirement already satisfied: propcache>=0.2.0 in /Users/tahmidtapadar/Documents/cookbooks/venv/lib/python3.13/site-packages (from aiohttp<4.0.0,>=3.8.3->langchain_community->llm-data-simulator) (0.3.1)\n",
      "Requirement already satisfied: yarl<2.0,>=1.17.0 in /Users/tahmidtapadar/Documents/cookbooks/venv/lib/python3.13/site-packages (from aiohttp<4.0.0,>=3.8.3->langchain_community->llm-data-simulator) (1.19.0)\n",
      "Requirement already satisfied: marshmallow<4.0.0,>=3.18.0 in /Users/tahmidtapadar/Documents/cookbooks/venv/lib/python3.13/site-packages (from dataclasses-json<0.7,>=0.5.7->langchain_community->llm-data-simulator) (3.26.1)\n",
      "Requirement already satisfied: typing-inspect<1,>=0.4.0 in /Users/tahmidtapadar/Documents/cookbooks/venv/lib/python3.13/site-packages (from dataclasses-json<0.7,>=0.5.7->langchain_community->llm-data-simulator) (0.9.0)\n",
      "Requirement already satisfied: cachetools<6.0,>=2.0.0 in /Users/tahmidtapadar/Documents/cookbooks/venv/lib/python3.13/site-packages (from google-auth>=1.0.1->kubernetes>=28.1.0->chromadb) (5.5.2)\n",
      "Requirement already satisfied: pyasn1-modules>=0.2.1 in /Users/tahmidtapadar/Documents/cookbooks/venv/lib/python3.13/site-packages (from google-auth>=1.0.1->kubernetes>=28.1.0->chromadb) (0.4.2)\n",
      "Requirement already satisfied: rsa<5,>=3.1.4 in /Users/tahmidtapadar/Documents/cookbooks/venv/lib/python3.13/site-packages (from google-auth>=1.0.1->kubernetes>=28.1.0->chromadb) (4.9)\n",
      "Requirement already satisfied: zipp>=3.20 in /Users/tahmidtapadar/Documents/cookbooks/venv/lib/python3.13/site-packages (from importlib-metadata<8.7.0,>=6.0->opentelemetry-api>=1.2.0->chromadb) (3.21.0)\n",
      "Requirement already satisfied: jsonpatch<2.0,>=1.33 in /Users/tahmidtapadar/Documents/cookbooks/venv/lib/python3.13/site-packages (from langchain-core<1.0.0,>=0.3.51->langchain->llm-data-simulator) (1.33)\n",
      "Requirement already satisfied: requests-toolbelt<2.0.0,>=1.0.0 in /Users/tahmidtapadar/Documents/cookbooks/venv/lib/python3.13/site-packages (from langsmith<0.4,>=0.1.17->langchain->llm-data-simulator) (1.0.0)\n",
      "Requirement already satisfied: zstandard<0.24.0,>=0.23.0 in /Users/tahmidtapadar/Documents/cookbooks/venv/lib/python3.13/site-packages (from langsmith<0.4,>=0.1.17->langchain->llm-data-simulator) (0.23.0)\n",
      "Requirement already satisfied: mdurl~=0.1 in /Users/tahmidtapadar/Documents/cookbooks/venv/lib/python3.13/site-packages (from markdown-it-py>=2.2.0->rich>=10.11.0->chromadb) (0.1.2)\n",
      "Requirement already satisfied: charset-normalizer<4,>=2 in /Users/tahmidtapadar/Documents/cookbooks/venv/lib/python3.13/site-packages (from requests->huggingface-hub>=0.20.0->sentence_transformers) (3.4.1)\n",
      "Requirement already satisfied: humanfriendly>=9.1 in /Users/tahmidtapadar/Documents/cookbooks/venv/lib/python3.13/site-packages (from coloredlogs->onnxruntime>=1.14.1->chromadb) (10.0)\n",
      "Requirement already satisfied: MarkupSafe>=2.0 in /Users/tahmidtapadar/Documents/cookbooks/venv/lib/python3.13/site-packages (from jinja2->torch>=1.11.0->sentence_transformers) (3.0.2)\n",
      "Requirement already satisfied: jsonpointer>=1.9 in /Users/tahmidtapadar/Documents/cookbooks/venv/lib/python3.13/site-packages (from jsonpatch<2.0,>=1.33->langchain-core<1.0.0,>=0.3.51->langchain->llm-data-simulator) (3.0.0)\n",
      "Requirement already satisfied: pyasn1<0.7.0,>=0.6.1 in /Users/tahmidtapadar/Documents/cookbooks/venv/lib/python3.13/site-packages (from pyasn1-modules>=0.2.1->google-auth>=1.0.1->kubernetes>=28.1.0->chromadb) (0.6.1)\n",
      "Requirement already satisfied: mypy-extensions>=0.3.0 in /Users/tahmidtapadar/Documents/cookbooks/venv/lib/python3.13/site-packages (from typing-inspect<1,>=0.4.0->dataclasses-json<0.7,>=0.5.7->langchain_community->llm-data-simulator) (1.0.0)\n",
      "Note: you may need to restart the kernel to use updated packages.\n"
     ]
    }
   ],
   "source": [
    "%pip install openai llm-data-simulator chromadb sentence_transformers pandas matplotlib"
   ]
  },
  {
   "cell_type": "code",
   "execution_count": 40,
   "metadata": {},
   "outputs": [],
   "source": [
    "import openai\n",
    "from data_simulator import DataSimulator\n",
    "import getpass\n",
    "import pandas as pd\n",
    "import matplotlib.pyplot as plt\n",
    "import numpy as np\n",
    "from sklearn.metrics.pairwise import cosine_similarity\n",
    "from sentence_transformers import SentenceTransformer\n",
    "\n",
    "# Display all columns\n",
    "pd.set_option('display.max_columns', None)\n",
    "pd.set_option('display.width', 1000)\n",
    "pd.set_option('display.max_rows', 100)\n",
    "pd.set_option('display.max_colwidth', 100)\n",
    "\n",
    "DATA_DIR = \"../data/papers\"\n",
    "EVAL_DIR = \"../data/evalset\""
   ]
  },
  {
   "cell_type": "markdown",
   "metadata": {},
   "source": [
    "We'll use OpenAI's API for generating our synthetic dataset."
   ]
  },
  {
   "cell_type": "code",
   "execution_count": 41,
   "metadata": {},
   "outputs": [],
   "source": [
    "openai.api_key = getpass.getpass('Enter your OpenAI API key: ')\n",
    "generator = DataSimulator(api_key=openai.api_key)"
   ]
  },
  {
   "cell_type": "markdown",
   "metadata": {},
   "source": [
    "First, we generate a set of diverse questions based on academic papers. We'll use the data_simulator library to help us generate realistic queries and answers that researchers might ask about these papers. The data_simulator library first filters out low-quality content, then generates realistic queries and answers that match how your system will actually be used."
   ]
  },
  {
   "cell_type": "code",
   "execution_count": 42,
   "metadata": {},
   "outputs": [
    {
     "name": "stderr",
     "output_type": "stream",
     "text": [
      "Filtering documents: 100%|██████████| 56/56 [01:00<00:00,  1.08s/it]\n",
      "Generating queries: 100%|██████████| 26/26 [00:17<00:00,  1.49it/s]\n",
      "Generating answers: 100%|██████████| 26/26 [00:47<00:00,  1.84s/it]\n"
     ]
    }
   ],
   "source": [
    "results = generator.generate_from_docs(\n",
    "    file_paths=[f\"{DATA_DIR}/gpt_1.pdf\"],\n",
    "    context=\"You're an AI research assistant helping researchers understand and analyze academic papers. The researchers need to find specific information, understand methodologies, compare approaches, and extract key findings from these papers.\",\n",
    "    example_queries=\"what are the main contributions of this paper\\nwhat architecture is used in this paper\\nexplain the significance of figure X in this paper\"\n",
    ")"
   ]
  },
  {
   "cell_type": "markdown",
   "metadata": {},
   "source": [
    "Let's examine the generated questions to ensure they're diverse and realistic:"
   ]
  },
  {
   "cell_type": "code",
   "execution_count": 43,
   "metadata": {},
   "outputs": [
    {
     "name": "stdout",
     "output_type": "stream",
     "text": [
      "                  id                                                                                             document                                                                                                query                                                                                               answer\n",
      "0  gpt_1.pdf_chunk_0  Improving Language Understanding\\nby Generative Pre-Training\\nAlec Radford\\nOpenAI\\nalec@openai....                             details on the generative pre-training methodology outlined in the paper  The document discusses a generative pre-training methodology that involves training a language m...\n",
      "1  gpt_1.pdf_chunk_1  speciﬁc task. In contrast to previous approaches, we make use of task-aware input\\ntransformatio...                                  details on the task-aware input transformations used in fine-tuning  The document mentions that task-aware input transformations are utilized during fine-tuning to a...\n",
      "2  gpt_1.pdf_chunk_2  The ability to learn effectively from raw text is crucial to alleviating the dependence on super...             discuss the advantages of unsupervised learning methods in NLP as outlined in this paper  The advantages of unsupervised learning methods in NLP, as outlined in the document, include the...\n",
      "3  gpt_1.pdf_chunk_3  trained word embeddings [10, 39, 42] to improve performance on a range of NLP tasks [8, 11, 26, ...  discuss the challenges of optimizing text representations for transfer tasks as mentioned in thi...  The challenges of optimizing text representations for transfer tasks include: 1) uncertainty abo...\n",
      "4  gpt_1.pdf_chunk_5  In this paper, we explore a semi-supervised approach for language understanding tasks using a\\nc...                                     describe the two-stage training procedure outlined in this paper  The two-stage training procedure outlined in the paper consists of: \\n\\n1. **Unsupervised Pre-Tr...\n"
     ]
    }
   ],
   "source": [
    "eval_df = pd.DataFrame(results)\n",
    "print(eval_df.head())"
   ]
  },
  {
   "cell_type": "code",
   "execution_count": 44,
   "metadata": {},
   "outputs": [
    {
     "data": {
      "image/png": "[encoded data removed]",
      "text/plain": [
       "<Figure size 1000x600 with 1 Axes>"
      ]
     },
     "metadata": {},
     "output_type": "display_data"
    }
   ],
   "source": [
    "# Analyze semantic diversity using embeddings\n",
    "model = SentenceTransformer('all-MiniLM-L6-v2')\n",
    "eval_df['embedding'] = eval_df['query'].apply(lambda x: model.encode(x))\n",
    "\n",
    "# Calculate pairwise similarities\n",
    "embeddings = np.array(eval_df['embedding'].tolist())\n",
    "similarities = cosine_similarity(embeddings)\n",
    "\n",
    "# Get upper triangle values (excluding diagonal)\n",
    "mask = np.triu_indices(len(similarities), k=1)\n",
    "upper_tri_similarities = similarities[mask]\n",
    "\n",
    "# Plot histogram of similarities\n",
    "plt.figure(figsize=(10, 6))\n",
    "plt.hist(upper_tri_similarities, bins=30, alpha=0.7)\n",
    "plt.title('Distribution of Question Similarities')\n",
    "plt.xlabel('Cosine Similarity')\n",
    "plt.ylabel('Count')\n",
    "plt.axvline(x=np.mean(upper_tri_similarities), color='r', linestyle='--', \n",
    "            label=f'Mean: {np.mean(upper_tri_similarities):.3f}')\n",
    "plt.legend()\n",
    "plt.show()"
   ]
  },
  {
   "cell_type": "markdown",
   "metadata": {},
   "source": [
    "The histogram above shows the distribution of pairwise similarities between our generated questions. A low mean similarity of 0.226 indicates that the generated questions are diverse and not too similar. "
   ]
  },
  {
   "cell_type": "code",
   "execution_count": 45,
   "metadata": {},
   "outputs": [],
   "source": [
    "import json\n",
    "\n",
    "# Save the full evaluation dataset\n",
    "eval_file = f\"{EVAL_DIR}/ai_papers_eval_dataset.json\"\n",
    "with open(eval_file, 'w') as f:\n",
    "    json.dump(results, f, indent=2)"
   ]
  },
  {
   "cell_type": "markdown",
   "metadata": {},
   "source": [
    "This synthetic dataset gives us a starting point, but in practice, you'll want to continuously update your evaluation set using real user queries and feedback. While synthetic data helps us get started, real user interactions will reveal patterns we might never think to simulate. In subsequent notebooks, we'll explore how to use this dataset to evaluate and improve our RAG Agent. "
   ]
  }
 ],
 "metadata": {
  "kernelspec": {
   "display_name": "venv",
   "language": "python",
   "name": "python3"
  },
  "language_info": {
   "codemirror_mode": {
    "name": "ipython",
    "version": 3
   },
   "file_extension": ".py",
   "mimetype": "text/x-python",
   "name": "python",
   "nbconvert_exporter": "python",
   "pygments_lexer": "ipython3",
   "version": "3.13.3"
  }
 },
 "nbformat": 4,
 "nbformat_minor": 2
}
