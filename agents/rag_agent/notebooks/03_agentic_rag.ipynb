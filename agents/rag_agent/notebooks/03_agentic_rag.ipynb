{
 "cells": [
  {
   "cell_type": "markdown",
   "metadata": {},
   "source": [
    "# Self-Improving RAG Agent\n",
    "\n",
    "## Overview\n",
    "\n",
    "Traditional RAG systems have a critical limitation: they retrieve documents once and then generate an answer based on those documents, regardless of their relevance. An agentic approach allows the system to adapt its retrieval strategy based on objective performance metrics.\n",
    "\n",
    "This notebook provides a framework for evaluating agentic RAG systems.\n",
    "\n",
    "## Setup\n",
    "\n",
    "First, let's install the necessary libraries:"
   ]
  },
  {
   "cell_type": "code",
   "execution_count": 67,
   "metadata": {},
   "outputs": [
    {
     "name": "stderr",
     "output_type": "stream",
     "text": [
      "huggingface/tokenizers: The current process just got forked, after parallelism has already been used. Disabling parallelism to avoid deadlocks...\n",
      "To disable this warning, you can either:\n",
      "\t- Avoid using `tokenizers` before the fork if possible\n",
      "\t- Explicitly set the environment variable TOKENIZERS_PARALLELISM=(true | false)\n"
     ]
    },
    {
     "name": "stdout",
     "output_type": "stream",
     "text": [
      "Requirement already satisfied: openai in /Users/tahmidtapadar/Documents/cookbooks/venv/lib/python3.13/site-packages (1.74.0)\n",
      "Requirement already satisfied: chromadb in /Users/tahmidtapadar/Documents/cookbooks/venv/lib/python3.13/site-packages (1.0.4)\n",
      "Requirement already satisfied: sentence_transformers in /Users/tahmidtapadar/Documents/cookbooks/venv/lib/python3.13/site-packages (4.0.2)\n",
      "Requirement already satisfied: pandas in /Users/tahmidtapadar/Documents/cookbooks/venv/lib/python3.13/site-packages (2.2.3)\n",
      "Requirement already satisfied: matplotlib in /Users/tahmidtapadar/Documents/cookbooks/venv/lib/python3.13/site-packages (3.10.1)\n",
      "Requirement already satisfied: numpy in /Users/tahmidtapadar/Documents/cookbooks/venv/lib/python3.13/site-packages (2.2.4)\n",
      "Requirement already satisfied: tqdm in /Users/tahmidtapadar/Documents/cookbooks/venv/lib/python3.13/site-packages (4.67.1)\n",
      "Requirement already satisfied: anyio<5,>=3.5.0 in /Users/tahmidtapadar/Documents/cookbooks/venv/lib/python3.13/site-packages (from openai) (4.9.0)\n",
      "Requirement already satisfied: distro<2,>=1.7.0 in /Users/tahmidtapadar/Documents/cookbooks/venv/lib/python3.13/site-packages (from openai) (1.9.0)\n",
      "Requirement already satisfied: httpx<1,>=0.23.0 in /Users/tahmidtapadar/Documents/cookbooks/venv/lib/python3.13/site-packages (from openai) (0.28.1)\n",
      "Requirement already satisfied: jiter<1,>=0.4.0 in /Users/tahmidtapadar/Documents/cookbooks/venv/lib/python3.13/site-packages (from openai) (0.9.0)\n",
      "Requirement already satisfied: pydantic<3,>=1.9.0 in /Users/tahmidtapadar/Documents/cookbooks/venv/lib/python3.13/site-packages (from openai) (2.11.3)\n",
      "Requirement already satisfied: sniffio in /Users/tahmidtapadar/Documents/cookbooks/venv/lib/python3.13/site-packages (from openai) (1.3.1)\n",
      "Requirement already satisfied: typing-extensions<5,>=4.11 in /Users/tahmidtapadar/Documents/cookbooks/venv/lib/python3.13/site-packages (from openai) (4.13.2)\n",
      "Requirement already satisfied: build>=1.0.3 in /Users/tahmidtapadar/Documents/cookbooks/venv/lib/python3.13/site-packages (from chromadb) (1.2.2.post1)\n",
      "Requirement already satisfied: chroma-hnswlib==0.7.6 in /Users/tahmidtapadar/Documents/cookbooks/venv/lib/python3.13/site-packages (from chromadb) (0.7.6)\n",
      "Requirement already satisfied: fastapi==0.115.9 in /Users/tahmidtapadar/Documents/cookbooks/venv/lib/python3.13/site-packages (from chromadb) (0.115.9)\n",
      "Requirement already satisfied: uvicorn>=0.18.3 in /Users/tahmidtapadar/Documents/cookbooks/venv/lib/python3.13/site-packages (from uvicorn[standard]>=0.18.3->chromadb) (0.34.1)\n",
      "Requirement already satisfied: posthog>=2.4.0 in /Users/tahmidtapadar/Documents/cookbooks/venv/lib/python3.13/site-packages (from chromadb) (3.24.1)\n",
      "Requirement already satisfied: onnxruntime>=1.14.1 in /Users/tahmidtapadar/Documents/cookbooks/venv/lib/python3.13/site-packages (from chromadb) (1.21.0)\n",
      "Requirement already satisfied: opentelemetry-api>=1.2.0 in /Users/tahmidtapadar/Documents/cookbooks/venv/lib/python3.13/site-packages (from chromadb) (1.32.0)\n",
      "Requirement already satisfied: opentelemetry-exporter-otlp-proto-grpc>=1.2.0 in /Users/tahmidtapadar/Documents/cookbooks/venv/lib/python3.13/site-packages (from chromadb) (1.32.0)\n",
      "Requirement already satisfied: opentelemetry-instrumentation-fastapi>=0.41b0 in /Users/tahmidtapadar/Documents/cookbooks/venv/lib/python3.13/site-packages (from chromadb) (0.53b0)\n",
      "Requirement already satisfied: opentelemetry-sdk>=1.2.0 in /Users/tahmidtapadar/Documents/cookbooks/venv/lib/python3.13/site-packages (from chromadb) (1.32.0)\n",
      "Requirement already satisfied: tokenizers>=0.13.2 in /Users/tahmidtapadar/Documents/cookbooks/venv/lib/python3.13/site-packages (from chromadb) (0.21.1)\n",
      "Requirement already satisfied: pypika>=0.48.9 in /Users/tahmidtapadar/Documents/cookbooks/venv/lib/python3.13/site-packages (from chromadb) (0.48.9)\n",
      "Requirement already satisfied: overrides>=7.3.1 in /Users/tahmidtapadar/Documents/cookbooks/venv/lib/python3.13/site-packages (from chromadb) (7.7.0)\n",
      "Requirement already satisfied: importlib-resources in /Users/tahmidtapadar/Documents/cookbooks/venv/lib/python3.13/site-packages (from chromadb) (6.5.2)\n",
      "Requirement already satisfied: grpcio>=1.58.0 in /Users/tahmidtapadar/Documents/cookbooks/venv/lib/python3.13/site-packages (from chromadb) (1.71.0)\n",
      "Requirement already satisfied: bcrypt>=4.0.1 in /Users/tahmidtapadar/Documents/cookbooks/venv/lib/python3.13/site-packages (from chromadb) (4.3.0)\n",
      "Requirement already satisfied: typer>=0.9.0 in /Users/tahmidtapadar/Documents/cookbooks/venv/lib/python3.13/site-packages (from chromadb) (0.15.2)\n",
      "Requirement already satisfied: kubernetes>=28.1.0 in /Users/tahmidtapadar/Documents/cookbooks/venv/lib/python3.13/site-packages (from chromadb) (32.0.1)\n",
      "Requirement already satisfied: tenacity>=8.2.3 in /Users/tahmidtapadar/Documents/cookbooks/venv/lib/python3.13/site-packages (from chromadb) (9.1.2)\n",
      "Requirement already satisfied: pyyaml>=6.0.0 in /Users/tahmidtapadar/Documents/cookbooks/venv/lib/python3.13/site-packages (from chromadb) (6.0.2)\n",
      "Requirement already satisfied: mmh3>=4.0.1 in /Users/tahmidtapadar/Documents/cookbooks/venv/lib/python3.13/site-packages (from chromadb) (5.1.0)\n",
      "Requirement already satisfied: orjson>=3.9.12 in /Users/tahmidtapadar/Documents/cookbooks/venv/lib/python3.13/site-packages (from chromadb) (3.10.16)\n",
      "Requirement already satisfied: rich>=10.11.0 in /Users/tahmidtapadar/Documents/cookbooks/venv/lib/python3.13/site-packages (from chromadb) (14.0.0)\n",
      "Requirement already satisfied: jsonschema>=4.19.0 in /Users/tahmidtapadar/Documents/cookbooks/venv/lib/python3.13/site-packages (from chromadb) (4.23.0)\n",
      "Requirement already satisfied: starlette<0.46.0,>=0.40.0 in /Users/tahmidtapadar/Documents/cookbooks/venv/lib/python3.13/site-packages (from fastapi==0.115.9->chromadb) (0.45.3)\n",
      "Requirement already satisfied: transformers<5.0.0,>=4.41.0 in /Users/tahmidtapadar/Documents/cookbooks/venv/lib/python3.13/site-packages (from sentence_transformers) (4.51.3)\n",
      "Requirement already satisfied: torch>=1.11.0 in /Users/tahmidtapadar/Documents/cookbooks/venv/lib/python3.13/site-packages (from sentence_transformers) (2.6.0)\n",
      "Requirement already satisfied: scikit-learn in /Users/tahmidtapadar/Documents/cookbooks/venv/lib/python3.13/site-packages (from sentence_transformers) (1.6.1)\n",
      "Requirement already satisfied: scipy in /Users/tahmidtapadar/Documents/cookbooks/venv/lib/python3.13/site-packages (from sentence_transformers) (1.15.2)\n",
      "Requirement already satisfied: huggingface-hub>=0.20.0 in /Users/tahmidtapadar/Documents/cookbooks/venv/lib/python3.13/site-packages (from sentence_transformers) (0.30.2)\n",
      "Requirement already satisfied: Pillow in /Users/tahmidtapadar/Documents/cookbooks/venv/lib/python3.13/site-packages (from sentence_transformers) (11.2.1)\n",
      "Requirement already satisfied: python-dateutil>=2.8.2 in /Users/tahmidtapadar/Documents/cookbooks/venv/lib/python3.13/site-packages (from pandas) (2.9.0.post0)\n",
      "Requirement already satisfied: pytz>=2020.1 in /Users/tahmidtapadar/Documents/cookbooks/venv/lib/python3.13/site-packages (from pandas) (2025.2)\n",
      "Requirement already satisfied: tzdata>=2022.7 in /Users/tahmidtapadar/Documents/cookbooks/venv/lib/python3.13/site-packages (from pandas) (2025.2)\n",
      "Requirement already satisfied: contourpy>=1.0.1 in /Users/tahmidtapadar/Documents/cookbooks/venv/lib/python3.13/site-packages (from matplotlib) (1.3.2)\n",
      "Requirement already satisfied: cycler>=0.10 in /Users/tahmidtapadar/Documents/cookbooks/venv/lib/python3.13/site-packages (from matplotlib) (0.12.1)\n",
      "Requirement already satisfied: fonttools>=4.22.0 in /Users/tahmidtapadar/Documents/cookbooks/venv/lib/python3.13/site-packages (from matplotlib) (4.57.0)\n",
      "Requirement already satisfied: kiwisolver>=1.3.1 in /Users/tahmidtapadar/Documents/cookbooks/venv/lib/python3.13/site-packages (from matplotlib) (1.4.8)\n",
      "Requirement already satisfied: packaging>=20.0 in /Users/tahmidtapadar/Documents/cookbooks/venv/lib/python3.13/site-packages (from matplotlib) (24.2)\n",
      "Requirement already satisfied: pyparsing>=2.3.1 in /Users/tahmidtapadar/Documents/cookbooks/venv/lib/python3.13/site-packages (from matplotlib) (3.2.3)\n",
      "Requirement already satisfied: idna>=2.8 in /Users/tahmidtapadar/Documents/cookbooks/venv/lib/python3.13/site-packages (from anyio<5,>=3.5.0->openai) (3.10)\n",
      "Requirement already satisfied: pyproject_hooks in /Users/tahmidtapadar/Documents/cookbooks/venv/lib/python3.13/site-packages (from build>=1.0.3->chromadb) (1.2.0)\n",
      "Requirement already satisfied: certifi in /Users/tahmidtapadar/Documents/cookbooks/venv/lib/python3.13/site-packages (from httpx<1,>=0.23.0->openai) (2025.1.31)\n",
      "Requirement already satisfied: httpcore==1.* in /Users/tahmidtapadar/Documents/cookbooks/venv/lib/python3.13/site-packages (from httpx<1,>=0.23.0->openai) (1.0.8)\n",
      "Requirement already satisfied: h11<0.15,>=0.13 in /Users/tahmidtapadar/Documents/cookbooks/venv/lib/python3.13/site-packages (from httpcore==1.*->httpx<1,>=0.23.0->openai) (0.14.0)\n",
      "Requirement already satisfied: filelock in /Users/tahmidtapadar/Documents/cookbooks/venv/lib/python3.13/site-packages (from huggingface-hub>=0.20.0->sentence_transformers) (3.18.0)\n",
      "Requirement already satisfied: fsspec>=2023.5.0 in /Users/tahmidtapadar/Documents/cookbooks/venv/lib/python3.13/site-packages (from huggingface-hub>=0.20.0->sentence_transformers) (2025.3.2)\n",
      "Requirement already satisfied: requests in /Users/tahmidtapadar/Documents/cookbooks/venv/lib/python3.13/site-packages (from huggingface-hub>=0.20.0->sentence_transformers) (2.32.3)\n",
      "Requirement already satisfied: attrs>=22.2.0 in /Users/tahmidtapadar/Documents/cookbooks/venv/lib/python3.13/site-packages (from jsonschema>=4.19.0->chromadb) (25.3.0)\n",
      "Requirement already satisfied: jsonschema-specifications>=2023.03.6 in /Users/tahmidtapadar/Documents/cookbooks/venv/lib/python3.13/site-packages (from jsonschema>=4.19.0->chromadb) (2024.10.1)\n",
      "Requirement already satisfied: referencing>=0.28.4 in /Users/tahmidtapadar/Documents/cookbooks/venv/lib/python3.13/site-packages (from jsonschema>=4.19.0->chromadb) (0.36.2)\n",
      "Requirement already satisfied: rpds-py>=0.7.1 in /Users/tahmidtapadar/Documents/cookbooks/venv/lib/python3.13/site-packages (from jsonschema>=4.19.0->chromadb) (0.24.0)\n",
      "Requirement already satisfied: six>=1.9.0 in /Users/tahmidtapadar/Documents/cookbooks/venv/lib/python3.13/site-packages (from kubernetes>=28.1.0->chromadb) (1.17.0)\n",
      "Requirement already satisfied: google-auth>=1.0.1 in /Users/tahmidtapadar/Documents/cookbooks/venv/lib/python3.13/site-packages (from kubernetes>=28.1.0->chromadb) (2.39.0)\n",
      "Requirement already satisfied: websocket-client!=0.40.0,!=0.41.*,!=0.42.*,>=0.32.0 in /Users/tahmidtapadar/Documents/cookbooks/venv/lib/python3.13/site-packages (from kubernetes>=28.1.0->chromadb) (1.8.0)\n",
      "Requirement already satisfied: requests-oauthlib in /Users/tahmidtapadar/Documents/cookbooks/venv/lib/python3.13/site-packages (from kubernetes>=28.1.0->chromadb) (2.0.0)\n",
      "Requirement already satisfied: oauthlib>=3.2.2 in /Users/tahmidtapadar/Documents/cookbooks/venv/lib/python3.13/site-packages (from kubernetes>=28.1.0->chromadb) (3.2.2)\n",
      "Requirement already satisfied: urllib3>=1.24.2 in /Users/tahmidtapadar/Documents/cookbooks/venv/lib/python3.13/site-packages (from kubernetes>=28.1.0->chromadb) (2.4.0)\n",
      "Requirement already satisfied: durationpy>=0.7 in /Users/tahmidtapadar/Documents/cookbooks/venv/lib/python3.13/site-packages (from kubernetes>=28.1.0->chromadb) (0.9)\n",
      "Requirement already satisfied: coloredlogs in /Users/tahmidtapadar/Documents/cookbooks/venv/lib/python3.13/site-packages (from onnxruntime>=1.14.1->chromadb) (15.0.1)\n",
      "Requirement already satisfied: flatbuffers in /Users/tahmidtapadar/Documents/cookbooks/venv/lib/python3.13/site-packages (from onnxruntime>=1.14.1->chromadb) (25.2.10)\n",
      "Requirement already satisfied: protobuf in /Users/tahmidtapadar/Documents/cookbooks/venv/lib/python3.13/site-packages (from onnxruntime>=1.14.1->chromadb) (5.29.4)\n",
      "Requirement already satisfied: sympy in /Users/tahmidtapadar/Documents/cookbooks/venv/lib/python3.13/site-packages (from onnxruntime>=1.14.1->chromadb) (1.13.1)\n",
      "Requirement already satisfied: deprecated>=1.2.6 in /Users/tahmidtapadar/Documents/cookbooks/venv/lib/python3.13/site-packages (from opentelemetry-api>=1.2.0->chromadb) (1.2.18)\n",
      "Requirement already satisfied: importlib-metadata<8.7.0,>=6.0 in /Users/tahmidtapadar/Documents/cookbooks/venv/lib/python3.13/site-packages (from opentelemetry-api>=1.2.0->chromadb) (8.6.1)\n",
      "Requirement already satisfied: googleapis-common-protos~=1.52 in /Users/tahmidtapadar/Documents/cookbooks/venv/lib/python3.13/site-packages (from opentelemetry-exporter-otlp-proto-grpc>=1.2.0->chromadb) (1.70.0)\n",
      "Requirement already satisfied: opentelemetry-exporter-otlp-proto-common==1.32.0 in /Users/tahmidtapadar/Documents/cookbooks/venv/lib/python3.13/site-packages (from opentelemetry-exporter-otlp-proto-grpc>=1.2.0->chromadb) (1.32.0)\n",
      "Requirement already satisfied: opentelemetry-proto==1.32.0 in /Users/tahmidtapadar/Documents/cookbooks/venv/lib/python3.13/site-packages (from opentelemetry-exporter-otlp-proto-grpc>=1.2.0->chromadb) (1.32.0)\n",
      "Requirement already satisfied: opentelemetry-instrumentation-asgi==0.53b0 in /Users/tahmidtapadar/Documents/cookbooks/venv/lib/python3.13/site-packages (from opentelemetry-instrumentation-fastapi>=0.41b0->chromadb) (0.53b0)\n",
      "Requirement already satisfied: opentelemetry-instrumentation==0.53b0 in /Users/tahmidtapadar/Documents/cookbooks/venv/lib/python3.13/site-packages (from opentelemetry-instrumentation-fastapi>=0.41b0->chromadb) (0.53b0)\n",
      "Requirement already satisfied: opentelemetry-semantic-conventions==0.53b0 in /Users/tahmidtapadar/Documents/cookbooks/venv/lib/python3.13/site-packages (from opentelemetry-instrumentation-fastapi>=0.41b0->chromadb) (0.53b0)\n",
      "Requirement already satisfied: opentelemetry-util-http==0.53b0 in /Users/tahmidtapadar/Documents/cookbooks/venv/lib/python3.13/site-packages (from opentelemetry-instrumentation-fastapi>=0.41b0->chromadb) (0.53b0)\n",
      "Requirement already satisfied: wrapt<2.0.0,>=1.0.0 in /Users/tahmidtapadar/Documents/cookbooks/venv/lib/python3.13/site-packages (from opentelemetry-instrumentation==0.53b0->opentelemetry-instrumentation-fastapi>=0.41b0->chromadb) (1.17.2)\n",
      "Requirement already satisfied: asgiref~=3.0 in /Users/tahmidtapadar/Documents/cookbooks/venv/lib/python3.13/site-packages (from opentelemetry-instrumentation-asgi==0.53b0->opentelemetry-instrumentation-fastapi>=0.41b0->chromadb) (3.8.1)\n",
      "Requirement already satisfied: monotonic>=1.5 in /Users/tahmidtapadar/Documents/cookbooks/venv/lib/python3.13/site-packages (from posthog>=2.4.0->chromadb) (1.6)\n",
      "Requirement already satisfied: backoff>=1.10.0 in /Users/tahmidtapadar/Documents/cookbooks/venv/lib/python3.13/site-packages (from posthog>=2.4.0->chromadb) (2.2.1)\n",
      "Requirement already satisfied: annotated-types>=0.6.0 in /Users/tahmidtapadar/Documents/cookbooks/venv/lib/python3.13/site-packages (from pydantic<3,>=1.9.0->openai) (0.7.0)\n",
      "Requirement already satisfied: pydantic-core==2.33.1 in /Users/tahmidtapadar/Documents/cookbooks/venv/lib/python3.13/site-packages (from pydantic<3,>=1.9.0->openai) (2.33.1)\n",
      "Requirement already satisfied: typing-inspection>=0.4.0 in /Users/tahmidtapadar/Documents/cookbooks/venv/lib/python3.13/site-packages (from pydantic<3,>=1.9.0->openai) (0.4.0)\n",
      "Requirement already satisfied: markdown-it-py>=2.2.0 in /Users/tahmidtapadar/Documents/cookbooks/venv/lib/python3.13/site-packages (from rich>=10.11.0->chromadb) (3.0.0)\n",
      "Requirement already satisfied: pygments<3.0.0,>=2.13.0 in /Users/tahmidtapadar/Documents/cookbooks/venv/lib/python3.13/site-packages (from rich>=10.11.0->chromadb) (2.19.1)\n",
      "Requirement already satisfied: networkx in /Users/tahmidtapadar/Documents/cookbooks/venv/lib/python3.13/site-packages (from torch>=1.11.0->sentence_transformers) (3.4.2)\n",
      "Requirement already satisfied: jinja2 in /Users/tahmidtapadar/Documents/cookbooks/venv/lib/python3.13/site-packages (from torch>=1.11.0->sentence_transformers) (3.1.6)\n",
      "Requirement already satisfied: setuptools in /Users/tahmidtapadar/Documents/cookbooks/venv/lib/python3.13/site-packages (from torch>=1.11.0->sentence_transformers) (78.1.0)\n",
      "Requirement already satisfied: mpmath<1.4,>=1.1.0 in /Users/tahmidtapadar/Documents/cookbooks/venv/lib/python3.13/site-packages (from sympy->onnxruntime>=1.14.1->chromadb) (1.3.0)\n",
      "Requirement already satisfied: regex!=2019.12.17 in /Users/tahmidtapadar/Documents/cookbooks/venv/lib/python3.13/site-packages (from transformers<5.0.0,>=4.41.0->sentence_transformers) (2024.11.6)\n",
      "Requirement already satisfied: safetensors>=0.4.3 in /Users/tahmidtapadar/Documents/cookbooks/venv/lib/python3.13/site-packages (from transformers<5.0.0,>=4.41.0->sentence_transformers) (0.5.3)\n",
      "Requirement already satisfied: click>=8.0.0 in /Users/tahmidtapadar/Documents/cookbooks/venv/lib/python3.13/site-packages (from typer>=0.9.0->chromadb) (8.1.8)\n",
      "Requirement already satisfied: shellingham>=1.3.0 in /Users/tahmidtapadar/Documents/cookbooks/venv/lib/python3.13/site-packages (from typer>=0.9.0->chromadb) (1.5.4)\n",
      "Requirement already satisfied: httptools>=0.6.3 in /Users/tahmidtapadar/Documents/cookbooks/venv/lib/python3.13/site-packages (from uvicorn[standard]>=0.18.3->chromadb) (0.6.4)\n",
      "Requirement already satisfied: python-dotenv>=0.13 in /Users/tahmidtapadar/Documents/cookbooks/venv/lib/python3.13/site-packages (from uvicorn[standard]>=0.18.3->chromadb) (1.1.0)\n",
      "Requirement already satisfied: uvloop!=0.15.0,!=0.15.1,>=0.14.0 in /Users/tahmidtapadar/Documents/cookbooks/venv/lib/python3.13/site-packages (from uvicorn[standard]>=0.18.3->chromadb) (0.21.0)\n",
      "Requirement already satisfied: watchfiles>=0.13 in /Users/tahmidtapadar/Documents/cookbooks/venv/lib/python3.13/site-packages (from uvicorn[standard]>=0.18.3->chromadb) (1.0.5)\n",
      "Requirement already satisfied: websockets>=10.4 in /Users/tahmidtapadar/Documents/cookbooks/venv/lib/python3.13/site-packages (from uvicorn[standard]>=0.18.3->chromadb) (15.0.1)\n",
      "Requirement already satisfied: joblib>=1.2.0 in /Users/tahmidtapadar/Documents/cookbooks/venv/lib/python3.13/site-packages (from scikit-learn->sentence_transformers) (1.4.2)\n",
      "Requirement already satisfied: threadpoolctl>=3.1.0 in /Users/tahmidtapadar/Documents/cookbooks/venv/lib/python3.13/site-packages (from scikit-learn->sentence_transformers) (3.6.0)\n",
      "Requirement already satisfied: cachetools<6.0,>=2.0.0 in /Users/tahmidtapadar/Documents/cookbooks/venv/lib/python3.13/site-packages (from google-auth>=1.0.1->kubernetes>=28.1.0->chromadb) (5.5.2)\n",
      "Requirement already satisfied: pyasn1-modules>=0.2.1 in /Users/tahmidtapadar/Documents/cookbooks/venv/lib/python3.13/site-packages (from google-auth>=1.0.1->kubernetes>=28.1.0->chromadb) (0.4.2)\n",
      "Requirement already satisfied: rsa<5,>=3.1.4 in /Users/tahmidtapadar/Documents/cookbooks/venv/lib/python3.13/site-packages (from google-auth>=1.0.1->kubernetes>=28.1.0->chromadb) (4.9)\n",
      "Requirement already satisfied: zipp>=3.20 in /Users/tahmidtapadar/Documents/cookbooks/venv/lib/python3.13/site-packages (from importlib-metadata<8.7.0,>=6.0->opentelemetry-api>=1.2.0->chromadb) (3.21.0)\n",
      "Requirement already satisfied: mdurl~=0.1 in /Users/tahmidtapadar/Documents/cookbooks/venv/lib/python3.13/site-packages (from markdown-it-py>=2.2.0->rich>=10.11.0->chromadb) (0.1.2)\n",
      "Requirement already satisfied: charset-normalizer<4,>=2 in /Users/tahmidtapadar/Documents/cookbooks/venv/lib/python3.13/site-packages (from requests->huggingface-hub>=0.20.0->sentence_transformers) (3.4.1)\n",
      "Requirement already satisfied: humanfriendly>=9.1 in /Users/tahmidtapadar/Documents/cookbooks/venv/lib/python3.13/site-packages (from coloredlogs->onnxruntime>=1.14.1->chromadb) (10.0)\n",
      "Requirement already satisfied: MarkupSafe>=2.0 in /Users/tahmidtapadar/Documents/cookbooks/venv/lib/python3.13/site-packages (from jinja2->torch>=1.11.0->sentence_transformers) (3.0.2)\n",
      "Requirement already satisfied: pyasn1<0.7.0,>=0.6.1 in /Users/tahmidtapadar/Documents/cookbooks/venv/lib/python3.13/site-packages (from pyasn1-modules>=0.2.1->google-auth>=1.0.1->kubernetes>=28.1.0->chromadb) (0.6.1)\n",
      "Note: you may need to restart the kernel to use updated packages.\n"
     ]
    }
   ],
   "source": [
    "%pip install openai chromadb sentence_transformers pandas matplotlib numpy tqdm"
   ]
  },
  {
   "cell_type": "code",
   "execution_count": 76,
   "metadata": {},
   "outputs": [],
   "source": [
    "import openai\n",
    "import chromadb\n",
    "from chromadb.utils import embedding_functions\n",
    "import pandas as pd\n",
    "import numpy as np\n",
    "import matplotlib.pyplot as plt\n",
    "import getpass\n",
    "from tqdm import tqdm\n",
    "from sentence_transformers import CrossEncoder\n",
    "from typing import Optional, List, Dict, Type\n",
    "\n",
    "# Display settings for pandas\n",
    "pd.set_option('display.max_columns', None)\n",
    "pd.set_option('display.width', 1000)\n",
    "pd.set_option('display.max_rows', 100)\n",
    "pd.set_option('display.max_colwidth', 100)\n",
    "\n",
    "# Define paths\n",
    "DATA_DIR = \"../data/papers\"\n",
    "EVAL_DIR = \"../data/evalset\"\n",
    "\n",
    "# Initialize OpenAI and Chroma\n",
    "openai.api_key = getpass.getpass('Enter your OpenAI API key: ')\n",
    "chroma_client = chromadb.PersistentClient()\n",
    "\n",
    "# Global variables\n",
    "K_VALUES = [1, 3, 5, 10]"
   ]
  },
  {
   "cell_type": "markdown",
   "metadata": {},
   "source": [
    "### Loading Evaluation Dataset\n",
    "\n",
    "Let's load the eval set we created previously:"
   ]
  },
  {
   "cell_type": "code",
   "execution_count": 77,
   "metadata": {},
   "outputs": [
    {
     "name": "stdout",
     "output_type": "stream",
     "text": [
      "Loaded 209 evaluation examples\n",
      "                  id                                                                                             document                                                                                                query                                                                                               answer\n",
      "0  gpt_1.pdf_chunk_0  Improving Language Understanding\\nby Generative Pre-Training\\nAlec Radford\\nOpenAI\\nalec@openai....  describe the process of generative pre-training and its impact on language understanding tasks i...  The process of generative pre-training involves training a language model on a diverse corpus of...\n",
      "1  gpt_1.pdf_chunk_1  speciﬁc task. In contrast to previous approaches, we make use of task-aware input\\ntransformatio...                           key findings and performance metrics on evaluated benchmarks in this paper  The key findings indicate that the approach significantly improves upon the state of the art in ...\n",
      "2  gpt_1.pdf_chunk_2  The ability to learn effectively from raw text is crucial to alleviating the dependence on super...  discuss the role of unsupervised learning in natural language processing as mentioned in this paper  Unsupervised learning plays a vital role in natural language processing (NLP) by allowing models...\n",
      "3  gpt_1.pdf_chunk_3  trained word embeddings [10, 39, 42] to improve performance on a range of NLP tasks [8, 11, 26, ...       what optimization objectives are most effective for learning text representations in NLP tasks  The document mentions that recent research has looked at various optimization objectives for lea...\n",
      "4  gpt_1.pdf_chunk_5  In this paper, we explore a semi-supervised approach for language understanding tasks using a\\nc...                                     describe the two-stage training procedure outlined in this paper  The two-stage training procedure outlined in the paper involves: \\n1. Unsupervised pre-training ...\n"
     ]
    }
   ],
   "source": [
    "eval_df = pd.read_json('../data/evalset/evalset.json')\n",
    "print(f\"Loaded {len(eval_df)} evaluation examples\")\n",
    "print(eval_df.head())"
   ]
  },
  {
   "cell_type": "markdown",
   "metadata": {},
   "source": [
    "### Let's build our Agent"
   ]
  },
  {
   "cell_type": "code",
   "execution_count": 81,
   "metadata": {},
   "outputs": [],
   "source": [
    "class RAGAgent:\n",
    "    def __init__(self, collection, llm_model: str = \"gpt-3.5-turbo\", embedding_model: str = \"text-embedding-3-small\", reranker_model: Optional[str] = None):\n",
    "        self.collection = collection\n",
    "        self.llm_model = llm_model\n",
    "        self.embedding_model = embedding_model\n",
    "        self.reranker_model = reranker_model\n",
    "        self.max_iterations = 3\n",
    "        self.target_metrics = {\"recall\": 0.8, \"mrr\": 0.5}\n",
    "        self.top_k = 10\n",
    "        self.agent_type = self.__class__.__name__\n",
    "\n",
    "    def retrieve(self, query: str):\n",
    "        results = self.collection.query(query_texts=[query], n_results=self.top_k)\n",
    "        results = {\"ids\": results['ids'][0], \"documents\": results['documents'][0]}\n",
    "\n",
    "        if self.reranker_model:\n",
    "            cross_encoder = CrossEncoder(self.reranker_model)\n",
    "            pairs = [(query, doc) for doc in results[\"documents\"]]\n",
    "            scores = cross_encoder.predict(pairs)\n",
    "            reranked_indices = np.argsort(-scores)[:self.top_k]\n",
    "            return {\n",
    "                \"ids\": [results[\"ids\"][i] for i in reranked_indices],\n",
    "                \"documents\": [results[\"documents\"][i] for i in reranked_indices]\n",
    "            }\n",
    "\n",
    "        return results\n",
    "    \n",
    "    def evaluate_retrieval(self, predictions: List[str], ground_truth: List[str]):\n",
    "        metrics = {}\n",
    "\n",
    "        def calculate_mrr(predictions: list[str], ground_truth: list[str]):\n",
    "            mrr = 0\n",
    "            for label in ground_truth:\n",
    "                if label in predictions:\n",
    "                    mrr = max(mrr, 1 / (predictions.index(label) + 1))\n",
    "            return mrr\n",
    "        \n",
    "        def calculate_recall(predictions: list[str], ground_truth: list[str]):\n",
    "            return len([label for label in ground_truth if label in predictions]) / len(ground_truth)\n",
    "        \n",
    "        for k in K_VALUES:\n",
    "            metrics[f\"mrr@{k}\"] = calculate_mrr(predictions[:k], ground_truth)\n",
    "            metrics[f\"recall@{k}\"] = calculate_recall(predictions[:k], ground_truth)\n",
    "\n",
    "        return metrics\n",
    "    \n",
    "    def rewrite_query(self, query: str, retrieved_docs: List[str]):\n",
    "        system_prompt = \"You are an assistant that refines search queries to be precise and targeted for optimal document retrieval.\"\n",
    "        user_message = f\"Original query: {query}\\n\\n\"\n",
    "    \n",
    "        if retrieved_docs:\n",
    "            user_message += f\"The following documents were retrieved but did not achieve good retrieval metrics:\\n\\n\"\n",
    "            for i, doc in enumerate(retrieved_docs[:3]):\n",
    "                user_message += f\"Document {i+1}:\\n{doc}\\n\\n\"\n",
    "        user_message += f\"Please rewrite the query to be more specific and targeted to improve retrieval performance. Return ONLY the reformulated query without any explanations or additional text.\"\n",
    "    \n",
    "        response = openai.chat.completions.create(\n",
    "            model=self.llm_model,\n",
    "            messages=[\n",
    "                {\"role\": \"system\", \"content\": system_prompt},\n",
    "                {\"role\": \"user\", \"content\": user_message}\n",
    "            ]\n",
    "        )\n",
    "    \n",
    "        return response.choices[0].message.content.strip()    \n",
    "\n",
    "    def generate_answer(self, query: str, documents: List[str]):\n",
    "        context = \"\\n\\n\".join(documents)\n",
    "        response = openai.chat.completions.create(\n",
    "            model=self.llm_model,\n",
    "            messages=[\n",
    "                {\"role\": \"system\", \"content\": \"You are an assistant that answers questions based on the provided context.\"},\n",
    "                {\"role\": \"user\", \"content\": f\"Context:\\n{context}\\n\\nQuestion: {query}\\n\\nAnswer the question based on the context provided. If the context doesn't contain the answer, say 'I don't have enough information to answer this question.'\"}\n",
    "            ]\n",
    "        )\n",
    "        return response.choices[0].message.content\n",
    "    \n",
    "    def _is_target_achieved(self, metrics: Dict[str, float]) -> bool:\n",
    "        recall_key = f\"recall@{self.top_k}\"\n",
    "        mrr_key = f\"mrr@{self.top_k}\"\n",
    "        \n",
    "        current_recall = metrics.get(recall_key, 0)\n",
    "        current_mrr = metrics.get(mrr_key, 0)\n",
    "        \n",
    "        target_recall = self.target_metrics.get(\"recall\", 0)\n",
    "        target_mrr = self.target_metrics.get(\"mrr\", 0)\n",
    "\n",
    "        return current_recall >= target_recall and current_mrr >= target_mrr\n",
    "    \n",
    "    def run(self, query: str, ground_truth: List[str] = None):\n",
    "        current_query = query\n",
    "        iteration = 0\n",
    "        best_metrics = {\"recall@10\": 0, \"mrr@10\": 0}\n",
    "        best_retrieval = None\n",
    "\n",
    "        for iteration in range(1, self.max_iterations + 1):\n",
    "            # Retrieve documents and evaluate\n",
    "            retrievals = self.retrieve(current_query)\n",
    "            documents, predictions = retrievals[\"documents\"], retrievals['ids']\n",
    "            metrics = self.evaluate_retrieval(predictions, ground_truth) if ground_truth else {}\n",
    "\n",
    "            # Check if this is the best retrieval so far\n",
    "            if ground_truth:\n",
    "                recall_key, mrr_key = f\"recall@{self.top_k}\", f\"mrr@{self.top_k}\"\n",
    "                if (metrics.get(recall_key, 0), metrics.get(mrr_key, 0)) >= (best_metrics.get(recall_key, 0), best_metrics.get(mrr_key, 0)):\n",
    "                    best_metrics = metrics\n",
    "                    best_retrieval = {\"documents\": documents, \"predictions\": predictions, \"query\": current_query}\n",
    "            else:\n",
    "                # Without ground truth, just use the latest retrieval\n",
    "                best_retrieval = {\"documents\": documents, \"predictions\": predictions, \"query\": current_query}\n",
    "\n",
    "            # Check if we've met our targets or reached max iterations\n",
    "            if not ground_truth or self._is_target_achieved(metrics) or iteration == self.max_iterations:\n",
    "                final_docs = best_retrieval[\"documents\"] if best_retrieval else documents\n",
    "                final_query = best_retrieval[\"query\"] if best_retrieval else current_query\n",
    "                answer = self.generate_answer(query, final_docs)\n",
    "                return {\n",
    "                    \"query\": query,\n",
    "                    \"final_query\": final_query,\n",
    "                    \"answer\": answer,\n",
    "                    \"iterations\": iteration,\n",
    "                    \"metrics\": best_metrics,\n",
    "                    \"success\": True if not ground_truth or self._is_target_achieved(metrics) else False\n",
    "                }\n",
    "                \n",
    "            # Rewrite query and try again\n",
    "            current_query = self.rewrite_query(query, documents[:3])\n",
    "            print(f\"Reformulated query: {current_query}\")"
   ]
  },
  {
   "cell_type": "code",
   "execution_count": 82,
   "metadata": {},
   "outputs": [],
   "source": [
    "class RAGEvaluator:\n",
    "    def __init__(self, chroma_client):\n",
    "        self.chroma_client = chroma_client\n",
    "        self.collections = {}\n",
    "    \n",
    "    def create_collection(self, collection_name: str, evalset: pd.DataFrame, embedding_model: str):\n",
    "        cache_key = f\"{collection_name}_{embedding_model}\"\n",
    "        if cache_key in self.collections:\n",
    "            return self.collections[cache_key]\n",
    "        \n",
    "        print(f\"Initializing collection {collection_name}\")\n",
    "\n",
    "        # Initialize embedding function\n",
    "        embedding_function = embedding_functions.OpenAIEmbeddingFunction(model_name=embedding_model, api_key=openai.api_key)\n",
    "        #embedding_function = embedding_functions.SentenceTransformerEmbeddingFunction(model_name=\"all-mpnet-base-v2\")\n",
    "        \n",
    "        # Delete collection if it exists\n",
    "        try:\n",
    "            self.chroma_client.delete_collection(name=collection_name)\n",
    "            print(f\"Deleted existing collection {collection_name}\")\n",
    "        except:\n",
    "            print(f\"No existing collection {collection_name} to delete\")\n",
    "        \n",
    "        # Create new collection\n",
    "        collection = self.chroma_client.create_collection(name=collection_name, embedding_function=embedding_function)\n",
    "\n",
    "        # Add documents to collection\n",
    "        for _, row in evalset.iterrows():\n",
    "            collection.upsert(\n",
    "                documents=[row['document']],\n",
    "                ids=[row['id']],\n",
    "                metadatas=[{'id': row['id'], 'query': row['query'], 'answer': row['answer']}]\n",
    "            )\n",
    "        \n",
    "        print(f\"Created collection {collection_name} with {collection.count()} documents using {embedding_model}\")\n",
    "\n",
    "        # Cache collection\n",
    "        self.collections[cache_key] = collection\n",
    "        return collection\n",
    "    \n",
    "    def create_agent_config(self, agent_class: Type[RAGAgent], embedding_model: str, reranker_model: Optional[str] = None, **agent_params):\n",
    "        return {\n",
    "            'agent_class': agent_class,\n",
    "            'embedding_model': embedding_model,\n",
    "            'reranker_model': reranker_model,\n",
    "            'params': agent_params\n",
    "        }\n",
    "    \n",
    "    def evaluate_configurations(self, eval_df: pd.DataFrame, configurations: List[Dict[str, Any]]):\n",
    "        all_results = []\n",
    "        \n",
    "        # Evaluate each configuration\n",
    "        for config in configurations:\n",
    "            agent_class = config['agent_class']\n",
    "            embedding_model = config['embedding_model']\n",
    "            reranker_model = config['reranker_model']\n",
    "            agent_params = config['params']\n",
    "            \n",
    "            # Create a descriptive name\n",
    "            config_name = f\"{agent_class.__name__}-{embedding_model}-{reranker_model}\" if reranker_model else f\"{agent_class.__name__}-{embedding_model}\"\n",
    "            print(f\"\\nEvaluating configuration: {config_name}\")\n",
    "            \n",
    "            # Create collection for this embedding model\n",
    "            collection_name = f\"eval_{embedding_model.replace('-', '_')}\"\n",
    "            collection = self.create_collection(collection_name, eval_df, embedding_model)\n",
    "            \n",
    "            # Create agent with this collection\n",
    "            agent = agent_class(collection=collection, reranker_model=reranker_model, **agent_params)\n",
    "            \n",
    "            # Run evaluation on this agent\n",
    "            results = []\n",
    "            for idx, row in tqdm(eval_df.iterrows(), total=len(eval_df), desc=f\"Testing {config_name}\"):\n",
    "                query = row['query']\n",
    "                ground_truth = [row['id']]\n",
    "                \n",
    "                # Run the query with this agent\n",
    "                result = agent.run(query, ground_truth)\n",
    "                \n",
    "                # Get the final metrics\n",
    "                final_metrics = result.get('metrics', {})\n",
    "                \n",
    "                # Record results for each k value\n",
    "                for k in K_VALUES:\n",
    "                    for metric_name, metric_key in [('recall', f'recall@{k}'), ('mrr', f'mrr@{k}')]:\n",
    "                        if metric_key in final_metrics:\n",
    "                            results.append({\n",
    "                                'query_id': idx,\n",
    "                                'config_name': config_name,\n",
    "                                'agent_type': agent.agent_type,\n",
    "                                'embedding_model': embedding_model,\n",
    "                                'reranker_model': str(reranker_model),\n",
    "                                'k': k,\n",
    "                                'metric': metric_name,\n",
    "                                'score': final_metrics[metric_key],\n",
    "                                'iterations': result.get('iterations', 1)\n",
    "                            })\n",
    "            \n",
    "            all_results.extend(results)\n",
    "        \n",
    "        # Combine all results\n",
    "        evaluation_df = pd.DataFrame(all_results)\n",
    "        print(f\"Evaluation complete with {len(evaluation_df)} data points\")\n",
    "        \n",
    "        return evaluation_df\n",
    "    \n",
    "    def visualize_results(self, results_df: pd.DataFrame):\n",
    "        # Calculate average scores by configuration and k value\n",
    "        avg_results = results_df.groupby(['config_name', 'embedding_model', 'reranker_model', 'k', 'metric'])['score'].mean().reset_index()\n",
    "        \n",
    "        # Create figure with two subplots\n",
    "        fig, (ax1, ax2) = plt.subplots(1, 2, figsize=(20, 6))\n",
    "        \n",
    "        # Plot recall for different configurations\n",
    "        recall_data = avg_results[avg_results['metric'] == 'recall']\n",
    "        for config in recall_data['config_name'].unique():\n",
    "            data = recall_data[recall_data['config_name'] == config]\n",
    "            ax1.plot(data['k'], data['score'], marker='o', label=config)\n",
    "        \n",
    "        ax1.set_title(\"Recall@k for Different Configurations\")\n",
    "        ax1.set_xlabel(\"k\")\n",
    "        ax1.set_ylabel(\"Recall\")\n",
    "        ax1.grid(True)\n",
    "        ax1.legend(bbox_to_anchor=(1.05, 1), loc='upper left')\n",
    "        \n",
    "        # Plot MRR for different configurations\n",
    "        mrr_data = avg_results[avg_results['metric'] == 'mrr']\n",
    "        for config in mrr_data['config_name'].unique():\n",
    "            data = mrr_data[mrr_data['config_name'] == config]\n",
    "            ax2.plot(data['k'], data['score'], marker='o', label=config)\n",
    "        \n",
    "        ax2.set_title(\"MRR@k for Different Configurations\")\n",
    "        ax2.set_xlabel(\"k\")\n",
    "        ax2.set_ylabel(\"MRR\")\n",
    "        ax2.grid(True)\n",
    "        ax2.legend(bbox_to_anchor=(1.05, 1), loc='upper left')\n",
    "        \n",
    "        plt.tight_layout()\n",
    "        plt.savefig('configuration_comparison.png')\n",
    "        plt.show()\n",
    "        \n",
    "        # First, deduplicate to get one row per query and configuration\n",
    "        unique_iterations = results_df.drop_duplicates(['query_id', 'embedding_model', 'reranker_model'])\n",
    "        # Then group by embedding model and reranker\n",
    "        iterations_by_config = unique_iterations.groupby(['embedding_model', 'reranker_model'])['iterations'].mean().reset_index()\n",
    "        \n",
    "        # Create a bar chart\n",
    "        plt.figure(figsize=(14, 6))\n",
    "        bars = plt.bar(\n",
    "            range(len(iterations_by_config)), \n",
    "            iterations_by_config['iterations'],\n",
    "            color='skyblue'\n",
    "        )\n",
    "        \n",
    "        # Add labels\n",
    "        plt.xticks(\n",
    "            range(len(iterations_by_config)), \n",
    "            [f\"{row['embedding_model']}-{row['reranker_model']}\" for _, row in iterations_by_config.iterrows()],\n",
    "            rotation=45,\n",
    "            ha='right'\n",
    "        )\n",
    "        plt.title(\"Average Iterations Needed by Configuration\")\n",
    "        plt.xlabel(\"Configuration\")\n",
    "        plt.ylabel(\"Average Iterations\")\n",
    "        plt.grid(axis='y', linestyle='--', alpha=0.7)\n",
    "        \n",
    "        # Add value labels on top of bars\n",
    "        for i, bar in enumerate(bars):\n",
    "            plt.text(\n",
    "                bar.get_x() + bar.get_width()/2,\n",
    "                bar.get_height() + 0.05,\n",
    "                f\"{bar.get_height():.2f}\",\n",
    "            ha='center'\n",
    "        )\n",
    "    \n",
    "        plt.tight_layout()\n",
    "        plt.savefig('iterations_by_config.png')\n",
    "        plt.show()"
   ]
  },
  {
   "cell_type": "code",
   "execution_count": 84,
   "metadata": {},
   "outputs": [
    {
     "name": "stdout",
     "output_type": "stream",
     "text": [
      "\n",
      "Evaluating configuration: RAGAgent-text-embedding-3-small\n",
      "Initializing collection eval_text_embedding_3_small\n",
      "Deleted existing collection eval_text_embedding_3_small\n",
      "Created collection eval_text_embedding_3_small with 209 documents using text-embedding-3-small\n"
     ]
    },
    {
     "name": "stderr",
     "output_type": "stream",
     "text": [
      "Testing RAGAgent-text-embedding-3-small:   0%|          | 1/209 [00:06<24:04,  6.94s/it]"
     ]
    },
    {
     "name": "stdout",
     "output_type": "stream",
     "text": [
      "Reformulated query: Precise query refinement: Identify key findings and performance metrics related to zero-shot, one-shot, and few-shot evaluations in the analyzed benchmarks of the paper.\n",
      "Reformulated query: key findings and performance metrics of zero-shot, one-shot, and few-shot evaluations in language models\n"
     ]
    },
    {
     "name": "stderr",
     "output_type": "stream",
     "text": [
      "Testing RAGAgent-text-embedding-3-small:   2%|▏         | 4/209 [00:16<11:26,  3.35s/it]"
     ]
    },
    {
     "name": "stdout",
     "output_type": "stream",
     "text": [
      "Reformulated query: Refined query: Explain the two-stage training procedure outlined in Figure 2 of the InstructGPT paper.\n",
      "Reformulated query: Refined query: Explain the two-stage training procedure depicted in Figure 2 of the InstructGPT paper.\n"
     ]
    },
    {
     "name": "stderr",
     "output_type": "stream",
     "text": [
      "Testing RAGAgent-text-embedding-3-small:   2%|▏         | 5/209 [00:19<11:18,  3.32s/it]"
     ]
    },
    {
     "name": "stdout",
     "output_type": "stream",
     "text": [
      "Reformulated query: Refined query: Provide examples and effectiveness of task-aware input transformations used for fine-tuning in achieving transfer learning advancements.\n",
      "Reformulated query: Role of task-specific input adaptations in the proposed model utilizing traversal-style input transformations for effective transfer learning.\n"
     ]
    },
    {
     "name": "stderr",
     "output_type": "stream",
     "text": [
      "Testing RAGAgent-text-embedding-3-small:   3%|▎         | 6/209 [00:25<13:43,  4.06s/it]"
     ]
    },
    {
     "name": "stdout",
     "output_type": "stream",
     "text": [
      "Reformulated query: Performance improvements of the model on tasks analyzed in Table 5 of the paper.\n",
      "Reformulated query: Performance improvements of the finetuned Transformer LM model on various tasks compared to other models in the paper.\n"
     ]
    },
    {
     "name": "stderr",
     "output_type": "stream",
     "text": [
      "Testing RAGAgent-text-embedding-3-small:   8%|▊         | 16/209 [00:52<09:21,  2.91s/it]"
     ]
    },
    {
     "name": "stdout",
     "output_type": "stream",
     "text": [
      "Reformulated query: Refined query: Compare the performance of the proposed model on traditional language modeling tasks, Cloze tasks, sentence/paragraph completion tasks, and closed book question answering tasks across various datasets mentioned in the evaluation.\n",
      "Reformulated query: Refined query: Evaluate the performance of the proposed model on traditional language modeling tasks, \"closed book\" question answering tasks, and language translation tasks across various datasets.\n"
     ]
    },
    {
     "name": "stderr",
     "output_type": "stream",
     "text": [
      "Testing RAGAgent-text-embedding-3-small:   9%|▊         | 18/209 [00:59<10:16,  3.23s/it]"
     ]
    },
    {
     "name": "stdout",
     "output_type": "stream",
     "text": [
      "Reformulated query: Retrieve performance comparison results of the Finetuned Transformer LM on the RACE dataset against other models with a focus on accuracy metrics.\n",
      "Reformulated query: Retrieve performance comparison of Finetuned Transformer LM with other models specifically on the RACE dataset.\n"
     ]
    },
    {
     "name": "stderr",
     "output_type": "stream",
     "text": [
      "Testing RAGAgent-text-embedding-3-small:  12%|█▏        | 25/209 [01:15<07:02,  2.30s/it]"
     ]
    },
    {
     "name": "stdout",
     "output_type": "stream",
     "text": [
      "Reformulated query: Refined query: performance improvement of the model on question answering tasks and text classification tasks compared to discriminatively trained task-specific models\n",
      "Reformulated query: Refined query: effectiveness of task-aware input transformations and fine-tuning for improving model performance on question answering and text classification tasks\n"
     ]
    },
    {
     "name": "stderr",
     "output_type": "stream",
     "text": [
      "Testing RAGAgent-text-embedding-3-small:  13%|█▎        | 27/209 [01:23<08:49,  2.91s/it]"
     ]
    },
    {
     "name": "stdout",
     "output_type": "stream",
     "text": [
      "Reformulated query: Revised query: \"performance of GPT-3 on CoQA dataset compared to baseline systems\"\n",
      "Reformulated query: Performance of GPT-3 language model on CoQA dataset compared to baseline systems.\n"
     ]
    },
    {
     "name": "stderr",
     "output_type": "stream",
     "text": [
      "Testing RAGAgent-text-embedding-3-small:  14%|█▍        | 30/209 [01:41<16:21,  5.48s/it]"
     ]
    },
    {
     "name": "stdout",
     "output_type": "stream",
     "text": [
      "Reformulated query: Refined query: Describe the two-stage training procedure of combining unsupervised pre-training with supervised fine-tuning in the Transformer model architecture as presented in the paper.\n",
      "Reformulated query: Methodology of combining unsupervised pre-training and supervised fine-tuning in the paper on language understanding tasks.\n"
     ]
    },
    {
     "name": "stderr",
     "output_type": "stream",
     "text": [
      "Testing RAGAgent-text-embedding-3-small:  19%|█▉        | 40/209 [02:10<05:58,  2.12s/it]"
     ]
    },
    {
     "name": "stdout",
     "output_type": "stream",
     "text": [
      "Reformulated query: \"Winograd Schema Challenge results GPT-3 performance evaluation\"\n",
      "Reformulated query: Winograd Schema Challenge results GPT-3 performance on original Winograd schemas and Winogrande dataset.\n"
     ]
    },
    {
     "name": "stderr",
     "output_type": "stream",
     "text": [
      "Testing RAGAgent-text-embedding-3-small:  22%|██▏       | 47/209 [02:27<06:13,  2.31s/it]"
     ]
    },
    {
     "name": "stdout",
     "output_type": "stream",
     "text": [
      "Reformulated query: Refined query: Examine the model performance trends in the paper compared to Jozefowicz et al. (2016) and Hestness et al. (2017) with a focus on fine-tuned systems and scaling without fine-tuning.\n",
      "Reformulated query: Revised query: Compare the model performance trends in the paper with those reported by Jozefowicz et al. (2016) and Hestness et al. (2017) specifically in terms of benchmark tasks, scalability trends, and advancements in natural language processing methods.\n"
     ]
    },
    {
     "name": "stderr",
     "output_type": "stream",
     "text": [
      "Testing RAGAgent-text-embedding-3-small:  23%|██▎       | 48/209 [02:32<07:38,  2.84s/it]"
     ]
    },
    {
     "name": "stdout",
     "output_type": "stream",
     "text": [
      "Reformulated query: Revised query: GPT-2's performance comparison on language modeling datasets and ability to model long-range dependencies.\n",
      "Reformulated query: Reformulated query: GPT-2's performance evaluations specifically on language modeling datasets like CBT and LAMBADA.\n"
     ]
    },
    {
     "name": "stderr",
     "output_type": "stream",
     "text": [
      "Testing RAGAgent-text-embedding-3-small:  24%|██▍       | 51/209 [02:41<07:36,  2.89s/it]"
     ]
    },
    {
     "name": "stdout",
     "output_type": "stream",
     "text": [
      "Reformulated query: Revised query: comparative analysis of GPT-3 and fine-tuned models in few-shot learning performance on natural language inference tasks and reading comprehension datasets\n",
      "Reformulated query: Key findings on the few-shot performance of GPT-3 compared to fine-tuned models in natural language inference tasks and reading comprehension datasets\n"
     ]
    },
    {
     "name": "stderr",
     "output_type": "stream",
     "text": [
      "Testing RAGAgent-text-embedding-3-small:  27%|██▋       | 56/209 [02:55<06:43,  2.64s/it]"
     ]
    },
    {
     "name": "stdout",
     "output_type": "stream",
     "text": [
      "Reformulated query: GPT-3 in-context learning evaluation methodology spectrum task-speciﬁc data reliance spectrum Illustration Figure 2.1\n",
      "Reformulated query: Refined query: detailed evaluation methodology for GPT-3's in-context learning abilities with a focus on different settings, such as fine-tuning, few-shot learning, one-shot learning, and zero-shot learning.\n"
     ]
    },
    {
     "name": "stderr",
     "output_type": "stream",
     "text": [
      "Testing RAGAgent-text-embedding-3-small:  27%|██▋       | 57/209 [03:00<08:24,  3.32s/it]"
     ]
    },
    {
     "name": "stdout",
     "output_type": "stream",
     "text": [
      "Reformulated query: Differences between few-shot, one-shot, and zero-shot learning in the context of language models as detailed in research papers.\n",
      "Reformulated query: Differences between zero-shot, one-shot, and few-shot learning in language models.\n"
     ]
    },
    {
     "name": "stderr",
     "output_type": "stream",
     "text": [
      "Testing RAGAgent-text-embedding-3-small:  29%|██▉       | 61/209 [03:13<07:25,  3.01s/it]"
     ]
    },
    {
     "name": "stdout",
     "output_type": "stream",
     "text": [
      "Reformulated query: \"Analysis of biases related to gender, race, and religion in GPT-3 and societal impacts\"\n",
      "Reformulated query: bias analysis of gender, race, and religion in GPT-3\n"
     ]
    },
    {
     "name": "stderr",
     "output_type": "stream",
     "text": [
      "Testing RAGAgent-text-embedding-3-small:  30%|██▉       | 62/209 [03:18<09:13,  3.77s/it]"
     ]
    },
    {
     "name": "stdout",
     "output_type": "stream",
     "text": [
      "Reformulated query: Refined query: Identify and describe the specific in-context learning settings evaluated in this paper.\n",
      "Reformulated query: Settings for in-context learning evaluated in this paper.\n"
     ]
    },
    {
     "name": "stderr",
     "output_type": "stream",
     "text": [
      "Testing RAGAgent-text-embedding-3-small:  33%|███▎      | 69/209 [03:40<07:08,  3.06s/it]"
     ]
    },
    {
     "name": "stdout",
     "output_type": "stream",
     "text": [
      "Reformulated query: architectural parameters impact on computational efficiency in transformer models with a focus on model size and validation loss scaling trend\n",
      "Reformulated query: architectural parameters impact on computational efficiency in transformer models\n"
     ]
    },
    {
     "name": "stderr",
     "output_type": "stream",
     "text": [
      "Testing RAGAgent-text-embedding-3-small:  34%|███▍      | 72/209 [03:51<07:49,  3.43s/it]"
     ]
    },
    {
     "name": "stdout",
     "output_type": "stream",
     "text": [
      "Reformulated query: Refined query: detailed description of the evaluation methodology for few-shot learning as applied to language models in the highlighted paper\n",
      "Reformulated query: Refined query: elucidate the specific evaluation methodology for few-shot learning as detailed in the paper by Tom B. Brown et al. on language models.\n"
     ]
    },
    {
     "name": "stderr",
     "output_type": "stream",
     "text": [
      "Testing RAGAgent-text-embedding-3-small:  36%|███▌      | 75/209 [04:00<06:29,  2.91s/it]"
     ]
    },
    {
     "name": "stdout",
     "output_type": "stream",
     "text": [
      "Reformulated query: Evaluate the methodology employed to assess GPT-3's language modeling capabilities comprehensively.\n",
      "Reformulated query: Refined query: detailed procedure for evaluating GPT-3's language modeling performance\n"
     ]
    },
    {
     "name": "stderr",
     "output_type": "stream",
     "text": [
      "Testing RAGAgent-text-embedding-3-small:  39%|███▉      | 82/209 [04:54<15:42,  7.42s/it]"
     ]
    },
    {
     "name": "stdout",
     "output_type": "stream",
     "text": [
      "Reformulated query: Query refinement: \"compare performance results between zero-shot, one-shot, and few-shot settings in language model training, focusing on their impact on model sample efficiency and benchmark performance\"\n",
      "Reformulated query: Compare the performance differences between zero-shot, one-shot, and few-shot settings specifically in the context of in-context learning abilities and trade-offs in sample efficiency on NLP benchmarks.\n"
     ]
    },
    {
     "name": "stderr",
     "output_type": "stream",
     "text": [
      "Testing RAGAgent-text-embedding-3-small:  43%|████▎     | 89/209 [05:14<05:47,  2.89s/it]"
     ]
    },
    {
     "name": "stdout",
     "output_type": "stream",
     "text": [
      "Reformulated query: Effectiveness comparison of GPT-3's performance in one-shot vs few-shot settings across specific tasks\n",
      "Reformulated query: Query refinement: Evaluate GPT-3's performance in the few-shot setting specifically for natural language inference tasks like ANLI, and reading comprehension tasks such as RACE or QuAC.\n"
     ]
    },
    {
     "name": "stderr",
     "output_type": "stream",
     "text": [
      "Testing RAGAgent-text-embedding-3-small:  48%|████▊     | 101/209 [06:07<12:41,  7.05s/it]"
     ]
    },
    {
     "name": "stdout",
     "output_type": "stream",
     "text": [
      "Reformulated query: Refined query: Examine the mean human detection accuracy of intentionally bad articles generated by GPT-3 175B model compared to a control model for news articles around 500 words long.\n",
      "Reformulated query: Query refinement: compare human detection accuracy of GPT-3 versus control model articles in detecting intentionally bad news articles.\n"
     ]
    },
    {
     "name": "stderr",
     "output_type": "stream",
     "text": [
      "Testing RAGAgent-text-embedding-3-small:  59%|█████▉    | 124/209 [07:09<03:04,  2.18s/it]"
     ]
    },
    {
     "name": "stdout",
     "output_type": "stream",
     "text": [
      "Reformulated query: Query refinement: \"Comparison of model sizes and performance in natural language processing research papers using GPT-3 and its variants\"\n",
      "Reformulated query: Comparative evaluation of GPT-3 model sizes and performance on specific NLP tasks across multiple research papers.\n"
     ]
    },
    {
     "name": "stderr",
     "output_type": "stream",
     "text": [
      "Testing RAGAgent-text-embedding-3-small:  61%|██████    | 127/209 [07:18<03:23,  2.49s/it]"
     ]
    },
    {
     "name": "stdout",
     "output_type": "stream",
     "text": [
      "Reformulated query: Differences between zero-shot, one-shot, and few-shot learning for language models in the context of performance trade-offs and sample efficiency.\n",
      "Reformulated query: Compare the trade-offs, advantages, and disadvantages of zero-shot, one-shot, and few-shot learning approaches for language models.\n"
     ]
    },
    {
     "name": "stderr",
     "output_type": "stream",
     "text": [
      "Testing RAGAgent-text-embedding-3-small:  64%|██████▎   | 133/209 [07:34<02:54,  2.29s/it]"
     ]
    },
    {
     "name": "stdout",
     "output_type": "stream",
     "text": [
      "Reformulated query: Refined query: methodology used for dataset filtering to reduce size and its specific impact on the dataset size in a machine learning research study\n",
      "Reformulated query: \"impact of dataset filtering process on size reduction effectiveness\"\n"
     ]
    },
    {
     "name": "stderr",
     "output_type": "stream",
     "text": [
      "Testing RAGAgent-text-embedding-3-small:  66%|██████▌   | 137/209 [07:45<03:00,  2.51s/it]"
     ]
    },
    {
     "name": "stdout",
     "output_type": "stream",
     "text": [
      "Reformulated query: Query refinement: demographic information of participants (age, gender distribution) in experiments evaluating human detection of model-generated news articles\n",
      "Reformulated query: Participant demographics distribution (gender ratio, mean age) in experiments on human ability to distinguish model-generated news articles from real news articles.\n"
     ]
    },
    {
     "name": "stderr",
     "output_type": "stream",
     "text": [
      "Testing RAGAgent-text-embedding-3-small:  68%|██████▊   | 143/209 [07:59<02:16,  2.07s/it]"
     ]
    },
    {
     "name": "stdout",
     "output_type": "stream",
     "text": [
      "Reformulated query: Refined query: Evaluate and compare model performance in zero-shot, one-shot, and few-shot settings for specific language tasks.\n",
      "Reformulated query: Refined query: detailed comparison of model performance on translation, Winograd Schema-like tasks, commonsense reasoning, question answering, reading comprehension, SuperGLUE benchmark suite, and NLI across zero-shot, one-shot, and few-shot settings\n"
     ]
    },
    {
     "name": "stderr",
     "output_type": "stream",
     "text": [
      "Testing RAGAgent-text-embedding-3-small:  69%|██████▉   | 145/209 [08:09<03:21,  3.15s/it]"
     ]
    },
    {
     "name": "stdout",
     "output_type": "stream",
     "text": [
      "Reformulated query: Refined query: Explain the three-step post-training alignment process illustrated in Figure 2 in the InstructGPT paper and its impact on GPT-4's performance.\n",
      "Reformulated query: Refined query: Explain the three-step post-training alignment process illustrated in Figure 2 of the InstructGPT paper and its impact on the performance of GPT-4.\n"
     ]
    },
    {
     "name": "stderr",
     "output_type": "stream",
     "text": [
      "Testing RAGAgent-text-embedding-3-small:  71%|███████   | 148/209 [08:17<02:37,  2.58s/it]"
     ]
    },
    {
     "name": "stdout",
     "output_type": "stream",
     "text": [
      "Reformulated query: \"Deep learning infrastructure and optimization challenges addressed in large language models research\"\n",
      "Reformulated query: key challenges faced in developing deep learning infrastructure and optimization methods in large-scale language models\n"
     ]
    },
    {
     "name": "stderr",
     "output_type": "stream",
     "text": [
      "Testing RAGAgent-text-embedding-3-small:  77%|███████▋  | 160/209 [08:46<02:03,  2.53s/it]"
     ]
    },
    {
     "name": "stdout",
     "output_type": "stream",
     "text": [
      "Reformulated query: Summarize the significant contributions and implications discussed in the paper by Srivastava et al. on the capabilities of large language models.\n",
      "Reformulated query: Summarize the findings of Srivastava et al.'s paper on large language model's impact on zero-shot task transfer and performance improvement.\n"
     ]
    },
    {
     "name": "stderr",
     "output_type": "stream",
     "text": [
      "Testing RAGAgent-text-embedding-3-small:  78%|███████▊  | 162/209 [08:52<02:09,  2.76s/it]"
     ]
    },
    {
     "name": "stdout",
     "output_type": "stream",
     "text": [
      "Reformulated query: \"Validation method used for contamination checking in GSM-8K dataset during GPT-4 training\"\n",
      "Reformulated query: Refined query: methodology for contamination checking in GSM-8K validation\n"
     ]
    },
    {
     "name": "stderr",
     "output_type": "stream",
     "text": [
      "Testing RAGAgent-text-embedding-3-small:  78%|███████▊  | 164/209 [09:00<02:33,  3.40s/it]"
     ]
    },
    {
     "name": "stdout",
     "output_type": "stream",
     "text": [
      "Reformulated query: Reformulated query: GPT-4 performance metrics on traditional NLP benchmarks compared to baseline models\n",
      "Reformulated query: Revised query: detailed performance comparison of GPT-4 with baseline language models on specific NLP benchmarks\n"
     ]
    },
    {
     "name": "stderr",
     "output_type": "stream",
     "text": [
      "Testing RAGAgent-text-embedding-3-small:  81%|████████▏ | 170/209 [09:17<01:45,  2.70s/it]"
     ]
    },
    {
     "name": "stdout",
     "output_type": "stream",
     "text": [
      "Reformulated query: impact of GPT-4's safety mitigations on privacy, cybersecurity, and content generation\n",
      "Reformulated query: impact of GPT-4 safety mitigations on privacy, cybersecurity, and potential misuse\n"
     ]
    },
    {
     "name": "stderr",
     "output_type": "stream",
     "text": [
      "Testing RAGAgent-text-embedding-3-small:  82%|████████▏ | 171/209 [09:22<02:11,  3.47s/it]"
     ]
    },
    {
     "name": "stdout",
     "output_type": "stream",
     "text": [
      "Reformulated query: Refined query: detail the training methodology for GPT-3 in the study mentioned in the retrieved documents.\n",
      "Reformulated query: Refined query: Describe the training methodology for GPT models, specifically focusing on pre-training approaches, model scaling, data sampling techniques, and optimization parameters mentioned in recent research papers.\n"
     ]
    },
    {
     "name": "stderr",
     "output_type": "stream",
     "text": [
      "Testing RAGAgent-text-embedding-3-small:  88%|████████▊ | 183/209 [09:58<01:32,  3.54s/it]"
     ]
    },
    {
     "name": "stdout",
     "output_type": "stream",
     "text": [
      "Reformulated query: Revised query: strategies to mitigate bias in language models and improve performance for different demographics\n"
     ]
    },
    {
     "name": "stderr",
     "output_type": "stream",
     "text": [
      "Testing RAGAgent-text-embedding-3-small:  93%|█████████▎| 195/209 [10:28<00:36,  2.59s/it]"
     ]
    },
    {
     "name": "stdout",
     "output_type": "stream",
     "text": [
      "Reformulated query: Query refinement: \"analysis of how GPT-4's post-training alignment process enhances user intent alignment compared to previous models\"\n",
      "Reformulated query: Refined query: Detailed description of the user intent alignment process in GPT-4, specifically focusing on the methodology outlined in the InstructGPT paper.\n"
     ]
    },
    {
     "name": "stderr",
     "output_type": "stream",
     "text": [
      "Testing RAGAgent-text-embedding-3-small: 100%|██████████| 209/209 [11:00<00:00,  3.16s/it]\n"
     ]
    },
    {
     "name": "stdout",
     "output_type": "stream",
     "text": [
      "\n",
      "Evaluating configuration: RAGAgent-text-embedding-3-large\n",
      "Initializing collection eval_text_embedding_3_large\n",
      "Deleted existing collection eval_text_embedding_3_large\n",
      "Created collection eval_text_embedding_3_large with 209 documents using text-embedding-3-large\n"
     ]
    },
    {
     "name": "stderr",
     "output_type": "stream",
     "text": [
      "Testing RAGAgent-text-embedding-3-large:   0%|          | 1/209 [00:02<09:42,  2.80s/it]"
     ]
    },
    {
     "name": "stdout",
     "output_type": "stream",
     "text": [
      "Reformulated query: \"Specific key findings and performance metrics from evaluated benchmarks in this paper.\"\n",
      "Reformulated query: Evaluate key performance metrics and findings specifically related to language model benchmark evaluations in the target paper.\n"
     ]
    },
    {
     "name": "stderr",
     "output_type": "stream",
     "text": [
      "Testing RAGAgent-text-embedding-3-large:   2%|▏         | 5/209 [00:16<10:53,  3.20s/it]"
     ]
    },
    {
     "name": "stdout",
     "output_type": "stream",
     "text": [
      "Reformulated query: Role of input adaptations in the proposed model for improving task-specific performance\n",
      "Reformulated query: role of task-specific input adaptations in the proposed model meta-learning approach for in-context learning and improved task completion\n"
     ]
    },
    {
     "name": "stderr",
     "output_type": "stream",
     "text": [
      "Testing RAGAgent-text-embedding-3-large:   3%|▎         | 6/209 [00:21<13:23,  3.96s/it]"
     ]
    },
    {
     "name": "stdout",
     "output_type": "stream",
     "text": [
      "Reformulated query: Revised query: detailed performance improvements of the model on semantic similarity tasks such as STS-B and QQP, as well as text classification tasks like CoLA and SST-2\n",
      "Reformulated query: Performance improvements of the model proposed in the paper on semantic similarity and classification tasks compared to current state-of-the-art methods.\n"
     ]
    },
    {
     "name": "stderr",
     "output_type": "stream",
     "text": [
      "Testing RAGAgent-text-embedding-3-large:   8%|▊         | 16/209 [00:47<07:13,  2.25s/it]"
     ]
    },
    {
     "name": "stdout",
     "output_type": "stream",
     "text": [
      "Reformulated query: Evaluate the proposed model's performance specifically on the Winograd Schema-like tasks, reading comprehension tasks, SuperGLUE benchmark suite, and NLI datasets.\n",
      "Reformulated query: Query refinement: Analyze the proposed model's performance across different datasets in natural language inference, Winograd Schema Challenge, and reading comprehension tasks.\n"
     ]
    },
    {
     "name": "stderr",
     "output_type": "stream",
     "text": [
      "Testing RAGAgent-text-embedding-3-large:   9%|▉         | 19/209 [00:57<08:52,  2.80s/it]"
     ]
    },
    {
     "name": "stdout",
     "output_type": "stream",
     "text": [
      "Reformulated query: Semantic similarity tasks and dataset performance comparison in state-of-the-art models for GLUE benchmark evaluation.\n",
      "Reformulated query: Semantic similarity tasks and datasets performance comparison in this study.\n"
     ]
    },
    {
     "name": "stderr",
     "output_type": "stream",
     "text": [
      "Testing RAGAgent-text-embedding-3-large:  13%|█▎        | 27/209 [01:16<06:14,  2.06s/it]"
     ]
    },
    {
     "name": "stdout",
     "output_type": "stream",
     "text": [
      "Reformulated query: \"performance of GPT-3 on the CoQA dataset compared to baseline systems\"\n",
      "Reformulated query: Performance of GPT-3 on the CoQA dataset compared to baseline systems.\n"
     ]
    },
    {
     "name": "stderr",
     "output_type": "stream",
     "text": [
      "Testing RAGAgent-text-embedding-3-large:  14%|█▍        | 30/209 [01:25<07:30,  2.52s/it]"
     ]
    },
    {
     "name": "stdout",
     "output_type": "stream",
     "text": [
      "Reformulated query: Refined query: Describe the two-stage training procedure of combining unsupervised pre-training with supervised fine-tuning using the Transformer model for language understanding tasks as detailed in the provided documents.\n",
      "Reformulated query: Methodology details combining pre-training and supervised fine-tuning in the context of language understanding tasks using transformer networks.\n"
     ]
    },
    {
     "name": "stderr",
     "output_type": "stream",
     "text": [
      "Testing RAGAgent-text-embedding-3-large:  17%|█▋        | 35/209 [01:43<08:48,  3.04s/it]"
     ]
    },
    {
     "name": "stdout",
     "output_type": "stream",
     "text": [
      "Reformulated query: Trained language models architecture and size specifications for varying model sizes\n",
      "Reformulated query: Query refinement: specifications on the architecture and size of GPT-3 language models\n"
     ]
    },
    {
     "name": "stderr",
     "output_type": "stream",
     "text": [
      "Testing RAGAgent-text-embedding-3-large:  19%|█▉        | 40/209 [01:56<06:39,  2.36s/it]"
     ]
    },
    {
     "name": "stdout",
     "output_type": "stream",
     "text": [
      "Reformulated query: Revised query: \"GPT-3 performance results on Winograd Schema Challenge in zero-shot, one-shot, and few-shot settings\"\n",
      "Reformulated query: Winograd Schema Challenge results in GPT-3 paper.\n"
     ]
    },
    {
     "name": "stderr",
     "output_type": "stream",
     "text": [
      "Testing RAGAgent-text-embedding-3-large:  22%|██▏       | 46/209 [02:13<07:05,  2.61s/it]"
     ]
    },
    {
     "name": "stdout",
     "output_type": "stream",
     "text": [
      "Reformulated query: Importance of n-gram overlap in de-duplication for NLP dataset creation\n",
      "Reformulated query: n-gram overlap importance in de-duplication for NLP dataset creation\n"
     ]
    },
    {
     "name": "stderr",
     "output_type": "stream",
     "text": [
      "Testing RAGAgent-text-embedding-3-large:  23%|██▎       | 48/209 [02:21<08:46,  3.27s/it]"
     ]
    },
    {
     "name": "stdout",
     "output_type": "stream",
     "text": [
      "Reformulated query: \"performance analysis of GPT-2 on language modeling tasks\"\n"
     ]
    },
    {
     "name": "stderr",
     "output_type": "stream",
     "text": [
      "Testing RAGAgent-text-embedding-3-large:  24%|██▍       | 51/209 [02:31<08:18,  3.15s/it]"
     ]
    },
    {
     "name": "stdout",
     "output_type": "stream",
     "text": [
      "Reformulated query: key findings on GPT-3's few-shot performance compared to fine-tuning approaches in natural language inference and reading comprehension tasks.\n",
      "Reformulated query: key findings on the few-shot performance of GPT-3 in natural language inference tasks like the ANLI dataset, reading comprehension tasks like RACE or QuAC, and CoQA task.\n"
     ]
    },
    {
     "name": "stderr",
     "output_type": "stream",
     "text": [
      "Testing RAGAgent-text-embedding-3-large:  27%|██▋       | 56/209 [02:48<07:24,  2.90s/it]"
     ]
    },
    {
     "name": "stdout",
     "output_type": "stream",
     "text": [
      "Reformulated query: Refined query: \"evaluation methodology for GPT-3's in-context learning abilities on Winograd Schema tasks\"\n",
      "Reformulated query: Revised query: Evaluation methodology used to assess GPT-3's in-context learning abilities specifically on Winograd Schema Challenge tasks.\n"
     ]
    },
    {
     "name": "stderr",
     "output_type": "stream",
     "text": [
      "Testing RAGAgent-text-embedding-3-large:  27%|██▋       | 57/209 [02:54<09:38,  3.81s/it]"
     ]
    },
    {
     "name": "stdout",
     "output_type": "stream",
     "text": [
      "Reformulated query: Distinguish between zero-shot, one-shot, and few-shot learning modes in the context of language modeling based on the provided details.\n",
      "Reformulated query: Distinguish between zero-shot, one-shot, and few-shot learning in language models as outlined in the provided documents.\n"
     ]
    },
    {
     "name": "stderr",
     "output_type": "stream",
     "text": [
      "Testing RAGAgent-text-embedding-3-large:  29%|██▊       | 60/209 [03:06<09:34,  3.85s/it]"
     ]
    },
    {
     "name": "stdout",
     "output_type": "stream",
     "text": [
      "Reformulated query: Refined query: impact of data contamination on performance results for diverse datasets in analyzing model performance\n",
      "Reformulated query: Refined query: impact of data contamination on the reported results for LAMBADA, PIQA, and Winograd datasets in the paper\n"
     ]
    },
    {
     "name": "stderr",
     "output_type": "stream",
     "text": [
      "Testing RAGAgent-text-embedding-3-large:  29%|██▉       | 61/209 [03:11<10:07,  4.11s/it]"
     ]
    },
    {
     "name": "stdout",
     "output_type": "stream",
     "text": [
      "Reformulated query: GPT-3 biases societal impacts study\n",
      "Reformulated query: Query refinement: analysis of societal biases and impacts of GPT-3 on marginalized groups.\n"
     ]
    },
    {
     "name": "stderr",
     "output_type": "stream",
     "text": [
      "Testing RAGAgent-text-embedding-3-large:  39%|███▉      | 82/209 [04:03<05:20,  2.52s/it]"
     ]
    },
    {
     "name": "stdout",
     "output_type": "stream",
     "text": [
      "Reformulated query: Examine the performance differences across zero-shot, one-shot, and few-shot settings in the study, focusing on comparing their effectiveness in achieving specific benchmarks and sample efficiency.\n",
      "Reformulated query: Refined query: \"Compare the performance differences between zero-shot, one-shot, and few-shot evaluation settings in language models.\"\n"
     ]
    },
    {
     "name": "stderr",
     "output_type": "stream",
     "text": [
      "Testing RAGAgent-text-embedding-3-large:  43%|████▎     | 89/209 [04:25<05:37,  2.82s/it]"
     ]
    },
    {
     "name": "stdout",
     "output_type": "stream",
     "text": [
      "Reformulated query: Refined query: Compare GPT-3's performance in one-shot and few-shot settings specifically on natural language inference tasks such as ANLI, reading comprehension datasets like RACE and QuAC, and on specific tasks like COPA, ReCoRD, WSC, BoolQ, MultiRC, and RTE.\n",
      "Reformulated query: GPT-3 performance comparison between one-shot and few-shot settings on natural language inference tasks such as ANLI and RTE.\n"
     ]
    },
    {
     "name": "stderr",
     "output_type": "stream",
     "text": [
      "Testing RAGAgent-text-embedding-3-large:  45%|████▌     | 95/209 [04:44<04:47,  2.52s/it]"
     ]
    },
    {
     "name": "stdout",
     "output_type": "stream",
     "text": [
      "Reformulated query: impact of model size on zero-shot, one-shot, and few-shot performance for SAT analogy tasks\n",
      "Reformulated query: Impact of model size on zero-shot, one-shot, and few-shot performance analysis for SAT analogy tasks\n"
     ]
    },
    {
     "name": "stderr",
     "output_type": "stream",
     "text": [
      "Testing RAGAgent-text-embedding-3-large:  48%|████▊     | 100/209 [04:58<04:37,  2.55s/it]"
     ]
    },
    {
     "name": "stdout",
     "output_type": "stream",
     "text": [
      "Reformulated query: human accuracy rates in identifying GPT-3 generated text compared to control model outputs across different model sizes\n",
      "Reformulated query: GPT-3 human accuracy rates in detecting model-generated text across various model sizes compared to a control model\n"
     ]
    },
    {
     "name": "stderr",
     "output_type": "stream",
     "text": [
      "Testing RAGAgent-text-embedding-3-large:  48%|████▊     | 101/209 [05:02<05:31,  3.07s/it]"
     ]
    },
    {
     "name": "stdout",
     "output_type": "stream",
     "text": [
      "Reformulated query: Compare human detection accuracy of GPT-3 175B model-generated news articles versus control model-generated news articles in the study.\n",
      "Reformulated query: Human detection accuracy comparison study: Investigate the ability of participants to detect model-generated news articles from GPT-3 across various model sizes compared to a control model.\n"
     ]
    },
    {
     "name": "stderr",
     "output_type": "stream",
     "text": [
      "Testing RAGAgent-text-embedding-3-large:  59%|█████▉    | 124/209 [05:59<02:49,  1.99s/it]"
     ]
    },
    {
     "name": "stdout",
     "output_type": "stream",
     "text": [
      "Reformulated query: Query refinement: \"comparison of model sizes and performance in natural language processing research studies\"\n",
      "Reformulated query: Comparison of model sizes and performance in natural language processing tasks across research papers, focusing on neural network architectures and benchmark datasets.\n"
     ]
    },
    {
     "name": "stderr",
     "output_type": "stream",
     "text": [
      "Testing RAGAgent-text-embedding-3-large:  61%|██████    | 127/209 [06:07<02:59,  2.19s/it]"
     ]
    },
    {
     "name": "stdout",
     "output_type": "stream",
     "text": [
      "Reformulated query: Compare the differences between zero-shot, one-shot, and few-shot learning approaches used in the context of language models.\n",
      "Reformulated query: Refined query: Provide a comparative analysis of zero-shot, one-shot, and few-shot learning approaches in the context of language models.\n"
     ]
    },
    {
     "name": "stderr",
     "output_type": "stream",
     "text": [
      "Testing RAGAgent-text-embedding-3-large:  64%|██████▎   | 133/209 [06:23<02:32,  2.01s/it]"
     ]
    },
    {
     "name": "stdout",
     "output_type": "stream",
     "text": [
      "Reformulated query: Revised query: methodology for filtering benchmark datasets in text data to reduce dataset size\n",
      "Reformulated query: Refined query: methodologies for dataset filtering and the resulting impact on dataset size reduction\n"
     ]
    },
    {
     "name": "stderr",
     "output_type": "stream",
     "text": [
      "Testing RAGAgent-text-embedding-3-large:  66%|██████▌   | 137/209 [06:35<03:10,  2.64s/it]"
     ]
    },
    {
     "name": "stdout",
     "output_type": "stream",
     "text": [
      "Reformulated query: Query refinement: demographics (gender distribution, age range) of participants in experiments measuring human ability to differentiate between model-generated and real news articles\n"
     ]
    },
    {
     "name": "stderr",
     "output_type": "stream",
     "text": [
      "Testing RAGAgent-text-embedding-3-large:  68%|██████▊   | 143/209 [06:48<02:06,  1.91s/it]"
     ]
    },
    {
     "name": "stdout",
     "output_type": "stream",
     "text": [
      "Reformulated query: Model performance comparison in zero-shot, one-shot, and few-shot settings across different tasks.\n",
      "Reformulated query: \"Analyze and compare model performance metrics in zero-shot, one-shot, and few-shot settings for natural language processing tasks.\"\n"
     ]
    },
    {
     "name": "stderr",
     "output_type": "stream",
     "text": [
      "Testing RAGAgent-text-embedding-3-large:  69%|██████▉   | 145/209 [06:54<02:42,  2.55s/it]"
     ]
    },
    {
     "name": "stdout",
     "output_type": "stream",
     "text": [
      "Reformulated query: Refined query: Explain the impact of the post-training alignment process on GPT-4's performance, focusing on how biases in outputs are corrected and the improvements made towards the safety and alignment of the model.\n",
      "Reformulated query: Refined query: Explain the impact of the post-training alignment process on the biases and calibration of GPT-4's outputs.\n"
     ]
    },
    {
     "name": "stderr",
     "output_type": "stream",
     "text": [
      "Testing RAGAgent-text-embedding-3-large:  71%|███████   | 148/209 [07:03<02:46,  2.73s/it]"
     ]
    },
    {
     "name": "stdout",
     "output_type": "stream",
     "text": [
      "Reformulated query: Query refinement: optimization methods for deep learning infrastructure development\n",
      "Reformulated query: Revised query: recent approaches and advancements in developing deep learning infrastructure and optimization methods for autoregressive language models\n"
     ]
    },
    {
     "name": "stderr",
     "output_type": "stream",
     "text": [
      "Testing RAGAgent-text-embedding-3-large:  77%|███████▋  | 160/209 [07:34<02:04,  2.55s/it]"
     ]
    },
    {
     "name": "stdout",
     "output_type": "stream",
     "text": [
      "Reformulated query: paper Srivastava et al. language model capabilities findings\n",
      "Reformulated query: Summarize the findings of Srivastava et al.'s paper on GPT-2 language model capabilities.\n"
     ]
    },
    {
     "name": "stderr",
     "output_type": "stream",
     "text": [
      "Testing RAGAgent-text-embedding-3-large:  78%|███████▊  | 162/209 [07:40<02:09,  2.75s/it]"
     ]
    },
    {
     "name": "stdout",
     "output_type": "stream",
     "text": [
      "Reformulated query: Contamination checking method specifically used for GSM-8K validation in GPT-4.\n",
      "Reformulated query: GSM-8K contamination checking method validation details\n"
     ]
    },
    {
     "name": "stderr",
     "output_type": "stream",
     "text": [
      "Testing RAGAgent-text-embedding-3-large:  78%|███████▊  | 163/209 [07:45<02:32,  3.31s/it]"
     ]
    },
    {
     "name": "stdout",
     "output_type": "stream",
     "text": [
      "Reformulated query: Refined query: Analyze the performance differences between GPT-4 and GPT-3.5 on specific benchmarks such as MMLU, GSM-8K, HellaSwag, AI2, WinoGrande, HumanEval, and DROP.\n"
     ]
    },
    {
     "name": "stderr",
     "output_type": "stream",
     "text": [
      "Testing RAGAgent-text-embedding-3-large:  78%|███████▊  | 164/209 [07:49<02:40,  3.58s/it]"
     ]
    },
    {
     "name": "stdout",
     "output_type": "stream",
     "text": [
      "Reformulated query: \"Performance metrics of GPT-4 on NLP benchmarks compared to baseline language models\"\n",
      "Reformulated query: GPT-4 performance metrics comparison with baseline models in language models tasks\n"
     ]
    },
    {
     "name": "stderr",
     "output_type": "stream",
     "text": [
      "Testing RAGAgent-text-embedding-3-large:  81%|████████▏ | 170/209 [08:08<01:47,  2.76s/it]"
     ]
    },
    {
     "name": "stdout",
     "output_type": "stream",
     "text": [
      "Reformulated query: impact of GPT-4's safety mitigations on its deployment and prevention of misuse\n",
      "Reformulated query: impact of safety mitigations on GPT-4 deployment and misuse\n"
     ]
    },
    {
     "name": "stderr",
     "output_type": "stream",
     "text": [
      "Testing RAGAgent-text-embedding-3-large:  82%|████████▏ | 171/209 [08:15<02:40,  4.23s/it]"
     ]
    },
    {
     "name": "stdout",
     "output_type": "stream",
     "text": [
      "Reformulated query: Summarize the training methodology, including pre-training approach, fine-tuning process, and model training details, used specifically for GPT models in the discussed papers.\n",
      "Reformulated query: Refined query: detail the training methodology for GPT-3 in the provided paper, focusing on pre-training strategies and model optimization techniques.\n"
     ]
    },
    {
     "name": "stderr",
     "output_type": "stream",
     "text": [
      "Testing RAGAgent-text-embedding-3-large:  93%|█████████▎| 195/209 [09:13<00:29,  2.10s/it]"
     ]
    },
    {
     "name": "stdout",
     "output_type": "stream",
     "text": [
      "Reformulated query: Query refinement: \"analysis of user intent alignment enhancements in GPT-4 compared to previous language models\"\n",
      "Reformulated query: improvements in user intent alignment of GPT-4 compared to previous models specifically in language understanding\n"
     ]
    },
    {
     "name": "stderr",
     "output_type": "stream",
     "text": [
      "Testing RAGAgent-text-embedding-3-large:  98%|█████████▊| 205/209 [09:42<00:11,  2.86s/it]"
     ]
    },
    {
     "name": "stdout",
     "output_type": "stream",
     "text": [
      "Reformulated query: Key findings of societal biases and harmful content in GPT-4 language model from \"Characteristics of Harmful Text\" paper.\n",
      "Reformulated query: Key findings paper \"Characteristics of Harmful Text: Towards Rigorous Benchmarking of Language Models\"\n"
     ]
    },
    {
     "name": "stderr",
     "output_type": "stream",
     "text": [
      "Testing RAGAgent-text-embedding-3-large: 100%|██████████| 209/209 [09:50<00:00,  2.83s/it]\n"
     ]
    },
    {
     "name": "stdout",
     "output_type": "stream",
     "text": [
      "\n",
      "Evaluating configuration: RAGAgent-text-embedding-3-large-cross-encoder/ms-marco-MiniLM-L-6-v2\n"
     ]
    },
    {
     "name": "stderr",
     "output_type": "stream",
     "text": [
      "Testing RAGAgent-text-embedding-3-large-cross-encoder/ms-marco-MiniLM-L-6-v2:   0%|          | 1/209 [00:15<54:20, 15.68s/it]"
     ]
    },
    {
     "name": "stdout",
     "output_type": "stream",
     "text": [
      "Reformulated query: Evaluate the key findings and performance metrics of GPT-3 on NLP benchmarks presented in the paper.\n",
      "Reformulated query: Revised query: performance metrics and key findings specifically comparing GPT-3 and GPT-4 on traditional NLP benchmarks and in-context learning abilities.\n"
     ]
    },
    {
     "name": "stderr",
     "output_type": "stream",
     "text": [
      "Testing RAGAgent-text-embedding-3-large-cross-encoder/ms-marco-MiniLM-L-6-v2:   3%|▎         | 6/209 [00:52<21:54,  6.47s/it]"
     ]
    },
    {
     "name": "stdout",
     "output_type": "stream",
     "text": [
      "Reformulated query: performance improvements of the model in this paper specifically in natural language tasks.\n",
      "Reformulated query: performance improvements of model in Natural Language Understanding tasks in the paper\n"
     ]
    },
    {
     "name": "stderr",
     "output_type": "stream",
     "text": [
      "Testing RAGAgent-text-embedding-3-large-cross-encoder/ms-marco-MiniLM-L-6-v2:   8%|▊         | 16/209 [01:53<18:10,  5.65s/it]"
     ]
    },
    {
     "name": "stdout",
     "output_type": "stream",
     "text": [
      "Reformulated query: Retrieve performance comparison results of a proposed model on different datasets in natural language tasks.\n",
      "Reformulated query: Refined query: Analyze the performance of the proposed Finetuned Transformer LM model on natural language inference tasks across MNLI-m, MNLI-mm, SNLI, SciTail, QNLI, and RTE datasets.\n"
     ]
    },
    {
     "name": "stderr",
     "output_type": "stream",
     "text": [
      "Testing RAGAgent-text-embedding-3-large-cross-encoder/ms-marco-MiniLM-L-6-v2:   9%|▊         | 18/209 [02:16<26:52,  8.44s/it]"
     ]
    },
    {
     "name": "stdout",
     "output_type": "stream",
     "text": [
      "Reformulated query: Retrieve performance comparison of Finetuned Transformer LM against specific models on the RACE dataset in question answering and commonsense reasoning tasks.\n"
     ]
    },
    {
     "name": "stderr",
     "output_type": "stream",
     "text": [
      "Testing RAGAgent-text-embedding-3-large-cross-encoder/ms-marco-MiniLM-L-6-v2:  13%|█▎        | 27/209 [03:05<14:39,  4.83s/it]"
     ]
    },
    {
     "name": "stdout",
     "output_type": "stream",
     "text": [
      "Reformulated query: Performance of GPT-3 on the CoQA dataset compared to baseline systems\n",
      "Reformulated query: Performance of GPT-3 on the CoQA dataset compared to baseline systems in different answer formats.\n"
     ]
    },
    {
     "name": "stderr",
     "output_type": "stream",
     "text": [
      "Testing RAGAgent-text-embedding-3-large-cross-encoder/ms-marco-MiniLM-L-6-v2:  14%|█▍        | 30/209 [03:30<19:24,  6.50s/it]"
     ]
    },
    {
     "name": "stdout",
     "output_type": "stream",
     "text": [
      "Reformulated query: Methodology of combining pre-training and supervised fine-tuning in language understanding tasks in the specified paper.\n"
     ]
    },
    {
     "name": "stderr",
     "output_type": "stream",
     "text": [
      "Testing RAGAgent-text-embedding-3-large-cross-encoder/ms-marco-MiniLM-L-6-v2:  17%|█▋        | 35/209 [04:04<17:54,  6.18s/it]"
     ]
    },
    {
     "name": "stdout",
     "output_type": "stream",
     "text": [
      "Reformulated query: Query refinement: Details on the architecture and size of language models, specifically focusing on models trained with a range of 125 million to 175 billion parameters.\n",
      "Reformulated query: Revised query: specifications of architecture and size for language models ranging from 125 million to 175 billion parameters.\n"
     ]
    },
    {
     "name": "stderr",
     "output_type": "stream",
     "text": [
      "Testing RAGAgent-text-embedding-3-large-cross-encoder/ms-marco-MiniLM-L-6-v2:  24%|██▍       | 50/209 [05:41<19:56,  7.53s/it]"
     ]
    },
    {
     "name": "stdout",
     "output_type": "stream",
     "text": [
      "Reformulated query: Differences in few-shot learning abilities between humans and GPT-3 in NLP systems.\n",
      "Reformulated query: Differences in few-shot learning capabilities between humans and GPT-3 in NLP tasks.\n"
     ]
    },
    {
     "name": "stderr",
     "output_type": "stream",
     "text": [
      "Testing RAGAgent-text-embedding-3-large-cross-encoder/ms-marco-MiniLM-L-6-v2:  24%|██▍       | 51/209 [05:56<25:27,  9.67s/it]"
     ]
    },
    {
     "name": "stdout",
     "output_type": "stream",
     "text": [
      "Reformulated query: GPT-3 few-shot performance comparison with fine-tuned models across SuperGLUE tasks and CoQA reading comprehension.\n",
      "Reformulated query: \"Comparison of GPT-3 few-shot performance with fine-tuned models in reading comprehension tasks\"\n"
     ]
    },
    {
     "name": "stderr",
     "output_type": "stream",
     "text": [
      "Testing RAGAgent-text-embedding-3-large-cross-encoder/ms-marco-MiniLM-L-6-v2:  27%|██▋       | 57/209 [06:45<17:11,  6.78s/it]"
     ]
    },
    {
     "name": "stdout",
     "output_type": "stream",
     "text": [
      "Reformulated query: Differences between zero-shot, one-shot, and few-shot learning in the context of language models.\n"
     ]
    },
    {
     "name": "stderr",
     "output_type": "stream",
     "text": [
      "Testing RAGAgent-text-embedding-3-large-cross-encoder/ms-marco-MiniLM-L-6-v2:  29%|██▉       | 61/209 [07:14<16:26,  6.66s/it]"
     ]
    },
    {
     "name": "stdout",
     "output_type": "stream",
     "text": [
      "Reformulated query: GPT-3 societal bias impacts analysis\n",
      "Reformulated query: GPT-3 societal impact of bias examples\n"
     ]
    },
    {
     "name": "stderr",
     "output_type": "stream",
     "text": [
      "Testing RAGAgent-text-embedding-3-large-cross-encoder/ms-marco-MiniLM-L-6-v2:  39%|███▉      | 82/209 [09:13<12:34,  5.94s/it]"
     ]
    },
    {
     "name": "stdout",
     "output_type": "stream",
     "text": [
      "Reformulated query: Compare the performance differences in zero-shot, one-shot, and few-shot settings in GPT-3 across various tasks in this study.\n"
     ]
    },
    {
     "name": "stderr",
     "output_type": "stream",
     "text": [
      "Testing RAGAgent-text-embedding-3-large-cross-encoder/ms-marco-MiniLM-L-6-v2:  46%|████▌     | 96/209 [10:40<09:35,  5.10s/it]"
     ]
    },
    {
     "name": "stdout",
     "output_type": "stream",
     "text": [
      "Reformulated query: Methodology for evaluating human detection accuracy of model-generated text in comparison to human-written text.\n",
      "Reformulated query: Methodology for evaluating human detection of model-generated text in comparison to GLTR, GROVER, and various GPT-3 models\n"
     ]
    },
    {
     "name": "stderr",
     "output_type": "stream",
     "text": [
      "Testing RAGAgent-text-embedding-3-large-cross-encoder/ms-marco-MiniLM-L-6-v2:  48%|████▊     | 100/209 [11:16<12:58,  7.14s/it]"
     ]
    },
    {
     "name": "stdout",
     "output_type": "stream",
     "text": [
      "Reformulated query: human accuracy rates in detecting GPT-3 generated text versus control model outputs for articles approximately 500 words long\n"
     ]
    },
    {
     "name": "stderr",
     "output_type": "stream",
     "text": [
      "Testing RAGAgent-text-embedding-3-large-cross-encoder/ms-marco-MiniLM-L-6-v2:  49%|████▉     | 102/209 [11:30<12:31,  7.02s/it]"
     ]
    },
    {
     "name": "stdout",
     "output_type": "stream",
     "text": [
      "Reformulated query: Impact of contamination on model performance in language modeling benchmarks such as LAMBADA dataset\n",
      "Reformulated query: Impact of contamination on model performance in the context of language modeling benchmarks in GPT-based models\n"
     ]
    },
    {
     "name": "stderr",
     "output_type": "stream",
     "text": [
      "Testing RAGAgent-text-embedding-3-large-cross-encoder/ms-marco-MiniLM-L-6-v2:  56%|█████▌    | 116/209 [13:10<10:14,  6.61s/it]"
     ]
    },
    {
     "name": "stdout",
     "output_type": "stream",
     "text": [
      "Reformulated query: Query refinement: methodologies used to assess gender biases in occupation identifiers in large-scale generative models\n",
      "Reformulated query: Revised query: Methodologies and specific criteria utilized to evaluate gender biases in occupation identifiers within the study.\n"
     ]
    },
    {
     "name": "stderr",
     "output_type": "stream",
     "text": [
      "Testing RAGAgent-text-embedding-3-large-cross-encoder/ms-marco-MiniLM-L-6-v2:  56%|█████▋    | 118/209 [13:31<12:44,  8.40s/it]"
     ]
    },
    {
     "name": "stdout",
     "output_type": "stream",
     "text": [
      "Reformulated query: gender bias word usage study findings GPT-3 internet-trained model\n",
      "Reformulated query: Gender bias in word usage study findings in relation to GPT-3's association between gender and occupation.\n"
     ]
    },
    {
     "name": "stderr",
     "output_type": "stream",
     "text": [
      "Testing RAGAgent-text-embedding-3-large-cross-encoder/ms-marco-MiniLM-L-6-v2:  59%|█████▉    | 124/209 [14:21<10:01,  7.07s/it]"
     ]
    },
    {
     "name": "stdout",
     "output_type": "stream",
     "text": [
      "Reformulated query: \"Comparison of model sizes and performance in NLP papers with experiments testing models of various sizes and their impact on validation loss and downstream tasks.\"\n",
      "Reformulated query: \"Comparison of language model sizes and performance metrics in recent NLP papers\"\n"
     ]
    },
    {
     "name": "stderr",
     "output_type": "stream",
     "text": [
      "Testing RAGAgent-text-embedding-3-large-cross-encoder/ms-marco-MiniLM-L-6-v2:  68%|██████▊   | 143/209 [19:36<24:12, 22.00s/it]"
     ]
    },
    {
     "name": "stdout",
     "output_type": "stream",
     "text": [
      "Reformulated query: Refined query: Evaluate the performance of GPT-3 in zero-shot, one-shot, and few-shot settings for the Ro-En task compared to fine-tuning on supervised data and backtranslation.\n",
      "Reformulated query: Refined query: Analyze the relative performance improvements of GPT-3 in zero-shot, one-shot, and few-shot settings across different tasks such as Ro-En translation, Winograd-Style Tasks, TriviaQA, and Natural Questions.\n"
     ]
    },
    {
     "name": "stderr",
     "output_type": "stream",
     "text": [
      "Testing RAGAgent-text-embedding-3-large-cross-encoder/ms-marco-MiniLM-L-6-v2:  71%|███████   | 148/209 [21:12<16:52, 16.59s/it]"
     ]
    },
    {
     "name": "stdout",
     "output_type": "stream",
     "text": [
      "Reformulated query: \"challenges of developing deep learning infrastructure and optimization methods with transfer learning and large-scale models\"\n",
      "Reformulated query: Challenges in developing deep learning infrastructure and optimization methods for natural language processing tasks specifically focusing on transfer learning and model distillation techniques.\n"
     ]
    },
    {
     "name": "stderr",
     "output_type": "stream",
     "text": [
      "Testing RAGAgent-text-embedding-3-large-cross-encoder/ms-marco-MiniLM-L-6-v2:  77%|███████▋  | 160/209 [1:11:30<2:03:05, 150.73s/it] "
     ]
    },
    {
     "name": "stdout",
     "output_type": "stream",
     "text": [
      "Reformulated query: Find a detailed summary of Srivastava et al.'s paper on the capabilities of language models for commonsense reasoning and performance on various datasets, including the Winograd Schema Challenge.\n",
      "Reformulated query: Summarize Srivastava et al.'s paper focusing on the performance of language models on Winograd Schema tasks and their capabilities in commonsense reasoning and question answering.\n"
     ]
    },
    {
     "name": "stderr",
     "output_type": "stream",
     "text": [
      "Testing RAGAgent-text-embedding-3-large-cross-encoder/ms-marco-MiniLM-L-6-v2:  78%|███████▊  | 164/209 [1:12:47<37:01, 49.36s/it]   "
     ]
    },
    {
     "name": "stdout",
     "output_type": "stream",
     "text": [
      "Reformulated query: GPT-4 performance metrics across multiple languages compared to baseline models\n",
      "Reformulated query: \"Performance metrics of GPT-4 on NLP benchmarks and standardized exams compared to baseline models\"\n"
     ]
    },
    {
     "name": "stderr",
     "output_type": "stream",
     "text": [
      "Testing RAGAgent-text-embedding-3-large-cross-encoder/ms-marco-MiniLM-L-6-v2:  82%|████████▏ | 171/209 [1:14:26<09:15, 14.61s/it]"
     ]
    },
    {
     "name": "stdout",
     "output_type": "stream",
     "text": [
      "Reformulated query: Refined query: Describe the training methodology employed in training GPT models, particularly focusing on the use of human feedback and fine-tuning processes.\n",
      "Reformulated query: Summarize the training methodology for GPT models described in the InstructGPT paper.\n"
     ]
    },
    {
     "name": "stderr",
     "output_type": "stream",
     "text": [
      "Testing RAGAgent-text-embedding-3-large-cross-encoder/ms-marco-MiniLM-L-6-v2:  88%|████████▊ | 183/209 [1:17:02<05:04, 11.70s/it]"
     ]
    },
    {
     "name": "stdout",
     "output_type": "stream",
     "text": [
      "Reformulated query: Revised query: strategies to mitigate bias in language models for improving performance across different demographics\n"
     ]
    },
    {
     "name": "stderr",
     "output_type": "stream",
     "text": [
      "Testing RAGAgent-text-embedding-3-large-cross-encoder/ms-marco-MiniLM-L-6-v2: 100%|██████████| 209/209 [1:22:14<00:00, 23.61s/it]\n"
     ]
    },
    {
     "name": "stdout",
     "output_type": "stream",
     "text": [
      "\n",
      "Evaluating configuration: RAGAgent-text-embedding-3-small-cross-encoder/ms-marco-MiniLM-L-6-v2\n"
     ]
    },
    {
     "name": "stderr",
     "output_type": "stream",
     "text": [
      "Testing RAGAgent-text-embedding-3-small-cross-encoder/ms-marco-MiniLM-L-6-v2:   0%|          | 1/209 [00:12<42:15, 12.19s/it]"
     ]
    },
    {
     "name": "stdout",
     "output_type": "stream",
     "text": [
      "Reformulated query: Refined query: Detailed analysis of performance metrics and prevalence of contamination for evaluated benchmarks in the paper\n",
      "Reformulated query: \"Identify key findings on benchmarks contamination and data overlap mitigation in the evaluation of high-capacity models\"\n"
     ]
    },
    {
     "name": "stderr",
     "output_type": "stream",
     "text": [
      "Testing RAGAgent-text-embedding-3-small-cross-encoder/ms-marco-MiniLM-L-6-v2:   3%|▎         | 6/209 [02:24<1:00:23, 17.85s/it]"
     ]
    },
    {
     "name": "stdout",
     "output_type": "stream",
     "text": [
      "Reformulated query: Performance improvements of the model described in the paper on NLP tasks and benchmarks.\n"
     ]
    },
    {
     "name": "stderr",
     "output_type": "stream",
     "text": [
      "Testing RAGAgent-text-embedding-3-small-cross-encoder/ms-marco-MiniLM-L-6-v2:   5%|▌         | 11/209 [03:23<37:24, 11.33s/it] "
     ]
    },
    {
     "name": "stdout",
     "output_type": "stream",
     "text": [
      "Reformulated query: Revised query: impact of including language modeling as an auxiliary objective in fine-tuning on model performance\n"
     ]
    },
    {
     "name": "stderr",
     "output_type": "stream",
     "text": [
      "Testing RAGAgent-text-embedding-3-small-cross-encoder/ms-marco-MiniLM-L-6-v2:   8%|▊         | 16/209 [04:08<28:05,  8.73s/it]"
     ]
    },
    {
     "name": "stdout",
     "output_type": "stream",
     "text": [
      "Reformulated query: Query refinement: Analyze the proposed model's performance across different datasets for classiﬁcation, semantic similarity, and GLUE benchmark comparison.\n",
      "Reformulated query: Retrieve performance comparison results of a proposed model across different datasets focused on semantic similarity, text classification, and question answering tasks.\n"
     ]
    },
    {
     "name": "stderr",
     "output_type": "stream",
     "text": [
      "Testing RAGAgent-text-embedding-3-small-cross-encoder/ms-marco-MiniLM-L-6-v2:   9%|▊         | 18/209 [04:42<39:38, 12.46s/it]"
     ]
    },
    {
     "name": "stdout",
     "output_type": "stream",
     "text": [
      "Reformulated query: Performance comparison of Finetuned Transformer LM with other models specifically on the RACE dataset's question answering tasks\n"
     ]
    },
    {
     "name": "stderr",
     "output_type": "stream",
     "text": [
      "Testing RAGAgent-text-embedding-3-small-cross-encoder/ms-marco-MiniLM-L-6-v2:  14%|█▍        | 30/209 [07:11<37:21, 12.52s/it]  "
     ]
    },
    {
     "name": "stdout",
     "output_type": "stream",
     "text": [
      "Reformulated query: Refined query: Explain the methodology of combining unsupervised pre-training and supervised fine-tuning with a focus on a universal representation learning approach as described in the paper.\n",
      "Reformulated query: Refined query: Describe the specific two-stage training procedure involving unsupervised pre-training and supervised fine-tuning in the paper.\n"
     ]
    },
    {
     "name": "stderr",
     "output_type": "stream",
     "text": [
      "Testing RAGAgent-text-embedding-3-small-cross-encoder/ms-marco-MiniLM-L-6-v2:  17%|█▋        | 35/209 [08:43<49:05, 16.93s/it]"
     ]
    },
    {
     "name": "stdout",
     "output_type": "stream",
     "text": [
      "Reformulated query: Revised query: specifications on the size and architecture of language models trained with over 100 million parameters\n",
      "Reformulated query: Retrieve details on the architecture and specific parameter sizes of language models trained with varying numbers of parameters ranging from 125 million to 175 billion.\n"
     ]
    },
    {
     "name": "stderr",
     "output_type": "stream",
     "text": [
      "Testing RAGAgent-text-embedding-3-small-cross-encoder/ms-marco-MiniLM-L-6-v2:  22%|██▏       | 47/209 [10:16<16:23,  6.07s/it]"
     ]
    },
    {
     "name": "stdout",
     "output_type": "stream",
     "text": [
      "Reformulated query: Retrieve model performance metrics specifically comparing the trends in model performance between the paper and the studies by Jozefowicz et al. (2016) and Hestness et al. (2017).\n",
      "Reformulated query: Refined query: Analyze and compare the model performance trends specifically related to fine-tuned systems and scaling effects discussed in the paper with those presented in the studies by Jozefowicz et al. (2016) and Hestness et al. (2017).\n"
     ]
    },
    {
     "name": "stderr",
     "output_type": "stream",
     "text": [
      "Testing RAGAgent-text-embedding-3-small-cross-encoder/ms-marco-MiniLM-L-6-v2:  24%|██▍       | 50/209 [11:28<42:37, 16.09s/it]"
     ]
    },
    {
     "name": "stdout",
     "output_type": "stream",
     "text": [
      "Reformulated query: Determine the precise distinctions between humans' few-shot learning capabilities and current NLP systems, focusing on the effectiveness, limitations, and requirements outlined in the provided documents.\n"
     ]
    },
    {
     "name": "stderr",
     "output_type": "stream",
     "text": [
      "Testing RAGAgent-text-embedding-3-small-cross-encoder/ms-marco-MiniLM-L-6-v2:  24%|██▍       | 51/209 [11:37<36:27, 13.84s/it]"
     ]
    },
    {
     "name": "stdout",
     "output_type": "stream",
     "text": [
      "Reformulated query: \"Comparison of GPT-3 few-shot performance with fine-tuned models in specific NLP tasks\"\n",
      "Reformulated query: key findings on GPT-3 few-shot performance compared to fine-tuned models on CoQA reading comprehension task\n"
     ]
    },
    {
     "name": "stderr",
     "output_type": "stream",
     "text": [
      "Testing RAGAgent-text-embedding-3-small-cross-encoder/ms-marco-MiniLM-L-6-v2:  27%|██▋       | 57/209 [12:15<16:59,  6.71s/it]"
     ]
    },
    {
     "name": "stdout",
     "output_type": "stream",
     "text": [
      "Reformulated query: Differences between zero-shot, one-shot, and few-shot learning in the context of language models, as discussed in the provided documents.\n"
     ]
    },
    {
     "name": "stderr",
     "output_type": "stream",
     "text": [
      "Testing RAGAgent-text-embedding-3-small-cross-encoder/ms-marco-MiniLM-L-6-v2:  31%|███       | 64/209 [13:18<23:44,  9.83s/it]"
     ]
    },
    {
     "name": "stdout",
     "output_type": "stream",
     "text": [
      "Reformulated query: Refined query: Compare the performance and limitations of few-shot and one-shot learning methodologies for language models in terms of data requirement and model adaptation capabilities.\n"
     ]
    },
    {
     "name": "stderr",
     "output_type": "stream",
     "text": [
      "Testing RAGAgent-text-embedding-3-small-cross-encoder/ms-marco-MiniLM-L-6-v2:  34%|███▍      | 72/209 [14:18<14:37,  6.40s/it]"
     ]
    },
    {
     "name": "stdout",
     "output_type": "stream",
     "text": [
      "Reformulated query: Refined query: explain the few-shot learning evaluation methodology used in the research paper and detail how examples are selected for evaluation.\n"
     ]
    },
    {
     "name": "stderr",
     "output_type": "stream",
     "text": [
      "Testing RAGAgent-text-embedding-3-small-cross-encoder/ms-marco-MiniLM-L-6-v2:  35%|███▍      | 73/209 [14:28<17:15,  7.61s/it]"
     ]
    },
    {
     "name": "stdout",
     "output_type": "stream",
     "text": [
      "Reformulated query: evaluation metrics for comparing model performance on natural language inference tasks across different datasets\n"
     ]
    },
    {
     "name": "stderr",
     "output_type": "stream",
     "text": [
      "Testing RAGAgent-text-embedding-3-small-cross-encoder/ms-marco-MiniLM-L-6-v2:  39%|███▉      | 82/209 [15:47<13:13,  6.24s/it]"
     ]
    },
    {
     "name": "stdout",
     "output_type": "stream",
     "text": [
      "Reformulated query: Refined query: compare the performance of GPT-3 in zero-shot, one-shot, and few-shot settings across multiple tasks\n",
      "Reformulated query: Performance comparison study: analyze the differences in task performance between GPT-3 in zero-shot, one-shot, and few-shot settings, focusing on metrics such as F1 scores and accuracy across various benchmark tasks.\n"
     ]
    },
    {
     "name": "stderr",
     "output_type": "stream",
     "text": [
      "Testing RAGAgent-text-embedding-3-small-cross-encoder/ms-marco-MiniLM-L-6-v2:  46%|████▌     | 96/209 [17:27<12:42,  6.75s/it]"
     ]
    },
    {
     "name": "stdout",
     "output_type": "stream",
     "text": [
      "Reformulated query: Methodology used by Ippolito et al. for evaluating human detection of model-generated text.\n",
      "Reformulated query: Methodology for evaluating human detection of model-generated text in comparison to automatic detection algorithms by GROVER and GLTR, focusing on factors influencing human accuracy and measures of distinguishing model-generated content.\n"
     ]
    },
    {
     "name": "stderr",
     "output_type": "stream",
     "text": [
      "Testing RAGAgent-text-embedding-3-small-cross-encoder/ms-marco-MiniLM-L-6-v2:  48%|████▊     | 100/209 [18:16<16:45,  9.22s/it]"
     ]
    },
    {
     "name": "stdout",
     "output_type": "stream",
     "text": [
      "Reformulated query: human accuracy rates in detecting GPT-3 generated text compared to control model outputs for news articles around 500 words long\n"
     ]
    },
    {
     "name": "stderr",
     "output_type": "stream",
     "text": [
      "Testing RAGAgent-text-embedding-3-small-cross-encoder/ms-marco-MiniLM-L-6-v2:  49%|████▉     | 102/209 [18:48<21:12, 11.89s/it]"
     ]
    },
    {
     "name": "stdout",
     "output_type": "stream",
     "text": [
      "Reformulated query: impact of data contamination on model performance in language modeling benchmarks\n",
      "Reformulated query: impact of data contamination on model performance in language modeling studies\n"
     ]
    },
    {
     "name": "stderr",
     "output_type": "stream",
     "text": [
      "Testing RAGAgent-text-embedding-3-small-cross-encoder/ms-marco-MiniLM-L-6-v2:  56%|█████▌    | 116/209 [22:19<23:35, 15.22s/it]"
     ]
    },
    {
     "name": "stdout",
     "output_type": "stream",
     "text": [
      "Reformulated query: Methodologies used to assess gender biases in occupation identifiers in the study on language models such as GPT-3.\n",
      "Reformulated query: Methodologies utilized for gender bias assessment in occupation identifiers study.\n"
     ]
    },
    {
     "name": "stderr",
     "output_type": "stream",
     "text": [
      "Testing RAGAgent-text-embedding-3-small-cross-encoder/ms-marco-MiniLM-L-6-v2:  56%|█████▋    | 118/209 [23:58<45:06, 29.74s/it]"
     ]
    },
    {
     "name": "stdout",
     "output_type": "stream",
     "text": [
      "Reformulated query: Gender bias findings in language models focused on associations between gender and occupation, specifically examining the probability of gender identifiers following various occupations.\n",
      "Reformulated query: Gender bias in word usage in a study of language models' associations between gender and occupation.\n"
     ]
    },
    {
     "name": "stderr",
     "output_type": "stream",
     "text": [
      "Testing RAGAgent-text-embedding-3-small-cross-encoder/ms-marco-MiniLM-L-6-v2:  59%|█████▉    | 124/209 [26:57<26:48, 18.92s/it]  "
     ]
    },
    {
     "name": "stdout",
     "output_type": "stream",
     "text": [
      "Reformulated query: Query refinement: Comparison of model sizes and performance specifically analyzing the relationship between model size and ML performance, including detailed analysis of validation loss, downstream language tasks, and in-context learning abilities across a range of model sizes specified in the papers.\n",
      "Reformulated query: \"Comparison of model sizes and performance in transformer-based language models with specific focus on the scaling of validation loss and downstream language tasks\"\n"
     ]
    },
    {
     "name": "stderr",
     "output_type": "stream",
     "text": [
      "Testing RAGAgent-text-embedding-3-small-cross-encoder/ms-marco-MiniLM-L-6-v2:  68%|██████▊   | 143/209 [34:18<18:40, 16.97s/it]"
     ]
    },
    {
     "name": "stdout",
     "output_type": "stream",
     "text": [
      "Reformulated query: Refined query: \"Compare the task performance metrics of GPT-3 across zero-shot, one-shot, and few-shot settings.\"\n",
      "Reformulated query: Refined query: compare model performance of GPT-3 in zero-shot, one-shot, and few-shot settings across various NLP tasks\n"
     ]
    },
    {
     "name": "stderr",
     "output_type": "stream",
     "text": [
      "Testing RAGAgent-text-embedding-3-small-cross-encoder/ms-marco-MiniLM-L-6-v2:  71%|███████   | 148/209 [37:01<24:01, 23.63s/it]"
     ]
    },
    {
     "name": "stdout",
     "output_type": "stream",
     "text": [
      "Reformulated query: Refined query: challenges and methods specifically related to the development of deep learning infrastructure and optimization in large language models\n",
      "Reformulated query: Specific query: \"key challenges of developing deep learning infrastructure and optimization methods for large language models\"\n"
     ]
    },
    {
     "name": "stderr",
     "output_type": "stream",
     "text": [
      "Testing RAGAgent-text-embedding-3-small-cross-encoder/ms-marco-MiniLM-L-6-v2:  78%|███████▊  | 164/209 [44:24<19:58, 26.63s/it]"
     ]
    },
    {
     "name": "stdout",
     "output_type": "stream",
     "text": [
      "Reformulated query: \"Performance metrics of GPT-4 compared to baseline models in zero-shot, one-shot, and few-shot settings\"\n",
      "Reformulated query: GPT-4 performance metrics comparison with baseline models in CoQA reading comprehension task\n"
     ]
    },
    {
     "name": "stderr",
     "output_type": "stream",
     "text": [
      "Testing RAGAgent-text-embedding-3-small-cross-encoder/ms-marco-MiniLM-L-6-v2:  82%|████████▏ | 171/209 [47:40<16:21, 25.84s/it]"
     ]
    },
    {
     "name": "stdout",
     "output_type": "stream",
     "text": [
      "Reformulated query: Refined query: Describe the training methodology for GPT models outlined in the InstructGPT paper.\n",
      "Reformulated query: Refined query: Explain the three steps of the training methodology used in the InstructGPT paper for fine-tuning GPT-3 model with human feedback.\n"
     ]
    },
    {
     "name": "stderr",
     "output_type": "stream",
     "text": [
      "Testing RAGAgent-text-embedding-3-small-cross-encoder/ms-marco-MiniLM-L-6-v2:  88%|████████▊ | 183/209 [52:58<09:22, 21.63s/it]"
     ]
    },
    {
     "name": "stdout",
     "output_type": "stream",
     "text": [
      "Reformulated query: Query refinement: \"methods to mitigate and address bias in language models for specific demographics\"\n"
     ]
    },
    {
     "name": "stderr",
     "output_type": "stream",
     "text": [
      "Testing RAGAgent-text-embedding-3-small-cross-encoder/ms-marco-MiniLM-L-6-v2: 100%|██████████| 209/209 [1:07:29<00:00, 19.38s/it]\n"
     ]
    },
    {
     "name": "stdout",
     "output_type": "stream",
     "text": [
      "Evaluation complete with 6688 data points\n"
     ]
    },
    {
     "data": {
      "image/png": "[encoded data removed]",
      "text/plain": [
       "<Figure size 2000x600 with 2 Axes>"
      ]
     },
     "metadata": {},
     "output_type": "display_data"
    },
    {
     "data": {
      "image/png": "[encoded data removed]",
      "text/plain": [
       "<Figure size 1400x600 with 1 Axes>"
      ]
     },
     "metadata": {},
     "output_type": "display_data"
    }
   ],
   "source": [
    "# Initialize evaluator\n",
    "evaluator = RAGEvaluator(chroma_client)\n",
    "    \n",
    "# Create configs to evaluate\n",
    "configs = [\n",
    "    evaluator.create_agent_config(\n",
    "        RAGAgent,\n",
    "        embedding_model=\"text-embedding-3-small\",\n",
    "        reranker_model=None,\n",
    "        llm_model=\"gpt-3.5-turbo\"\n",
    "    ),\n",
    "    evaluator.create_agent_config(\n",
    "        RAGAgent,\n",
    "        embedding_model=\"text-embedding-3-large\",\n",
    "        reranker_model=None,\n",
    "        llm_model=\"gpt-3.5-turbo\"\n",
    "    ),\n",
    "    evaluator.create_agent_config(\n",
    "        RAGAgent,\n",
    "        embedding_model=\"text-embedding-3-large\",\n",
    "        reranker_model=\"cross-encoder/ms-marco-MiniLM-L-6-v2\",\n",
    "        llm_model=\"gpt-3.5-turbo\"\n",
    "    ), \n",
    "    evaluator.create_agent_config(\n",
    "        RAGAgent,\n",
    "        embedding_model=\"text-embedding-3-small\",\n",
    "        reranker_model=\"cross-encoder/ms-marco-MiniLM-L-6-v2\",\n",
    "        llm_model=\"gpt-3.5-turbo\"\n",
    "    )\n",
    "]\n",
    "\n",
    "evaluation_df = evaluator.evaluate_configurations(eval_df, configs)\n",
    "evaluator.visualize_results(evaluation_df)\n"
   ]
  }
 ],
 "metadata": {
  "kernelspec": {
   "display_name": "venv",
   "language": "python",
   "name": "python3"
  },
  "language_info": {
   "codemirror_mode": {
    "name": "ipython",
    "version": 3
   },
   "file_extension": ".py",
   "mimetype": "text/x-python",
   "name": "python",
   "nbconvert_exporter": "python",
   "pygments_lexer": "ipython3",
   "version": "3.13.3"
  }
 },
 "nbformat": 4,
 "nbformat_minor": 2
}
