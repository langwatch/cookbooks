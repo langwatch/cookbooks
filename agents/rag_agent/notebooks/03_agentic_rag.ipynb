{
 "cells": [
  {
   "cell_type": "markdown",
   "metadata": {},
   "source": [
    "# Self-Improving RAG Agent\n",
    "\n",
    "## Overview\n",
    "\n",
    "Traditional RAG systems have a critical limitation: they retrieve documents once and then generate an answer based on those documents, regardless of their relevance. An agentic approach allows the system to adapt its retrieval strategy based on objective performance metrics.\n",
    "\n",
    "This notebook provides a framework for evaluating agentic RAG systems.\n",
    "\n",
    "## Setup\n",
    "\n",
    "First, let's install the necessary libraries:"
   ]
  },
  {
   "cell_type": "code",
   "execution_count": 2,
   "metadata": {},
   "outputs": [
    {
     "name": "stdout",
     "output_type": "stream",
     "text": [
      "Requirement already satisfied: openai in /Users/tahmidtapadar/Documents/cookbooks/venv/lib/python3.13/site-packages (1.74.0)\n",
      "Requirement already satisfied: chromadb in /Users/tahmidtapadar/Documents/cookbooks/venv/lib/python3.13/site-packages (1.0.4)\n",
      "Requirement already satisfied: sentence_transformers in /Users/tahmidtapadar/Documents/cookbooks/venv/lib/python3.13/site-packages (4.0.2)\n",
      "Requirement already satisfied: pandas in /Users/tahmidtapadar/Documents/cookbooks/venv/lib/python3.13/site-packages (2.2.3)\n",
      "Requirement already satisfied: matplotlib in /Users/tahmidtapadar/Documents/cookbooks/venv/lib/python3.13/site-packages (3.10.1)\n",
      "Requirement already satisfied: numpy in /Users/tahmidtapadar/Documents/cookbooks/venv/lib/python3.13/site-packages (2.2.4)\n",
      "Requirement already satisfied: tqdm in /Users/tahmidtapadar/Documents/cookbooks/venv/lib/python3.13/site-packages (4.67.1)\n",
      "Requirement already satisfied: anyio<5,>=3.5.0 in /Users/tahmidtapadar/Documents/cookbooks/venv/lib/python3.13/site-packages (from openai) (4.9.0)\n",
      "Requirement already satisfied: distro<2,>=1.7.0 in /Users/tahmidtapadar/Documents/cookbooks/venv/lib/python3.13/site-packages (from openai) (1.9.0)\n",
      "Requirement already satisfied: httpx<1,>=0.23.0 in /Users/tahmidtapadar/Documents/cookbooks/venv/lib/python3.13/site-packages (from openai) (0.28.1)\n",
      "Requirement already satisfied: jiter<1,>=0.4.0 in /Users/tahmidtapadar/Documents/cookbooks/venv/lib/python3.13/site-packages (from openai) (0.9.0)\n",
      "Requirement already satisfied: pydantic<3,>=1.9.0 in /Users/tahmidtapadar/Documents/cookbooks/venv/lib/python3.13/site-packages (from openai) (2.11.3)\n",
      "Requirement already satisfied: sniffio in /Users/tahmidtapadar/Documents/cookbooks/venv/lib/python3.13/site-packages (from openai) (1.3.1)\n",
      "Requirement already satisfied: typing-extensions<5,>=4.11 in /Users/tahmidtapadar/Documents/cookbooks/venv/lib/python3.13/site-packages (from openai) (4.13.2)\n",
      "Requirement already satisfied: build>=1.0.3 in /Users/tahmidtapadar/Documents/cookbooks/venv/lib/python3.13/site-packages (from chromadb) (1.2.2.post1)\n",
      "Requirement already satisfied: chroma-hnswlib==0.7.6 in /Users/tahmidtapadar/Documents/cookbooks/venv/lib/python3.13/site-packages (from chromadb) (0.7.6)\n",
      "Requirement already satisfied: fastapi==0.115.9 in /Users/tahmidtapadar/Documents/cookbooks/venv/lib/python3.13/site-packages (from chromadb) (0.115.9)\n",
      "Requirement already satisfied: uvicorn>=0.18.3 in /Users/tahmidtapadar/Documents/cookbooks/venv/lib/python3.13/site-packages (from uvicorn[standard]>=0.18.3->chromadb) (0.34.1)\n",
      "Requirement already satisfied: posthog>=2.4.0 in /Users/tahmidtapadar/Documents/cookbooks/venv/lib/python3.13/site-packages (from chromadb) (3.24.1)\n",
      "Requirement already satisfied: onnxruntime>=1.14.1 in /Users/tahmidtapadar/Documents/cookbooks/venv/lib/python3.13/site-packages (from chromadb) (1.21.0)\n",
      "Requirement already satisfied: opentelemetry-api>=1.2.0 in /Users/tahmidtapadar/Documents/cookbooks/venv/lib/python3.13/site-packages (from chromadb) (1.32.0)\n",
      "Requirement already satisfied: opentelemetry-exporter-otlp-proto-grpc>=1.2.0 in /Users/tahmidtapadar/Documents/cookbooks/venv/lib/python3.13/site-packages (from chromadb) (1.32.0)\n",
      "Requirement already satisfied: opentelemetry-instrumentation-fastapi>=0.41b0 in /Users/tahmidtapadar/Documents/cookbooks/venv/lib/python3.13/site-packages (from chromadb) (0.53b0)\n",
      "Requirement already satisfied: opentelemetry-sdk>=1.2.0 in /Users/tahmidtapadar/Documents/cookbooks/venv/lib/python3.13/site-packages (from chromadb) (1.32.0)\n",
      "Requirement already satisfied: tokenizers>=0.13.2 in /Users/tahmidtapadar/Documents/cookbooks/venv/lib/python3.13/site-packages (from chromadb) (0.21.1)\n",
      "Requirement already satisfied: pypika>=0.48.9 in /Users/tahmidtapadar/Documents/cookbooks/venv/lib/python3.13/site-packages (from chromadb) (0.48.9)\n",
      "Requirement already satisfied: overrides>=7.3.1 in /Users/tahmidtapadar/Documents/cookbooks/venv/lib/python3.13/site-packages (from chromadb) (7.7.0)\n",
      "Requirement already satisfied: importlib-resources in /Users/tahmidtapadar/Documents/cookbooks/venv/lib/python3.13/site-packages (from chromadb) (6.5.2)\n",
      "Requirement already satisfied: grpcio>=1.58.0 in /Users/tahmidtapadar/Documents/cookbooks/venv/lib/python3.13/site-packages (from chromadb) (1.71.0)\n",
      "Requirement already satisfied: bcrypt>=4.0.1 in /Users/tahmidtapadar/Documents/cookbooks/venv/lib/python3.13/site-packages (from chromadb) (4.3.0)\n",
      "Requirement already satisfied: typer>=0.9.0 in /Users/tahmidtapadar/Documents/cookbooks/venv/lib/python3.13/site-packages (from chromadb) (0.15.2)\n",
      "Requirement already satisfied: kubernetes>=28.1.0 in /Users/tahmidtapadar/Documents/cookbooks/venv/lib/python3.13/site-packages (from chromadb) (32.0.1)\n",
      "Requirement already satisfied: tenacity>=8.2.3 in /Users/tahmidtapadar/Documents/cookbooks/venv/lib/python3.13/site-packages (from chromadb) (9.1.2)\n",
      "Requirement already satisfied: pyyaml>=6.0.0 in /Users/tahmidtapadar/Documents/cookbooks/venv/lib/python3.13/site-packages (from chromadb) (6.0.2)\n",
      "Requirement already satisfied: mmh3>=4.0.1 in /Users/tahmidtapadar/Documents/cookbooks/venv/lib/python3.13/site-packages (from chromadb) (5.1.0)\n",
      "Requirement already satisfied: orjson>=3.9.12 in /Users/tahmidtapadar/Documents/cookbooks/venv/lib/python3.13/site-packages (from chromadb) (3.10.16)\n",
      "Requirement already satisfied: rich>=10.11.0 in /Users/tahmidtapadar/Documents/cookbooks/venv/lib/python3.13/site-packages (from chromadb) (14.0.0)\n",
      "Requirement already satisfied: jsonschema>=4.19.0 in /Users/tahmidtapadar/Documents/cookbooks/venv/lib/python3.13/site-packages (from chromadb) (4.23.0)\n",
      "Requirement already satisfied: starlette<0.46.0,>=0.40.0 in /Users/tahmidtapadar/Documents/cookbooks/venv/lib/python3.13/site-packages (from fastapi==0.115.9->chromadb) (0.45.3)\n",
      "Requirement already satisfied: transformers<5.0.0,>=4.41.0 in /Users/tahmidtapadar/Documents/cookbooks/venv/lib/python3.13/site-packages (from sentence_transformers) (4.51.3)\n",
      "Requirement already satisfied: torch>=1.11.0 in /Users/tahmidtapadar/Documents/cookbooks/venv/lib/python3.13/site-packages (from sentence_transformers) (2.6.0)\n",
      "Requirement already satisfied: scikit-learn in /Users/tahmidtapadar/Documents/cookbooks/venv/lib/python3.13/site-packages (from sentence_transformers) (1.6.1)\n",
      "Requirement already satisfied: scipy in /Users/tahmidtapadar/Documents/cookbooks/venv/lib/python3.13/site-packages (from sentence_transformers) (1.15.2)\n",
      "Requirement already satisfied: huggingface-hub>=0.20.0 in /Users/tahmidtapadar/Documents/cookbooks/venv/lib/python3.13/site-packages (from sentence_transformers) (0.30.2)\n",
      "Requirement already satisfied: Pillow in /Users/tahmidtapadar/Documents/cookbooks/venv/lib/python3.13/site-packages (from sentence_transformers) (11.2.1)\n",
      "Requirement already satisfied: python-dateutil>=2.8.2 in /Users/tahmidtapadar/Documents/cookbooks/venv/lib/python3.13/site-packages (from pandas) (2.9.0.post0)\n",
      "Requirement already satisfied: pytz>=2020.1 in /Users/tahmidtapadar/Documents/cookbooks/venv/lib/python3.13/site-packages (from pandas) (2025.2)\n",
      "Requirement already satisfied: tzdata>=2022.7 in /Users/tahmidtapadar/Documents/cookbooks/venv/lib/python3.13/site-packages (from pandas) (2025.2)\n",
      "Requirement already satisfied: contourpy>=1.0.1 in /Users/tahmidtapadar/Documents/cookbooks/venv/lib/python3.13/site-packages (from matplotlib) (1.3.2)\n",
      "Requirement already satisfied: cycler>=0.10 in /Users/tahmidtapadar/Documents/cookbooks/venv/lib/python3.13/site-packages (from matplotlib) (0.12.1)\n",
      "Requirement already satisfied: fonttools>=4.22.0 in /Users/tahmidtapadar/Documents/cookbooks/venv/lib/python3.13/site-packages (from matplotlib) (4.57.0)\n",
      "Requirement already satisfied: kiwisolver>=1.3.1 in /Users/tahmidtapadar/Documents/cookbooks/venv/lib/python3.13/site-packages (from matplotlib) (1.4.8)\n",
      "Requirement already satisfied: packaging>=20.0 in /Users/tahmidtapadar/Documents/cookbooks/venv/lib/python3.13/site-packages (from matplotlib) (24.2)\n",
      "Requirement already satisfied: pyparsing>=2.3.1 in /Users/tahmidtapadar/Documents/cookbooks/venv/lib/python3.13/site-packages (from matplotlib) (3.2.3)\n",
      "Requirement already satisfied: idna>=2.8 in /Users/tahmidtapadar/Documents/cookbooks/venv/lib/python3.13/site-packages (from anyio<5,>=3.5.0->openai) (3.10)\n",
      "Requirement already satisfied: pyproject_hooks in /Users/tahmidtapadar/Documents/cookbooks/venv/lib/python3.13/site-packages (from build>=1.0.3->chromadb) (1.2.0)\n",
      "Requirement already satisfied: certifi in /Users/tahmidtapadar/Documents/cookbooks/venv/lib/python3.13/site-packages (from httpx<1,>=0.23.0->openai) (2025.1.31)\n",
      "Requirement already satisfied: httpcore==1.* in /Users/tahmidtapadar/Documents/cookbooks/venv/lib/python3.13/site-packages (from httpx<1,>=0.23.0->openai) (1.0.8)\n",
      "Requirement already satisfied: h11<0.15,>=0.13 in /Users/tahmidtapadar/Documents/cookbooks/venv/lib/python3.13/site-packages (from httpcore==1.*->httpx<1,>=0.23.0->openai) (0.14.0)\n",
      "Requirement already satisfied: filelock in /Users/tahmidtapadar/Documents/cookbooks/venv/lib/python3.13/site-packages (from huggingface-hub>=0.20.0->sentence_transformers) (3.18.0)\n",
      "Requirement already satisfied: fsspec>=2023.5.0 in /Users/tahmidtapadar/Documents/cookbooks/venv/lib/python3.13/site-packages (from huggingface-hub>=0.20.0->sentence_transformers) (2025.3.2)\n",
      "Requirement already satisfied: requests in /Users/tahmidtapadar/Documents/cookbooks/venv/lib/python3.13/site-packages (from huggingface-hub>=0.20.0->sentence_transformers) (2.32.3)\n",
      "Requirement already satisfied: attrs>=22.2.0 in /Users/tahmidtapadar/Documents/cookbooks/venv/lib/python3.13/site-packages (from jsonschema>=4.19.0->chromadb) (25.3.0)\n",
      "Requirement already satisfied: jsonschema-specifications>=2023.03.6 in /Users/tahmidtapadar/Documents/cookbooks/venv/lib/python3.13/site-packages (from jsonschema>=4.19.0->chromadb) (2024.10.1)\n",
      "Requirement already satisfied: referencing>=0.28.4 in /Users/tahmidtapadar/Documents/cookbooks/venv/lib/python3.13/site-packages (from jsonschema>=4.19.0->chromadb) (0.36.2)\n",
      "Requirement already satisfied: rpds-py>=0.7.1 in /Users/tahmidtapadar/Documents/cookbooks/venv/lib/python3.13/site-packages (from jsonschema>=4.19.0->chromadb) (0.24.0)\n",
      "Requirement already satisfied: six>=1.9.0 in /Users/tahmidtapadar/Documents/cookbooks/venv/lib/python3.13/site-packages (from kubernetes>=28.1.0->chromadb) (1.17.0)\n",
      "Requirement already satisfied: google-auth>=1.0.1 in /Users/tahmidtapadar/Documents/cookbooks/venv/lib/python3.13/site-packages (from kubernetes>=28.1.0->chromadb) (2.39.0)\n",
      "Requirement already satisfied: websocket-client!=0.40.0,!=0.41.*,!=0.42.*,>=0.32.0 in /Users/tahmidtapadar/Documents/cookbooks/venv/lib/python3.13/site-packages (from kubernetes>=28.1.0->chromadb) (1.8.0)\n",
      "Requirement already satisfied: requests-oauthlib in /Users/tahmidtapadar/Documents/cookbooks/venv/lib/python3.13/site-packages (from kubernetes>=28.1.0->chromadb) (2.0.0)\n",
      "Requirement already satisfied: oauthlib>=3.2.2 in /Users/tahmidtapadar/Documents/cookbooks/venv/lib/python3.13/site-packages (from kubernetes>=28.1.0->chromadb) (3.2.2)\n",
      "Requirement already satisfied: urllib3>=1.24.2 in /Users/tahmidtapadar/Documents/cookbooks/venv/lib/python3.13/site-packages (from kubernetes>=28.1.0->chromadb) (2.4.0)\n",
      "Requirement already satisfied: durationpy>=0.7 in /Users/tahmidtapadar/Documents/cookbooks/venv/lib/python3.13/site-packages (from kubernetes>=28.1.0->chromadb) (0.9)\n",
      "Requirement already satisfied: coloredlogs in /Users/tahmidtapadar/Documents/cookbooks/venv/lib/python3.13/site-packages (from onnxruntime>=1.14.1->chromadb) (15.0.1)\n",
      "Requirement already satisfied: flatbuffers in /Users/tahmidtapadar/Documents/cookbooks/venv/lib/python3.13/site-packages (from onnxruntime>=1.14.1->chromadb) (25.2.10)\n",
      "Requirement already satisfied: protobuf in /Users/tahmidtapadar/Documents/cookbooks/venv/lib/python3.13/site-packages (from onnxruntime>=1.14.1->chromadb) (5.29.4)\n",
      "Requirement already satisfied: sympy in /Users/tahmidtapadar/Documents/cookbooks/venv/lib/python3.13/site-packages (from onnxruntime>=1.14.1->chromadb) (1.13.1)\n",
      "Requirement already satisfied: deprecated>=1.2.6 in /Users/tahmidtapadar/Documents/cookbooks/venv/lib/python3.13/site-packages (from opentelemetry-api>=1.2.0->chromadb) (1.2.18)\n",
      "Requirement already satisfied: importlib-metadata<8.7.0,>=6.0 in /Users/tahmidtapadar/Documents/cookbooks/venv/lib/python3.13/site-packages (from opentelemetry-api>=1.2.0->chromadb) (8.6.1)\n",
      "Requirement already satisfied: googleapis-common-protos~=1.52 in /Users/tahmidtapadar/Documents/cookbooks/venv/lib/python3.13/site-packages (from opentelemetry-exporter-otlp-proto-grpc>=1.2.0->chromadb) (1.70.0)\n",
      "Requirement already satisfied: opentelemetry-exporter-otlp-proto-common==1.32.0 in /Users/tahmidtapadar/Documents/cookbooks/venv/lib/python3.13/site-packages (from opentelemetry-exporter-otlp-proto-grpc>=1.2.0->chromadb) (1.32.0)\n",
      "Requirement already satisfied: opentelemetry-proto==1.32.0 in /Users/tahmidtapadar/Documents/cookbooks/venv/lib/python3.13/site-packages (from opentelemetry-exporter-otlp-proto-grpc>=1.2.0->chromadb) (1.32.0)\n",
      "Requirement already satisfied: opentelemetry-instrumentation-asgi==0.53b0 in /Users/tahmidtapadar/Documents/cookbooks/venv/lib/python3.13/site-packages (from opentelemetry-instrumentation-fastapi>=0.41b0->chromadb) (0.53b0)\n",
      "Requirement already satisfied: opentelemetry-instrumentation==0.53b0 in /Users/tahmidtapadar/Documents/cookbooks/venv/lib/python3.13/site-packages (from opentelemetry-instrumentation-fastapi>=0.41b0->chromadb) (0.53b0)\n",
      "Requirement already satisfied: opentelemetry-semantic-conventions==0.53b0 in /Users/tahmidtapadar/Documents/cookbooks/venv/lib/python3.13/site-packages (from opentelemetry-instrumentation-fastapi>=0.41b0->chromadb) (0.53b0)\n",
      "Requirement already satisfied: opentelemetry-util-http==0.53b0 in /Users/tahmidtapadar/Documents/cookbooks/venv/lib/python3.13/site-packages (from opentelemetry-instrumentation-fastapi>=0.41b0->chromadb) (0.53b0)\n",
      "Requirement already satisfied: wrapt<2.0.0,>=1.0.0 in /Users/tahmidtapadar/Documents/cookbooks/venv/lib/python3.13/site-packages (from opentelemetry-instrumentation==0.53b0->opentelemetry-instrumentation-fastapi>=0.41b0->chromadb) (1.17.2)\n",
      "Requirement already satisfied: asgiref~=3.0 in /Users/tahmidtapadar/Documents/cookbooks/venv/lib/python3.13/site-packages (from opentelemetry-instrumentation-asgi==0.53b0->opentelemetry-instrumentation-fastapi>=0.41b0->chromadb) (3.8.1)\n",
      "Requirement already satisfied: monotonic>=1.5 in /Users/tahmidtapadar/Documents/cookbooks/venv/lib/python3.13/site-packages (from posthog>=2.4.0->chromadb) (1.6)\n",
      "Requirement already satisfied: backoff>=1.10.0 in /Users/tahmidtapadar/Documents/cookbooks/venv/lib/python3.13/site-packages (from posthog>=2.4.0->chromadb) (2.2.1)\n",
      "Requirement already satisfied: annotated-types>=0.6.0 in /Users/tahmidtapadar/Documents/cookbooks/venv/lib/python3.13/site-packages (from pydantic<3,>=1.9.0->openai) (0.7.0)\n",
      "Requirement already satisfied: pydantic-core==2.33.1 in /Users/tahmidtapadar/Documents/cookbooks/venv/lib/python3.13/site-packages (from pydantic<3,>=1.9.0->openai) (2.33.1)\n",
      "Requirement already satisfied: typing-inspection>=0.4.0 in /Users/tahmidtapadar/Documents/cookbooks/venv/lib/python3.13/site-packages (from pydantic<3,>=1.9.0->openai) (0.4.0)\n",
      "Requirement already satisfied: markdown-it-py>=2.2.0 in /Users/tahmidtapadar/Documents/cookbooks/venv/lib/python3.13/site-packages (from rich>=10.11.0->chromadb) (3.0.0)\n",
      "Requirement already satisfied: pygments<3.0.0,>=2.13.0 in /Users/tahmidtapadar/Documents/cookbooks/venv/lib/python3.13/site-packages (from rich>=10.11.0->chromadb) (2.19.1)\n",
      "Requirement already satisfied: networkx in /Users/tahmidtapadar/Documents/cookbooks/venv/lib/python3.13/site-packages (from torch>=1.11.0->sentence_transformers) (3.4.2)\n",
      "Requirement already satisfied: jinja2 in /Users/tahmidtapadar/Documents/cookbooks/venv/lib/python3.13/site-packages (from torch>=1.11.0->sentence_transformers) (3.1.6)\n",
      "Requirement already satisfied: setuptools in /Users/tahmidtapadar/Documents/cookbooks/venv/lib/python3.13/site-packages (from torch>=1.11.0->sentence_transformers) (78.1.0)\n",
      "Requirement already satisfied: mpmath<1.4,>=1.1.0 in /Users/tahmidtapadar/Documents/cookbooks/venv/lib/python3.13/site-packages (from sympy->onnxruntime>=1.14.1->chromadb) (1.3.0)\n",
      "Requirement already satisfied: regex!=2019.12.17 in /Users/tahmidtapadar/Documents/cookbooks/venv/lib/python3.13/site-packages (from transformers<5.0.0,>=4.41.0->sentence_transformers) (2024.11.6)\n",
      "Requirement already satisfied: safetensors>=0.4.3 in /Users/tahmidtapadar/Documents/cookbooks/venv/lib/python3.13/site-packages (from transformers<5.0.0,>=4.41.0->sentence_transformers) (0.5.3)\n",
      "Requirement already satisfied: click>=8.0.0 in /Users/tahmidtapadar/Documents/cookbooks/venv/lib/python3.13/site-packages (from typer>=0.9.0->chromadb) (8.1.8)\n",
      "Requirement already satisfied: shellingham>=1.3.0 in /Users/tahmidtapadar/Documents/cookbooks/venv/lib/python3.13/site-packages (from typer>=0.9.0->chromadb) (1.5.4)\n",
      "Requirement already satisfied: httptools>=0.6.3 in /Users/tahmidtapadar/Documents/cookbooks/venv/lib/python3.13/site-packages (from uvicorn[standard]>=0.18.3->chromadb) (0.6.4)\n",
      "Requirement already satisfied: python-dotenv>=0.13 in /Users/tahmidtapadar/Documents/cookbooks/venv/lib/python3.13/site-packages (from uvicorn[standard]>=0.18.3->chromadb) (1.1.0)\n",
      "Requirement already satisfied: uvloop!=0.15.0,!=0.15.1,>=0.14.0 in /Users/tahmidtapadar/Documents/cookbooks/venv/lib/python3.13/site-packages (from uvicorn[standard]>=0.18.3->chromadb) (0.21.0)\n",
      "Requirement already satisfied: watchfiles>=0.13 in /Users/tahmidtapadar/Documents/cookbooks/venv/lib/python3.13/site-packages (from uvicorn[standard]>=0.18.3->chromadb) (1.0.5)\n",
      "Requirement already satisfied: websockets>=10.4 in /Users/tahmidtapadar/Documents/cookbooks/venv/lib/python3.13/site-packages (from uvicorn[standard]>=0.18.3->chromadb) (15.0.1)\n",
      "Requirement already satisfied: joblib>=1.2.0 in /Users/tahmidtapadar/Documents/cookbooks/venv/lib/python3.13/site-packages (from scikit-learn->sentence_transformers) (1.4.2)\n",
      "Requirement already satisfied: threadpoolctl>=3.1.0 in /Users/tahmidtapadar/Documents/cookbooks/venv/lib/python3.13/site-packages (from scikit-learn->sentence_transformers) (3.6.0)\n",
      "Requirement already satisfied: cachetools<6.0,>=2.0.0 in /Users/tahmidtapadar/Documents/cookbooks/venv/lib/python3.13/site-packages (from google-auth>=1.0.1->kubernetes>=28.1.0->chromadb) (5.5.2)\n",
      "Requirement already satisfied: pyasn1-modules>=0.2.1 in /Users/tahmidtapadar/Documents/cookbooks/venv/lib/python3.13/site-packages (from google-auth>=1.0.1->kubernetes>=28.1.0->chromadb) (0.4.2)\n",
      "Requirement already satisfied: rsa<5,>=3.1.4 in /Users/tahmidtapadar/Documents/cookbooks/venv/lib/python3.13/site-packages (from google-auth>=1.0.1->kubernetes>=28.1.0->chromadb) (4.9)\n",
      "Requirement already satisfied: zipp>=3.20 in /Users/tahmidtapadar/Documents/cookbooks/venv/lib/python3.13/site-packages (from importlib-metadata<8.7.0,>=6.0->opentelemetry-api>=1.2.0->chromadb) (3.21.0)\n",
      "Requirement already satisfied: mdurl~=0.1 in /Users/tahmidtapadar/Documents/cookbooks/venv/lib/python3.13/site-packages (from markdown-it-py>=2.2.0->rich>=10.11.0->chromadb) (0.1.2)\n",
      "Requirement already satisfied: charset-normalizer<4,>=2 in /Users/tahmidtapadar/Documents/cookbooks/venv/lib/python3.13/site-packages (from requests->huggingface-hub>=0.20.0->sentence_transformers) (3.4.1)\n",
      "Requirement already satisfied: humanfriendly>=9.1 in /Users/tahmidtapadar/Documents/cookbooks/venv/lib/python3.13/site-packages (from coloredlogs->onnxruntime>=1.14.1->chromadb) (10.0)\n",
      "Requirement already satisfied: MarkupSafe>=2.0 in /Users/tahmidtapadar/Documents/cookbooks/venv/lib/python3.13/site-packages (from jinja2->torch>=1.11.0->sentence_transformers) (3.0.2)\n",
      "Requirement already satisfied: pyasn1<0.7.0,>=0.6.1 in /Users/tahmidtapadar/Documents/cookbooks/venv/lib/python3.13/site-packages (from pyasn1-modules>=0.2.1->google-auth>=1.0.1->kubernetes>=28.1.0->chromadb) (0.6.1)\n",
      "Note: you may need to restart the kernel to use updated packages.\n"
     ]
    }
   ],
   "source": [
    "%pip install openai chromadb sentence_transformers pandas matplotlib numpy tqdm"
   ]
  },
  {
   "cell_type": "code",
   "execution_count": 8,
   "metadata": {},
   "outputs": [],
   "source": [
    "import openai\n",
    "import chromadb\n",
    "from chromadb.utils import embedding_functions\n",
    "import pandas as pd\n",
    "import numpy as np\n",
    "import matplotlib.pyplot as plt\n",
    "import getpass\n",
    "from tqdm import tqdm\n",
    "from sentence_transformers import CrossEncoder\n",
    "from typing import Optional, List, Dict, Type, Any\n",
    "\n",
    "# Display settings for pandas\n",
    "pd.set_option('display.max_columns', None)\n",
    "pd.set_option('display.width', 1000)\n",
    "pd.set_option('display.max_rows', 100)\n",
    "pd.set_option('display.max_colwidth', 100)\n",
    "\n",
    "# Define paths\n",
    "DATA_DIR = \"../data/papers\"\n",
    "EVAL_DIR = \"../data/evalset\"\n",
    "\n",
    "# Initialize OpenAI and Chroma\n",
    "openai.api_key = getpass.getpass('Enter your OpenAI API key: ')\n",
    "chroma_client = chromadb.PersistentClient()\n",
    "\n",
    "# Global variables\n",
    "K_VALUES = [1, 3, 5, 10]"
   ]
  },
  {
   "cell_type": "markdown",
   "metadata": {},
   "source": [
    "### Loading Evaluation Dataset\n",
    "\n",
    "Let's load the eval set we created previously:"
   ]
  },
  {
   "cell_type": "code",
   "execution_count": 4,
   "metadata": {},
   "outputs": [
    {
     "name": "stdout",
     "output_type": "stream",
     "text": [
      "Loaded 209 evaluation examples\n",
      "                  id                                                                                             document                                                                                                query                                                                                               answer\n",
      "0  gpt_1.pdf_chunk_0  Improving Language Understanding\\nby Generative Pre-Training\\nAlec Radford\\nOpenAI\\nalec@openai....  describe the process of generative pre-training and its impact on language understanding tasks i...  The process of generative pre-training involves training a language model on a diverse corpus of...\n",
      "1  gpt_1.pdf_chunk_1  speciﬁc task. In contrast to previous approaches, we make use of task-aware input\\ntransformatio...                           key findings and performance metrics on evaluated benchmarks in this paper  The key findings indicate that the approach significantly improves upon the state of the art in ...\n",
      "2  gpt_1.pdf_chunk_2  The ability to learn effectively from raw text is crucial to alleviating the dependence on super...  discuss the role of unsupervised learning in natural language processing as mentioned in this paper  Unsupervised learning plays a vital role in natural language processing (NLP) by allowing models...\n",
      "3  gpt_1.pdf_chunk_3  trained word embeddings [10, 39, 42] to improve performance on a range of NLP tasks [8, 11, 26, ...       what optimization objectives are most effective for learning text representations in NLP tasks  The document mentions that recent research has looked at various optimization objectives for lea...\n",
      "4  gpt_1.pdf_chunk_5  In this paper, we explore a semi-supervised approach for language understanding tasks using a\\nc...                                     describe the two-stage training procedure outlined in this paper  The two-stage training procedure outlined in the paper involves: \\n1. Unsupervised pre-training ...\n"
     ]
    }
   ],
   "source": [
    "eval_df = pd.read_json('../data/evalset/evalset.json')\n",
    "print(f\"Loaded {len(eval_df)} evaluation examples\")\n",
    "print(eval_df.head())"
   ]
  },
  {
   "cell_type": "markdown",
   "metadata": {},
   "source": [
    "### Let's build our Agent"
   ]
  },
  {
   "cell_type": "code",
   "execution_count": 5,
   "metadata": {},
   "outputs": [],
   "source": [
    "class RAGAgent:\n",
    "    def __init__(self, collection, llm_model: str = \"gpt-3.5-turbo\", embedding_model: str = \"text-embedding-3-small\", reranker_model: Optional[str] = None):\n",
    "        self.collection = collection\n",
    "        self.llm_model = llm_model\n",
    "        self.embedding_model = embedding_model\n",
    "        self.reranker_model = reranker_model\n",
    "        self.max_iterations = 3\n",
    "        self.target_metrics = {\"recall\": 0.8, \"mrr\": 0.5}\n",
    "        self.top_k = 10\n",
    "        self.agent_type = self.__class__.__name__\n",
    "\n",
    "    def retrieve(self, query: str):\n",
    "        results = self.collection.query(query_texts=[query], n_results=self.top_k)\n",
    "        results = {\"ids\": results['ids'][0], \"documents\": results['documents'][0]}\n",
    "\n",
    "        if self.reranker_model:\n",
    "            cross_encoder = CrossEncoder(self.reranker_model)\n",
    "            pairs = [(query, doc) for doc in results[\"documents\"]]\n",
    "            scores = cross_encoder.predict(pairs)\n",
    "            reranked_indices = np.argsort(-scores)[:self.top_k]\n",
    "            return {\n",
    "                \"ids\": [results[\"ids\"][i] for i in reranked_indices],\n",
    "                \"documents\": [results[\"documents\"][i] for i in reranked_indices]\n",
    "            }\n",
    "\n",
    "        return results\n",
    "    \n",
    "    def evaluate_retrieval(self, predictions: List[str], ground_truth: List[str]):\n",
    "        metrics = {}\n",
    "\n",
    "        def calculate_mrr(predictions: list[str], ground_truth: list[str]):\n",
    "            mrr = 0\n",
    "            for label in ground_truth:\n",
    "                if label in predictions:\n",
    "                    mrr = max(mrr, 1 / (predictions.index(label) + 1))\n",
    "            return mrr\n",
    "        \n",
    "        def calculate_recall(predictions: list[str], ground_truth: list[str]):\n",
    "            return len([label for label in ground_truth if label in predictions]) / len(ground_truth)\n",
    "        \n",
    "        for k in K_VALUES:\n",
    "            metrics[f\"mrr@{k}\"] = calculate_mrr(predictions[:k], ground_truth)\n",
    "            metrics[f\"recall@{k}\"] = calculate_recall(predictions[:k], ground_truth)\n",
    "\n",
    "        return metrics\n",
    "    \n",
    "    def rewrite_query(self, query: str, retrieved_docs: List[str]):\n",
    "        system_prompt = \"You are an assistant that refines search queries to be precise and targeted for optimal document retrieval.\"\n",
    "        user_message = f\"Original query: {query}\\n\\n\"\n",
    "    \n",
    "        if retrieved_docs:\n",
    "            user_message += f\"The following documents were retrieved but did not achieve good retrieval metrics:\\n\\n\"\n",
    "            for i, doc in enumerate(retrieved_docs[:3]):\n",
    "                user_message += f\"Document {i+1}:\\n{doc}\\n\\n\"\n",
    "        user_message += f\"Please rewrite the query to be more specific and targeted to improve retrieval performance. Return ONLY the reformulated query without any explanations or additional text.\"\n",
    "    \n",
    "        response = openai.chat.completions.create(\n",
    "            model=self.llm_model,\n",
    "            messages=[\n",
    "                {\"role\": \"system\", \"content\": system_prompt},\n",
    "                {\"role\": \"user\", \"content\": user_message}\n",
    "            ]\n",
    "        )\n",
    "    \n",
    "        return response.choices[0].message.content.strip()    \n",
    "\n",
    "    def generate_answer(self, query: str, documents: List[str]):\n",
    "        context = \"\\n\\n\".join(documents)\n",
    "        response = openai.chat.completions.create(\n",
    "            model=self.llm_model,\n",
    "            messages=[\n",
    "                {\"role\": \"system\", \"content\": \"You are an assistant that answers questions based on the provided context.\"},\n",
    "                {\"role\": \"user\", \"content\": f\"Context:\\n{context}\\n\\nQuestion: {query}\\n\\nAnswer the question based on the context provided. If the context doesn't contain the answer, say 'I don't have enough information to answer this question.'\"}\n",
    "            ]\n",
    "        )\n",
    "        return response.choices[0].message.content\n",
    "    \n",
    "    def _is_target_achieved(self, metrics: Dict[str, float]) -> bool:\n",
    "        recall_key = f\"recall@{self.top_k}\"\n",
    "        mrr_key = f\"mrr@{self.top_k}\"\n",
    "        \n",
    "        current_recall = metrics.get(recall_key, 0)\n",
    "        current_mrr = metrics.get(mrr_key, 0)\n",
    "        \n",
    "        target_recall = self.target_metrics.get(\"recall\", 0)\n",
    "        target_mrr = self.target_metrics.get(\"mrr\", 0)\n",
    "\n",
    "        return current_recall >= target_recall and current_mrr >= target_mrr\n",
    "    \n",
    "    def run(self, query: str, ground_truth: List[str] = None):\n",
    "        current_query = query\n",
    "        iteration = 0\n",
    "        best_metrics = {\"recall@10\": 0, \"mrr@10\": 0}\n",
    "        best_retrieval = None\n",
    "\n",
    "        for iteration in range(1, self.max_iterations + 1):\n",
    "            # Retrieve documents and evaluate\n",
    "            retrievals = self.retrieve(current_query)\n",
    "            documents, predictions = retrievals[\"documents\"], retrievals['ids']\n",
    "            metrics = self.evaluate_retrieval(predictions, ground_truth) if ground_truth else {}\n",
    "\n",
    "            # Check if this is the best retrieval so far\n",
    "            if ground_truth:\n",
    "                recall_key, mrr_key = f\"recall@{self.top_k}\", f\"mrr@{self.top_k}\"\n",
    "                if (metrics.get(recall_key, 0), metrics.get(mrr_key, 0)) >= (best_metrics.get(recall_key, 0), best_metrics.get(mrr_key, 0)):\n",
    "                    best_metrics = metrics\n",
    "                    best_retrieval = {\"documents\": documents, \"predictions\": predictions, \"query\": current_query}\n",
    "            else:\n",
    "                # Without ground truth, just use the latest retrieval\n",
    "                best_retrieval = {\"documents\": documents, \"predictions\": predictions, \"query\": current_query}\n",
    "\n",
    "            # Check if we've met our targets or reached max iterations\n",
    "            if not ground_truth or self._is_target_achieved(metrics) or iteration == self.max_iterations:\n",
    "                final_docs = best_retrieval[\"documents\"] if best_retrieval else documents\n",
    "                final_query = best_retrieval[\"query\"] if best_retrieval else current_query\n",
    "                answer = self.generate_answer(query, final_docs)\n",
    "                return {\n",
    "                    \"query\": query,\n",
    "                    \"final_query\": final_query,\n",
    "                    \"answer\": answer,\n",
    "                    \"iterations\": iteration,\n",
    "                    \"metrics\": best_metrics,\n",
    "                    \"success\": True if not ground_truth or self._is_target_achieved(metrics) else False\n",
    "                }\n",
    "                \n",
    "            # Rewrite query and try again\n",
    "            current_query = self.rewrite_query(query, documents[:3])\n",
    "            print(f\"Reformulated query: {current_query}\")"
   ]
  },
  {
   "cell_type": "code",
   "execution_count": null,
   "metadata": {},
   "outputs": [],
   "source": [
    "class RAGEvaluator:\n",
    "    def __init__(self, chroma_client):\n",
    "        self.chroma_client = chroma_client\n",
    "        self.collections = {}\n",
    "    \n",
    "    def create_collection(self, collection_name: str, evalset: pd.DataFrame, embedding_model: str):\n",
    "        cache_key = f\"{collection_name}_{embedding_model}\"\n",
    "        if cache_key in self.collections:\n",
    "            return self.collections[cache_key]\n",
    "        \n",
    "        print(f\"Initializing collection {collection_name}\")\n",
    "\n",
    "        # Initialize embedding function\n",
    "        embedding_function = embedding_functions.OpenAIEmbeddingFunction(model_name=embedding_model, api_key=openai.api_key)\n",
    "        #embedding_function = embedding_functions.SentenceTransformerEmbeddingFunction(model_name=\"all-mpnet-base-v2\")\n",
    "        \n",
    "        # Delete collection if it exists\n",
    "        try:\n",
    "            self.chroma_client.delete_collection(name=collection_name)\n",
    "            print(f\"Deleted existing collection {collection_name}\")\n",
    "        except:\n",
    "            print(f\"No existing collection {collection_name} to delete\")\n",
    "        \n",
    "        # Create new collection\n",
    "        collection = self.chroma_client.create_collection(name=collection_name, embedding_function=embedding_function)\n",
    "\n",
    "        # Add documents to collection\n",
    "        for _, row in evalset.iterrows():\n",
    "            collection.upsert(\n",
    "                documents=[row['document']],\n",
    "                ids=[row['id']],\n",
    "                metadatas=[{'id': row['id'], 'query': row['query'], 'answer': row['answer']}]\n",
    "            )\n",
    "        \n",
    "        print(f\"Created collection {collection_name} with {collection.count()} documents using {embedding_model}\")\n",
    "\n",
    "        # Cache collection\n",
    "        self.collections[cache_key] = collection\n",
    "        return collection\n",
    "    \n",
    "    def create_agent_config(self, agent_class: Type[RAGAgent], embedding_model: str, reranker_model: Optional[str] = None, **agent_params):\n",
    "        return {\n",
    "            'agent_class': agent_class,\n",
    "            'embedding_model': embedding_model,\n",
    "            'reranker_model': reranker_model,\n",
    "            'params': agent_params\n",
    "        }\n",
    "    \n",
    "    def evaluate_configurations(self, eval_df: pd.DataFrame, configurations: List[Dict[str, Any]]):\n",
    "        all_results = []\n",
    "        \n",
    "        # Evaluate each configuration\n",
    "        for config in configurations:\n",
    "            agent_class = config['agent_class']\n",
    "            embedding_model = config['embedding_model']\n",
    "            reranker_model = config['reranker_model']\n",
    "            agent_params = config['params']\n",
    "            \n",
    "            # Create a descriptive name\n",
    "            config_name = f\"{agent_class.__name__}-{embedding_model}-{reranker_model}\" if reranker_model else f\"{agent_class.__name__}-{embedding_model}\"\n",
    "            print(f\"\\nEvaluating configuration: {config_name}\")\n",
    "            \n",
    "            # Create collection for this embedding model\n",
    "            collection_name = f\"eval_{embedding_model.replace('-', '_')}\"\n",
    "            collection = self.create_collection(collection_name, eval_df, embedding_model)\n",
    "            \n",
    "            # Create agent with this collection\n",
    "            agent = agent_class(collection=collection, reranker_model=reranker_model, **agent_params)\n",
    "            \n",
    "            # Run evaluation on this agent\n",
    "            results = []\n",
    "            for idx, row in tqdm(eval_df.iterrows(), total=len(eval_df), desc=f\"Testing {config_name}\"):\n",
    "                query = row['query']\n",
    "                ground_truth = [row['id']]\n",
    "                \n",
    "                # Run the query with this agent\n",
    "                result = agent.run(query, ground_truth)\n",
    "                \n",
    "                # Get the final metrics\n",
    "                final_metrics = result.get('metrics', {})\n",
    "                \n",
    "                # Record results for each k value\n",
    "                for k in K_VALUES:\n",
    "                    for metric_name, metric_key in [('recall', f'recall@{k}'), ('mrr', f'mrr@{k}')]:\n",
    "                        if metric_key in final_metrics:\n",
    "                            results.append({\n",
    "                                'query_id': idx,\n",
    "                                'config_name': config_name,\n",
    "                                'agent_type': agent.agent_type,\n",
    "                                'embedding_model': embedding_model,\n",
    "                                'reranker_model': str(reranker_model),\n",
    "                                'k': k,\n",
    "                                'metric': metric_name,\n",
    "                                'score': final_metrics[metric_key],\n",
    "                                'iterations': result.get('iterations', 1)\n",
    "                            })\n",
    "            \n",
    "            all_results.extend(results)\n",
    "        \n",
    "        # Combine all results\n",
    "        evaluation_df = pd.DataFrame(all_results)\n",
    "        print(f\"Evaluation complete with {len(evaluation_df)} data points\")\n",
    "        \n",
    "        return evaluation_df\n",
    "    \n",
    "    def visualize_results(self, results_df: pd.DataFrame):\n",
    "        # Calculate average scores by configuration and k value\n",
    "        avg_results = results_df.groupby(['config_name', 'k', 'metric'])['score'].mean().reset_index()\n",
    "\n",
    "        # Create figure with two subplots\n",
    "        fig, (ax1, ax2) = plt.subplots(1, 2, figsize=(20, 6))\n",
    "        \n",
    "        # Plot recall for different configurations\n",
    "        recall_data = avg_results[avg_results['metric'] == 'recall']\n",
    "        for config in recall_data['config_name'].unique():\n",
    "            data = recall_data[recall_data['config_name'] == config]\n",
    "            ax1.plot(data['k'], data['score'], marker='o', label=config)\n",
    "        \n",
    "        ax1.set_title(\"Recall@k for Different Configurations\")\n",
    "        ax1.set_xlabel(\"k\")\n",
    "        ax1.set_ylabel(\"Recall\")\n",
    "        ax1.grid(True)\n",
    "        ax1.legend(loc = 'lower right')\n",
    "        \n",
    "        # Plot MRR for different configurations\n",
    "        mrr_data = avg_results[avg_results['metric'] == 'mrr']\n",
    "        for config in mrr_data['config_name'].unique():\n",
    "            data = mrr_data[mrr_data['config_name'] == config]\n",
    "            ax2.plot(data['k'], data['score'], marker='o', label=config)\n",
    "        \n",
    "        ax2.set_title(\"MRR@k for Different Configurations\")\n",
    "        ax2.set_xlabel(\"k\")\n",
    "        ax2.set_ylabel(\"MRR\")\n",
    "        ax2.grid(True)\n",
    "        ax2.legend(loc = 'lower right')\n",
    "        \n",
    "        plt.tight_layout()\n",
    "        plt.savefig('configuration_comparison.png')\n",
    "        plt.show()\n",
    "\n",
    "        # Plot iterations by configuration\n",
    "        iterations_by_config = results_df.groupby(['config_name'])['iterations'].mean().reset_index()\n",
    "        print(iterations_by_config)\n",
    "\n",
    "        plt.figure(figsize=(12, 5))\n",
    "        ax = iterations_by_config.plot.bar(x='config_name', y='iterations', color='skyblue', legend=False)\n",
    "\n",
    "        plt.title(\"Average Iterations by Configuration\")\n",
    "        plt.xlabel(\"Configuration\")\n",
    "        plt.ylabel(\"Iterations\")\n",
    "        plt.grid(axis='y', linestyle='--', alpha=0.7)\n",
    "        plt.xticks(rotation=45, ha='right')\n",
    "\n",
    "        plt.tight_layout()\n",
    "        plt.savefig('iterations_by_config.png')\n",
    "        plt.show()"
   ]
  },
  {
   "cell_type": "code",
   "execution_count": null,
   "metadata": {},
   "outputs": [
    {
     "name": "stdout",
     "output_type": "stream",
     "text": [
      "\n",
      "Evaluating configuration: RAGAgent-text-embedding-3-small\n",
      "Initializing collection eval_text_embedding_3_small\n",
      "Deleted existing collection eval_text_embedding_3_small\n",
      "Created collection eval_text_embedding_3_small with 209 documents using text-embedding-3-small\n"
     ]
    },
    {
     "name": "stderr",
     "output_type": "stream",
     "text": [
      "Testing RAGAgent-text-embedding-3-small:   0%|          | 1/209 [00:02<09:00,  2.60s/it]"
     ]
    },
    {
     "name": "stdout",
     "output_type": "stream",
     "text": [
      "Reformulated query: Refined query: detailed key findings and performance metrics specifically related to zero-shot, one-shot, and few-shot evaluations in the paper.\n",
      "Reformulated query: Revised query: detailed key findings and performance metrics for zero-shot, one-shot, and few-shot evaluations in language models\n"
     ]
    },
    {
     "name": "stderr",
     "output_type": "stream",
     "text": [
      "Testing RAGAgent-text-embedding-3-small:   2%|▏         | 4/209 [00:09<07:06,  2.08s/it]"
     ]
    },
    {
     "name": "stdout",
     "output_type": "stream",
     "text": [
      "Reformulated query: Refined query: Explain the two-stage training process depicted in Figure 2 of the InstructGPT paper.\n",
      "Reformulated query: Refined query: Outline the two-stage training procedure mentioned in Figure 2 of the InstructGPT paper.\n"
     ]
    },
    {
     "name": "stderr",
     "output_type": "stream",
     "text": [
      "Testing RAGAgent-text-embedding-3-small:   2%|▏         | 5/209 [00:12<09:10,  2.70s/it]"
     ]
    },
    {
     "name": "stdout",
     "output_type": "stream",
     "text": [
      "Reformulated query: Refined query: Discuss the impact and implementation of task-aware input transformations in the proposed model.\n",
      "Reformulated query: role of task-specific input adaptations in transfer learning model for natural language tasks\n"
     ]
    },
    {
     "name": "stderr",
     "output_type": "stream",
     "text": [
      "Testing RAGAgent-text-embedding-3-small:   3%|▎         | 6/209 [00:21<15:50,  4.68s/it]"
     ]
    },
    {
     "name": "stdout",
     "output_type": "stream",
     "text": [
      "Reformulated query: Performance improvements of the transformer model with and without pre-training across various natural language processing tasks mentioned in the paper.\n",
      "Reformulated query: performance improvements of transformer model with generative pre-training and discriminative fine-tuning on various natural language understanding tasks\n"
     ]
    },
    {
     "name": "stderr",
     "output_type": "stream",
     "text": [
      "Testing RAGAgent-text-embedding-3-small:   8%|▊         | 16/209 [00:47<08:28,  2.64s/it]"
     ]
    },
    {
     "name": "stdout",
     "output_type": "stream",
     "text": [
      "Reformulated query: Revised query: Compare the performance of a specific proposed model on traditional language modeling tasks, closed book question answering tasks, and language translation tasks using various datasets mentioned in the evaluation.\n",
      "Reformulated query: Refined query: compare the performance of the proposed model on question-answering, reading comprehension, and adversarially constructed datasets mentioned in the evaluation.\n"
     ]
    },
    {
     "name": "stderr",
     "output_type": "stream",
     "text": [
      "Testing RAGAgent-text-embedding-3-small:   9%|▊         | 18/209 [00:55<10:28,  3.29s/it]"
     ]
    },
    {
     "name": "stdout",
     "output_type": "stream",
     "text": [
      "Reformulated query: Retrieve performance comparison of Finetuned Transformer LM with other models specifically on the RACE dataset.\n",
      "Reformulated query: Refined query: Performance of Finetuned Transformer LM compared to LSTM and other models specifically on the RACE dataset\n"
     ]
    },
    {
     "name": "stderr",
     "output_type": "stream",
     "text": [
      "Testing RAGAgent-text-embedding-3-small:  12%|█▏        | 25/209 [01:11<06:44,  2.20s/it]"
     ]
    },
    {
     "name": "stdout",
     "output_type": "stream",
     "text": [
      "Reformulated query: Refined query: impact of task-agnostic model on question answering and text classification performance\n",
      "Reformulated query: Refined query: performance comparison of a general task-agnostic model vs discriminatively trained models on question answering and text classification tasks\n"
     ]
    },
    {
     "name": "stderr",
     "output_type": "stream",
     "text": [
      "Testing RAGAgent-text-embedding-3-small:  13%|█▎        | 27/209 [01:15<06:18,  2.08s/it]"
     ]
    },
    {
     "name": "stdout",
     "output_type": "stream",
     "text": [
      "Reformulated query: Revised query: What are the exact performance metrics of the language model on the CoQA dataset compared to baseline systems?\n",
      "Reformulated query: Revised query: performance of GPT-3 on the CoQA dataset compared to baseline systems\n"
     ]
    },
    {
     "name": "stderr",
     "output_type": "stream",
     "text": [
      "Testing RAGAgent-text-embedding-3-small:  14%|█▍        | 30/209 [01:23<07:07,  2.39s/it]"
     ]
    },
    {
     "name": "stdout",
     "output_type": "stream",
     "text": [
      "Reformulated query: Methodology details of combining unsupervised pre-training and supervised fine-tuning in the paper.\n",
      "Reformulated query: Query refinement: Describe in detail the methodology outlined in the paper for combining unsupervised pre-training with supervised fine-tuning for language understanding tasks.\n"
     ]
    },
    {
     "name": "stderr",
     "output_type": "stream",
     "text": [
      "Testing RAGAgent-text-embedding-3-small:  19%|█▉        | 40/209 [01:54<09:08,  3.25s/it]"
     ]
    },
    {
     "name": "stdout",
     "output_type": "stream",
     "text": [
      "Reformulated query: Revised query: \"Winograd Schema Challenge results GPT-3 zero-shot, one-shot, few-shot settings comparison with state-of-the-art performance\"\n",
      "Reformulated query: Revised query: Detailed results of GPT-3 performance on the Winograd Schema Challenge outlined in the paper.\n"
     ]
    },
    {
     "name": "stderr",
     "output_type": "stream",
     "text": [
      "Testing RAGAgent-text-embedding-3-small:  22%|██▏       | 47/209 [02:08<05:16,  1.95s/it]"
     ]
    },
    {
     "name": "stdout",
     "output_type": "stream",
     "text": [
      "Reformulated query: Refined query: Analyze and compare the model performance trends specifically outlined in the performance metrics and results of the language model systems presented in the paper with those detailed in the studies by Jozefowicz et al. (2016) and Hestness et al. (2017).\n",
      "Reformulated query: Refined query: Analyze and compare the model performance results in the paper with the experiments conducted by Jozefowicz et al. (2016) and Hestness et al. (2017) on language model scalability and benchmark tasks.\n"
     ]
    },
    {
     "name": "stderr",
     "output_type": "stream",
     "text": [
      "Testing RAGAgent-text-embedding-3-small:  23%|██▎       | 48/209 [02:15<09:09,  3.41s/it]"
     ]
    },
    {
     "name": "stdout",
     "output_type": "stream",
     "text": [
      "Reformulated query: Revised query: detailed analysis of GPT-2's performance on language modeling datasets such as LAMBADA and MMLU.\n",
      "Reformulated query: Revised query: GPT-2 performance on language modeling datasets focusing on improvements in perplexity, accuracy, and error analysis\n"
     ]
    },
    {
     "name": "stderr",
     "output_type": "stream",
     "text": [
      "Testing RAGAgent-text-embedding-3-small:  24%|██▍       | 51/209 [02:27<09:06,  3.46s/it]"
     ]
    },
    {
     "name": "stdout",
     "output_type": "stream",
     "text": [
      "Reformulated query: Revised query: comparative analysis of GPT-3 and fine-tuned models in few-shot performance across natural language inference tasks and reading comprehension datasets.\n",
      "Reformulated query: key findings on GPT-3 few-shot performance compared to fine-tuned models in natural language inference tasks\n"
     ]
    },
    {
     "name": "stderr",
     "output_type": "stream",
     "text": [
      "Testing RAGAgent-text-embedding-3-small:  27%|██▋       | 56/209 [02:40<06:32,  2.56s/it]"
     ]
    },
    {
     "name": "stdout",
     "output_type": "stream",
     "text": [
      "Reformulated query: Evaluation methodology for GPT-3's in-context learning settings in comparison to fine-tuned models\n",
      "Reformulated query: evaluation methodology for GPT-3 in-context learning - specifics\n"
     ]
    },
    {
     "name": "stderr",
     "output_type": "stream",
     "text": [
      "Testing RAGAgent-text-embedding-3-small:  27%|██▋       | 57/209 [02:46<08:40,  3.42s/it]"
     ]
    },
    {
     "name": "stdout",
     "output_type": "stream",
     "text": [
      "Reformulated query: Differences between few-shot, one-shot, and zero-shot learning as discussed in the paper contrasted with focus on performance trade-offs and sample efficiency.\n",
      "Reformulated query: Distinguish the key characteristics and advantages of few-shot, one-shot, and zero-shot learning in the context of language models.\n"
     ]
    },
    {
     "name": "stderr",
     "output_type": "stream",
     "text": [
      "Testing RAGAgent-text-embedding-3-small:  29%|██▉       | 61/209 [02:58<07:03,  2.86s/it]"
     ]
    },
    {
     "name": "stdout",
     "output_type": "stream",
     "text": [
      "Reformulated query: Query refinement: analysis of societal biases in GPT-3 model and its impact on marginalized groups\n",
      "Reformulated query: \"Analysis of gender, race, and religion biases in GPT-3 and societal impacts\"\n"
     ]
    },
    {
     "name": "stderr",
     "output_type": "stream",
     "text": [
      "Testing RAGAgent-text-embedding-3-small:  30%|██▉       | 62/209 [03:02<07:50,  3.20s/it]"
     ]
    },
    {
     "name": "stdout",
     "output_type": "stream",
     "text": [
      "Reformulated query: Refined query: enumerate and explain the specific settings for in-context learning evaluated in this study\n",
      "Reformulated query: Settings for in-context learning tasks in language models mentioned in this paper.\n"
     ]
    },
    {
     "name": "stderr",
     "output_type": "stream",
     "text": [
      "Testing RAGAgent-text-embedding-3-small:  33%|███▎      | 69/209 [03:18<05:29,  2.35s/it]"
     ]
    },
    {
     "name": "stdout",
     "output_type": "stream",
     "text": [
      "Reformulated query: Refined query: impact of architectural parameters on computational efficiency in transformer models with a parameter range of 1 billion to 50 billion\n",
      "Reformulated query: architectural parameters impact on computational efficiency large transformer models, sizes, layers, attention mechanisms, computation costs\n"
     ]
    },
    {
     "name": "stderr",
     "output_type": "stream",
     "text": [
      "Testing RAGAgent-text-embedding-3-small:  34%|███▍      | 72/209 [03:27<06:07,  2.68s/it]"
     ]
    },
    {
     "name": "stdout",
     "output_type": "stream",
     "text": [
      "Reformulated query: Revised query: outline the evaluation methodology for few-shot learning, particularly focusing on the details of how few-shot, one-shot, and zero-shot evaluations are conducted in the context of language models in the paper mentioned.\n",
      "Reformulated query: Refined query: Explain the evaluation methodology for few-shot learning using language models as outlined in the provided documents.\n"
     ]
    },
    {
     "name": "stderr",
     "output_type": "stream",
     "text": [
      "Testing RAGAgent-text-embedding-3-small:  36%|███▌      | 75/209 [03:36<05:32,  2.48s/it]"
     ]
    },
    {
     "name": "stdout",
     "output_type": "stream",
     "text": [
      "Reformulated query: Refined query: detailed explanation of the methodology used to assess GPT-3's language modeling performance\n",
      "Reformulated query: Methodology to evaluate GPT-3's language modeling performance in few-shot learning scenarios\n"
     ]
    },
    {
     "name": "stderr",
     "output_type": "stream",
     "text": [
      "Testing RAGAgent-text-embedding-3-small:  39%|███▉      | 82/209 [03:52<05:01,  2.37s/it]"
     ]
    },
    {
     "name": "stdout",
     "output_type": "stream",
     "text": [
      "Reformulated query: Refined query: detailed comparison of performance in zero-shot, one-shot, and few-shot settings in the study\n",
      "Reformulated query: Performance comparison of zero-shot, one-shot, and few-shot settings in the context of language models.\n"
     ]
    },
    {
     "name": "stderr",
     "output_type": "stream",
     "text": [
      "Testing RAGAgent-text-embedding-3-small:  43%|████▎     | 89/209 [04:14<05:50,  2.92s/it]"
     ]
    },
    {
     "name": "stdout",
     "output_type": "stream",
     "text": [
      "Reformulated query: Refined query: Contrast the performance of GPT-3 in one-shot and few-shot settings specifically on natural language inference tasks like ANLI dataset and reading comprehension datasets like RACE or QuAC.\n",
      "Reformulated query: Retrieve documents that specifically compare the performance of GPT-3 in one-shot and few-shot settings on natural language inference tasks such as ANLI, RTE, RACE, and QuAC.\n"
     ]
    },
    {
     "name": "stderr",
     "output_type": "stream",
     "text": [
      "Testing RAGAgent-text-embedding-3-small:  48%|████▊     | 101/209 [04:41<03:28,  1.93s/it]"
     ]
    },
    {
     "name": "stdout",
     "output_type": "stream",
     "text": [
      "Reformulated query: Query refinement: analyze the difference in human detection accuracy between articles generated by GPT-3 175B model and a control model in news articles of approximately 500 words in length\n",
      "Reformulated query: Refined query: Compare the mean human detection accuracy of intentionally bad longer news articles generated by GPT-3 175B versus a control model in a study involving US-based participants.\n"
     ]
    },
    {
     "name": "stderr",
     "output_type": "stream",
     "text": [
      "Testing RAGAgent-text-embedding-3-small:  59%|█████▉    | 124/209 [05:35<02:56,  2.07s/it]"
     ]
    },
    {
     "name": "stdout",
     "output_type": "stream",
     "text": [
      "Reformulated query: Query refinement: Comparative analysis of model sizes and performance metrics across papers focusing on the impact of increasing model size on human perception and performance metrics.\n",
      "Reformulated query: Query refinement: Comparative analysis of model sizes and performance metrics in large natural language processing models.\n"
     ]
    },
    {
     "name": "stderr",
     "output_type": "stream",
     "text": [
      "Testing RAGAgent-text-embedding-3-small:  61%|██████    | 127/209 [05:43<03:17,  2.41s/it]"
     ]
    },
    {
     "name": "stdout",
     "output_type": "stream",
     "text": [
      "Reformulated query: Refined query: Highlight the key differences between one-shot, zero-shot, and few-shot learning approaches in the context of language models.\n",
      "Reformulated query: Refined query: Highlight the key differences between zero-shot, one-shot, and few-shot learning approaches discussed in the text.\n"
     ]
    },
    {
     "name": "stderr",
     "output_type": "stream",
     "text": [
      "Testing RAGAgent-text-embedding-3-small:  64%|██████▎   | 133/209 [05:56<02:15,  1.78s/it]"
     ]
    },
    {
     "name": "stdout",
     "output_type": "stream",
     "text": [
      "Reformulated query: Refined query: impact of dataset filtering on size reduction for the CommonCrawl dataset.\n",
      "Reformulated query: Dataset filtering process impact on size reduction in NLP datasets.\n"
     ]
    },
    {
     "name": "stderr",
     "output_type": "stream",
     "text": [
      "Testing RAGAgent-text-embedding-3-small:  66%|██████▌   | 137/209 [06:06<02:38,  2.21s/it]"
     ]
    },
    {
     "name": "stdout",
     "output_type": "stream",
     "text": [
      "Reformulated query: Query refinement: demographic characteristics (age, gender distribution) of participants in experiments evaluating human detection of machine-generated news articles\n",
      "Reformulated query: Participant demographics in experiments on human ability to distinguish between machine-generated news articles.\n"
     ]
    },
    {
     "name": "stderr",
     "output_type": "stream",
     "text": [
      "Testing RAGAgent-text-embedding-3-small:  68%|██████▊   | 143/209 [06:19<01:49,  1.66s/it]"
     ]
    },
    {
     "name": "stdout",
     "output_type": "stream",
     "text": [
      "Reformulated query: Refined query: Compare model performance across zero-shot, one-shot, and few-shot settings specifically for language models and their ability to rapidly adapt to new tasks with minimal task-specific data.\n",
      "Reformulated query: Refined query: Analyze and compare the model performance in zero-shot, one-shot, and few-shot settings for language tasks based on their respective benchmarks and sample efficiency.\n"
     ]
    },
    {
     "name": "stderr",
     "output_type": "stream",
     "text": [
      "Testing RAGAgent-text-embedding-3-small:  69%|██████▉   | 145/209 [06:23<01:51,  1.73s/it]"
     ]
    },
    {
     "name": "stdout",
     "output_type": "stream",
     "text": [
      "Reformulated query: Refined query: Explain the impact of the post-training alignment process on GPT-4's performance metrics.\n",
      "Reformulated query: Refined query: Explain the steps involved in the post-training alignment process for GPT-4 and its impact on model performance.\n"
     ]
    },
    {
     "name": "stderr",
     "output_type": "stream",
     "text": [
      "Testing RAGAgent-text-embedding-3-small:  71%|███████   | 148/209 [06:31<02:03,  2.03s/it]"
     ]
    },
    {
     "name": "stdout",
     "output_type": "stream",
     "text": [
      "Reformulated query: \"challenges of developing deep learning infrastructure and optimization methods for large language models\"\n",
      "Reformulated query: Key challenges and obstacles faced when developing deep learning infrastructure and optimization methods in large-scale language models.\n"
     ]
    },
    {
     "name": "stderr",
     "output_type": "stream",
     "text": [
      "Testing RAGAgent-text-embedding-3-small:  77%|███████▋  | 160/209 [07:00<01:49,  2.24s/it]"
     ]
    },
    {
     "name": "stdout",
     "output_type": "stream",
     "text": [
      "Reformulated query: Summarize the capabilities demonstrated by very large language models in adapting to a wide variety of tasks without fine-tuning, as presented by Srivastava et al.\n",
      "Reformulated query: Summarize the findings of Srivastava et al.'s paper on the capabilities of large language models, focusing on zero-shot task transfer and model performance improvements.\n"
     ]
    },
    {
     "name": "stderr",
     "output_type": "stream",
     "text": [
      "Testing RAGAgent-text-embedding-3-small:  78%|███████▊  | 162/209 [07:05<01:49,  2.33s/it]"
     ]
    },
    {
     "name": "stdout",
     "output_type": "stream",
     "text": [
      "Reformulated query: \"validation method for contamination in GSM-8K benchmark\"\n",
      "Reformulated query: contamination checking method used for GSM-8K validation protocol\n"
     ]
    },
    {
     "name": "stderr",
     "output_type": "stream",
     "text": [
      "Testing RAGAgent-text-embedding-3-small:  78%|███████▊  | 164/209 [07:10<01:55,  2.56s/it]"
     ]
    },
    {
     "name": "stdout",
     "output_type": "stream",
     "text": [
      "Reformulated query: GPT-4 performance metrics compared to baseline NLP models in English-language multiple-choice question benchmarks\n",
      "Reformulated query: Revised query: comparative analysis of GPT-4's performance metrics on MMLU benchmark in English and translated languages\n"
     ]
    },
    {
     "name": "stderr",
     "output_type": "stream",
     "text": [
      "Testing RAGAgent-text-embedding-3-small:  81%|████████▏ | 170/209 [07:30<01:41,  2.61s/it]"
     ]
    },
    {
     "name": "stdout",
     "output_type": "stream",
     "text": [
      "Reformulated query: impact of GPT-4 mitigations deployment risks\"\n",
      "Reformulated query: impact of GPT-4's safety mitigations on potential adversarial attacks and exploits\n"
     ]
    },
    {
     "name": "stderr",
     "output_type": "stream",
     "text": [
      "Testing RAGAgent-text-embedding-3-small:  82%|████████▏ | 171/209 [07:33<01:49,  2.88s/it]"
     ]
    },
    {
     "name": "stdout",
     "output_type": "stream",
     "text": [
      "Reformulated query: Refined query: Describe the training methodology for GPT-3 models in the provided documents.\n",
      "Reformulated query: Refined query: Describe the training methodology for GPT-3 models including details on optimizer settings, data preprocessing, and training schedule as outlined in the paper.\n"
     ]
    },
    {
     "name": "stderr",
     "output_type": "stream",
     "text": [
      "Testing RAGAgent-text-embedding-3-small:  88%|████████▊ | 183/209 [08:08<01:21,  3.15s/it]"
     ]
    },
    {
     "name": "stdout",
     "output_type": "stream",
     "text": [
      "Reformulated query: Query refinement: How does the paper propose interventions to mitigate bias in language models concerning gender, race, and religion demographics?\n",
      "Reformulated query: Refined query: analysis of bias in language models towards gender, race, and religion and strategies for intervention and mitigation.\n"
     ]
    },
    {
     "name": "stderr",
     "output_type": "stream",
     "text": [
      "Testing RAGAgent-text-embedding-3-small:  93%|█████████▎| 195/209 [08:34<00:24,  1.78s/it]"
     ]
    },
    {
     "name": "stdout",
     "output_type": "stream",
     "text": [
      "Reformulated query: Refined query: detailed analysis of the advancements in user intent alignment in GPT-4 in comparison to previous GPT versions\n",
      "Reformulated query: Refined query: Analysis of specific enhancements in user intent alignment introduced in GPT-4 compared to previous GPT models.\n"
     ]
    },
    {
     "name": "stderr",
     "output_type": "stream",
     "text": [
      "Testing RAGAgent-text-embedding-3-small: 100%|██████████| 209/209 [09:07<00:00,  2.62s/it]"
     ]
    },
    {
     "name": "stdout",
     "output_type": "stream",
     "text": [
      "Evaluation complete with 1672 data points\n"
     ]
    },
    {
     "name": "stderr",
     "output_type": "stream",
     "text": [
      "\n"
     ]
    }
   ],
   "source": [
    "# Initialize evaluator\n",
    "evaluator = RAGEvaluator(chroma_client)\n",
    "    \n",
    "\n",
    "configs = [\n",
    "    evaluator.create_agent_config(\n",
    "        RAGAgent,\n",
    "        embedding_model=\"text-embedding-3-small\",\n",
    "        reranker_model=None,\n",
    "        llm_model=\"gpt-3.5-turbo\"\n",
    "    ),\n",
    "    evaluator.create_agent_config(\n",
    "        RAGAgent,\n",
    "        embedding_model=\"text-embedding-3-large\",\n",
    "        reranker_model=None,\n",
    "        llm_model=\"gpt-3.5-turbo\"\n",
    "    ),\n",
    "    evaluator.create_agent_config(\n",
    "        RAGAgent,\n",
    "        embedding_model=\"text-embedding-3-large\",\n",
    "        reranker_model=\"cross-encoder/ms-marco-MiniLM-L-6-v2\",\n",
    "        llm_model=\"gpt-3.5-turbo\"\n",
    "    ), \n",
    "    evaluator.create_agent_config(\n",
    "        RAGAgent,\n",
    "        embedding_model=\"text-embedding-3-small\",\n",
    "        reranker_model=\"cross-encoder/ms-marco-MiniLM-L-6-v2\",\n",
    "        llm_model=\"gpt-3.5-turbo\"\n",
    "    )\n",
    "]\n",
    "\n",
    "evaluation_df = evaluator.evaluate_configurations(eval_df, configs)"
   ]
  },
  {
   "cell_type": "code",
   "execution_count": 25,
   "metadata": {},
   "outputs": [
    {
     "data": {
      "image/png": "[encoded data removed]",
      "text/plain": [
       "<Figure size 2000x600 with 2 Axes>"
      ]
     },
     "metadata": {},
     "output_type": "display_data"
    },
    {
     "name": "stdout",
     "output_type": "stream",
     "text": [
      "                       config_name  iterations\n",
      "0  RAGAgent-text-embedding-3-small    1.354067\n"
     ]
    },
    {
     "data": {
      "text/plain": [
       "<Figure size 1200x500 with 0 Axes>"
      ]
     },
     "metadata": {},
     "output_type": "display_data"
    },
    {
     "data": {
      "image/png": "[encoded data removed]",
      "text/plain": [
       "<Figure size 640x480 with 1 Axes>"
      ]
     },
     "metadata": {},
     "output_type": "display_data"
    }
   ],
   "source": [
    "evaluator.visualize_results(evaluation_df)"
   ]
  }
 ],
 "metadata": {
  "kernelspec": {
   "display_name": "venv",
   "language": "python",
   "name": "python3"
  },
  "language_info": {
   "codemirror_mode": {
    "name": "ipython",
    "version": 3
   },
   "file_extension": ".py",
   "mimetype": "text/x-python",
   "name": "python",
   "nbconvert_exporter": "python",
   "pygments_lexer": "ipython3",
   "version": "3.13.3"
  }
 },
 "nbformat": 4,
 "nbformat_minor": 2
}
