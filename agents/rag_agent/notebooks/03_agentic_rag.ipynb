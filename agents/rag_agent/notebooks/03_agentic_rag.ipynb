{
 "cells": [
  {
   "cell_type": "markdown",
   "metadata": {},
   "source": [
    "# Self-Improving RAG Agent\n",
    "\n",
    "## Overview\n",
    "\n",
    "Traditional RAG systems have a critical limitation: they retrieve documents once and then generate an answer based on those documents, regardless of their relevance. An agentic approach allows the system to adapt its retrieval strategy based on objective performance metrics.\n",
    "\n",
    "This notebook provides a framework for evaluating agentic RAG systems.\n",
    "\n",
    "## Setup\n",
    "\n",
    "First, let's install the necessary libraries:"
   ]
  },
  {
   "cell_type": "code",
   "execution_count": 1,
   "metadata": {},
   "outputs": [
    {
     "name": "stdout",
     "output_type": "stream",
     "text": [
      "Requirement already satisfied: openai in /Users/tahmidtapadar/Documents/cookbooks/venv/lib/python3.13/site-packages (1.74.0)\n",
      "Requirement already satisfied: chromadb in /Users/tahmidtapadar/Documents/cookbooks/venv/lib/python3.13/site-packages (1.0.4)\n",
      "Requirement already satisfied: sentence_transformers in /Users/tahmidtapadar/Documents/cookbooks/venv/lib/python3.13/site-packages (4.0.2)\n",
      "Requirement already satisfied: pandas in /Users/tahmidtapadar/Documents/cookbooks/venv/lib/python3.13/site-packages (2.2.3)\n",
      "Requirement already satisfied: matplotlib in /Users/tahmidtapadar/Documents/cookbooks/venv/lib/python3.13/site-packages (3.10.1)\n",
      "Requirement already satisfied: numpy in /Users/tahmidtapadar/Documents/cookbooks/venv/lib/python3.13/site-packages (2.2.4)\n",
      "Requirement already satisfied: tqdm in /Users/tahmidtapadar/Documents/cookbooks/venv/lib/python3.13/site-packages (4.67.1)\n",
      "Requirement already satisfied: anyio<5,>=3.5.0 in /Users/tahmidtapadar/Documents/cookbooks/venv/lib/python3.13/site-packages (from openai) (4.9.0)\n",
      "Requirement already satisfied: distro<2,>=1.7.0 in /Users/tahmidtapadar/Documents/cookbooks/venv/lib/python3.13/site-packages (from openai) (1.9.0)\n",
      "Requirement already satisfied: httpx<1,>=0.23.0 in /Users/tahmidtapadar/Documents/cookbooks/venv/lib/python3.13/site-packages (from openai) (0.28.1)\n",
      "Requirement already satisfied: jiter<1,>=0.4.0 in /Users/tahmidtapadar/Documents/cookbooks/venv/lib/python3.13/site-packages (from openai) (0.9.0)\n",
      "Requirement already satisfied: pydantic<3,>=1.9.0 in /Users/tahmidtapadar/Documents/cookbooks/venv/lib/python3.13/site-packages (from openai) (2.11.3)\n",
      "Requirement already satisfied: sniffio in /Users/tahmidtapadar/Documents/cookbooks/venv/lib/python3.13/site-packages (from openai) (1.3.1)\n",
      "Requirement already satisfied: typing-extensions<5,>=4.11 in /Users/tahmidtapadar/Documents/cookbooks/venv/lib/python3.13/site-packages (from openai) (4.13.2)\n",
      "Requirement already satisfied: build>=1.0.3 in /Users/tahmidtapadar/Documents/cookbooks/venv/lib/python3.13/site-packages (from chromadb) (1.2.2.post1)\n",
      "Requirement already satisfied: chroma-hnswlib==0.7.6 in /Users/tahmidtapadar/Documents/cookbooks/venv/lib/python3.13/site-packages (from chromadb) (0.7.6)\n",
      "Requirement already satisfied: fastapi==0.115.9 in /Users/tahmidtapadar/Documents/cookbooks/venv/lib/python3.13/site-packages (from chromadb) (0.115.9)\n",
      "Requirement already satisfied: uvicorn>=0.18.3 in /Users/tahmidtapadar/Documents/cookbooks/venv/lib/python3.13/site-packages (from uvicorn[standard]>=0.18.3->chromadb) (0.34.1)\n",
      "Requirement already satisfied: posthog>=2.4.0 in /Users/tahmidtapadar/Documents/cookbooks/venv/lib/python3.13/site-packages (from chromadb) (3.24.1)\n",
      "Requirement already satisfied: onnxruntime>=1.14.1 in /Users/tahmidtapadar/Documents/cookbooks/venv/lib/python3.13/site-packages (from chromadb) (1.21.0)\n",
      "Requirement already satisfied: opentelemetry-api>=1.2.0 in /Users/tahmidtapadar/Documents/cookbooks/venv/lib/python3.13/site-packages (from chromadb) (1.32.0)\n",
      "Requirement already satisfied: opentelemetry-exporter-otlp-proto-grpc>=1.2.0 in /Users/tahmidtapadar/Documents/cookbooks/venv/lib/python3.13/site-packages (from chromadb) (1.32.0)\n",
      "Requirement already satisfied: opentelemetry-instrumentation-fastapi>=0.41b0 in /Users/tahmidtapadar/Documents/cookbooks/venv/lib/python3.13/site-packages (from chromadb) (0.53b0)\n",
      "Requirement already satisfied: opentelemetry-sdk>=1.2.0 in /Users/tahmidtapadar/Documents/cookbooks/venv/lib/python3.13/site-packages (from chromadb) (1.32.0)\n",
      "Requirement already satisfied: tokenizers>=0.13.2 in /Users/tahmidtapadar/Documents/cookbooks/venv/lib/python3.13/site-packages (from chromadb) (0.21.1)\n",
      "Requirement already satisfied: pypika>=0.48.9 in /Users/tahmidtapadar/Documents/cookbooks/venv/lib/python3.13/site-packages (from chromadb) (0.48.9)\n",
      "Requirement already satisfied: overrides>=7.3.1 in /Users/tahmidtapadar/Documents/cookbooks/venv/lib/python3.13/site-packages (from chromadb) (7.7.0)\n",
      "Requirement already satisfied: importlib-resources in /Users/tahmidtapadar/Documents/cookbooks/venv/lib/python3.13/site-packages (from chromadb) (6.5.2)\n",
      "Requirement already satisfied: grpcio>=1.58.0 in /Users/tahmidtapadar/Documents/cookbooks/venv/lib/python3.13/site-packages (from chromadb) (1.71.0)\n",
      "Requirement already satisfied: bcrypt>=4.0.1 in /Users/tahmidtapadar/Documents/cookbooks/venv/lib/python3.13/site-packages (from chromadb) (4.3.0)\n",
      "Requirement already satisfied: typer>=0.9.0 in /Users/tahmidtapadar/Documents/cookbooks/venv/lib/python3.13/site-packages (from chromadb) (0.15.2)\n",
      "Requirement already satisfied: kubernetes>=28.1.0 in /Users/tahmidtapadar/Documents/cookbooks/venv/lib/python3.13/site-packages (from chromadb) (32.0.1)\n",
      "Requirement already satisfied: tenacity>=8.2.3 in /Users/tahmidtapadar/Documents/cookbooks/venv/lib/python3.13/site-packages (from chromadb) (9.1.2)\n",
      "Requirement already satisfied: pyyaml>=6.0.0 in /Users/tahmidtapadar/Documents/cookbooks/venv/lib/python3.13/site-packages (from chromadb) (6.0.2)\n",
      "Requirement already satisfied: mmh3>=4.0.1 in /Users/tahmidtapadar/Documents/cookbooks/venv/lib/python3.13/site-packages (from chromadb) (5.1.0)\n",
      "Requirement already satisfied: orjson>=3.9.12 in /Users/tahmidtapadar/Documents/cookbooks/venv/lib/python3.13/site-packages (from chromadb) (3.10.16)\n",
      "Requirement already satisfied: rich>=10.11.0 in /Users/tahmidtapadar/Documents/cookbooks/venv/lib/python3.13/site-packages (from chromadb) (14.0.0)\n",
      "Requirement already satisfied: jsonschema>=4.19.0 in /Users/tahmidtapadar/Documents/cookbooks/venv/lib/python3.13/site-packages (from chromadb) (4.23.0)\n",
      "Requirement already satisfied: starlette<0.46.0,>=0.40.0 in /Users/tahmidtapadar/Documents/cookbooks/venv/lib/python3.13/site-packages (from fastapi==0.115.9->chromadb) (0.45.3)\n",
      "Requirement already satisfied: transformers<5.0.0,>=4.41.0 in /Users/tahmidtapadar/Documents/cookbooks/venv/lib/python3.13/site-packages (from sentence_transformers) (4.51.3)\n",
      "Requirement already satisfied: torch>=1.11.0 in /Users/tahmidtapadar/Documents/cookbooks/venv/lib/python3.13/site-packages (from sentence_transformers) (2.6.0)\n",
      "Requirement already satisfied: scikit-learn in /Users/tahmidtapadar/Documents/cookbooks/venv/lib/python3.13/site-packages (from sentence_transformers) (1.6.1)\n",
      "Requirement already satisfied: scipy in /Users/tahmidtapadar/Documents/cookbooks/venv/lib/python3.13/site-packages (from sentence_transformers) (1.15.2)\n",
      "Requirement already satisfied: huggingface-hub>=0.20.0 in /Users/tahmidtapadar/Documents/cookbooks/venv/lib/python3.13/site-packages (from sentence_transformers) (0.30.2)\n",
      "Requirement already satisfied: Pillow in /Users/tahmidtapadar/Documents/cookbooks/venv/lib/python3.13/site-packages (from sentence_transformers) (11.2.1)\n",
      "Requirement already satisfied: python-dateutil>=2.8.2 in /Users/tahmidtapadar/Documents/cookbooks/venv/lib/python3.13/site-packages (from pandas) (2.9.0.post0)\n",
      "Requirement already satisfied: pytz>=2020.1 in /Users/tahmidtapadar/Documents/cookbooks/venv/lib/python3.13/site-packages (from pandas) (2025.2)\n",
      "Requirement already satisfied: tzdata>=2022.7 in /Users/tahmidtapadar/Documents/cookbooks/venv/lib/python3.13/site-packages (from pandas) (2025.2)\n",
      "Requirement already satisfied: contourpy>=1.0.1 in /Users/tahmidtapadar/Documents/cookbooks/venv/lib/python3.13/site-packages (from matplotlib) (1.3.2)\n",
      "Requirement already satisfied: cycler>=0.10 in /Users/tahmidtapadar/Documents/cookbooks/venv/lib/python3.13/site-packages (from matplotlib) (0.12.1)\n",
      "Requirement already satisfied: fonttools>=4.22.0 in /Users/tahmidtapadar/Documents/cookbooks/venv/lib/python3.13/site-packages (from matplotlib) (4.57.0)\n",
      "Requirement already satisfied: kiwisolver>=1.3.1 in /Users/tahmidtapadar/Documents/cookbooks/venv/lib/python3.13/site-packages (from matplotlib) (1.4.8)\n",
      "Requirement already satisfied: packaging>=20.0 in /Users/tahmidtapadar/Documents/cookbooks/venv/lib/python3.13/site-packages (from matplotlib) (24.2)\n",
      "Requirement already satisfied: pyparsing>=2.3.1 in /Users/tahmidtapadar/Documents/cookbooks/venv/lib/python3.13/site-packages (from matplotlib) (3.2.3)\n",
      "Requirement already satisfied: idna>=2.8 in /Users/tahmidtapadar/Documents/cookbooks/venv/lib/python3.13/site-packages (from anyio<5,>=3.5.0->openai) (3.10)\n",
      "Requirement already satisfied: pyproject_hooks in /Users/tahmidtapadar/Documents/cookbooks/venv/lib/python3.13/site-packages (from build>=1.0.3->chromadb) (1.2.0)\n",
      "Requirement already satisfied: certifi in /Users/tahmidtapadar/Documents/cookbooks/venv/lib/python3.13/site-packages (from httpx<1,>=0.23.0->openai) (2025.1.31)\n",
      "Requirement already satisfied: httpcore==1.* in /Users/tahmidtapadar/Documents/cookbooks/venv/lib/python3.13/site-packages (from httpx<1,>=0.23.0->openai) (1.0.8)\n",
      "Requirement already satisfied: h11<0.15,>=0.13 in /Users/tahmidtapadar/Documents/cookbooks/venv/lib/python3.13/site-packages (from httpcore==1.*->httpx<1,>=0.23.0->openai) (0.14.0)\n",
      "Requirement already satisfied: filelock in /Users/tahmidtapadar/Documents/cookbooks/venv/lib/python3.13/site-packages (from huggingface-hub>=0.20.0->sentence_transformers) (3.18.0)\n",
      "Requirement already satisfied: fsspec>=2023.5.0 in /Users/tahmidtapadar/Documents/cookbooks/venv/lib/python3.13/site-packages (from huggingface-hub>=0.20.0->sentence_transformers) (2025.3.2)\n",
      "Requirement already satisfied: requests in /Users/tahmidtapadar/Documents/cookbooks/venv/lib/python3.13/site-packages (from huggingface-hub>=0.20.0->sentence_transformers) (2.32.3)\n",
      "Requirement already satisfied: attrs>=22.2.0 in /Users/tahmidtapadar/Documents/cookbooks/venv/lib/python3.13/site-packages (from jsonschema>=4.19.0->chromadb) (25.3.0)\n",
      "Requirement already satisfied: jsonschema-specifications>=2023.03.6 in /Users/tahmidtapadar/Documents/cookbooks/venv/lib/python3.13/site-packages (from jsonschema>=4.19.0->chromadb) (2024.10.1)\n",
      "Requirement already satisfied: referencing>=0.28.4 in /Users/tahmidtapadar/Documents/cookbooks/venv/lib/python3.13/site-packages (from jsonschema>=4.19.0->chromadb) (0.36.2)\n",
      "Requirement already satisfied: rpds-py>=0.7.1 in /Users/tahmidtapadar/Documents/cookbooks/venv/lib/python3.13/site-packages (from jsonschema>=4.19.0->chromadb) (0.24.0)\n",
      "Requirement already satisfied: six>=1.9.0 in /Users/tahmidtapadar/Documents/cookbooks/venv/lib/python3.13/site-packages (from kubernetes>=28.1.0->chromadb) (1.17.0)\n",
      "Requirement already satisfied: google-auth>=1.0.1 in /Users/tahmidtapadar/Documents/cookbooks/venv/lib/python3.13/site-packages (from kubernetes>=28.1.0->chromadb) (2.39.0)\n",
      "Requirement already satisfied: websocket-client!=0.40.0,!=0.41.*,!=0.42.*,>=0.32.0 in /Users/tahmidtapadar/Documents/cookbooks/venv/lib/python3.13/site-packages (from kubernetes>=28.1.0->chromadb) (1.8.0)\n",
      "Requirement already satisfied: requests-oauthlib in /Users/tahmidtapadar/Documents/cookbooks/venv/lib/python3.13/site-packages (from kubernetes>=28.1.0->chromadb) (2.0.0)\n",
      "Requirement already satisfied: oauthlib>=3.2.2 in /Users/tahmidtapadar/Documents/cookbooks/venv/lib/python3.13/site-packages (from kubernetes>=28.1.0->chromadb) (3.2.2)\n",
      "Requirement already satisfied: urllib3>=1.24.2 in /Users/tahmidtapadar/Documents/cookbooks/venv/lib/python3.13/site-packages (from kubernetes>=28.1.0->chromadb) (2.4.0)\n",
      "Requirement already satisfied: durationpy>=0.7 in /Users/tahmidtapadar/Documents/cookbooks/venv/lib/python3.13/site-packages (from kubernetes>=28.1.0->chromadb) (0.9)\n",
      "Requirement already satisfied: coloredlogs in /Users/tahmidtapadar/Documents/cookbooks/venv/lib/python3.13/site-packages (from onnxruntime>=1.14.1->chromadb) (15.0.1)\n",
      "Requirement already satisfied: flatbuffers in /Users/tahmidtapadar/Documents/cookbooks/venv/lib/python3.13/site-packages (from onnxruntime>=1.14.1->chromadb) (25.2.10)\n",
      "Requirement already satisfied: protobuf in /Users/tahmidtapadar/Documents/cookbooks/venv/lib/python3.13/site-packages (from onnxruntime>=1.14.1->chromadb) (5.29.4)\n",
      "Requirement already satisfied: sympy in /Users/tahmidtapadar/Documents/cookbooks/venv/lib/python3.13/site-packages (from onnxruntime>=1.14.1->chromadb) (1.13.1)\n",
      "Requirement already satisfied: deprecated>=1.2.6 in /Users/tahmidtapadar/Documents/cookbooks/venv/lib/python3.13/site-packages (from opentelemetry-api>=1.2.0->chromadb) (1.2.18)\n",
      "Requirement already satisfied: importlib-metadata<8.7.0,>=6.0 in /Users/tahmidtapadar/Documents/cookbooks/venv/lib/python3.13/site-packages (from opentelemetry-api>=1.2.0->chromadb) (8.6.1)\n",
      "Requirement already satisfied: googleapis-common-protos~=1.52 in /Users/tahmidtapadar/Documents/cookbooks/venv/lib/python3.13/site-packages (from opentelemetry-exporter-otlp-proto-grpc>=1.2.0->chromadb) (1.70.0)\n",
      "Requirement already satisfied: opentelemetry-exporter-otlp-proto-common==1.32.0 in /Users/tahmidtapadar/Documents/cookbooks/venv/lib/python3.13/site-packages (from opentelemetry-exporter-otlp-proto-grpc>=1.2.0->chromadb) (1.32.0)\n",
      "Requirement already satisfied: opentelemetry-proto==1.32.0 in /Users/tahmidtapadar/Documents/cookbooks/venv/lib/python3.13/site-packages (from opentelemetry-exporter-otlp-proto-grpc>=1.2.0->chromadb) (1.32.0)\n",
      "Requirement already satisfied: opentelemetry-instrumentation-asgi==0.53b0 in /Users/tahmidtapadar/Documents/cookbooks/venv/lib/python3.13/site-packages (from opentelemetry-instrumentation-fastapi>=0.41b0->chromadb) (0.53b0)\n",
      "Requirement already satisfied: opentelemetry-instrumentation==0.53b0 in /Users/tahmidtapadar/Documents/cookbooks/venv/lib/python3.13/site-packages (from opentelemetry-instrumentation-fastapi>=0.41b0->chromadb) (0.53b0)\n",
      "Requirement already satisfied: opentelemetry-semantic-conventions==0.53b0 in /Users/tahmidtapadar/Documents/cookbooks/venv/lib/python3.13/site-packages (from opentelemetry-instrumentation-fastapi>=0.41b0->chromadb) (0.53b0)\n",
      "Requirement already satisfied: opentelemetry-util-http==0.53b0 in /Users/tahmidtapadar/Documents/cookbooks/venv/lib/python3.13/site-packages (from opentelemetry-instrumentation-fastapi>=0.41b0->chromadb) (0.53b0)\n",
      "Requirement already satisfied: wrapt<2.0.0,>=1.0.0 in /Users/tahmidtapadar/Documents/cookbooks/venv/lib/python3.13/site-packages (from opentelemetry-instrumentation==0.53b0->opentelemetry-instrumentation-fastapi>=0.41b0->chromadb) (1.17.2)\n",
      "Requirement already satisfied: asgiref~=3.0 in /Users/tahmidtapadar/Documents/cookbooks/venv/lib/python3.13/site-packages (from opentelemetry-instrumentation-asgi==0.53b0->opentelemetry-instrumentation-fastapi>=0.41b0->chromadb) (3.8.1)\n",
      "Requirement already satisfied: monotonic>=1.5 in /Users/tahmidtapadar/Documents/cookbooks/venv/lib/python3.13/site-packages (from posthog>=2.4.0->chromadb) (1.6)\n",
      "Requirement already satisfied: backoff>=1.10.0 in /Users/tahmidtapadar/Documents/cookbooks/venv/lib/python3.13/site-packages (from posthog>=2.4.0->chromadb) (2.2.1)\n",
      "Requirement already satisfied: annotated-types>=0.6.0 in /Users/tahmidtapadar/Documents/cookbooks/venv/lib/python3.13/site-packages (from pydantic<3,>=1.9.0->openai) (0.7.0)\n",
      "Requirement already satisfied: pydantic-core==2.33.1 in /Users/tahmidtapadar/Documents/cookbooks/venv/lib/python3.13/site-packages (from pydantic<3,>=1.9.0->openai) (2.33.1)\n",
      "Requirement already satisfied: typing-inspection>=0.4.0 in /Users/tahmidtapadar/Documents/cookbooks/venv/lib/python3.13/site-packages (from pydantic<3,>=1.9.0->openai) (0.4.0)\n",
      "Requirement already satisfied: markdown-it-py>=2.2.0 in /Users/tahmidtapadar/Documents/cookbooks/venv/lib/python3.13/site-packages (from rich>=10.11.0->chromadb) (3.0.0)\n",
      "Requirement already satisfied: pygments<3.0.0,>=2.13.0 in /Users/tahmidtapadar/Documents/cookbooks/venv/lib/python3.13/site-packages (from rich>=10.11.0->chromadb) (2.19.1)\n",
      "Requirement already satisfied: networkx in /Users/tahmidtapadar/Documents/cookbooks/venv/lib/python3.13/site-packages (from torch>=1.11.0->sentence_transformers) (3.4.2)\n",
      "Requirement already satisfied: jinja2 in /Users/tahmidtapadar/Documents/cookbooks/venv/lib/python3.13/site-packages (from torch>=1.11.0->sentence_transformers) (3.1.6)\n",
      "Requirement already satisfied: setuptools in /Users/tahmidtapadar/Documents/cookbooks/venv/lib/python3.13/site-packages (from torch>=1.11.0->sentence_transformers) (78.1.0)\n",
      "Requirement already satisfied: mpmath<1.4,>=1.1.0 in /Users/tahmidtapadar/Documents/cookbooks/venv/lib/python3.13/site-packages (from sympy->onnxruntime>=1.14.1->chromadb) (1.3.0)\n",
      "Requirement already satisfied: regex!=2019.12.17 in /Users/tahmidtapadar/Documents/cookbooks/venv/lib/python3.13/site-packages (from transformers<5.0.0,>=4.41.0->sentence_transformers) (2024.11.6)\n",
      "Requirement already satisfied: safetensors>=0.4.3 in /Users/tahmidtapadar/Documents/cookbooks/venv/lib/python3.13/site-packages (from transformers<5.0.0,>=4.41.0->sentence_transformers) (0.5.3)\n",
      "Requirement already satisfied: click>=8.0.0 in /Users/tahmidtapadar/Documents/cookbooks/venv/lib/python3.13/site-packages (from typer>=0.9.0->chromadb) (8.1.8)\n",
      "Requirement already satisfied: shellingham>=1.3.0 in /Users/tahmidtapadar/Documents/cookbooks/venv/lib/python3.13/site-packages (from typer>=0.9.0->chromadb) (1.5.4)\n",
      "Requirement already satisfied: httptools>=0.6.3 in /Users/tahmidtapadar/Documents/cookbooks/venv/lib/python3.13/site-packages (from uvicorn[standard]>=0.18.3->chromadb) (0.6.4)\n",
      "Requirement already satisfied: python-dotenv>=0.13 in /Users/tahmidtapadar/Documents/cookbooks/venv/lib/python3.13/site-packages (from uvicorn[standard]>=0.18.3->chromadb) (1.1.0)\n",
      "Requirement already satisfied: uvloop!=0.15.0,!=0.15.1,>=0.14.0 in /Users/tahmidtapadar/Documents/cookbooks/venv/lib/python3.13/site-packages (from uvicorn[standard]>=0.18.3->chromadb) (0.21.0)\n",
      "Requirement already satisfied: watchfiles>=0.13 in /Users/tahmidtapadar/Documents/cookbooks/venv/lib/python3.13/site-packages (from uvicorn[standard]>=0.18.3->chromadb) (1.0.5)\n",
      "Requirement already satisfied: websockets>=10.4 in /Users/tahmidtapadar/Documents/cookbooks/venv/lib/python3.13/site-packages (from uvicorn[standard]>=0.18.3->chromadb) (15.0.1)\n",
      "Requirement already satisfied: joblib>=1.2.0 in /Users/tahmidtapadar/Documents/cookbooks/venv/lib/python3.13/site-packages (from scikit-learn->sentence_transformers) (1.4.2)\n",
      "Requirement already satisfied: threadpoolctl>=3.1.0 in /Users/tahmidtapadar/Documents/cookbooks/venv/lib/python3.13/site-packages (from scikit-learn->sentence_transformers) (3.6.0)\n",
      "Requirement already satisfied: cachetools<6.0,>=2.0.0 in /Users/tahmidtapadar/Documents/cookbooks/venv/lib/python3.13/site-packages (from google-auth>=1.0.1->kubernetes>=28.1.0->chromadb) (5.5.2)\n",
      "Requirement already satisfied: pyasn1-modules>=0.2.1 in /Users/tahmidtapadar/Documents/cookbooks/venv/lib/python3.13/site-packages (from google-auth>=1.0.1->kubernetes>=28.1.0->chromadb) (0.4.2)\n",
      "Requirement already satisfied: rsa<5,>=3.1.4 in /Users/tahmidtapadar/Documents/cookbooks/venv/lib/python3.13/site-packages (from google-auth>=1.0.1->kubernetes>=28.1.0->chromadb) (4.9)\n",
      "Requirement already satisfied: zipp>=3.20 in /Users/tahmidtapadar/Documents/cookbooks/venv/lib/python3.13/site-packages (from importlib-metadata<8.7.0,>=6.0->opentelemetry-api>=1.2.0->chromadb) (3.21.0)\n",
      "Requirement already satisfied: mdurl~=0.1 in /Users/tahmidtapadar/Documents/cookbooks/venv/lib/python3.13/site-packages (from markdown-it-py>=2.2.0->rich>=10.11.0->chromadb) (0.1.2)\n",
      "Requirement already satisfied: charset-normalizer<4,>=2 in /Users/tahmidtapadar/Documents/cookbooks/venv/lib/python3.13/site-packages (from requests->huggingface-hub>=0.20.0->sentence_transformers) (3.4.1)\n",
      "Requirement already satisfied: humanfriendly>=9.1 in /Users/tahmidtapadar/Documents/cookbooks/venv/lib/python3.13/site-packages (from coloredlogs->onnxruntime>=1.14.1->chromadb) (10.0)\n",
      "Requirement already satisfied: MarkupSafe>=2.0 in /Users/tahmidtapadar/Documents/cookbooks/venv/lib/python3.13/site-packages (from jinja2->torch>=1.11.0->sentence_transformers) (3.0.2)\n",
      "Requirement already satisfied: pyasn1<0.7.0,>=0.6.1 in /Users/tahmidtapadar/Documents/cookbooks/venv/lib/python3.13/site-packages (from pyasn1-modules>=0.2.1->google-auth>=1.0.1->kubernetes>=28.1.0->chromadb) (0.6.1)\n",
      "Note: you may need to restart the kernel to use updated packages.\n"
     ]
    }
   ],
   "source": [
    "%pip install openai chromadb sentence_transformers pandas matplotlib numpy tqdm"
   ]
  },
  {
   "cell_type": "code",
   "execution_count": 51,
   "metadata": {},
   "outputs": [],
   "source": [
    "import openai\n",
    "import chromadb\n",
    "from chromadb.utils import embedding_functions\n",
    "import pandas as pd\n",
    "import numpy as np\n",
    "import matplotlib.pyplot as plt\n",
    "import getpass\n",
    "from tqdm import tqdm\n",
    "from sentence_transformers import CrossEncoder\n",
    "from typing import Optional, List, Dict, Type\n",
    "\n",
    "# Display settings for pandas\n",
    "pd.set_option('display.max_columns', None)\n",
    "pd.set_option('display.width', 1000)\n",
    "pd.set_option('display.max_rows', 100)\n",
    "pd.set_option('display.max_colwidth', 100)\n",
    "\n",
    "# Define paths\n",
    "DATA_DIR = \"../data/papers\"\n",
    "EVAL_DIR = \"../data/evalset\"\n",
    "\n",
    "# Initialize OpenAI and Chroma\n",
    "openai.api_key = getpass.getpass('Enter your OpenAI API key: ')\n",
    "chroma_client = chromadb.PersistentClient()"
   ]
  },
  {
   "cell_type": "markdown",
   "metadata": {},
   "source": [
    "### Loading Evaluation Dataset\n",
    "\n",
    "Let's load the eval set we created previously:"
   ]
  },
  {
   "cell_type": "code",
   "execution_count": 52,
   "metadata": {},
   "outputs": [
    {
     "name": "stdout",
     "output_type": "stream",
     "text": [
      "Loaded 26 evaluation examples\n",
      "                  id                                                                                             document                                                                                                query                                                                                               answer\n",
      "0  gpt_1.pdf_chunk_0  Improving Language Understanding\\nby Generative Pre-Training\\nAlec Radford\\nOpenAI\\nalec@openai....                             details on the generative pre-training methodology outlined in the paper  The document discusses a generative pre-training methodology that involves training a language m...\n",
      "1  gpt_1.pdf_chunk_1  speciﬁc task. In contrast to previous approaches, we make use of task-aware input\\ntransformatio...                                  details on the task-aware input transformations used in fine-tuning  The document mentions that task-aware input transformations are utilized during fine-tuning to a...\n",
      "2  gpt_1.pdf_chunk_2  The ability to learn effectively from raw text is crucial to alleviating the dependence on super...             discuss the advantages of unsupervised learning methods in NLP as outlined in this paper  The advantages of unsupervised learning methods in NLP, as outlined in the document, include the...\n",
      "3  gpt_1.pdf_chunk_3  trained word embeddings [10, 39, 42] to improve performance on a range of NLP tasks [8, 11, 26, ...  discuss the challenges of optimizing text representations for transfer tasks as mentioned in thi...  The challenges of optimizing text representations for transfer tasks include: 1) uncertainty abo...\n",
      "4  gpt_1.pdf_chunk_5  In this paper, we explore a semi-supervised approach for language understanding tasks using a\\nc...                                     describe the two-stage training procedure outlined in this paper  The two-stage training procedure outlined in the paper consists of: \\n\\n1. **Unsupervised Pre-Tr...\n"
     ]
    }
   ],
   "source": [
    "eval_df = pd.read_json('../data/evalset/ai_papers_eval_dataset.json')\n",
    "print(f\"Loaded {len(eval_df)} evaluation examples\")\n",
    "print(eval_df.head())"
   ]
  },
  {
   "cell_type": "markdown",
   "metadata": {},
   "source": [
    "### Let's build our Agent"
   ]
  },
  {
   "cell_type": "code",
   "execution_count": 62,
   "metadata": {},
   "outputs": [],
   "source": [
    "class RAGAgent:\n",
    "    def __init__(self, collection, llm_model: str = \"gpt-3.5-turbo\", embedding_model: str = \"text-embedding-3-small\", reranker_model: Optional[str] = None):\n",
    "        self.collection = collection\n",
    "        self.llm_model = llm_model\n",
    "        self.embedding_model = embedding_model\n",
    "        self.reranker_model = reranker_model\n",
    "        self.max_iterations = 3\n",
    "        self.target_metrics = {\"recall\": 0.8, \"mrr\": 0.5}\n",
    "        self.top_k = 10\n",
    "        self.history = []\n",
    "        # For tracking agent type in evaluations\n",
    "        self.agent_type = self.__class__.__name__\n",
    "        self.agent_config = {\n",
    "            \"llm_model\": llm_model,\n",
    "            \"max_iterations\": self.max_iterations,\n",
    "            \"top_k\": self.top_k,\n",
    "            \"reranker_model\": str(self.reranker_model),\n",
    "        }\n",
    "\n",
    "    def retrieve(self, query: str):\n",
    "        results = self.collection.query(query_texts=[query], n_results=self.top_k)\n",
    "        results = {\"ids\": results['ids'][0], \"documents\": results['documents'][0]}\n",
    "\n",
    "        if self.reranker_model:\n",
    "            cross_encoder = CrossEncoder(self.reranker_model)\n",
    "            pairs = [(query, doc) for doc in results[\"documents\"]]\n",
    "            scores = cross_encoder.predict(pairs)\n",
    "            reranked_indices = np.argsort(-scores)[:self.top_k]\n",
    "            return {\n",
    "                \"ids\": [results[\"ids\"][i] for i in reranked_indices],\n",
    "                \"documents\": [results[\"documents\"][i] for i in reranked_indices]\n",
    "            }\n",
    "\n",
    "        return results\n",
    "    \n",
    "    def evaluate_retrieval(self, predictions: List[str], ground_truth: List[str]):\n",
    "        metrics = {}\n",
    "\n",
    "        def calculate_mrr(predictions: list[str], ground_truth: list[str]):\n",
    "            mrr = 0\n",
    "            for label in ground_truth:\n",
    "                if label in predictions:\n",
    "                    mrr = max(mrr, 1 / (predictions.index(label) + 1))\n",
    "            return mrr\n",
    "        \n",
    "        def calculate_recall(predictions: list[str], ground_truth: list[str]):\n",
    "            return len([label for label in ground_truth if label in predictions]) / len(ground_truth)\n",
    "        \n",
    "        for k in [1, 3, 5, 10]:\n",
    "            metrics[f\"mrr@{k}\"] = calculate_mrr(predictions[:k], ground_truth)\n",
    "            metrics[f\"recall@{k}\"] = calculate_recall(predictions[:k], ground_truth)\n",
    "\n",
    "        return metrics\n",
    "    \n",
    "    def rewrite_query(self, query: str, retrieved_docs: List[str]):\n",
    "        system_prompt = \"You are an assistant that refines search queries to be precise and targeted for optimal document retrieval.\"\n",
    "        user_message = f\"Original query: {query}\\n\\n\"\n",
    "    \n",
    "        if retrieved_docs:\n",
    "            user_message += f\"The following documents were retrieved but did not achieve good retrieval metrics:\\n\\n\"\n",
    "            for i, doc in enumerate(retrieved_docs[:3]):\n",
    "                user_message += f\"Document {i+1}:\\n{doc}\\n\\n\"\n",
    "        user_message += f\"Please rewrite the query to be more specific and targeted to improve retrieval performance. Return ONLY the reformulated query without any explanations or additional text.\"\n",
    "    \n",
    "        response = openai.chat.completions.create(\n",
    "            model=self.llm_model,\n",
    "            messages=[\n",
    "                {\"role\": \"system\", \"content\": system_prompt},\n",
    "                {\"role\": \"user\", \"content\": user_message}\n",
    "            ]\n",
    "        )\n",
    "    \n",
    "        return response.choices[0].message.content.strip()    \n",
    "\n",
    "    def generate_answer(self, query: str, documents: List[str]):\n",
    "        context = \"\\n\\n\".join(documents)\n",
    "        response = openai.chat.completions.create(\n",
    "            model=self.llm_model,\n",
    "            messages=[\n",
    "                {\"role\": \"system\", \"content\": \"You are an assistant that answers questions based on the provided context.\"},\n",
    "                {\"role\": \"user\", \"content\": f\"Context:\\n{context}\\n\\nQuestion: {query}\\n\\nAnswer the question based on the context provided. If the context doesn't contain the answer, say 'I don't have enough information to answer this question.'\"}\n",
    "            ]\n",
    "        )\n",
    "        return response.choices[0].message.content\n",
    "    \n",
    "    def _is_target_achieved(self, metrics: Dict[str, float]) -> bool:\n",
    "        recall_key = f\"recall@{self.top_k}\"\n",
    "        mrr_key = f\"mrr@{self.top_k}\"\n",
    "        \n",
    "        current_recall = metrics.get(recall_key, 0)\n",
    "        current_mrr = metrics.get(mrr_key, 0)\n",
    "        \n",
    "        target_recall = self.target_metrics.get(\"recall\", 0)\n",
    "        target_mrr = self.target_metrics.get(\"mrr\", 0)\n",
    "\n",
    "        return current_recall >= target_recall and current_mrr >= target_mrr\n",
    "    \n",
    "    def run(self, query: str, ground_truth: List[str] = None):\n",
    "        current_query = query\n",
    "        iteration = 0\n",
    "        self.history = []\n",
    "        best_metrics = {\"recall@10\": 0, \"mrr@10\": 0}\n",
    "        best_retrieval = None\n",
    "\n",
    "        for _ in range(self.max_iterations):\n",
    "            # Retrieve documents\n",
    "            retrievals = self.retrieve(current_query)\n",
    "            documents = retrievals[\"documents\"]\n",
    "            predictions = retrievals[\"ids\"]\n",
    "\n",
    "            # Evaluate retrieval\n",
    "            metrics = {}\n",
    "            if ground_truth: \n",
    "                metrics = self.evaluate_retrieval(predictions, ground_truth)\n",
    "            \n",
    "            self.history.append({\n",
    "                \"iteration\": iteration,\n",
    "                \"query\": current_query,\n",
    "                \"retrieved_docs\": documents,\n",
    "                \"predictions\": predictions,\n",
    "                \"metrics\": metrics\n",
    "            })\n",
    "\n",
    "            # Check if this is the best retrieval so far\n",
    "            if ground_truth:\n",
    "                recall_key = f\"recall@{self.top_k}\"\n",
    "                mrr_key = f\"mrr@{self.top_k}\"\n",
    "                if (metrics.get(recall_key, 0), metrics.get(mrr_key, 0)) >= (best_metrics.get(recall_key, 0), best_metrics.get(mrr_key, 0)):\n",
    "                    best_metrics = metrics\n",
    "                    best_retrieval = {\n",
    "                        \"documents\": documents,\n",
    "                        \"predictions\": predictions,\n",
    "                        \"query\": current_query\n",
    "                    }\n",
    "            else:\n",
    "                # Without ground truth, just use the latest retrieval\n",
    "                best_retrieval = {\n",
    "                    \"documents\": documents,\n",
    "                    \"predictions\": predictions,\n",
    "                    \"query\": current_query\n",
    "                }\n",
    "\n",
    "            # Check if we've met our targets or reached max iterations\n",
    "            if not ground_truth or self._is_target_achieved(metrics) or iteration == self.max_iterations:\n",
    "                print(\"Target metrics achieved or max iterations reached, generating answer...\")\n",
    "                \n",
    "                # Use best retrieval if available, otherwise current retrieval\n",
    "                final_docs = best_retrieval[\"documents\"] if best_retrieval else documents\n",
    "                final_query = best_retrieval[\"query\"] if best_retrieval else current_query\n",
    "                \n",
    "                answer = self.generate_answer(query, final_docs)\n",
    "                \n",
    "                return {\n",
    "                    \"query\": query,\n",
    "                    \"final_query\": final_query,\n",
    "                    \"answer\": answer,\n",
    "                    \"iterations\": iteration,\n",
    "                    \"history\": self.history,\n",
    "                    \"metrics\": best_metrics,\n",
    "                    \"success\": True if not ground_truth or self._is_target_achieved(metrics) else False\n",
    "                }\n",
    "            \n",
    "            # Otherwise, reformulate the query and try again\n",
    "            current_query = self.rewrite_query(query, documents[:3])\n",
    "            print(f\"Reformulated query: {current_query}\")\n",
    "        \n",
    "        # This should not be reached due to the condition above\n",
    "        return {\n",
    "            \"query\": query,\n",
    "            \"final_query\": current_query,\n",
    "            \"answer\": \"Processing error: Max iterations reached without generating an answer.\",\n",
    "            \"iterations\": iteration,\n",
    "            \"history\": self.history,\n",
    "            \"metrics\": best_metrics,\n",
    "            \"success\": False\n",
    "        }"
   ]
  },
  {
   "cell_type": "code",
   "execution_count": 65,
   "metadata": {},
   "outputs": [],
   "source": [
    "class RAGEvaluator:\n",
    "    def __init__(self, chroma_client):\n",
    "        self.chroma_client = chroma_client\n",
    "        self.collections = {} # cache\n",
    "    \n",
    "    def create_collection(self, collection_name: str, evalset: pd.DataFrame, embedding_model: str):\n",
    "        cache_key = f\"{collection_name}_{embedding_model}\"\n",
    "        if cache_key in self.collections:\n",
    "            return self.collections[cache_key]\n",
    "        \n",
    "        print(f\"Initializing collection {collection_name} with {len(evalset)} documents using {embedding_model}\")\n",
    "\n",
    "        # Initialize embedding function\n",
    "        embedding_function = embedding_functions.OpenAIEmbeddingFunction(model_name=embedding_model, api_key=openai.api_key)\n",
    "        \n",
    "        # Delete collection if it exists\n",
    "        try:\n",
    "            self.chroma_client.delete_collection(name=collection_name)\n",
    "            print(f\"Deleted existing collection {collection_name}\")\n",
    "        except:\n",
    "            print(f\"No existing collection {collection_name} to delete\")\n",
    "        \n",
    "        # Create new collection\n",
    "        collection = self.chroma_client.create_collection(name=collection_name, embedding_function=embedding_function)\n",
    "\n",
    "        # Add documents to collection\n",
    "        for _, row in evalset.iterrows():\n",
    "            collection.upsert(\n",
    "                documents=[row['document']],\n",
    "                ids=[row['id']],\n",
    "                metadatas=[{'id': row['id'], 'query': row['query'], 'answer': row['answer']}]\n",
    "            )\n",
    "        \n",
    "        print(f\"Created collection {collection_name} with {collection.count()} documents using {embedding_model}\")\n",
    "\n",
    "        # Cache collection\n",
    "        self.collections[cache_key] = collection\n",
    "        return collection\n",
    "    \n",
    "    def create_agent_config(\n",
    "        self, \n",
    "        agent_class: Type[RAGAgent], \n",
    "        embedding_model: str,\n",
    "        reranker_model: Optional[str] = None,\n",
    "        **agent_params\n",
    "    ) -> Dict[str, Any]:\n",
    "        \"\"\"\n",
    "        Create a configuration for an agent with specified parameters.\n",
    "        \n",
    "        Args:\n",
    "            agent_class: The RAGAgent class to use\n",
    "            embedding_model: The embedding model to use\n",
    "            reranker_model: Optional reranker model\n",
    "            **agent_params: Additional parameters for the agent\n",
    "            \n",
    "        Returns:\n",
    "            Dictionary with agent configuration\n",
    "        \"\"\"\n",
    "        return {\n",
    "            'agent_class': agent_class,\n",
    "            'embedding_model': embedding_model,\n",
    "            'reranker_model': reranker_model,\n",
    "            'params': agent_params\n",
    "        }\n",
    "    \n",
    "    def evaluate_configurations(\n",
    "        self,\n",
    "        eval_df: pd.DataFrame,\n",
    "        configurations: List[Dict[str, Any]],\n",
    "        k_values: List[int] = [1, 3, 5, 10]\n",
    "    ) -> pd.DataFrame:\n",
    "        \"\"\"\n",
    "        Evaluate different agent configurations.\n",
    "        \n",
    "        Args:\n",
    "            eval_df: DataFrame containing evaluation data\n",
    "            configurations: List of agent configurations created with create_agent_config\n",
    "            k_values: List of k values to evaluate\n",
    "            \n",
    "        Returns:\n",
    "            DataFrame containing evaluation results\n",
    "        \"\"\"\n",
    "        all_results = []\n",
    "        \n",
    "        # Evaluate each configuration\n",
    "        for config in configurations:\n",
    "            agent_class = config['agent_class']\n",
    "            embedding_model = config['embedding_model']\n",
    "            reranker_model = config['reranker_model']\n",
    "            agent_params = config['params']\n",
    "            \n",
    "            # Create a descriptive name\n",
    "            class_name = agent_class.__name__\n",
    "            config_name = f\"{class_name}-{embedding_model}\"\n",
    "            if reranker_model:\n",
    "                config_name += f\"-{reranker_model}\"\n",
    "            \n",
    "            print(f\"\\nEvaluating configuration: {config_name}\")\n",
    "            \n",
    "            # Create collection for this embedding model\n",
    "            collection_name = f\"eval_{embedding_model.replace('-', '_')}\"\n",
    "            collection = self.create_collection(\n",
    "                collection_name,\n",
    "                eval_df,\n",
    "                embedding_model\n",
    "            )\n",
    "            \n",
    "            # Create agent with this collection\n",
    "            agent = agent_class(\n",
    "                collection=collection,\n",
    "                reranker_model=reranker_model,\n",
    "                **agent_params\n",
    "            )\n",
    "            \n",
    "            # Add embedding model to agent config for tracking\n",
    "            agent.agent_config['embedding_model'] = embedding_model\n",
    "            \n",
    "            results = []\n",
    "            \n",
    "            # Run evaluation on this agent\n",
    "            for idx, row in tqdm(eval_df.iterrows(), total=len(eval_df), \n",
    "                               desc=f\"Testing {config_name}\"):\n",
    "                query = row['query']\n",
    "                ground_truth_id = [row['id']]\n",
    "                \n",
    "                # Process query with this agent\n",
    "                result = agent.run(query, ground_truth_id)\n",
    "                \n",
    "                # Get the final metrics\n",
    "                final_metrics = result.get('metrics', {})\n",
    "                \n",
    "                # Record results for each k value\n",
    "                for k in k_values:\n",
    "                    if f'recall@{k}' in final_metrics:\n",
    "                        results.append({\n",
    "                            'query_id': idx,\n",
    "                            'config_name': config_name,\n",
    "                            'agent_type': agent.agent_type,\n",
    "                            'embedding_model': embedding_model,\n",
    "                            'reranker_model': str(reranker_model),\n",
    "                            'k': k,\n",
    "                            'metric': 'recall',\n",
    "                            'score': final_metrics[f'recall@{k}'],\n",
    "                            'iterations': result.get('iterations', 1)\n",
    "                        })\n",
    "                        \n",
    "                    if f'mrr@{k}' in final_metrics:\n",
    "                        results.append({\n",
    "                            'query_id': idx,\n",
    "                            'config_name': config_name,\n",
    "                            'agent_type': agent.agent_type,\n",
    "                            'embedding_model': embedding_model,\n",
    "                            'reranker_model': str(reranker_model),\n",
    "                            'k': k,\n",
    "                            'metric': 'mrr',\n",
    "                            'score': final_metrics[f'mrr@{k}'],\n",
    "                            'iterations': result.get('iterations', 1)\n",
    "                        })\n",
    "            \n",
    "            all_results.extend(results)\n",
    "        \n",
    "        # Combine all results\n",
    "        evaluation_df = pd.DataFrame(all_results)\n",
    "        print(f\"Evaluation complete with {len(evaluation_df)} data points\")\n",
    "        \n",
    "        return evaluation_df\n",
    "    \n",
    "    def visualize_results(self, results_df: pd.DataFrame):\n",
    "        \"\"\"\n",
    "        Create visualizations of evaluation results.\n",
    "        \n",
    "        Args:\n",
    "            results_df: DataFrame containing evaluation results\n",
    "        \"\"\"\n",
    "        import matplotlib.pyplot as plt\n",
    "        \n",
    "        # Calculate average scores by configuration and k value\n",
    "        avg_results = results_df.groupby(['config_name', 'embedding_model', 'reranker_model', 'k', 'metric'])['score'].mean().reset_index()\n",
    "        \n",
    "        # Create figure with two subplots\n",
    "        fig, (ax1, ax2) = plt.subplots(1, 2, figsize=(20, 6))\n",
    "        \n",
    "        # Plot recall for different configurations\n",
    "        recall_data = avg_results[avg_results['metric'] == 'recall']\n",
    "        for config in recall_data['config_name'].unique():\n",
    "            data = recall_data[recall_data['config_name'] == config]\n",
    "            ax1.plot(data['k'], data['score'], marker='o', label=config)\n",
    "        \n",
    "        ax1.set_title(\"Recall@k for Different Configurations\")\n",
    "        ax1.set_xlabel(\"k\")\n",
    "        ax1.set_ylabel(\"Recall\")\n",
    "        ax1.grid(True)\n",
    "        ax1.legend(bbox_to_anchor=(1.05, 1), loc='upper left')\n",
    "        \n",
    "        # Plot MRR for different configurations\n",
    "        mrr_data = avg_results[avg_results['metric'] == 'mrr']\n",
    "        for config in mrr_data['config_name'].unique():\n",
    "            data = mrr_data[mrr_data['config_name'] == config]\n",
    "            ax2.plot(data['k'], data['score'], marker='o', label=config)\n",
    "        \n",
    "        ax2.set_title(\"MRR@k for Different Configurations\")\n",
    "        ax2.set_xlabel(\"k\")\n",
    "        ax2.set_ylabel(\"MRR\")\n",
    "        ax2.grid(True)\n",
    "        ax2.legend(bbox_to_anchor=(1.05, 1), loc='upper left')\n",
    "        \n",
    "        plt.tight_layout()\n",
    "        plt.savefig('configuration_comparison.png')\n",
    "        plt.show()\n",
    "        \n",
    "        # First, deduplicate to get one row per query and configuration\n",
    "        unique_iterations = results_df.drop_duplicates(['query_id', 'embedding_model', 'reranker_model'])\n",
    "        # Then group by embedding model and reranker\n",
    "        iterations_by_config = unique_iterations.groupby(['embedding_model', 'reranker_model'])['iterations'].mean().reset_index()\n",
    "        \n",
    "        # Create a bar chart\n",
    "        plt.figure(figsize=(14, 6))\n",
    "        bars = plt.bar(\n",
    "            range(len(iterations_by_config)), \n",
    "            iterations_by_config['iterations'],\n",
    "            color='skyblue'\n",
    "        )\n",
    "        \n",
    "        # Add labels\n",
    "        plt.xticks(\n",
    "            range(len(iterations_by_config)), \n",
    "            [f\"{row['embedding_model']}-{row['reranker_model']}\" for _, row in iterations_by_config.iterrows()],\n",
    "            rotation=45,\n",
    "            ha='right'\n",
    "        )\n",
    "        plt.title(\"Average Iterations Needed by Configuration\")\n",
    "        plt.xlabel(\"Configuration\")\n",
    "        plt.ylabel(\"Average Iterations\")\n",
    "        plt.grid(axis='y', linestyle='--', alpha=0.7)\n",
    "        \n",
    "        # Add value labels on top of bars\n",
    "        for i, bar in enumerate(bars):\n",
    "            plt.text(\n",
    "                bar.get_x() + bar.get_width()/2,\n",
    "                bar.get_height() + 0.05,\n",
    "                f\"{bar.get_height():.2f}\",\n",
    "            ha='center'\n",
    "        )\n",
    "    \n",
    "        plt.tight_layout()\n",
    "        plt.savefig('iterations_by_config.png')\n",
    "        plt.show()\n",
    "\n",
    "\n",
    "        "
   ]
  },
  {
   "cell_type": "code",
   "execution_count": 66,
   "metadata": {},
   "outputs": [
    {
     "name": "stdout",
     "output_type": "stream",
     "text": [
      "\n",
      "Evaluating configuration: RAGAgent-text-embedding-3-small\n",
      "Initializing collection eval_text_embedding_3_small with 26 documents using text-embedding-3-small\n",
      "Deleted existing collection eval_text_embedding_3_small\n",
      "Created collection eval_text_embedding_3_small with 26 documents using text-embedding-3-small\n"
     ]
    },
    {
     "name": "stderr",
     "output_type": "stream",
     "text": [
      "Testing RAGAgent-text-embedding-3-small:   0%|          | 0/26 [00:00<?, ?it/s]"
     ]
    },
    {
     "name": "stdout",
     "output_type": "stream",
     "text": [
      "Target metrics achieved or max iterations reached, generating answer...\n"
     ]
    },
    {
     "name": "stderr",
     "output_type": "stream",
     "text": [
      "Testing RAGAgent-text-embedding-3-small:   4%|▍         | 1/26 [00:02<01:11,  2.85s/it]"
     ]
    },
    {
     "name": "stdout",
     "output_type": "stream",
     "text": [
      "Target metrics achieved or max iterations reached, generating answer...\n"
     ]
    },
    {
     "name": "stderr",
     "output_type": "stream",
     "text": [
      "Testing RAGAgent-text-embedding-3-small:   8%|▊         | 2/26 [00:04<00:58,  2.43s/it]"
     ]
    },
    {
     "name": "stdout",
     "output_type": "stream",
     "text": [
      "Target metrics achieved or max iterations reached, generating answer...\n"
     ]
    },
    {
     "name": "stderr",
     "output_type": "stream",
     "text": [
      "Testing RAGAgent-text-embedding-3-small:  12%|█▏        | 3/26 [00:08<01:05,  2.87s/it]"
     ]
    },
    {
     "name": "stdout",
     "output_type": "stream",
     "text": [
      "Target metrics achieved or max iterations reached, generating answer...\n"
     ]
    },
    {
     "name": "stderr",
     "output_type": "stream",
     "text": [
      "Testing RAGAgent-text-embedding-3-small:  15%|█▌        | 4/26 [00:10<00:57,  2.61s/it]"
     ]
    },
    {
     "name": "stdout",
     "output_type": "stream",
     "text": [
      "Reformulated query: Refined query: explain the unsupervised pre-training and supervised fine-tuning stages in the training procedure outlined in the paper\n",
      "Target metrics achieved or max iterations reached, generating answer...\n"
     ]
    },
    {
     "name": "stderr",
     "output_type": "stream",
     "text": [
      "Testing RAGAgent-text-embedding-3-small:  19%|█▉        | 5/26 [00:15<01:09,  3.30s/it]"
     ]
    },
    {
     "name": "stdout",
     "output_type": "stream",
     "text": [
      "Target metrics achieved or max iterations reached, generating answer...\n"
     ]
    },
    {
     "name": "stderr",
     "output_type": "stream",
     "text": [
      "Testing RAGAgent-text-embedding-3-small:  23%|██▎       | 6/26 [00:17<00:56,  2.85s/it]"
     ]
    },
    {
     "name": "stdout",
     "output_type": "stream",
     "text": [
      "Reformulated query: \"Key findings and improvements achieved in natural language understanding tasks using task-aware input transformations and transfer learning\"\n",
      "Reformulated query: key findings and improvements achieved in natural language understanding tasks by utilizing task-aware input transformations and generative pre-training followed by discriminative fine-tuning.\n"
     ]
    },
    {
     "name": "stderr",
     "output_type": "stream",
     "text": [
      "Testing RAGAgent-text-embedding-3-small:  27%|██▋       | 7/26 [00:21<01:01,  3.23s/it]"
     ]
    },
    {
     "name": "stdout",
     "output_type": "stream",
     "text": [
      "Reformulated query: Revised query: \"Demonstrated key improvements achieved through generative pre-training and discriminative fine-tuning on a diverse range of natural language understanding tasks in the discussed framework.\"\n",
      "Target metrics achieved or max iterations reached, generating answer...\n"
     ]
    },
    {
     "name": "stderr",
     "output_type": "stream",
     "text": [
      "Testing RAGAgent-text-embedding-3-small:  31%|███       | 8/26 [00:24<00:57,  3.17s/it]"
     ]
    },
    {
     "name": "stdout",
     "output_type": "stream",
     "text": [
      "Target metrics achieved or max iterations reached, generating answer...\n"
     ]
    },
    {
     "name": "stderr",
     "output_type": "stream",
     "text": [
      "Testing RAGAgent-text-embedding-3-small:  35%|███▍      | 9/26 [00:26<00:47,  2.82s/it]"
     ]
    },
    {
     "name": "stdout",
     "output_type": "stream",
     "text": [
      "Target metrics achieved or max iterations reached, generating answer...\n"
     ]
    },
    {
     "name": "stderr",
     "output_type": "stream",
     "text": [
      "Testing RAGAgent-text-embedding-3-small:  38%|███▊      | 10/26 [00:31<00:56,  3.53s/it]"
     ]
    },
    {
     "name": "stdout",
     "output_type": "stream",
     "text": [
      "Target metrics achieved or max iterations reached, generating answer...\n"
     ]
    },
    {
     "name": "stderr",
     "output_type": "stream",
     "text": [
      "Testing RAGAgent-text-embedding-3-small:  42%|████▏     | 11/26 [00:37<01:04,  4.30s/it]"
     ]
    },
    {
     "name": "stdout",
     "output_type": "stream",
     "text": [
      "Target metrics achieved or max iterations reached, generating answer...\n"
     ]
    },
    {
     "name": "stderr",
     "output_type": "stream",
     "text": [
      "Testing RAGAgent-text-embedding-3-small:  46%|████▌     | 12/26 [00:39<00:52,  3.77s/it]"
     ]
    },
    {
     "name": "stdout",
     "output_type": "stream",
     "text": [
      "Target metrics achieved or max iterations reached, generating answer...\n"
     ]
    },
    {
     "name": "stderr",
     "output_type": "stream",
     "text": [
      "Testing RAGAgent-text-embedding-3-small:  50%|█████     | 13/26 [00:41<00:41,  3.18s/it]"
     ]
    },
    {
     "name": "stdout",
     "output_type": "stream",
     "text": [
      "Target metrics achieved or max iterations reached, generating answer...\n"
     ]
    },
    {
     "name": "stderr",
     "output_type": "stream",
     "text": [
      "Testing RAGAgent-text-embedding-3-small:  54%|█████▍    | 14/26 [00:43<00:33,  2.81s/it]"
     ]
    },
    {
     "name": "stdout",
     "output_type": "stream",
     "text": [
      "Reformulated query: Refined query: training parameters, optimization techniques, and regularization methods used in the supervision of a language model.\n",
      "Reformulated query: Specific query refinement: training parameters and techniques employed for supervised fine-tuning in a Transformer-based language model\n"
     ]
    },
    {
     "name": "stderr",
     "output_type": "stream",
     "text": [
      "Testing RAGAgent-text-embedding-3-small:  58%|█████▊    | 15/26 [00:46<00:32,  2.95s/it]"
     ]
    },
    {
     "name": "stdout",
     "output_type": "stream",
     "text": [
      "Reformulated query: Refined query: training parameters and techniques in a neural network model for language understanding tasks\n",
      "Target metrics achieved or max iterations reached, generating answer...\n"
     ]
    },
    {
     "name": "stderr",
     "output_type": "stream",
     "text": [
      "Testing RAGAgent-text-embedding-3-small:  62%|██████▏   | 16/26 [00:49<00:27,  2.76s/it]"
     ]
    },
    {
     "name": "stdout",
     "output_type": "stream",
     "text": [
      "Target metrics achieved or max iterations reached, generating answer...\n"
     ]
    },
    {
     "name": "stderr",
     "output_type": "stream",
     "text": [
      "Testing RAGAgent-text-embedding-3-small:  65%|██████▌   | 17/26 [00:51<00:22,  2.46s/it]"
     ]
    },
    {
     "name": "stdout",
     "output_type": "stream",
     "text": [
      "Reformulated query: \"performance of proposed model on semantic similarity and classification tasks across GLUE benchmark datasets\"\n",
      "Reformulated query: Performance evaluation of the proposed model compared to state-of-the-art methods on natural language inference datasets.\n",
      "Target metrics achieved or max iterations reached, generating answer...\n"
     ]
    },
    {
     "name": "stderr",
     "output_type": "stream",
     "text": [
      "Testing RAGAgent-text-embedding-3-small:  69%|██████▉   | 18/26 [00:55<00:24,  3.11s/it]"
     ]
    },
    {
     "name": "stdout",
     "output_type": "stream",
     "text": [
      "Target metrics achieved or max iterations reached, generating answer...\n"
     ]
    },
    {
     "name": "stderr",
     "output_type": "stream",
     "text": [
      "Testing RAGAgent-text-embedding-3-small:  73%|███████▎  | 19/26 [00:57<00:18,  2.70s/it]"
     ]
    },
    {
     "name": "stdout",
     "output_type": "stream",
     "text": [
      "Target metrics achieved or max iterations reached, generating answer...\n"
     ]
    },
    {
     "name": "stderr",
     "output_type": "stream",
     "text": [
      "Testing RAGAgent-text-embedding-3-small:  77%|███████▋  | 20/26 [00:59<00:14,  2.41s/it]"
     ]
    },
    {
     "name": "stdout",
     "output_type": "stream",
     "text": [
      "Target metrics achieved or max iterations reached, generating answer...\n"
     ]
    },
    {
     "name": "stderr",
     "output_type": "stream",
     "text": [
      "Testing RAGAgent-text-embedding-3-small:  81%|████████  | 21/26 [01:00<00:10,  2.18s/it]"
     ]
    },
    {
     "name": "stdout",
     "output_type": "stream",
     "text": [
      "Target metrics achieved or max iterations reached, generating answer...\n"
     ]
    },
    {
     "name": "stderr",
     "output_type": "stream",
     "text": [
      "Testing RAGAgent-text-embedding-3-small:  85%|████████▍ | 22/26 [01:03<00:09,  2.43s/it]"
     ]
    },
    {
     "name": "stdout",
     "output_type": "stream",
     "text": [
      "Reformulated query: performance evaluation of Transformer and LSTM models in natural language understanding tasks\n",
      "Reformulated query: - Refine query: \"performance difference between Transformer and LSTM models on natural language understanding tasks with emphasis on pre-training and fine-tuning\"\n"
     ]
    },
    {
     "name": "stderr",
     "output_type": "stream",
     "text": [
      "Testing RAGAgent-text-embedding-3-small:  88%|████████▊ | 23/26 [01:07<00:08,  2.75s/it]"
     ]
    },
    {
     "name": "stdout",
     "output_type": "stream",
     "text": [
      "Reformulated query: \"Comparative analysis of performance metrics in natural language understanding tasks between Transformer and LSTM models with a focus on supervised fine-tuning and pre-training effects\"\n",
      "Target metrics achieved or max iterations reached, generating answer...\n"
     ]
    },
    {
     "name": "stderr",
     "output_type": "stream",
     "text": [
      "Testing RAGAgent-text-embedding-3-small:  92%|█████████▏| 24/26 [01:08<00:04,  2.31s/it]"
     ]
    },
    {
     "name": "stdout",
     "output_type": "stream",
     "text": [
      "Target metrics achieved or max iterations reached, generating answer...\n"
     ]
    },
    {
     "name": "stderr",
     "output_type": "stream",
     "text": [
      "Testing RAGAgent-text-embedding-3-small:  96%|█████████▌| 25/26 [01:13<00:03,  3.18s/it]"
     ]
    },
    {
     "name": "stdout",
     "output_type": "stream",
     "text": [
      "Target metrics achieved or max iterations reached, generating answer...\n"
     ]
    },
    {
     "name": "stderr",
     "output_type": "stream",
     "text": [
      "Testing RAGAgent-text-embedding-3-small: 100%|██████████| 26/26 [01:14<00:00,  2.88s/it]\n"
     ]
    },
    {
     "name": "stdout",
     "output_type": "stream",
     "text": [
      "\n",
      "Evaluating configuration: RAGAgent-text-embedding-3-large\n",
      "Initializing collection eval_text_embedding_3_large with 26 documents using text-embedding-3-large\n",
      "Deleted existing collection eval_text_embedding_3_large\n",
      "Created collection eval_text_embedding_3_large with 26 documents using text-embedding-3-large\n"
     ]
    },
    {
     "name": "stderr",
     "output_type": "stream",
     "text": [
      "Testing RAGAgent-text-embedding-3-large:   0%|          | 0/26 [00:00<?, ?it/s]"
     ]
    },
    {
     "name": "stdout",
     "output_type": "stream",
     "text": [
      "Target metrics achieved or max iterations reached, generating answer...\n"
     ]
    },
    {
     "name": "stderr",
     "output_type": "stream",
     "text": [
      "Testing RAGAgent-text-embedding-3-large:   4%|▍         | 1/26 [00:02<00:50,  2.01s/it]"
     ]
    },
    {
     "name": "stdout",
     "output_type": "stream",
     "text": [
      "Target metrics achieved or max iterations reached, generating answer...\n"
     ]
    },
    {
     "name": "stderr",
     "output_type": "stream",
     "text": [
      "Testing RAGAgent-text-embedding-3-large:   8%|▊         | 2/26 [00:04<00:48,  2.01s/it]"
     ]
    },
    {
     "name": "stdout",
     "output_type": "stream",
     "text": [
      "Target metrics achieved or max iterations reached, generating answer...\n"
     ]
    },
    {
     "name": "stderr",
     "output_type": "stream",
     "text": [
      "Testing RAGAgent-text-embedding-3-large:  12%|█▏        | 3/26 [00:07<01:05,  2.85s/it]"
     ]
    },
    {
     "name": "stdout",
     "output_type": "stream",
     "text": [
      "Target metrics achieved or max iterations reached, generating answer...\n"
     ]
    },
    {
     "name": "stderr",
     "output_type": "stream",
     "text": [
      "Testing RAGAgent-text-embedding-3-large:  15%|█▌        | 4/26 [00:11<01:09,  3.14s/it]"
     ]
    },
    {
     "name": "stdout",
     "output_type": "stream",
     "text": [
      "Target metrics achieved or max iterations reached, generating answer...\n"
     ]
    },
    {
     "name": "stderr",
     "output_type": "stream",
     "text": [
      "Testing RAGAgent-text-embedding-3-large:  19%|█▉        | 5/26 [00:15<01:11,  3.41s/it]"
     ]
    },
    {
     "name": "stdout",
     "output_type": "stream",
     "text": [
      "Target metrics achieved or max iterations reached, generating answer...\n"
     ]
    },
    {
     "name": "stderr",
     "output_type": "stream",
     "text": [
      "Testing RAGAgent-text-embedding-3-large:  23%|██▎       | 6/26 [00:18<01:05,  3.26s/it]"
     ]
    },
    {
     "name": "stdout",
     "output_type": "stream",
     "text": [
      "Target metrics achieved or max iterations reached, generating answer...\n"
     ]
    },
    {
     "name": "stderr",
     "output_type": "stream",
     "text": [
      "Testing RAGAgent-text-embedding-3-large:  27%|██▋       | 7/26 [00:20<00:56,  3.00s/it]"
     ]
    },
    {
     "name": "stdout",
     "output_type": "stream",
     "text": [
      "Target metrics achieved or max iterations reached, generating answer...\n"
     ]
    },
    {
     "name": "stderr",
     "output_type": "stream",
     "text": [
      "Testing RAGAgent-text-embedding-3-large:  31%|███       | 8/26 [00:23<00:53,  2.98s/it]"
     ]
    },
    {
     "name": "stdout",
     "output_type": "stream",
     "text": [
      "Target metrics achieved or max iterations reached, generating answer...\n"
     ]
    },
    {
     "name": "stderr",
     "output_type": "stream",
     "text": [
      "Testing RAGAgent-text-embedding-3-large:  35%|███▍      | 9/26 [00:25<00:43,  2.54s/it]"
     ]
    },
    {
     "name": "stdout",
     "output_type": "stream",
     "text": [
      "Target metrics achieved or max iterations reached, generating answer...\n"
     ]
    },
    {
     "name": "stderr",
     "output_type": "stream",
     "text": [
      "Testing RAGAgent-text-embedding-3-large:  38%|███▊      | 10/26 [00:28<00:45,  2.86s/it]"
     ]
    },
    {
     "name": "stdout",
     "output_type": "stream",
     "text": [
      "Target metrics achieved or max iterations reached, generating answer...\n"
     ]
    },
    {
     "name": "stderr",
     "output_type": "stream",
     "text": [
      "Testing RAGAgent-text-embedding-3-large:  42%|████▏     | 11/26 [00:35<00:58,  3.93s/it]"
     ]
    },
    {
     "name": "stdout",
     "output_type": "stream",
     "text": [
      "Target metrics achieved or max iterations reached, generating answer...\n"
     ]
    },
    {
     "name": "stderr",
     "output_type": "stream",
     "text": [
      "Testing RAGAgent-text-embedding-3-large:  46%|████▌     | 12/26 [00:37<00:46,  3.33s/it]"
     ]
    },
    {
     "name": "stdout",
     "output_type": "stream",
     "text": [
      "Target metrics achieved or max iterations reached, generating answer...\n"
     ]
    },
    {
     "name": "stderr",
     "output_type": "stream",
     "text": [
      "Testing RAGAgent-text-embedding-3-large:  50%|█████     | 13/26 [00:39<00:38,  3.00s/it]"
     ]
    },
    {
     "name": "stdout",
     "output_type": "stream",
     "text": [
      "Target metrics achieved or max iterations reached, generating answer...\n"
     ]
    },
    {
     "name": "stderr",
     "output_type": "stream",
     "text": [
      "Testing RAGAgent-text-embedding-3-large:  54%|█████▍    | 14/26 [00:41<00:33,  2.78s/it]"
     ]
    },
    {
     "name": "stdout",
     "output_type": "stream",
     "text": [
      "Target metrics achieved or max iterations reached, generating answer...\n"
     ]
    },
    {
     "name": "stderr",
     "output_type": "stream",
     "text": [
      "Testing RAGAgent-text-embedding-3-large:  58%|█████▊    | 15/26 [00:45<00:32,  2.96s/it]"
     ]
    },
    {
     "name": "stdout",
     "output_type": "stream",
     "text": [
      "Target metrics achieved or max iterations reached, generating answer...\n"
     ]
    },
    {
     "name": "stderr",
     "output_type": "stream",
     "text": [
      "Testing RAGAgent-text-embedding-3-large:  62%|██████▏   | 16/26 [00:48<00:32,  3.21s/it]"
     ]
    },
    {
     "name": "stdout",
     "output_type": "stream",
     "text": [
      "Target metrics achieved or max iterations reached, generating answer...\n"
     ]
    },
    {
     "name": "stderr",
     "output_type": "stream",
     "text": [
      "Testing RAGAgent-text-embedding-3-large:  65%|██████▌   | 17/26 [00:50<00:25,  2.83s/it]"
     ]
    },
    {
     "name": "stdout",
     "output_type": "stream",
     "text": [
      "Target metrics achieved or max iterations reached, generating answer...\n"
     ]
    },
    {
     "name": "stderr",
     "output_type": "stream",
     "text": [
      "Testing RAGAgent-text-embedding-3-large:  69%|██████▉   | 18/26 [00:53<00:21,  2.69s/it]"
     ]
    },
    {
     "name": "stdout",
     "output_type": "stream",
     "text": [
      "Target metrics achieved or max iterations reached, generating answer...\n"
     ]
    },
    {
     "name": "stderr",
     "output_type": "stream",
     "text": [
      "Testing RAGAgent-text-embedding-3-large:  73%|███████▎  | 19/26 [00:54<00:16,  2.38s/it]"
     ]
    },
    {
     "name": "stdout",
     "output_type": "stream",
     "text": [
      "Target metrics achieved or max iterations reached, generating answer...\n"
     ]
    },
    {
     "name": "stderr",
     "output_type": "stream",
     "text": [
      "Testing RAGAgent-text-embedding-3-large:  77%|███████▋  | 20/26 [00:56<00:12,  2.09s/it]"
     ]
    },
    {
     "name": "stdout",
     "output_type": "stream",
     "text": [
      "Target metrics achieved or max iterations reached, generating answer...\n"
     ]
    },
    {
     "name": "stderr",
     "output_type": "stream",
     "text": [
      "Testing RAGAgent-text-embedding-3-large:  81%|████████  | 21/26 [00:58<00:10,  2.05s/it]"
     ]
    },
    {
     "name": "stdout",
     "output_type": "stream",
     "text": [
      "Target metrics achieved or max iterations reached, generating answer...\n"
     ]
    },
    {
     "name": "stderr",
     "output_type": "stream",
     "text": [
      "Testing RAGAgent-text-embedding-3-large:  85%|████████▍ | 22/26 [00:59<00:07,  1.92s/it]"
     ]
    },
    {
     "name": "stdout",
     "output_type": "stream",
     "text": [
      "Reformulated query: Performance comparison between Transformer and LSTM in natural language tasks such as text classification and question answering.\n",
      "Reformulated query: Comparison of performance metrics specifically in natural language understanding tasks between Transformer and LSTM models.\n"
     ]
    },
    {
     "name": "stderr",
     "output_type": "stream",
     "text": [
      "Testing RAGAgent-text-embedding-3-large:  88%|████████▊ | 23/26 [01:03<00:07,  2.36s/it]"
     ]
    },
    {
     "name": "stdout",
     "output_type": "stream",
     "text": [
      "Reformulated query: \"Comparison of performance metrics such as accuracy and F1 scores between Transformer and LSTM models in natural language understanding tasks using the GLUE benchmark dataset\"\n",
      "Target metrics achieved or max iterations reached, generating answer...\n"
     ]
    },
    {
     "name": "stderr",
     "output_type": "stream",
     "text": [
      "Testing RAGAgent-text-embedding-3-large:  92%|█████████▏| 24/26 [01:04<00:04,  2.02s/it]"
     ]
    },
    {
     "name": "stdout",
     "output_type": "stream",
     "text": [
      "Target metrics achieved or max iterations reached, generating answer...\n"
     ]
    },
    {
     "name": "stderr",
     "output_type": "stream",
     "text": [
      "Testing RAGAgent-text-embedding-3-large:  96%|█████████▌| 25/26 [01:07<00:02,  2.49s/it]"
     ]
    },
    {
     "name": "stdout",
     "output_type": "stream",
     "text": [
      "Target metrics achieved or max iterations reached, generating answer...\n"
     ]
    },
    {
     "name": "stderr",
     "output_type": "stream",
     "text": [
      "Testing RAGAgent-text-embedding-3-large: 100%|██████████| 26/26 [01:09<00:00,  2.66s/it]\n"
     ]
    },
    {
     "name": "stdout",
     "output_type": "stream",
     "text": [
      "\n",
      "Evaluating configuration: RAGAgent-text-embedding-3-large-cross-encoder/ms-marco-MiniLM-L-6-v2\n"
     ]
    },
    {
     "name": "stderr",
     "output_type": "stream",
     "text": [
      "Testing RAGAgent-text-embedding-3-large-cross-encoder/ms-marco-MiniLM-L-6-v2:   0%|          | 0/26 [00:00<?, ?it/s]"
     ]
    },
    {
     "name": "stdout",
     "output_type": "stream",
     "text": [
      "Target metrics achieved or max iterations reached, generating answer...\n"
     ]
    },
    {
     "name": "stderr",
     "output_type": "stream",
     "text": [
      "Testing RAGAgent-text-embedding-3-large-cross-encoder/ms-marco-MiniLM-L-6-v2:   4%|▍         | 1/26 [00:15<06:19, 15.18s/it]"
     ]
    },
    {
     "name": "stdout",
     "output_type": "stream",
     "text": [
      "Target metrics achieved or max iterations reached, generating answer...\n"
     ]
    },
    {
     "name": "stderr",
     "output_type": "stream",
     "text": [
      "Testing RAGAgent-text-embedding-3-large-cross-encoder/ms-marco-MiniLM-L-6-v2:   8%|▊         | 2/26 [00:18<03:21,  8.41s/it]"
     ]
    },
    {
     "name": "stdout",
     "output_type": "stream",
     "text": [
      "Target metrics achieved or max iterations reached, generating answer...\n"
     ]
    },
    {
     "name": "stderr",
     "output_type": "stream",
     "text": [
      "Testing RAGAgent-text-embedding-3-large-cross-encoder/ms-marco-MiniLM-L-6-v2:  12%|█▏        | 3/26 [00:25<02:49,  7.39s/it]"
     ]
    },
    {
     "name": "stdout",
     "output_type": "stream",
     "text": [
      "Target metrics achieved or max iterations reached, generating answer...\n"
     ]
    },
    {
     "name": "stderr",
     "output_type": "stream",
     "text": [
      "Testing RAGAgent-text-embedding-3-large-cross-encoder/ms-marco-MiniLM-L-6-v2:  15%|█▌        | 4/26 [00:29<02:17,  6.23s/it]"
     ]
    },
    {
     "name": "stdout",
     "output_type": "stream",
     "text": [
      "Target metrics achieved or max iterations reached, generating answer...\n"
     ]
    },
    {
     "name": "stderr",
     "output_type": "stream",
     "text": [
      "Testing RAGAgent-text-embedding-3-large-cross-encoder/ms-marco-MiniLM-L-6-v2:  19%|█▉        | 5/26 [00:33<01:57,  5.61s/it]"
     ]
    },
    {
     "name": "stdout",
     "output_type": "stream",
     "text": [
      "Target metrics achieved or max iterations reached, generating answer...\n"
     ]
    },
    {
     "name": "stderr",
     "output_type": "stream",
     "text": [
      "Testing RAGAgent-text-embedding-3-large-cross-encoder/ms-marco-MiniLM-L-6-v2:  23%|██▎       | 6/26 [00:37<01:39,  4.99s/it]"
     ]
    },
    {
     "name": "stdout",
     "output_type": "stream",
     "text": [
      "Target metrics achieved or max iterations reached, generating answer...\n"
     ]
    },
    {
     "name": "stderr",
     "output_type": "stream",
     "text": [
      "Testing RAGAgent-text-embedding-3-large-cross-encoder/ms-marco-MiniLM-L-6-v2:  27%|██▋       | 7/26 [00:41<01:29,  4.70s/it]"
     ]
    },
    {
     "name": "stdout",
     "output_type": "stream",
     "text": [
      "Target metrics achieved or max iterations reached, generating answer...\n"
     ]
    },
    {
     "name": "stderr",
     "output_type": "stream",
     "text": [
      "Testing RAGAgent-text-embedding-3-large-cross-encoder/ms-marco-MiniLM-L-6-v2:  31%|███       | 8/26 [00:46<01:22,  4.60s/it]"
     ]
    },
    {
     "name": "stdout",
     "output_type": "stream",
     "text": [
      "Target metrics achieved or max iterations reached, generating answer...\n"
     ]
    },
    {
     "name": "stderr",
     "output_type": "stream",
     "text": [
      "Testing RAGAgent-text-embedding-3-large-cross-encoder/ms-marco-MiniLM-L-6-v2:  35%|███▍      | 9/26 [00:50<01:14,  4.37s/it]"
     ]
    },
    {
     "name": "stdout",
     "output_type": "stream",
     "text": [
      "Target metrics achieved or max iterations reached, generating answer...\n"
     ]
    },
    {
     "name": "stderr",
     "output_type": "stream",
     "text": [
      "Testing RAGAgent-text-embedding-3-large-cross-encoder/ms-marco-MiniLM-L-6-v2:  38%|███▊      | 10/26 [00:53<01:07,  4.20s/it]"
     ]
    },
    {
     "name": "stdout",
     "output_type": "stream",
     "text": [
      "Target metrics achieved or max iterations reached, generating answer...\n"
     ]
    },
    {
     "name": "stderr",
     "output_type": "stream",
     "text": [
      "Testing RAGAgent-text-embedding-3-large-cross-encoder/ms-marco-MiniLM-L-6-v2:  42%|████▏     | 11/26 [00:59<01:07,  4.48s/it]"
     ]
    },
    {
     "name": "stdout",
     "output_type": "stream",
     "text": [
      "Target metrics achieved or max iterations reached, generating answer...\n"
     ]
    },
    {
     "name": "stderr",
     "output_type": "stream",
     "text": [
      "Testing RAGAgent-text-embedding-3-large-cross-encoder/ms-marco-MiniLM-L-6-v2:  46%|████▌     | 12/26 [01:02<00:56,  4.01s/it]"
     ]
    },
    {
     "name": "stdout",
     "output_type": "stream",
     "text": [
      "Target metrics achieved or max iterations reached, generating answer...\n"
     ]
    },
    {
     "name": "stderr",
     "output_type": "stream",
     "text": [
      "Testing RAGAgent-text-embedding-3-large-cross-encoder/ms-marco-MiniLM-L-6-v2:  50%|█████     | 13/26 [01:05<00:51,  3.93s/it]"
     ]
    },
    {
     "name": "stdout",
     "output_type": "stream",
     "text": [
      "Target metrics achieved or max iterations reached, generating answer...\n"
     ]
    },
    {
     "name": "stderr",
     "output_type": "stream",
     "text": [
      "Testing RAGAgent-text-embedding-3-large-cross-encoder/ms-marco-MiniLM-L-6-v2:  54%|█████▍    | 14/26 [01:10<00:51,  4.32s/it]"
     ]
    },
    {
     "name": "stdout",
     "output_type": "stream",
     "text": [
      "Reformulated query: Query refinement: training parameters and techniques used in unsupervised pre-training for language understanding tasks\n",
      "Reformulated query: Query refinement: specific training parameters and techniques used in semi-supervised language understanding model training\n"
     ]
    },
    {
     "name": "stderr",
     "output_type": "stream",
     "text": [
      "Testing RAGAgent-text-embedding-3-large-cross-encoder/ms-marco-MiniLM-L-6-v2:  58%|█████▊    | 15/26 [01:19<00:59,  5.45s/it]"
     ]
    },
    {
     "name": "stdout",
     "output_type": "stream",
     "text": [
      "Reformulated query: Revised query: training parameters and techniques for semi-supervised natural language processing (NLP) models\n",
      "Target metrics achieved or max iterations reached, generating answer...\n"
     ]
    },
    {
     "name": "stderr",
     "output_type": "stream",
     "text": [
      "Testing RAGAgent-text-embedding-3-large-cross-encoder/ms-marco-MiniLM-L-6-v2:  62%|██████▏   | 16/26 [01:23<00:52,  5.29s/it]"
     ]
    },
    {
     "name": "stdout",
     "output_type": "stream",
     "text": [
      "Target metrics achieved or max iterations reached, generating answer...\n"
     ]
    },
    {
     "name": "stderr",
     "output_type": "stream",
     "text": [
      "Testing RAGAgent-text-embedding-3-large-cross-encoder/ms-marco-MiniLM-L-6-v2:  65%|██████▌   | 17/26 [01:28<00:44,  4.98s/it]"
     ]
    },
    {
     "name": "stdout",
     "output_type": "stream",
     "text": [
      "Reformulated query: performance evaluation of the proposed transformer model on the GLUE benchmark dataset\n",
      "Reformulated query: performance evaluation of the proposed model in natural language inference datasets\n"
     ]
    },
    {
     "name": "stderr",
     "output_type": "stream",
     "text": [
      "Testing RAGAgent-text-embedding-3-large-cross-encoder/ms-marco-MiniLM-L-6-v2:  69%|██████▉   | 18/26 [01:35<00:46,  5.81s/it]"
     ]
    },
    {
     "name": "stdout",
     "output_type": "stream",
     "text": [
      "Reformulated query: Proposed query refinement: \"comparing performance of a specific model on natural language inference datasets SNLI, MultiNLI, Question NLI, RTE, and SciTail\"\n",
      "Target metrics achieved or max iterations reached, generating answer...\n"
     ]
    },
    {
     "name": "stderr",
     "output_type": "stream",
     "text": [
      "Testing RAGAgent-text-embedding-3-large-cross-encoder/ms-marco-MiniLM-L-6-v2:  73%|███████▎  | 19/26 [01:39<00:35,  5.14s/it]"
     ]
    },
    {
     "name": "stdout",
     "output_type": "stream",
     "text": [
      "Target metrics achieved or max iterations reached, generating answer...\n"
     ]
    },
    {
     "name": "stderr",
     "output_type": "stream",
     "text": [
      "Testing RAGAgent-text-embedding-3-large-cross-encoder/ms-marco-MiniLM-L-6-v2:  77%|███████▋  | 20/26 [01:43<00:29,  4.86s/it]"
     ]
    },
    {
     "name": "stdout",
     "output_type": "stream",
     "text": [
      "Target metrics achieved or max iterations reached, generating answer...\n"
     ]
    },
    {
     "name": "stderr",
     "output_type": "stream",
     "text": [
      "Testing RAGAgent-text-embedding-3-large-cross-encoder/ms-marco-MiniLM-L-6-v2:  81%|████████  | 21/26 [01:46<00:21,  4.23s/it]"
     ]
    },
    {
     "name": "stdout",
     "output_type": "stream",
     "text": [
      "Target metrics achieved or max iterations reached, generating answer...\n"
     ]
    },
    {
     "name": "stderr",
     "output_type": "stream",
     "text": [
      "Testing RAGAgent-text-embedding-3-large-cross-encoder/ms-marco-MiniLM-L-6-v2:  85%|████████▍ | 22/26 [01:52<00:18,  4.74s/it]"
     ]
    },
    {
     "name": "stdout",
     "output_type": "stream",
     "text": [
      "Target metrics achieved or max iterations reached, generating answer...\n"
     ]
    },
    {
     "name": "stderr",
     "output_type": "stream",
     "text": [
      "Testing RAGAgent-text-embedding-3-large-cross-encoder/ms-marco-MiniLM-L-6-v2:  88%|████████▊ | 23/26 [01:56<00:13,  4.46s/it]"
     ]
    },
    {
     "name": "stdout",
     "output_type": "stream",
     "text": [
      "Target metrics achieved or max iterations reached, generating answer...\n"
     ]
    },
    {
     "name": "stderr",
     "output_type": "stream",
     "text": [
      "Testing RAGAgent-text-embedding-3-large-cross-encoder/ms-marco-MiniLM-L-6-v2:  92%|█████████▏| 24/26 [01:59<00:08,  4.06s/it]"
     ]
    },
    {
     "name": "stdout",
     "output_type": "stream",
     "text": [
      "Target metrics achieved or max iterations reached, generating answer...\n"
     ]
    },
    {
     "name": "stderr",
     "output_type": "stream",
     "text": [
      "Testing RAGAgent-text-embedding-3-large-cross-encoder/ms-marco-MiniLM-L-6-v2:  96%|█████████▌| 25/26 [02:05<00:04,  4.61s/it]"
     ]
    },
    {
     "name": "stdout",
     "output_type": "stream",
     "text": [
      "Target metrics achieved or max iterations reached, generating answer...\n"
     ]
    },
    {
     "name": "stderr",
     "output_type": "stream",
     "text": [
      "Testing RAGAgent-text-embedding-3-large-cross-encoder/ms-marco-MiniLM-L-6-v2: 100%|██████████| 26/26 [02:07<00:00,  4.92s/it]\n"
     ]
    },
    {
     "name": "stdout",
     "output_type": "stream",
     "text": [
      "\n",
      "Evaluating configuration: RAGAgent-text-embedding-3-small-cross-encoder/ms-marco-MiniLM-L-6-v2\n"
     ]
    },
    {
     "name": "stderr",
     "output_type": "stream",
     "text": [
      "Testing RAGAgent-text-embedding-3-small-cross-encoder/ms-marco-MiniLM-L-6-v2:   0%|          | 0/26 [00:00<?, ?it/s]"
     ]
    },
    {
     "name": "stdout",
     "output_type": "stream",
     "text": [
      "Target metrics achieved or max iterations reached, generating answer...\n"
     ]
    },
    {
     "name": "stderr",
     "output_type": "stream",
     "text": [
      "Testing RAGAgent-text-embedding-3-small-cross-encoder/ms-marco-MiniLM-L-6-v2:   4%|▍         | 1/26 [00:04<01:54,  4.59s/it]"
     ]
    },
    {
     "name": "stdout",
     "output_type": "stream",
     "text": [
      "Target metrics achieved or max iterations reached, generating answer...\n"
     ]
    },
    {
     "name": "stderr",
     "output_type": "stream",
     "text": [
      "Testing RAGAgent-text-embedding-3-small-cross-encoder/ms-marco-MiniLM-L-6-v2:   8%|▊         | 2/26 [00:08<01:39,  4.17s/it]"
     ]
    },
    {
     "name": "stdout",
     "output_type": "stream",
     "text": [
      "Target metrics achieved or max iterations reached, generating answer...\n"
     ]
    },
    {
     "name": "stderr",
     "output_type": "stream",
     "text": [
      "Testing RAGAgent-text-embedding-3-small-cross-encoder/ms-marco-MiniLM-L-6-v2:  12%|█▏        | 3/26 [00:13<01:42,  4.47s/it]"
     ]
    },
    {
     "name": "stdout",
     "output_type": "stream",
     "text": [
      "Target metrics achieved or max iterations reached, generating answer...\n"
     ]
    },
    {
     "name": "stderr",
     "output_type": "stream",
     "text": [
      "Testing RAGAgent-text-embedding-3-small-cross-encoder/ms-marco-MiniLM-L-6-v2:  15%|█▌        | 4/26 [00:18<01:40,  4.57s/it]"
     ]
    },
    {
     "name": "stdout",
     "output_type": "stream",
     "text": [
      "Target metrics achieved or max iterations reached, generating answer...\n"
     ]
    },
    {
     "name": "stderr",
     "output_type": "stream",
     "text": [
      "Testing RAGAgent-text-embedding-3-small-cross-encoder/ms-marco-MiniLM-L-6-v2:  19%|█▉        | 5/26 [00:22<01:38,  4.69s/it]"
     ]
    },
    {
     "name": "stdout",
     "output_type": "stream",
     "text": [
      "Target metrics achieved or max iterations reached, generating answer...\n"
     ]
    },
    {
     "name": "stderr",
     "output_type": "stream",
     "text": [
      "Testing RAGAgent-text-embedding-3-small-cross-encoder/ms-marco-MiniLM-L-6-v2:  23%|██▎       | 6/26 [00:28<01:38,  4.91s/it]"
     ]
    },
    {
     "name": "stdout",
     "output_type": "stream",
     "text": [
      "Target metrics achieved or max iterations reached, generating answer...\n"
     ]
    },
    {
     "name": "stderr",
     "output_type": "stream",
     "text": [
      "Testing RAGAgent-text-embedding-3-small-cross-encoder/ms-marco-MiniLM-L-6-v2:  27%|██▋       | 7/26 [00:34<01:43,  5.45s/it]"
     ]
    },
    {
     "name": "stdout",
     "output_type": "stream",
     "text": [
      "Target metrics achieved or max iterations reached, generating answer...\n"
     ]
    },
    {
     "name": "stderr",
     "output_type": "stream",
     "text": [
      "Testing RAGAgent-text-embedding-3-small-cross-encoder/ms-marco-MiniLM-L-6-v2:  31%|███       | 8/26 [00:38<01:28,  4.92s/it]"
     ]
    },
    {
     "name": "stdout",
     "output_type": "stream",
     "text": [
      "Target metrics achieved or max iterations reached, generating answer...\n"
     ]
    },
    {
     "name": "stderr",
     "output_type": "stream",
     "text": [
      "Testing RAGAgent-text-embedding-3-small-cross-encoder/ms-marco-MiniLM-L-6-v2:  35%|███▍      | 9/26 [00:42<01:18,  4.59s/it]"
     ]
    },
    {
     "name": "stdout",
     "output_type": "stream",
     "text": [
      "Target metrics achieved or max iterations reached, generating answer...\n"
     ]
    },
    {
     "name": "stderr",
     "output_type": "stream",
     "text": [
      "Testing RAGAgent-text-embedding-3-small-cross-encoder/ms-marco-MiniLM-L-6-v2:  38%|███▊      | 10/26 [00:46<01:10,  4.38s/it]"
     ]
    },
    {
     "name": "stdout",
     "output_type": "stream",
     "text": [
      "Target metrics achieved or max iterations reached, generating answer...\n"
     ]
    },
    {
     "name": "stderr",
     "output_type": "stream",
     "text": [
      "Testing RAGAgent-text-embedding-3-small-cross-encoder/ms-marco-MiniLM-L-6-v2:  42%|████▏     | 11/26 [00:49<01:02,  4.13s/it]"
     ]
    },
    {
     "name": "stdout",
     "output_type": "stream",
     "text": [
      "Target metrics achieved or max iterations reached, generating answer...\n"
     ]
    },
    {
     "name": "stderr",
     "output_type": "stream",
     "text": [
      "Testing RAGAgent-text-embedding-3-small-cross-encoder/ms-marco-MiniLM-L-6-v2:  46%|████▌     | 12/26 [00:53<00:53,  3.84s/it]"
     ]
    },
    {
     "name": "stdout",
     "output_type": "stream",
     "text": [
      "Target metrics achieved or max iterations reached, generating answer...\n"
     ]
    },
    {
     "name": "stderr",
     "output_type": "stream",
     "text": [
      "Testing RAGAgent-text-embedding-3-small-cross-encoder/ms-marco-MiniLM-L-6-v2:  50%|█████     | 13/26 [00:56<00:49,  3.82s/it]"
     ]
    },
    {
     "name": "stdout",
     "output_type": "stream",
     "text": [
      "Target metrics achieved or max iterations reached, generating answer...\n"
     ]
    },
    {
     "name": "stderr",
     "output_type": "stream",
     "text": [
      "Testing RAGAgent-text-embedding-3-small-cross-encoder/ms-marco-MiniLM-L-6-v2:  54%|█████▍    | 14/26 [00:59<00:43,  3.60s/it]"
     ]
    },
    {
     "name": "stdout",
     "output_type": "stream",
     "text": [
      "Reformulated query: Refined query: training parameters and techniques in transformer network for language modeling and supervised fine-tuning\n",
      "Reformulated query: Refined query: training parameters and techniques of transformer-based neural network models for natural language understanding\n"
     ]
    },
    {
     "name": "stderr",
     "output_type": "stream",
     "text": [
      "Testing RAGAgent-text-embedding-3-small-cross-encoder/ms-marco-MiniLM-L-6-v2:  58%|█████▊    | 15/26 [01:08<00:54,  4.99s/it]"
     ]
    },
    {
     "name": "stdout",
     "output_type": "stream",
     "text": [
      "Reformulated query: Revised query: training parameters and techniques used in a neural network model based on Transformer architecture for natural language understanding tasks\n",
      "Target metrics achieved or max iterations reached, generating answer...\n"
     ]
    },
    {
     "name": "stderr",
     "output_type": "stream",
     "text": [
      "Testing RAGAgent-text-embedding-3-small-cross-encoder/ms-marco-MiniLM-L-6-v2:  62%|██████▏   | 16/26 [01:13<00:51,  5.18s/it]"
     ]
    },
    {
     "name": "stdout",
     "output_type": "stream",
     "text": [
      "Target metrics achieved or max iterations reached, generating answer...\n"
     ]
    },
    {
     "name": "stderr",
     "output_type": "stream",
     "text": [
      "Testing RAGAgent-text-embedding-3-small-cross-encoder/ms-marco-MiniLM-L-6-v2:  65%|██████▌   | 17/26 [01:18<00:44,  4.95s/it]"
     ]
    },
    {
     "name": "stdout",
     "output_type": "stream",
     "text": [
      "Reformulated query: Comparison of the proposed model's performance on natural language understanding tasks using generative pre-training and discriminative fine-tuning across various datasets.\n",
      "Reformulated query: Performance analysis of a proposed transformer model compared to a one-layer 2048 unit LSTM across various datasets\n"
     ]
    },
    {
     "name": "stderr",
     "output_type": "stream",
     "text": [
      "Testing RAGAgent-text-embedding-3-small-cross-encoder/ms-marco-MiniLM-L-6-v2:  69%|██████▉   | 18/26 [01:27<00:48,  6.10s/it]"
     ]
    },
    {
     "name": "stdout",
     "output_type": "stream",
     "text": [
      "Reformulated query: performance of transformer model with pre-training compared to LSTM model on MRPC dataset\n",
      "Target metrics achieved or max iterations reached, generating answer...\n"
     ]
    },
    {
     "name": "stderr",
     "output_type": "stream",
     "text": [
      "Testing RAGAgent-text-embedding-3-small-cross-encoder/ms-marco-MiniLM-L-6-v2:  73%|███████▎  | 19/26 [01:30<00:36,  5.19s/it]"
     ]
    },
    {
     "name": "stdout",
     "output_type": "stream",
     "text": [
      "Target metrics achieved or max iterations reached, generating answer...\n"
     ]
    },
    {
     "name": "stderr",
     "output_type": "stream",
     "text": [
      "Testing RAGAgent-text-embedding-3-small-cross-encoder/ms-marco-MiniLM-L-6-v2:  77%|███████▋  | 20/26 [01:33<00:28,  4.68s/it]"
     ]
    },
    {
     "name": "stdout",
     "output_type": "stream",
     "text": [
      "Target metrics achieved or max iterations reached, generating answer...\n"
     ]
    },
    {
     "name": "stderr",
     "output_type": "stream",
     "text": [
      "Testing RAGAgent-text-embedding-3-small-cross-encoder/ms-marco-MiniLM-L-6-v2:  81%|████████  | 21/26 [01:36<00:20,  4.20s/it]"
     ]
    },
    {
     "name": "stdout",
     "output_type": "stream",
     "text": [
      "Target metrics achieved or max iterations reached, generating answer...\n"
     ]
    },
    {
     "name": "stderr",
     "output_type": "stream",
     "text": [
      "Testing RAGAgent-text-embedding-3-small-cross-encoder/ms-marco-MiniLM-L-6-v2:  85%|████████▍ | 22/26 [01:40<00:15,  4.00s/it]"
     ]
    },
    {
     "name": "stdout",
     "output_type": "stream",
     "text": [
      "Target metrics achieved or max iterations reached, generating answer...\n"
     ]
    },
    {
     "name": "stderr",
     "output_type": "stream",
     "text": [
      "Testing RAGAgent-text-embedding-3-small-cross-encoder/ms-marco-MiniLM-L-6-v2:  88%|████████▊ | 23/26 [01:44<00:12,  4.04s/it]"
     ]
    },
    {
     "name": "stdout",
     "output_type": "stream",
     "text": [
      "Target metrics achieved or max iterations reached, generating answer...\n"
     ]
    },
    {
     "name": "stderr",
     "output_type": "stream",
     "text": [
      "Testing RAGAgent-text-embedding-3-small-cross-encoder/ms-marco-MiniLM-L-6-v2:  92%|█████████▏| 24/26 [01:47<00:07,  3.91s/it]"
     ]
    },
    {
     "name": "stdout",
     "output_type": "stream",
     "text": [
      "Target metrics achieved or max iterations reached, generating answer...\n"
     ]
    },
    {
     "name": "stderr",
     "output_type": "stream",
     "text": [
      "Testing RAGAgent-text-embedding-3-small-cross-encoder/ms-marco-MiniLM-L-6-v2:  96%|█████████▌| 25/26 [01:51<00:03,  3.69s/it]"
     ]
    },
    {
     "name": "stdout",
     "output_type": "stream",
     "text": [
      "Target metrics achieved or max iterations reached, generating answer...\n"
     ]
    },
    {
     "name": "stderr",
     "output_type": "stream",
     "text": [
      "Testing RAGAgent-text-embedding-3-small-cross-encoder/ms-marco-MiniLM-L-6-v2: 100%|██████████| 26/26 [01:54<00:00,  4.42s/it]\n"
     ]
    },
    {
     "name": "stdout",
     "output_type": "stream",
     "text": [
      "Evaluation complete with 832 data points\n"
     ]
    },
    {
     "data": {
      "image/png": "[encoded data removed]",
      "text/plain": [
       "<Figure size 2000x600 with 2 Axes>"
      ]
     },
     "metadata": {},
     "output_type": "display_data"
    },
    {
     "data": {
      "image/png": "[encoded data removed]",
      "text/plain": [
       "<Figure size 1400x600 with 1 Axes>"
      ]
     },
     "metadata": {},
     "output_type": "display_data"
    }
   ],
   "source": [
    "# Initialize evaluator\n",
    "evaluator = RAGEvaluator(chroma_client)\n",
    "    \n",
    "# Create configs to evaluate\n",
    "configs = [\n",
    "    evaluator.create_agent_config(\n",
    "        RAGAgent,\n",
    "        embedding_model=\"text-embedding-3-small\",\n",
    "        reranker_model=None,\n",
    "        llm_model=\"gpt-3.5-turbo\"\n",
    "    ),\n",
    "    evaluator.create_agent_config(\n",
    "        RAGAgent,\n",
    "        embedding_model=\"text-embedding-3-large\",\n",
    "        reranker_model=None,\n",
    "        llm_model=\"gpt-3.5-turbo\"\n",
    "    ),\n",
    "    evaluator.create_agent_config(\n",
    "        RAGAgent,\n",
    "        embedding_model=\"text-embedding-3-large\",\n",
    "        reranker_model=\"cross-encoder/ms-marco-MiniLM-L-6-v2\",\n",
    "        llm_model=\"gpt-3.5-turbo\"\n",
    "    ), \n",
    "    evaluator.create_agent_config(\n",
    "        RAGAgent,\n",
    "        embedding_model=\"text-embedding-3-small\",\n",
    "        reranker_model=\"cross-encoder/ms-marco-MiniLM-L-6-v2\",\n",
    "        llm_model=\"gpt-3.5-turbo\"\n",
    "    )\n",
    "]\n",
    "\n",
    "evaluation_df = evaluator.evaluate_configurations(eval_df, configs)\n",
    "evaluator.visualize_results(evaluation_df)\n"
   ]
  },
  {
   "cell_type": "code",
   "execution_count": 45,
   "metadata": {},
   "outputs": [
    {
     "data": {
      "image/png": "[encoded data removed]",
      "text/plain": [
       "<Figure size 1400x600 with 1 Axes>"
      ]
     },
     "metadata": {},
     "output_type": "display_data"
    }
   ],
   "source": [
    "### Analyzing Number of Iterations by Configuration\n",
    "\n",
    "# Calculate average iterations needed for each configuration\n",
    "iterations_by_config = evaluation_df.groupby(['embedding_model', 'reranker_model'])['iterations'].mean().reset_index()\n",
    "\n",
    "# Create a bar chart\n",
    "plt.figure(figsize=(14, 6))\n",
    "bars = plt.bar(\n",
    "    range(len(iterations_by_config)), \n",
    "    iterations_by_config['iterations'],\n",
    "    color='skyblue'\n",
    ")\n",
    "\n",
    "# Add labels\n",
    "plt.xticks(\n",
    "    range(len(iterations_by_config)), \n",
    "    [f\"{row['embedding_model']}-{row['reranker_model']}\" for _, row in iterations_by_config.iterrows()],\n",
    "    rotation=45,\n",
    "    ha='right'\n",
    ")\n",
    "plt.title(\"Average Iterations Needed by Configuration\")\n",
    "plt.xlabel(\"Configuration\")\n",
    "plt.ylabel(\"Average Iterations\")\n",
    "plt.grid(axis='y', linestyle='--', alpha=0.7)\n",
    "\n",
    "# Add value labels on top of bars\n",
    "for i, bar in enumerate(bars):\n",
    "    plt.text(\n",
    "        bar.get_x() + bar.get_width()/2,\n",
    "        bar.get_height() + 0.05,\n",
    "        f\"{bar.get_height():.2f}\",\n",
    "        ha='center'\n",
    "    )\n",
    "\n",
    "plt.tight_layout()\n",
    "plt.savefig('iterations_by_config.png')\n",
    "plt.show()"
   ]
  }
 ],
 "metadata": {
  "kernelspec": {
   "display_name": "venv",
   "language": "python",
   "name": "python3"
  },
  "language_info": {
   "codemirror_mode": {
    "name": "ipython",
    "version": 3
   },
   "file_extension": ".py",
   "mimetype": "text/x-python",
   "name": "python",
   "nbconvert_exporter": "python",
   "pygments_lexer": "ipython3",
   "version": "3.13.3"
  }
 },
 "nbformat": 4,
 "nbformat_minor": 2
}
