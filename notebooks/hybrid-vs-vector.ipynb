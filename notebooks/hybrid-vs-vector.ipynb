{
 "cells": [
  {
   "cell_type": "markdown",
   "metadata": {},
   "source": [
    "# Vector Search vs Hybrid Search\n",
    "\n",
    "In this cookbook, we'll explore the differences between pure vector search and hybrid search approaches that combine vector embeddings with metadata filtering. We'll see how structured metadata can dramatically improve search relevance and precision beyond what vector similarity alone can achieve.\n",
    "\n",
    "When users search for products, documents, or other content, they often have specific attributes in mind. For example, a shopper might want \"red dresses for summer occasions\" or a researcher might need \"papers on climate change published after 2020.\" Pure semantic search might miss these nuances, but metadata filtering allows you to combine the power of vector search with explicit attribute filtering.\n",
    "\n",
    "Like always, we'll focus on data-driven approaches to measure and improve retrieval performance. "
   ]
  },
  {
   "cell_type": "markdown",
   "metadata": {},
   "source": [
    "## Requirements\n",
    "\n",
    "Before starting, ensure you have the following packages installed:"
   ]
  },
  {
   "cell_type": "code",
   "execution_count": null,
   "metadata": {},
   "outputs": [],
   "source": [
    "%pip install lancedb datasets openai tqdm pandas pyarrow tantivy pylance"
   ]
  },
  {
   "cell_type": "markdown",
   "metadata": {},
   "source": [
    "## Setup\n",
    "\n",
    "Start by setting up the environment and necessary libraries:"
   ]
  },
  {
   "cell_type": "code",
   "execution_count": 2,
   "metadata": {},
   "outputs": [],
   "source": [
    "import getpass\n",
    "import lancedb\n",
    "import openai\n",
    "from datasets import load_dataset\n",
    "\n",
    "openai.api_key = getpass.getpass('Enter your OpenAI API key: ')\n",
    "# Set up LanceDB\n",
    "db = lancedb.connect('./lancedb_ecommerce_demo')"
   ]
  },
  {
   "cell_type": "markdown",
   "metadata": {},
   "source": [
    "## The Dataset\n",
    "\n",
    "In this cookbook, we'll work with a product catalog dataset containing fashion items with structured metadata. The dataset includes:\n",
    "\n",
    "- **Basic product information**: titles, descriptions, brands, and prices\n",
    "- **Categorization**: categories, subcategories, and product types\n",
    "- **Attributes**: structured characteristics like sleeve length, neckline, and fit\n",
    "- **Materials and patterns**: fabric types and design patterns\n",
    "\n",
    "Here's what our taxonomy structure looks like:\n",
    "\n",
    "```json\n",
    "{\n",
    "    \"taxonomy_map\": {\n",
    "        \"Women\": {\n",
    "            \"Tops\": {\n",
    "                \"product_type\": [\"T-Shirts\", \"Blouses\", \"Sweaters\", \"Cardigans\", \"Tank Tops\", \"Hoodies\", \"Sweatshirts\"],\n",
    "                \"attributes\": {\n",
    "                    \"Sleeve Length\": [\"Sleeveless\", \"Short Sleeve\", \"3/4 Sleeve\", \"Long Sleeve\"],\n",
    "                    \"Neckline\": [\"Crew Neck\", \"V-Neck\", \"Turtleneck\", \"Scoop Neck\", \"Cowl Neck\"],\n",
    "                    \"Fit\": [\"Regular\", \"Slim\", \"Oversized\", \"Cropped\"]\n",
    "                }\n",
    "            },\n",
    "            \"Bottoms\": {\n",
    "                \"product_type\": [\"Pants\", \"Jeans\", \"Shorts\", \"Skirts\", \"Leggings\"],\n",
    "                \"attributes\": {\n",
    "                    // Additional attributes...\n",
    "                }\n",
    "            }\n",
    "        }\n",
    "    }\n",
    "}\n",
    "```\n",
    "\n",
    "Having well-structured metadata enables more precise filtering and can significantly improve search relevance, especially for domain-specific applications where users have particular attributes in mind. This data might come from manual tagging by product managers or automated processes with LLMs. \n",
    "\n",
    "Let's first load the dataset from Huggingface: "
   ]
  },
  {
   "cell_type": "code",
   "execution_count": null,
   "metadata": {},
   "outputs": [
    {
     "data": {
      "application/vnd.jupyter.widget-view+json": {
       "model_id": "636f0e9b42c541e58f279d07d88a8e2d",
       "version_major": 2,
       "version_minor": 0
      },
      "text/plain": [
       "Downloading readme:   0%|          | 0.00/720 [00:00<?, ?B/s]"
      ]
     },
     "metadata": {},
     "output_type": "display_data"
    },
    {
     "data": {
      "application/vnd.jupyter.widget-view+json": {
       "model_id": "103145457ffd44d5a628d3c6ef9edb91",
       "version_major": 2,
       "version_minor": 0
      },
      "text/plain": [
       "Downloading data files:   0%|          | 0/1 [00:00<?, ?it/s]"
      ]
     },
     "metadata": {},
     "output_type": "display_data"
    },
    {
     "data": {
      "application/vnd.jupyter.widget-view+json": {
       "model_id": "840468c9fb7f4a409255607468a1eba0",
       "version_major": 2,
       "version_minor": 0
      },
      "text/plain": [
       "Downloading data:   0%|          | 0.00/8.49M [00:00<?, ?B/s]"
      ]
     },
     "metadata": {},
     "output_type": "display_data"
    },
    {
     "data": {
      "application/vnd.jupyter.widget-view+json": {
       "model_id": "9f72d874e1bd472caa5f2475317ee5d2",
       "version_major": 2,
       "version_minor": 0
      },
      "text/plain": [
       "Extracting data files:   0%|          | 0/1 [00:00<?, ?it/s]"
      ]
     },
     "metadata": {},
     "output_type": "display_data"
    },
    {
     "data": {
      "application/vnd.jupyter.widget-view+json": {
       "model_id": "29080cbe2fc340eaac58dc4b9f090e92",
       "version_major": 2,
       "version_minor": 0
      },
      "text/plain": [
       "Generating train split:   0%|          | 0/191 [00:00<?, ? examples/s]"
      ]
     },
     "metadata": {},
     "output_type": "display_data"
    }
   ],
   "source": [
    "from datasets import load_dataset\n",
    "import pandas as pd\n",
    "\n",
    "labelled_dataset = load_dataset(\"ivanleomk/labelled-ecommerce-taxonomy\")[\"train\"]\n",
    "df = pd.DataFrame(labelled_dataset)\n",
    "df[\"id\"] = df[\"id\"].astype(str)"
   ]
  },
  {
   "cell_type": "markdown",
   "metadata": {},
   "source": [
    "## Generate Embeddings (OpenAI)\n",
    "\n",
    "Now, let's create embeddings for our product descriptions. We'll use OpenAI's text-embedding-3-large model:"
   ]
  },
  {
   "cell_type": "code",
   "execution_count": 17,
   "metadata": {},
   "outputs": [
    {
     "name": "stderr",
     "output_type": "stream",
     "text": [
      "Embedding...: 100%|██████████| 2/2 [00:07<00:00,  3.84s/it]\n"
     ]
    }
   ],
   "source": [
    "import numpy as np\n",
    "from tqdm import tqdm\n",
    "\n",
    "def batch_embed(texts, model=\"text-embedding-3-large\"):\n",
    "    batch_size = 100\n",
    "    embeddings = []\n",
    "    for i in tqdm(range(0, len(texts), batch_size), desc=\"Embedding...\"):\n",
    "        batch = texts[i:i+batch_size]\n",
    "        response = openai.embeddings.create(model=model, input=batch)\n",
    "        emb = [np.array(e.embedding, dtype='float32') for e in response.data]\n",
    "        embeddings.extend(emb)\n",
    "    return embeddings\n",
    "\n",
    "df[\"embedding\"] = batch_embed(df[\"description\"].tolist())"
   ]
  },
  {
   "cell_type": "markdown",
   "metadata": {},
   "source": [
    "# Combine all text fields into a single searchable text field\n",
    "\n",
    "We'll create a single text field that combines the product name, description, and category. This will allow us to perform a single search over all relevant text content:"
   ]
  },
  {
   "cell_type": "code",
   "execution_count": 33,
   "metadata": {},
   "outputs": [
    {
     "data": {
      "text/plain": [
       "0    Lace Detail Sleeveless Top Elevate your casual...\n",
       "1    Women's Classic Green T-Shirt Elevate your cas...\n",
       "2    Striped Midi Skirt Add a touch of elegance to ...\n",
       "3    Fila Women's Cropped Logo T-Shirt Elevate your...\n",
       "4    Plaid Crop Top This chic plaid crop top featur...\n",
       "Name: searchable_text, dtype: object"
      ]
     },
     "execution_count": 33,
     "metadata": {},
     "output_type": "execute_result"
    }
   ],
   "source": [
    "df[\"searchable_text\"] = df.apply(\n",
    "    lambda row: \" \".join([\n",
    "        row[\"title\"],\n",
    "        row[\"description\"],\n",
    "        row[\"brand\"],\n",
    "        row[\"category\"],\n",
    "        row[\"subcategory\"],\n",
    "        row[\"product_type\"],\n",
    "        row[\"attributes\"],\n",
    "        row[\"material\"],\n",
    "        row[\"pattern\"],\n",
    "        row[\"occasions\"],\n",
    "    ]),\n",
    "    axis=1\n",
    ")\n",
    "df[\"searchable_text\"].head()"
   ]
  },
  {
   "cell_type": "markdown",
   "metadata": {},
   "source": [
    "## Ingest data into LanceDB\n",
    "\n",
    "We'll use LanceDB to store our product data and embeddings. LanceDB makes it easy to experiment, as it provides both vector and hybrid search capabilities within one single API."
   ]
  },
  {
   "cell_type": "code",
   "execution_count": 37,
   "metadata": {},
   "outputs": [],
   "source": [
    "import pyarrow as pa\n",
    "\n",
    "table_schema = pa.schema(\n",
    "    [\n",
    "        pa.field(\"id\", pa.string()),\n",
    "        pa.field(\"description\", pa.string()),\n",
    "        pa.field(\"title\", pa.string()),\n",
    "        pa.field(\"brand\", pa.string()),\n",
    "        pa.field(\"category\", pa.string()),\n",
    "        pa.field(\"subcategory\", pa.string()),\n",
    "        pa.field(\"product_type\", pa.string()),\n",
    "        pa.field(\"attributes\", pa.string()),\n",
    "        pa.field(\"material\", pa.string()),\n",
    "        pa.field(\"pattern\", pa.string()),\n",
    "        pa.field(\"price\", pa.float64()),\n",
    "        pa.field(\"occasions\", pa.string()),\n",
    "        pa.field(\n",
    "            \"embedding\", pa.list_(pa.float32(), 3072)\n",
    "        ),  # size depends on your model!!\n",
    "        pa.field(\"searchable_text\", pa.string()),\n",
    "    ]\n",
    ")\n",
    "\n",
    "# Drop unused columns\n",
    "df_ = df.drop(columns=[\"image\"])\n",
    "\n",
    "# Create table + upload data\n",
    "if \"products\" in db.table_names():\n",
    "    tbl = db.open_table(\"products\")\n",
    "else:\n",
    "    tbl = db.create_table(\"products\", data=df_, schema=table_schema, mode=\"overwrite\")\n",
    "\n",
    "tbl.create_fts_index(\"searchable_text\", replace=True)\n"
   ]
  },
  {
   "cell_type": "markdown",
   "metadata": {},
   "source": [
    "## Generating Synthetic Data\n",
    "\n",
    "When you don't have production data to start with, you can generate synthetic data to simulate a real-world scenario. We already have the 'output', which is the clothing item we just embedded. We now want to generate synthetic queries that would be relevant to the clothing item. \n",
    "\n",
    "In this case, we'll use GPT-4 to generate realistic user queries that would naturally lead to each product in our catalog. This gives us query-product pairs where we know the ground truth relevance."
   ]
  },
  {
   "cell_type": "code",
   "execution_count": 19,
   "metadata": {},
   "outputs": [
    {
     "name": "stderr",
     "output_type": "stream",
     "text": [
      "Generating queries: 100%|██████████| 191/191 [02:17<00:00,  1.39it/s]\n"
     ]
    }
   ],
   "source": [
    "import random\n",
    "from openai import OpenAI\n",
    "from tqdm import tqdm\n",
    "\n",
    "# Initialize OpenAI client\n",
    "client = OpenAI(api_key=openai.api_key)\n",
    "\n",
    "# Define query types to generate variety\n",
    "query_types = [\n",
    "    \"Basic search for specific item\",\n",
    "    \"Search with price constraint\",\n",
    "    \"Search for specific occasion\",\n",
    "    \"Search with material preference\",\n",
    "    \"Search with style/attribute preference\"\n",
    "]\n",
    "\n",
    "def generate_synthetic_query(item):\n",
    "    \"\"\"Generate a realistic search query for a clothing item\"\"\"\n",
    "\n",
    "    # Select a random query type\n",
    "    query_type = random.choice(query_types)\n",
    "\n",
    "    # Create prompt for the LLM\n",
    "    prompt = f\"\"\"\n",
    "    Generate a realistic search query that would lead someone to find this specific clothing item:\n",
    "\n",
    "    Item Details:\n",
    "    - Title: {item[\"title\"]}\n",
    "    - Description: {item[\"description\"]}\n",
    "    - Category: {item[\"category\"]}\n",
    "    - Subcategory: {item[\"subcategory\"]}\n",
    "    - Product Type: {item[\"product_type\"]}\n",
    "    - Price: ${item[\"price\"]}\n",
    "    - Material: {item[\"material\"]}\n",
    "    - Attributes: {item[\"attributes\"]}\n",
    "    - Occasions: {item[\"occasions\"]}\n",
    "\n",
    "    The query should be in a conversational tone, about 10-20 words, and focus on a {query_type.lower()}.\n",
    "    Don't mention the exact product name, but include specific details that would make this item a perfect match.\n",
    "\n",
    "    Example: For a $120 silk blouse with long sleeves, a query might be:\n",
    "    \"Looking for an elegant silk top with long sleeves for work, under $150\"\n",
    "    \"\"\"\n",
    "\n",
    "    # Generate query using OpenAI\n",
    "    response = client.chat.completions.create(\n",
    "        model=\"gpt-4o-mini\",\n",
    "        messages=[\n",
    "            {\"role\": \"system\", \"content\": \"You are a helpful assistant that generates realistic shopping queries.\"},\n",
    "            {\"role\": \"user\", \"content\": prompt}\n",
    "        ]\n",
    "    )\n",
    "\n",
    "    # Extract the generated query\n",
    "    query = response.choices[0].message.content.strip().strip('\"')\n",
    "\n",
    "    return {\"query\": query, **item}\n",
    "\n",
    "# Generate queries\n",
    "synthetic_queries = []\n",
    "for item in tqdm(labelled_dataset, desc=\"Generating queries\"):\n",
    "    query_data = generate_synthetic_query(item)\n",
    "    synthetic_queries.append(query_data)"
   ]
  },
  {
   "cell_type": "markdown",
   "metadata": {},
   "source": [
    "Let's visualize what this looks like: "
   ]
  },
  {
   "cell_type": "code",
   "execution_count": 20,
   "metadata": {},
   "outputs": [
    {
     "data": {
      "text/html": [
       "<pre style=\"white-space:pre;overflow-x:auto;line-height:normal;font-family:Menlo,'DejaVu Sans Mono',consolas,'Courier New',monospace\"><span style=\"font-weight: bold\">{</span>\n",
       "    <span style=\"color: #008000; text-decoration-color: #008000\">'query'</span>: <span style=\"color: #008000; text-decoration-color: #008000\">'Searching for a sleeveless top with lace detailing at the neckline for casual outings and dinner </span>\n",
       "<span style=\"color: #008000; text-decoration-color: #008000\">dates.'</span>,\n",
       "    <span style=\"color: #008000; text-decoration-color: #008000\">'image'</span>: <span style=\"font-weight: bold\">&lt;</span><span style=\"color: #ff00ff; text-decoration-color: #ff00ff; font-weight: bold\">PIL.JpegImagePlugin.JpegImageFile</span><span style=\"color: #000000; text-decoration-color: #000000\"> image </span><span style=\"color: #808000; text-decoration-color: #808000\">mode</span><span style=\"color: #000000; text-decoration-color: #000000\">=</span><span style=\"color: #800080; text-decoration-color: #800080\">RGB</span><span style=\"color: #000000; text-decoration-color: #000000\"> </span><span style=\"color: #808000; text-decoration-color: #808000\">size</span><span style=\"color: #000000; text-decoration-color: #000000\">=</span><span style=\"color: #800080; text-decoration-color: #800080\">768x1024</span><span style=\"color: #000000; text-decoration-color: #000000\"> at </span><span style=\"color: #008080; text-decoration-color: #008080; font-weight: bold\">0x13E0BB230</span><span style=\"font-weight: bold\">&gt;</span>,\n",
       "    <span style=\"color: #008000; text-decoration-color: #008000\">'title'</span>: <span style=\"color: #008000; text-decoration-color: #008000\">'Lace Detail Sleeveless Top'</span>,\n",
       "    <span style=\"color: #008000; text-decoration-color: #008000\">'brand'</span>: <span style=\"color: #008000; text-decoration-color: #008000\">'H&amp;M'</span>,\n",
       "    <span style=\"color: #008000; text-decoration-color: #008000\">'description'</span>: <span style=\"color: #008000; text-decoration-color: #008000\">\"Elevate your casual wardrobe with this elegant sleeveless top featuring intricate lace </span>\n",
       "<span style=\"color: #008000; text-decoration-color: #008000\">detailing at the neckline. Perfect for both day and night, it's crafted from a soft, breathable fabric for all-day </span>\n",
       "<span style=\"color: #008000; text-decoration-color: #008000\">comfort.\"</span>,\n",
       "    <span style=\"color: #008000; text-decoration-color: #008000\">'category'</span>: <span style=\"color: #008000; text-decoration-color: #008000\">'Women'</span>,\n",
       "    <span style=\"color: #008000; text-decoration-color: #008000\">'subcategory'</span>: <span style=\"color: #008000; text-decoration-color: #008000\">'Tops'</span>,\n",
       "    <span style=\"color: #008000; text-decoration-color: #008000\">'product_type'</span>: <span style=\"color: #008000; text-decoration-color: #008000\">'Tank Tops'</span>,\n",
       "    <span style=\"color: #008000; text-decoration-color: #008000\">'attributes'</span>: <span style=\"color: #008000; text-decoration-color: #008000\">'[{\"name\": \"Sleeve Length\", \"value\": \"Sleeveless\"}, {\"name\": \"Neckline\", \"value\": \"Crew Neck\"}]'</span>,\n",
       "    <span style=\"color: #008000; text-decoration-color: #008000\">'material'</span>: <span style=\"color: #008000; text-decoration-color: #008000\">'Cotton'</span>,\n",
       "    <span style=\"color: #008000; text-decoration-color: #008000\">'pattern'</span>: <span style=\"color: #008000; text-decoration-color: #008000\">'Solid'</span>,\n",
       "    <span style=\"color: #008000; text-decoration-color: #008000\">'id'</span>: <span style=\"color: #008080; text-decoration-color: #008080; font-weight: bold\">1</span>,\n",
       "    <span style=\"color: #008000; text-decoration-color: #008000\">'price'</span>: <span style=\"color: #008080; text-decoration-color: #008080; font-weight: bold\">181.04</span>,\n",
       "    <span style=\"color: #008000; text-decoration-color: #008000\">'occasions'</span>: <span style=\"color: #008000; text-decoration-color: #008000\">'[\"Everyday Wear\", \"Casual Outings\", \"Smart Casual\", \"Dinner Dates\", \"Partywear\"]'</span>\n",
       "<span style=\"font-weight: bold\">}</span>\n",
       "</pre>\n"
      ],
      "text/plain": [
       "\u001b[1m{\u001b[0m\n",
       "    \u001b[32m'query'\u001b[0m: \u001b[32m'Searching for a sleeveless top with lace detailing at the neckline for casual outings and dinner \u001b[0m\n",
       "\u001b[32mdates.'\u001b[0m,\n",
       "    \u001b[32m'image'\u001b[0m: \u001b[1m<\u001b[0m\u001b[1;95mPIL.JpegImagePlugin.JpegImageFile\u001b[0m\u001b[39m image \u001b[0m\u001b[33mmode\u001b[0m\u001b[39m=\u001b[0m\u001b[35mRGB\u001b[0m\u001b[39m \u001b[0m\u001b[33msize\u001b[0m\u001b[39m=\u001b[0m\u001b[35m768x1024\u001b[0m\u001b[39m at \u001b[0m\u001b[1;36m0x13E0BB230\u001b[0m\u001b[1m>\u001b[0m,\n",
       "    \u001b[32m'title'\u001b[0m: \u001b[32m'Lace Detail Sleeveless Top'\u001b[0m,\n",
       "    \u001b[32m'brand'\u001b[0m: \u001b[32m'H&M'\u001b[0m,\n",
       "    \u001b[32m'description'\u001b[0m: \u001b[32m\"Elevate your casual wardrobe with this elegant sleeveless top featuring intricate lace \u001b[0m\n",
       "\u001b[32mdetailing at the neckline. Perfect for both day and night, it's crafted from a soft, breathable fabric for all-day \u001b[0m\n",
       "\u001b[32mcomfort.\"\u001b[0m,\n",
       "    \u001b[32m'category'\u001b[0m: \u001b[32m'Women'\u001b[0m,\n",
       "    \u001b[32m'subcategory'\u001b[0m: \u001b[32m'Tops'\u001b[0m,\n",
       "    \u001b[32m'product_type'\u001b[0m: \u001b[32m'Tank Tops'\u001b[0m,\n",
       "    \u001b[32m'attributes'\u001b[0m: \u001b[32m'\u001b[0m\u001b[32m[\u001b[0m\u001b[32m{\u001b[0m\u001b[32m\"name\": \"Sleeve Length\", \"value\": \"Sleeveless\"\u001b[0m\u001b[32m}\u001b[0m\u001b[32m, \u001b[0m\u001b[32m{\u001b[0m\u001b[32m\"name\": \"Neckline\", \"value\": \"Crew Neck\"\u001b[0m\u001b[32m}\u001b[0m\u001b[32m]\u001b[0m\u001b[32m'\u001b[0m,\n",
       "    \u001b[32m'material'\u001b[0m: \u001b[32m'Cotton'\u001b[0m,\n",
       "    \u001b[32m'pattern'\u001b[0m: \u001b[32m'Solid'\u001b[0m,\n",
       "    \u001b[32m'id'\u001b[0m: \u001b[1;36m1\u001b[0m,\n",
       "    \u001b[32m'price'\u001b[0m: \u001b[1;36m181.04\u001b[0m,\n",
       "    \u001b[32m'occasions'\u001b[0m: \u001b[32m'\u001b[0m\u001b[32m[\u001b[0m\u001b[32m\"Everyday Wear\", \"Casual Outings\", \"Smart Casual\", \"Dinner Dates\", \"Partywear\"\u001b[0m\u001b[32m]\u001b[0m\u001b[32m'\u001b[0m\n",
       "\u001b[1m}\u001b[0m\n"
      ]
     },
     "metadata": {},
     "output_type": "display_data"
    }
   ],
   "source": [
    "from rich import print\n",
    "\n",
    "print(synthetic_queries[0])"
   ]
  },
  {
   "cell_type": "markdown",
   "metadata": {},
   "source": [
    "## Hybrid Search on LanceDB"
   ]
  },
  {
   "cell_type": "markdown",
   "metadata": {},
   "source": [
    "LanceDB makes it easy to combine vector search with full-text search in a single query. Let's see how this works with a practical example:"
   ]
  },
  {
   "cell_type": "code",
   "execution_count": 40,
   "metadata": {},
   "outputs": [
    {
     "data": {
      "text/html": [
       "<div>\n",
       "<style scoped>\n",
       "    .dataframe tbody tr th:only-of-type {\n",
       "        vertical-align: middle;\n",
       "    }\n",
       "\n",
       "    .dataframe tbody tr th {\n",
       "        vertical-align: top;\n",
       "    }\n",
       "\n",
       "    .dataframe thead th {\n",
       "        text-align: right;\n",
       "    }\n",
       "</style>\n",
       "<table border=\"1\" class=\"dataframe\">\n",
       "  <thead>\n",
       "    <tr style=\"text-align: right;\">\n",
       "      <th></th>\n",
       "      <th>title</th>\n",
       "      <th>brand</th>\n",
       "      <th>description</th>\n",
       "      <th>category</th>\n",
       "      <th>subcategory</th>\n",
       "      <th>product_type</th>\n",
       "      <th>attributes</th>\n",
       "      <th>material</th>\n",
       "      <th>pattern</th>\n",
       "      <th>id</th>\n",
       "      <th>price</th>\n",
       "      <th>occasions</th>\n",
       "      <th>embedding</th>\n",
       "      <th>searchable_text</th>\n",
       "      <th>_relevance_score</th>\n",
       "    </tr>\n",
       "  </thead>\n",
       "  <tbody>\n",
       "    <tr>\n",
       "      <th>0</th>\n",
       "      <td>Women's White Sleeveless Top with Skirt</td>\n",
       "      <td>H&amp;M</td>\n",
       "      <td>This elegant white sleeveless top pairs perfec...</td>\n",
       "      <td>Women</td>\n",
       "      <td>Tops</td>\n",
       "      <td>Tank Tops</td>\n",
       "      <td>[{\"name\": \"Sleeve Length\", \"value\": \"Sleeveles...</td>\n",
       "      <td>Cotton</td>\n",
       "      <td>Solid</td>\n",
       "      <td>78</td>\n",
       "      <td>262.91</td>\n",
       "      <td>[\"Everyday Wear\", \"Casual Outings\", \"Semi-Form...</td>\n",
       "      <td>[-0.034495406, -0.029635048, -0.014213263, 0.0...</td>\n",
       "      <td>Women's White Sleeveless Top with Skirt This e...</td>\n",
       "      <td>0.032002</td>\n",
       "    </tr>\n",
       "    <tr>\n",
       "      <th>1</th>\n",
       "      <td>Lace Sleeve Top</td>\n",
       "      <td>Zara</td>\n",
       "      <td>This elegant top features delicate lace sleeve...</td>\n",
       "      <td>Women</td>\n",
       "      <td>Tops</td>\n",
       "      <td>Blouses</td>\n",
       "      <td>[{\"name\": \"Sleeve Length\", \"value\": \"Long Slee...</td>\n",
       "      <td>Polyester</td>\n",
       "      <td>Solid</td>\n",
       "      <td>154</td>\n",
       "      <td>101.15</td>\n",
       "      <td>[\"Everyday Wear\", \"Casual Outings\", \"Office We...</td>\n",
       "      <td>[-0.04646802, -0.0003945035, -0.022669518, 0.0...</td>\n",
       "      <td>Lace Sleeve Top This elegant top features deli...</td>\n",
       "      <td>0.032002</td>\n",
       "    </tr>\n",
       "    <tr>\n",
       "      <th>2</th>\n",
       "      <td>Women's Lace Blouse</td>\n",
       "      <td>Zara</td>\n",
       "      <td>Elevate your wardrobe with this elegant lace b...</td>\n",
       "      <td>Women</td>\n",
       "      <td>Tops</td>\n",
       "      <td>Blouses</td>\n",
       "      <td>[{\"name\": \"Sleeve Length\", \"value\": \"3/4 Sleev...</td>\n",
       "      <td>Polyester</td>\n",
       "      <td>Floral</td>\n",
       "      <td>14</td>\n",
       "      <td>88.59</td>\n",
       "      <td>[\"Casual Outings\", \"Formal Events\", \"Business ...</td>\n",
       "      <td>[-0.054958005, -0.000808206, -0.021859447, 0.0...</td>\n",
       "      <td>Women's Lace Blouse Elevate your wardrobe with...</td>\n",
       "      <td>0.016393</td>\n",
       "    </tr>\n",
       "    <tr>\n",
       "      <th>3</th>\n",
       "      <td>Women's Sleeveless Red Tank Dress</td>\n",
       "      <td>Diesel</td>\n",
       "      <td>This vibrant red tank dress features a sleevel...</td>\n",
       "      <td>Women</td>\n",
       "      <td>Dresses</td>\n",
       "      <td>Casual Dresses</td>\n",
       "      <td>[{\"name\": \"Sleeve Length\", \"value\": \"Sleeveles...</td>\n",
       "      <td>Cotton</td>\n",
       "      <td>Solid</td>\n",
       "      <td>134</td>\n",
       "      <td>281.24</td>\n",
       "      <td>[\"Everyday Wear\", \"Casual Outings\", \"Office We...</td>\n",
       "      <td>[-0.043403123, 0.004891483, -0.013913552, 0.03...</td>\n",
       "      <td>Women's Sleeveless Red Tank Dress This vibrant...</td>\n",
       "      <td>0.016393</td>\n",
       "    </tr>\n",
       "    <tr>\n",
       "      <th>4</th>\n",
       "      <td>Eyelet Button-Down Vest</td>\n",
       "      <td>Anthropologie</td>\n",
       "      <td>This charming eyelet vest is perfect for addin...</td>\n",
       "      <td>Women</td>\n",
       "      <td>Outerwear</td>\n",
       "      <td>Vests</td>\n",
       "      <td>[{\"name\": \"Length\", \"value\": \"Cropped\"}]</td>\n",
       "      <td>Cotton</td>\n",
       "      <td>Floral</td>\n",
       "      <td>8</td>\n",
       "      <td>212.97</td>\n",
       "      <td>[\"Everyday Wear\", \"Casual Outings\", \"Semi-Form...</td>\n",
       "      <td>[-0.03877546, 0.021961322, -0.019559303, -0.00...</td>\n",
       "      <td>Eyelet Button-Down Vest This charming eyelet v...</td>\n",
       "      <td>0.015625</td>\n",
       "    </tr>\n",
       "  </tbody>\n",
       "</table>\n",
       "</div>"
      ],
      "text/plain": [
       "                                     title          brand  \\\n",
       "0  Women's White Sleeveless Top with Skirt            H&M   \n",
       "1                          Lace Sleeve Top           Zara   \n",
       "2                      Women's Lace Blouse           Zara   \n",
       "3        Women's Sleeveless Red Tank Dress         Diesel   \n",
       "4                  Eyelet Button-Down Vest  Anthropologie   \n",
       "\n",
       "                                         description category subcategory  \\\n",
       "0  This elegant white sleeveless top pairs perfec...    Women        Tops   \n",
       "1  This elegant top features delicate lace sleeve...    Women        Tops   \n",
       "2  Elevate your wardrobe with this elegant lace b...    Women        Tops   \n",
       "3  This vibrant red tank dress features a sleevel...    Women     Dresses   \n",
       "4  This charming eyelet vest is perfect for addin...    Women   Outerwear   \n",
       "\n",
       "     product_type                                         attributes  \\\n",
       "0       Tank Tops  [{\"name\": \"Sleeve Length\", \"value\": \"Sleeveles...   \n",
       "1         Blouses  [{\"name\": \"Sleeve Length\", \"value\": \"Long Slee...   \n",
       "2         Blouses  [{\"name\": \"Sleeve Length\", \"value\": \"3/4 Sleev...   \n",
       "3  Casual Dresses  [{\"name\": \"Sleeve Length\", \"value\": \"Sleeveles...   \n",
       "4           Vests           [{\"name\": \"Length\", \"value\": \"Cropped\"}]   \n",
       "\n",
       "    material pattern   id   price  \\\n",
       "0     Cotton   Solid   78  262.91   \n",
       "1  Polyester   Solid  154  101.15   \n",
       "2  Polyester  Floral   14   88.59   \n",
       "3     Cotton   Solid  134  281.24   \n",
       "4     Cotton  Floral    8  212.97   \n",
       "\n",
       "                                           occasions  \\\n",
       "0  [\"Everyday Wear\", \"Casual Outings\", \"Semi-Form...   \n",
       "1  [\"Everyday Wear\", \"Casual Outings\", \"Office We...   \n",
       "2  [\"Casual Outings\", \"Formal Events\", \"Business ...   \n",
       "3  [\"Everyday Wear\", \"Casual Outings\", \"Office We...   \n",
       "4  [\"Everyday Wear\", \"Casual Outings\", \"Semi-Form...   \n",
       "\n",
       "                                           embedding  \\\n",
       "0  [-0.034495406, -0.029635048, -0.014213263, 0.0...   \n",
       "1  [-0.04646802, -0.0003945035, -0.022669518, 0.0...   \n",
       "2  [-0.054958005, -0.000808206, -0.021859447, 0.0...   \n",
       "3  [-0.043403123, 0.004891483, -0.013913552, 0.03...   \n",
       "4  [-0.03877546, 0.021961322, -0.019559303, -0.00...   \n",
       "\n",
       "                                     searchable_text  _relevance_score  \n",
       "0  Women's White Sleeveless Top with Skirt This e...          0.032002  \n",
       "1  Lace Sleeve Top This elegant top features deli...          0.032002  \n",
       "2  Women's Lace Blouse Elevate your wardrobe with...          0.016393  \n",
       "3  Women's Sleeveless Red Tank Dress This vibrant...          0.016393  \n",
       "4  Eyelet Button-Down Vest This charming eyelet v...          0.015625  "
      ]
     },
     "execution_count": 40,
     "metadata": {},
     "output_type": "execute_result"
    }
   ],
   "source": [
    "text_query = \"dress for wedding guests\"\n",
    "vector_query = openai.embeddings.create(model=\"text-embedding-3-large\", input=text_query).data[0].embedding\n",
    "\n",
    "results = tbl.search(query_type=\"hybrid\") \\\n",
    "    .text(text_query) \\\n",
    "    .vector(vector_query) \\\n",
    "    .limit(5) \\\n",
    "    .to_pandas()\n",
    "\n",
    "results"
   ]
  },
  {
   "cell_type": "markdown",
   "metadata": {},
   "source": [
    "## Implementing Different Search Methods\n",
    "\n",
    "To properly compare different search approaches, we'll implement three search functions:"
   ]
  },
  {
   "cell_type": "code",
   "execution_count": 72,
   "metadata": {},
   "outputs": [],
   "source": [
    "import re\n",
    "\n",
    "def sanitize_query(query):\n",
    "    # Remove characters that break LanceDB FTS queries\n",
    "    return re.sub(r\"['\\\"\\\\]\", \"\", query)\n",
    "\n",
    "def search_semantic(tbl, query, embedding, k=5):\n",
    "    return tbl.search(embedding).limit(k).to_pandas()[\"id\"].tolist()\n",
    "\n",
    "def search_lexical(tbl, query, k=5):\n",
    "    # BM25 over description field\n",
    "    return tbl.search(query=sanitize_query(query), query_type=\"fts\").limit(k).to_pandas()[\"id\"].tolist()\n",
    "\n",
    "def search_hybrid(tbl, query, embedding, k=5):\n",
    "    # Blends vector and BM25\n",
    "    return tbl.search(query_type=\"hybrid\").text(sanitize_query(query)).vector(embedding).limit(k).to_pandas()[\"id\"].tolist()"
   ]
  },
  {
   "cell_type": "markdown",
   "metadata": {},
   "source": [
    "These functions provide a clean interface for our three search methods:\n",
    "\n",
    "Semantic search: Uses only vector embeddings to find similar products\n",
    "Lexical search: Uses only BM25 text matching (similar to what traditional search engines use)\n",
    "Hybrid search: Combines both approaches for potentially better results\n",
    "\n",
    "Note that we sanitize the query text to remove characters that might break the full-text search functionality. This is an important preprocessing step when working with user-generated queries."
   ]
  },
  {
   "cell_type": "markdown",
   "metadata": {},
   "source": [
    "## Evaluation Metrics\n",
    "\n",
    "To objectively compare our search methods, we'll use two standard information retrieval metrics:\n",
    "\n",
    "1. **Recall**: The proportion of relevant items successfully retrieved\n",
    "2. **Mean Reciprocal Rank (MRR)**: How high relevant items appear in our results"
   ]
  },
  {
   "cell_type": "code",
   "execution_count": 75,
   "metadata": {},
   "outputs": [],
   "source": [
    "def recall(retrieved, expected):\n",
    "    return float(len(set(retrieved).intersection(set(expected)))) / len(expected)\n",
    "\n",
    "def mrr(retrieved, expected):\n",
    "    # expected: list of relevant document ids (strings)\n",
    "    for rank, doc_id in enumerate(retrieved, 1):\n",
    "        if doc_id in expected:\n",
    "            return 1.0 / rank\n",
    "    return 0.0\n",
    "\n",
    "def evaluate_search(tbl, queries, expected_ids, embeddings, k=5):\n",
    "    metrics = dict(semantic=[], lexical=[], hybrid=[])\n",
    "    for idx, query in enumerate(tqdm(queries, desc=\"Evaluating...\")):\n",
    "        eid = expected_ids[idx]\n",
    "        emb = embeddings[idx]\n",
    "        metrics[\"semantic\"].append({\n",
    "            \"recall\": recall(search_semantic(tbl, query, emb, k), eid),\n",
    "            \"mrr\": mrr(search_semantic(tbl, query, emb, k), eid)\n",
    "        })\n",
    "        metrics[\"lexical\"].append({\n",
    "            \"recall\": recall(search_lexical(tbl, query, k), eid),\n",
    "            \"mrr\": mrr(search_lexical(tbl, query, k), eid)\n",
    "        })\n",
    "        metrics[\"hybrid\"].append({\n",
    "            \"recall\": recall(search_hybrid(tbl, query, emb, k), eid),\n",
    "            \"mrr\": mrr(search_hybrid(tbl, query, emb, k), eid)\n",
    "        })\n",
    "    return metrics"
   ]
  },
  {
   "cell_type": "markdown",
   "metadata": {},
   "source": [
    "The evaluate_search function runs all three search methods on each query and calculates both metrics. This gives us a nice view of how each method performs across our test set."
   ]
  },
  {
   "cell_type": "markdown",
   "metadata": {},
   "source": [
    "# Prepare evaluation data"
   ]
  },
  {
   "cell_type": "code",
   "execution_count": 76,
   "metadata": {},
   "outputs": [
    {
     "name": "stderr",
     "output_type": "stream",
     "text": [
      "Embedding...: 100%|██████████| 2/2 [00:03<00:00,  1.85s/it]\n"
     ]
    }
   ],
   "source": [
    "queries = [item[\"query\"] for item in synthetic_queries]\n",
    "expected_ids = [[str(item[\"id\"])] for item in synthetic_queries]\n",
    "query_embeddings = batch_embed(queries)  # for fair test, encode queries w/same embedding model"
   ]
  },
  {
   "cell_type": "markdown",
   "metadata": {},
   "source": [
    "## Run the Experiment\n",
    "\n",
    "Now we can run the experiments. The code does the following:\n",
    "\n",
    "1. Tests each search method with different numbers of results (k=3, 5, and 10)\n",
    "2. Aggregates the metrics by calculating the mean recall and MRR for each method\n",
    "3. Organizes the results in a DataFrame for easy comparison"
   ]
  },
  {
   "cell_type": "code",
   "execution_count": 78,
   "metadata": {},
   "outputs": [
    {
     "name": "stderr",
     "output_type": "stream",
     "text": [
      "Evaluating...: 100%|██████████| 191/191 [00:03<00:00, 48.92it/s]\n",
      "Evaluating...: 100%|██████████| 191/191 [00:03<00:00, 52.78it/s]\n",
      "Evaluating...: 100%|██████████| 191/191 [00:03<00:00, 51.79it/s]"
     ]
    },
    {
     "name": "stdout",
     "output_type": "stream",
     "text": [
      "    k    method    recall       mrr\n",
      "0   3  semantic  0.905759  0.815881\n",
      "1   3   lexical  0.937173  0.815009\n",
      "2   3    hybrid  0.916230  0.848168\n",
      "3   5  semantic  0.937173  0.822949\n",
      "4   5   lexical  0.968586  0.822339\n",
      "5   5    hybrid  0.947644  0.860297\n",
      "6  10  semantic  0.973822  0.827988\n",
      "7  10   lexical  0.984293  0.824447\n",
      "8  10    hybrid  0.989529  0.868476\n"
     ]
    },
    {
     "name": "stderr",
     "output_type": "stream",
     "text": [
      "\n"
     ]
    }
   ],
   "source": [
    "k_values = [3, 5, 10]\n",
    "results = []\n",
    "\n",
    "for k in k_values:\n",
    "    metrics = evaluate_search(tbl, queries, expected_ids, query_embeddings, k=k)\n",
    "    import numpy as np\n",
    "    def aggregate_metrics(metrics):\n",
    "        return {m: {\"recall\": np.mean([x[\"recall\"] for x in v]),\n",
    "                    \"mrr\": np.mean([x[\"mrr\"] for x in v])} for m, v in metrics.items()}\n",
    "    summary = aggregate_metrics(metrics)\n",
    "    for method, vals in summary.items():\n",
    "        results.append({\"k\": k, \"method\": method, \"recall\": vals[\"recall\"], \"mrr\": vals[\"mrr\"]})\n",
    "\n",
    "results_df = pd.DataFrame(results)\n",
    "print(results_df)"
   ]
  },
  {
   "cell_type": "markdown",
   "metadata": {},
   "source": [
    "## Conclusion\n",
    "\n",
    "Our evaluation demonstrates that hybrid search consistently outperforms both pure vector search and lexical search across all tested k values. Key findings:\n",
    "\n",
    "- Hybrid search achieves the highest MRR scores, showing that combining semantic understanding with keyword matching places relevant results higher in the result list.\n",
    "- Lexical search performs surprisingly well on recall, reminding us that traditional keyword approaches remain valuable for explicit queries.\n",
    "- Vector search provides a solid baseline but benefits significantly from the precision that text matching adds.\n",
    "\n",
    "As k increases, recall improves across all methods, but hybrid search maintains its advantage in ranking relevant items higher. These results highlight that the best search approach depends on your specific data and user query patterns. For product search where users combine concepts (\"casual\") with attributes (\"red\"), hybrid search offers clear advantages.\n",
    "\n",
    "I hope this analysis helps you make informed decisions about the best approach for your own use case. Remember to:\n",
    "\n",
    "1. Test multiple retrieval strategies on your specific data\n",
    "2. Measure performance with appropriate metrics\n",
    "3. Consider the trade-offs between implementation complexity and performance gains\n",
    "\n",
    "In the next cookbook, we'll be looking at evaluating tool calling!"
   ]
  }
 ],
 "metadata": {
  "kernelspec": {
   "display_name": "Python 3",
   "language": "python",
   "name": "python3"
  },
  "language_info": {
   "codemirror_mode": {
    "name": "ipython",
    "version": 3
   },
   "file_extension": ".py",
   "mimetype": "text/x-python",
   "name": "python",
   "nbconvert_exporter": "python",
   "pygments_lexer": "ipython3",
   "version": "3.11.6"
  }
 },
 "nbformat": 4,
 "nbformat_minor": 2
}
