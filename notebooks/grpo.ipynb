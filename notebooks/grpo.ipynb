{
 "cells": [
  {
   "cell_type": "markdown",
   "metadata": {},
   "source": [
    "# Finetuning Agents with GRPO\n",
    "\n",
    "In this cookbook, we'll explore how to enhance the performance of agentic systems by fine-tuning them with Generalized Reinforcement from Preference Optimization (GRPO). Specifically, we'll focus on query rewriting - a critical component in retrieval systems that transforms vague user questions into more effective search queries.\n",
    "\n",
    "What makes this approach particularly exciting is that we'll be using a smaller model - Qwen 1.7B - rather than relying on massive models like GPT-4. This demonstrates how GRPO can unlock impressive capabilities from more efficient, cost-effective models that can run locally or on modest hardware.\n",
    "\n",
    "GRPO, as implemented in DSPy, is a powerful technique that generalizes popular online reinforcement learning algorithms, enabling more effective learning from interactions. By applying GRPO to query rewriting with smaller models, we can systematically improve retrieval performance without the computational and financial costs of larger models.\n",
    "\n",
    "In this notebook, we'll walk through:\n",
    "1. Setting up a DSPy environment with the Qwen 1.7B model\n",
    "2. Creating a simple query rewriting agent for retrieval\n",
    "3. Defining a reward function based on retrieval success\n",
    "4. Fine-tuning the query rewriter with GRPO\n",
    "5. Evaluating the performance improvements\n",
    "\n",
    "By the end, you'll understand how to apply GRPO to optimize query rewriting using smaller models, achieving better performance without relying on massive models or extensive manual prompt engineering."
   ]
  },
  {
   "cell_type": "markdown",
   "metadata": {},
   "source": [
    "## Requirements\n",
    "\n",
    "Before we begin, ensure you have the necessary packages. If you're running this in an environment where `dspy` and its dependencies are not yet installed, you might need to install them. For this notebook, the key libraries are `dspy` and potentially others for data handling or specific model interactions."
   ]
  },
  {
   "cell_type": "code",
   "execution_count": 9,
   "metadata": {},
   "outputs": [
    {
     "name": "stderr",
     "output_type": "stream",
     "text": [
      "/opt/homebrew/Cellar/python@3.12/3.12.10/Frameworks/Python.framework/Versions/3.12/lib/python3.12/pty.py:95: RuntimeWarning: os.fork() was called. os.fork() is incompatible with multithreaded code, and JAX is multithreaded, so this will likely lead to a deadlock.\n",
      "  pid, fd = os.forkpty()\n"
     ]
    },
    {
     "name": "stdout",
     "output_type": "stream",
     "text": [
      "Collecting git+https://github.com/Ziems/arbor.git\n",
      "  Cloning https://github.com/Ziems/arbor.git to /private/var/folders/zy/wms_7q0j39x_rvs746kfr1tr0000gn/T/pip-req-build-g1gwfrt3\n",
      "  Running command git clone --filter=blob:none --quiet https://github.com/Ziems/arbor.git /private/var/folders/zy/wms_7q0j39x_rvs746kfr1tr0000gn/T/pip-req-build-g1gwfrt3\n",
      "  Resolved https://github.com/Ziems/arbor.git to commit 2f11573e60fe599c79bc768c37b5160a46303932\n",
      "  Installing build dependencies ... \u001b[?25ldone\n",
      "\u001b[?25h  Getting requirements to build wheel ... \u001b[?25ldone\n",
      "\u001b[?25h  Preparing metadata (pyproject.toml) ... \u001b[?25ldone\n",
      "\u001b[?25hCollecting git+https://github.com/stanfordnlp/dspy.git@refs/pull/8171/head\n",
      "  Cloning https://github.com/stanfordnlp/dspy.git (to revision refs/pull/8171/head) to /private/var/folders/zy/wms_7q0j39x_rvs746kfr1tr0000gn/T/pip-req-build-g7wtci0j\n",
      "  Running command git clone --filter=blob:none --quiet https://github.com/stanfordnlp/dspy.git /private/var/folders/zy/wms_7q0j39x_rvs746kfr1tr0000gn/T/pip-req-build-g7wtci0j\n",
      "\u001b[33m  WARNING: Did not find branch or tag 'refs/pull/8171/head', assuming revision or ref.\u001b[0m\u001b[33m\n",
      "\u001b[0m  Running command git fetch -q https://github.com/stanfordnlp/dspy.git refs/pull/8171/head\n",
      "  Running command git checkout -q c61e8c1ae6a43a35f1c61842e508647d027911b6\n",
      "  Resolved https://github.com/stanfordnlp/dspy.git to commit c61e8c1ae6a43a35f1c61842e508647d027911b6\n",
      "  Installing build dependencies ... \u001b[?25ldone\n",
      "\u001b[?25h  Getting requirements to build wheel ... \u001b[?25ldone\n",
      "\u001b[?25h  Preparing metadata (pyproject.toml) ... \u001b[?25ldone\n",
      "\u001b[?25hRequirement already satisfied: dspy in /Users/tahmidtapadar/Documents/cookbooks/venv312/lib/python3.12/site-packages (2.6.23)\n",
      "Requirement already satisfied: bm25s in /Users/tahmidtapadar/Documents/cookbooks/venv312/lib/python3.12/site-packages (0.2.12)\n",
      "Requirement already satisfied: PyStemmer in /Users/tahmidtapadar/Documents/cookbooks/venv312/lib/python3.12/site-packages (2.2.0.3)\n",
      "Requirement already satisfied: backoff>=2.2 in /Users/tahmidtapadar/Documents/cookbooks/venv312/lib/python3.12/site-packages (from dspy==2.6.23) (2.2.1)\n",
      "Requirement already satisfied: joblib~=1.3 in /Users/tahmidtapadar/Documents/cookbooks/venv312/lib/python3.12/site-packages (from dspy==2.6.23) (1.5.0)\n",
      "Requirement already satisfied: openai>=0.28.1 in /Users/tahmidtapadar/Documents/cookbooks/venv312/lib/python3.12/site-packages (from dspy==2.6.23) (1.75.0)\n",
      "Requirement already satisfied: pandas>=2.1.1 in /Users/tahmidtapadar/Documents/cookbooks/venv312/lib/python3.12/site-packages (from dspy==2.6.23) (2.2.3)\n",
      "Requirement already satisfied: regex>=2023.10.3 in /Users/tahmidtapadar/Documents/cookbooks/venv312/lib/python3.12/site-packages (from dspy==2.6.23) (2024.11.6)\n",
      "Requirement already satisfied: ujson>=5.8.0 in /Users/tahmidtapadar/Documents/cookbooks/venv312/lib/python3.12/site-packages (from dspy==2.6.23) (5.10.0)\n",
      "Requirement already satisfied: tqdm>=4.66.1 in /Users/tahmidtapadar/Documents/cookbooks/venv312/lib/python3.12/site-packages (from dspy==2.6.23) (4.67.1)\n",
      "Requirement already satisfied: datasets>=2.14.6 in /Users/tahmidtapadar/Documents/cookbooks/venv312/lib/python3.12/site-packages (from dspy==2.6.23) (3.5.1)\n",
      "Requirement already satisfied: requests>=2.31.0 in /Users/tahmidtapadar/Documents/cookbooks/venv312/lib/python3.12/site-packages (from dspy==2.6.23) (2.32.3)\n",
      "Requirement already satisfied: optuna>=3.4.0 in /Users/tahmidtapadar/Documents/cookbooks/venv312/lib/python3.12/site-packages (from dspy==2.6.23) (4.3.0)\n",
      "Requirement already satisfied: pydantic>=2.0 in /Users/tahmidtapadar/Documents/cookbooks/venv312/lib/python3.12/site-packages (from dspy==2.6.23) (2.11.4)\n",
      "Requirement already satisfied: magicattr>=0.1.6 in /Users/tahmidtapadar/Documents/cookbooks/venv312/lib/python3.12/site-packages (from dspy==2.6.23) (0.1.6)\n",
      "Requirement already satisfied: litellm>=1.60.3 in /Users/tahmidtapadar/Documents/cookbooks/venv312/lib/python3.12/site-packages (from dspy==2.6.23) (1.68.0)\n",
      "Requirement already satisfied: diskcache>=5.6.0 in /Users/tahmidtapadar/Documents/cookbooks/venv312/lib/python3.12/site-packages (from dspy==2.6.23) (5.6.3)\n",
      "Requirement already satisfied: json-repair>=0.30.0 in /Users/tahmidtapadar/Documents/cookbooks/venv312/lib/python3.12/site-packages (from dspy==2.6.23) (0.44.1)\n",
      "Requirement already satisfied: tenacity>=8.2.3 in /Users/tahmidtapadar/Documents/cookbooks/venv312/lib/python3.12/site-packages (from dspy==2.6.23) (9.1.2)\n",
      "Requirement already satisfied: anyio in /Users/tahmidtapadar/Documents/cookbooks/venv312/lib/python3.12/site-packages (from dspy==2.6.23) (4.9.0)\n",
      "Requirement already satisfied: asyncer==0.0.8 in /Users/tahmidtapadar/Documents/cookbooks/venv312/lib/python3.12/site-packages (from dspy==2.6.23) (0.0.8)\n",
      "Requirement already satisfied: cachetools>=5.5.0 in /Users/tahmidtapadar/Documents/cookbooks/venv312/lib/python3.12/site-packages (from dspy==2.6.23) (5.5.2)\n",
      "Requirement already satisfied: cloudpickle>=3.0.0 in /Users/tahmidtapadar/Documents/cookbooks/venv312/lib/python3.12/site-packages (from dspy==2.6.23) (3.1.1)\n",
      "Requirement already satisfied: rich>=13.7.1 in /Users/tahmidtapadar/Documents/cookbooks/venv312/lib/python3.12/site-packages (from dspy==2.6.23) (14.0.0)\n",
      "Requirement already satisfied: numpy>=1.26.0 in /Users/tahmidtapadar/Documents/cookbooks/venv312/lib/python3.12/site-packages (from dspy==2.6.23) (2.2.5)\n",
      "Requirement already satisfied: fastapi in /Users/tahmidtapadar/Documents/cookbooks/venv312/lib/python3.12/site-packages (from arbor-ai==0.1.7) (0.115.12)\n",
      "Requirement already satisfied: uvicorn in /Users/tahmidtapadar/Documents/cookbooks/venv312/lib/python3.12/site-packages (from arbor-ai==0.1.7) (0.34.2)\n",
      "Requirement already satisfied: click in /Users/tahmidtapadar/Documents/cookbooks/venv312/lib/python3.12/site-packages (from arbor-ai==0.1.7) (8.1.8)\n",
      "Requirement already satisfied: python-multipart in /Users/tahmidtapadar/Documents/cookbooks/venv312/lib/python3.12/site-packages (from arbor-ai==0.1.7) (0.0.20)\n",
      "Requirement already satisfied: pydantic-settings in /Users/tahmidtapadar/Documents/cookbooks/venv312/lib/python3.12/site-packages (from arbor-ai==0.1.7) (2.9.1)\n",
      "Requirement already satisfied: torch in /Users/tahmidtapadar/Documents/cookbooks/venv312/lib/python3.12/site-packages (from arbor-ai==0.1.7) (2.7.0)\n",
      "Requirement already satisfied: transformers in /Users/tahmidtapadar/Documents/cookbooks/venv312/lib/python3.12/site-packages (from arbor-ai==0.1.7) (4.51.3)\n",
      "Requirement already satisfied: trl in /Users/tahmidtapadar/Documents/cookbooks/venv312/lib/python3.12/site-packages (from arbor-ai==0.1.7) (0.17.0)\n",
      "Requirement already satisfied: peft in /Users/tahmidtapadar/Documents/cookbooks/venv312/lib/python3.12/site-packages (from arbor-ai==0.1.7) (0.15.2)\n",
      "Requirement already satisfied: ray>=2.9 in /Users/tahmidtapadar/Documents/cookbooks/venv312/lib/python3.12/site-packages (from arbor-ai==0.1.7) (2.45.0)\n",
      "Requirement already satisfied: setuptools<77.0.0,>=76.0.0 in /Users/tahmidtapadar/Documents/cookbooks/venv312/lib/python3.12/site-packages (from arbor-ai==0.1.7) (76.1.0)\n",
      "Requirement already satisfied: pyzmq>=26.4.0 in /Users/tahmidtapadar/Documents/cookbooks/venv312/lib/python3.12/site-packages (from arbor-ai==0.1.7) (26.4.0)\n",
      "Requirement already satisfied: pyyaml>=6.0.2 in /Users/tahmidtapadar/Documents/cookbooks/venv312/lib/python3.12/site-packages (from arbor-ai==0.1.7) (6.0.2)\n",
      "Requirement already satisfied: sglang>=0.4.6.post1 in /Users/tahmidtapadar/Documents/cookbooks/venv312/lib/python3.12/site-packages (from sglang[all]>=0.4.6.post1->arbor-ai==0.1.7) (0.4.6.post2)\n",
      "Requirement already satisfied: sglang-router in /Users/tahmidtapadar/Documents/cookbooks/venv312/lib/python3.12/site-packages (from arbor-ai==0.1.7) (0.1.4)\n",
      "Requirement already satisfied: idna>=2.8 in /Users/tahmidtapadar/Documents/cookbooks/venv312/lib/python3.12/site-packages (from anyio->dspy==2.6.23) (3.10)\n",
      "Requirement already satisfied: sniffio>=1.1 in /Users/tahmidtapadar/Documents/cookbooks/venv312/lib/python3.12/site-packages (from anyio->dspy==2.6.23) (1.3.1)\n",
      "Requirement already satisfied: typing_extensions>=4.5 in /Users/tahmidtapadar/Documents/cookbooks/venv312/lib/python3.12/site-packages (from anyio->dspy==2.6.23) (4.13.2)\n",
      "Requirement already satisfied: scipy in /Users/tahmidtapadar/Documents/cookbooks/venv312/lib/python3.12/site-packages (from bm25s) (1.15.2)\n",
      "Requirement already satisfied: filelock in /Users/tahmidtapadar/Documents/cookbooks/venv312/lib/python3.12/site-packages (from datasets>=2.14.6->dspy==2.6.23) (3.18.0)\n",
      "Requirement already satisfied: pyarrow>=15.0.0 in /Users/tahmidtapadar/Documents/cookbooks/venv312/lib/python3.12/site-packages (from datasets>=2.14.6->dspy==2.6.23) (20.0.0)\n",
      "Requirement already satisfied: dill<0.3.9,>=0.3.0 in /Users/tahmidtapadar/Documents/cookbooks/venv312/lib/python3.12/site-packages (from datasets>=2.14.6->dspy==2.6.23) (0.3.8)\n",
      "Requirement already satisfied: xxhash in /Users/tahmidtapadar/Documents/cookbooks/venv312/lib/python3.12/site-packages (from datasets>=2.14.6->dspy==2.6.23) (3.5.0)\n",
      "Requirement already satisfied: multiprocess<0.70.17 in /Users/tahmidtapadar/Documents/cookbooks/venv312/lib/python3.12/site-packages (from datasets>=2.14.6->dspy==2.6.23) (0.70.16)\n",
      "Requirement already satisfied: fsspec<=2025.3.0,>=2023.1.0 in /Users/tahmidtapadar/Documents/cookbooks/venv312/lib/python3.12/site-packages (from fsspec[http]<=2025.3.0,>=2023.1.0->datasets>=2.14.6->dspy==2.6.23) (2025.3.0)\n",
      "Requirement already satisfied: aiohttp in /Users/tahmidtapadar/Documents/cookbooks/venv312/lib/python3.12/site-packages (from datasets>=2.14.6->dspy==2.6.23) (3.11.18)\n",
      "Requirement already satisfied: huggingface-hub>=0.24.0 in /Users/tahmidtapadar/Documents/cookbooks/venv312/lib/python3.12/site-packages (from datasets>=2.14.6->dspy==2.6.23) (0.30.2)\n",
      "Requirement already satisfied: packaging in /Users/tahmidtapadar/Documents/cookbooks/venv312/lib/python3.12/site-packages (from datasets>=2.14.6->dspy==2.6.23) (25.0)\n",
      "Requirement already satisfied: aiohappyeyeballs>=2.3.0 in /Users/tahmidtapadar/Documents/cookbooks/venv312/lib/python3.12/site-packages (from aiohttp->datasets>=2.14.6->dspy==2.6.23) (2.6.1)\n",
      "Requirement already satisfied: aiosignal>=1.1.2 in /Users/tahmidtapadar/Documents/cookbooks/venv312/lib/python3.12/site-packages (from aiohttp->datasets>=2.14.6->dspy==2.6.23) (1.3.2)\n",
      "Requirement already satisfied: attrs>=17.3.0 in /Users/tahmidtapadar/Documents/cookbooks/venv312/lib/python3.12/site-packages (from aiohttp->datasets>=2.14.6->dspy==2.6.23) (25.3.0)\n",
      "Requirement already satisfied: frozenlist>=1.1.1 in /Users/tahmidtapadar/Documents/cookbooks/venv312/lib/python3.12/site-packages (from aiohttp->datasets>=2.14.6->dspy==2.6.23) (1.6.0)\n",
      "Requirement already satisfied: multidict<7.0,>=4.5 in /Users/tahmidtapadar/Documents/cookbooks/venv312/lib/python3.12/site-packages (from aiohttp->datasets>=2.14.6->dspy==2.6.23) (6.4.3)\n",
      "Requirement already satisfied: propcache>=0.2.0 in /Users/tahmidtapadar/Documents/cookbooks/venv312/lib/python3.12/site-packages (from aiohttp->datasets>=2.14.6->dspy==2.6.23) (0.3.1)\n",
      "Requirement already satisfied: yarl<2.0,>=1.17.0 in /Users/tahmidtapadar/Documents/cookbooks/venv312/lib/python3.12/site-packages (from aiohttp->datasets>=2.14.6->dspy==2.6.23) (1.20.0)\n",
      "Requirement already satisfied: httpx>=0.23.0 in /Users/tahmidtapadar/Documents/cookbooks/venv312/lib/python3.12/site-packages (from litellm>=1.60.3->dspy==2.6.23) (0.28.1)\n",
      "Requirement already satisfied: importlib-metadata>=6.8.0 in /Users/tahmidtapadar/Documents/cookbooks/venv312/lib/python3.12/site-packages (from litellm>=1.60.3->dspy==2.6.23) (8.7.0)\n",
      "Requirement already satisfied: jinja2<4.0.0,>=3.1.2 in /Users/tahmidtapadar/Documents/cookbooks/venv312/lib/python3.12/site-packages (from litellm>=1.60.3->dspy==2.6.23) (3.1.6)\n",
      "Requirement already satisfied: jsonschema<5.0.0,>=4.22.0 in /Users/tahmidtapadar/Documents/cookbooks/venv312/lib/python3.12/site-packages (from litellm>=1.60.3->dspy==2.6.23) (4.23.0)\n",
      "Requirement already satisfied: python-dotenv>=0.2.0 in /Users/tahmidtapadar/Documents/cookbooks/venv312/lib/python3.12/site-packages (from litellm>=1.60.3->dspy==2.6.23) (1.1.0)\n",
      "Requirement already satisfied: tiktoken>=0.7.0 in /Users/tahmidtapadar/Documents/cookbooks/venv312/lib/python3.12/site-packages (from litellm>=1.60.3->dspy==2.6.23) (0.9.0)\n",
      "Requirement already satisfied: tokenizers in /Users/tahmidtapadar/Documents/cookbooks/venv312/lib/python3.12/site-packages (from litellm>=1.60.3->dspy==2.6.23) (0.21.1)\n",
      "Requirement already satisfied: MarkupSafe>=2.0 in /Users/tahmidtapadar/Documents/cookbooks/venv312/lib/python3.12/site-packages (from jinja2<4.0.0,>=3.1.2->litellm>=1.60.3->dspy==2.6.23) (3.0.2)\n",
      "Requirement already satisfied: jsonschema-specifications>=2023.03.6 in /Users/tahmidtapadar/Documents/cookbooks/venv312/lib/python3.12/site-packages (from jsonschema<5.0.0,>=4.22.0->litellm>=1.60.3->dspy==2.6.23) (2025.4.1)\n",
      "Requirement already satisfied: referencing>=0.28.4 in /Users/tahmidtapadar/Documents/cookbooks/venv312/lib/python3.12/site-packages (from jsonschema<5.0.0,>=4.22.0->litellm>=1.60.3->dspy==2.6.23) (0.36.2)\n",
      "Requirement already satisfied: rpds-py>=0.7.1 in /Users/tahmidtapadar/Documents/cookbooks/venv312/lib/python3.12/site-packages (from jsonschema<5.0.0,>=4.22.0->litellm>=1.60.3->dspy==2.6.23) (0.24.0)\n",
      "Requirement already satisfied: distro<2,>=1.7.0 in /Users/tahmidtapadar/Documents/cookbooks/venv312/lib/python3.12/site-packages (from openai>=0.28.1->dspy==2.6.23) (1.9.0)\n",
      "Requirement already satisfied: jiter<1,>=0.4.0 in /Users/tahmidtapadar/Documents/cookbooks/venv312/lib/python3.12/site-packages (from openai>=0.28.1->dspy==2.6.23) (0.9.0)\n",
      "Requirement already satisfied: certifi in /Users/tahmidtapadar/Documents/cookbooks/venv312/lib/python3.12/site-packages (from httpx>=0.23.0->litellm>=1.60.3->dspy==2.6.23) (2025.4.26)\n",
      "Requirement already satisfied: httpcore==1.* in /Users/tahmidtapadar/Documents/cookbooks/venv312/lib/python3.12/site-packages (from httpx>=0.23.0->litellm>=1.60.3->dspy==2.6.23) (1.0.9)\n",
      "Requirement already satisfied: h11>=0.16 in /Users/tahmidtapadar/Documents/cookbooks/venv312/lib/python3.12/site-packages (from httpcore==1.*->httpx>=0.23.0->litellm>=1.60.3->dspy==2.6.23) (0.16.0)\n",
      "Requirement already satisfied: annotated-types>=0.6.0 in /Users/tahmidtapadar/Documents/cookbooks/venv312/lib/python3.12/site-packages (from pydantic>=2.0->dspy==2.6.23) (0.7.0)\n",
      "Requirement already satisfied: pydantic-core==2.33.2 in /Users/tahmidtapadar/Documents/cookbooks/venv312/lib/python3.12/site-packages (from pydantic>=2.0->dspy==2.6.23) (2.33.2)\n",
      "Requirement already satisfied: typing-inspection>=0.4.0 in /Users/tahmidtapadar/Documents/cookbooks/venv312/lib/python3.12/site-packages (from pydantic>=2.0->dspy==2.6.23) (0.4.0)\n",
      "Requirement already satisfied: zipp>=3.20 in /Users/tahmidtapadar/Documents/cookbooks/venv312/lib/python3.12/site-packages (from importlib-metadata>=6.8.0->litellm>=1.60.3->dspy==2.6.23) (3.21.0)\n",
      "Requirement already satisfied: alembic>=1.5.0 in /Users/tahmidtapadar/Documents/cookbooks/venv312/lib/python3.12/site-packages (from optuna>=3.4.0->dspy==2.6.23) (1.15.2)\n",
      "Requirement already satisfied: colorlog in /Users/tahmidtapadar/Documents/cookbooks/venv312/lib/python3.12/site-packages (from optuna>=3.4.0->dspy==2.6.23) (6.9.0)\n",
      "Requirement already satisfied: sqlalchemy>=1.4.2 in /Users/tahmidtapadar/Documents/cookbooks/venv312/lib/python3.12/site-packages (from optuna>=3.4.0->dspy==2.6.23) (2.0.40)\n",
      "Requirement already satisfied: Mako in /Users/tahmidtapadar/Documents/cookbooks/venv312/lib/python3.12/site-packages (from alembic>=1.5.0->optuna>=3.4.0->dspy==2.6.23) (1.3.10)\n",
      "Requirement already satisfied: python-dateutil>=2.8.2 in /Users/tahmidtapadar/Documents/cookbooks/venv312/lib/python3.12/site-packages (from pandas>=2.1.1->dspy==2.6.23) (2.9.0.post0)\n",
      "Requirement already satisfied: pytz>=2020.1 in /Users/tahmidtapadar/Documents/cookbooks/venv312/lib/python3.12/site-packages (from pandas>=2.1.1->dspy==2.6.23) (2025.2)\n",
      "Requirement already satisfied: tzdata>=2022.7 in /Users/tahmidtapadar/Documents/cookbooks/venv312/lib/python3.12/site-packages (from pandas>=2.1.1->dspy==2.6.23) (2025.2)\n",
      "Requirement already satisfied: six>=1.5 in /Users/tahmidtapadar/Documents/cookbooks/venv312/lib/python3.12/site-packages (from python-dateutil>=2.8.2->pandas>=2.1.1->dspy==2.6.23) (1.17.0)\n",
      "Requirement already satisfied: msgpack<2.0.0,>=1.0.0 in /Users/tahmidtapadar/Documents/cookbooks/venv312/lib/python3.12/site-packages (from ray>=2.9->arbor-ai==0.1.7) (1.1.0)\n",
      "Requirement already satisfied: protobuf!=3.19.5,>=3.15.3 in /Users/tahmidtapadar/Documents/cookbooks/venv312/lib/python3.12/site-packages (from ray>=2.9->arbor-ai==0.1.7) (6.30.2)\n",
      "Requirement already satisfied: charset-normalizer<4,>=2 in /Users/tahmidtapadar/Documents/cookbooks/venv312/lib/python3.12/site-packages (from requests>=2.31.0->dspy==2.6.23) (3.4.2)\n",
      "Requirement already satisfied: urllib3<3,>=1.21.1 in /Users/tahmidtapadar/Documents/cookbooks/venv312/lib/python3.12/site-packages (from requests>=2.31.0->dspy==2.6.23) (2.4.0)\n",
      "Requirement already satisfied: markdown-it-py>=2.2.0 in /Users/tahmidtapadar/Documents/cookbooks/venv312/lib/python3.12/site-packages (from rich>=13.7.1->dspy==2.6.23) (3.0.0)\n",
      "Requirement already satisfied: pygments<3.0.0,>=2.13.0 in /Users/tahmidtapadar/Documents/cookbooks/venv312/lib/python3.12/site-packages (from rich>=13.7.1->dspy==2.6.23) (2.19.1)\n",
      "Requirement already satisfied: mdurl~=0.1 in /Users/tahmidtapadar/Documents/cookbooks/venv312/lib/python3.12/site-packages (from markdown-it-py>=2.2.0->rich>=13.7.1->dspy==2.6.23) (0.1.2)\n",
      "Requirement already satisfied: IPython in /Users/tahmidtapadar/Documents/cookbooks/venv312/lib/python3.12/site-packages (from sglang>=0.4.6.post1->sglang[all]>=0.4.6.post1->arbor-ai==0.1.7) (9.2.0)\n",
      "Requirement already satisfied: setproctitle in /Users/tahmidtapadar/Documents/cookbooks/venv312/lib/python3.12/site-packages (from sglang>=0.4.6.post1->sglang[all]>=0.4.6.post1->arbor-ai==0.1.7) (1.3.6)\n",
      "Requirement already satisfied: starlette<0.47.0,>=0.40.0 in /Users/tahmidtapadar/Documents/cookbooks/venv312/lib/python3.12/site-packages (from fastapi->arbor-ai==0.1.7) (0.46.2)\n",
      "Requirement already satisfied: decorator in /Users/tahmidtapadar/Documents/cookbooks/venv312/lib/python3.12/site-packages (from IPython->sglang>=0.4.6.post1->sglang[all]>=0.4.6.post1->arbor-ai==0.1.7) (5.2.1)\n",
      "Requirement already satisfied: ipython-pygments-lexers in /Users/tahmidtapadar/Documents/cookbooks/venv312/lib/python3.12/site-packages (from IPython->sglang>=0.4.6.post1->sglang[all]>=0.4.6.post1->arbor-ai==0.1.7) (1.1.1)\n",
      "Requirement already satisfied: jedi>=0.16 in /Users/tahmidtapadar/Documents/cookbooks/venv312/lib/python3.12/site-packages (from IPython->sglang>=0.4.6.post1->sglang[all]>=0.4.6.post1->arbor-ai==0.1.7) (0.19.2)\n",
      "Requirement already satisfied: matplotlib-inline in /Users/tahmidtapadar/Documents/cookbooks/venv312/lib/python3.12/site-packages (from IPython->sglang>=0.4.6.post1->sglang[all]>=0.4.6.post1->arbor-ai==0.1.7) (0.1.7)\n",
      "Requirement already satisfied: pexpect>4.3 in /Users/tahmidtapadar/Documents/cookbooks/venv312/lib/python3.12/site-packages (from IPython->sglang>=0.4.6.post1->sglang[all]>=0.4.6.post1->arbor-ai==0.1.7) (4.9.0)\n",
      "Requirement already satisfied: prompt_toolkit<3.1.0,>=3.0.41 in /Users/tahmidtapadar/Documents/cookbooks/venv312/lib/python3.12/site-packages (from IPython->sglang>=0.4.6.post1->sglang[all]>=0.4.6.post1->arbor-ai==0.1.7) (3.0.51)\n",
      "Requirement already satisfied: stack_data in /Users/tahmidtapadar/Documents/cookbooks/venv312/lib/python3.12/site-packages (from IPython->sglang>=0.4.6.post1->sglang[all]>=0.4.6.post1->arbor-ai==0.1.7) (0.6.3)\n",
      "Requirement already satisfied: traitlets>=5.13.0 in /Users/tahmidtapadar/Documents/cookbooks/venv312/lib/python3.12/site-packages (from IPython->sglang>=0.4.6.post1->sglang[all]>=0.4.6.post1->arbor-ai==0.1.7) (5.14.3)\n",
      "Requirement already satisfied: wcwidth in /Users/tahmidtapadar/Documents/cookbooks/venv312/lib/python3.12/site-packages (from prompt_toolkit<3.1.0,>=3.0.41->IPython->sglang>=0.4.6.post1->sglang[all]>=0.4.6.post1->arbor-ai==0.1.7) (0.2.13)\n",
      "Requirement already satisfied: parso<0.9.0,>=0.8.4 in /Users/tahmidtapadar/Documents/cookbooks/venv312/lib/python3.12/site-packages (from jedi>=0.16->IPython->sglang>=0.4.6.post1->sglang[all]>=0.4.6.post1->arbor-ai==0.1.7) (0.8.4)\n",
      "Requirement already satisfied: ptyprocess>=0.5 in /Users/tahmidtapadar/Documents/cookbooks/venv312/lib/python3.12/site-packages (from pexpect>4.3->IPython->sglang>=0.4.6.post1->sglang[all]>=0.4.6.post1->arbor-ai==0.1.7) (0.7.0)\n",
      "Requirement already satisfied: psutil in /Users/tahmidtapadar/Documents/cookbooks/venv312/lib/python3.12/site-packages (from peft->arbor-ai==0.1.7) (7.0.0)\n",
      "Requirement already satisfied: accelerate>=0.21.0 in /Users/tahmidtapadar/Documents/cookbooks/venv312/lib/python3.12/site-packages (from peft->arbor-ai==0.1.7) (1.6.0)\n",
      "Requirement already satisfied: safetensors in /Users/tahmidtapadar/Documents/cookbooks/venv312/lib/python3.12/site-packages (from peft->arbor-ai==0.1.7) (0.5.3)\n",
      "Requirement already satisfied: sympy>=1.13.3 in /Users/tahmidtapadar/Documents/cookbooks/venv312/lib/python3.12/site-packages (from torch->arbor-ai==0.1.7) (1.14.0)\n",
      "Requirement already satisfied: networkx in /Users/tahmidtapadar/Documents/cookbooks/venv312/lib/python3.12/site-packages (from torch->arbor-ai==0.1.7) (3.4.2)\n",
      "Requirement already satisfied: mpmath<1.4,>=1.1.0 in /Users/tahmidtapadar/Documents/cookbooks/venv312/lib/python3.12/site-packages (from sympy>=1.13.3->torch->arbor-ai==0.1.7) (1.3.0)\n",
      "Collecting anthropic>=0.20.0 (from sglang>=0.4.6.post1->sglang[all]>=0.4.6.post1->arbor-ai==0.1.7)\n",
      "  Downloading anthropic-0.50.0-py3-none-any.whl.metadata (25 kB)\n",
      "INFO: pip is looking at multiple versions of sglang[srt] to determine which version is compatible with other requirements. This could take a while.\n",
      "  Using cached anthropic-0.49.0-py3-none-any.whl.metadata (24 kB)\n",
      "Collecting sglang-router (from arbor-ai==0.1.7)\n",
      "  Using cached sglang_router-0.1.4-cp312-cp312-macosx_14_0_arm64.whl\n",
      "Collecting setproctitle (from sglang>=0.4.6.post1->sglang[all]>=0.4.6.post1->arbor-ai==0.1.7)\n",
      "  Using cached setproctitle-1.3.6-cp312-cp312-macosx_11_0_arm64.whl.metadata (10 kB)\n",
      "Collecting scipy (from bm25s)\n",
      "  Using cached scipy-1.15.2-cp312-cp312-macosx_14_0_arm64.whl.metadata (61 kB)\n",
      "Collecting python-multipart (from arbor-ai==0.1.7)\n",
      "  Using cached python_multipart-0.0.20-py3-none-any.whl.metadata (1.8 kB)\n",
      "Collecting pydantic-settings (from arbor-ai==0.1.7)\n",
      "  Using cached pydantic_settings-2.9.1-py3-none-any.whl.metadata (3.8 kB)\n",
      "Collecting psutil (from peft->arbor-ai==0.1.7)\n",
      "  Using cached psutil-7.0.0-cp36-abi3-macosx_11_0_arm64.whl.metadata (22 kB)\n",
      "INFO: pip is still looking at multiple versions of sglang[srt] to determine which version is compatible with other requirements. This could take a while.\n",
      "Collecting networkx (from torch->arbor-ai==0.1.7)\n",
      "  Using cached networkx-3.4.2-py3-none-any.whl.metadata (6.3 kB)\n",
      "Collecting mpmath<1.4,>=1.1.0 (from sympy>=1.13.3->torch->arbor-ai==0.1.7)\n",
      "  Using cached mpmath-1.3.0-py3-none-any.whl.metadata (8.6 kB)\n",
      "Collecting sympy>=1.13.3 (from torch->arbor-ai==0.1.7)\n",
      "  Using cached sympy-1.14.0-py3-none-any.whl.metadata (12 kB)\n",
      "Collecting torch (from arbor-ai==0.1.7)\n",
      "  Using cached torch-2.7.0-cp312-none-macosx_11_0_arm64.whl.metadata (29 kB)\n",
      "Collecting safetensors (from peft->arbor-ai==0.1.7)\n",
      "  Using cached safetensors-0.5.3-cp38-abi3-macosx_11_0_arm64.whl.metadata (3.8 kB)\n",
      "INFO: This is taking longer than usual. You might need to provide the dependency resolver with stricter constraints to reduce runtime. See https://pip.pypa.io/warnings/backtracking for guidance. If you want to abort this run, press Ctrl + C.\n",
      "Collecting accelerate>=0.21.0 (from peft->arbor-ai==0.1.7)\n",
      "  Using cached accelerate-1.6.0-py3-none-any.whl.metadata (19 kB)\n",
      "Collecting peft (from arbor-ai==0.1.7)\n",
      "  Using cached peft-0.15.2-py3-none-any.whl.metadata (13 kB)\n",
      "Collecting matplotlib-inline (from IPython->sglang>=0.4.6.post1->sglang[all]>=0.4.6.post1->arbor-ai==0.1.7)\n",
      "  Using cached matplotlib_inline-0.1.7-py3-none-any.whl.metadata (3.9 kB)\n",
      "Collecting Mako (from alembic>=1.5.0->optuna>=3.4.0->dspy==2.6.23)\n",
      "  Using cached mako-1.3.10-py3-none-any.whl.metadata (2.9 kB)\n",
      "Collecting ipython-pygments-lexers (from IPython->sglang>=0.4.6.post1->sglang[all]>=0.4.6.post1->arbor-ai==0.1.7)\n",
      "  Using cached ipython_pygments_lexers-1.1.1-py3-none-any.whl.metadata (1.1 kB)\n",
      "Collecting decorator (from IPython->sglang>=0.4.6.post1->sglang[all]>=0.4.6.post1->arbor-ai==0.1.7)\n",
      "  Using cached decorator-5.2.1-py3-none-any.whl.metadata (3.9 kB)\n",
      "Collecting traitlets>=5.13.0 (from IPython->sglang>=0.4.6.post1->sglang[all]>=0.4.6.post1->arbor-ai==0.1.7)\n",
      "  Using cached traitlets-5.14.3-py3-none-any.whl.metadata (10 kB)\n",
      "Collecting ptyprocess>=0.5 (from pexpect>4.3->IPython->sglang>=0.4.6.post1->sglang[all]>=0.4.6.post1->arbor-ai==0.1.7)\n",
      "  Using cached ptyprocess-0.7.0-py2.py3-none-any.whl.metadata (1.3 kB)\n",
      "Collecting pexpect>4.3 (from IPython->sglang>=0.4.6.post1->sglang[all]>=0.4.6.post1->arbor-ai==0.1.7)\n",
      "  Using cached pexpect-4.9.0-py2.py3-none-any.whl.metadata (2.5 kB)\n",
      "Collecting parso<0.9.0,>=0.8.4 (from jedi>=0.16->IPython->sglang>=0.4.6.post1->sglang[all]>=0.4.6.post1->arbor-ai==0.1.7)\n",
      "  Using cached parso-0.8.4-py2.py3-none-any.whl.metadata (7.7 kB)\n",
      "Collecting jedi>=0.16 (from IPython->sglang>=0.4.6.post1->sglang[all]>=0.4.6.post1->arbor-ai==0.1.7)\n",
      "  Using cached jedi-0.19.2-py2.py3-none-any.whl.metadata (22 kB)\n",
      "Collecting prompt_toolkit<3.1.0,>=3.0.41 (from IPython->sglang>=0.4.6.post1->sglang[all]>=0.4.6.post1->arbor-ai==0.1.7)\n",
      "  Using cached prompt_toolkit-3.0.51-py3-none-any.whl.metadata (6.4 kB)\n",
      "Collecting IPython (from sglang>=0.4.6.post1->sglang[all]>=0.4.6.post1->arbor-ai==0.1.7)\n",
      "  Using cached ipython-9.2.0-py3-none-any.whl.metadata (4.4 kB)\n",
      "Collecting filelock (from datasets>=2.14.6->dspy==2.6.23)\n",
      "  Using cached filelock-3.18.0-py3-none-any.whl.metadata (2.9 kB)\n",
      "Collecting starlette<0.47.0,>=0.40.0 (from fastapi->arbor-ai==0.1.7)\n",
      "  Using cached starlette-0.46.2-py3-none-any.whl.metadata (6.2 kB)\n",
      "Collecting fastapi (from arbor-ai==0.1.7)\n",
      "  Using cached fastapi-0.115.12-py3-none-any.whl.metadata (27 kB)\n",
      "Collecting colorlog (from optuna>=3.4.0->dspy==2.6.23)\n",
      "  Using cached colorlog-6.9.0-py3-none-any.whl.metadata (10 kB)\n",
      "Collecting zipp>=3.20 (from importlib-metadata>=6.8.0->litellm>=1.60.3->dspy==2.6.23)\n",
      "  Using cached zipp-3.21.0-py3-none-any.whl.metadata (3.7 kB)\n",
      "Collecting ujson>=5.8.0 (from dspy==2.6.23)\n",
      "  Using cached ujson-5.10.0-cp312-cp312-macosx_11_0_arm64.whl.metadata (9.3 kB)\n",
      "Collecting tzdata>=2022.7 (from pandas>=2.1.1->dspy==2.6.23)\n",
      "  Using cached tzdata-2025.2-py2.py3-none-any.whl.metadata (1.4 kB)\n",
      "Collecting typing-inspection>=0.4.0 (from pydantic>=2.0->dspy==2.6.23)\n",
      "  Using cached typing_inspection-0.4.0-py3-none-any.whl.metadata (2.6 kB)\n",
      "Collecting tqdm>=4.66.1 (from dspy==2.6.23)\n",
      "  Using cached tqdm-4.67.1-py3-none-any.whl.metadata (57 kB)\n",
      "Collecting tiktoken>=0.7.0 (from litellm>=1.60.3->dspy==2.6.23)\n",
      "  Using cached tiktoken-0.9.0-cp312-cp312-macosx_11_0_arm64.whl.metadata (6.7 kB)\n",
      "Collecting tenacity>=8.2.3 (from dspy==2.6.23)\n",
      "  Using cached tenacity-9.1.2-py3-none-any.whl.metadata (1.2 kB)\n",
      "Collecting sqlalchemy>=1.4.2 (from optuna>=3.4.0->dspy==2.6.23)\n",
      "  Using cached sqlalchemy-2.0.40-cp312-cp312-macosx_11_0_arm64.whl.metadata (9.6 kB)\n",
      "Collecting sniffio>=1.1 (from anyio->dspy==2.6.23)\n",
      "  Using cached sniffio-1.3.1-py3-none-any.whl.metadata (3.9 kB)\n",
      "Collecting six>=1.5 (from python-dateutil>=2.8.2->pandas>=2.1.1->dspy==2.6.23)\n",
      "  Using cached six-1.17.0-py2.py3-none-any.whl.metadata (1.7 kB)\n",
      "Collecting sglang[all]>=0.4.6.post1 (from arbor-ai==0.1.7)\n",
      "  Using cached sglang-0.4.6.post2-py3-none-any.whl.metadata (25 kB)\n",
      "  Downloading sglang-0.4.6.post1-py3-none-any.whl.metadata (25 kB)\n",
      "INFO: pip is looking at multiple versions of sglang[all] to determine which version is compatible with other requirements. This could take a while.\n",
      "Collecting rpds-py>=0.7.1 (from jsonschema<5.0.0,>=4.22.0->litellm>=1.60.3->dspy==2.6.23)\n",
      "  Using cached rpds_py-0.24.0-cp312-cp312-macosx_11_0_arm64.whl.metadata (4.1 kB)\n",
      "  Downloading rpds_py-0.23.1-cp312-cp312-macosx_11_0_arm64.whl.metadata (4.1 kB)\n",
      "  Downloading rpds_py-0.23.0-cp312-cp312-macosx_11_0_arm64.whl.metadata (4.1 kB)\n",
      "  Downloading rpds_py-0.22.3-cp312-cp312-macosx_11_0_arm64.whl.metadata (4.2 kB)\n",
      "  Downloading rpds_py-0.21.0-cp312-cp312-macosx_11_0_arm64.whl.metadata (4.2 kB)\n",
      "  Downloading rpds_py-0.20.1-cp312-cp312-macosx_11_0_arm64.whl.metadata (4.2 kB)\n",
      "  Downloading rpds_py-0.20.0-cp312-cp312-macosx_11_0_arm64.whl.metadata (4.2 kB)\n",
      "  Downloading rpds_py-0.19.1-cp312-cp312-macosx_11_0_arm64.whl.metadata (4.2 kB)\n",
      "  Downloading rpds_py-0.19.0-cp312-cp312-macosx_11_0_arm64.whl.metadata (4.1 kB)\n",
      "  Downloading rpds_py-0.18.1-cp312-cp312-macosx_11_0_arm64.whl.metadata (4.1 kB)\n",
      "  Downloading rpds_py-0.18.0-cp312-cp312-macosx_11_0_arm64.whl.metadata (4.1 kB)\n",
      "  Downloading rpds_py-0.17.1-cp312-cp312-macosx_11_0_arm64.whl.metadata (4.1 kB)\n",
      "  Downloading rpds_py-0.16.2-cp312-cp312-macosx_11_0_arm64.whl.metadata (4.1 kB)\n",
      "  Downloading rpds_py-0.16.1-cp312-cp312-macosx_11_0_arm64.whl.metadata (4.1 kB)\n",
      "  Downloading rpds_py-0.15.2-cp312-cp312-macosx_11_0_arm64.whl.metadata (4.1 kB)\n",
      "  Downloading rpds_py-0.15.1-cp312-cp312-macosx_11_0_arm64.whl.metadata (4.1 kB)\n",
      "  Downloading rpds_py-0.14.2-cp312-cp312-macosx_11_0_arm64.whl.metadata (3.9 kB)\n",
      "  Downloading rpds_py-0.14.1-cp312-cp312-macosx_11_0_arm64.whl.metadata (3.9 kB)\n",
      "  Downloading rpds_py-0.13.2-cp312-cp312-macosx_11_0_arm64.whl.metadata (3.9 kB)\n",
      "  Downloading rpds_py-0.13.1-cp312-cp312-macosx_11_0_arm64.whl.metadata (3.7 kB)\n",
      "  Downloading rpds_py-0.13.0-cp312-cp312-macosx_11_0_arm64.whl.metadata (3.7 kB)\n",
      "  Downloading rpds_py-0.12.0-cp312-cp312-macosx_11_0_arm64.whl.metadata (3.7 kB)\n",
      "  Downloading rpds_py-0.11.0-cp312-cp312-macosx_11_0_arm64.whl.metadata (3.7 kB)\n",
      "  Downloading rpds_py-0.10.6-cp312-cp312-macosx_11_0_arm64.whl.metadata (3.7 kB)\n",
      "  Downloading rpds_py-0.10.5-cp312-cp312-macosx_11_0_arm64.whl.metadata (3.7 kB)\n",
      "  Downloading rpds_py-0.10.4-cp312-cp312-macosx_11_0_arm64.whl.metadata (3.7 kB)\n",
      "  Downloading rpds_py-0.10.3-cp312-cp312-macosx_11_0_arm64.whl.metadata (3.7 kB)\n",
      "  Downloading rpds_py-0.10.2-cp312-cp312-macosx_11_0_arm64.whl.metadata (3.7 kB)\n",
      "  Downloading rpds_py-0.10.0-cp312-cp312-macosx_11_0_arm64.whl.metadata (3.7 kB)\n",
      "  Downloading rpds_py-0.9.2-cp312-cp312-macosx_11_0_arm64.whl.metadata (3.7 kB)\n",
      "  Downloading rpds_py-0.8.12-cp312-cp312-macosx_11_0_arm64.whl.metadata (3.7 kB)\n",
      "  Downloading rpds_py-0.8.11-cp312-cp312-macosx_11_0_arm64.whl.metadata (3.6 kB)\n",
      "  Downloading rpds_py-0.8.10-cp312-cp312-macosx_11_0_arm64.whl.metadata (3.6 kB)\n",
      "  Downloading rpds_py-0.8.8-cp312-cp312-macosx_11_0_arm64.whl.metadata (3.6 kB)\n",
      "  Downloading rpds_py-0.8.7.tar.gz (15 kB)\n",
      "  Installing build dependencies ... \u001b[?25ldone\n",
      "\u001b[?25h  Getting requirements to build wheel ... \u001b[?25ldone\n",
      "\u001b[?25h  Preparing metadata (pyproject.toml) ... \u001b[?25ldone\n",
      "\u001b[?25h  Downloading rpds_py-0.8.6.tar.gz (15 kB)\n",
      "  Installing build dependencies ... \u001b[?25ldone\n",
      "\u001b[?25h  Getting requirements to build wheel ... \u001b[?25ldone\n",
      "\u001b[?25h  Preparing metadata (pyproject.toml) ... \u001b[?25ldone\n",
      "\u001b[?25h  Downloading rpds_py-0.8.4.tar.gz (15 kB)\n",
      "  Installing build dependencies ... \u001b[?25ldone\n",
      "\u001b[?25h  Getting requirements to build wheel ... \u001b[?25ldone\n",
      "\u001b[?25h  Preparing metadata (pyproject.toml) ... \u001b[?25ldone\n",
      "\u001b[?25h  Downloading rpds_py-0.8.3.tar.gz (15 kB)\n",
      "  Installing build dependencies ... \u001b[?25ldone\n",
      "\u001b[?25h  Getting requirements to build wheel ... \u001b[?25ldone\n",
      "\u001b[?25h  Preparing metadata (pyproject.toml) ... \u001b[?25ldone\n",
      "\u001b[?25h  Downloading rpds_py-0.7.1-cp38-abi3-macosx_11_0_arm64.whl.metadata (2.6 kB)\n",
      "Collecting mdurl~=0.1 (from markdown-it-py>=2.2.0->rich>=13.7.1->dspy==2.6.23)\n",
      "  Using cached mdurl-0.1.2-py3-none-any.whl.metadata (1.6 kB)\n",
      "  Downloading mdurl-0.1.1-py3-none-any.whl.metadata (1.6 kB)\n",
      "  Downloading mdurl-0.1.0-py3-none-any.whl.metadata (4.7 kB)\n",
      "INFO: pip is still looking at multiple versions of sglang[all] to determine which version is compatible with other requirements. This could take a while.\n",
      "INFO: This is taking longer than usual. You might need to provide the dependency resolver with stricter constraints to reduce runtime. See https://pip.pypa.io/warnings/backtracking for guidance. If you want to abort this run, press Ctrl + C.\n",
      "Collecting markdown-it-py>=2.2.0 (from rich>=13.7.1->dspy==2.6.23)\n",
      "  Using cached markdown_it_py-3.0.0-py3-none-any.whl.metadata (6.9 kB)\n",
      "  Downloading markdown_it_py-2.2.0-py3-none-any.whl.metadata (6.8 kB)\n",
      "Collecting pygments<3.0.0,>=2.13.0 (from rich>=13.7.1->dspy==2.6.23)\n",
      "  Using cached pygments-2.19.1-py3-none-any.whl.metadata (2.5 kB)\n",
      "  Downloading pygments-2.19.0-py3-none-any.whl.metadata (2.5 kB)\n",
      "  Downloading pygments-2.18.0-py3-none-any.whl.metadata (2.5 kB)\n",
      "  Downloading pygments-2.17.2-py3-none-any.whl.metadata (2.6 kB)\n",
      "  Downloading pygments-2.17.1-py3-none-any.whl.metadata (2.6 kB)\n",
      "  Downloading pygments-2.17.0-py3-none-any.whl.metadata (2.6 kB)\n",
      "  Downloading Pygments-2.16.1-py3-none-any.whl.metadata (2.5 kB)\n",
      "  Downloading Pygments-2.16.0-py3-none-any.whl.metadata (2.5 kB)\n",
      "  Downloading Pygments-2.15.1-py3-none-any.whl.metadata (2.5 kB)\n",
      "  Downloading Pygments-2.15.0-py3-none-any.whl.metadata (2.5 kB)\n",
      "  Downloading Pygments-2.14.0-py3-none-any.whl.metadata (1.6 kB)\n",
      "  Downloading Pygments-2.13.0-py3-none-any.whl.metadata (1.6 kB)\n",
      "Collecting rich>=13.7.1 (from dspy==2.6.23)\n",
      "  Using cached rich-14.0.0-py3-none-any.whl.metadata (18 kB)\n",
      "  Using cached rich-13.9.4-py3-none-any.whl.metadata (18 kB)\n",
      "  Downloading rich-13.9.3-py3-none-any.whl.metadata (18 kB)\n",
      "  Downloading rich-13.9.2-py3-none-any.whl.metadata (18 kB)\n",
      "  Downloading rich-13.9.1-py3-none-any.whl.metadata (18 kB)\n",
      "  Downloading rich-13.9.0-py3-none-any.whl.metadata (18 kB)\n",
      "\u001b[1;31merror\u001b[0m: \u001b[1mresolution-too-deep\u001b[0m\n",
      "\n",
      "\u001b[31m×\u001b[0m Dependency resolution exceeded maximum depth\n",
      "\u001b[31m╰─>\u001b[0m Pip cannot resolve the current dependencies as the dependency graph is too complex for pip to solve efficiently.\n",
      "\n",
      "\u001b[1;36mhint\u001b[0m: Try adding lower bounds to constrain your dependencies, for example: \u001b[32m'package>=2.0.0'\u001b[0m instead of just \u001b[32m'package'\u001b[0m.\n",
      "\n",
      "Link: \u001b[4;94mhttps://pip.pypa.io/en/stable/topics/dependency-resolution/#handling-resolution-too-deep-errors\u001b[0m\n",
      "Note: you may need to restart the kernel to use updated packages.\n"
     ]
    }
   ],
   "source": [
    "%pip install dspy bm25s PyStemmer git+https://github.com/Ziems/arbor.git git+https://github.com/stanfordnlp/dspy.git@refs/pull/8171/head"
   ]
  },
  {
   "cell_type": "markdown",
   "metadata": {},
   "source": [
    "## Set up\n",
    "\n",
    "First, let's configure our environment. This involves connecting to an AI model provider. In this example, we'll set up a connection to a local Arbor server, which will act as our Reinforcement Learning (RL) server. This server handles inference and RL requests over HTTP. We'll also specify and load the Qwen3-1.7B model. "
   ]
  },
  {
   "cell_type": "code",
   "execution_count": 157,
   "metadata": {},
   "outputs": [],
   "source": [
    "import dspy\n",
    "from dspy.clients.lm_local_arbor import ArborProvider\n",
    "\n",
    "# Connect to local Arbor server\n",
    "port = 7453\n",
    "local_lm_name = \"Qwen/Qwen3-1.7B\"\n",
    "\n",
    "local_lm = dspy.LM(\n",
    "    model=f\"openai/arbor:{local_lm_name}\",\n",
    "    provider=ArborProvider(),\n",
    "    temperature=0.7,\n",
    "    api_base=f\"http://localhost:{port}/v1/\",\n",
    "    api_key=\"arbor\",\n",
    ")\n",
    "\n",
    "dspy.configure(lm=local_lm)"
   ]
  },
  {
   "cell_type": "markdown",
   "metadata": {},
   "source": [
    "## Load Dataset\n",
    "\n",
    "With our environment configured, the next step is to load a dataset. For this example, we'll use a dataset containing questions about GPT research papers (GPT-1, GPT-2, GPT-3, GPT-4). Each example contains a query and its expected answer.\n",
    "\n",
    "DSPy works with examples in a specific format, so we'll convert our raw data into `dspy.Example` objects. Each example will have a question as input and the expected answer for evaluation. We'll split our dataset into training, validation, and test sets to properly evaluate our approach.\n",
    "\n",
    "The training set will be used to optimize our agent, the validation set to tune parameters and monitor progress, and the test set for final evaluation."
   ]
  },
  {
   "cell_type": "code",
   "execution_count": 158,
   "metadata": {},
   "outputs": [
    {
     "name": "stdout",
     "output_type": "stream",
     "text": [
      "Train size: 100, Dev size: 50, Test size: 50\n"
     ]
    }
   ],
   "source": [
    "import json\n",
    "import random\n",
    "\n",
    "# Load the dataset from a JSON file\n",
    "ds = json.load(open(\"../data/evalset/evalset.json\"))\n",
    "document_chunks = list({doc[\"document\"] for doc in ds})  \n",
    "\n",
    "# Convert to DSPy Examples\n",
    "examples = [\n",
    "    dspy.Example(question=ex[\"query\"], answers=[ex[\"answer\"]]).with_inputs(\"question\")\n",
    "    for ex in ds\n",
    "    if ex[\"answer\"].strip()\n",
    "]\n",
    "\n",
    "# Shuffle for randomness and reproducibility\n",
    "random.seed(42)\n",
    "random.shuffle(examples)\n",
    "\n",
    "# Split into train, validation, and test sets\n",
    "trainset = examples[:100]\n",
    "devset = examples[100:150]\n",
    "testset = examples[150:200]\n",
    "\n",
    "print(f\"Train size: {len(trainset)}, Dev size: {len(devset)}, Test size: {len(testset)}\")"
   ]
  },
  {
   "cell_type": "markdown",
   "metadata": {},
   "source": [
    "## Implement Search Functionality\n",
    "\n",
    "Before building our agent, we need to implement the search functionality that will retrieve relevant documents based on a query. In a real-world application, this might connect to a vector database or search engine.\n",
    "\n",
    "For this example, we'll create a simple search function that simulates document retrieval from our corpus of GPT research papers. The function will:\n",
    "1. Take a query string and number of results (k) as input\n",
    "2. Tokenize and embed the query\n",
    "3. Retrieve the k most relevant documents based on embedding similarity\n",
    "4. Return the list of retrieved documents\n",
    "\n",
    "This search function will be used by our agent to find information relevant to user questions."
   ]
  },
  {
   "cell_type": "code",
   "execution_count": 159,
   "metadata": {},
   "outputs": [
    {
     "name": "stderr",
     "output_type": "stream",
     "text": [
      "DEBUG:bm25s:Building index from IDs objects           \n",
      "                                                             \r"
     ]
    }
   ],
   "source": [
    "import bm25s\n",
    "import Stemmer\n",
    "\n",
    "#corpus = [f\"{ex.inputs()['question']} | {ans}\" for ex in trainset for ans in ex.answers]\n",
    "corpus = document_chunks\n",
    "stemmer = Stemmer.Stemmer(\"english\")\n",
    "corpus_tokens = bm25s.tokenize(corpus, stopwords=\"en\", stemmer=stemmer)\n",
    "retriever = bm25s.BM25(k1=0.9, b=0.4)\n",
    "retriever.index(corpus_tokens)\n",
    "\n",
    "# BM25 Search Wrapper\n",
    "def search(query: str, k: int = 3):\n",
    "    tokens = bm25s.tokenize(query, stopwords=\"en\", stemmer=stemmer, show_progress=False)\n",
    "    results, scores = retriever.retrieve(tokens, k=k, n_threads=1, show_progress=False)\n",
    "    run = {corpus[doc]: float(score) for doc, score in zip(results[0], scores[0])}\n",
    "    return list(run.keys())"
   ]
  },
  {
   "cell_type": "markdown",
   "metadata": {},
   "source": [
    "## Building the Agent\n",
    "\n",
    "Now we'll create our agent using DSPy's module system. Our agent will be a simple query rewriter that takes a user question, rewrites it to be more specific and search-friendly, and then retrieves relevant documents.\n",
    "\n",
    "The agent consists of two main components:\n",
    "1. A query rewriting module that uses Chain-of-Thought reasoning to improve the original question\n",
    "2. A document retrieval step that uses our search function to find relevant information\n",
    "\n",
    "This simple agent will serve as our baseline before optimization with GRPO."
   ]
  },
  {
   "cell_type": "code",
   "execution_count": 160,
   "metadata": {},
   "outputs": [],
   "source": [
    "# DSPy Module for Query Rewriting\n",
    "class QueryRewriter(dspy.Module):\n",
    "    def __init__(self):\n",
    "        super().__init__()\n",
    "\n",
    "        self.rewrite = dspy.ChainOfThought(\n",
    "            dspy.Signature(\n",
    "                \"question -> rewritten_query\",\n",
    "                \"Rewrite the vague user question into a more specific search query.\"\n",
    "            )\n",
    "        )\n",
    "        self.rewrite.set_lm(dspy.settings.lm)\n",
    "\n",
    "    def forward(self, question):\n",
    "        rewritten_query = self.rewrite(question=question).rewritten_query\n",
    "        retrieved_docs = search(rewritten_query, k=3)\n",
    "        return dspy.Prediction(rewritten_query=rewritten_query, retrieved_docs=retrieved_docs)\n"
   ]
  },
  {
   "cell_type": "markdown",
   "metadata": {},
   "source": [
    "## Defining the Reward Function\n",
    "\n",
    "For GRPO to work effectively, we need to define a reward function that evaluates the performance of our agent. This function will determine how well the agent is doing and guide the optimization process.\n",
    "\n",
    "In our case, we'll use a simple reward function that checks if any of the retrieved documents contain the expected answer. This binary reward (0 or 1) will indicate whether the agent successfully found the information needed to answer the user's question.\n",
    "\n",
    "For this example, we'll keep it simple with a binary reward based on exact substring matching."
   ]
  },
  {
   "cell_type": "code",
   "execution_count": 161,
   "metadata": {},
   "outputs": [],
   "source": [
    "# Reward Function\n",
    "def contains_answer(example, pred, trace=None):\n",
    "    docs = pred.retrieved_docs\n",
    "    return float(any(answer.lower() in doc.lower() for doc in docs for answer in example.answers))\n",
    "\n",
    "# Recall Score\n",
    "def recall_score(example, pred, trace=None):\n",
    "    print(\"QUESTION:\", example.inputs())\n",
    "    print(\"ANSWERS:\", example.answers)\n",
    "    print(\"RETRIEVED:\", pred.retrieved_docs)\n",
    "    predictions = [doc.lower() for doc in pred.retrieved_docs]\n",
    "    labels = [answer.lower() for answer in example.answers]\n",
    "    if not labels:\n",
    "        return 0.0\n",
    "    hits = sum(any(label in doc for doc in predictions) for label in labels)\n",
    "    return hits / len(labels)"
   ]
  },
  {
   "cell_type": "markdown",
   "metadata": {},
   "source": [
    "## Evaluating the Baseline Agent\n",
    "\n",
    "Before optimizing our agent, we need to establish a baseline performance. This will help us measure the improvement achieved through GRPO.\n",
    "\n",
    "We'll use DSPy's evaluation framework to test our agent on the validation set. The evaluation will:\n",
    "1. Run the agent on each example in the validation set\n",
    "2. Apply our reward function to measure performance\n",
    "3. Calculate the average reward across all examples\n",
    "\n",
    "This baseline score will serve as our reference point for improvement."
   ]
  },
  {
   "cell_type": "code",
   "execution_count": 162,
   "metadata": {},
   "outputs": [
    {
     "name": "stdout",
     "output_type": "stream",
     "text": [
      "Average Metric: 0.00 / 50 (0.0%): 100%|██████████| 50/50 [00:00<00:00, 817.57it/s]"
     ]
    },
    {
     "name": "stderr",
     "output_type": "stream",
     "text": [
      "2025/05/07 15:53:18 INFO dspy.evaluate.evaluate: Average Metric: 0.0 / 50 (0.0%)\n"
     ]
    },
    {
     "name": "stdout",
     "output_type": "stream",
     "text": [
      "\n",
      "\n",
      "Baseline Performance: 0.0000\n"
     ]
    }
   ],
   "source": [
    "# Baseline Eval\n",
    "program = QueryRewriter()\n",
    "evaluate = dspy.Evaluate(devset=devset, metric=contains_answer, num_threads=4, display_progress=True)\n",
    "baseline_result = evaluate(program)\n",
    "\n",
    "print(f\"\\nBaseline Performance: {baseline_result:.4f}\")"
   ]
  },
  {
   "cell_type": "markdown",
   "metadata": {},
   "source": [
    "## Optimizing with GRPO\n",
    "\n",
    "Now that we have our baseline agent and evaluation metric, we can apply GRPO to optimize the agent's performance. GRPO works by:\n",
    "\n",
    "1. Sampling multiple outputs from the agent for each input\n",
    "2. Evaluating each output using our reward function\n",
    "3. Using the rewards to update the model's parameters through reinforcement learning\n",
    "\n",
    "The key parameters for GRPO include:\n",
    "- `update_interval`: How often to update the model\n",
    "- `num_samples_per_input`: How many different outputs to generate for each input\n",
    "- `num_train_steps`: Total number of training steps\n",
    "- `beta`: Controls the trade-off between optimizing for rewards and staying close to the original model\n",
    "\n",
    "We'll configure these parameters and run the optimization process."
   ]
  },
  {
   "cell_type": "code",
   "execution_count": null,
   "metadata": {},
   "outputs": [
    {
     "name": "stderr",
     "output_type": "stream",
     "text": [
      "2025/05/07 15:53:21 INFO dspy.teleprompt.grpo: Validating the inputs...\n",
      "2025/05/07 15:53:21 INFO dspy.teleprompt.grpo: Preparing the student program...\n",
      "2025/05/07 15:53:21 INFO dspy.teleprompt.grpo: Preparing the GRPO training job(s)...\n"
     ]
    },
    {
     "name": "stdout",
     "output_type": "stream",
     "text": [
      "Starting GRPO optimization. This may take some time...\n"
     ]
    },
    {
     "name": "stderr",
     "output_type": "stream",
     "text": [
      "2025/05/07 15:54:02 INFO dspy.teleprompt.grpo: Using user provided validation set and not reporting train scores.\n",
      "2025/05/07 15:54:02 INFO dspy.teleprompt.grpo: Evaluating the student program on the validation set before training loop...\n"
     ]
    },
    {
     "name": "stdout",
     "output_type": "stream",
     "text": [
      "Average Metric: 0.00 / 50 (0.0%): 100%|██████████| 50/50 [02:14<00:00,  2.70s/it]"
     ]
    },
    {
     "name": "stderr",
     "output_type": "stream",
     "text": [
      "2025/05/07 15:56:17 INFO dspy.evaluate.evaluate: Average Metric: 0.0 / 50 (0.0%)\n",
      "2025/05/07 15:56:17 INFO dspy.teleprompt.grpo: Student program validation set score before training loop: 0.0\n",
      "2025/05/07 15:56:17 INFO dspy.teleprompt.grpo: Starting the GRPO training loop...\n",
      "2025/05/07 15:56:17 INFO dspy.teleprompt.grpo: GRPO training step 1/50...\n",
      "2025/05/07 15:56:17 INFO dspy.teleprompt.grpo: Updating shuffled trainset for epoch 0...\n",
      "2025/05/07 15:56:17 INFO dspy.teleprompt.grpo: Bootstrapping data...\n"
     ]
    },
    {
     "name": "stdout",
     "output_type": "stream",
     "text": [
      "\n",
      "Average Metric: 0.00 / 4 (0.0%): 100%|██████████| 4/4 [00:05<00:00,  1.33s/it]"
     ]
    },
    {
     "name": "stderr",
     "output_type": "stream",
     "text": [
      "2025/05/07 15:56:23 INFO dspy.evaluate.evaluate: Average Metric: 0.0 / 4 (0.0%)\n",
      "2025/05/07 15:56:23 INFO dspy.teleprompt.grpo: Preparing the training data batch from bootstrapped examples for GRPO...\n",
      "2025/05/07 15:56:23 INFO dspy.teleprompt.grpo: Invoking GRPO training step...\n"
     ]
    },
    {
     "name": "stdout",
     "output_type": "stream",
     "text": [
      "\n"
     ]
    },
    {
     "name": "stderr",
     "output_type": "stream",
     "text": [
      "2025/05/07 15:56:23 INFO dspy.teleprompt.grpo: GRPO training step 1/50 completed.\n",
      "2025/05/07 15:56:23 INFO dspy.teleprompt.grpo: GRPO training step 2/50...\n",
      "2025/05/07 15:56:23 INFO dspy.teleprompt.grpo: Bootstrapping data...\n"
     ]
    },
    {
     "name": "stdout",
     "output_type": "stream",
     "text": [
      "Average Metric: 0.00 / 4 (0.0%): 100%|██████████| 4/4 [00:04<00:00,  1.21s/it]"
     ]
    },
    {
     "name": "stderr",
     "output_type": "stream",
     "text": [
      "2025/05/07 15:56:28 INFO dspy.evaluate.evaluate: Average Metric: 0.0 / 4 (0.0%)\n",
      "2025/05/07 15:56:28 INFO dspy.teleprompt.grpo: Preparing the training data batch from bootstrapped examples for GRPO...\n",
      "2025/05/07 15:56:28 INFO dspy.teleprompt.grpo: Invoking GRPO training step...\n"
     ]
    },
    {
     "name": "stdout",
     "output_type": "stream",
     "text": [
      "\n"
     ]
    },
    {
     "name": "stderr",
     "output_type": "stream",
     "text": [
      "2025/05/07 15:56:29 INFO dspy.teleprompt.grpo: GRPO training step 2/50 completed.\n",
      "2025/05/07 15:56:29 INFO dspy.teleprompt.grpo: GRPO training step 3/50...\n",
      "2025/05/07 15:56:29 INFO dspy.teleprompt.grpo: Bootstrapping data...\n"
     ]
    },
    {
     "name": "stdout",
     "output_type": "stream",
     "text": [
      "Average Metric: 0.00 / 4 (0.0%): 100%|██████████| 4/4 [00:08<00:00,  2.07s/it]"
     ]
    },
    {
     "name": "stderr",
     "output_type": "stream",
     "text": [
      "2025/05/07 15:56:37 INFO dspy.evaluate.evaluate: Average Metric: 0.0 / 4 (0.0%)\n",
      "2025/05/07 15:56:37 INFO dspy.teleprompt.grpo: Preparing the training data batch from bootstrapped examples for GRPO...\n",
      "2025/05/07 15:56:37 INFO dspy.teleprompt.grpo: Invoking GRPO training step...\n"
     ]
    },
    {
     "name": "stdout",
     "output_type": "stream",
     "text": [
      "\n"
     ]
    },
    {
     "name": "stderr",
     "output_type": "stream",
     "text": [
      "2025/05/07 15:56:38 INFO dspy.teleprompt.grpo: Current train step is 3. Updating the model...\n",
      "2025/05/07 15:57:48 INFO dspy.teleprompt.grpo: GRPO training step 3/50 completed.\n",
      "2025/05/07 15:57:48 INFO dspy.teleprompt.grpo: GRPO training step 4/50...\n",
      "2025/05/07 15:57:48 INFO dspy.teleprompt.grpo: Bootstrapping data...\n"
     ]
    },
    {
     "name": "stdout",
     "output_type": "stream",
     "text": [
      "Average Metric: 0.00 / 4 (0.0%): 100%|██████████| 4/4 [00:16<00:00,  4.20s/it]"
     ]
    },
    {
     "name": "stderr",
     "output_type": "stream",
     "text": [
      "2025/05/07 15:58:05 INFO dspy.evaluate.evaluate: Average Metric: 0.0 / 4 (0.0%)\n",
      "2025/05/07 15:58:05 INFO dspy.teleprompt.grpo: Preparing the training data batch from bootstrapped examples for GRPO...\n",
      "2025/05/07 15:58:05 INFO dspy.teleprompt.grpo: Invoking GRPO training step...\n"
     ]
    },
    {
     "name": "stdout",
     "output_type": "stream",
     "text": [
      "\n"
     ]
    },
    {
     "name": "stderr",
     "output_type": "stream",
     "text": [
      "2025/05/07 15:58:06 INFO dspy.teleprompt.grpo: GRPO training step 4/50 completed.\n",
      "2025/05/07 15:58:06 INFO dspy.teleprompt.grpo: GRPO training step 5/50...\n",
      "2025/05/07 15:58:06 INFO dspy.teleprompt.grpo: Bootstrapping data...\n"
     ]
    },
    {
     "name": "stdout",
     "output_type": "stream",
     "text": [
      "Average Metric: 2.00 / 4 (50.0%): 100%|██████████| 4/4 [00:08<00:00,  2.23s/it] "
     ]
    },
    {
     "name": "stderr",
     "output_type": "stream",
     "text": [
      "2025/05/07 15:58:15 INFO dspy.evaluate.evaluate: Average Metric: 2.0 / 4 (50.0%)\n",
      "2025/05/07 15:58:15 INFO dspy.teleprompt.grpo: Preparing the training data batch from bootstrapped examples for GRPO...\n",
      "2025/05/07 15:58:15 INFO dspy.teleprompt.grpo: Invoking GRPO training step...\n"
     ]
    },
    {
     "name": "stdout",
     "output_type": "stream",
     "text": [
      "\n"
     ]
    },
    {
     "name": "stderr",
     "output_type": "stream",
     "text": [
      "2025/05/07 15:58:16 INFO dspy.teleprompt.grpo: GRPO training step 5/50 completed.\n",
      "2025/05/07 15:58:16 INFO dspy.teleprompt.grpo: GRPO training step 6/50...\n",
      "2025/05/07 15:58:16 INFO dspy.teleprompt.grpo: Bootstrapping data...\n"
     ]
    },
    {
     "name": "stdout",
     "output_type": "stream",
     "text": [
      "Average Metric: 0.00 / 4 (0.0%): 100%|██████████| 4/4 [00:09<00:00,  2.48s/it]"
     ]
    },
    {
     "name": "stderr",
     "output_type": "stream",
     "text": [
      "2025/05/07 15:58:26 INFO dspy.evaluate.evaluate: Average Metric: 0.0 / 4 (0.0%)\n",
      "2025/05/07 15:58:26 INFO dspy.teleprompt.grpo: Preparing the training data batch from bootstrapped examples for GRPO...\n",
      "2025/05/07 15:58:26 INFO dspy.teleprompt.grpo: Invoking GRPO training step...\n"
     ]
    },
    {
     "name": "stdout",
     "output_type": "stream",
     "text": [
      "\n"
     ]
    },
    {
     "name": "stderr",
     "output_type": "stream",
     "text": [
      "2025/05/07 15:58:27 INFO dspy.teleprompt.grpo: Current train step is 6. Updating the model...\n"
     ]
    },
    {
     "name": "stdout",
     "output_type": "stream",
     "text": [
      "Average Metric: 0.00 / 37 (0.0%):  74%|███████▍  | 37/50 [1:27:31<30:45, 141.93s/it]\n",
      "  0%|          | 0/50 [42:21<?, ?it/s]\n"
     ]
    },
    {
     "ename": "ConnectionError",
     "evalue": "('Connection aborted.', RemoteDisconnected('Remote end closed connection without response'))",
     "output_type": "error",
     "traceback": [
      "\u001b[31m---------------------------------------------------------------------------\u001b[39m",
      "\u001b[31mRemoteDisconnected\u001b[39m                        Traceback (most recent call last)",
      "\u001b[36mFile \u001b[39m\u001b[32m~/Documents/cookbooks/venv312/lib/python3.12/site-packages/urllib3/connectionpool.py:787\u001b[39m, in \u001b[36mHTTPConnectionPool.urlopen\u001b[39m\u001b[34m(self, method, url, body, headers, retries, redirect, assert_same_host, timeout, pool_timeout, release_conn, chunked, body_pos, preload_content, decode_content, **response_kw)\u001b[39m\n\u001b[32m    786\u001b[39m \u001b[38;5;66;03m# Make the request on the HTTPConnection object\u001b[39;00m\n\u001b[32m--> \u001b[39m\u001b[32m787\u001b[39m response = \u001b[38;5;28;43mself\u001b[39;49m\u001b[43m.\u001b[49m\u001b[43m_make_request\u001b[49m\u001b[43m(\u001b[49m\n\u001b[32m    788\u001b[39m \u001b[43m    \u001b[49m\u001b[43mconn\u001b[49m\u001b[43m,\u001b[49m\n\u001b[32m    789\u001b[39m \u001b[43m    \u001b[49m\u001b[43mmethod\u001b[49m\u001b[43m,\u001b[49m\n\u001b[32m    790\u001b[39m \u001b[43m    \u001b[49m\u001b[43murl\u001b[49m\u001b[43m,\u001b[49m\n\u001b[32m    791\u001b[39m \u001b[43m    \u001b[49m\u001b[43mtimeout\u001b[49m\u001b[43m=\u001b[49m\u001b[43mtimeout_obj\u001b[49m\u001b[43m,\u001b[49m\n\u001b[32m    792\u001b[39m \u001b[43m    \u001b[49m\u001b[43mbody\u001b[49m\u001b[43m=\u001b[49m\u001b[43mbody\u001b[49m\u001b[43m,\u001b[49m\n\u001b[32m    793\u001b[39m \u001b[43m    \u001b[49m\u001b[43mheaders\u001b[49m\u001b[43m=\u001b[49m\u001b[43mheaders\u001b[49m\u001b[43m,\u001b[49m\n\u001b[32m    794\u001b[39m \u001b[43m    \u001b[49m\u001b[43mchunked\u001b[49m\u001b[43m=\u001b[49m\u001b[43mchunked\u001b[49m\u001b[43m,\u001b[49m\n\u001b[32m    795\u001b[39m \u001b[43m    \u001b[49m\u001b[43mretries\u001b[49m\u001b[43m=\u001b[49m\u001b[43mretries\u001b[49m\u001b[43m,\u001b[49m\n\u001b[32m    796\u001b[39m \u001b[43m    \u001b[49m\u001b[43mresponse_conn\u001b[49m\u001b[43m=\u001b[49m\u001b[43mresponse_conn\u001b[49m\u001b[43m,\u001b[49m\n\u001b[32m    797\u001b[39m \u001b[43m    \u001b[49m\u001b[43mpreload_content\u001b[49m\u001b[43m=\u001b[49m\u001b[43mpreload_content\u001b[49m\u001b[43m,\u001b[49m\n\u001b[32m    798\u001b[39m \u001b[43m    \u001b[49m\u001b[43mdecode_content\u001b[49m\u001b[43m=\u001b[49m\u001b[43mdecode_content\u001b[49m\u001b[43m,\u001b[49m\n\u001b[32m    799\u001b[39m \u001b[43m    \u001b[49m\u001b[43m*\u001b[49m\u001b[43m*\u001b[49m\u001b[43mresponse_kw\u001b[49m\u001b[43m,\u001b[49m\n\u001b[32m    800\u001b[39m \u001b[43m\u001b[49m\u001b[43m)\u001b[49m\n\u001b[32m    802\u001b[39m \u001b[38;5;66;03m# Everything went great!\u001b[39;00m\n",
      "\u001b[36mFile \u001b[39m\u001b[32m~/Documents/cookbooks/venv312/lib/python3.12/site-packages/urllib3/connectionpool.py:534\u001b[39m, in \u001b[36mHTTPConnectionPool._make_request\u001b[39m\u001b[34m(self, conn, method, url, body, headers, retries, timeout, chunked, response_conn, preload_content, decode_content, enforce_content_length)\u001b[39m\n\u001b[32m    533\u001b[39m \u001b[38;5;28;01mtry\u001b[39;00m:\n\u001b[32m--> \u001b[39m\u001b[32m534\u001b[39m     response = \u001b[43mconn\u001b[49m\u001b[43m.\u001b[49m\u001b[43mgetresponse\u001b[49m\u001b[43m(\u001b[49m\u001b[43m)\u001b[49m\n\u001b[32m    535\u001b[39m \u001b[38;5;28;01mexcept\u001b[39;00m (BaseSSLError, \u001b[38;5;167;01mOSError\u001b[39;00m) \u001b[38;5;28;01mas\u001b[39;00m e:\n",
      "\u001b[36mFile \u001b[39m\u001b[32m~/Documents/cookbooks/venv312/lib/python3.12/site-packages/urllib3/connection.py:516\u001b[39m, in \u001b[36mHTTPConnection.getresponse\u001b[39m\u001b[34m(self)\u001b[39m\n\u001b[32m    515\u001b[39m \u001b[38;5;66;03m# Get the response from http.client.HTTPConnection\u001b[39;00m\n\u001b[32m--> \u001b[39m\u001b[32m516\u001b[39m httplib_response = \u001b[38;5;28;43msuper\u001b[39;49m\u001b[43m(\u001b[49m\u001b[43m)\u001b[49m\u001b[43m.\u001b[49m\u001b[43mgetresponse\u001b[49m\u001b[43m(\u001b[49m\u001b[43m)\u001b[49m\n\u001b[32m    518\u001b[39m \u001b[38;5;28;01mtry\u001b[39;00m:\n",
      "\u001b[36mFile \u001b[39m\u001b[32m/opt/homebrew/Cellar/python@3.12/3.12.10/Frameworks/Python.framework/Versions/3.12/lib/python3.12/http/client.py:1430\u001b[39m, in \u001b[36mHTTPConnection.getresponse\u001b[39m\u001b[34m(self)\u001b[39m\n\u001b[32m   1429\u001b[39m \u001b[38;5;28;01mtry\u001b[39;00m:\n\u001b[32m-> \u001b[39m\u001b[32m1430\u001b[39m     \u001b[43mresponse\u001b[49m\u001b[43m.\u001b[49m\u001b[43mbegin\u001b[49m\u001b[43m(\u001b[49m\u001b[43m)\u001b[49m\n\u001b[32m   1431\u001b[39m \u001b[38;5;28;01mexcept\u001b[39;00m \u001b[38;5;167;01mConnectionError\u001b[39;00m:\n",
      "\u001b[36mFile \u001b[39m\u001b[32m/opt/homebrew/Cellar/python@3.12/3.12.10/Frameworks/Python.framework/Versions/3.12/lib/python3.12/http/client.py:331\u001b[39m, in \u001b[36mHTTPResponse.begin\u001b[39m\u001b[34m(self)\u001b[39m\n\u001b[32m    330\u001b[39m \u001b[38;5;28;01mwhile\u001b[39;00m \u001b[38;5;28;01mTrue\u001b[39;00m:\n\u001b[32m--> \u001b[39m\u001b[32m331\u001b[39m     version, status, reason = \u001b[38;5;28;43mself\u001b[39;49m\u001b[43m.\u001b[49m\u001b[43m_read_status\u001b[49m\u001b[43m(\u001b[49m\u001b[43m)\u001b[49m\n\u001b[32m    332\u001b[39m     \u001b[38;5;28;01mif\u001b[39;00m status != CONTINUE:\n",
      "\u001b[36mFile \u001b[39m\u001b[32m/opt/homebrew/Cellar/python@3.12/3.12.10/Frameworks/Python.framework/Versions/3.12/lib/python3.12/http/client.py:300\u001b[39m, in \u001b[36mHTTPResponse._read_status\u001b[39m\u001b[34m(self)\u001b[39m\n\u001b[32m    297\u001b[39m \u001b[38;5;28;01mif\u001b[39;00m \u001b[38;5;129;01mnot\u001b[39;00m line:\n\u001b[32m    298\u001b[39m     \u001b[38;5;66;03m# Presumably, the server closed the connection before\u001b[39;00m\n\u001b[32m    299\u001b[39m     \u001b[38;5;66;03m# sending a valid response.\u001b[39;00m\n\u001b[32m--> \u001b[39m\u001b[32m300\u001b[39m     \u001b[38;5;28;01mraise\u001b[39;00m RemoteDisconnected(\u001b[33m\"\u001b[39m\u001b[33mRemote end closed connection without\u001b[39m\u001b[33m\"\u001b[39m\n\u001b[32m    301\u001b[39m                              \u001b[33m\"\u001b[39m\u001b[33m response\u001b[39m\u001b[33m\"\u001b[39m)\n\u001b[32m    302\u001b[39m \u001b[38;5;28;01mtry\u001b[39;00m:\n",
      "\u001b[31mRemoteDisconnected\u001b[39m: Remote end closed connection without response",
      "\nDuring handling of the above exception, another exception occurred:\n",
      "\u001b[31mProtocolError\u001b[39m                             Traceback (most recent call last)",
      "\u001b[36mFile \u001b[39m\u001b[32m~/Documents/cookbooks/venv312/lib/python3.12/site-packages/requests/adapters.py:667\u001b[39m, in \u001b[36mHTTPAdapter.send\u001b[39m\u001b[34m(self, request, stream, timeout, verify, cert, proxies)\u001b[39m\n\u001b[32m    666\u001b[39m \u001b[38;5;28;01mtry\u001b[39;00m:\n\u001b[32m--> \u001b[39m\u001b[32m667\u001b[39m     resp = \u001b[43mconn\u001b[49m\u001b[43m.\u001b[49m\u001b[43murlopen\u001b[49m\u001b[43m(\u001b[49m\n\u001b[32m    668\u001b[39m \u001b[43m        \u001b[49m\u001b[43mmethod\u001b[49m\u001b[43m=\u001b[49m\u001b[43mrequest\u001b[49m\u001b[43m.\u001b[49m\u001b[43mmethod\u001b[49m\u001b[43m,\u001b[49m\n\u001b[32m    669\u001b[39m \u001b[43m        \u001b[49m\u001b[43murl\u001b[49m\u001b[43m=\u001b[49m\u001b[43murl\u001b[49m\u001b[43m,\u001b[49m\n\u001b[32m    670\u001b[39m \u001b[43m        \u001b[49m\u001b[43mbody\u001b[49m\u001b[43m=\u001b[49m\u001b[43mrequest\u001b[49m\u001b[43m.\u001b[49m\u001b[43mbody\u001b[49m\u001b[43m,\u001b[49m\n\u001b[32m    671\u001b[39m \u001b[43m        \u001b[49m\u001b[43mheaders\u001b[49m\u001b[43m=\u001b[49m\u001b[43mrequest\u001b[49m\u001b[43m.\u001b[49m\u001b[43mheaders\u001b[49m\u001b[43m,\u001b[49m\n\u001b[32m    672\u001b[39m \u001b[43m        \u001b[49m\u001b[43mredirect\u001b[49m\u001b[43m=\u001b[49m\u001b[38;5;28;43;01mFalse\u001b[39;49;00m\u001b[43m,\u001b[49m\n\u001b[32m    673\u001b[39m \u001b[43m        \u001b[49m\u001b[43massert_same_host\u001b[49m\u001b[43m=\u001b[49m\u001b[38;5;28;43;01mFalse\u001b[39;49;00m\u001b[43m,\u001b[49m\n\u001b[32m    674\u001b[39m \u001b[43m        \u001b[49m\u001b[43mpreload_content\u001b[49m\u001b[43m=\u001b[49m\u001b[38;5;28;43;01mFalse\u001b[39;49;00m\u001b[43m,\u001b[49m\n\u001b[32m    675\u001b[39m \u001b[43m        \u001b[49m\u001b[43mdecode_content\u001b[49m\u001b[43m=\u001b[49m\u001b[38;5;28;43;01mFalse\u001b[39;49;00m\u001b[43m,\u001b[49m\n\u001b[32m    676\u001b[39m \u001b[43m        \u001b[49m\u001b[43mretries\u001b[49m\u001b[43m=\u001b[49m\u001b[38;5;28;43mself\u001b[39;49m\u001b[43m.\u001b[49m\u001b[43mmax_retries\u001b[49m\u001b[43m,\u001b[49m\n\u001b[32m    677\u001b[39m \u001b[43m        \u001b[49m\u001b[43mtimeout\u001b[49m\u001b[43m=\u001b[49m\u001b[43mtimeout\u001b[49m\u001b[43m,\u001b[49m\n\u001b[32m    678\u001b[39m \u001b[43m        \u001b[49m\u001b[43mchunked\u001b[49m\u001b[43m=\u001b[49m\u001b[43mchunked\u001b[49m\u001b[43m,\u001b[49m\n\u001b[32m    679\u001b[39m \u001b[43m    \u001b[49m\u001b[43m)\u001b[49m\n\u001b[32m    681\u001b[39m \u001b[38;5;28;01mexcept\u001b[39;00m (ProtocolError, \u001b[38;5;167;01mOSError\u001b[39;00m) \u001b[38;5;28;01mas\u001b[39;00m err:\n",
      "\u001b[36mFile \u001b[39m\u001b[32m~/Documents/cookbooks/venv312/lib/python3.12/site-packages/urllib3/connectionpool.py:841\u001b[39m, in \u001b[36mHTTPConnectionPool.urlopen\u001b[39m\u001b[34m(self, method, url, body, headers, retries, redirect, assert_same_host, timeout, pool_timeout, release_conn, chunked, body_pos, preload_content, decode_content, **response_kw)\u001b[39m\n\u001b[32m    839\u001b[39m     new_e = ProtocolError(\u001b[33m\"\u001b[39m\u001b[33mConnection aborted.\u001b[39m\u001b[33m\"\u001b[39m, new_e)\n\u001b[32m--> \u001b[39m\u001b[32m841\u001b[39m retries = \u001b[43mretries\u001b[49m\u001b[43m.\u001b[49m\u001b[43mincrement\u001b[49m\u001b[43m(\u001b[49m\n\u001b[32m    842\u001b[39m \u001b[43m    \u001b[49m\u001b[43mmethod\u001b[49m\u001b[43m,\u001b[49m\u001b[43m \u001b[49m\u001b[43murl\u001b[49m\u001b[43m,\u001b[49m\u001b[43m \u001b[49m\u001b[43merror\u001b[49m\u001b[43m=\u001b[49m\u001b[43mnew_e\u001b[49m\u001b[43m,\u001b[49m\u001b[43m \u001b[49m\u001b[43m_pool\u001b[49m\u001b[43m=\u001b[49m\u001b[38;5;28;43mself\u001b[39;49m\u001b[43m,\u001b[49m\u001b[43m \u001b[49m\u001b[43m_stacktrace\u001b[49m\u001b[43m=\u001b[49m\u001b[43msys\u001b[49m\u001b[43m.\u001b[49m\u001b[43mexc_info\u001b[49m\u001b[43m(\u001b[49m\u001b[43m)\u001b[49m\u001b[43m[\u001b[49m\u001b[32;43m2\u001b[39;49m\u001b[43m]\u001b[49m\n\u001b[32m    843\u001b[39m \u001b[43m\u001b[49m\u001b[43m)\u001b[49m\n\u001b[32m    844\u001b[39m retries.sleep()\n",
      "\u001b[36mFile \u001b[39m\u001b[32m~/Documents/cookbooks/venv312/lib/python3.12/site-packages/urllib3/util/retry.py:474\u001b[39m, in \u001b[36mRetry.increment\u001b[39m\u001b[34m(self, method, url, response, error, _pool, _stacktrace)\u001b[39m\n\u001b[32m    473\u001b[39m \u001b[38;5;28;01mif\u001b[39;00m read \u001b[38;5;129;01mis\u001b[39;00m \u001b[38;5;28;01mFalse\u001b[39;00m \u001b[38;5;129;01mor\u001b[39;00m method \u001b[38;5;129;01mis\u001b[39;00m \u001b[38;5;28;01mNone\u001b[39;00m \u001b[38;5;129;01mor\u001b[39;00m \u001b[38;5;129;01mnot\u001b[39;00m \u001b[38;5;28mself\u001b[39m._is_method_retryable(method):\n\u001b[32m--> \u001b[39m\u001b[32m474\u001b[39m     \u001b[38;5;28;01mraise\u001b[39;00m \u001b[43mreraise\u001b[49m\u001b[43m(\u001b[49m\u001b[38;5;28;43mtype\u001b[39;49m\u001b[43m(\u001b[49m\u001b[43merror\u001b[49m\u001b[43m)\u001b[49m\u001b[43m,\u001b[49m\u001b[43m \u001b[49m\u001b[43merror\u001b[49m\u001b[43m,\u001b[49m\u001b[43m \u001b[49m\u001b[43m_stacktrace\u001b[49m\u001b[43m)\u001b[49m\n\u001b[32m    475\u001b[39m \u001b[38;5;28;01melif\u001b[39;00m read \u001b[38;5;129;01mis\u001b[39;00m \u001b[38;5;129;01mnot\u001b[39;00m \u001b[38;5;28;01mNone\u001b[39;00m:\n",
      "\u001b[36mFile \u001b[39m\u001b[32m~/Documents/cookbooks/venv312/lib/python3.12/site-packages/urllib3/util/util.py:38\u001b[39m, in \u001b[36mreraise\u001b[39m\u001b[34m(tp, value, tb)\u001b[39m\n\u001b[32m     37\u001b[39m \u001b[38;5;28;01mif\u001b[39;00m value.__traceback__ \u001b[38;5;129;01mis\u001b[39;00m \u001b[38;5;129;01mnot\u001b[39;00m tb:\n\u001b[32m---> \u001b[39m\u001b[32m38\u001b[39m     \u001b[38;5;28;01mraise\u001b[39;00m value.with_traceback(tb)\n\u001b[32m     39\u001b[39m \u001b[38;5;28;01mraise\u001b[39;00m value\n",
      "\u001b[36mFile \u001b[39m\u001b[32m~/Documents/cookbooks/venv312/lib/python3.12/site-packages/urllib3/connectionpool.py:787\u001b[39m, in \u001b[36mHTTPConnectionPool.urlopen\u001b[39m\u001b[34m(self, method, url, body, headers, retries, redirect, assert_same_host, timeout, pool_timeout, release_conn, chunked, body_pos, preload_content, decode_content, **response_kw)\u001b[39m\n\u001b[32m    786\u001b[39m \u001b[38;5;66;03m# Make the request on the HTTPConnection object\u001b[39;00m\n\u001b[32m--> \u001b[39m\u001b[32m787\u001b[39m response = \u001b[38;5;28;43mself\u001b[39;49m\u001b[43m.\u001b[49m\u001b[43m_make_request\u001b[49m\u001b[43m(\u001b[49m\n\u001b[32m    788\u001b[39m \u001b[43m    \u001b[49m\u001b[43mconn\u001b[49m\u001b[43m,\u001b[49m\n\u001b[32m    789\u001b[39m \u001b[43m    \u001b[49m\u001b[43mmethod\u001b[49m\u001b[43m,\u001b[49m\n\u001b[32m    790\u001b[39m \u001b[43m    \u001b[49m\u001b[43murl\u001b[49m\u001b[43m,\u001b[49m\n\u001b[32m    791\u001b[39m \u001b[43m    \u001b[49m\u001b[43mtimeout\u001b[49m\u001b[43m=\u001b[49m\u001b[43mtimeout_obj\u001b[49m\u001b[43m,\u001b[49m\n\u001b[32m    792\u001b[39m \u001b[43m    \u001b[49m\u001b[43mbody\u001b[49m\u001b[43m=\u001b[49m\u001b[43mbody\u001b[49m\u001b[43m,\u001b[49m\n\u001b[32m    793\u001b[39m \u001b[43m    \u001b[49m\u001b[43mheaders\u001b[49m\u001b[43m=\u001b[49m\u001b[43mheaders\u001b[49m\u001b[43m,\u001b[49m\n\u001b[32m    794\u001b[39m \u001b[43m    \u001b[49m\u001b[43mchunked\u001b[49m\u001b[43m=\u001b[49m\u001b[43mchunked\u001b[49m\u001b[43m,\u001b[49m\n\u001b[32m    795\u001b[39m \u001b[43m    \u001b[49m\u001b[43mretries\u001b[49m\u001b[43m=\u001b[49m\u001b[43mretries\u001b[49m\u001b[43m,\u001b[49m\n\u001b[32m    796\u001b[39m \u001b[43m    \u001b[49m\u001b[43mresponse_conn\u001b[49m\u001b[43m=\u001b[49m\u001b[43mresponse_conn\u001b[49m\u001b[43m,\u001b[49m\n\u001b[32m    797\u001b[39m \u001b[43m    \u001b[49m\u001b[43mpreload_content\u001b[49m\u001b[43m=\u001b[49m\u001b[43mpreload_content\u001b[49m\u001b[43m,\u001b[49m\n\u001b[32m    798\u001b[39m \u001b[43m    \u001b[49m\u001b[43mdecode_content\u001b[49m\u001b[43m=\u001b[49m\u001b[43mdecode_content\u001b[49m\u001b[43m,\u001b[49m\n\u001b[32m    799\u001b[39m \u001b[43m    \u001b[49m\u001b[43m*\u001b[49m\u001b[43m*\u001b[49m\u001b[43mresponse_kw\u001b[49m\u001b[43m,\u001b[49m\n\u001b[32m    800\u001b[39m \u001b[43m\u001b[49m\u001b[43m)\u001b[49m\n\u001b[32m    802\u001b[39m \u001b[38;5;66;03m# Everything went great!\u001b[39;00m\n",
      "\u001b[36mFile \u001b[39m\u001b[32m~/Documents/cookbooks/venv312/lib/python3.12/site-packages/urllib3/connectionpool.py:534\u001b[39m, in \u001b[36mHTTPConnectionPool._make_request\u001b[39m\u001b[34m(self, conn, method, url, body, headers, retries, timeout, chunked, response_conn, preload_content, decode_content, enforce_content_length)\u001b[39m\n\u001b[32m    533\u001b[39m \u001b[38;5;28;01mtry\u001b[39;00m:\n\u001b[32m--> \u001b[39m\u001b[32m534\u001b[39m     response = \u001b[43mconn\u001b[49m\u001b[43m.\u001b[49m\u001b[43mgetresponse\u001b[49m\u001b[43m(\u001b[49m\u001b[43m)\u001b[49m\n\u001b[32m    535\u001b[39m \u001b[38;5;28;01mexcept\u001b[39;00m (BaseSSLError, \u001b[38;5;167;01mOSError\u001b[39;00m) \u001b[38;5;28;01mas\u001b[39;00m e:\n",
      "\u001b[36mFile \u001b[39m\u001b[32m~/Documents/cookbooks/venv312/lib/python3.12/site-packages/urllib3/connection.py:516\u001b[39m, in \u001b[36mHTTPConnection.getresponse\u001b[39m\u001b[34m(self)\u001b[39m\n\u001b[32m    515\u001b[39m \u001b[38;5;66;03m# Get the response from http.client.HTTPConnection\u001b[39;00m\n\u001b[32m--> \u001b[39m\u001b[32m516\u001b[39m httplib_response = \u001b[38;5;28;43msuper\u001b[39;49m\u001b[43m(\u001b[49m\u001b[43m)\u001b[49m\u001b[43m.\u001b[49m\u001b[43mgetresponse\u001b[49m\u001b[43m(\u001b[49m\u001b[43m)\u001b[49m\n\u001b[32m    518\u001b[39m \u001b[38;5;28;01mtry\u001b[39;00m:\n",
      "\u001b[36mFile \u001b[39m\u001b[32m/opt/homebrew/Cellar/python@3.12/3.12.10/Frameworks/Python.framework/Versions/3.12/lib/python3.12/http/client.py:1430\u001b[39m, in \u001b[36mHTTPConnection.getresponse\u001b[39m\u001b[34m(self)\u001b[39m\n\u001b[32m   1429\u001b[39m \u001b[38;5;28;01mtry\u001b[39;00m:\n\u001b[32m-> \u001b[39m\u001b[32m1430\u001b[39m     \u001b[43mresponse\u001b[49m\u001b[43m.\u001b[49m\u001b[43mbegin\u001b[49m\u001b[43m(\u001b[49m\u001b[43m)\u001b[49m\n\u001b[32m   1431\u001b[39m \u001b[38;5;28;01mexcept\u001b[39;00m \u001b[38;5;167;01mConnectionError\u001b[39;00m:\n",
      "\u001b[36mFile \u001b[39m\u001b[32m/opt/homebrew/Cellar/python@3.12/3.12.10/Frameworks/Python.framework/Versions/3.12/lib/python3.12/http/client.py:331\u001b[39m, in \u001b[36mHTTPResponse.begin\u001b[39m\u001b[34m(self)\u001b[39m\n\u001b[32m    330\u001b[39m \u001b[38;5;28;01mwhile\u001b[39;00m \u001b[38;5;28;01mTrue\u001b[39;00m:\n\u001b[32m--> \u001b[39m\u001b[32m331\u001b[39m     version, status, reason = \u001b[38;5;28;43mself\u001b[39;49m\u001b[43m.\u001b[49m\u001b[43m_read_status\u001b[49m\u001b[43m(\u001b[49m\u001b[43m)\u001b[49m\n\u001b[32m    332\u001b[39m     \u001b[38;5;28;01mif\u001b[39;00m status != CONTINUE:\n",
      "\u001b[36mFile \u001b[39m\u001b[32m/opt/homebrew/Cellar/python@3.12/3.12.10/Frameworks/Python.framework/Versions/3.12/lib/python3.12/http/client.py:300\u001b[39m, in \u001b[36mHTTPResponse._read_status\u001b[39m\u001b[34m(self)\u001b[39m\n\u001b[32m    297\u001b[39m \u001b[38;5;28;01mif\u001b[39;00m \u001b[38;5;129;01mnot\u001b[39;00m line:\n\u001b[32m    298\u001b[39m     \u001b[38;5;66;03m# Presumably, the server closed the connection before\u001b[39;00m\n\u001b[32m    299\u001b[39m     \u001b[38;5;66;03m# sending a valid response.\u001b[39;00m\n\u001b[32m--> \u001b[39m\u001b[32m300\u001b[39m     \u001b[38;5;28;01mraise\u001b[39;00m RemoteDisconnected(\u001b[33m\"\u001b[39m\u001b[33mRemote end closed connection without\u001b[39m\u001b[33m\"\u001b[39m\n\u001b[32m    301\u001b[39m                              \u001b[33m\"\u001b[39m\u001b[33m response\u001b[39m\u001b[33m\"\u001b[39m)\n\u001b[32m    302\u001b[39m \u001b[38;5;28;01mtry\u001b[39;00m:\n",
      "\u001b[31mProtocolError\u001b[39m: ('Connection aborted.', RemoteDisconnected('Remote end closed connection without response'))",
      "\nDuring handling of the above exception, another exception occurred:\n",
      "\u001b[31mConnectionError\u001b[39m                           Traceback (most recent call last)",
      "\u001b[36mCell\u001b[39m\u001b[36m \u001b[39m\u001b[32mIn[163]\u001b[39m\u001b[32m, line 36\u001b[39m\n\u001b[32m     21\u001b[39m compiler = GRPO(\n\u001b[32m     22\u001b[39m     metric=contains_answer,\n\u001b[32m     23\u001b[39m     multitask=\u001b[38;5;28;01mTrue\u001b[39;00m,\n\u001b[32m   (...)\u001b[39m\u001b[32m     32\u001b[39m     report_train_scores=\u001b[38;5;28;01mFalse\u001b[39;00m,\n\u001b[32m     33\u001b[39m )\n\u001b[32m     35\u001b[39m \u001b[38;5;28mprint\u001b[39m(\u001b[33m\"\u001b[39m\u001b[33mStarting GRPO optimization. This may take some time...\u001b[39m\u001b[33m\"\u001b[39m)\n\u001b[32m---> \u001b[39m\u001b[32m36\u001b[39m optimized_program = \u001b[43mcompiler\u001b[49m\u001b[43m.\u001b[49m\u001b[43mcompile\u001b[49m\u001b[43m(\u001b[49m\u001b[43mstudent\u001b[49m\u001b[43m=\u001b[49m\u001b[43mprogram\u001b[49m\u001b[43m,\u001b[49m\u001b[43m \u001b[49m\u001b[43mtrainset\u001b[49m\u001b[43m=\u001b[49m\u001b[43mtrainset\u001b[49m\u001b[43m,\u001b[49m\u001b[43m \u001b[49m\u001b[43mvalset\u001b[49m\u001b[43m=\u001b[49m\u001b[43mdevset\u001b[49m\u001b[43m)\u001b[49m\n\u001b[32m     37\u001b[39m \u001b[38;5;28mprint\u001b[39m(\u001b[33m\"\u001b[39m\u001b[33mOptimization complete!\u001b[39m\u001b[33m\"\u001b[39m)\n",
      "\u001b[36mFile \u001b[39m\u001b[32m~/Documents/cookbooks/venv312/lib/python3.12/site-packages/dspy/teleprompt/grpo.py:526\u001b[39m, in \u001b[36mGRPO.compile\u001b[39m\u001b[34m(self, student, trainset, valset, **kwargs)\u001b[39m\n\u001b[32m    524\u001b[39m     \u001b[38;5;28;01mif\u001b[39;00m (train_step_idx + \u001b[32m1\u001b[39m) % \u001b[38;5;28mself\u001b[39m.train_kwargs[lm][\u001b[33m\"\u001b[39m\u001b[33mupdate_interval\u001b[39m\u001b[33m\"\u001b[39m] == \u001b[32m0\u001b[39m \u001b[38;5;129;01mand\u001b[39;00m train_step_idx != \u001b[32m0\u001b[39m:\n\u001b[32m    525\u001b[39m         logger.info(\u001b[33mf\u001b[39m\u001b[33m\"\u001b[39m\u001b[33mCurrent train step is \u001b[39m\u001b[38;5;132;01m{\u001b[39;00mtrain_step_idx\u001b[38;5;250m \u001b[39m+\u001b[38;5;250m \u001b[39m\u001b[32m1\u001b[39m\u001b[38;5;132;01m}\u001b[39;00m\u001b[33m. Updating the model...\u001b[39m\u001b[33m\"\u001b[39m)\n\u001b[32m--> \u001b[39m\u001b[32m526\u001b[39m         \u001b[43mjob\u001b[49m\u001b[43m.\u001b[49m\u001b[43mupdate_model\u001b[49m\u001b[43m(\u001b[49m\u001b[43m)\u001b[49m\n\u001b[32m    528\u001b[39m logger.info(\u001b[33mf\u001b[39m\u001b[33m\"\u001b[39m\u001b[33mGRPO training step \u001b[39m\u001b[38;5;132;01m{\u001b[39;00mtrain_step_idx\u001b[38;5;250m \u001b[39m+\u001b[38;5;250m \u001b[39m\u001b[32m1\u001b[39m\u001b[38;5;132;01m}\u001b[39;00m\u001b[33m/\u001b[39m\u001b[38;5;132;01m{\u001b[39;00m\u001b[38;5;28mself\u001b[39m.num_train_steps\u001b[38;5;132;01m}\u001b[39;00m\u001b[33m completed.\u001b[39m\u001b[33m\"\u001b[39m)\n\u001b[32m    530\u001b[39m \u001b[38;5;28mself\u001b[39m.report_validation_metrics(\n\u001b[32m    531\u001b[39m     student=student,\n\u001b[32m    532\u001b[39m     trainset=trainset,\n\u001b[32m   (...)\u001b[39m\u001b[32m    535\u001b[39m     step_idx=train_step_idx,\n\u001b[32m    536\u001b[39m )\n",
      "\u001b[36mFile \u001b[39m\u001b[32m~/Documents/cookbooks/venv312/lib/python3.12/site-packages/dspy/clients/lm_local_arbor.py:170\u001b[39m, in \u001b[36mArborReinforceJob.update_model\u001b[39m\u001b[34m(self)\u001b[39m\n\u001b[32m    168\u001b[39m url = \u001b[33mf\u001b[39m\u001b[33m\"\u001b[39m\u001b[38;5;132;01m{\u001b[39;00mapi_base\u001b[38;5;132;01m}\u001b[39;00m\u001b[33mfine_tuning/grpo/update_model\u001b[39m\u001b[33m\"\u001b[39m\n\u001b[32m    169\u001b[39m headers = {\u001b[33m'\u001b[39m\u001b[33mContent-Type\u001b[39m\u001b[33m'\u001b[39m: \u001b[33m'\u001b[39m\u001b[33mapplication/json\u001b[39m\u001b[33m'\u001b[39m}\n\u001b[32m--> \u001b[39m\u001b[32m170\u001b[39m response = \u001b[43mrequests\u001b[49m\u001b[43m.\u001b[49m\u001b[43mpost\u001b[49m\u001b[43m(\u001b[49m\u001b[43murl\u001b[49m\u001b[43m,\u001b[49m\u001b[43m \u001b[49m\u001b[43mheaders\u001b[49m\u001b[43m=\u001b[49m\u001b[43mheaders\u001b[49m\u001b[43m)\u001b[49m\n\u001b[32m    171\u001b[39m \u001b[38;5;28;01massert\u001b[39;00m response.status_code == \u001b[32m200\u001b[39m, \u001b[33mf\u001b[39m\u001b[33m\"\u001b[39m\u001b[33mFailed to update model: \u001b[39m\u001b[38;5;132;01m{\u001b[39;00mresponse.text\u001b[38;5;132;01m}\u001b[39;00m\u001b[33m\"\u001b[39m \n\u001b[32m    173\u001b[39m response = response.json()\n",
      "\u001b[36mFile \u001b[39m\u001b[32m~/Documents/cookbooks/venv312/lib/python3.12/site-packages/requests/api.py:115\u001b[39m, in \u001b[36mpost\u001b[39m\u001b[34m(url, data, json, **kwargs)\u001b[39m\n\u001b[32m    103\u001b[39m \u001b[38;5;28;01mdef\u001b[39;00m\u001b[38;5;250m \u001b[39m\u001b[34mpost\u001b[39m(url, data=\u001b[38;5;28;01mNone\u001b[39;00m, json=\u001b[38;5;28;01mNone\u001b[39;00m, **kwargs):\n\u001b[32m    104\u001b[39m \u001b[38;5;250m    \u001b[39m\u001b[33mr\u001b[39m\u001b[33;03m\"\"\"Sends a POST request.\u001b[39;00m\n\u001b[32m    105\u001b[39m \n\u001b[32m    106\u001b[39m \u001b[33;03m    :param url: URL for the new :class:`Request` object.\u001b[39;00m\n\u001b[32m   (...)\u001b[39m\u001b[32m    112\u001b[39m \u001b[33;03m    :rtype: requests.Response\u001b[39;00m\n\u001b[32m    113\u001b[39m \u001b[33;03m    \"\"\"\u001b[39;00m\n\u001b[32m--> \u001b[39m\u001b[32m115\u001b[39m     \u001b[38;5;28;01mreturn\u001b[39;00m \u001b[43mrequest\u001b[49m\u001b[43m(\u001b[49m\u001b[33;43m\"\u001b[39;49m\u001b[33;43mpost\u001b[39;49m\u001b[33;43m\"\u001b[39;49m\u001b[43m,\u001b[49m\u001b[43m \u001b[49m\u001b[43murl\u001b[49m\u001b[43m,\u001b[49m\u001b[43m \u001b[49m\u001b[43mdata\u001b[49m\u001b[43m=\u001b[49m\u001b[43mdata\u001b[49m\u001b[43m,\u001b[49m\u001b[43m \u001b[49m\u001b[43mjson\u001b[49m\u001b[43m=\u001b[49m\u001b[43mjson\u001b[49m\u001b[43m,\u001b[49m\u001b[43m \u001b[49m\u001b[43m*\u001b[49m\u001b[43m*\u001b[49m\u001b[43mkwargs\u001b[49m\u001b[43m)\u001b[49m\n",
      "\u001b[36mFile \u001b[39m\u001b[32m~/Documents/cookbooks/venv312/lib/python3.12/site-packages/requests/api.py:59\u001b[39m, in \u001b[36mrequest\u001b[39m\u001b[34m(method, url, **kwargs)\u001b[39m\n\u001b[32m     55\u001b[39m \u001b[38;5;66;03m# By using the 'with' statement we are sure the session is closed, thus we\u001b[39;00m\n\u001b[32m     56\u001b[39m \u001b[38;5;66;03m# avoid leaving sockets open which can trigger a ResourceWarning in some\u001b[39;00m\n\u001b[32m     57\u001b[39m \u001b[38;5;66;03m# cases, and look like a memory leak in others.\u001b[39;00m\n\u001b[32m     58\u001b[39m \u001b[38;5;28;01mwith\u001b[39;00m sessions.Session() \u001b[38;5;28;01mas\u001b[39;00m session:\n\u001b[32m---> \u001b[39m\u001b[32m59\u001b[39m     \u001b[38;5;28;01mreturn\u001b[39;00m \u001b[43msession\u001b[49m\u001b[43m.\u001b[49m\u001b[43mrequest\u001b[49m\u001b[43m(\u001b[49m\u001b[43mmethod\u001b[49m\u001b[43m=\u001b[49m\u001b[43mmethod\u001b[49m\u001b[43m,\u001b[49m\u001b[43m \u001b[49m\u001b[43murl\u001b[49m\u001b[43m=\u001b[49m\u001b[43murl\u001b[49m\u001b[43m,\u001b[49m\u001b[43m \u001b[49m\u001b[43m*\u001b[49m\u001b[43m*\u001b[49m\u001b[43mkwargs\u001b[49m\u001b[43m)\u001b[49m\n",
      "\u001b[36mFile \u001b[39m\u001b[32m~/Documents/cookbooks/venv312/lib/python3.12/site-packages/requests/sessions.py:589\u001b[39m, in \u001b[36mSession.request\u001b[39m\u001b[34m(self, method, url, params, data, headers, cookies, files, auth, timeout, allow_redirects, proxies, hooks, stream, verify, cert, json)\u001b[39m\n\u001b[32m    584\u001b[39m send_kwargs = {\n\u001b[32m    585\u001b[39m     \u001b[33m\"\u001b[39m\u001b[33mtimeout\u001b[39m\u001b[33m\"\u001b[39m: timeout,\n\u001b[32m    586\u001b[39m     \u001b[33m\"\u001b[39m\u001b[33mallow_redirects\u001b[39m\u001b[33m\"\u001b[39m: allow_redirects,\n\u001b[32m    587\u001b[39m }\n\u001b[32m    588\u001b[39m send_kwargs.update(settings)\n\u001b[32m--> \u001b[39m\u001b[32m589\u001b[39m resp = \u001b[38;5;28;43mself\u001b[39;49m\u001b[43m.\u001b[49m\u001b[43msend\u001b[49m\u001b[43m(\u001b[49m\u001b[43mprep\u001b[49m\u001b[43m,\u001b[49m\u001b[43m \u001b[49m\u001b[43m*\u001b[49m\u001b[43m*\u001b[49m\u001b[43msend_kwargs\u001b[49m\u001b[43m)\u001b[49m\n\u001b[32m    591\u001b[39m \u001b[38;5;28;01mreturn\u001b[39;00m resp\n",
      "\u001b[36mFile \u001b[39m\u001b[32m~/Documents/cookbooks/venv312/lib/python3.12/site-packages/requests/sessions.py:703\u001b[39m, in \u001b[36mSession.send\u001b[39m\u001b[34m(self, request, **kwargs)\u001b[39m\n\u001b[32m    700\u001b[39m start = preferred_clock()\n\u001b[32m    702\u001b[39m \u001b[38;5;66;03m# Send the request\u001b[39;00m\n\u001b[32m--> \u001b[39m\u001b[32m703\u001b[39m r = \u001b[43madapter\u001b[49m\u001b[43m.\u001b[49m\u001b[43msend\u001b[49m\u001b[43m(\u001b[49m\u001b[43mrequest\u001b[49m\u001b[43m,\u001b[49m\u001b[43m \u001b[49m\u001b[43m*\u001b[49m\u001b[43m*\u001b[49m\u001b[43mkwargs\u001b[49m\u001b[43m)\u001b[49m\n\u001b[32m    705\u001b[39m \u001b[38;5;66;03m# Total elapsed time of the request (approximately)\u001b[39;00m\n\u001b[32m    706\u001b[39m elapsed = preferred_clock() - start\n",
      "\u001b[36mFile \u001b[39m\u001b[32m~/Documents/cookbooks/venv312/lib/python3.12/site-packages/requests/adapters.py:682\u001b[39m, in \u001b[36mHTTPAdapter.send\u001b[39m\u001b[34m(self, request, stream, timeout, verify, cert, proxies)\u001b[39m\n\u001b[32m    667\u001b[39m     resp = conn.urlopen(\n\u001b[32m    668\u001b[39m         method=request.method,\n\u001b[32m    669\u001b[39m         url=url,\n\u001b[32m   (...)\u001b[39m\u001b[32m    678\u001b[39m         chunked=chunked,\n\u001b[32m    679\u001b[39m     )\n\u001b[32m    681\u001b[39m \u001b[38;5;28;01mexcept\u001b[39;00m (ProtocolError, \u001b[38;5;167;01mOSError\u001b[39;00m) \u001b[38;5;28;01mas\u001b[39;00m err:\n\u001b[32m--> \u001b[39m\u001b[32m682\u001b[39m     \u001b[38;5;28;01mraise\u001b[39;00m \u001b[38;5;167;01mConnectionError\u001b[39;00m(err, request=request)\n\u001b[32m    684\u001b[39m \u001b[38;5;28;01mexcept\u001b[39;00m MaxRetryError \u001b[38;5;28;01mas\u001b[39;00m e:\n\u001b[32m    685\u001b[39m     \u001b[38;5;28;01mif\u001b[39;00m \u001b[38;5;28misinstance\u001b[39m(e.reason, ConnectTimeoutError):\n\u001b[32m    686\u001b[39m         \u001b[38;5;66;03m# TODO: Remove this in 3.0.0: see #2811\u001b[39;00m\n",
      "\u001b[31mConnectionError\u001b[39m: ('Connection aborted.', RemoteDisconnected('Remote end closed connection without response'))"
     ]
    }
   ],
   "source": [
    "from dspy.teleprompt.grpo import GRPO\n",
    "\n",
    "# Configure GRPO parameters\n",
    "train_kwargs = {\n",
    "    \"update_interval\": 3,\n",
    "    \"per_device_train_batch_size\": 1,\n",
    "    \"gradient_accumulation_steps\": 2,\n",
    "    \"temperature\": 0.7,\n",
    "    \"beta\": 0.04,\n",
    "    \"learning_rate\": 2e-5,\n",
    "    \"gradient_checkpointing\": True,\n",
    "    \"gradient_checkpointing_kwargs\": {\"use_reentrant\": False},\n",
    "    \"bf16\": False,\n",
    "    \"lr_scheduler_type\": \"constant_with_warmup\",\n",
    "    \"scale_rewards\": True,\n",
    "    \"max_grad_norm\": 0.5,\n",
    "    \"lora\": True,\n",
    "}\n",
    "\n",
    "# Initialize the GRPO compiler\n",
    "compiler = GRPO(\n",
    "    metric=contains_answer,\n",
    "    multitask=True,\n",
    "    num_dspy_examples_per_grpo_step=2,\n",
    "    num_samples_per_input=2,\n",
    "    exclude_demos=True,\n",
    "    num_train_steps=20,\n",
    "    num_threads=4,\n",
    "    use_train_as_val=False,\n",
    "    num_steps_for_val=10,\n",
    "    train_kwargs=train_kwargs,\n",
    "    report_train_scores=False,\n",
    ")\n",
    "\n",
    "print(\"Starting GRPO optimization. This may take some time...\")\n",
    "optimized_program = compiler.compile(student=program, trainset=trainset, valset=devset)\n",
    "print(\"Optimization complete!\")"
   ]
  },
  {
   "cell_type": "markdown",
   "metadata": {},
   "source": [
    "## Evaluating the Optimized Agent\n",
    "\n",
    "After optimizing our agent with GRPO, we need to evaluate its performance to see how much it has improved. We'll use the same evaluation framework as before, but now with our optimized agent.\n",
    "\n",
    "We'll also compare the baseline and optimized agents on a specific example to see the differences in their behavior. This will help us understand how GRPO has changed the agent's query rewriting strategy."
   ]
  },
  {
   "cell_type": "code",
   "execution_count": null,
   "metadata": {},
   "outputs": [],
   "source": [
    "# Evaluate the optimized program\n",
    "optimized_result = evaluate(optimized_program)\n",
    "\n",
    "print(f\"\\nBaseline Performance: {baseline_result:.4f}\")\n",
    "print(f\"Optimized Performance: {optimized_result:.4f}\")\n",
    "print(f\"Improvement: {optimized_result - baseline_result:.4f} ({(optimized_result - baseline_result) / baseline_result * 100:.2f}%)\")\n",
    "\n",
    "# Compare baseline vs optimized example\n",
    "example = devset[0]\n",
    "print(\"\\nOriginal Question:\", example.inputs['question'])\n",
    "print(\"\\nBaseline:\")\n",
    "baseline_output = program(**example.inputs())\n",
    "print(f\"Rewritten Query: {baseline_output.rewritten_query}\")\n",
    "print(f\"Retrieved {len(baseline_output.retrieved_docs)} documents\")\n",
    "print(f\"First document snippet: {baseline_output.retrieved_docs[0][:200]}...\")\n",
    "\n",
    "print(\"\\nGRPO-Optimized:\")\n",
    "optimized_output = optimized_program(**example.inputs())\n",
    "print(f\"Rewritten Query: {optimized_output.rewritten_query}\")\n",
    "print(f\"Retrieved {len(optimized_output.retrieved_docs)} documents\")\n",
    "print(f\"First document snippet: {optimized_output.retrieved_docs[0][:200]}...\")"
   ]
  },
  {
   "cell_type": "markdown",
   "metadata": {},
   "source": [
    "## Conclusion\n",
    "\n",
    "In this cookbook, we've demonstrated how to use GRPO to optimize an LLM agent for better performance. We've seen that:\n",
    "\n",
    "1. GRPO can significantly improve an agent's performance without manual prompt engineering\n",
    "2. The improvements come from better query rewriting strategies learned through reinforcement\n",
    "\n",
    "This approach can be applied to various types of agents beyond simple query rewriters, including:\n",
    "- Multi-step reasoning agents\n",
    "- Tool-using agents\n",
    "- Conversational agents\n",
    "- Code generation agents\n",
    "\n",
    "By defining appropriate reward functions and training data, you can use GRPO to optimize virtually any LLM-based agent for your specific use case.\n",
    "\n",
    "Remember that the quality of your training data and reward function are crucial for effective optimization. Invest time in creating high-quality examples and designing rewards that truly capture what you want your agent to optimize for."
   ]
  }
 ],
 "metadata": {
  "kernelspec": {
   "display_name": "venv312",
   "language": "python",
   "name": "python3"
  },
  "language_info": {
   "codemirror_mode": {
    "name": "ipython",
    "version": 3
   },
   "file_extension": ".py",
   "mimetype": "text/x-python",
   "name": "python",
   "nbconvert_exporter": "python",
   "pygments_lexer": "ipython3",
   "version": "3.12.10"
  }
 },
 "nbformat": 4,
 "nbformat_minor": 2
}
