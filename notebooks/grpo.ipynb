{
 "cells": [
  {
   "cell_type": "markdown",
   "metadata": {},
   "source": [
    "# Finetuning Agents with GRPO\n",
    "\n",
    "In this cookbook, we'll explore how to enhance the performance of agentic systems by fine-tuning them with Generalized Reinforcement from Preference Optimization (GRPO). Specifically, we'll focus on query rewriting - a critical component in retrieval systems that transforms vague user questions into more effective search queries.\n",
    "\n",
    "What makes this approach particularly exciting is that we'll be using a smaller model - Qwen 1.7B - rather than relying on massive models like GPT-4. This demonstrates how GRPO can unlock impressive capabilities from more efficient, cost-effective models that can run locally or on modest hardware.\n",
    "\n",
    "GRPO, as implemented in DSPy, is a powerful technique that generalizes popular online reinforcement learning algorithms, enabling more effective learning from interactions. By applying GRPO to query rewriting with smaller models, we can systematically improve retrieval performance without the computational and financial costs of larger models.\n",
    "\n",
    "In this notebook, we'll walk through:\n",
    "1. Setting up a DSPy environment with the Qwen 1.7B model\n",
    "2. Creating a simple query rewriting agent for retrieval\n",
    "3. Defining a reward function based on retrieval success\n",
    "4. Fine-tuning the query rewriter with GRPO\n",
    "5. Evaluating the performance improvements\n",
    "\n",
    "By the end, you'll understand how to apply GRPO to optimize query rewriting using smaller models, achieving better performance without relying on massive models or extensive manual prompt engineering."
   ]
  },
  {
   "cell_type": "markdown",
   "metadata": {},
   "source": [
    "## Requirements\n",
    "\n",
    "Before we begin, ensure you have the necessary packages. If you're running this in an environment where `dspy` and its dependencies are not yet installed, you might need to install them. For this notebook, the key libraries are `dspy` and potentially others for data handling or specific model interactions."
   ]
  },
  {
   "cell_type": "code",
   "execution_count": 9,
   "metadata": {},
   "outputs": [
    {
     "name": "stderr",
     "output_type": "stream",
     "text": [
      "/opt/homebrew/Cellar/python@3.12/3.12.10/Frameworks/Python.framework/Versions/3.12/lib/python3.12/pty.py:95: RuntimeWarning: os.fork() was called. os.fork() is incompatible with multithreaded code, and JAX is multithreaded, so this will likely lead to a deadlock.\n",
      "  pid, fd = os.forkpty()\n"
     ]
    },
    {
     "name": "stdout",
     "output_type": "stream",
     "text": [
      "Collecting git+https://github.com/Ziems/arbor.git\n",
      "  Cloning https://github.com/Ziems/arbor.git to /private/var/folders/zy/wms_7q0j39x_rvs746kfr1tr0000gn/T/pip-req-build-g1gwfrt3\n",
      "  Running command git clone --filter=blob:none --quiet https://github.com/Ziems/arbor.git /private/var/folders/zy/wms_7q0j39x_rvs746kfr1tr0000gn/T/pip-req-build-g1gwfrt3\n",
      "  Resolved https://github.com/Ziems/arbor.git to commit 2f11573e60fe599c79bc768c37b5160a46303932\n",
      "  Installing build dependencies ... \u001b[?25ldone\n",
      "\u001b[?25h  Getting requirements to build wheel ... \u001b[?25ldone\n",
      "\u001b[?25h  Preparing metadata (pyproject.toml) ... \u001b[?25ldone\n",
      "\u001b[?25hCollecting git+https://github.com/stanfordnlp/dspy.git@refs/pull/8171/head\n",
      "  Cloning https://github.com/stanfordnlp/dspy.git (to revision refs/pull/8171/head) to /private/var/folders/zy/wms_7q0j39x_rvs746kfr1tr0000gn/T/pip-req-build-g7wtci0j\n",
      "  Running command git clone --filter=blob:none --quiet https://github.com/stanfordnlp/dspy.git /private/var/folders/zy/wms_7q0j39x_rvs746kfr1tr0000gn/T/pip-req-build-g7wtci0j\n",
      "\u001b[33m  WARNING: Did not find branch or tag 'refs/pull/8171/head', assuming revision or ref.\u001b[0m\u001b[33m\n",
      "\u001b[0m  Running command git fetch -q https://github.com/stanfordnlp/dspy.git refs/pull/8171/head\n",
      "  Running command git checkout -q c61e8c1ae6a43a35f1c61842e508647d027911b6\n",
      "  Resolved https://github.com/stanfordnlp/dspy.git to commit c61e8c1ae6a43a35f1c61842e508647d027911b6\n",
      "  Installing build dependencies ... \u001b[?25ldone\n",
      "\u001b[?25h  Getting requirements to build wheel ... \u001b[?25ldone\n",
      "\u001b[?25h  Preparing metadata (pyproject.toml) ... \u001b[?25ldone\n",
      "\u001b[?25hRequirement already satisfied: dspy in /Users/tahmidtapadar/Documents/cookbooks/venv312/lib/python3.12/site-packages (2.6.23)\n",
      "Requirement already satisfied: bm25s in /Users/tahmidtapadar/Documents/cookbooks/venv312/lib/python3.12/site-packages (0.2.12)\n",
      "Requirement already satisfied: PyStemmer in /Users/tahmidtapadar/Documents/cookbooks/venv312/lib/python3.12/site-packages (2.2.0.3)\n",
      "Requirement already satisfied: backoff>=2.2 in /Users/tahmidtapadar/Documents/cookbooks/venv312/lib/python3.12/site-packages (from dspy==2.6.23) (2.2.1)\n",
      "Requirement already satisfied: joblib~=1.3 in /Users/tahmidtapadar/Documents/cookbooks/venv312/lib/python3.12/site-packages (from dspy==2.6.23) (1.5.0)\n",
      "Requirement already satisfied: openai>=0.28.1 in /Users/tahmidtapadar/Documents/cookbooks/venv312/lib/python3.12/site-packages (from dspy==2.6.23) (1.75.0)\n",
      "Requirement already satisfied: pandas>=2.1.1 in /Users/tahmidtapadar/Documents/cookbooks/venv312/lib/python3.12/site-packages (from dspy==2.6.23) (2.2.3)\n",
      "Requirement already satisfied: regex>=2023.10.3 in /Users/tahmidtapadar/Documents/cookbooks/venv312/lib/python3.12/site-packages (from dspy==2.6.23) (2024.11.6)\n",
      "Requirement already satisfied: ujson>=5.8.0 in /Users/tahmidtapadar/Documents/cookbooks/venv312/lib/python3.12/site-packages (from dspy==2.6.23) (5.10.0)\n",
      "Requirement already satisfied: tqdm>=4.66.1 in /Users/tahmidtapadar/Documents/cookbooks/venv312/lib/python3.12/site-packages (from dspy==2.6.23) (4.67.1)\n",
      "Requirement already satisfied: datasets>=2.14.6 in /Users/tahmidtapadar/Documents/cookbooks/venv312/lib/python3.12/site-packages (from dspy==2.6.23) (3.5.1)\n",
      "Requirement already satisfied: requests>=2.31.0 in /Users/tahmidtapadar/Documents/cookbooks/venv312/lib/python3.12/site-packages (from dspy==2.6.23) (2.32.3)\n",
      "Requirement already satisfied: optuna>=3.4.0 in /Users/tahmidtapadar/Documents/cookbooks/venv312/lib/python3.12/site-packages (from dspy==2.6.23) (4.3.0)\n",
      "Requirement already satisfied: pydantic>=2.0 in /Users/tahmidtapadar/Documents/cookbooks/venv312/lib/python3.12/site-packages (from dspy==2.6.23) (2.11.4)\n",
      "Requirement already satisfied: magicattr>=0.1.6 in /Users/tahmidtapadar/Documents/cookbooks/venv312/lib/python3.12/site-packages (from dspy==2.6.23) (0.1.6)\n",
      "Requirement already satisfied: litellm>=1.60.3 in /Users/tahmidtapadar/Documents/cookbooks/venv312/lib/python3.12/site-packages (from dspy==2.6.23) (1.68.0)\n",
      "Requirement already satisfied: diskcache>=5.6.0 in /Users/tahmidtapadar/Documents/cookbooks/venv312/lib/python3.12/site-packages (from dspy==2.6.23) (5.6.3)\n",
      "Requirement already satisfied: json-repair>=0.30.0 in /Users/tahmidtapadar/Documents/cookbooks/venv312/lib/python3.12/site-packages (from dspy==2.6.23) (0.44.1)\n",
      "Requirement already satisfied: tenacity>=8.2.3 in /Users/tahmidtapadar/Documents/cookbooks/venv312/lib/python3.12/site-packages (from dspy==2.6.23) (9.1.2)\n",
      "Requirement already satisfied: anyio in /Users/tahmidtapadar/Documents/cookbooks/venv312/lib/python3.12/site-packages (from dspy==2.6.23) (4.9.0)\n",
      "Requirement already satisfied: asyncer==0.0.8 in /Users/tahmidtapadar/Documents/cookbooks/venv312/lib/python3.12/site-packages (from dspy==2.6.23) (0.0.8)\n",
      "Requirement already satisfied: cachetools>=5.5.0 in /Users/tahmidtapadar/Documents/cookbooks/venv312/lib/python3.12/site-packages (from dspy==2.6.23) (5.5.2)\n",
      "Requirement already satisfied: cloudpickle>=3.0.0 in /Users/tahmidtapadar/Documents/cookbooks/venv312/lib/python3.12/site-packages (from dspy==2.6.23) (3.1.1)\n",
      "Requirement already satisfied: rich>=13.7.1 in /Users/tahmidtapadar/Documents/cookbooks/venv312/lib/python3.12/site-packages (from dspy==2.6.23) (14.0.0)\n",
      "Requirement already satisfied: numpy>=1.26.0 in /Users/tahmidtapadar/Documents/cookbooks/venv312/lib/python3.12/site-packages (from dspy==2.6.23) (2.2.5)\n",
      "Requirement already satisfied: fastapi in /Users/tahmidtapadar/Documents/cookbooks/venv312/lib/python3.12/site-packages (from arbor-ai==0.1.7) (0.115.12)\n",
      "Requirement already satisfied: uvicorn in /Users/tahmidtapadar/Documents/cookbooks/venv312/lib/python3.12/site-packages (from arbor-ai==0.1.7) (0.34.2)\n",
      "Requirement already satisfied: click in /Users/tahmidtapadar/Documents/cookbooks/venv312/lib/python3.12/site-packages (from arbor-ai==0.1.7) (8.1.8)\n",
      "Requirement already satisfied: python-multipart in /Users/tahmidtapadar/Documents/cookbooks/venv312/lib/python3.12/site-packages (from arbor-ai==0.1.7) (0.0.20)\n",
      "Requirement already satisfied: pydantic-settings in /Users/tahmidtapadar/Documents/cookbooks/venv312/lib/python3.12/site-packages (from arbor-ai==0.1.7) (2.9.1)\n",
      "Requirement already satisfied: torch in /Users/tahmidtapadar/Documents/cookbooks/venv312/lib/python3.12/site-packages (from arbor-ai==0.1.7) (2.7.0)\n",
      "Requirement already satisfied: transformers in /Users/tahmidtapadar/Documents/cookbooks/venv312/lib/python3.12/site-packages (from arbor-ai==0.1.7) (4.51.3)\n",
      "Requirement already satisfied: trl in /Users/tahmidtapadar/Documents/cookbooks/venv312/lib/python3.12/site-packages (from arbor-ai==0.1.7) (0.17.0)\n",
      "Requirement already satisfied: peft in /Users/tahmidtapadar/Documents/cookbooks/venv312/lib/python3.12/site-packages (from arbor-ai==0.1.7) (0.15.2)\n",
      "Requirement already satisfied: ray>=2.9 in /Users/tahmidtapadar/Documents/cookbooks/venv312/lib/python3.12/site-packages (from arbor-ai==0.1.7) (2.45.0)\n",
      "Requirement already satisfied: setuptools<77.0.0,>=76.0.0 in /Users/tahmidtapadar/Documents/cookbooks/venv312/lib/python3.12/site-packages (from arbor-ai==0.1.7) (76.1.0)\n",
      "Requirement already satisfied: pyzmq>=26.4.0 in /Users/tahmidtapadar/Documents/cookbooks/venv312/lib/python3.12/site-packages (from arbor-ai==0.1.7) (26.4.0)\n",
      "Requirement already satisfied: pyyaml>=6.0.2 in /Users/tahmidtapadar/Documents/cookbooks/venv312/lib/python3.12/site-packages (from arbor-ai==0.1.7) (6.0.2)\n",
      "Requirement already satisfied: sglang>=0.4.6.post1 in /Users/tahmidtapadar/Documents/cookbooks/venv312/lib/python3.12/site-packages (from sglang[all]>=0.4.6.post1->arbor-ai==0.1.7) (0.4.6.post2)\n",
      "Requirement already satisfied: sglang-router in /Users/tahmidtapadar/Documents/cookbooks/venv312/lib/python3.12/site-packages (from arbor-ai==0.1.7) (0.1.4)\n",
      "Requirement already satisfied: idna>=2.8 in /Users/tahmidtapadar/Documents/cookbooks/venv312/lib/python3.12/site-packages (from anyio->dspy==2.6.23) (3.10)\n",
      "Requirement already satisfied: sniffio>=1.1 in /Users/tahmidtapadar/Documents/cookbooks/venv312/lib/python3.12/site-packages (from anyio->dspy==2.6.23) (1.3.1)\n",
      "Requirement already satisfied: typing_extensions>=4.5 in /Users/tahmidtapadar/Documents/cookbooks/venv312/lib/python3.12/site-packages (from anyio->dspy==2.6.23) (4.13.2)\n",
      "Requirement already satisfied: scipy in /Users/tahmidtapadar/Documents/cookbooks/venv312/lib/python3.12/site-packages (from bm25s) (1.15.2)\n",
      "Requirement already satisfied: filelock in /Users/tahmidtapadar/Documents/cookbooks/venv312/lib/python3.12/site-packages (from datasets>=2.14.6->dspy==2.6.23) (3.18.0)\n",
      "Requirement already satisfied: pyarrow>=15.0.0 in /Users/tahmidtapadar/Documents/cookbooks/venv312/lib/python3.12/site-packages (from datasets>=2.14.6->dspy==2.6.23) (20.0.0)\n",
      "Requirement already satisfied: dill<0.3.9,>=0.3.0 in /Users/tahmidtapadar/Documents/cookbooks/venv312/lib/python3.12/site-packages (from datasets>=2.14.6->dspy==2.6.23) (0.3.8)\n",
      "Requirement already satisfied: xxhash in /Users/tahmidtapadar/Documents/cookbooks/venv312/lib/python3.12/site-packages (from datasets>=2.14.6->dspy==2.6.23) (3.5.0)\n",
      "Requirement already satisfied: multiprocess<0.70.17 in /Users/tahmidtapadar/Documents/cookbooks/venv312/lib/python3.12/site-packages (from datasets>=2.14.6->dspy==2.6.23) (0.70.16)\n",
      "Requirement already satisfied: fsspec<=2025.3.0,>=2023.1.0 in /Users/tahmidtapadar/Documents/cookbooks/venv312/lib/python3.12/site-packages (from fsspec[http]<=2025.3.0,>=2023.1.0->datasets>=2.14.6->dspy==2.6.23) (2025.3.0)\n",
      "Requirement already satisfied: aiohttp in /Users/tahmidtapadar/Documents/cookbooks/venv312/lib/python3.12/site-packages (from datasets>=2.14.6->dspy==2.6.23) (3.11.18)\n",
      "Requirement already satisfied: huggingface-hub>=0.24.0 in /Users/tahmidtapadar/Documents/cookbooks/venv312/lib/python3.12/site-packages (from datasets>=2.14.6->dspy==2.6.23) (0.30.2)\n",
      "Requirement already satisfied: packaging in /Users/tahmidtapadar/Documents/cookbooks/venv312/lib/python3.12/site-packages (from datasets>=2.14.6->dspy==2.6.23) (25.0)\n",
      "Requirement already satisfied: aiohappyeyeballs>=2.3.0 in /Users/tahmidtapadar/Documents/cookbooks/venv312/lib/python3.12/site-packages (from aiohttp->datasets>=2.14.6->dspy==2.6.23) (2.6.1)\n",
      "Requirement already satisfied: aiosignal>=1.1.2 in /Users/tahmidtapadar/Documents/cookbooks/venv312/lib/python3.12/site-packages (from aiohttp->datasets>=2.14.6->dspy==2.6.23) (1.3.2)\n",
      "Requirement already satisfied: attrs>=17.3.0 in /Users/tahmidtapadar/Documents/cookbooks/venv312/lib/python3.12/site-packages (from aiohttp->datasets>=2.14.6->dspy==2.6.23) (25.3.0)\n",
      "Requirement already satisfied: frozenlist>=1.1.1 in /Users/tahmidtapadar/Documents/cookbooks/venv312/lib/python3.12/site-packages (from aiohttp->datasets>=2.14.6->dspy==2.6.23) (1.6.0)\n",
      "Requirement already satisfied: multidict<7.0,>=4.5 in /Users/tahmidtapadar/Documents/cookbooks/venv312/lib/python3.12/site-packages (from aiohttp->datasets>=2.14.6->dspy==2.6.23) (6.4.3)\n",
      "Requirement already satisfied: propcache>=0.2.0 in /Users/tahmidtapadar/Documents/cookbooks/venv312/lib/python3.12/site-packages (from aiohttp->datasets>=2.14.6->dspy==2.6.23) (0.3.1)\n",
      "Requirement already satisfied: yarl<2.0,>=1.17.0 in /Users/tahmidtapadar/Documents/cookbooks/venv312/lib/python3.12/site-packages (from aiohttp->datasets>=2.14.6->dspy==2.6.23) (1.20.0)\n",
      "Requirement already satisfied: httpx>=0.23.0 in /Users/tahmidtapadar/Documents/cookbooks/venv312/lib/python3.12/site-packages (from litellm>=1.60.3->dspy==2.6.23) (0.28.1)\n",
      "Requirement already satisfied: importlib-metadata>=6.8.0 in /Users/tahmidtapadar/Documents/cookbooks/venv312/lib/python3.12/site-packages (from litellm>=1.60.3->dspy==2.6.23) (8.7.0)\n",
      "Requirement already satisfied: jinja2<4.0.0,>=3.1.2 in /Users/tahmidtapadar/Documents/cookbooks/venv312/lib/python3.12/site-packages (from litellm>=1.60.3->dspy==2.6.23) (3.1.6)\n",
      "Requirement already satisfied: jsonschema<5.0.0,>=4.22.0 in /Users/tahmidtapadar/Documents/cookbooks/venv312/lib/python3.12/site-packages (from litellm>=1.60.3->dspy==2.6.23) (4.23.0)\n",
      "Requirement already satisfied: python-dotenv>=0.2.0 in /Users/tahmidtapadar/Documents/cookbooks/venv312/lib/python3.12/site-packages (from litellm>=1.60.3->dspy==2.6.23) (1.1.0)\n",
      "Requirement already satisfied: tiktoken>=0.7.0 in /Users/tahmidtapadar/Documents/cookbooks/venv312/lib/python3.12/site-packages (from litellm>=1.60.3->dspy==2.6.23) (0.9.0)\n",
      "Requirement already satisfied: tokenizers in /Users/tahmidtapadar/Documents/cookbooks/venv312/lib/python3.12/site-packages (from litellm>=1.60.3->dspy==2.6.23) (0.21.1)\n",
      "Requirement already satisfied: MarkupSafe>=2.0 in /Users/tahmidtapadar/Documents/cookbooks/venv312/lib/python3.12/site-packages (from jinja2<4.0.0,>=3.1.2->litellm>=1.60.3->dspy==2.6.23) (3.0.2)\n",
      "Requirement already satisfied: jsonschema-specifications>=2023.03.6 in /Users/tahmidtapadar/Documents/cookbooks/venv312/lib/python3.12/site-packages (from jsonschema<5.0.0,>=4.22.0->litellm>=1.60.3->dspy==2.6.23) (2025.4.1)\n",
      "Requirement already satisfied: referencing>=0.28.4 in /Users/tahmidtapadar/Documents/cookbooks/venv312/lib/python3.12/site-packages (from jsonschema<5.0.0,>=4.22.0->litellm>=1.60.3->dspy==2.6.23) (0.36.2)\n",
      "Requirement already satisfied: rpds-py>=0.7.1 in /Users/tahmidtapadar/Documents/cookbooks/venv312/lib/python3.12/site-packages (from jsonschema<5.0.0,>=4.22.0->litellm>=1.60.3->dspy==2.6.23) (0.24.0)\n",
      "Requirement already satisfied: distro<2,>=1.7.0 in /Users/tahmidtapadar/Documents/cookbooks/venv312/lib/python3.12/site-packages (from openai>=0.28.1->dspy==2.6.23) (1.9.0)\n",
      "Requirement already satisfied: jiter<1,>=0.4.0 in /Users/tahmidtapadar/Documents/cookbooks/venv312/lib/python3.12/site-packages (from openai>=0.28.1->dspy==2.6.23) (0.9.0)\n",
      "Requirement already satisfied: certifi in /Users/tahmidtapadar/Documents/cookbooks/venv312/lib/python3.12/site-packages (from httpx>=0.23.0->litellm>=1.60.3->dspy==2.6.23) (2025.4.26)\n",
      "Requirement already satisfied: httpcore==1.* in /Users/tahmidtapadar/Documents/cookbooks/venv312/lib/python3.12/site-packages (from httpx>=0.23.0->litellm>=1.60.3->dspy==2.6.23) (1.0.9)\n",
      "Requirement already satisfied: h11>=0.16 in /Users/tahmidtapadar/Documents/cookbooks/venv312/lib/python3.12/site-packages (from httpcore==1.*->httpx>=0.23.0->litellm>=1.60.3->dspy==2.6.23) (0.16.0)\n",
      "Requirement already satisfied: annotated-types>=0.6.0 in /Users/tahmidtapadar/Documents/cookbooks/venv312/lib/python3.12/site-packages (from pydantic>=2.0->dspy==2.6.23) (0.7.0)\n",
      "Requirement already satisfied: pydantic-core==2.33.2 in /Users/tahmidtapadar/Documents/cookbooks/venv312/lib/python3.12/site-packages (from pydantic>=2.0->dspy==2.6.23) (2.33.2)\n",
      "Requirement already satisfied: typing-inspection>=0.4.0 in /Users/tahmidtapadar/Documents/cookbooks/venv312/lib/python3.12/site-packages (from pydantic>=2.0->dspy==2.6.23) (0.4.0)\n",
      "Requirement already satisfied: zipp>=3.20 in /Users/tahmidtapadar/Documents/cookbooks/venv312/lib/python3.12/site-packages (from importlib-metadata>=6.8.0->litellm>=1.60.3->dspy==2.6.23) (3.21.0)\n",
      "Requirement already satisfied: alembic>=1.5.0 in /Users/tahmidtapadar/Documents/cookbooks/venv312/lib/python3.12/site-packages (from optuna>=3.4.0->dspy==2.6.23) (1.15.2)\n",
      "Requirement already satisfied: colorlog in /Users/tahmidtapadar/Documents/cookbooks/venv312/lib/python3.12/site-packages (from optuna>=3.4.0->dspy==2.6.23) (6.9.0)\n",
      "Requirement already satisfied: sqlalchemy>=1.4.2 in /Users/tahmidtapadar/Documents/cookbooks/venv312/lib/python3.12/site-packages (from optuna>=3.4.0->dspy==2.6.23) (2.0.40)\n",
      "Requirement already satisfied: Mako in /Users/tahmidtapadar/Documents/cookbooks/venv312/lib/python3.12/site-packages (from alembic>=1.5.0->optuna>=3.4.0->dspy==2.6.23) (1.3.10)\n",
      "Requirement already satisfied: python-dateutil>=2.8.2 in /Users/tahmidtapadar/Documents/cookbooks/venv312/lib/python3.12/site-packages (from pandas>=2.1.1->dspy==2.6.23) (2.9.0.post0)\n",
      "Requirement already satisfied: pytz>=2020.1 in /Users/tahmidtapadar/Documents/cookbooks/venv312/lib/python3.12/site-packages (from pandas>=2.1.1->dspy==2.6.23) (2025.2)\n",
      "Requirement already satisfied: tzdata>=2022.7 in /Users/tahmidtapadar/Documents/cookbooks/venv312/lib/python3.12/site-packages (from pandas>=2.1.1->dspy==2.6.23) (2025.2)\n",
      "Requirement already satisfied: six>=1.5 in /Users/tahmidtapadar/Documents/cookbooks/venv312/lib/python3.12/site-packages (from python-dateutil>=2.8.2->pandas>=2.1.1->dspy==2.6.23) (1.17.0)\n",
      "Requirement already satisfied: msgpack<2.0.0,>=1.0.0 in /Users/tahmidtapadar/Documents/cookbooks/venv312/lib/python3.12/site-packages (from ray>=2.9->arbor-ai==0.1.7) (1.1.0)\n",
      "Requirement already satisfied: protobuf!=3.19.5,>=3.15.3 in /Users/tahmidtapadar/Documents/cookbooks/venv312/lib/python3.12/site-packages (from ray>=2.9->arbor-ai==0.1.7) (6.30.2)\n",
      "Requirement already satisfied: charset-normalizer<4,>=2 in /Users/tahmidtapadar/Documents/cookbooks/venv312/lib/python3.12/site-packages (from requests>=2.31.0->dspy==2.6.23) (3.4.2)\n",
      "Requirement already satisfied: urllib3<3,>=1.21.1 in /Users/tahmidtapadar/Documents/cookbooks/venv312/lib/python3.12/site-packages (from requests>=2.31.0->dspy==2.6.23) (2.4.0)\n",
      "Requirement already satisfied: markdown-it-py>=2.2.0 in /Users/tahmidtapadar/Documents/cookbooks/venv312/lib/python3.12/site-packages (from rich>=13.7.1->dspy==2.6.23) (3.0.0)\n",
      "Requirement already satisfied: pygments<3.0.0,>=2.13.0 in /Users/tahmidtapadar/Documents/cookbooks/venv312/lib/python3.12/site-packages (from rich>=13.7.1->dspy==2.6.23) (2.19.1)\n",
      "Requirement already satisfied: mdurl~=0.1 in /Users/tahmidtapadar/Documents/cookbooks/venv312/lib/python3.12/site-packages (from markdown-it-py>=2.2.0->rich>=13.7.1->dspy==2.6.23) (0.1.2)\n",
      "Requirement already satisfied: IPython in /Users/tahmidtapadar/Documents/cookbooks/venv312/lib/python3.12/site-packages (from sglang>=0.4.6.post1->sglang[all]>=0.4.6.post1->arbor-ai==0.1.7) (9.2.0)\n",
      "Requirement already satisfied: setproctitle in /Users/tahmidtapadar/Documents/cookbooks/venv312/lib/python3.12/site-packages (from sglang>=0.4.6.post1->sglang[all]>=0.4.6.post1->arbor-ai==0.1.7) (1.3.6)\n",
      "Requirement already satisfied: starlette<0.47.0,>=0.40.0 in /Users/tahmidtapadar/Documents/cookbooks/venv312/lib/python3.12/site-packages (from fastapi->arbor-ai==0.1.7) (0.46.2)\n",
      "Requirement already satisfied: decorator in /Users/tahmidtapadar/Documents/cookbooks/venv312/lib/python3.12/site-packages (from IPython->sglang>=0.4.6.post1->sglang[all]>=0.4.6.post1->arbor-ai==0.1.7) (5.2.1)\n",
      "Requirement already satisfied: ipython-pygments-lexers in /Users/tahmidtapadar/Documents/cookbooks/venv312/lib/python3.12/site-packages (from IPython->sglang>=0.4.6.post1->sglang[all]>=0.4.6.post1->arbor-ai==0.1.7) (1.1.1)\n",
      "Requirement already satisfied: jedi>=0.16 in /Users/tahmidtapadar/Documents/cookbooks/venv312/lib/python3.12/site-packages (from IPython->sglang>=0.4.6.post1->sglang[all]>=0.4.6.post1->arbor-ai==0.1.7) (0.19.2)\n",
      "Requirement already satisfied: matplotlib-inline in /Users/tahmidtapadar/Documents/cookbooks/venv312/lib/python3.12/site-packages (from IPython->sglang>=0.4.6.post1->sglang[all]>=0.4.6.post1->arbor-ai==0.1.7) (0.1.7)\n",
      "Requirement already satisfied: pexpect>4.3 in /Users/tahmidtapadar/Documents/cookbooks/venv312/lib/python3.12/site-packages (from IPython->sglang>=0.4.6.post1->sglang[all]>=0.4.6.post1->arbor-ai==0.1.7) (4.9.0)\n",
      "Requirement already satisfied: prompt_toolkit<3.1.0,>=3.0.41 in /Users/tahmidtapadar/Documents/cookbooks/venv312/lib/python3.12/site-packages (from IPython->sglang>=0.4.6.post1->sglang[all]>=0.4.6.post1->arbor-ai==0.1.7) (3.0.51)\n",
      "Requirement already satisfied: stack_data in /Users/tahmidtapadar/Documents/cookbooks/venv312/lib/python3.12/site-packages (from IPython->sglang>=0.4.6.post1->sglang[all]>=0.4.6.post1->arbor-ai==0.1.7) (0.6.3)\n",
      "Requirement already satisfied: traitlets>=5.13.0 in /Users/tahmidtapadar/Documents/cookbooks/venv312/lib/python3.12/site-packages (from IPython->sglang>=0.4.6.post1->sglang[all]>=0.4.6.post1->arbor-ai==0.1.7) (5.14.3)\n",
      "Requirement already satisfied: wcwidth in /Users/tahmidtapadar/Documents/cookbooks/venv312/lib/python3.12/site-packages (from prompt_toolkit<3.1.0,>=3.0.41->IPython->sglang>=0.4.6.post1->sglang[all]>=0.4.6.post1->arbor-ai==0.1.7) (0.2.13)\n",
      "Requirement already satisfied: parso<0.9.0,>=0.8.4 in /Users/tahmidtapadar/Documents/cookbooks/venv312/lib/python3.12/site-packages (from jedi>=0.16->IPython->sglang>=0.4.6.post1->sglang[all]>=0.4.6.post1->arbor-ai==0.1.7) (0.8.4)\n",
      "Requirement already satisfied: ptyprocess>=0.5 in /Users/tahmidtapadar/Documents/cookbooks/venv312/lib/python3.12/site-packages (from pexpect>4.3->IPython->sglang>=0.4.6.post1->sglang[all]>=0.4.6.post1->arbor-ai==0.1.7) (0.7.0)\n",
      "Requirement already satisfied: psutil in /Users/tahmidtapadar/Documents/cookbooks/venv312/lib/python3.12/site-packages (from peft->arbor-ai==0.1.7) (7.0.0)\n",
      "Requirement already satisfied: accelerate>=0.21.0 in /Users/tahmidtapadar/Documents/cookbooks/venv312/lib/python3.12/site-packages (from peft->arbor-ai==0.1.7) (1.6.0)\n",
      "Requirement already satisfied: safetensors in /Users/tahmidtapadar/Documents/cookbooks/venv312/lib/python3.12/site-packages (from peft->arbor-ai==0.1.7) (0.5.3)\n",
      "Requirement already satisfied: sympy>=1.13.3 in /Users/tahmidtapadar/Documents/cookbooks/venv312/lib/python3.12/site-packages (from torch->arbor-ai==0.1.7) (1.14.0)\n",
      "Requirement already satisfied: networkx in /Users/tahmidtapadar/Documents/cookbooks/venv312/lib/python3.12/site-packages (from torch->arbor-ai==0.1.7) (3.4.2)\n",
      "Requirement already satisfied: mpmath<1.4,>=1.1.0 in /Users/tahmidtapadar/Documents/cookbooks/venv312/lib/python3.12/site-packages (from sympy>=1.13.3->torch->arbor-ai==0.1.7) (1.3.0)\n",
      "Collecting anthropic>=0.20.0 (from sglang>=0.4.6.post1->sglang[all]>=0.4.6.post1->arbor-ai==0.1.7)\n",
      "  Downloading anthropic-0.50.0-py3-none-any.whl.metadata (25 kB)\n",
      "INFO: pip is looking at multiple versions of sglang[srt] to determine which version is compatible with other requirements. This could take a while.\n",
      "  Using cached anthropic-0.49.0-py3-none-any.whl.metadata (24 kB)\n",
      "Collecting sglang-router (from arbor-ai==0.1.7)\n",
      "  Using cached sglang_router-0.1.4-cp312-cp312-macosx_14_0_arm64.whl\n",
      "Collecting setproctitle (from sglang>=0.4.6.post1->sglang[all]>=0.4.6.post1->arbor-ai==0.1.7)\n",
      "  Using cached setproctitle-1.3.6-cp312-cp312-macosx_11_0_arm64.whl.metadata (10 kB)\n",
      "Collecting scipy (from bm25s)\n",
      "  Using cached scipy-1.15.2-cp312-cp312-macosx_14_0_arm64.whl.metadata (61 kB)\n",
      "Collecting python-multipart (from arbor-ai==0.1.7)\n",
      "  Using cached python_multipart-0.0.20-py3-none-any.whl.metadata (1.8 kB)\n",
      "Collecting pydantic-settings (from arbor-ai==0.1.7)\n",
      "  Using cached pydantic_settings-2.9.1-py3-none-any.whl.metadata (3.8 kB)\n",
      "Collecting psutil (from peft->arbor-ai==0.1.7)\n",
      "  Using cached psutil-7.0.0-cp36-abi3-macosx_11_0_arm64.whl.metadata (22 kB)\n",
      "INFO: pip is still looking at multiple versions of sglang[srt] to determine which version is compatible with other requirements. This could take a while.\n",
      "Collecting networkx (from torch->arbor-ai==0.1.7)\n",
      "  Using cached networkx-3.4.2-py3-none-any.whl.metadata (6.3 kB)\n",
      "Collecting mpmath<1.4,>=1.1.0 (from sympy>=1.13.3->torch->arbor-ai==0.1.7)\n",
      "  Using cached mpmath-1.3.0-py3-none-any.whl.metadata (8.6 kB)\n",
      "Collecting sympy>=1.13.3 (from torch->arbor-ai==0.1.7)\n",
      "  Using cached sympy-1.14.0-py3-none-any.whl.metadata (12 kB)\n",
      "Collecting torch (from arbor-ai==0.1.7)\n",
      "  Using cached torch-2.7.0-cp312-none-macosx_11_0_arm64.whl.metadata (29 kB)\n",
      "Collecting safetensors (from peft->arbor-ai==0.1.7)\n",
      "  Using cached safetensors-0.5.3-cp38-abi3-macosx_11_0_arm64.whl.metadata (3.8 kB)\n",
      "INFO: This is taking longer than usual. You might need to provide the dependency resolver with stricter constraints to reduce runtime. See https://pip.pypa.io/warnings/backtracking for guidance. If you want to abort this run, press Ctrl + C.\n",
      "Collecting accelerate>=0.21.0 (from peft->arbor-ai==0.1.7)\n",
      "  Using cached accelerate-1.6.0-py3-none-any.whl.metadata (19 kB)\n",
      "Collecting peft (from arbor-ai==0.1.7)\n",
      "  Using cached peft-0.15.2-py3-none-any.whl.metadata (13 kB)\n",
      "Collecting matplotlib-inline (from IPython->sglang>=0.4.6.post1->sglang[all]>=0.4.6.post1->arbor-ai==0.1.7)\n",
      "  Using cached matplotlib_inline-0.1.7-py3-none-any.whl.metadata (3.9 kB)\n",
      "Collecting Mako (from alembic>=1.5.0->optuna>=3.4.0->dspy==2.6.23)\n",
      "  Using cached mako-1.3.10-py3-none-any.whl.metadata (2.9 kB)\n",
      "Collecting ipython-pygments-lexers (from IPython->sglang>=0.4.6.post1->sglang[all]>=0.4.6.post1->arbor-ai==0.1.7)\n",
      "  Using cached ipython_pygments_lexers-1.1.1-py3-none-any.whl.metadata (1.1 kB)\n",
      "Collecting decorator (from IPython->sglang>=0.4.6.post1->sglang[all]>=0.4.6.post1->arbor-ai==0.1.7)\n",
      "  Using cached decorator-5.2.1-py3-none-any.whl.metadata (3.9 kB)\n",
      "Collecting traitlets>=5.13.0 (from IPython->sglang>=0.4.6.post1->sglang[all]>=0.4.6.post1->arbor-ai==0.1.7)\n",
      "  Using cached traitlets-5.14.3-py3-none-any.whl.metadata (10 kB)\n",
      "Collecting ptyprocess>=0.5 (from pexpect>4.3->IPython->sglang>=0.4.6.post1->sglang[all]>=0.4.6.post1->arbor-ai==0.1.7)\n",
      "  Using cached ptyprocess-0.7.0-py2.py3-none-any.whl.metadata (1.3 kB)\n",
      "Collecting pexpect>4.3 (from IPython->sglang>=0.4.6.post1->sglang[all]>=0.4.6.post1->arbor-ai==0.1.7)\n",
      "  Using cached pexpect-4.9.0-py2.py3-none-any.whl.metadata (2.5 kB)\n",
      "Collecting parso<0.9.0,>=0.8.4 (from jedi>=0.16->IPython->sglang>=0.4.6.post1->sglang[all]>=0.4.6.post1->arbor-ai==0.1.7)\n",
      "  Using cached parso-0.8.4-py2.py3-none-any.whl.metadata (7.7 kB)\n",
      "Collecting jedi>=0.16 (from IPython->sglang>=0.4.6.post1->sglang[all]>=0.4.6.post1->arbor-ai==0.1.7)\n",
      "  Using cached jedi-0.19.2-py2.py3-none-any.whl.metadata (22 kB)\n",
      "Collecting prompt_toolkit<3.1.0,>=3.0.41 (from IPython->sglang>=0.4.6.post1->sglang[all]>=0.4.6.post1->arbor-ai==0.1.7)\n",
      "  Using cached prompt_toolkit-3.0.51-py3-none-any.whl.metadata (6.4 kB)\n",
      "Collecting IPython (from sglang>=0.4.6.post1->sglang[all]>=0.4.6.post1->arbor-ai==0.1.7)\n",
      "  Using cached ipython-9.2.0-py3-none-any.whl.metadata (4.4 kB)\n",
      "Collecting filelock (from datasets>=2.14.6->dspy==2.6.23)\n",
      "  Using cached filelock-3.18.0-py3-none-any.whl.metadata (2.9 kB)\n",
      "Collecting starlette<0.47.0,>=0.40.0 (from fastapi->arbor-ai==0.1.7)\n",
      "  Using cached starlette-0.46.2-py3-none-any.whl.metadata (6.2 kB)\n",
      "Collecting fastapi (from arbor-ai==0.1.7)\n",
      "  Using cached fastapi-0.115.12-py3-none-any.whl.metadata (27 kB)\n",
      "Collecting colorlog (from optuna>=3.4.0->dspy==2.6.23)\n",
      "  Using cached colorlog-6.9.0-py3-none-any.whl.metadata (10 kB)\n",
      "Collecting zipp>=3.20 (from importlib-metadata>=6.8.0->litellm>=1.60.3->dspy==2.6.23)\n",
      "  Using cached zipp-3.21.0-py3-none-any.whl.metadata (3.7 kB)\n",
      "Collecting ujson>=5.8.0 (from dspy==2.6.23)\n",
      "  Using cached ujson-5.10.0-cp312-cp312-macosx_11_0_arm64.whl.metadata (9.3 kB)\n",
      "Collecting tzdata>=2022.7 (from pandas>=2.1.1->dspy==2.6.23)\n",
      "  Using cached tzdata-2025.2-py2.py3-none-any.whl.metadata (1.4 kB)\n",
      "Collecting typing-inspection>=0.4.0 (from pydantic>=2.0->dspy==2.6.23)\n",
      "  Using cached typing_inspection-0.4.0-py3-none-any.whl.metadata (2.6 kB)\n",
      "Collecting tqdm>=4.66.1 (from dspy==2.6.23)\n",
      "  Using cached tqdm-4.67.1-py3-none-any.whl.metadata (57 kB)\n",
      "Collecting tiktoken>=0.7.0 (from litellm>=1.60.3->dspy==2.6.23)\n",
      "  Using cached tiktoken-0.9.0-cp312-cp312-macosx_11_0_arm64.whl.metadata (6.7 kB)\n",
      "Collecting tenacity>=8.2.3 (from dspy==2.6.23)\n",
      "  Using cached tenacity-9.1.2-py3-none-any.whl.metadata (1.2 kB)\n",
      "Collecting sqlalchemy>=1.4.2 (from optuna>=3.4.0->dspy==2.6.23)\n",
      "  Using cached sqlalchemy-2.0.40-cp312-cp312-macosx_11_0_arm64.whl.metadata (9.6 kB)\n",
      "Collecting sniffio>=1.1 (from anyio->dspy==2.6.23)\n",
      "  Using cached sniffio-1.3.1-py3-none-any.whl.metadata (3.9 kB)\n",
      "Collecting six>=1.5 (from python-dateutil>=2.8.2->pandas>=2.1.1->dspy==2.6.23)\n",
      "  Using cached six-1.17.0-py2.py3-none-any.whl.metadata (1.7 kB)\n",
      "Collecting sglang[all]>=0.4.6.post1 (from arbor-ai==0.1.7)\n",
      "  Using cached sglang-0.4.6.post2-py3-none-any.whl.metadata (25 kB)\n",
      "  Downloading sglang-0.4.6.post1-py3-none-any.whl.metadata (25 kB)\n",
      "INFO: pip is looking at multiple versions of sglang[all] to determine which version is compatible with other requirements. This could take a while.\n",
      "Collecting rpds-py>=0.7.1 (from jsonschema<5.0.0,>=4.22.0->litellm>=1.60.3->dspy==2.6.23)\n",
      "  Using cached rpds_py-0.24.0-cp312-cp312-macosx_11_0_arm64.whl.metadata (4.1 kB)\n",
      "  Downloading rpds_py-0.23.1-cp312-cp312-macosx_11_0_arm64.whl.metadata (4.1 kB)\n",
      "  Downloading rpds_py-0.23.0-cp312-cp312-macosx_11_0_arm64.whl.metadata (4.1 kB)\n",
      "  Downloading rpds_py-0.22.3-cp312-cp312-macosx_11_0_arm64.whl.metadata (4.2 kB)\n",
      "  Downloading rpds_py-0.21.0-cp312-cp312-macosx_11_0_arm64.whl.metadata (4.2 kB)\n",
      "  Downloading rpds_py-0.20.1-cp312-cp312-macosx_11_0_arm64.whl.metadata (4.2 kB)\n",
      "  Downloading rpds_py-0.20.0-cp312-cp312-macosx_11_0_arm64.whl.metadata (4.2 kB)\n",
      "  Downloading rpds_py-0.19.1-cp312-cp312-macosx_11_0_arm64.whl.metadata (4.2 kB)\n",
      "  Downloading rpds_py-0.19.0-cp312-cp312-macosx_11_0_arm64.whl.metadata (4.1 kB)\n",
      "  Downloading rpds_py-0.18.1-cp312-cp312-macosx_11_0_arm64.whl.metadata (4.1 kB)\n",
      "  Downloading rpds_py-0.18.0-cp312-cp312-macosx_11_0_arm64.whl.metadata (4.1 kB)\n",
      "  Downloading rpds_py-0.17.1-cp312-cp312-macosx_11_0_arm64.whl.metadata (4.1 kB)\n",
      "  Downloading rpds_py-0.16.2-cp312-cp312-macosx_11_0_arm64.whl.metadata (4.1 kB)\n",
      "  Downloading rpds_py-0.16.1-cp312-cp312-macosx_11_0_arm64.whl.metadata (4.1 kB)\n",
      "  Downloading rpds_py-0.15.2-cp312-cp312-macosx_11_0_arm64.whl.metadata (4.1 kB)\n",
      "  Downloading rpds_py-0.15.1-cp312-cp312-macosx_11_0_arm64.whl.metadata (4.1 kB)\n",
      "  Downloading rpds_py-0.14.2-cp312-cp312-macosx_11_0_arm64.whl.metadata (3.9 kB)\n",
      "  Downloading rpds_py-0.14.1-cp312-cp312-macosx_11_0_arm64.whl.metadata (3.9 kB)\n",
      "  Downloading rpds_py-0.13.2-cp312-cp312-macosx_11_0_arm64.whl.metadata (3.9 kB)\n",
      "  Downloading rpds_py-0.13.1-cp312-cp312-macosx_11_0_arm64.whl.metadata (3.7 kB)\n",
      "  Downloading rpds_py-0.13.0-cp312-cp312-macosx_11_0_arm64.whl.metadata (3.7 kB)\n",
      "  Downloading rpds_py-0.12.0-cp312-cp312-macosx_11_0_arm64.whl.metadata (3.7 kB)\n",
      "  Downloading rpds_py-0.11.0-cp312-cp312-macosx_11_0_arm64.whl.metadata (3.7 kB)\n",
      "  Downloading rpds_py-0.10.6-cp312-cp312-macosx_11_0_arm64.whl.metadata (3.7 kB)\n",
      "  Downloading rpds_py-0.10.5-cp312-cp312-macosx_11_0_arm64.whl.metadata (3.7 kB)\n",
      "  Downloading rpds_py-0.10.4-cp312-cp312-macosx_11_0_arm64.whl.metadata (3.7 kB)\n",
      "  Downloading rpds_py-0.10.3-cp312-cp312-macosx_11_0_arm64.whl.metadata (3.7 kB)\n",
      "  Downloading rpds_py-0.10.2-cp312-cp312-macosx_11_0_arm64.whl.metadata (3.7 kB)\n",
      "  Downloading rpds_py-0.10.0-cp312-cp312-macosx_11_0_arm64.whl.metadata (3.7 kB)\n",
      "  Downloading rpds_py-0.9.2-cp312-cp312-macosx_11_0_arm64.whl.metadata (3.7 kB)\n",
      "  Downloading rpds_py-0.8.12-cp312-cp312-macosx_11_0_arm64.whl.metadata (3.7 kB)\n",
      "  Downloading rpds_py-0.8.11-cp312-cp312-macosx_11_0_arm64.whl.metadata (3.6 kB)\n",
      "  Downloading rpds_py-0.8.10-cp312-cp312-macosx_11_0_arm64.whl.metadata (3.6 kB)\n",
      "  Downloading rpds_py-0.8.8-cp312-cp312-macosx_11_0_arm64.whl.metadata (3.6 kB)\n",
      "  Downloading rpds_py-0.8.7.tar.gz (15 kB)\n",
      "  Installing build dependencies ... \u001b[?25ldone\n",
      "\u001b[?25h  Getting requirements to build wheel ... \u001b[?25ldone\n",
      "\u001b[?25h  Preparing metadata (pyproject.toml) ... \u001b[?25ldone\n",
      "\u001b[?25h  Downloading rpds_py-0.8.6.tar.gz (15 kB)\n",
      "  Installing build dependencies ... \u001b[?25ldone\n",
      "\u001b[?25h  Getting requirements to build wheel ... \u001b[?25ldone\n",
      "\u001b[?25h  Preparing metadata (pyproject.toml) ... \u001b[?25ldone\n",
      "\u001b[?25h  Downloading rpds_py-0.8.4.tar.gz (15 kB)\n",
      "  Installing build dependencies ... \u001b[?25ldone\n",
      "\u001b[?25h  Getting requirements to build wheel ... \u001b[?25ldone\n",
      "\u001b[?25h  Preparing metadata (pyproject.toml) ... \u001b[?25ldone\n",
      "\u001b[?25h  Downloading rpds_py-0.8.3.tar.gz (15 kB)\n",
      "  Installing build dependencies ... \u001b[?25ldone\n",
      "\u001b[?25h  Getting requirements to build wheel ... \u001b[?25ldone\n",
      "\u001b[?25h  Preparing metadata (pyproject.toml) ... \u001b[?25ldone\n",
      "\u001b[?25h  Downloading rpds_py-0.7.1-cp38-abi3-macosx_11_0_arm64.whl.metadata (2.6 kB)\n",
      "Collecting mdurl~=0.1 (from markdown-it-py>=2.2.0->rich>=13.7.1->dspy==2.6.23)\n",
      "  Using cached mdurl-0.1.2-py3-none-any.whl.metadata (1.6 kB)\n",
      "  Downloading mdurl-0.1.1-py3-none-any.whl.metadata (1.6 kB)\n",
      "  Downloading mdurl-0.1.0-py3-none-any.whl.metadata (4.7 kB)\n",
      "INFO: pip is still looking at multiple versions of sglang[all] to determine which version is compatible with other requirements. This could take a while.\n",
      "INFO: This is taking longer than usual. You might need to provide the dependency resolver with stricter constraints to reduce runtime. See https://pip.pypa.io/warnings/backtracking for guidance. If you want to abort this run, press Ctrl + C.\n",
      "Collecting markdown-it-py>=2.2.0 (from rich>=13.7.1->dspy==2.6.23)\n",
      "  Using cached markdown_it_py-3.0.0-py3-none-any.whl.metadata (6.9 kB)\n",
      "  Downloading markdown_it_py-2.2.0-py3-none-any.whl.metadata (6.8 kB)\n",
      "Collecting pygments<3.0.0,>=2.13.0 (from rich>=13.7.1->dspy==2.6.23)\n",
      "  Using cached pygments-2.19.1-py3-none-any.whl.metadata (2.5 kB)\n",
      "  Downloading pygments-2.19.0-py3-none-any.whl.metadata (2.5 kB)\n",
      "  Downloading pygments-2.18.0-py3-none-any.whl.metadata (2.5 kB)\n",
      "  Downloading pygments-2.17.2-py3-none-any.whl.metadata (2.6 kB)\n",
      "  Downloading pygments-2.17.1-py3-none-any.whl.metadata (2.6 kB)\n",
      "  Downloading pygments-2.17.0-py3-none-any.whl.metadata (2.6 kB)\n",
      "  Downloading Pygments-2.16.1-py3-none-any.whl.metadata (2.5 kB)\n",
      "  Downloading Pygments-2.16.0-py3-none-any.whl.metadata (2.5 kB)\n",
      "  Downloading Pygments-2.15.1-py3-none-any.whl.metadata (2.5 kB)\n",
      "  Downloading Pygments-2.15.0-py3-none-any.whl.metadata (2.5 kB)\n",
      "  Downloading Pygments-2.14.0-py3-none-any.whl.metadata (1.6 kB)\n",
      "  Downloading Pygments-2.13.0-py3-none-any.whl.metadata (1.6 kB)\n",
      "Collecting rich>=13.7.1 (from dspy==2.6.23)\n",
      "  Using cached rich-14.0.0-py3-none-any.whl.metadata (18 kB)\n",
      "  Using cached rich-13.9.4-py3-none-any.whl.metadata (18 kB)\n",
      "  Downloading rich-13.9.3-py3-none-any.whl.metadata (18 kB)\n",
      "  Downloading rich-13.9.2-py3-none-any.whl.metadata (18 kB)\n",
      "  Downloading rich-13.9.1-py3-none-any.whl.metadata (18 kB)\n",
      "  Downloading rich-13.9.0-py3-none-any.whl.metadata (18 kB)\n",
      "\u001b[1;31merror\u001b[0m: \u001b[1mresolution-too-deep\u001b[0m\n",
      "\n",
      "\u001b[31m×\u001b[0m Dependency resolution exceeded maximum depth\n",
      "\u001b[31m╰─>\u001b[0m Pip cannot resolve the current dependencies as the dependency graph is too complex for pip to solve efficiently.\n",
      "\n",
      "\u001b[1;36mhint\u001b[0m: Try adding lower bounds to constrain your dependencies, for example: \u001b[32m'package>=2.0.0'\u001b[0m instead of just \u001b[32m'package'\u001b[0m.\n",
      "\n",
      "Link: \u001b[4;94mhttps://pip.pypa.io/en/stable/topics/dependency-resolution/#handling-resolution-too-deep-errors\u001b[0m\n",
      "Note: you may need to restart the kernel to use updated packages.\n"
     ]
    }
   ],
   "source": [
    "%pip install dspy bm25s PyStemmer git+https://github.com/Ziems/arbor.git git+https://github.com/stanfordnlp/dspy.git@refs/pull/8171/head"
   ]
  },
  {
   "cell_type": "markdown",
   "metadata": {},
   "source": [
    "## Set up\n",
    "\n",
    "First, let's configure our environment. This involves connecting to an AI model provider. In this example, we'll set up a connection to a local Arbor server, which will act as our Reinforcement Learning (RL) server. This server handles inference and RL requests over HTTP. We'll also specify and load the Qwen3-1.7B model. "
   ]
  },
  {
   "cell_type": "code",
   "execution_count": 205,
   "metadata": {},
   "outputs": [],
   "source": [
    "import dspy\n",
    "from dspy.clients.lm_local_arbor import ArborProvider\n",
    "\n",
    "# Connect to local Arbor server\n",
    "port = 7453\n",
    "local_lm_name = \"Qwen/Qwen3-1.7B\"\n",
    "\n",
    "local_lm = dspy.LM(\n",
    "    model=f\"openai/arbor:{local_lm_name}\",\n",
    "    provider=ArborProvider(),\n",
    "    temperature=0.7,\n",
    "    api_base=f\"http://localhost:{port}/v1/\",\n",
    "    api_key=\"arbor\",\n",
    ")\n",
    "\n",
    "dspy.configure(lm=local_lm)"
   ]
  },
  {
   "cell_type": "markdown",
   "metadata": {},
   "source": [
    "## Load Dataset\n",
    "\n",
    "With our environment configured, the next step is to load a dataset. For this example, we'll use a dataset containing questions about GPT research papers (GPT-1, GPT-2, GPT-3, GPT-4). Each example contains a query and its expected answer.\n",
    "\n",
    "DSPy works with examples in a specific format, so we'll convert our raw data into `dspy.Example` objects. Each example will have a question as input and the expected answer for evaluation. We'll split our dataset into training, validation, and test sets to properly evaluate our approach.\n",
    "\n",
    "The training set will be used to optimize our agent, the validation set to tune parameters and monitor progress, and the test set for final evaluation."
   ]
  },
  {
   "cell_type": "code",
   "execution_count": 206,
   "metadata": {},
   "outputs": [
    {
     "name": "stdout",
     "output_type": "stream",
     "text": [
      "Train size: 100, Dev size: 50, Test size: 50\n"
     ]
    }
   ],
   "source": [
    "import json\n",
    "import random\n",
    "\n",
    "# Load the dataset from a JSON file\n",
    "ds = json.load(open(\"../data/evalset/evalset.json\"))\n",
    "document_chunks = list({doc[\"document\"] for doc in ds})  \n",
    "\n",
    "# Convert to DSPy Examples\n",
    "examples = [\n",
    "    dspy.Example(question=ex[\"query\"], answers=[ex[\"answer\"]]).with_inputs(\"question\")\n",
    "    for ex in ds\n",
    "    if ex[\"answer\"].strip()\n",
    "]\n",
    "\n",
    "# Shuffle for randomness and reproducibility\n",
    "random.seed(42)\n",
    "random.shuffle(examples)\n",
    "\n",
    "# Split into train, validation, and test sets\n",
    "trainset = examples[:100]\n",
    "devset = examples[100:150]\n",
    "testset = examples[150:200]\n",
    "\n",
    "print(f\"Train size: {len(trainset)}, Dev size: {len(devset)}, Test size: {len(testset)}\")"
   ]
  },
  {
   "cell_type": "markdown",
   "metadata": {},
   "source": [
    "## Implement Search Functionality\n",
    "\n",
    "Before building our agent, we need to implement the search functionality that will retrieve relevant documents based on a query. In a real-world application, this might connect to a vector database or search engine.\n",
    "\n",
    "For this example, we'll create a simple search function that simulates document retrieval from our corpus of GPT research papers. The function will:\n",
    "1. Take a query string and number of results (k) as input\n",
    "2. Tokenize and embed the query\n",
    "3. Retrieve the k most relevant documents based on embedding similarity\n",
    "4. Return the list of retrieved documents\n",
    "\n",
    "This search function will be used by our agent to find information relevant to user questions."
   ]
  },
  {
   "cell_type": "code",
   "execution_count": 207,
   "metadata": {},
   "outputs": [
    {
     "name": "stderr",
     "output_type": "stream",
     "text": [
      "DEBUG:bm25s:Building index from IDs objects           \n",
      "                                                             \r"
     ]
    }
   ],
   "source": [
    "import bm25s\n",
    "import Stemmer\n",
    "\n",
    "#corpus = [f\"{ex.inputs()['question']} | {ans}\" for ex in trainset for ans in ex.answers]\n",
    "corpus = document_chunks\n",
    "stemmer = Stemmer.Stemmer(\"english\")\n",
    "corpus_tokens = bm25s.tokenize(corpus, stopwords=\"en\", stemmer=stemmer)\n",
    "retriever = bm25s.BM25(k1=0.9, b=0.4)\n",
    "retriever.index(corpus_tokens)\n",
    "\n",
    "# BM25 Search Wrapper\n",
    "def search(query: str, k: int = 3):\n",
    "    tokens = bm25s.tokenize(query, stopwords=\"en\", stemmer=stemmer, show_progress=False)\n",
    "    results, scores = retriever.retrieve(tokens, k=k, n_threads=1, show_progress=False)\n",
    "    run = {corpus[doc]: float(score) for doc, score in zip(results[0], scores[0])}\n",
    "    return list(run.keys())"
   ]
  },
  {
   "cell_type": "markdown",
   "metadata": {},
   "source": [
    "## Building the Agent\n",
    "\n",
    "Now we'll create our agent using DSPy's module system. Our agent will be a simple query rewriter that takes a user question, rewrites it to be more specific and search-friendly, and then retrieves relevant documents.\n",
    "\n",
    "The agent consists of two main components:\n",
    "1. A query rewriting module that uses Chain-of-Thought reasoning to improve the original question\n",
    "2. A document retrieval step that uses our search function to find relevant information\n",
    "\n",
    "This simple agent will serve as our baseline before optimization with GRPO."
   ]
  },
  {
   "cell_type": "code",
   "execution_count": 208,
   "metadata": {},
   "outputs": [],
   "source": [
    "# DSPy Module for Query Rewriting\n",
    "class QueryRewriter(dspy.Module):\n",
    "    def __init__(self):\n",
    "        super().__init__()\n",
    "\n",
    "        self.rewrite = dspy.ChainOfThought(\n",
    "            dspy.Signature(\n",
    "                \"question -> rewritten_query\",\n",
    "                \"Rewrite the vague user question into a more specific search query.\"\n",
    "            )\n",
    "        )\n",
    "        self.rewrite.set_lm(dspy.settings.lm)\n",
    "\n",
    "    def forward(self, question):\n",
    "        rewritten_query = self.rewrite(question=question).rewritten_query\n",
    "        retrieved_docs = search(rewritten_query, k=3)\n",
    "        return dspy.Prediction(rewritten_query=rewritten_query, retrieved_docs=retrieved_docs)\n"
   ]
  },
  {
   "cell_type": "markdown",
   "metadata": {},
   "source": [
    "## Defining the Reward Function\n",
    "\n",
    "For GRPO to work effectively, we need to define a reward function that evaluates the performance of our agent. This function will determine how well the agent is doing and guide the optimization process.\n",
    "\n",
    "In our case, we'll use a simple reward function that checks if any of the retrieved documents contain the expected answer. This binary reward (0 or 1) will indicate whether the agent successfully found the information needed to answer the user's question.\n",
    "\n",
    "For this example, we'll keep it simple with a binary reward based on exact substring matching."
   ]
  },
  {
   "cell_type": "code",
   "execution_count": 209,
   "metadata": {},
   "outputs": [],
   "source": [
    "import re\n",
    "# Reward Function\n",
    "def contains_answer(example, pred, trace=None):\n",
    "    docs = [doc.lower() for doc in pred.retrieved_docs]\n",
    "    answers = [ans.lower() for ans in example.answers]\n",
    "\n",
    "    def normalize(text):\n",
    "        return re.sub(r\"[^a-z0-9]\", \" \", text.lower()).split()\n",
    "\n",
    "    for answer in answers:\n",
    "        answer_tokens = set(normalize(answer))\n",
    "        for doc in docs:\n",
    "            doc_tokens = set(normalize(doc))\n",
    "            if len(answer_tokens & doc_tokens) / len(answer_tokens) > 0.75:  # 75% token overlap\n",
    "                return 1.0\n",
    "    return 0.0\n",
    "\n",
    "# Recall Score\n",
    "def recall_score(example, pred, trace=None):\n",
    "    print(\"QUESTION:\", example.inputs())\n",
    "    print(\"ANSWERS:\", example.answers)\n",
    "    print(\"RETRIEVED:\", pred.retrieved_docs)\n",
    "    predictions = [doc.lower() for doc in pred.retrieved_docs]\n",
    "    labels = [answer.lower() for answer in example.answers]\n",
    "    if not labels:\n",
    "        return 0.0\n",
    "    hits = sum(any(label in doc for doc in predictions) for label in labels)\n",
    "    return hits / len(labels)"
   ]
  },
  {
   "cell_type": "markdown",
   "metadata": {},
   "source": [
    "## Evaluating the Baseline Agent\n",
    "\n",
    "Before optimizing our agent, we need to establish a baseline performance. This will help us measure the improvement achieved through GRPO.\n",
    "\n",
    "We'll use DSPy's evaluation framework to test our agent on the validation set. The evaluation will:\n",
    "1. Run the agent on each example in the validation set\n",
    "2. Apply our reward function to measure performance\n",
    "3. Calculate the average reward across all examples\n",
    "\n",
    "This baseline score will serve as our reference point for improvement."
   ]
  },
  {
   "cell_type": "code",
   "execution_count": 210,
   "metadata": {},
   "outputs": [
    {
     "name": "stdout",
     "output_type": "stream",
     "text": [
      "Average Metric: 14.00 / 50 (28.0%): 100%|██████████| 50/50 [00:00<00:00, 759.95it/s]"
     ]
    },
    {
     "name": "stderr",
     "output_type": "stream",
     "text": [
      "2025/05/07 18:28:03 INFO dspy.evaluate.evaluate: Average Metric: 14.0 / 50 (28.0%)\n"
     ]
    },
    {
     "name": "stdout",
     "output_type": "stream",
     "text": [
      "\n",
      "\n",
      "Baseline Performance: 28.0000\n"
     ]
    }
   ],
   "source": [
    "# Baseline Eval\n",
    "program = QueryRewriter()\n",
    "evaluate = dspy.Evaluate(devset=devset, metric=contains_answer, num_threads=4, display_progress=True)\n",
    "baseline_result = evaluate(program)\n",
    "\n",
    "print(f\"\\nBaseline Performance: {baseline_result:.4f}\")"
   ]
  },
  {
   "cell_type": "markdown",
   "metadata": {},
   "source": [
    "## Optimizing with GRPO\n",
    "\n",
    "Now that we have our baseline agent and evaluation metric, we can apply GRPO to optimize the agent's performance. GRPO works by:\n",
    "\n",
    "1. Sampling multiple outputs from the agent for each input\n",
    "2. Evaluating each output using our reward function\n",
    "3. Using the rewards to update the model's parameters through reinforcement learning\n",
    "\n",
    "The key parameters for GRPO include:\n",
    "- `update_interval`: How often to update the model\n",
    "- `num_samples_per_input`: How many different outputs to generate for each input\n",
    "- `num_train_steps`: Total number of training steps\n",
    "- `beta`: Controls the trade-off between optimizing for rewards and staying close to the original model\n",
    "\n",
    "We'll configure these parameters and run the optimization process."
   ]
  },
  {
   "cell_type": "code",
   "execution_count": 211,
   "metadata": {},
   "outputs": [
    {
     "name": "stderr",
     "output_type": "stream",
     "text": [
      "2025/05/07 18:28:05 INFO dspy.teleprompt.grpo: Validating the inputs...\n",
      "2025/05/07 18:28:05 INFO dspy.teleprompt.grpo: Preparing the student program...\n",
      "2025/05/07 18:28:05 INFO dspy.teleprompt.grpo: Preparing the GRPO training job(s)...\n"
     ]
    },
    {
     "name": "stdout",
     "output_type": "stream",
     "text": [
      "Starting GRPO optimization. This may take some time...\n"
     ]
    },
    {
     "name": "stderr",
     "output_type": "stream",
     "text": [
      "2025/05/07 18:29:08 INFO dspy.teleprompt.grpo: Using user provided validation set and not reporting train scores.\n",
      "2025/05/07 18:29:08 INFO dspy.teleprompt.grpo: Evaluating the student program on the validation set before training loop...\n"
     ]
    },
    {
     "name": "stdout",
     "output_type": "stream",
     "text": [
      "Average Metric: 0.00 / 9 (0.0%):  16%|█▌        | 8/50 [00:26<10:42, 15.30s/it]"
     ]
    },
    {
     "name": "stderr",
     "output_type": "stream",
     "text": [
      "2025/05/07 18:29:35 WARNING dspy.adapters.json_adapter: Failed to use structured output format. Falling back to JSON mode. Error: 'type' object is not iterable\n"
     ]
    },
    {
     "name": "stdout",
     "output_type": "stream",
     "text": [
      "Average Metric: 5.00 / 24 (20.8%):  46%|████▌     | 23/50 [00:26<00:22,  1.21it/s]"
     ]
    },
    {
     "name": "stderr",
     "output_type": "stream",
     "text": [
      "2025/05/07 18:29:41 ERROR dspy.utils.parallelizer: Error for Example({'question': 'summarize the limitations of current self-supervised learning approaches as mentioned in the paper', 'answers': ['The limitations of current self-supervised learning approaches include: \\n\\n1. Equal weighting for all tokens in the pretraining objective, neglecting the importance of certain tokens.\\n2. The reliance on forcing tasks into a prediction problem, which may not align with the goal-directed nature of useful language systems.\\n3. A lack of grounding in other domains, such as video or physical interaction, which limits contextual understanding of the world.\\n\\nThese factors suggest that purely self-supervised prediction approaches may reach a limit, indicating the need for augmentation with alternative methods.']}) (input_keys={'question'}): ('Failed to parse response as per signature from original completion with input and num present and expected', '{\\n\\n\\n}', StringSignature(question -> reasoning, rewritten_query\n",
      "    instructions='Rewrite the vague user question into a more specific search query.'\n",
      "    question = Field(annotation=str required=True json_schema_extra={'__dspy_field_type': 'input', 'prefix': 'Question:', 'desc': '${question}'})\n",
      "    reasoning = Field(annotation=str required=True json_schema_extra={'prefix': \"Reasoning: Let's think step by step in order to\", 'desc': '${reasoning}', '__dspy_field_type': 'output'})\n",
      "    rewritten_query = Field(annotation=str required=True json_schema_extra={'__dspy_field_type': 'output', 'prefix': 'Rewritten Query:', 'desc': '${rewritten_query}'})\n",
      "), {'question': 'summarize the limitations of current self-supervised learning approaches as mentioned in the paper'}, 0, 2). Set `provide_traceback=True` for traceback.\n"
     ]
    },
    {
     "name": "stdout",
     "output_type": "stream",
     "text": [
      "Average Metric: 12.00 / 49 (24.5%): 100%|██████████| 50/50 [01:02<00:00,  1.26s/it]"
     ]
    },
    {
     "name": "stderr",
     "output_type": "stream",
     "text": [
      "2025/05/07 18:30:11 INFO dspy.evaluate.evaluate: Average Metric: 12.0 / 50 (24.0%)\n",
      "2025/05/07 18:30:11 INFO dspy.teleprompt.grpo: Student program validation set score before training loop: 24.0\n",
      "2025/05/07 18:30:11 INFO dspy.teleprompt.grpo: Starting the GRPO training loop...\n",
      "2025/05/07 18:30:11 INFO dspy.teleprompt.grpo: GRPO training step 1/100...\n",
      "2025/05/07 18:30:11 INFO dspy.teleprompt.grpo: Updating shuffled trainset for epoch 0...\n",
      "2025/05/07 18:30:11 INFO dspy.teleprompt.grpo: Bootstrapping data...\n"
     ]
    },
    {
     "name": "stdout",
     "output_type": "stream",
     "text": [
      "\n",
      "Average Metric: 8.00 / 32 (25.0%): 100%|██████████| 32/32 [00:28<00:00,  1.11it/s]"
     ]
    },
    {
     "name": "stderr",
     "output_type": "stream",
     "text": [
      "2025/05/07 18:30:40 INFO dspy.evaluate.evaluate: Average Metric: 8.0 / 32 (25.0%)\n",
      "2025/05/07 18:30:40 INFO dspy.teleprompt.grpo: Preparing the training data batch from bootstrapped examples for GRPO...\n",
      "2025/05/07 18:30:40 INFO dspy.teleprompt.grpo: Invoking GRPO training step...\n"
     ]
    },
    {
     "name": "stdout",
     "output_type": "stream",
     "text": [
      "\n"
     ]
    },
    {
     "name": "stderr",
     "output_type": "stream",
     "text": [
      "2025/05/07 18:30:41 INFO dspy.teleprompt.grpo: GRPO training step 1/100 completed.\n",
      "2025/05/07 18:30:41 INFO dspy.teleprompt.grpo: GRPO training step 2/100...\n",
      "2025/05/07 18:30:41 INFO dspy.teleprompt.grpo: Bootstrapping data...\n"
     ]
    },
    {
     "name": "stdout",
     "output_type": "stream",
     "text": [
      "Average Metric: 8.00 / 32 (25.0%): 100%|██████████| 32/32 [00:38<00:00,  1.21s/it]"
     ]
    },
    {
     "name": "stderr",
     "output_type": "stream",
     "text": [
      "2025/05/07 18:31:19 INFO dspy.evaluate.evaluate: Average Metric: 8.0 / 32 (25.0%)\n",
      "2025/05/07 18:31:19 INFO dspy.teleprompt.grpo: Preparing the training data batch from bootstrapped examples for GRPO...\n",
      "2025/05/07 18:31:19 INFO dspy.teleprompt.grpo: Invoking GRPO training step...\n"
     ]
    },
    {
     "name": "stdout",
     "output_type": "stream",
     "text": [
      "\n"
     ]
    },
    {
     "name": "stderr",
     "output_type": "stream",
     "text": [
      "2025/05/07 18:31:20 INFO dspy.teleprompt.grpo: GRPO training step 2/100 completed.\n",
      "2025/05/07 18:31:20 INFO dspy.teleprompt.grpo: GRPO training step 3/100...\n",
      "2025/05/07 18:31:20 INFO dspy.teleprompt.grpo: Bootstrapping data...\n"
     ]
    },
    {
     "name": "stdout",
     "output_type": "stream",
     "text": [
      "Average Metric: 25.00 / 32 (78.1%): 100%|██████████| 32/32 [00:31<00:00,  1.01it/s]"
     ]
    },
    {
     "name": "stderr",
     "output_type": "stream",
     "text": [
      "2025/05/07 18:31:52 INFO dspy.evaluate.evaluate: Average Metric: 25.0 / 32 (78.1%)\n",
      "2025/05/07 18:31:52 INFO dspy.teleprompt.grpo: Preparing the training data batch from bootstrapped examples for GRPO...\n",
      "2025/05/07 18:31:52 INFO dspy.teleprompt.grpo: Invoking GRPO training step...\n"
     ]
    },
    {
     "name": "stdout",
     "output_type": "stream",
     "text": [
      "\n"
     ]
    },
    {
     "name": "stderr",
     "output_type": "stream",
     "text": [
      "2025/05/07 18:31:52 INFO dspy.teleprompt.grpo: Current train step is 3. Updating the model...\n",
      "2025/05/07 18:33:27 INFO dspy.teleprompt.grpo: GRPO training step 3/100 completed.\n",
      "2025/05/07 18:33:27 INFO dspy.teleprompt.grpo: GRPO training step 4/100...\n",
      "2025/05/07 18:33:27 INFO dspy.teleprompt.grpo: Bootstrapping data...\n"
     ]
    },
    {
     "name": "stdout",
     "output_type": "stream",
     "text": [
      "Average Metric: 3.00 / 10 (30.0%):  28%|██▊       | 9/32 [00:33<04:37, 12.08s/it]"
     ]
    },
    {
     "name": "stderr",
     "output_type": "stream",
     "text": [
      "2025/05/07 18:34:00 WARNING dspy.adapters.json_adapter: Failed to use structured output format. Falling back to JSON mode. Error: 'type' object is not iterable\n"
     ]
    },
    {
     "name": "stdout",
     "output_type": "stream",
     "text": [
      "Average Metric: 7.00 / 32 (21.9%): 100%|██████████| 32/32 [00:52<00:00,  1.63s/it]"
     ]
    },
    {
     "name": "stderr",
     "output_type": "stream",
     "text": [
      "2025/05/07 18:34:20 INFO dspy.evaluate.evaluate: Average Metric: 7.0 / 32 (21.9%)\n",
      "2025/05/07 18:34:20 INFO dspy.teleprompt.grpo: Preparing the training data batch from bootstrapped examples for GRPO...\n",
      "2025/05/07 18:34:20 WARNING dspy.teleprompt.grpo: Adding a format failure example to the training data for predictor 0 and example 0.\n",
      "2025/05/07 18:34:20 INFO dspy.teleprompt.grpo: Invoking GRPO training step...\n"
     ]
    },
    {
     "name": "stdout",
     "output_type": "stream",
     "text": [
      "\n"
     ]
    },
    {
     "name": "stderr",
     "output_type": "stream",
     "text": [
      "2025/05/07 18:34:20 INFO dspy.teleprompt.grpo: GRPO training step 4/100 completed.\n",
      "2025/05/07 18:34:20 INFO dspy.teleprompt.grpo: GRPO training step 5/100...\n",
      "2025/05/07 18:34:20 INFO dspy.teleprompt.grpo: Bootstrapping data...\n"
     ]
    },
    {
     "name": "stdout",
     "output_type": "stream",
     "text": [
      "Average Metric: 8.00 / 32 (25.0%): 100%|██████████| 32/32 [00:28<00:00,  1.12it/s]"
     ]
    },
    {
     "name": "stderr",
     "output_type": "stream",
     "text": [
      "2025/05/07 18:34:49 INFO dspy.evaluate.evaluate: Average Metric: 8.0 / 32 (25.0%)\n",
      "2025/05/07 18:34:49 INFO dspy.teleprompt.grpo: Preparing the training data batch from bootstrapped examples for GRPO...\n",
      "2025/05/07 18:34:49 INFO dspy.teleprompt.grpo: Invoking GRPO training step...\n"
     ]
    },
    {
     "name": "stdout",
     "output_type": "stream",
     "text": [
      "\n"
     ]
    },
    {
     "name": "stderr",
     "output_type": "stream",
     "text": [
      "2025/05/07 18:34:49 INFO dspy.teleprompt.grpo: GRPO training step 5/100 completed.\n",
      "2025/05/07 18:34:49 INFO dspy.teleprompt.grpo: GRPO training step 6/100...\n",
      "2025/05/07 18:34:49 INFO dspy.teleprompt.grpo: Bootstrapping data...\n"
     ]
    },
    {
     "name": "stdout",
     "output_type": "stream",
     "text": [
      "Average Metric: 23.00 / 32 (71.9%): 100%|██████████| 32/32 [00:19<00:00,  1.61it/s]"
     ]
    },
    {
     "name": "stderr",
     "output_type": "stream",
     "text": [
      "2025/05/07 18:35:09 INFO dspy.evaluate.evaluate: Average Metric: 23.0 / 32 (71.9%)\n",
      "2025/05/07 18:35:09 INFO dspy.teleprompt.grpo: Preparing the training data batch from bootstrapped examples for GRPO...\n",
      "2025/05/07 18:35:09 INFO dspy.teleprompt.grpo: Invoking GRPO training step...\n"
     ]
    },
    {
     "name": "stdout",
     "output_type": "stream",
     "text": [
      "\n"
     ]
    },
    {
     "name": "stderr",
     "output_type": "stream",
     "text": [
      "2025/05/07 18:35:09 INFO dspy.teleprompt.grpo: Current train step is 6. Updating the model...\n",
      "2025/05/07 18:36:45 INFO dspy.teleprompt.grpo: GRPO training step 6/100 completed.\n",
      "2025/05/07 18:36:45 INFO dspy.teleprompt.grpo: GRPO training step 7/100...\n",
      "2025/05/07 18:36:45 INFO dspy.teleprompt.grpo: Bootstrapping data...\n"
     ]
    },
    {
     "name": "stdout",
     "output_type": "stream",
     "text": [
      "Average Metric: 0.00 / 32 (0.0%): 100%|██████████| 32/32 [00:34<00:00,  1.08s/it]"
     ]
    },
    {
     "name": "stderr",
     "output_type": "stream",
     "text": [
      "2025/05/07 18:37:19 INFO dspy.evaluate.evaluate: Average Metric: 0.0 / 32 (0.0%)\n",
      "2025/05/07 18:37:19 INFO dspy.teleprompt.grpo: Preparing the training data batch from bootstrapped examples for GRPO...\n",
      "2025/05/07 18:37:19 INFO dspy.teleprompt.grpo: Invoking GRPO training step...\n"
     ]
    },
    {
     "name": "stdout",
     "output_type": "stream",
     "text": [
      "\n"
     ]
    },
    {
     "name": "stderr",
     "output_type": "stream",
     "text": [
      "2025/05/07 18:37:20 INFO dspy.teleprompt.grpo: GRPO training step 7/100 completed.\n",
      "2025/05/07 18:37:20 INFO dspy.teleprompt.grpo: GRPO training step 8/100...\n",
      "2025/05/07 18:37:20 INFO dspy.teleprompt.grpo: Bootstrapping data...\n"
     ]
    },
    {
     "name": "stdout",
     "output_type": "stream",
     "text": [
      "Average Metric: 3.00 / 19 (15.8%):  59%|█████▉    | 19/32 [00:11<00:05,  2.23it/s]"
     ]
    },
    {
     "name": "stderr",
     "output_type": "stream",
     "text": [
      "2025/05/07 18:37:36 WARNING dspy.adapters.json_adapter: Failed to use structured output format. Falling back to JSON mode. Error: 'type' object is not iterable\n"
     ]
    },
    {
     "name": "stdout",
     "output_type": "stream",
     "text": [
      "Average Metric: 3.00 / 32 (9.4%): 100%|██████████| 32/32 [00:25<00:00,  1.25it/s] "
     ]
    },
    {
     "name": "stderr",
     "output_type": "stream",
     "text": [
      "2025/05/07 18:37:45 INFO dspy.evaluate.evaluate: Average Metric: 3.0 / 32 (9.4%)\n",
      "2025/05/07 18:37:45 INFO dspy.teleprompt.grpo: Preparing the training data batch from bootstrapped examples for GRPO...\n",
      "2025/05/07 18:37:45 WARNING dspy.teleprompt.grpo: Adding a format failure example to the training data for predictor 0 and example 2.\n",
      "2025/05/07 18:37:45 INFO dspy.teleprompt.grpo: Invoking GRPO training step...\n"
     ]
    },
    {
     "name": "stdout",
     "output_type": "stream",
     "text": [
      "\n"
     ]
    },
    {
     "name": "stderr",
     "output_type": "stream",
     "text": [
      "2025/05/07 18:37:46 INFO dspy.teleprompt.grpo: GRPO training step 8/100 completed.\n",
      "2025/05/07 18:37:46 INFO dspy.teleprompt.grpo: GRPO training step 9/100...\n",
      "2025/05/07 18:37:46 INFO dspy.teleprompt.grpo: Bootstrapping data...\n"
     ]
    },
    {
     "name": "stdout",
     "output_type": "stream",
     "text": [
      "Average Metric: 9.00 / 20 (45.0%):  62%|██████▎   | 20/32 [00:29<00:13,  1.15s/it]"
     ]
    },
    {
     "name": "stderr",
     "output_type": "stream",
     "text": [
      "2025/05/07 18:38:20 WARNING dspy.adapters.json_adapter: Failed to use structured output format. Falling back to JSON mode. Error: 'type' object is not iterable\n"
     ]
    },
    {
     "name": "stdout",
     "output_type": "stream",
     "text": [
      "Average Metric: 12.00 / 32 (37.5%): 100%|██████████| 32/32 [00:53<00:00,  1.67s/it]"
     ]
    },
    {
     "name": "stderr",
     "output_type": "stream",
     "text": [
      "2025/05/07 18:38:39 INFO dspy.evaluate.evaluate: Average Metric: 12.0 / 32 (37.5%)\n",
      "2025/05/07 18:38:39 INFO dspy.teleprompt.grpo: Preparing the training data batch from bootstrapped examples for GRPO...\n",
      "2025/05/07 18:38:39 WARNING dspy.teleprompt.grpo: Adding a format failure example to the training data for predictor 0 and example 2.\n",
      "2025/05/07 18:38:39 INFO dspy.teleprompt.grpo: Invoking GRPO training step...\n"
     ]
    },
    {
     "name": "stdout",
     "output_type": "stream",
     "text": [
      "\n"
     ]
    },
    {
     "name": "stderr",
     "output_type": "stream",
     "text": [
      "2025/05/07 18:38:40 INFO dspy.teleprompt.grpo: Current train step is 9. Updating the model...\n",
      "2025/05/07 18:40:10 INFO dspy.teleprompt.grpo: GRPO training step 9/100 completed.\n",
      "2025/05/07 18:40:10 INFO dspy.teleprompt.grpo: GRPO training step 10/100...\n",
      "2025/05/07 18:40:10 INFO dspy.teleprompt.grpo: Bootstrapping data...\n"
     ]
    },
    {
     "name": "stdout",
     "output_type": "stream",
     "text": [
      "Average Metric: 0.00 / 32 (0.0%): 100%|██████████| 32/32 [00:32<00:00,  1.00s/it]"
     ]
    },
    {
     "name": "stderr",
     "output_type": "stream",
     "text": [
      "2025/05/07 18:40:42 INFO dspy.evaluate.evaluate: Average Metric: 0.0 / 32 (0.0%)\n",
      "2025/05/07 18:40:42 INFO dspy.teleprompt.grpo: Preparing the training data batch from bootstrapped examples for GRPO...\n",
      "2025/05/07 18:40:42 INFO dspy.teleprompt.grpo: Invoking GRPO training step...\n"
     ]
    },
    {
     "name": "stdout",
     "output_type": "stream",
     "text": [
      "\n"
     ]
    },
    {
     "name": "stderr",
     "output_type": "stream",
     "text": [
      "2025/05/07 18:40:42 INFO dspy.teleprompt.grpo: GRPO training step 10/100 completed.\n",
      "2025/05/07 18:40:42 INFO dspy.teleprompt.grpo: Evaluating the student program on the validation set after training step 10/100\n"
     ]
    },
    {
     "name": "stdout",
     "output_type": "stream",
     "text": [
      "Average Metric: 11.00 / 50 (22.0%): 100%|██████████| 50/50 [00:57<00:00,  1.15s/it]"
     ]
    },
    {
     "name": "stderr",
     "output_type": "stream",
     "text": [
      "2025/05/07 18:41:40 INFO dspy.evaluate.evaluate: Average Metric: 11.0 / 50 (22.0%)\n",
      "2025/05/07 18:41:40 INFO dspy.teleprompt.grpo: Student program validation set score after training step 10/100: 22.0\n",
      "2025/05/07 18:41:40 INFO dspy.teleprompt.grpo: GRPO training step 11/100...\n",
      "2025/05/07 18:41:40 INFO dspy.teleprompt.grpo: Bootstrapping data...\n"
     ]
    },
    {
     "name": "stdout",
     "output_type": "stream",
     "text": [
      "\n",
      "Average Metric: 8.00 / 32 (25.0%): 100%|██████████| 32/32 [00:16<00:00,  1.94it/s]"
     ]
    },
    {
     "name": "stderr",
     "output_type": "stream",
     "text": [
      "2025/05/07 18:41:57 INFO dspy.evaluate.evaluate: Average Metric: 8.0 / 32 (25.0%)\n",
      "2025/05/07 18:41:57 INFO dspy.teleprompt.grpo: Preparing the training data batch from bootstrapped examples for GRPO...\n",
      "2025/05/07 18:41:57 INFO dspy.teleprompt.grpo: Invoking GRPO training step...\n"
     ]
    },
    {
     "name": "stdout",
     "output_type": "stream",
     "text": [
      "\n"
     ]
    },
    {
     "name": "stderr",
     "output_type": "stream",
     "text": [
      "2025/05/07 18:41:57 INFO dspy.teleprompt.grpo: GRPO training step 11/100 completed.\n",
      "2025/05/07 18:41:57 INFO dspy.teleprompt.grpo: GRPO training step 12/100...\n",
      "2025/05/07 18:41:57 INFO dspy.teleprompt.grpo: Bootstrapping data...\n"
     ]
    },
    {
     "name": "stdout",
     "output_type": "stream",
     "text": [
      "Average Metric: 10.00 / 32 (31.2%): 100%|██████████| 32/32 [00:20<00:00,  1.59it/s]"
     ]
    },
    {
     "name": "stderr",
     "output_type": "stream",
     "text": [
      "2025/05/07 18:42:17 INFO dspy.evaluate.evaluate: Average Metric: 10.0 / 32 (31.2%)\n",
      "2025/05/07 18:42:17 INFO dspy.teleprompt.grpo: Preparing the training data batch from bootstrapped examples for GRPO...\n",
      "2025/05/07 18:42:17 INFO dspy.teleprompt.grpo: Invoking GRPO training step...\n"
     ]
    },
    {
     "name": "stdout",
     "output_type": "stream",
     "text": [
      "\n"
     ]
    },
    {
     "name": "stderr",
     "output_type": "stream",
     "text": [
      "2025/05/07 18:42:18 INFO dspy.teleprompt.grpo: Current train step is 12. Updating the model...\n",
      "2025/05/07 18:43:48 INFO dspy.teleprompt.grpo: GRPO training step 12/100 completed.\n",
      "2025/05/07 18:43:48 INFO dspy.teleprompt.grpo: GRPO training step 13/100...\n",
      "2025/05/07 18:43:48 INFO dspy.teleprompt.grpo: Bootstrapping data...\n"
     ]
    },
    {
     "name": "stdout",
     "output_type": "stream",
     "text": [
      "Average Metric: 8.00 / 32 (25.0%): 100%|██████████| 32/32 [00:49<00:00,  1.55s/it]"
     ]
    },
    {
     "name": "stderr",
     "output_type": "stream",
     "text": [
      "2025/05/07 18:44:38 INFO dspy.evaluate.evaluate: Average Metric: 8.0 / 32 (25.0%)\n",
      "2025/05/07 18:44:38 INFO dspy.teleprompt.grpo: Preparing the training data batch from bootstrapped examples for GRPO...\n",
      "2025/05/07 18:44:38 INFO dspy.teleprompt.grpo: Invoking GRPO training step...\n"
     ]
    },
    {
     "name": "stdout",
     "output_type": "stream",
     "text": [
      "\n"
     ]
    },
    {
     "name": "stderr",
     "output_type": "stream",
     "text": [
      "2025/05/07 18:44:38 INFO dspy.teleprompt.grpo: GRPO training step 13/100 completed.\n",
      "2025/05/07 18:44:38 INFO dspy.teleprompt.grpo: GRPO training step 14/100...\n",
      "2025/05/07 18:44:38 INFO dspy.teleprompt.grpo: Bootstrapping data...\n"
     ]
    },
    {
     "name": "stdout",
     "output_type": "stream",
     "text": [
      "Average Metric: 0.00 / 32 (0.0%): 100%|██████████| 32/32 [00:39<00:00,  1.24s/it]"
     ]
    },
    {
     "name": "stderr",
     "output_type": "stream",
     "text": [
      "2025/05/07 18:45:18 INFO dspy.evaluate.evaluate: Average Metric: 0.0 / 32 (0.0%)\n",
      "2025/05/07 18:45:18 INFO dspy.teleprompt.grpo: Preparing the training data batch from bootstrapped examples for GRPO...\n",
      "2025/05/07 18:45:18 INFO dspy.teleprompt.grpo: Invoking GRPO training step...\n"
     ]
    },
    {
     "name": "stdout",
     "output_type": "stream",
     "text": [
      "\n"
     ]
    },
    {
     "name": "stderr",
     "output_type": "stream",
     "text": [
      "2025/05/07 18:45:19 INFO dspy.teleprompt.grpo: GRPO training step 14/100 completed.\n",
      "2025/05/07 18:45:19 INFO dspy.teleprompt.grpo: GRPO training step 15/100...\n",
      "2025/05/07 18:45:19 INFO dspy.teleprompt.grpo: Bootstrapping data...\n"
     ]
    },
    {
     "name": "stdout",
     "output_type": "stream",
     "text": [
      "Average Metric: 7.00 / 32 (21.9%): 100%|██████████| 32/32 [00:25<00:00,  1.27it/s]"
     ]
    },
    {
     "name": "stderr",
     "output_type": "stream",
     "text": [
      "2025/05/07 18:45:44 INFO dspy.evaluate.evaluate: Average Metric: 7.0 / 32 (21.9%)\n",
      "2025/05/07 18:45:44 INFO dspy.teleprompt.grpo: Preparing the training data batch from bootstrapped examples for GRPO...\n",
      "2025/05/07 18:45:44 INFO dspy.teleprompt.grpo: Invoking GRPO training step...\n"
     ]
    },
    {
     "name": "stdout",
     "output_type": "stream",
     "text": [
      "\n"
     ]
    },
    {
     "name": "stderr",
     "output_type": "stream",
     "text": [
      "2025/05/07 18:45:44 INFO dspy.teleprompt.grpo: Current train step is 15. Updating the model...\n",
      "2025/05/07 18:47:19 INFO dspy.teleprompt.grpo: GRPO training step 15/100 completed.\n",
      "2025/05/07 18:47:19 INFO dspy.teleprompt.grpo: GRPO training step 16/100...\n",
      "2025/05/07 18:47:19 INFO dspy.teleprompt.grpo: Bootstrapping data...\n"
     ]
    },
    {
     "name": "stdout",
     "output_type": "stream",
     "text": [
      "  0%|          | 0/50 [44:07<?, ?it/s]▎         | 1/32 [00:03<01:38,  3.17s/it]\n",
      "  0%|          | 0/32 [44:17<?, ?it/s]\n",
      "  0%|          | 0/50 [43:39<?, ?it/s]\n",
      "Average Metric: 3.00 / 32 (9.4%): 100%|██████████| 32/32 [00:54<00:00,  1.69s/it] "
     ]
    },
    {
     "name": "stderr",
     "output_type": "stream",
     "text": [
      "2025/05/07 18:48:14 INFO dspy.evaluate.evaluate: Average Metric: 3.0 / 32 (9.4%)\n",
      "2025/05/07 18:48:14 INFO dspy.teleprompt.grpo: Preparing the training data batch from bootstrapped examples for GRPO...\n",
      "2025/05/07 18:48:14 INFO dspy.teleprompt.grpo: Invoking GRPO training step...\n"
     ]
    },
    {
     "name": "stdout",
     "output_type": "stream",
     "text": [
      "\n"
     ]
    },
    {
     "name": "stderr",
     "output_type": "stream",
     "text": [
      "2025/05/07 18:48:14 INFO dspy.teleprompt.grpo: GRPO training step 16/100 completed.\n",
      "2025/05/07 18:48:14 INFO dspy.teleprompt.grpo: GRPO training step 17/100...\n",
      "2025/05/07 18:48:14 INFO dspy.teleprompt.grpo: Bootstrapping data...\n"
     ]
    },
    {
     "name": "stdout",
     "output_type": "stream",
     "text": [
      "Average Metric: 13.00 / 32 (40.6%): 100%|██████████| 32/32 [00:27<00:00,  1.14it/s]"
     ]
    },
    {
     "name": "stderr",
     "output_type": "stream",
     "text": [
      "2025/05/07 18:48:42 INFO dspy.evaluate.evaluate: Average Metric: 13.0 / 32 (40.6%)\n",
      "2025/05/07 18:48:42 INFO dspy.teleprompt.grpo: Preparing the training data batch from bootstrapped examples for GRPO...\n",
      "2025/05/07 18:48:42 INFO dspy.teleprompt.grpo: Invoking GRPO training step...\n"
     ]
    },
    {
     "name": "stdout",
     "output_type": "stream",
     "text": [
      "\n"
     ]
    },
    {
     "name": "stderr",
     "output_type": "stream",
     "text": [
      "2025/05/07 18:48:43 INFO dspy.teleprompt.grpo: GRPO training step 17/100 completed.\n",
      "2025/05/07 18:48:43 INFO dspy.teleprompt.grpo: GRPO training step 18/100...\n",
      "2025/05/07 18:48:43 INFO dspy.teleprompt.grpo: Bootstrapping data...\n"
     ]
    },
    {
     "name": "stdout",
     "output_type": "stream",
     "text": [
      "Average Metric: 16.00 / 32 (50.0%): 100%|██████████| 32/32 [00:36<00:00,  1.14s/it]"
     ]
    },
    {
     "name": "stderr",
     "output_type": "stream",
     "text": [
      "2025/05/07 18:49:19 INFO dspy.evaluate.evaluate: Average Metric: 16.0 / 32 (50.0%)\n",
      "2025/05/07 18:49:19 INFO dspy.teleprompt.grpo: Preparing the training data batch from bootstrapped examples for GRPO...\n",
      "2025/05/07 18:49:19 INFO dspy.teleprompt.grpo: Invoking GRPO training step...\n"
     ]
    },
    {
     "name": "stdout",
     "output_type": "stream",
     "text": [
      "\n"
     ]
    },
    {
     "name": "stderr",
     "output_type": "stream",
     "text": [
      "2025/05/07 18:49:19 INFO dspy.teleprompt.grpo: Current train step is 18. Updating the model...\n",
      "2025/05/07 18:50:50 INFO dspy.teleprompt.grpo: GRPO training step 18/100 completed.\n",
      "2025/05/07 18:50:50 INFO dspy.teleprompt.grpo: GRPO training step 19/100...\n",
      "2025/05/07 18:50:50 INFO dspy.teleprompt.grpo: Bootstrapping data...\n"
     ]
    },
    {
     "name": "stdout",
     "output_type": "stream",
     "text": [
      "Average Metric: 15.00 / 32 (46.9%): 100%|██████████| 32/32 [00:45<00:00,  1.43s/it]"
     ]
    },
    {
     "name": "stderr",
     "output_type": "stream",
     "text": [
      "2025/05/07 18:51:36 INFO dspy.evaluate.evaluate: Average Metric: 15.0 / 32 (46.9%)\n",
      "2025/05/07 18:51:36 INFO dspy.teleprompt.grpo: Preparing the training data batch from bootstrapped examples for GRPO...\n",
      "2025/05/07 18:51:36 INFO dspy.teleprompt.grpo: Invoking GRPO training step...\n"
     ]
    },
    {
     "name": "stdout",
     "output_type": "stream",
     "text": [
      "\n"
     ]
    },
    {
     "name": "stderr",
     "output_type": "stream",
     "text": [
      "2025/05/07 18:51:36 INFO dspy.teleprompt.grpo: GRPO training step 19/100 completed.\n",
      "2025/05/07 18:51:36 INFO dspy.teleprompt.grpo: GRPO training step 20/100...\n",
      "2025/05/07 18:51:36 INFO dspy.teleprompt.grpo: Bootstrapping data...\n"
     ]
    },
    {
     "name": "stdout",
     "output_type": "stream",
     "text": [
      "Average Metric: 8.00 / 32 (25.0%): 100%|██████████| 32/32 [00:29<00:00,  1.09it/s]"
     ]
    },
    {
     "name": "stderr",
     "output_type": "stream",
     "text": [
      "2025/05/07 18:52:05 INFO dspy.evaluate.evaluate: Average Metric: 8.0 / 32 (25.0%)\n",
      "2025/05/07 18:52:05 INFO dspy.teleprompt.grpo: Preparing the training data batch from bootstrapped examples for GRPO...\n",
      "2025/05/07 18:52:05 INFO dspy.teleprompt.grpo: Invoking GRPO training step...\n"
     ]
    },
    {
     "name": "stdout",
     "output_type": "stream",
     "text": [
      "\n"
     ]
    },
    {
     "name": "stderr",
     "output_type": "stream",
     "text": [
      "2025/05/07 18:52:06 INFO dspy.teleprompt.grpo: GRPO training step 20/100 completed.\n",
      "2025/05/07 18:52:06 INFO dspy.teleprompt.grpo: Evaluating the student program on the validation set after training step 20/100\n"
     ]
    },
    {
     "name": "stdout",
     "output_type": "stream",
     "text": [
      "Average Metric: 12.00 / 50 (24.0%): 100%|██████████| 50/50 [00:58<00:00,  1.17s/it]"
     ]
    },
    {
     "name": "stderr",
     "output_type": "stream",
     "text": [
      "2025/05/07 18:53:04 INFO dspy.evaluate.evaluate: Average Metric: 12.0 / 50 (24.0%)\n",
      "2025/05/07 18:53:04 INFO dspy.teleprompt.grpo: Student program validation set score after training step 20/100: 24.0\n",
      "2025/05/07 18:53:04 INFO dspy.teleprompt.grpo: GRPO training step 21/100...\n",
      "2025/05/07 18:53:04 INFO dspy.teleprompt.grpo: Bootstrapping data...\n"
     ]
    },
    {
     "name": "stdout",
     "output_type": "stream",
     "text": [
      "\n",
      "Average Metric: 15.00 / 32 (46.9%): 100%|██████████| 32/32 [00:39<00:00,  1.25s/it]"
     ]
    },
    {
     "name": "stderr",
     "output_type": "stream",
     "text": [
      "2025/05/07 18:53:44 INFO dspy.evaluate.evaluate: Average Metric: 15.0 / 32 (46.9%)\n",
      "2025/05/07 18:53:44 INFO dspy.teleprompt.grpo: Preparing the training data batch from bootstrapped examples for GRPO...\n",
      "2025/05/07 18:53:44 INFO dspy.teleprompt.grpo: Invoking GRPO training step...\n"
     ]
    },
    {
     "name": "stdout",
     "output_type": "stream",
     "text": [
      "\n"
     ]
    },
    {
     "name": "stderr",
     "output_type": "stream",
     "text": [
      "2025/05/07 18:53:45 INFO dspy.teleprompt.grpo: Current train step is 21. Updating the model...\n",
      "2025/05/07 18:55:20 INFO dspy.teleprompt.grpo: GRPO training step 21/100 completed.\n",
      "2025/05/07 18:55:20 INFO dspy.teleprompt.grpo: GRPO training step 22/100...\n",
      "2025/05/07 18:55:20 INFO dspy.teleprompt.grpo: Bootstrapping data...\n"
     ]
    },
    {
     "name": "stdout",
     "output_type": "stream",
     "text": [
      "Average Metric: 4.00 / 32 (12.5%): 100%|██████████| 32/32 [00:21<00:00,  1.51it/s]"
     ]
    },
    {
     "name": "stderr",
     "output_type": "stream",
     "text": [
      "2025/05/07 18:55:41 INFO dspy.evaluate.evaluate: Average Metric: 4.0 / 32 (12.5%)\n",
      "2025/05/07 18:55:41 INFO dspy.teleprompt.grpo: Preparing the training data batch from bootstrapped examples for GRPO...\n",
      "2025/05/07 18:55:41 INFO dspy.teleprompt.grpo: Invoking GRPO training step...\n"
     ]
    },
    {
     "name": "stdout",
     "output_type": "stream",
     "text": [
      "\n"
     ]
    },
    {
     "name": "stderr",
     "output_type": "stream",
     "text": [
      "2025/05/07 18:55:42 INFO dspy.teleprompt.grpo: GRPO training step 22/100 completed.\n",
      "2025/05/07 18:55:42 INFO dspy.teleprompt.grpo: GRPO training step 23/100...\n",
      "2025/05/07 18:55:42 INFO dspy.teleprompt.grpo: Bootstrapping data...\n"
     ]
    },
    {
     "name": "stdout",
     "output_type": "stream",
     "text": [
      "Average Metric: 0.00 / 32 (0.0%): 100%|██████████| 32/32 [00:25<00:00,  1.28it/s]"
     ]
    },
    {
     "name": "stderr",
     "output_type": "stream",
     "text": [
      "2025/05/07 18:56:07 INFO dspy.evaluate.evaluate: Average Metric: 0.0 / 32 (0.0%)\n",
      "2025/05/07 18:56:07 INFO dspy.teleprompt.grpo: Preparing the training data batch from bootstrapped examples for GRPO...\n",
      "2025/05/07 18:56:07 INFO dspy.teleprompt.grpo: Invoking GRPO training step...\n"
     ]
    },
    {
     "name": "stdout",
     "output_type": "stream",
     "text": [
      "\n"
     ]
    },
    {
     "name": "stderr",
     "output_type": "stream",
     "text": [
      "2025/05/07 18:56:07 INFO dspy.teleprompt.grpo: GRPO training step 23/100 completed.\n",
      "2025/05/07 18:56:07 INFO dspy.teleprompt.grpo: GRPO training step 24/100...\n",
      "2025/05/07 18:56:07 INFO dspy.teleprompt.grpo: Bootstrapping data...\n"
     ]
    },
    {
     "name": "stdout",
     "output_type": "stream",
     "text": [
      "Average Metric: 1.00 / 32 (3.1%): 100%|██████████| 32/32 [00:19<00:00,  1.68it/s]"
     ]
    },
    {
     "name": "stderr",
     "output_type": "stream",
     "text": [
      "2025/05/07 18:56:26 INFO dspy.evaluate.evaluate: Average Metric: 1.0 / 32 (3.1%)\n",
      "2025/05/07 18:56:26 INFO dspy.teleprompt.grpo: Preparing the training data batch from bootstrapped examples for GRPO...\n",
      "2025/05/07 18:56:26 INFO dspy.teleprompt.grpo: Invoking GRPO training step...\n"
     ]
    },
    {
     "name": "stdout",
     "output_type": "stream",
     "text": [
      "\n"
     ]
    },
    {
     "name": "stderr",
     "output_type": "stream",
     "text": [
      "2025/05/07 18:56:27 INFO dspy.teleprompt.grpo: Current train step is 24. Updating the model...\n",
      "2025/05/07 18:58:02 INFO dspy.teleprompt.grpo: GRPO training step 24/100 completed.\n",
      "2025/05/07 18:58:02 INFO dspy.teleprompt.grpo: GRPO training step 25/100...\n",
      "2025/05/07 18:58:02 INFO dspy.teleprompt.grpo: Bootstrapping data...\n"
     ]
    },
    {
     "name": "stdout",
     "output_type": "stream",
     "text": [
      "Average Metric: 0.00 / 32 (0.0%): 100%|██████████| 32/32 [00:20<00:00,  1.55it/s]"
     ]
    },
    {
     "name": "stderr",
     "output_type": "stream",
     "text": [
      "2025/05/07 18:58:23 INFO dspy.evaluate.evaluate: Average Metric: 0.0 / 32 (0.0%)\n",
      "2025/05/07 18:58:23 INFO dspy.teleprompt.grpo: Preparing the training data batch from bootstrapped examples for GRPO...\n",
      "2025/05/07 18:58:23 INFO dspy.teleprompt.grpo: Invoking GRPO training step...\n"
     ]
    },
    {
     "name": "stdout",
     "output_type": "stream",
     "text": [
      "\n"
     ]
    },
    {
     "name": "stderr",
     "output_type": "stream",
     "text": [
      "2025/05/07 18:58:23 INFO dspy.teleprompt.grpo: GRPO training step 25/100 completed.\n",
      "2025/05/07 18:58:23 INFO dspy.teleprompt.grpo: GRPO training step 26/100...\n",
      "2025/05/07 18:58:23 INFO dspy.teleprompt.grpo: Bootstrapping data...\n"
     ]
    },
    {
     "name": "stdout",
     "output_type": "stream",
     "text": [
      "Average Metric: 0.00 / 32 (0.0%): 100%|██████████| 32/32 [00:18<00:00,  1.70it/s]"
     ]
    },
    {
     "name": "stderr",
     "output_type": "stream",
     "text": [
      "2025/05/07 18:58:42 INFO dspy.evaluate.evaluate: Average Metric: 0.0 / 32 (0.0%)\n",
      "2025/05/07 18:58:42 INFO dspy.teleprompt.grpo: Preparing the training data batch from bootstrapped examples for GRPO...\n",
      "2025/05/07 18:58:42 INFO dspy.teleprompt.grpo: Invoking GRPO training step...\n"
     ]
    },
    {
     "name": "stdout",
     "output_type": "stream",
     "text": [
      "\n"
     ]
    },
    {
     "name": "stderr",
     "output_type": "stream",
     "text": [
      "2025/05/07 18:58:42 INFO dspy.teleprompt.grpo: GRPO training step 26/100 completed.\n",
      "2025/05/07 18:58:42 INFO dspy.teleprompt.grpo: GRPO training step 27/100...\n",
      "2025/05/07 18:58:42 INFO dspy.teleprompt.grpo: Updating shuffled trainset for epoch 1...\n",
      "2025/05/07 18:58:42 INFO dspy.teleprompt.grpo: Bootstrapping data...\n"
     ]
    },
    {
     "name": "stdout",
     "output_type": "stream",
     "text": [
      "Average Metric: 5.00 / 32 (15.6%): 100%|██████████| 32/32 [00:36<00:00,  1.13s/it]"
     ]
    },
    {
     "name": "stderr",
     "output_type": "stream",
     "text": [
      "2025/05/07 18:59:19 INFO dspy.evaluate.evaluate: Average Metric: 5.0 / 32 (15.6%)\n",
      "2025/05/07 18:59:19 INFO dspy.teleprompt.grpo: Preparing the training data batch from bootstrapped examples for GRPO...\n",
      "2025/05/07 18:59:19 INFO dspy.teleprompt.grpo: Invoking GRPO training step...\n"
     ]
    },
    {
     "name": "stdout",
     "output_type": "stream",
     "text": [
      "\n"
     ]
    },
    {
     "name": "stderr",
     "output_type": "stream",
     "text": [
      "2025/05/07 18:59:19 INFO dspy.teleprompt.grpo: Current train step is 27. Updating the model...\n",
      "2025/05/07 19:01:04 INFO dspy.teleprompt.grpo: GRPO training step 27/100 completed.\n",
      "2025/05/07 19:01:04 INFO dspy.teleprompt.grpo: GRPO training step 28/100...\n",
      "2025/05/07 19:01:04 INFO dspy.teleprompt.grpo: Bootstrapping data...\n"
     ]
    },
    {
     "name": "stdout",
     "output_type": "stream",
     "text": [
      "Average Metric: 8.00 / 32 (25.0%): 100%|██████████| 32/32 [00:42<00:00,  1.33s/it]"
     ]
    },
    {
     "name": "stderr",
     "output_type": "stream",
     "text": [
      "2025/05/07 19:01:47 INFO dspy.evaluate.evaluate: Average Metric: 8.0 / 32 (25.0%)\n",
      "2025/05/07 19:01:47 INFO dspy.teleprompt.grpo: Preparing the training data batch from bootstrapped examples for GRPO...\n",
      "2025/05/07 19:01:47 INFO dspy.teleprompt.grpo: Invoking GRPO training step...\n"
     ]
    },
    {
     "name": "stdout",
     "output_type": "stream",
     "text": [
      "\n"
     ]
    },
    {
     "name": "stderr",
     "output_type": "stream",
     "text": [
      "2025/05/07 19:01:47 INFO dspy.teleprompt.grpo: GRPO training step 28/100 completed.\n",
      "2025/05/07 19:01:47 INFO dspy.teleprompt.grpo: GRPO training step 29/100...\n",
      "2025/05/07 19:01:47 INFO dspy.teleprompt.grpo: Bootstrapping data...\n"
     ]
    },
    {
     "name": "stdout",
     "output_type": "stream",
     "text": [
      "Average Metric: 0.00 / 32 (0.0%): 100%|██████████| 32/32 [00:38<00:00,  1.19s/it]"
     ]
    },
    {
     "name": "stderr",
     "output_type": "stream",
     "text": [
      "2025/05/07 19:02:26 INFO dspy.evaluate.evaluate: Average Metric: 0.0 / 32 (0.0%)\n",
      "2025/05/07 19:02:26 INFO dspy.teleprompt.grpo: Preparing the training data batch from bootstrapped examples for GRPO...\n",
      "2025/05/07 19:02:26 INFO dspy.teleprompt.grpo: Invoking GRPO training step...\n"
     ]
    },
    {
     "name": "stdout",
     "output_type": "stream",
     "text": [
      "\n"
     ]
    },
    {
     "name": "stderr",
     "output_type": "stream",
     "text": [
      "2025/05/07 19:02:26 INFO dspy.teleprompt.grpo: GRPO training step 29/100 completed.\n",
      "2025/05/07 19:02:26 INFO dspy.teleprompt.grpo: GRPO training step 30/100...\n",
      "2025/05/07 19:02:26 INFO dspy.teleprompt.grpo: Bootstrapping data...\n"
     ]
    },
    {
     "name": "stdout",
     "output_type": "stream",
     "text": [
      "Average Metric: 15.00 / 32 (46.9%): 100%|██████████| 32/32 [00:34<00:00,  1.08s/it]"
     ]
    },
    {
     "name": "stderr",
     "output_type": "stream",
     "text": [
      "2025/05/07 19:03:01 INFO dspy.evaluate.evaluate: Average Metric: 15.0 / 32 (46.9%)\n",
      "2025/05/07 19:03:01 INFO dspy.teleprompt.grpo: Preparing the training data batch from bootstrapped examples for GRPO...\n",
      "2025/05/07 19:03:01 INFO dspy.teleprompt.grpo: Invoking GRPO training step...\n"
     ]
    },
    {
     "name": "stdout",
     "output_type": "stream",
     "text": [
      "\n"
     ]
    },
    {
     "name": "stderr",
     "output_type": "stream",
     "text": [
      "2025/05/07 19:03:01 INFO dspy.teleprompt.grpo: Current train step is 30. Updating the model...\n",
      "2025/05/07 19:04:32 INFO dspy.teleprompt.grpo: GRPO training step 30/100 completed.\n",
      "2025/05/07 19:04:32 INFO dspy.teleprompt.grpo: Evaluating the student program on the validation set after training step 30/100\n"
     ]
    },
    {
     "name": "stdout",
     "output_type": "stream",
     "text": [
      "Average Metric: 12.00 / 50 (24.0%): 100%|██████████| 50/50 [00:56<00:00,  1.14s/it]"
     ]
    },
    {
     "name": "stderr",
     "output_type": "stream",
     "text": [
      "2025/05/07 19:05:29 INFO dspy.evaluate.evaluate: Average Metric: 12.0 / 50 (24.0%)\n",
      "2025/05/07 19:05:29 INFO dspy.teleprompt.grpo: Student program validation set score after training step 30/100: 24.0\n",
      "2025/05/07 19:05:29 INFO dspy.teleprompt.grpo: GRPO training step 31/100...\n",
      "2025/05/07 19:05:29 INFO dspy.teleprompt.grpo: Bootstrapping data...\n"
     ]
    },
    {
     "name": "stdout",
     "output_type": "stream",
     "text": [
      "\n",
      "Average Metric: 8.00 / 32 (25.0%): 100%|██████████| 32/32 [00:41<00:00,  1.29s/it]"
     ]
    },
    {
     "name": "stderr",
     "output_type": "stream",
     "text": [
      "2025/05/07 19:06:10 INFO dspy.evaluate.evaluate: Average Metric: 8.0 / 32 (25.0%)\n",
      "2025/05/07 19:06:10 INFO dspy.teleprompt.grpo: Preparing the training data batch from bootstrapped examples for GRPO...\n",
      "2025/05/07 19:06:10 INFO dspy.teleprompt.grpo: Invoking GRPO training step...\n"
     ]
    },
    {
     "name": "stdout",
     "output_type": "stream",
     "text": [
      "\n"
     ]
    },
    {
     "name": "stderr",
     "output_type": "stream",
     "text": [
      "2025/05/07 19:06:10 INFO dspy.teleprompt.grpo: GRPO training step 31/100 completed.\n",
      "2025/05/07 19:06:10 INFO dspy.teleprompt.grpo: GRPO training step 32/100...\n",
      "2025/05/07 19:06:10 INFO dspy.teleprompt.grpo: Bootstrapping data...\n"
     ]
    },
    {
     "name": "stdout",
     "output_type": "stream",
     "text": [
      "Average Metric: 8.00 / 32 (25.0%): 100%|██████████| 32/32 [00:24<00:00,  1.32it/s]"
     ]
    },
    {
     "name": "stderr",
     "output_type": "stream",
     "text": [
      "2025/05/07 19:06:35 INFO dspy.evaluate.evaluate: Average Metric: 8.0 / 32 (25.0%)\n",
      "2025/05/07 19:06:35 INFO dspy.teleprompt.grpo: Preparing the training data batch from bootstrapped examples for GRPO...\n",
      "2025/05/07 19:06:35 INFO dspy.teleprompt.grpo: Invoking GRPO training step...\n"
     ]
    },
    {
     "name": "stdout",
     "output_type": "stream",
     "text": [
      "\n"
     ]
    },
    {
     "name": "stderr",
     "output_type": "stream",
     "text": [
      "2025/05/07 19:06:35 INFO dspy.teleprompt.grpo: GRPO training step 32/100 completed.\n",
      "2025/05/07 19:06:35 INFO dspy.teleprompt.grpo: GRPO training step 33/100...\n",
      "2025/05/07 19:06:35 INFO dspy.teleprompt.grpo: Bootstrapping data...\n"
     ]
    },
    {
     "name": "stdout",
     "output_type": "stream",
     "text": [
      "Average Metric: 0.00 / 32 (0.0%): 100%|██████████| 32/32 [00:28<00:00,  1.14it/s]"
     ]
    },
    {
     "name": "stderr",
     "output_type": "stream",
     "text": [
      "2025/05/07 19:07:03 INFO dspy.evaluate.evaluate: Average Metric: 0.0 / 32 (0.0%)\n",
      "2025/05/07 19:07:03 INFO dspy.teleprompt.grpo: Preparing the training data batch from bootstrapped examples for GRPO...\n",
      "2025/05/07 19:07:03 INFO dspy.teleprompt.grpo: Invoking GRPO training step...\n"
     ]
    },
    {
     "name": "stdout",
     "output_type": "stream",
     "text": [
      "\n"
     ]
    },
    {
     "name": "stderr",
     "output_type": "stream",
     "text": [
      "2025/05/07 19:07:04 INFO dspy.teleprompt.grpo: Current train step is 33. Updating the model...\n",
      "2025/05/07 19:08:39 INFO dspy.teleprompt.grpo: GRPO training step 33/100 completed.\n",
      "2025/05/07 19:08:39 INFO dspy.teleprompt.grpo: GRPO training step 34/100...\n",
      "2025/05/07 19:08:39 INFO dspy.teleprompt.grpo: Bootstrapping data...\n"
     ]
    },
    {
     "name": "stdout",
     "output_type": "stream",
     "text": [
      "Average Metric: 10.00 / 32 (31.2%): 100%|██████████| 32/32 [00:26<00:00,  1.20it/s]"
     ]
    },
    {
     "name": "stderr",
     "output_type": "stream",
     "text": [
      "2025/05/07 19:09:06 INFO dspy.evaluate.evaluate: Average Metric: 10.0 / 32 (31.2%)\n",
      "2025/05/07 19:09:06 INFO dspy.teleprompt.grpo: Preparing the training data batch from bootstrapped examples for GRPO...\n",
      "2025/05/07 19:09:06 INFO dspy.teleprompt.grpo: Invoking GRPO training step...\n"
     ]
    },
    {
     "name": "stdout",
     "output_type": "stream",
     "text": [
      "\n"
     ]
    },
    {
     "name": "stderr",
     "output_type": "stream",
     "text": [
      "2025/05/07 19:09:06 INFO dspy.teleprompt.grpo: GRPO training step 34/100 completed.\n",
      "2025/05/07 19:09:06 INFO dspy.teleprompt.grpo: GRPO training step 35/100...\n",
      "2025/05/07 19:09:06 INFO dspy.teleprompt.grpo: Bootstrapping data...\n"
     ]
    },
    {
     "name": "stdout",
     "output_type": "stream",
     "text": [
      "Average Metric: 11.00 / 32 (34.4%): 100%|██████████| 32/32 [00:39<00:00,  1.24s/it]"
     ]
    },
    {
     "name": "stderr",
     "output_type": "stream",
     "text": [
      "2025/05/07 19:09:46 INFO dspy.evaluate.evaluate: Average Metric: 11.0 / 32 (34.4%)\n",
      "2025/05/07 19:09:46 INFO dspy.teleprompt.grpo: Preparing the training data batch from bootstrapped examples for GRPO...\n",
      "2025/05/07 19:09:46 INFO dspy.teleprompt.grpo: Invoking GRPO training step...\n"
     ]
    },
    {
     "name": "stdout",
     "output_type": "stream",
     "text": [
      "\n"
     ]
    },
    {
     "name": "stderr",
     "output_type": "stream",
     "text": [
      "2025/05/07 19:09:46 INFO dspy.teleprompt.grpo: GRPO training step 35/100 completed.\n",
      "2025/05/07 19:09:46 INFO dspy.teleprompt.grpo: GRPO training step 36/100...\n",
      "2025/05/07 19:09:46 INFO dspy.teleprompt.grpo: Bootstrapping data...\n"
     ]
    },
    {
     "name": "stdout",
     "output_type": "stream",
     "text": [
      "Average Metric: 0.00 / 32 (0.0%): 100%|██████████| 32/32 [00:27<00:00,  1.18it/s]"
     ]
    },
    {
     "name": "stderr",
     "output_type": "stream",
     "text": [
      "2025/05/07 19:10:13 INFO dspy.evaluate.evaluate: Average Metric: 0.0 / 32 (0.0%)\n",
      "2025/05/07 19:10:13 INFO dspy.teleprompt.grpo: Preparing the training data batch from bootstrapped examples for GRPO...\n",
      "2025/05/07 19:10:13 INFO dspy.teleprompt.grpo: Invoking GRPO training step...\n"
     ]
    },
    {
     "name": "stdout",
     "output_type": "stream",
     "text": [
      "\n"
     ]
    },
    {
     "name": "stderr",
     "output_type": "stream",
     "text": [
      "2025/05/07 19:10:14 INFO dspy.teleprompt.grpo: Current train step is 36. Updating the model...\n",
      "2025/05/07 19:11:49 INFO dspy.teleprompt.grpo: GRPO training step 36/100 completed.\n",
      "2025/05/07 19:11:49 INFO dspy.teleprompt.grpo: GRPO training step 37/100...\n",
      "2025/05/07 19:11:49 INFO dspy.teleprompt.grpo: Bootstrapping data...\n"
     ]
    },
    {
     "name": "stdout",
     "output_type": "stream",
     "text": [
      "Average Metric: 6.00 / 32 (18.8%): 100%|██████████| 32/32 [00:42<00:00,  1.32s/it]"
     ]
    },
    {
     "name": "stderr",
     "output_type": "stream",
     "text": [
      "2025/05/07 19:12:31 INFO dspy.evaluate.evaluate: Average Metric: 6.0 / 32 (18.8%)\n",
      "2025/05/07 19:12:31 INFO dspy.teleprompt.grpo: Preparing the training data batch from bootstrapped examples for GRPO...\n",
      "2025/05/07 19:12:31 INFO dspy.teleprompt.grpo: Invoking GRPO training step...\n"
     ]
    },
    {
     "name": "stdout",
     "output_type": "stream",
     "text": [
      "\n"
     ]
    },
    {
     "name": "stderr",
     "output_type": "stream",
     "text": [
      "2025/05/07 19:12:32 INFO dspy.teleprompt.grpo: GRPO training step 37/100 completed.\n",
      "2025/05/07 19:12:32 INFO dspy.teleprompt.grpo: GRPO training step 38/100...\n",
      "2025/05/07 19:12:32 INFO dspy.teleprompt.grpo: Bootstrapping data...\n"
     ]
    },
    {
     "name": "stdout",
     "output_type": "stream",
     "text": [
      "Average Metric: 8.00 / 32 (25.0%): 100%|██████████| 32/32 [00:36<00:00,  1.13s/it]"
     ]
    },
    {
     "name": "stderr",
     "output_type": "stream",
     "text": [
      "2025/05/07 19:13:08 INFO dspy.evaluate.evaluate: Average Metric: 8.0 / 32 (25.0%)\n",
      "2025/05/07 19:13:08 INFO dspy.teleprompt.grpo: Preparing the training data batch from bootstrapped examples for GRPO...\n",
      "2025/05/07 19:13:08 INFO dspy.teleprompt.grpo: Invoking GRPO training step...\n"
     ]
    },
    {
     "name": "stdout",
     "output_type": "stream",
     "text": [
      "\n"
     ]
    },
    {
     "name": "stderr",
     "output_type": "stream",
     "text": [
      "2025/05/07 19:13:09 INFO dspy.teleprompt.grpo: GRPO training step 38/100 completed.\n",
      "2025/05/07 19:13:09 INFO dspy.teleprompt.grpo: GRPO training step 39/100...\n",
      "2025/05/07 19:13:09 INFO dspy.teleprompt.grpo: Bootstrapping data...\n"
     ]
    },
    {
     "name": "stdout",
     "output_type": "stream",
     "text": [
      "Average Metric: 4.00 / 32 (12.5%): 100%|██████████| 32/32 [00:15<00:00,  2.11it/s]"
     ]
    },
    {
     "name": "stderr",
     "output_type": "stream",
     "text": [
      "2025/05/07 19:13:24 INFO dspy.evaluate.evaluate: Average Metric: 4.0 / 32 (12.5%)\n",
      "2025/05/07 19:13:24 INFO dspy.teleprompt.grpo: Preparing the training data batch from bootstrapped examples for GRPO...\n",
      "2025/05/07 19:13:24 INFO dspy.teleprompt.grpo: Invoking GRPO training step...\n"
     ]
    },
    {
     "name": "stdout",
     "output_type": "stream",
     "text": [
      "\n"
     ]
    },
    {
     "name": "stderr",
     "output_type": "stream",
     "text": [
      "2025/05/07 19:13:24 INFO dspy.teleprompt.grpo: Current train step is 39. Updating the model...\n",
      "2025/05/07 19:14:59 INFO dspy.teleprompt.grpo: GRPO training step 39/100 completed.\n",
      "2025/05/07 19:14:59 INFO dspy.teleprompt.grpo: GRPO training step 40/100...\n",
      "2025/05/07 19:14:59 INFO dspy.teleprompt.grpo: Bootstrapping data...\n"
     ]
    },
    {
     "name": "stdout",
     "output_type": "stream",
     "text": [
      "Average Metric: 0.00 / 32 (0.0%): 100%|██████████| 32/32 [00:38<00:00,  1.21s/it]"
     ]
    },
    {
     "name": "stderr",
     "output_type": "stream",
     "text": [
      "2025/05/07 19:15:38 INFO dspy.evaluate.evaluate: Average Metric: 0.0 / 32 (0.0%)\n",
      "2025/05/07 19:15:38 INFO dspy.teleprompt.grpo: Preparing the training data batch from bootstrapped examples for GRPO...\n",
      "2025/05/07 19:15:38 INFO dspy.teleprompt.grpo: Invoking GRPO training step...\n"
     ]
    },
    {
     "name": "stdout",
     "output_type": "stream",
     "text": [
      "\n"
     ]
    },
    {
     "name": "stderr",
     "output_type": "stream",
     "text": [
      "2025/05/07 19:15:39 INFO dspy.teleprompt.grpo: GRPO training step 40/100 completed.\n",
      "2025/05/07 19:15:39 INFO dspy.teleprompt.grpo: Evaluating the student program on the validation set after training step 40/100\n"
     ]
    },
    {
     "name": "stdout",
     "output_type": "stream",
     "text": [
      "Average Metric: 12.00 / 50 (24.0%): 100%|██████████| 50/50 [00:53<00:00,  1.07s/it]"
     ]
    },
    {
     "name": "stderr",
     "output_type": "stream",
     "text": [
      "2025/05/07 19:16:32 INFO dspy.evaluate.evaluate: Average Metric: 12.0 / 50 (24.0%)\n",
      "2025/05/07 19:16:32 INFO dspy.teleprompt.grpo: Student program validation set score after training step 40/100: 24.0\n",
      "2025/05/07 19:16:32 INFO dspy.teleprompt.grpo: GRPO training step 41/100...\n",
      "2025/05/07 19:16:32 INFO dspy.teleprompt.grpo: Bootstrapping data...\n"
     ]
    },
    {
     "name": "stdout",
     "output_type": "stream",
     "text": [
      "\n",
      "Average Metric: 24.00 / 32 (75.0%): 100%|██████████| 32/32 [00:34<00:00,  1.07s/it] "
     ]
    },
    {
     "name": "stderr",
     "output_type": "stream",
     "text": [
      "2025/05/07 19:17:06 INFO dspy.evaluate.evaluate: Average Metric: 24.0 / 32 (75.0%)\n",
      "2025/05/07 19:17:06 INFO dspy.teleprompt.grpo: Preparing the training data batch from bootstrapped examples for GRPO...\n",
      "2025/05/07 19:17:06 INFO dspy.teleprompt.grpo: Invoking GRPO training step...\n"
     ]
    },
    {
     "name": "stdout",
     "output_type": "stream",
     "text": [
      "\n"
     ]
    },
    {
     "name": "stderr",
     "output_type": "stream",
     "text": [
      "2025/05/07 19:17:07 INFO dspy.teleprompt.grpo: GRPO training step 41/100 completed.\n",
      "2025/05/07 19:17:07 INFO dspy.teleprompt.grpo: GRPO training step 42/100...\n",
      "2025/05/07 19:17:07 INFO dspy.teleprompt.grpo: Bootstrapping data...\n"
     ]
    },
    {
     "name": "stdout",
     "output_type": "stream",
     "text": [
      "Average Metric: 7.00 / 32 (21.9%): 100%|██████████| 32/32 [00:46<00:00,  1.45s/it]"
     ]
    },
    {
     "name": "stderr",
     "output_type": "stream",
     "text": [
      "2025/05/07 19:17:53 INFO dspy.evaluate.evaluate: Average Metric: 7.0 / 32 (21.9%)\n",
      "2025/05/07 19:17:53 INFO dspy.teleprompt.grpo: Preparing the training data batch from bootstrapped examples for GRPO...\n",
      "2025/05/07 19:17:53 INFO dspy.teleprompt.grpo: Invoking GRPO training step...\n"
     ]
    },
    {
     "name": "stdout",
     "output_type": "stream",
     "text": [
      "\n"
     ]
    },
    {
     "name": "stderr",
     "output_type": "stream",
     "text": [
      "2025/05/07 19:17:53 INFO dspy.teleprompt.grpo: Current train step is 42. Updating the model...\n",
      "2025/05/07 19:19:29 INFO dspy.teleprompt.grpo: GRPO training step 42/100 completed.\n",
      "2025/05/07 19:19:29 INFO dspy.teleprompt.grpo: GRPO training step 43/100...\n",
      "2025/05/07 19:19:29 INFO dspy.teleprompt.grpo: Bootstrapping data...\n"
     ]
    },
    {
     "name": "stdout",
     "output_type": "stream",
     "text": [
      "Average Metric: 11.00 / 32 (34.4%): 100%|██████████| 32/32 [00:30<00:00,  1.06it/s]"
     ]
    },
    {
     "name": "stderr",
     "output_type": "stream",
     "text": [
      "2025/05/07 19:19:59 INFO dspy.evaluate.evaluate: Average Metric: 11.0 / 32 (34.4%)\n",
      "2025/05/07 19:19:59 INFO dspy.teleprompt.grpo: Preparing the training data batch from bootstrapped examples for GRPO...\n",
      "2025/05/07 19:19:59 INFO dspy.teleprompt.grpo: Invoking GRPO training step...\n"
     ]
    },
    {
     "name": "stdout",
     "output_type": "stream",
     "text": [
      "\n"
     ]
    },
    {
     "name": "stderr",
     "output_type": "stream",
     "text": [
      "2025/05/07 19:19:59 INFO dspy.teleprompt.grpo: GRPO training step 43/100 completed.\n",
      "2025/05/07 19:19:59 INFO dspy.teleprompt.grpo: GRPO training step 44/100...\n",
      "2025/05/07 19:19:59 INFO dspy.teleprompt.grpo: Bootstrapping data...\n"
     ]
    },
    {
     "name": "stdout",
     "output_type": "stream",
     "text": [
      "Average Metric: 15.00 / 32 (46.9%): 100%|██████████| 32/32 [00:30<00:00,  1.06it/s]"
     ]
    },
    {
     "name": "stderr",
     "output_type": "stream",
     "text": [
      "2025/05/07 19:20:30 INFO dspy.evaluate.evaluate: Average Metric: 15.0 / 32 (46.9%)\n",
      "2025/05/07 19:20:30 INFO dspy.teleprompt.grpo: Preparing the training data batch from bootstrapped examples for GRPO...\n",
      "2025/05/07 19:20:30 INFO dspy.teleprompt.grpo: Invoking GRPO training step...\n"
     ]
    },
    {
     "name": "stdout",
     "output_type": "stream",
     "text": [
      "\n"
     ]
    },
    {
     "name": "stderr",
     "output_type": "stream",
     "text": [
      "2025/05/07 19:20:30 INFO dspy.teleprompt.grpo: GRPO training step 44/100 completed.\n",
      "2025/05/07 19:20:30 INFO dspy.teleprompt.grpo: GRPO training step 45/100...\n",
      "2025/05/07 19:20:30 INFO dspy.teleprompt.grpo: Bootstrapping data...\n"
     ]
    },
    {
     "name": "stdout",
     "output_type": "stream",
     "text": [
      "Average Metric: 1.00 / 29 (3.4%):  91%|█████████ | 29/32 [00:34<00:05,  1.81s/it]"
     ]
    },
    {
     "name": "stderr",
     "output_type": "stream",
     "text": [
      "2025/05/07 19:21:09 WARNING dspy.adapters.json_adapter: Failed to use structured output format. Falling back to JSON mode. Error: 'type' object is not iterable\n"
     ]
    },
    {
     "name": "stdout",
     "output_type": "stream",
     "text": [
      "Average Metric: 0.00 / 32 (0.0%): 100%|██████████| 32/32 [00:42<00:00,  1.32s/it]"
     ]
    },
    {
     "name": "stderr",
     "output_type": "stream",
     "text": [
      "2025/05/07 19:21:12 INFO dspy.evaluate.evaluate: Average Metric: 0.0 / 32 (0.0%)\n",
      "2025/05/07 19:21:12 INFO dspy.teleprompt.grpo: Preparing the training data batch from bootstrapped examples for GRPO...\n",
      "2025/05/07 19:21:12 WARNING dspy.teleprompt.grpo: Adding a format failure example to the training data for predictor 0 and example 3.\n",
      "2025/05/07 19:21:12 INFO dspy.teleprompt.grpo: Invoking GRPO training step...\n"
     ]
    },
    {
     "name": "stdout",
     "output_type": "stream",
     "text": [
      "\n"
     ]
    },
    {
     "name": "stderr",
     "output_type": "stream",
     "text": [
      "2025/05/07 19:21:13 INFO dspy.teleprompt.grpo: Current train step is 45. Updating the model...\n",
      "2025/05/07 19:22:58 INFO dspy.teleprompt.grpo: GRPO training step 45/100 completed.\n",
      "2025/05/07 19:22:58 INFO dspy.teleprompt.grpo: GRPO training step 46/100...\n",
      "2025/05/07 19:22:58 INFO dspy.teleprompt.grpo: Bootstrapping data...\n"
     ]
    },
    {
     "name": "stdout",
     "output_type": "stream",
     "text": [
      "Average Metric: 8.00 / 32 (25.0%): 100%|██████████| 32/32 [00:35<00:00,  1.11s/it]"
     ]
    },
    {
     "name": "stderr",
     "output_type": "stream",
     "text": [
      "2025/05/07 19:23:34 INFO dspy.evaluate.evaluate: Average Metric: 8.0 / 32 (25.0%)\n",
      "2025/05/07 19:23:34 INFO dspy.teleprompt.grpo: Preparing the training data batch from bootstrapped examples for GRPO...\n",
      "2025/05/07 19:23:34 INFO dspy.teleprompt.grpo: Invoking GRPO training step...\n"
     ]
    },
    {
     "name": "stdout",
     "output_type": "stream",
     "text": [
      "\n"
     ]
    },
    {
     "name": "stderr",
     "output_type": "stream",
     "text": [
      "2025/05/07 19:23:34 INFO dspy.teleprompt.grpo: GRPO training step 46/100 completed.\n",
      "2025/05/07 19:23:34 INFO dspy.teleprompt.grpo: GRPO training step 47/100...\n",
      "2025/05/07 19:23:34 INFO dspy.teleprompt.grpo: Bootstrapping data...\n"
     ]
    },
    {
     "name": "stdout",
     "output_type": "stream",
     "text": [
      "Average Metric: 8.00 / 32 (25.0%): 100%|██████████| 32/32 [00:31<00:00,  1.03it/s]"
     ]
    },
    {
     "name": "stderr",
     "output_type": "stream",
     "text": [
      "2025/05/07 19:24:05 INFO dspy.evaluate.evaluate: Average Metric: 8.0 / 32 (25.0%)\n",
      "2025/05/07 19:24:05 INFO dspy.teleprompt.grpo: Preparing the training data batch from bootstrapped examples for GRPO...\n",
      "2025/05/07 19:24:05 INFO dspy.teleprompt.grpo: Invoking GRPO training step...\n"
     ]
    },
    {
     "name": "stdout",
     "output_type": "stream",
     "text": [
      "\n"
     ]
    },
    {
     "name": "stderr",
     "output_type": "stream",
     "text": [
      "2025/05/07 19:24:06 INFO dspy.teleprompt.grpo: GRPO training step 47/100 completed.\n",
      "2025/05/07 19:24:06 INFO dspy.teleprompt.grpo: GRPO training step 48/100...\n",
      "2025/05/07 19:24:06 INFO dspy.teleprompt.grpo: Bootstrapping data...\n"
     ]
    },
    {
     "name": "stdout",
     "output_type": "stream",
     "text": [
      "Average Metric: 0.00 / 32 (0.0%): 100%|██████████| 32/32 [00:37<00:00,  1.17s/it]"
     ]
    },
    {
     "name": "stderr",
     "output_type": "stream",
     "text": [
      "2025/05/07 19:24:43 INFO dspy.evaluate.evaluate: Average Metric: 0.0 / 32 (0.0%)\n",
      "2025/05/07 19:24:43 INFO dspy.teleprompt.grpo: Preparing the training data batch from bootstrapped examples for GRPO...\n",
      "2025/05/07 19:24:43 INFO dspy.teleprompt.grpo: Invoking GRPO training step...\n"
     ]
    },
    {
     "name": "stdout",
     "output_type": "stream",
     "text": [
      "\n"
     ]
    },
    {
     "name": "stderr",
     "output_type": "stream",
     "text": [
      "2025/05/07 19:24:44 INFO dspy.teleprompt.grpo: Current train step is 48. Updating the model...\n",
      "2025/05/07 19:26:19 INFO dspy.teleprompt.grpo: GRPO training step 48/100 completed.\n",
      "2025/05/07 19:26:19 INFO dspy.teleprompt.grpo: GRPO training step 49/100...\n",
      "2025/05/07 19:26:19 INFO dspy.teleprompt.grpo: Bootstrapping data...\n"
     ]
    },
    {
     "name": "stdout",
     "output_type": "stream",
     "text": [
      "Average Metric: 8.00 / 32 (25.0%): 100%|██████████| 32/32 [00:36<00:00,  1.14s/it]"
     ]
    },
    {
     "name": "stderr",
     "output_type": "stream",
     "text": [
      "2025/05/07 19:26:55 INFO dspy.evaluate.evaluate: Average Metric: 8.0 / 32 (25.0%)\n",
      "2025/05/07 19:26:55 INFO dspy.teleprompt.grpo: Preparing the training data batch from bootstrapped examples for GRPO...\n",
      "2025/05/07 19:26:55 INFO dspy.teleprompt.grpo: Invoking GRPO training step...\n"
     ]
    },
    {
     "name": "stdout",
     "output_type": "stream",
     "text": [
      "\n"
     ]
    },
    {
     "name": "stderr",
     "output_type": "stream",
     "text": [
      "2025/05/07 19:26:56 INFO dspy.teleprompt.grpo: GRPO training step 49/100 completed.\n",
      "2025/05/07 19:26:56 INFO dspy.teleprompt.grpo: GRPO training step 50/100...\n",
      "2025/05/07 19:26:56 INFO dspy.teleprompt.grpo: Bootstrapping data...\n"
     ]
    },
    {
     "name": "stdout",
     "output_type": "stream",
     "text": [
      "Average Metric: 24.00 / 32 (75.0%): 100%|██████████| 32/32 [00:18<00:00,  1.69it/s]"
     ]
    },
    {
     "name": "stderr",
     "output_type": "stream",
     "text": [
      "2025/05/07 19:27:15 INFO dspy.evaluate.evaluate: Average Metric: 24.0 / 32 (75.0%)\n",
      "2025/05/07 19:27:15 INFO dspy.teleprompt.grpo: Preparing the training data batch from bootstrapped examples for GRPO...\n",
      "2025/05/07 19:27:15 INFO dspy.teleprompt.grpo: Invoking GRPO training step...\n"
     ]
    },
    {
     "name": "stdout",
     "output_type": "stream",
     "text": [
      "\n"
     ]
    },
    {
     "name": "stderr",
     "output_type": "stream",
     "text": [
      "2025/05/07 19:27:15 INFO dspy.teleprompt.grpo: GRPO training step 50/100 completed.\n",
      "2025/05/07 19:27:15 INFO dspy.teleprompt.grpo: Evaluating the student program on the validation set after training step 50/100\n"
     ]
    },
    {
     "name": "stdout",
     "output_type": "stream",
     "text": [
      "Average Metric: 12.00 / 50 (24.0%): 100%|██████████| 50/50 [01:14<00:00,  1.49s/it]"
     ]
    },
    {
     "name": "stderr",
     "output_type": "stream",
     "text": [
      "2025/05/07 19:28:30 INFO dspy.evaluate.evaluate: Average Metric: 12.0 / 50 (24.0%)\n",
      "2025/05/07 19:28:30 INFO dspy.teleprompt.grpo: Student program validation set score after training step 50/100: 24.0\n",
      "2025/05/07 19:28:30 INFO dspy.teleprompt.grpo: GRPO training step 51/100...\n",
      "2025/05/07 19:28:30 INFO dspy.teleprompt.grpo: Bootstrapping data...\n"
     ]
    },
    {
     "name": "stdout",
     "output_type": "stream",
     "text": [
      "\n",
      "Average Metric: 14.00 / 32 (43.8%): 100%|██████████| 32/32 [00:32<00:00,  1.03s/it]"
     ]
    },
    {
     "name": "stderr",
     "output_type": "stream",
     "text": [
      "2025/05/07 19:29:03 INFO dspy.evaluate.evaluate: Average Metric: 14.0 / 32 (43.8%)\n",
      "2025/05/07 19:29:03 INFO dspy.teleprompt.grpo: Preparing the training data batch from bootstrapped examples for GRPO...\n",
      "2025/05/07 19:29:03 INFO dspy.teleprompt.grpo: Invoking GRPO training step...\n"
     ]
    },
    {
     "name": "stdout",
     "output_type": "stream",
     "text": [
      "\n"
     ]
    },
    {
     "name": "stderr",
     "output_type": "stream",
     "text": [
      "2025/05/07 19:29:04 INFO dspy.teleprompt.grpo: Current train step is 51. Updating the model...\n",
      "2025/05/07 19:30:39 INFO dspy.teleprompt.grpo: GRPO training step 51/100 completed.\n",
      "2025/05/07 19:30:39 INFO dspy.teleprompt.grpo: GRPO training step 52/100...\n",
      "2025/05/07 19:30:39 INFO dspy.teleprompt.grpo: Bootstrapping data...\n"
     ]
    },
    {
     "name": "stdout",
     "output_type": "stream",
     "text": [
      "Average Metric: 1.00 / 32 (3.1%): 100%|██████████| 32/32 [00:27<00:00,  1.16it/s]"
     ]
    },
    {
     "name": "stderr",
     "output_type": "stream",
     "text": [
      "2025/05/07 19:31:06 INFO dspy.evaluate.evaluate: Average Metric: 1.0 / 32 (3.1%)\n",
      "2025/05/07 19:31:06 INFO dspy.teleprompt.grpo: Preparing the training data batch from bootstrapped examples for GRPO...\n",
      "2025/05/07 19:31:06 INFO dspy.teleprompt.grpo: Invoking GRPO training step...\n"
     ]
    },
    {
     "name": "stdout",
     "output_type": "stream",
     "text": [
      "\n"
     ]
    },
    {
     "name": "stderr",
     "output_type": "stream",
     "text": [
      "2025/05/07 19:31:07 INFO dspy.teleprompt.grpo: GRPO training step 52/100 completed.\n",
      "2025/05/07 19:31:07 INFO dspy.teleprompt.grpo: GRPO training step 53/100...\n",
      "2025/05/07 19:31:07 INFO dspy.teleprompt.grpo: Updating shuffled trainset for epoch 2...\n",
      "2025/05/07 19:31:07 INFO dspy.teleprompt.grpo: Bootstrapping data...\n"
     ]
    },
    {
     "name": "stdout",
     "output_type": "stream",
     "text": [
      "Average Metric: 0.00 / 32 (0.0%): 100%|██████████| 32/32 [00:44<00:00,  1.38s/it]"
     ]
    },
    {
     "name": "stderr",
     "output_type": "stream",
     "text": [
      "2025/05/07 19:31:51 INFO dspy.evaluate.evaluate: Average Metric: 0.0 / 32 (0.0%)\n",
      "2025/05/07 19:31:51 INFO dspy.teleprompt.grpo: Preparing the training data batch from bootstrapped examples for GRPO...\n",
      "2025/05/07 19:31:51 INFO dspy.teleprompt.grpo: Invoking GRPO training step...\n"
     ]
    },
    {
     "name": "stdout",
     "output_type": "stream",
     "text": [
      "\n"
     ]
    },
    {
     "name": "stderr",
     "output_type": "stream",
     "text": [
      "2025/05/07 19:31:52 INFO dspy.teleprompt.grpo: GRPO training step 53/100 completed.\n",
      "2025/05/07 19:31:52 INFO dspy.teleprompt.grpo: GRPO training step 54/100...\n",
      "2025/05/07 19:31:52 INFO dspy.teleprompt.grpo: Bootstrapping data...\n"
     ]
    },
    {
     "name": "stdout",
     "output_type": "stream",
     "text": [
      "Average Metric: 23.00 / 32 (71.9%): 100%|██████████| 32/32 [00:22<00:00,  1.42it/s]"
     ]
    },
    {
     "name": "stderr",
     "output_type": "stream",
     "text": [
      "2025/05/07 19:32:14 INFO dspy.evaluate.evaluate: Average Metric: 23.0 / 32 (71.9%)\n",
      "2025/05/07 19:32:14 INFO dspy.teleprompt.grpo: Preparing the training data batch from bootstrapped examples for GRPO...\n",
      "2025/05/07 19:32:14 INFO dspy.teleprompt.grpo: Invoking GRPO training step...\n"
     ]
    },
    {
     "name": "stdout",
     "output_type": "stream",
     "text": [
      "\n"
     ]
    },
    {
     "name": "stderr",
     "output_type": "stream",
     "text": [
      "2025/05/07 19:32:15 INFO dspy.teleprompt.grpo: Current train step is 54. Updating the model...\n",
      "2025/05/07 19:33:45 INFO dspy.teleprompt.grpo: GRPO training step 54/100 completed.\n",
      "2025/05/07 19:33:45 INFO dspy.teleprompt.grpo: GRPO training step 55/100...\n",
      "2025/05/07 19:33:45 INFO dspy.teleprompt.grpo: Bootstrapping data...\n"
     ]
    },
    {
     "name": "stdout",
     "output_type": "stream",
     "text": [
      "Average Metric: 13.00 / 32 (40.6%): 100%|██████████| 32/32 [01:07<00:00,  2.12s/it]"
     ]
    },
    {
     "name": "stderr",
     "output_type": "stream",
     "text": [
      "2025/05/07 19:34:53 INFO dspy.evaluate.evaluate: Average Metric: 13.0 / 32 (40.6%)\n",
      "2025/05/07 19:34:53 INFO dspy.teleprompt.grpo: Preparing the training data batch from bootstrapped examples for GRPO...\n",
      "2025/05/07 19:34:53 INFO dspy.teleprompt.grpo: Invoking GRPO training step...\n"
     ]
    },
    {
     "name": "stdout",
     "output_type": "stream",
     "text": [
      "\n"
     ]
    },
    {
     "name": "stderr",
     "output_type": "stream",
     "text": [
      "2025/05/07 19:34:53 INFO dspy.teleprompt.grpo: GRPO training step 55/100 completed.\n",
      "2025/05/07 19:34:53 INFO dspy.teleprompt.grpo: GRPO training step 56/100...\n",
      "2025/05/07 19:34:53 INFO dspy.teleprompt.grpo: Bootstrapping data...\n"
     ]
    },
    {
     "name": "stdout",
     "output_type": "stream",
     "text": [
      "Average Metric: 8.00 / 32 (25.0%): 100%|██████████| 32/32 [00:44<00:00,  1.38s/it]"
     ]
    },
    {
     "name": "stderr",
     "output_type": "stream",
     "text": [
      "2025/05/07 19:35:38 INFO dspy.evaluate.evaluate: Average Metric: 8.0 / 32 (25.0%)\n",
      "2025/05/07 19:35:38 INFO dspy.teleprompt.grpo: Preparing the training data batch from bootstrapped examples for GRPO...\n",
      "2025/05/07 19:35:38 INFO dspy.teleprompt.grpo: Invoking GRPO training step...\n"
     ]
    },
    {
     "name": "stdout",
     "output_type": "stream",
     "text": [
      "\n"
     ]
    },
    {
     "name": "stderr",
     "output_type": "stream",
     "text": [
      "2025/05/07 19:35:38 INFO dspy.teleprompt.grpo: GRPO training step 56/100 completed.\n",
      "2025/05/07 19:35:38 INFO dspy.teleprompt.grpo: GRPO training step 57/100...\n",
      "2025/05/07 19:35:38 INFO dspy.teleprompt.grpo: Bootstrapping data...\n"
     ]
    },
    {
     "name": "stdout",
     "output_type": "stream",
     "text": [
      "Average Metric: 19.00 / 32 (59.4%): 100%|██████████| 32/32 [00:33<00:00,  1.05s/it]"
     ]
    },
    {
     "name": "stderr",
     "output_type": "stream",
     "text": [
      "2025/05/07 19:36:12 INFO dspy.evaluate.evaluate: Average Metric: 19.0 / 32 (59.4%)\n",
      "2025/05/07 19:36:12 INFO dspy.teleprompt.grpo: Preparing the training data batch from bootstrapped examples for GRPO...\n",
      "2025/05/07 19:36:12 INFO dspy.teleprompt.grpo: Invoking GRPO training step...\n"
     ]
    },
    {
     "name": "stdout",
     "output_type": "stream",
     "text": [
      "\n"
     ]
    },
    {
     "name": "stderr",
     "output_type": "stream",
     "text": [
      "2025/05/07 19:36:12 INFO dspy.teleprompt.grpo: Current train step is 57. Updating the model...\n",
      "2025/05/07 19:37:48 INFO dspy.teleprompt.grpo: GRPO training step 57/100 completed.\n",
      "2025/05/07 19:37:48 INFO dspy.teleprompt.grpo: GRPO training step 58/100...\n",
      "2025/05/07 19:37:48 INFO dspy.teleprompt.grpo: Bootstrapping data...\n"
     ]
    },
    {
     "name": "stdout",
     "output_type": "stream",
     "text": [
      "Average Metric: 19.00 / 32 (59.4%): 100%|██████████| 32/32 [00:23<00:00,  1.35it/s]"
     ]
    },
    {
     "name": "stderr",
     "output_type": "stream",
     "text": [
      "2025/05/07 19:38:11 INFO dspy.evaluate.evaluate: Average Metric: 19.0 / 32 (59.4%)\n",
      "2025/05/07 19:38:11 INFO dspy.teleprompt.grpo: Preparing the training data batch from bootstrapped examples for GRPO...\n",
      "2025/05/07 19:38:11 INFO dspy.teleprompt.grpo: Invoking GRPO training step...\n"
     ]
    },
    {
     "name": "stdout",
     "output_type": "stream",
     "text": [
      "\n"
     ]
    },
    {
     "name": "stderr",
     "output_type": "stream",
     "text": [
      "2025/05/07 19:38:12 INFO dspy.teleprompt.grpo: GRPO training step 58/100 completed.\n",
      "2025/05/07 19:38:12 INFO dspy.teleprompt.grpo: GRPO training step 59/100...\n",
      "2025/05/07 19:38:12 INFO dspy.teleprompt.grpo: Bootstrapping data...\n"
     ]
    },
    {
     "name": "stdout",
     "output_type": "stream",
     "text": [
      "Average Metric: 8.00 / 32 (25.0%): 100%|██████████| 32/32 [00:26<00:00,  1.22it/s]"
     ]
    },
    {
     "name": "stderr",
     "output_type": "stream",
     "text": [
      "2025/05/07 19:38:38 INFO dspy.evaluate.evaluate: Average Metric: 8.0 / 32 (25.0%)\n",
      "2025/05/07 19:38:38 INFO dspy.teleprompt.grpo: Preparing the training data batch from bootstrapped examples for GRPO...\n",
      "2025/05/07 19:38:38 INFO dspy.teleprompt.grpo: Invoking GRPO training step...\n"
     ]
    },
    {
     "name": "stdout",
     "output_type": "stream",
     "text": [
      "\n"
     ]
    },
    {
     "name": "stderr",
     "output_type": "stream",
     "text": [
      "2025/05/07 19:38:38 INFO dspy.teleprompt.grpo: GRPO training step 59/100 completed.\n",
      "2025/05/07 19:38:38 INFO dspy.teleprompt.grpo: GRPO training step 60/100...\n",
      "2025/05/07 19:38:38 INFO dspy.teleprompt.grpo: Bootstrapping data...\n"
     ]
    },
    {
     "name": "stdout",
     "output_type": "stream",
     "text": [
      "Average Metric: 1.00 / 32 (3.1%): 100%|██████████| 32/32 [00:18<00:00,  1.76it/s]"
     ]
    },
    {
     "name": "stderr",
     "output_type": "stream",
     "text": [
      "2025/05/07 19:38:57 INFO dspy.evaluate.evaluate: Average Metric: 1.0 / 32 (3.1%)\n",
      "2025/05/07 19:38:57 INFO dspy.teleprompt.grpo: Preparing the training data batch from bootstrapped examples for GRPO...\n",
      "2025/05/07 19:38:57 INFO dspy.teleprompt.grpo: Invoking GRPO training step...\n"
     ]
    },
    {
     "name": "stdout",
     "output_type": "stream",
     "text": [
      "\n"
     ]
    },
    {
     "name": "stderr",
     "output_type": "stream",
     "text": [
      "2025/05/07 19:38:57 INFO dspy.teleprompt.grpo: Current train step is 60. Updating the model...\n",
      "2025/05/07 19:40:32 INFO dspy.teleprompt.grpo: GRPO training step 60/100 completed.\n",
      "2025/05/07 19:40:32 INFO dspy.teleprompt.grpo: Evaluating the student program on the validation set after training step 60/100\n"
     ]
    },
    {
     "name": "stdout",
     "output_type": "stream",
     "text": [
      "Average Metric: 5.00 / 22 (22.7%):  42%|████▏     | 21/50 [00:28<00:26,  1.10it/s]"
     ]
    },
    {
     "name": "stderr",
     "output_type": "stream",
     "text": [
      "2025/05/07 19:41:01 WARNING dspy.adapters.json_adapter: Failed to use structured output format. Falling back to JSON mode. Error: 'type' object is not iterable\n"
     ]
    },
    {
     "name": "stdout",
     "output_type": "stream",
     "text": [
      "Average Metric: 10.00 / 45 (22.2%):  90%|█████████ | 45/50 [01:00<00:07,  1.53s/it]"
     ]
    },
    {
     "name": "stderr",
     "output_type": "stream",
     "text": [
      "2025/05/07 19:41:33 ERROR dspy.utils.parallelizer: Error for Example({'question': 'analyze the implications of biases related to gender, race, and religion in GPT-3 as discussed in this paper', 'answers': ['The document discusses the implications of biases in GPT-3 related to gender, race, and religion, noting that such biases can lead to the generation of stereotyped or prejudiced content. This raises concerns as it may harm individuals within these groups by entrenching existing stereotypes and producing demeaning portrayals. The analysis conducted aims to understand some limitations of GPT-3 concerning fairness, bias, and representation, but acknowledges that it does not exhaustively characterize all biases present, suggesting that further research is needed to study these issues comprehensively.']}) (input_keys={'question'}): ('Failed to parse response as per signature from original completion with input and num present and expected', '{\\n\\n\\n}', StringSignature(question -> reasoning, rewritten_query\n",
      "    instructions='Rewrite the vague user question into a more specific search query.'\n",
      "    question = Field(annotation=str required=True json_schema_extra={'__dspy_field_type': 'input', 'prefix': 'Question:', 'desc': '${question}'})\n",
      "    reasoning = Field(annotation=str required=True json_schema_extra={'prefix': \"Reasoning: Let's think step by step in order to\", 'desc': '${reasoning}', '__dspy_field_type': 'output'})\n",
      "    rewritten_query = Field(annotation=str required=True json_schema_extra={'__dspy_field_type': 'output', 'prefix': 'Rewritten Query:', 'desc': '${rewritten_query}'})\n",
      "), {'question': 'analyze the implications of biases related to gender, race, and religion in GPT-3 as discussed in this paper'}, 0, 2). Set `provide_traceback=True` for traceback.\n"
     ]
    },
    {
     "name": "stdout",
     "output_type": "stream",
     "text": [
      "Average Metric: 11.00 / 49 (22.4%): 100%|██████████| 50/50 [01:03<00:00,  1.26s/it]"
     ]
    },
    {
     "name": "stderr",
     "output_type": "stream",
     "text": [
      "2025/05/07 19:41:35 INFO dspy.evaluate.evaluate: Average Metric: 11.0 / 50 (22.0%)\n",
      "2025/05/07 19:41:35 INFO dspy.teleprompt.grpo: Student program validation set score after training step 60/100: 22.0\n",
      "2025/05/07 19:41:35 INFO dspy.teleprompt.grpo: GRPO training step 61/100...\n",
      "2025/05/07 19:41:35 INFO dspy.teleprompt.grpo: Bootstrapping data...\n"
     ]
    },
    {
     "name": "stdout",
     "output_type": "stream",
     "text": [
      "\n",
      "Average Metric: 0.00 / 32 (0.0%): 100%|██████████| 32/32 [00:34<00:00,  1.07s/it]"
     ]
    },
    {
     "name": "stderr",
     "output_type": "stream",
     "text": [
      "2025/05/07 19:42:10 INFO dspy.evaluate.evaluate: Average Metric: 0.0 / 32 (0.0%)\n",
      "2025/05/07 19:42:10 INFO dspy.teleprompt.grpo: Preparing the training data batch from bootstrapped examples for GRPO...\n",
      "2025/05/07 19:42:10 INFO dspy.teleprompt.grpo: Invoking GRPO training step...\n"
     ]
    },
    {
     "name": "stdout",
     "output_type": "stream",
     "text": [
      "\n"
     ]
    },
    {
     "name": "stderr",
     "output_type": "stream",
     "text": [
      "2025/05/07 19:42:10 INFO dspy.teleprompt.grpo: GRPO training step 61/100 completed.\n",
      "2025/05/07 19:42:10 INFO dspy.teleprompt.grpo: GRPO training step 62/100...\n",
      "2025/05/07 19:42:10 INFO dspy.teleprompt.grpo: Bootstrapping data...\n"
     ]
    },
    {
     "name": "stdout",
     "output_type": "stream",
     "text": [
      "Average Metric: 8.00 / 32 (25.0%): 100%|██████████| 32/32 [00:28<00:00,  1.11it/s]"
     ]
    },
    {
     "name": "stderr",
     "output_type": "stream",
     "text": [
      "2025/05/07 19:42:39 INFO dspy.evaluate.evaluate: Average Metric: 8.0 / 32 (25.0%)\n",
      "2025/05/07 19:42:39 INFO dspy.teleprompt.grpo: Preparing the training data batch from bootstrapped examples for GRPO...\n",
      "2025/05/07 19:42:39 INFO dspy.teleprompt.grpo: Invoking GRPO training step...\n"
     ]
    },
    {
     "name": "stdout",
     "output_type": "stream",
     "text": [
      "\n"
     ]
    },
    {
     "name": "stderr",
     "output_type": "stream",
     "text": [
      "2025/05/07 19:42:39 INFO dspy.teleprompt.grpo: GRPO training step 62/100 completed.\n",
      "2025/05/07 19:42:39 INFO dspy.teleprompt.grpo: GRPO training step 63/100...\n",
      "2025/05/07 19:42:39 INFO dspy.teleprompt.grpo: Bootstrapping data...\n"
     ]
    },
    {
     "name": "stdout",
     "output_type": "stream",
     "text": [
      "Average Metric: 7.00 / 32 (21.9%): 100%|██████████| 32/32 [00:35<00:00,  1.09s/it]"
     ]
    },
    {
     "name": "stderr",
     "output_type": "stream",
     "text": [
      "2025/05/07 19:43:14 INFO dspy.evaluate.evaluate: Average Metric: 7.0 / 32 (21.9%)\n",
      "2025/05/07 19:43:14 INFO dspy.teleprompt.grpo: Preparing the training data batch from bootstrapped examples for GRPO...\n",
      "2025/05/07 19:43:15 INFO dspy.teleprompt.grpo: Invoking GRPO training step...\n"
     ]
    },
    {
     "name": "stdout",
     "output_type": "stream",
     "text": [
      "\n"
     ]
    },
    {
     "name": "stderr",
     "output_type": "stream",
     "text": [
      "2025/05/07 19:43:15 INFO dspy.teleprompt.grpo: Current train step is 63. Updating the model...\n",
      "2025/05/07 19:45:00 INFO dspy.teleprompt.grpo: GRPO training step 63/100 completed.\n",
      "2025/05/07 19:45:00 INFO dspy.teleprompt.grpo: GRPO training step 64/100...\n",
      "2025/05/07 19:45:00 INFO dspy.teleprompt.grpo: Bootstrapping data...\n"
     ]
    },
    {
     "name": "stdout",
     "output_type": "stream",
     "text": [
      "Average Metric: 0.00 / 32 (0.0%): 100%|██████████| 32/32 [00:40<00:00,  1.28s/it]"
     ]
    },
    {
     "name": "stderr",
     "output_type": "stream",
     "text": [
      "2025/05/07 19:45:41 INFO dspy.evaluate.evaluate: Average Metric: 0.0 / 32 (0.0%)\n",
      "2025/05/07 19:45:41 INFO dspy.teleprompt.grpo: Preparing the training data batch from bootstrapped examples for GRPO...\n",
      "2025/05/07 19:45:41 INFO dspy.teleprompt.grpo: Invoking GRPO training step...\n"
     ]
    },
    {
     "name": "stdout",
     "output_type": "stream",
     "text": [
      "\n"
     ]
    },
    {
     "name": "stderr",
     "output_type": "stream",
     "text": [
      "2025/05/07 19:45:42 INFO dspy.teleprompt.grpo: GRPO training step 64/100 completed.\n",
      "2025/05/07 19:45:42 INFO dspy.teleprompt.grpo: GRPO training step 65/100...\n",
      "2025/05/07 19:45:42 INFO dspy.teleprompt.grpo: Bootstrapping data...\n"
     ]
    },
    {
     "name": "stdout",
     "output_type": "stream",
     "text": [
      "Average Metric: 24.00 / 32 (75.0%): 100%|██████████| 32/32 [00:20<00:00,  1.59it/s]"
     ]
    },
    {
     "name": "stderr",
     "output_type": "stream",
     "text": [
      "2025/05/07 19:46:02 INFO dspy.evaluate.evaluate: Average Metric: 24.0 / 32 (75.0%)\n",
      "2025/05/07 19:46:02 INFO dspy.teleprompt.grpo: Preparing the training data batch from bootstrapped examples for GRPO...\n",
      "2025/05/07 19:46:02 INFO dspy.teleprompt.grpo: Invoking GRPO training step...\n"
     ]
    },
    {
     "name": "stdout",
     "output_type": "stream",
     "text": [
      "\n"
     ]
    },
    {
     "name": "stderr",
     "output_type": "stream",
     "text": [
      "2025/05/07 19:46:02 INFO dspy.teleprompt.grpo: GRPO training step 65/100 completed.\n",
      "2025/05/07 19:46:02 INFO dspy.teleprompt.grpo: GRPO training step 66/100...\n",
      "2025/05/07 19:46:02 INFO dspy.teleprompt.grpo: Bootstrapping data...\n"
     ]
    },
    {
     "name": "stdout",
     "output_type": "stream",
     "text": [
      "Average Metric: 0.00 / 32 (0.0%): 100%|██████████| 32/32 [00:21<00:00,  1.49it/s]"
     ]
    },
    {
     "name": "stderr",
     "output_type": "stream",
     "text": [
      "2025/05/07 19:46:24 INFO dspy.evaluate.evaluate: Average Metric: 0.0 / 32 (0.0%)\n",
      "2025/05/07 19:46:24 INFO dspy.teleprompt.grpo: Preparing the training data batch from bootstrapped examples for GRPO...\n",
      "2025/05/07 19:46:24 INFO dspy.teleprompt.grpo: Invoking GRPO training step...\n"
     ]
    },
    {
     "name": "stdout",
     "output_type": "stream",
     "text": [
      "\n"
     ]
    },
    {
     "name": "stderr",
     "output_type": "stream",
     "text": [
      "2025/05/07 19:46:24 INFO dspy.teleprompt.grpo: Current train step is 66. Updating the model...\n",
      "2025/05/07 19:48:10 INFO dspy.teleprompt.grpo: GRPO training step 66/100 completed.\n",
      "2025/05/07 19:48:10 INFO dspy.teleprompt.grpo: GRPO training step 67/100...\n",
      "2025/05/07 19:48:10 INFO dspy.teleprompt.grpo: Bootstrapping data...\n"
     ]
    },
    {
     "name": "stdout",
     "output_type": "stream",
     "text": [
      "Average Metric: 12.00 / 32 (37.5%): 100%|██████████| 32/32 [00:42<00:00,  1.33s/it]"
     ]
    },
    {
     "name": "stderr",
     "output_type": "stream",
     "text": [
      "2025/05/07 19:48:52 INFO dspy.evaluate.evaluate: Average Metric: 12.0 / 32 (37.5%)\n",
      "2025/05/07 19:48:52 INFO dspy.teleprompt.grpo: Preparing the training data batch from bootstrapped examples for GRPO...\n",
      "2025/05/07 19:48:52 INFO dspy.teleprompt.grpo: Invoking GRPO training step...\n"
     ]
    },
    {
     "name": "stdout",
     "output_type": "stream",
     "text": [
      "\n"
     ]
    },
    {
     "name": "stderr",
     "output_type": "stream",
     "text": [
      "2025/05/07 19:48:53 INFO dspy.teleprompt.grpo: GRPO training step 67/100 completed.\n",
      "2025/05/07 19:48:53 INFO dspy.teleprompt.grpo: GRPO training step 68/100...\n",
      "2025/05/07 19:48:53 INFO dspy.teleprompt.grpo: Bootstrapping data...\n"
     ]
    },
    {
     "name": "stdout",
     "output_type": "stream",
     "text": [
      "Average Metric: 5.00 / 32 (15.6%): 100%|██████████| 32/32 [00:37<00:00,  1.17s/it]"
     ]
    },
    {
     "name": "stderr",
     "output_type": "stream",
     "text": [
      "2025/05/07 19:49:30 INFO dspy.evaluate.evaluate: Average Metric: 5.0 / 32 (15.6%)\n",
      "2025/05/07 19:49:30 INFO dspy.teleprompt.grpo: Preparing the training data batch from bootstrapped examples for GRPO...\n",
      "2025/05/07 19:49:30 INFO dspy.teleprompt.grpo: Invoking GRPO training step...\n"
     ]
    },
    {
     "name": "stdout",
     "output_type": "stream",
     "text": [
      "\n"
     ]
    },
    {
     "name": "stderr",
     "output_type": "stream",
     "text": [
      "2025/05/07 19:49:31 INFO dspy.teleprompt.grpo: GRPO training step 68/100 completed.\n",
      "2025/05/07 19:49:31 INFO dspy.teleprompt.grpo: GRPO training step 69/100...\n",
      "2025/05/07 19:49:31 INFO dspy.teleprompt.grpo: Bootstrapping data...\n"
     ]
    },
    {
     "name": "stdout",
     "output_type": "stream",
     "text": [
      "Average Metric: 0.00 / 32 (0.0%): 100%|██████████| 32/32 [00:39<00:00,  1.24s/it]"
     ]
    },
    {
     "name": "stderr",
     "output_type": "stream",
     "text": [
      "2025/05/07 19:50:10 INFO dspy.evaluate.evaluate: Average Metric: 0.0 / 32 (0.0%)\n",
      "2025/05/07 19:50:10 INFO dspy.teleprompt.grpo: Preparing the training data batch from bootstrapped examples for GRPO...\n",
      "2025/05/07 19:50:10 INFO dspy.teleprompt.grpo: Invoking GRPO training step...\n"
     ]
    },
    {
     "name": "stdout",
     "output_type": "stream",
     "text": [
      "\n"
     ]
    },
    {
     "name": "stderr",
     "output_type": "stream",
     "text": [
      "2025/05/07 19:50:11 INFO dspy.teleprompt.grpo: Current train step is 69. Updating the model...\n",
      "2025/05/07 19:51:41 INFO dspy.teleprompt.grpo: GRPO training step 69/100 completed.\n",
      "2025/05/07 19:51:41 INFO dspy.teleprompt.grpo: GRPO training step 70/100...\n",
      "2025/05/07 19:51:41 INFO dspy.teleprompt.grpo: Bootstrapping data...\n"
     ]
    },
    {
     "name": "stdout",
     "output_type": "stream",
     "text": [
      "Average Metric: 16.00 / 32 (50.0%): 100%|██████████| 32/32 [00:33<00:00,  1.04s/it]"
     ]
    },
    {
     "name": "stderr",
     "output_type": "stream",
     "text": [
      "2025/05/07 19:52:14 INFO dspy.evaluate.evaluate: Average Metric: 16.0 / 32 (50.0%)\n",
      "2025/05/07 19:52:14 INFO dspy.teleprompt.grpo: Preparing the training data batch from bootstrapped examples for GRPO...\n",
      "2025/05/07 19:52:14 INFO dspy.teleprompt.grpo: Invoking GRPO training step...\n"
     ]
    },
    {
     "name": "stdout",
     "output_type": "stream",
     "text": [
      "\n"
     ]
    },
    {
     "name": "stderr",
     "output_type": "stream",
     "text": [
      "2025/05/07 19:52:15 INFO dspy.teleprompt.grpo: GRPO training step 70/100 completed.\n",
      "2025/05/07 19:52:15 INFO dspy.teleprompt.grpo: Evaluating the student program on the validation set after training step 70/100\n"
     ]
    },
    {
     "name": "stdout",
     "output_type": "stream",
     "text": [
      "Average Metric: 7.00 / 31 (22.6%):  60%|██████    | 30/50 [00:41<00:26,  1.32s/it]"
     ]
    },
    {
     "name": "stderr",
     "output_type": "stream",
     "text": [
      "2025/05/07 19:53:05 WARNING dspy.adapters.json_adapter: Failed to use structured output format. Falling back to JSON mode. Error: 'type' object is not iterable\n"
     ]
    },
    {
     "name": "stdout",
     "output_type": "stream",
     "text": [
      "Average Metric: 8.00 / 39 (20.5%):  78%|███████▊  | 39/50 [01:01<00:19,  1.78s/it]"
     ]
    },
    {
     "name": "stderr",
     "output_type": "stream",
     "text": [
      "2025/05/07 19:53:16 ERROR dspy.utils.parallelizer: Error for Example({'question': 'summarize the key findings of the paper \"Red teaming language models with language models\" by Ethan Perez et al.', 'answers': ['I cannot answer this question based on the provided document.']}) (input_keys={'question'}): ('Failed to parse response as per signature from original completion with input and num present and expected', '{\\n\\n\\n\"Oh, I need to summarize the key findings of the paper \\'Red teaming language models with language models\\' by Ethan Perez et al. Let me think... The user is asking for a summary of the paper\\'s key findings, so I should focus on the main results and conclusions. The paper likely discusses how Red Teaming improves the performance of language models. I need to make sure the query is specific enough to retrieve the paper\\'s content. Maybe I should mention the authors, the title, and the main contribution. Wait, the user might be looking for a concise summary, so the query should be clear and direct. Let me check if there\\'s a standard way to phrase such a query. Oh, right, using the authors\\' name and the title would help. The key findings are probably about the effectiveness of Red Teaming in enhancing model performance. I should structure the query to include these elements. Alright, the rewritten query should clearly state the request for the key findings of the paper by Ethan Perez et al. with the title \\'Red teaming language models with language models\\'.\"\\n \\n\\n \\n  \\n\\n\\n\\n\\n\\n\\n\\n\\n\\n\\n\\n\\n\\n\\n\\n\\n\\n\\n\\n\\n\\n\\n\\n\\n\\n\\n\\n\\n\\n\\n\\n\\n\\n  \\n\\n\\n\\n\\n\\n\\n\\n\\n\\n\\n\\n\\n\\n\\n\\n\\n\\n\\n\\n\\n\\n\\n\\n\\n\\n\\n\\n\\n\\n\\n\\n\\n\\n  \\n\\n\\n\\n\\n\\n\\n\\n\\n\\n\\n\\n\\n\\n\\n\\n\\n\\n\\n\\n\\n\\n\\n\\n\\n  \\n\\n\\n\\n\\n\\n\\n\\n\\n\\n\\n\\n\\n\\n\\n\\n\\n\\n\\n\\n\\n\\n\\n\\n\\n\\n\\n  \\n\\n\\n\\n\\n\\n\\n\\n\\n\\n\\n\\n\\n\\n\\n\\n\\n\\n\\n\\n\\n\\n\\n\\n  \\n\\n\\n\\n\\n\\n\\n\\n\\n\\n\\n\\n\\n\\n\\n\\n\\n\\n\\n\\n\\n\\n\\n\\n  \\n\\n\\n\\n\\n\\n\\n\\n\\n\\n\\n\\n\\n\\n\\n\\n\\n\\n\\n\\n\\n\\n\\n\\n  \\n\\n\\n\\n\\n\\n\\n\\n\\n\\n\\n\\n\\n\\n\\n\\n\\n\\n\\n\\n\\n\\n\\n\\n  \\n\\n\\n\\n\\n\\n\\n\\n\\n\\n\\n\\n\\n\\n\\n\\n\\n\\n\\n\\n\\n\\n\\n\\n\\n  \\n\\n\\n\\n\\n\\n\\n\\n\\n\\n\\n\\n\\n\\n\\n\\n\\n\\n\\n\\n\\n\\n\\n\\n  \\n\\n\\n\\n\\n\\n\\n\\n\\n\\n\\n\\n\\n\\n\\n\\n\\n\\n\\n\\n\\n\\n\\n\\n  \\n\\n\\n\\n\\n\\n\\n\\n\\n\\n\\n\\n\\n\\n\\n\\n\\n\\n\\n\\n\\n\\n\\n\\n  \\n\\n\\n\\n\\n\\n\\n\\n\\n\\n\\n\\n\\n\\n\\n\\n\\n\\n\\n\\n\\n\\n\\n\\n\\n\\n\\n\\n\\n\\n\\n\\n\\n\\n\\n\\n\\n\\n\\n\\n\\n\\n\\n\\n\\n\\n\\n\\n\\n\\n\\n\\n\\n\\n\\n\\n\\n\\n\\n\\n\\n\\n\\n  \\n\\n\\n\\n\\n\\n\\n\\n\\n\\n\\n\\n\\n\\n\\n\\n\\n\\n\\n\\n\\n\\n\\n\\n  \\n\\n\\n\\n\\n\\n\\n\\n\\n\\n\\n\\n\\n\\n\\n\\n\\n\\n\\n\\n\\n\\n\\n\\n  \\n\\n\\n\\n\\n\\n\\n\\n\\n\\n\\n\\n\\n\\n\\n\\n\\n\\n\\n\\n\\n\\n\\n\\n\\n\\n\\n\\n\\n\\n\\n\\n\\n\\n\\n\\n\\n\\n\\n\\n\\n\\n\\n\\n\\n\\n\\n\\n\\n\\n  \\n\\n\\n\\n\\n\\n\\n\\n\\n\\n\\n\\n\\n\\n\\n\\n\\n\\n\\n\\n\\n\\n\\n\\n  \\n\\n\\n\\n\\n\\n\\n\\n\\n\\n\\n\\n\\n\\n\\n\\n\\n\\n\\n\\n\\n\\n\\n\\n\\n\\n\\n\\n\\n\\n\\n\\n\\n\\n\\n\\n\\n\\n\\n\\n\\n\\n\\n\\n\\n\\n\\n\\n\\n\\n\\n\\n\\n\\n\\n\\n\\n\\n\\n\\n\\n\\n\\n\\n\\n\\n\\n\\n\\n\\n\\n\\n\\n\\n\\n\\n\\n\\n\\n\\n\\n\\n\\n\\n\\n\\n\\n\\n\\n\\n\\n\\n\\n\\n\\n\\n\\n\\n\\n\\n\\n\\n\\n\\n\\n\\n\\n  \\n\\n\\n\\n\\n\\n\\n\\n\\n\\n\\n\\n\\n\\n\\n\\n\\n\\n\\n\\n\\n\\n\\n\\n\\n\\n\\n\\n\\n\\n\\n\\n\\n\\n\\n\\n\\n\\n\\n\\n\\n\\n\\n\\n\\n\\n\\n\\n\\n\\n\\n\\n\\n\\n\\n\\n\\n\\n\\n\\n\\n\\n\\n\\n\\n\\n\\n\\n\\n\\n\\n\\n\\n\\n\\n\\n\\n\\n\\n\\n\\n\\n\\n\\n\\n\\n\\n\\n\\n\\n\\n\\n\\n\\n\\n\\n\\n\\n\\n\\n\\n\\n\\n\\n\\n\\n\\n\\n\\n\\n\\n\\n\\n\\n\\n\\n\\n\\n\\n\\n\\n\\n\\n\\n\\n\\n\\n\\n\\n\\n\\n\\n\\n\\n\\n\\n\\n\\n\\n\\n\\n\\n\\n\\n\\n\\n\\n\\n\\n\\n\\n\\n\\n\\n\\n\\n\\n\\n\\n\\n\\n\\n\\n\\n\\n\\n\\n\\n\\n\\n\\n\\n\\n\\n\\n\\n\\n\\n\\n\\n\\n\\n\\n\\n\\n\\n\\n\\n\\n\\n\\n\\n\\n\\n\\n\\n\\n\\n\\n\\n\\n\\n\\n\\n\\n\\n\\n\\n\\n\\n\\n\\n\\n\\n\\n\\n\\n\\n\\n\\n\\n\\n\\n\\n\\n\\n\\n\\n\\n\\n\\n\\n\\n\\n\\n\\n\\n\\n\\n\\n\\n\\n\\n\\n\\n\\n\\n\\n\\n\\n\\n\\n\\n\\n\\n\\n\\n\\n\\n\\n\\n\\n\\n\\n\\n\\n\\n\\n\\n\\n\\n\\n\\n\\n\\n\\n\\n\\n\\n\\n\\n\\n\\n\\n\\n\\n\\n\\n\\n\\n\\n\\n\\n\\n\\n\\n\\n\\n\\n\\n\\n\\n\\n\\n\\n\\n\\n\\n\\n\\n\\n\\n\\n\\n\\n\\n\\n\\n\\n\\n\\n\\n\\n\\n\\n\\n\\n\\n\\n\\n\\n\\n\\n\\n\\n\\n\\n\\n\\n\\n\\n\\n\\n\\n\\n\\n\\n\\n\\n\\n\\n\\n\\n\\n\\n\\n\\n\\n\\n\\n\\n\\n\\n\\n\\n\\n\\n\\n\\n\\n\\n\\n\\n\\n\\n\\n\\n\\n\\n\\n\\n\\n\\n\\n\\n\\n\\n\\n\\n\\n\\n\\n\\n\\n\\n\\n\\n\\n\\n\\n\\n\\n\\n\\n\\n\\n\\n\\n\\n\\n\\n\\n\\n\\n\\n\\n\\n\\n\\n\\n\\n\\n\\n\\n\\n\\n\\n\\n\\n\\n\\n\\n\\n\\n\\n\\n\\n\\n\\n\\n\\n\\n\\n\\n\\n\\n\\n\\n\\n\\n\\n\\n\\n\\n\\n\\n\\n\\n\\n\\n\\n\\n\\n\\n\\n\\n\\n\\n\\n\\n\\n\\n\\n\\n\\n\\n\\n\\n\\n\\n\\n\\n\\n\\n\\n\\n\\n\\n\\n\\n\\n\\n\\n\\n\\n\\n\\n\\n\\n\\n\\n\\n\\n\\n\\n\\n\\n\\n\\n\\n\\n\\n\\n\\n\\n\\n\\n\\n\\n\\n\\n\\n\\n\\n\\n\\n\\n\\n\\n\\n\\n\\n\\n\\n\\n\\n\\n\\n\\n\\n\\n\\n\\n\\n\\n\\n\\n\\n\\n\\n\\n\\n\\n\\n\\n\\n\\n\\n\\n\\n\\n\\n\\n\\n\\n\\n\\n\\n\\n\\n\\n\\n\\n\\n\\n\\n\\n\\n\\n\\n\\n\\n\\n\\n\\n\\n\\n\\n\\n\\n\\n\\n\\n\\n\\n\\n\\n\\n\\n\\n\\n\\n\\n\\n\\n\\n\\n\\n\\n\\n\\n\\n\\n\\n\\n\\n\\n\\n\\n\\n\\n\\n\\n\\n\\n\\n\\n\\n\\n\\n\\n\\n\\n\\n\\n\\n\\n\\n\\n\\n\\n\\n\\n\\n\\n\\n\\n\\n\\n\\n\\n\\n\\n\\n\\n\\n\\n\\n\\n\\n\\n\\n\\n\\n\\n\\n\\n\\n\\n\\n\\n\\n\\n\\n\\n\\n\\n\\n\\n\\n\\n\\n\\n\\n\\n\\n\\n\\n\\n\\n\\n\\n\\n\\n\\n\\n\\n\\n\\n\\n\\n\\n\\n\\n\\n\\n\\n\\n\\n\\n\\n\\n\\n\\n\\n\\n\\n\\n\\n\\n\\n\\n\\n\\n\\n\\n\\n\\n\\n\\n\\n\\n\\n\\n\\n\\n\\n\\n\\n\\n\\n\\n\\n\\n\\n\\n\\n\\n\\n\\n\\n\\n\\n\\n\\n\\n\\n\\n\\n\\n\\n\\n\\n\\n\\n\\n\\n\\n\\n\\n\\n\\n\\n\\n\\n\\n\\n\\n\\n\\n\\n\\n\\n\\n\\n\\n\\n\\n\\n\\n\\n\\n\\n\\n\\n\\n\\n\\n\\n\\n\\n\\n\\n\\n\\n\\n\\n\\n\\n\\n\\n\\n\\n\\n\\n\\n\\n\\n\\n\\n\\n\\n\\n\\n\\n\\n\\n\\n\\n\\n\\n\\n\\n\\n\\n\\n\\n\\n\\n\\n\\n\\n\\n\\n\\n\\n\\n\\n\\n\\n\\n\\n\\n\\n\\n\\n\\n\\n\\n\\n\\n\\n\\n\\n\\n\\n\\n\\n\\n\\n\\n\\n\\n\\n\\n\\n\\n\\n\\n\\n\\n\\n\\n\\n\\n\\n\\n\\n\\n\\n\\n\\n\\n\\n\\n\\n\\n\\n\\n\\n\\n\\n\\n\\n\\n\\n\\n\\n\\n\\n\\n\\n\\n\\n\\n\\n\\n\\n\\n\\n\\n\\n\\n\\n\\n\\n\\n\\n\\n\\n\\n\\n\\n\\n\\n\\n\\n\\n\\n\\n\\n\\n\\n\\n\\n\\n\\n\\n\\n\\n\\n\\n\\n\\n\\n\\n\\n\\n\\n\\n\\n\\n\\n\\n\\n\\n\\n\\n\\n\\n\\n\\n\\n\\n\\n\\n\\n\\n\\n\\n\\n\\n\\n\\n\\n\\n\\n\\n\\n\\n\\n\\n\\n\\n\\n\\n\\n\\n\\n\\n\\n\\n\\n\\n\\n\\n\\n\\n\\n\\n\\n\\n\\n\\n\\n\\n\\n\\n\\n\\n\\n\\n\\n\\n\\n\\n\\n\\n\\n\\n\\n\\n\\n\\n\\n\\n\\n\\n\\n\\n\\n\\n\\n\\n\\n\\n\\n\\n\\n\\n\\n\\n\\n\\n\\n\\n\\n\\n\\n\\n\\n\\n\\n\\n\\n\\n\\n\\n\\n\\n\\n\\n\\n\\n\\n\\n\\n\\n\\n\\n\\n\\n\\n\\n\\n\\n\\n\\n\\n\\n\\n\\n\\n\\n\\n\\n\\n\\n\\n\\n\\n\\n\\n\\n\\n\\n\\n\\n\\n\\n\\n\\n\\n\\n\\n\\n\\n\\n\\n\\n\\n\\n\\n\\n\\n\\n\\n\\n\\n\\n\\n\\n\\n\\n\\n\\n\\n\\n\\n\\n\\n\\n\\n\\n\\n\\n\\n\\n\\n\\n\\n\\n\\n\\n\\n\\n\\n\\n\\n\\n\\n\\n\\n\\n\\n\\n\\n\\n\\n\\n\\n\\n\\n\\n\\n\\n\\n\\n\\n\\n\\n\\n\\n\\n\\n\\n\\n\\n\\n\\n\\n\\n\\n\\n\\n\\n\\n\\n\\n\\n\\n\\n\\n\\n\\n\\n\\n\\n\\n\\n\\n\\n\\n\\n\\n\\n\\n\\n\\n\\n\\n\\n\\n\\n\\n\\n\\n\\n\\n\\n\\n\\n\\n\\n\\n\\n\\n\\n\\n\\n\\n\\n\\n\\n\\n\\n\\n\\n\\n\\n\\n\\n\\n\\n\\n\\n\\n\\n\\n\\n\\n\\n\\n\\n\\n\\n\\n\\n\\n\\n\\n\\n\\n\\n\\n\\n\\n\\n\\n\\n\\n\\n\\n\\n\\n\\n\\n\\n\\n\\n\\n\\n\\n\\n\\n\\n\\n\\n\\n\\n\\n\\n\\n\\n\\n\\n\\n\\n\\n\\n\\n\\n\\n\\n\\n\\n\\n\\n\\n\\n\\n\\n\\n\\n\\n\\n\\n\\n\\n\\n\\n\\n\\n\\n\\n\\n\\n\\n\\n\\n\\n\\n\\n\\n\\n\\n\\n\\n\\n\\n\\n\\n\\n\\n\\n\\n\\n\\n\\n\\n\\n\\n\\n\\n\\n\\n\\n\\n\\n\\n\\n\\n\\n\\n\\n\\n\\n\\n\\n\\n\\n\\n\\n\\n\\n\\n\\n\\n\\n\\n\\n\\n\\n\\n\\n\\n\\n\\n\\n\\n\\n\\n\\n\\n\\n\\n\\n\\n\\n\\n\\n\\n\\n\\n\\n\\n\\n\\n\\n\\n\\n\\n\\n\\n\\n\\n\\n\\n\\n\\n\\n\\n\\n\\n\\n\\n\\n\\n\\n\\n\\n\\n\\n\\n\\n\\n\\n\\n\\n\\n\\n\\n\\n\\n\\n\\n\\n\\n\\n\\n\\n\\n\\n\\n\\n\\n\\n\\n\\n\\n\\n\\n\\n\\n\\n\\n\\n\\n\\n\\n\\n\\n\\n\\n\\n\\n\\n\\n\\n\\n\\n\\n\\n\\n\\n\\n\\n\\n\\n\\n\\n\\n\\n\\n\\n\\n\\n\\n\\n\\n\\n\\n\\n\\n\\n\\n\\n\\n\\n\\n\\n\\n\\n\\n\\n\\n\\n\\n\\n\\n\\n\\n\\n\\n\\n\\n\\n\\n\\n\\n\\n\\n\\n\\n\\n\\n\\n\\n\\n\\n\\n\\n\\n\\n\\n\\n\\n\\n\\n\\n\\n\\n\\n\\n\\n\\n\\n\\n\\n\\n\\n\\n\\n\\n\\n\\n\\n\\n\\n\\n\\n\\n\\n\\n\\n\\n\\n\\n\\n\\n\\n\\n\\n\\n\\n\\n\\n\\n\\n\\n\\n\\n\\n\\n\\n\\n\\n\\n\\n\\n\\n\\n\\n\\n\\n\\n\\n\\n\\n\\n\\n\\n\\n\\n\\n\\n\\n\\n\\n\\n\\n\\n\\n\\n\\n\\n\\n\\n\\n\\n\\n\\n\\n\\n\\n\\n\\n\\n\\n\\n\\n\\n\\n\\n\\n\\n\\n\\n\\n\\n\\n\\n\\n\\n\\n\\n\\n\\n\\n\\n\\n\\n\\n\\n\\n\\n\\n\\n\\n\\n\\n\\n\\n\\n\\n\\n\\n\\n\\n\\n\\n\\n\\n\\n\\n\\n\\n\\n\\n\\n\\n\\n\\n\\n\\n\\n\\n\\n\\n\\n\\n\\n\\n\\n\\n\\n\\n\\n\\n\\n\\n\\n\\n\\n\\n\\n\\n\\n\\n\\n\\n\\n\\n\\n\\n\\n\\n\\n\\n\\n\\n\\n\\n\\n\\n\\n\\n\\n\\n\\n\\n\\n\\n\\n\\n\\n\\n\\n\\n\\n\\n\\n\\n\\n\\n\\n\\n\\n\\n\\n\\n\\n\\n\\n\\n\\n\\n\\n\\n\\n\\n\\n\\n\\n\\n\\n\\n\\n\\n\\n\\n\\n\\n\\n\\n\\n\\n\\n\\n\\n\\n\\n\\n\\n\\n\\n\\n\\n\\n\\n\\n\\n\\n\\n\\n\\n\\n\\n\\n\\n\\n\\n\\n\\n\\n\\n\\n\\n\\n\\n\\n\\n\\n\\n\\n\\n\\n\\n\\n\\n\\n\\n\\n\\n\\n\\n\\n\\n\\n\\n\\n\\n\\n\\n\\n\\n\\n\\n\\n\\n\\n\\n\\n\\n\\n\\n\\n\\n\\n\\n\\n\\n\\n\\n\\n\\n\\n\\n\\n\\n\\n\\n\\n\\n\\n\\n\\n\\n\\n\\n\\n\\n\\n\\n\\n\\n\\n\\n\\n\\n\\n\\n\\n\\n\\n\\n\\n\\n\\n\\n\\n\\n\\n\\n\\n\\n\\n\\n\\n\\n\\n\\n\\n\\n\\n\\n\\n\\n\\n\\n\\n\\n\\n\\n\\n\\n\\n\\n\\n\\n\\n\\n\\n\\n\\n\\n\\n\\n\\n\\n\\n\\n\\n\\n\\n\\n\\n\\n\\n\\n\\n\\n\\n\\n\\n\\n\\n\\n\\n\\n\\n\\n\\n\\n\\n\\n\\n\\n\\n\\n\\n\\n\\n\\n\\n\\n\\n\\n\\n\\n\\n\\n\\n\\n\\n\\n\\n\\n\\n\\n\\n\\n\\n\\n\\n\\n\\n\\n\\n\\n\\n\\n\\n\\n\\n\\n\\n\\n\\n\\n\\n\\n\\n\\n\\n\\n\\n\\n\\n\\n\\n\\n\\n\\n\\n\\n\\n\\n\\n\\n\\n\\n\\n\\n\\n\\n\\n\\n\\n\\n\\n\\n\\n\\n\\n\\n\\n\\n\\n\\n\\n\\n\\n\\n\\n\\n\\n\\n\\n\\n\\n\\n\\n\\n\\n\\n\\n\\n\\n\\n\\n\\n\\n\\n\\n\\n\\n\\n\\n\\n\\n\\n\\n\\n\\n\\n\\n\\n\\n\\n\\n\\n\\n\\n\\n\\n\\n\\n\\n\\n\\n\\n\\n\\n\\n\\n\\n\\n\\n\\n\\n\\n\\n\\n\\n\\n\\n\\n\\n\\n\\n\\n\\n\\n\\n\\n\\n\\n\\n\\n\\n\\n\\n\\n\\n\\n\\n\\n\\n\\n\\n\\n\\n\\n\\n\\n\\n\\n\\n\\n\\n\\n\\n\\n\\n\\n\\n\\n\\n\\n\\n\\n\\n\\n\\n\\n\\n\\n\\n\\n\\n\\n\\n\\n\\n\\n\\n\\n\\n\\n\\n\\n\\n\\n\\n\\n\\n\\n\\n\\n\\n\\n\\n\\n\\n\\n\\n\\n\\n\\n\\n\\n\\n\\n\\n\\n\\n\\n\\n\\n\\n\\n\\n\\n\\n\\n\\n\\n\\n\\n\\n\\n\\n\\n\\n\\n\\n\\n\\n\\n\\n\\n\\n\\n\\n\\n\\n\\n\\n\\n\\n\\n\\n\\n\\n\\n\\n\\n\\n\\n\\n\\n\\n\\n\\n\\n\\n\\n\\n\\n\\n\\n\\n\\n\\n\\n\\n\\n\\n\\n\\n\\n\\n\\n\\n\\n\\n\\n\\n\\n\\n\\n\\n\\n\\n\\n\\n\\n\\n\\n\\n\\n\\n\\n\\n\\n\\n\\n\\n\\n\\n\\n\\n\\n\\n\\n\\n\\n\\n\\n\\n\\n\\n\\n\\n\\n\\n\\n\\n\\n\\n\\n\\n\\n\\n\\n\\n\\n\\n\\n\\n\\n\\n\\n\\n\\n\\n\\n\\n\\n\\n\\n\\n\\n\\n\\n\\n\\n\\n\\n\\n\\n\\n\\n\\n\\n\\n\\n\\n\\n\\n\\n\\n\\n\\n\\n\\n\\n\\n\\n\\n\\n\\n\\n\\n\\n\\n\\n\\n\\n\\n\\n\\n\\n\\n\\n\\n\\n\\n\\n\\n\\n\\n\\n\\n\\n\\n\\n\\n\\n\\n\\n\\n\\n\\n\\n\\n\\n\\n\\n\\n\\n\\n\\n\\n\\n\\n\\n\\n\\n\\n\\n\\n\\n\\n\\n\\n\\n\\n\\n\\n\\n\\n\\n\\n\\n\\n\\n\\n\\n\\n\\n\\n\\n\\n\\n\\n\\n\\n\\n\\n\\n\\n\\n\\n\\n\\n\\n\\n\\n\\n\\n\\n\\n\\n\\n\\n\\n\\n\\n\\n\\n\\n\\n\\n\\n\\n\\n\\n\\n\\n\\n\\n\\n\\n\\n\\n\\n\\n\\n\\n\\n\\n\\n\\n\\n\\n\\n\\n\\n\\n\\n\\n\\n\\n\\n\\n\\n\\n\\n\\n\\n\\n\\n\\n\\n\\n\\n\\n\\n\\n\\n\\n\\n\\n\\n\\n\\n\\n\\n\\n\\n\\n\\n\\n\\n\\n\\n\\n\\n\\n\\n\\n\\n\\n\\n\\n\\n\\n\\n\\n\\n\\n\\n\\n\\n\\n\\n\\n\\n\\n\\n\\n\\n\\n\\n\\n\\n\\n\\n\\n\\n\\n\\n\\n\\n\\n\\n\\n\\n\\n\\n\\n\\n\\n\\n\\n\\n\\n\\n\\n\\n\\n\\n\\n\\n\\n\\n\\n\\n\\n\\n\\n\\n\\n\\n\\n\\n\\n\\n\\n\\n\\n\\n\\n\\n\\n\\n\\n\\n\\n\\n\\n\\n\\n\\n\\n\\n\\n\\n\\n\\n\\n\\n\\n\\n\\n\\n\\n\\n\\n\\n\\n\\n\\n\\n\\n\\n\\n\\n\\n\\n\\n\\n\\n\\n\\n\\n\\n\\n\\n\\n\\n\\n\\n\\n\\n\\n\\n\\n\\n\\n\\n\\n\\n\\n\\n\\n\\n\\n\\n\\n\\n\\n\\n\\n\\n\\n\\n\\n\\n\\n\\n\\n\\n\\n\\n\\n\\n\\n\\n\\n\\n\\n\\n\\n\\n\\n\\n\\n\\n\\n\\n\\n\\n\\n\\n\\n\\n\\n\\n\\n\\n\\n\\n\\n\\n\\n\\n\\n\\n\\n\\n\\n\\n\\n\\n\\n\\n\\n\\n\\n\\n\\n\\n\\n\\n\\n\\n\\n\\n\\n\\n\\n\\n\\n\\n\\n\\n\\n\\n\\n\\n\\n\\n\\n\\n\\n\\n\\n\\n\\n\\n\\n\\n\\n\\n\\n\\n\\n\\n\\n\\n\\n\\n\\n\\n\\n\\n\\n\\n\\n\\n\\n\\n\\n\\n\\n\\n\\n\\n\\n\\n\\n\\n\\n\\n\\n\\n\\n\\n\\n\\n\\n\\n\\n\\n\\n\\n\\n\\n\\n\\n\\n\\n\\n\\n\\n\\n\\n\\n\\n\\n\\n\\n\\n\\n\\n\\n\\n\\n\\n\\n\\n\\n\\n\\n\\n\\n\\n\\n\\n\\n\\n\\n\\n\\n\\n\\n\\n\\n\\n\\n\\n\\n\\n\\n\\n\\n\\n\\n\\n\\n\\n\\n\\n\\n\\n\\n\\n\\n\\n\\n\\n\\n\\n\\n\\n\\n\\n\\n\\n\\n\\n\\n\\n\\n\\n\\n\\n\\n\\n\\n\\n\\n\\n\\n\\n\\n\\n\\n\\n\\n\\n\\n\\n\\n\\n\\n\\n\\n\\n\\n\\n\\n\\n\\n\\n\\n\\n\\n\\n\\n\\n\\n\\n\\n\\n\\n\\n\\n\\n\\n\\n\\n\\n\\n\\n\\n\\n\\n\\n\\n\\n\\n\\n\\n\\n\\n\\n\\n\\n\\n\\n\\n\\n\\n\\n\\n\\n\\n\\n\\n\\n\\n\\n\\n\\n\\n\\n\\n\\n\\n\\n\\n\\n\\n\\n\\n\\n\\n\\n\\n\\n\\n\\n\\n\\n\\n\\n\\n\\n\\n\\n\\n\\n\\n\\n\\n\\n\\n\\n\\n\\n\\n\\n\\n\\n\\n\\n\\n\\n\\n\\n\\n\\n\\n\\n\\n\\n\\n\\n\\n\\n\\n\\n\\n\\n\\n\\n\\n\\n\\n\\n\\n\\n\\n\\n\\n\\n\\n\\n\\n\\n\\n\\n\\n\\n\\n\\n\\n\\n\\n\\n\\n\\n\\n\\n\\n\\n\\n\\n\\n\\n\\n\\n\\n\\n\\n\\n\\n\\n\\n\\n\\n\\n\\n\\n\\n\\n\\n\\n\\n\\n\\n\\n\\n\\n\\n\\n\\n\\n\\n\\n\\n\\n\\n\\n\\n\\n\\n\\n\\n\\n\\n\\n\\n\\n\\n\\n\\n\\n\\n\\n\\n\\n\\n\\n\\n\\n\\n\\n\\n\\n\\n\\n\\n\\n\\n\\n\\n\\n\\n\\n\\n\\n\\n\\n\\n\\n\\n\\n\\n\\n\\n\\n\\n\\n\\n\\n\\n\\n\\n\\n\\n\\n\\n\\n\\n\\n\\n\\n\\n\\n\\n\\n\\n\\n\\n\\n\\n\\n\\n\\n\\n\\n\\n\\n\\n\\n\\n\\n\\n\\n\\n\\n\\n\\n\\n\\n\\n\\n\\n\\n\\n\\n\\n\\n\\n\\n\\n\\n\\n\\n\\n\\n\\n\\n\\n\\n\\n\\n\\n\\n\\n\\n\\n\\n\\n\\n\\n\\n\\n\\n\\n\\n\\n\\n\\n\\n\\n\\n\\n\\n\\n\\n\\n\\n\\n\\n\\n\\n\\n\\n\\n\\n\\n\\n\\n\\n\\n\\n\\n\\n\\n\\n\\n\\n\\n\\n\\n\\n\\n\\n\\n\\n\\n\\n\\n\\n\\n\\n\\n\\n\\n\\n\\n\\n\\n\\n\\n\\n\\n\\n\\n\\n\\n\\n\\n\\n\\n\\n\\n\\n\\n\\n\\n\\n\\n\\n\\n\\n\\n\\n\\n\\n\\n\\n\\n\\n\\n\\n\\n\\n\\n\\n\\n\\n\\n\\n\\n\\n\\n\\n\\n\\n\\n\\n\\n\\n\\n\\n\\n\\n\\n\\n\\n\\n\\n\\n\\n\\n\\n\\n\\n\\n\\n\\n\\n\\n\\n\\n\\n\\n\\n\\n\\n\\n\\n\\n\\n\\n\\n\\n\\n\\n\\n\\n\\n\\n\\n\\n\\n\\n\\n\\n\\n\\n\\n\\n\\n\\n\\n\\n\\n\\n\\n\\n\\n\\n\\n\\n\\n\\n\\n\\n\\n\\n\\n\\n\\n\\n\\n\\n\\n\\n\\n\\n\\n\\n\\n\\n\\n\\n\\n\\n\\n\\n\\n\\n\\n\\n\\n\\n\\n\\n\\n\\n\\n\\n\\n\\n\\n\\n\\n\\n\\n\\n\\n\\n\\n\\n\\n\\n\\n\\n\\n\\n\\n\\n\\n\\n\\n\\n\\n\\n\\n\\n\\n\\n\\n\\n\\n\\n\\n\\n\\n\\n\\n\\n\\n\\n\\n\\n\\n\\n\\n\\n\\n\\n\\n\\n\\n\\n\\n\\n\\n\\n\\n\\n\\n\\n\\n\\n\\n\\n\\n\\n\\n\\n\\n\\n\\n\\n\\n\\n\\n\\n\\n\\n\\n\\n\\n\\n\\n\\n\\n\\n\\n\\n\\n\\n\\n\\n\\n\\n\\n\\n\\n\\n\\n\\n\\n\\n\\n\\n\\n\\n\\n\\n\\n\\n\\n\\n\\n\\n\\n\\n\\n\\n\\n\\n\\n\\n\\n\\n\\n\\n\\n\\n\\n\\n\\n\\n\\n\\n\\n\\n\\n\\n\\n\\n\\n\\n\\n\\n\\n\\n\\n\\n\\n\\n\\n\\n\\n\\n\\n\\n\\n\\n\\n\\n\\n\\n\\n\\n\\n\\n\\n\\n\\n\\n\\n\\n\\n\\n\\n\\n\\n\\n\\n\\n\\n\\n\\n\\n\\n\\n\\n\\n\\n\\n\\n\\n\\n\\n\\n\\n\\n\\n\\n\\n\\n\\n\\n\\n\\n\\n\\n\\n\\n\\n\\n\\n\\n\\n\\n\\n\\n\\n\\n\\n\\n\\n\\n\\n\\n\\n\\n\\n\\n\\n\\n\\n\\n\\n\\n\\n\\n\\n\\n\\n\\n\\n\\n\\n\\n\\n\\n\\n\\n\\n\\n\\n\\n\\n\\n\\n\\n\\n\\n\\n\\n\\n\\n\\n\\n\\n\\n\\n\\n\\n\\n\\n\\n\\n\\n\\n\\n\\n\\n\\n\\n\\n\\n\\n\\n\\n\\n\\n\\n\\n\\n\\n\\n\\n\\n\\n\\n\\n\\n\\n\\n\\n\\n\\n\\n\\n\\n\\n\\n\\n\\n\\n\\n\\n\\n\\n\\n\\n\\n\\n\\n\\n\\n\\n\\n\\n\\n\\n\\n\\n\\n\\n\\n\\n\\n\\n\\n\\n\\n\\n\\n\\n\\n\\n\\n\\n\\n\\n\\n\\n\\n\\n\\n\\n\\n\\n\\n\\n\\n\\n\\n\\n\\n\\n\\n\\n\\n\\n\\n\\n\\n\\n\\n\\n\\n\\n\\n\\n\\n\\n\\n\\n\\n\\n\\n\\n\\n\\n\\n\\n\\n\\n\\n\\n\\n\\n\\n\\n\\n\\n\\n\\n\\n\\n\\n\\n\\n\\n\\n\\n\\n\\n\\n\\n\\n\\n\\n\\n\\n\\n\\n\\n\\n\\n\\n\\n\\n\\n\\n\\n\\n\\n\\n\\n\\n\\n\\n\\n\\n\\n\\n\\n\\n\\n\\n\\n\\n\\n\\n\\n\\n\\n\\n\\n\\n\\n\\n\\n\\n\\n\\n\\n\\n\\n\\n\\n\\n\\n\\n\\n\\n\\n\\n\\n\\n\\n\\n\\n\\n\\n\\n\\n\\n\\n\\n\\n\\n\\n\\n\\n\\n\\n\\n\\n\\n\\n\\n\\n\\n\\n\\n\\n\\n\\n\\n\\n\\n\\n\\n\\n\\n\\n\\n\\n\\n\\n\\n\\n\\n\\n\\n\\n\\n\\n\\n\\n\\n\\n\\n\\n\\n\\n\\n\\n\\n\\n\\n\\n\\n\\n\\n\\n\\n\\n\\n\\n\\n\\n\\n\\n\\n\\n\\n\\n\\n\\n\\n\\n\\n\\n\\n\\n\\n\\n\\n\\n\\n\\n\\n\\n\\n\\n\\n\\n\\n\\n\\n\\n\\n\\n\\n\\n\\n\\n\\n\\n\\n\\n\\n\\n\\n\\n\\n\\n\\n\\n\\n\\n\\n\\n\\n\\n\\n\\n\\n\\n\\n\\n\\n\\n\\n\\n\\n\\n\\n\\n\\n\\n\\n\\n\\n\\n\\n\\n\\n\\n\\n\\n\\n\\n\\n\\n\\n\\n\\n\\n\\n\\n\\n\\n\\n\\n\\n\\n\\n\\n\\n\\n\\n\\n\\n\\n\\n\\n\\n\\n\\n\\n\\n\\n\\n\\n\\n\\n\\n\\n\\n\\n\\n\\n\\n\\n\\n\\n\\n\\n\\n\\n\\n\\n\\n\\n\\n\\n\\n\\n\\n\\n\\n\\n\\n\\n\\n\\n\\n\\n\\n\\n\\n\\n\\n\\n\\n\\n\\n\\n\\n\\n\\n\\n\\n\\n\\n\\n\\n\\n\\n\\n\\n\\n\\n\\n\\n\\n\\n\\n\\n\\n\\n\\n\\n\\n\\n\\n\\n\\n\\n\\n\\n\\n\\n\\n\\n\\n\\n\\n\\n\\n\\n\\n\\n\\n\\n\\n\\n\\n\\n\\n\\n\\n\\n\\n\\n\\n\\n\\n\\n\\n\\n\\n\\n\\n\\n\\n\\n\\n\\n\\n\\n\\n\\n\\n\\n\\n\\n\\n\\n\\n\\n\\n\\n\\n\\n\\n\\n\\n\\n\\n\\n\\n\\n\\n\\n\\n\\n\\n\\n\\n\\n\\n\\n\\n\\n\\n\\n\\n\\n\\n\\n\\n\\n\\n\\n\\n\\n\\n\\n\\n\\n\\n\\n\\n\\n\\n\\n\\n\\n\\n\\n\\n\\n\\n\\n\\n\\n\\n\\n\\n\\n\\n\\n\\n\\n\\n\\n\\n\\n\\n\\n\\n\\n\\n\\n\\n\\n\\n\\n\\n\\n\\n\\n\\n\\n\\n\\n\\n\\n\\n\\n\\n\\n\\n\\n\\n\\n\\n\\n\\n\\n\\n\\n\\n\\n\\n\\n\\n\\n\\n\\n\\n\\n\\n\\n\\n\\n\\n\\n\\n\\n\\n\\n\\n\\n\\n\\n\\n\\n\\n\\n\\n\\n\\n\\n\\n\\n\\n\\n\\n\\n\\n\\n\\n\\n\\n\\n\\n\\n\\n\\n\\n\\n\\n\\n\\n\\n\\n\\n\\n\\n\\n\\n\\n\\n\\n\\n\\n\\n\\n\\n\\n\\n\\n\\n\\n\\n\\n\\n\\n\\n\\n\\n\\n\\n\\n\\n\\n\\n\\n\\n\\n\\n\\n\\n\\n\\n\\n\\n\\n\\n\\n\\n\\n\\n\\n\\n\\n\\n\\n\\n\\n\\n\\n\\n\\n\\n\\n\\n\\n\\n\\n\\n\\n\\n\\n\\n\\n\\n\\n\\n\\n\\n\\n\\n\\n\\n\\n\\n\\n\\n\\n\\n\\n\\n\\n\\n\\n\\n\\n\\n\\n\\n\\n\\n\\n\\n\\n\\n\\n\\n\\n\\n\\n\\n\\n\\n\\n\\n\\n\\n\\n\\n\\n\\n\\n\\n\\n\\n\\n\\n\\n\\n\\n\\n\\n\\n\\n\\n\\n\\n\\n\\n\\n\\n\\n\\n\\n\\n\\n\\n\\n\\n\\n\\n\\n\\n\\n\\n\\n\\n\\n\\n\\n\\n\\n\\n\\n\\n\\n\\n\\n\\n\\n\\n\\n\\n\\n\\n\\n\\n\\n\\n\\n\\n\\n\\n\\n\\n\\n\\n\\n\\n\\n\\n\\n\\n\\n\\n\\n\\n\\n\\n\\n\\n\\n\\n\\n\\n\\n\\n\\n\\n\\n\\n\\n\\n\\n\\n\\n\\n\\n\\n\\n\\n\\n\\n\\n\\n\\n\\n\\n\\n\\n\\n\\n\\n\\n\\n\\n\\n\\n\\n\\n\\n\\n\\n\\n\\n\\n\\n\\n\\n\\n\\n\\n\\n\\n\\n\\n\\n\\n\\n\\n\\n\\n\\n\\n\\n\\n\\n\\n\\n\\n\\n\\n\\n\\n\\n\\n\\n\\n\\n\\n\\n\\n\\n\\n\\n\\n\\n\\n\\n\\n\\n\\n\\n\\n\\n\\n\\n\\n\\n\\n\\n\\n\\n\\n\\n\\n\\n\\n\\n\\n\\n\\n\\n\\n\\n\\n\\n\\n\\n\\n\\n\\n\\n\\n\\n\\n\\n\\n\\n\\n\\n\\n\\n\\n\\n\\n\\n\\n\\n\\n\\n\\n\\n\\n\\n\\n\\n\\n\\n\\n\\n\\n\\n\\n\\n\\n\\n\\n\\n\\n\\n\\n\\n\\n\\n\\n\\n\\n\\n\\n\\n\\n\\n\\n\\n\\n\\n\\n\\n\\n\\n\\n\\n\\n\\n\\n\\n\\n\\n\\n\\n\\n\\n\\n\\n\\n\\n\\n\\n\\n\\n\\n\\n\\n\\n\\n\\n\\n\\n\\n\\n\\n\\n\\n\\n\\n\\n\\n\\n\\n\\n\\n\\n\\n\\n\\n\\n\\n\\n\\n\\n\\n\\n\\n\\n\\n\\n\\n\\n\\n\\n\\n\\n\\n\\n\\n\\n\\n\\n\\n\\n\\n\\n\\n\\n\\n\\n\\n\\n\\n\\n\\n\\n\\n\\n\\n\\n\\n\\n\\n\\n\\n\\n\\n\\n\\n\\n\\n\\n\\n\\n\\n\\n\\n\\n\\n\\n\\n\\n\\n\\n\\n\\n\\n\\n\\n\\n\\n\\n\\n\\n\\n\\n\\n\\n\\n\\n\\n\\n\\n\\n\\n\\n\\n\\n\\n\\n\\n\\n\\n\\n\\n\\n\\n\\n\\n\\n\\n\\n\\n\\n\\n\\n\\n\\n\\n\\n\\n\\n\\n\\n\\n\\n\\n\\n\\n\\n\\n\\n\\n\\n\\n\\n\\n\\n\\n\\n\\n\\n\\n\\n\\n\\n\\n\\n\\n\\n\\n\\n\\n\\n\\n\\n\\n\\n\\n\\n\\n\\n\\n\\n\\n\\n\\n\\n\\n\\n\\n\\n\\n\\n\\n\\n\\n\\n\\n\\n\\n\\n\\n\\n\\n\\n\\n\\n\\n\\n\\n\\n\\n\\n\\n\\n\\n\\n\\n\\n\\n\\n\\n\\n\\n\\n\\n\\n\\n\\n\\n\\n\\n\\n\\n\\n\\n\\n\\n\\n\\n\\n\\n\\n\\n\\n\\n\\n\\n\\n\\n\\n\\n\\n\\n\\n\\n\\n\\n\\n\\n\\n\\n\\n\\n\\n\\n\\n\\n\\n\\n\\n\\n\\n\\n\\n\\n\\n\\n\\n\\n\\n\\n\\n\\n\\n\\n\\n\\n\\n\\n\\n\\n\\n\\n\\n\\n\\n\\n\\n\\n\\n\\n\\n\\n\\n\\n\\n\\n\\n\\n\\n\\n\\n\\n\\n\\n\\n\\n\\n\\n\\n\\n\\n\\n\\n\\n\\n\\n\\n\\n\\n\\n\\n\\n\\n\\n\\n\\n\\n\\n\\n\\n\\n\\n\\n\\n\\n\\n\\n\\n\\n\\n\\n\\n\\n\\n\\n\\n\\n\\n\\n\\n\\n\\n\\n\\n\\n\\n\\n\\n\\n\\n\\n\\n\\n\\n\\n\\n\\n\\n\\n\\n\\n\\n\\n\\n\\n\\n\\n\\n\\n\\n\\n\\n\\n\\n\\n\\n\\n\\n\\n\\n\\n\\n\\n\\n\\n\\n\\n\\n\\n\\n\\n\\n\\n\\n\\n\\n\\n\\n\\n\\n\\n\\n\\n\\n\\n\\n\\n\\n\\n\\n\\n\\n\\n\\n\\n\\n\\n\\n\\n\\n\\n\\n\\n\\n\\n\\n\\n\\n\\n\\n\\n\\n\\n\\n\\n\\n\\n\\n\\n\\n\\n\\n\\n\\n\\n\\n\\n\\n\\n\\n\\n\\n\\n\\n\\n\\n\\n\\n\\n\\n\\n\\n\\n\\n\\n\\n\\n\\n\\n\\n\\n\\n\\n\\n\\n\\n\\n\\n\\n\\n\\n\\n\\n\\n\\n\\n\\n\\n\\n\\n\\n\\n\\n\\n\\n\\n\\n\\n\\n\\n\\n\\n\\n\\n\\n\\n\\n\\n\\n\\n\\n\\n\\n\\n\\n\\n\\n\\n\\n\\n\\n\\n\\n\\n\\n\\n\\n\\n\\n\\n\\n\\n\\n\\n\\n\\n\\n\\n\\n\\n\\n\\n\\n\\n\\n\\n\\n\\n\\n\\n\\n\\n\\n\\n\\n\\n\\n\\n\\n\\n\\n\\n\\n\\n\\n\\n\\n\\n\\n\\n\\n\\n\\n\\n\\n\\n\\n\\n\\n\\n\\n\\n\\n\\n\\n\\n\\n\\n\\n\\n\\n\\n\\n\\n\\n\\n\\n\\n\\n\\n\\n\\n\\n\\n\\n\\n\\n\\n\\n\\n\\n\\n\\n\\n\\n\\n\\n\\n\\n\\n\\n\\n\\n\\n\\n\\n\\n\\n\\n\\n\\n\\n\\n\\n\\n\\n\\n\\n\\n\\n\\n\\n\\n\\n\\n\\n\\n\\n\\n\\n\\n\\n\\n\\n\\n\\n\\n\\n\\n\\n\\n\\n\\n\\n\\n\\n\\n\\n\\n\\n\\n\\n\\n\\n\\n\\n\\n\\n\\n\\n\\n\\n\\n\\n\\n\\n\\n\\n\\n\\n\\n\\n\\n\\n\\n\\n\\n\\n\\n\\n\\n\\n\\n\\n\\n\\n\\n\\n\\n\\n\\n\\n\\n\\n\\n\\n\\n\\n\\n\\n\\n\\n\\n\\n\\n\\n\\n\\n\\n\\n\\n\\n\\n\\n\\n\\n\\n\\n\\n\\n\\n\\n\\n\\n\\n\\n\\n\\n\\n\\n\\n\\n\\n\\n\\n\\n\\n\\n\\n\\n\\n\\n\\n\\n\\n\\n\\n\\n\\n\\n\\n\\n\\n\\n\\n\\n\\n\\n\\n\\n\\n\\n\\n\\n\\n\\n\\n\\n\\n\\n\\n\\n\\n\\n\\n\\n\\n\\n\\n\\n\\n\\n\\n\\n\\n\\n\\n\\n\\n\\n\\n\\n\\n\\n\\n\\n\\n\\n\\n\\n\\n\\n\\n\\n\\n\\n\\n\\n\\n\\n\\n\\n\\n\\n\\n\\n\\n\\n\\n\\n\\n\\n\\n\\n\\n\\n\\n\\n\\n\\n\\n\\n\\n\\n\\n\\n\\n\\n\\n\\n\\n\\n\\n\\n\\n\\n\\n\\n\\n\\n\\n\\n\\n\\n\\n\\n\\n\\n\\n\\n\\n\\n\\n\\n\\n\\n\\n\\n\\n\\n\\n\\n\\n\\n\\n\\n\\n\\n\\n\\n\\n\\n\\n\\n\\n\\n\\n\\n\\n\\n\\n\\n\\n\\n\\n\\n\\n\\n\\n\\n\\n\\n\\n\\n\\n\\n\\n\\n\\n\\n\\n\\n\\n\\n\\n\\n\\n\\n\\n\\n\\n\\n\\n\\n\\n\\n\\n\\n\\n\\n\\n\\n\\n\\n\\n\\n\\n\\n\\n\\n\\n\\n\\n\\n\\n\\n\\n\\n\\n\\n\\n\\n\\n\\n\\n\\n\\n\\n\\n\\n\\n\\n\\n\\n\\n\\n\\n\\n\\n\\n\\n\\n\\n\\n\\n\\n\\n\\n\\n\\n\\n\\n\\n\\n\\n\\n\\n\\n\\n\\n\\n\\n\\n\\n\\n\\n\\n\\n\\n\\n\\n\\n\\n\\n\\n\\n\\n\\n\\n\\n\\n\\n\\n\\n\\n\\n\\n\\n\\n\\n\\n\\n\\n\\n\\n\\n\\n\\n\\n\\n\\n\\n\\n\\n\\n\\n\\n\\n\\n\\n\\n\\n\\n\\n\\n\\n\\n\\n\\n\\n\\n\\n\\n\\n\\n\\n\\n\\n\\n\\n\\n\\n\\n\\n\\n\\n\\n\\n\\n\\n\\n\\n\\n\\n\\n\\n\\n\\n\\n\\n\\n\\n\\n\\n\\n\\n\\n\\n\\n\\n\\n\\n\\n\\n\\n\\n\\n\\n\\n\\n\\n\\n\\n\\n\\n\\n\\n\\n\\n\\n\\n\\n\\n\\n\\n\\n\\n\\n\\n\\n\\n\\n\\n\\n\\n\\n\\n\\n\\n\\n\\n\\n\\n\\n\\n\\n\\n\\n\\n\\n\\n\\n\\n\\n\\n\\n\\n\\n\\n\\n\\n\\n\\n\\n\\n\\n\\n\\n\\n\\n\\n\\n\\n\\n\\n\\n\\n\\n\\n\\n\\n\\n\\n\\n\\n\\n\\n\\n\\n\\n\\n\\n\\n\\n\\n\\n\\n\\n\\n\\n\\n\\n\\n\\n\\n\\n\\n\\n\\n\\n\\n\\n\\n\\n\\n\\n\\n\\n\\n\\n\\n\\n\\n\\n\\n\\n\\n\\n\\n\\n\\n\\n\\n\\n\\n\\n\\n\\n\\n\\n\\n\\n\\n\\n\\n\\n\\n\\n\\n\\n\\n\\n\\n\\n\\n\\n\\n\\n\\n\\n\\n\\n\\n\\n\\n\\n\\n\\n\\n\\n\\n\\n\\n\\n\\n\\n\\n\\n\\n\\n\\n\\n\\n\\n\\n\\n\\n\\n\\n\\n\\n\\n\\n\\n\\n\\n\\n\\n\\n\\n\\n\\n\\n\\n\\n\\n\\n\\n\\n\\n\\n\\n\\n\\n\\n\\n\\n\\n\\n\\n\\n\\n\\n\\n\\n\\n\\n\\n\\n\\n\\n\\n\\n\\n\\n\\n\\n\\n\\n\\n\\n\\n\\n\\n\\n\\n\\n\\n\\n\\n\\n\\n\\n\\n\\n\\n\\n\\n\\n\\n\\n\\n\\n\\n\\n\\n\\n\\n\\n\\n\\n\\n\\n\\n\\n\\n\\n\\n\\n\\n\\n\\n\\n\\n\\n\\n\\n\\n\\n\\n\\n\\n\\n\\n\\n\\n\\n\\n\\n\\n\\n\\n\\n\\n\\n\\n\\n\\n\\n\\n\\n\\n\\n\\n\\n\\n\\n\\n\\n\\n\\n\\n\\n\\n\\n\\n\\n\\n\\n\\n\\n\\n\\n\\n\\n\\n\\n\\n\\n\\n\\n\\n\\n\\n\\n\\n\\n\\n\\n\\n\\n\\n\\n\\n\\n\\n\\n\\n\\n\\n\\n\\n\\n\\n\\n\\n\\n\\n\\n\\n\\n\\n\\n\\n\\n\\n\\n\\n\\n\\n\\n\\n\\n\\n\\n\\n\\n\\n\\n\\n\\n\\n\\n\\n\\n\\n\\n\\n\\n\\n\\n\\n\\n\\n\\n\\n\\n\\n\\n\\n\\n\\n\\n\\n\\n\\n\\n\\n\\n\\n\\n\\n\\n\\n\\n\\n\\n\\n\\n\\n\\n\\n\\n\\n\\n\\n\\n\\n\\n\\n\\n\\n\\n\\n\\n\\n\\n\\n\\n\\n\\n\\n\\n\\n\\n\\n\\n\\n\\n\\n\\n\\n\\n\\n\\n\\n\\n\\n\\n\\n\\n\\n\\n\\n\\n\\n\\n\\n\\n\\n\\n\\n\\n\\n\\n\\n\\n\\n\\n\\n\\n\\n\\n\\n\\n\\n\\n\\n\\n\\n\\n\\n\\n\\n\\n\\n\\n\\n\\n\\n\\n\\n\\n\\n\\n\\n\\n\\n\\n\\n\\n\\n\\n\\n\\n\\n\\n\\n\\n\\n\\n\\n\\n\\n\\n\\n\\n\\n\\n\\n\\n\\n\\n\\n\\n\\n\\n\\n\\n\\n\\n\\n\\n\\n\\n\\n\\n\\n\\n\\n\\n\\n\\n\\n\\n\\n\\n\\n\\n\\n\\n\\n\\n\\n\\n\\n\\n\\n\\n\\n\\n\\n\\n\\n\\n\\n\\n\\n\\n\\n\\n\\n\\n\\n\\n\\n\\n\\n\\n\\n\\n\\n\\n\\n\\n\\n\\n\\n\\n\\n\\n\\n\\n\\n\\n\\n\\n\\n\\n\\n\\n\\n\\n\\n\\n\\n\\n\\n\\n\\n\\n\\n\\n\\n\\n\\n\\n\\n\\n\\n\\n\\n\\n\\n\\n\\n\\n\\n\\n\\n\\n\\n\\n\\n\\n\\n\\n\\n\\n\\n\\n\\n\\n\\n\\n\\n\\n\\n\\n\\n\\n\\n\\n\\n\\n\\n\\n\\n\\n\\n\\n\\n\\n\\n\\n\\n\\n\\n\\n\\n\\n\\n\\n\\n\\n\\n\\n\\n\\n\\n\\n\\n\\n\\n\\n\\n\\n\\n\\n\\n\\n\\n\\n\\n\\n\\n\\n\\n\\n\\n\\n\\n\\n\\n\\n\\n\\n\\n\\n\\n\\n\\n\\n\\n\\n\\n\\n\\n\\n\\n\\n\\n\\n\\n\\n\\n\\n\\n\\n\\n\\n\\n\\n\\n\\n\\n\\n\\n\\n\\n\\n\\n\\n\\n\\n\\n\\n\\n\\n\\n\\n\\n\\n\\n\\n\\n\\n\\n\\n\\n\\n\\n\\n\\n\\n\\n\\n\\n\\n\\n\\n\\n\\n\\n\\n\\n\\n\\n\\n\\n\\n\\n\\n\\n\\n\\n\\n\\n\\n\\n\\n\\n\\n\\n\\n\\n\\n\\n\\n\\n\\n\\n\\n\\n\\n\\n\\n\\n\\n\\n\\n\\n\\n\\n\\n\\n\\n\\n\\n\\n\\n\\n\\n\\n\\n\\n\\n\\n\\n\\n\\n\\n\\n\\n\\n\\n\\n\\n\\n\\n\\n\\n\\n\\n\\n\\n\\n\\n\\n\\n\\n\\n\\n\\n\\n\\n\\n\\n\\n\\n\\n\\n\\n\\n\\n\\n\\n\\n\\n\\n\\n\\n\\n\\n\\n\\n\\n\\n\\n\\n\\n\\n\\n\\n\\n\\n\\n\\n\\n\\n\\n\\n\\n\\n\\n\\n\\n\\n\\n\\n\\n\\n\\n\\n\\n\\n\\n\\n\\n\\n\\n\\n\\n\\n\\n\\n\\n\\n\\n\\n\\n\\n\\n\\n\\n\\n\\n\\n\\n\\n\\n\\n\\n\\n\\n\\n\\n\\n\\n\\n\\n\\n\\n\\n\\n\\n\\n\\n\\n\\n\\n\\n\\n\\n\\n\\n\\n\\n\\n\\n\\n\\n\\n\\n\\n\\n\\n\\n\\n\\n\\n\\n\\n\\n\\n\\n\\n\\n\\n\\n\\n\\n\\n\\n\\n\\n\\n\\n\\n\\n\\n\\n\\n\\n\\n\\n\\n\\n\\n\\n\\n\\n\\n\\n\\n\\n\\n\\n\\n\\n\\n\\n\\n\\n\\n\\n\\n\\n\\n\\n\\n\\n\\n\\n\\n\\n\\n\\n\\n\\n\\n\\n\\n\\n\\n\\n\\n\\n\\n\\n\\n\\n\\n\\n\\n\\n\\n\\n\\n\\n\\n\\n\\n\\n\\n\\n\\n\\n\\n\\n\\n\\n\\n\\n\\n\\n\\n\\n\\n\\n\\n\\n\\n\\n\\n\\n\\n\\n\\n\\n\\n\\n\\n\\n\\n\\n\\n\\n\\n\\n\\n\\n\\n\\n\\n\\n\\n\\n\\n\\n\\n\\n\\n\\n\\n\\n\\n\\n\\n\\n\\n\\n\\n\\n\\n\\n\\n\\n\\n\\n\\n\\n\\n\\n\\n\\n\\n\\n\\n\\n\\n\\n\\n\\n\\n\\n\\n\\n\\n\\n\\n\\n\\n\\n\\n\\n\\n\\n\\n\\n\\n\\n\\n\\n\\n\\n\\n\\n\\n\\n\\n\\n\\n\\n\\n\\n\\n\\n\\n\\n\\n\\n\\n\\n\\n\\n\\n\\n\\n\\n\\n\\n\\n\\n\\n\\n\\n\\n\\n\\n\\n\\n\\n\\n\\n\\n\\n\\n\\n\\n\\n\\n\\n\\n\\n\\n\\n\\n\\n\\n\\n\\n\\n\\n\\n\\n\\n\\n\\n\\n\\n\\n\\n\\n\\n\\n\\n\\n\\n\\n\\n\\n\\n\\n\\n\\n\\n\\n\\n\\n\\n\\n\\n\\n\\n\\n\\n\\n\\n\\n\\n\\n\\n\\n\\n\\n\\n\\n\\n\\n\\n\\n\\n\\n\\n\\n\\n\\n\\n\\n\\n\\n\\n\\n\\n\\n\\n\\n\\n\\n\\n\\n\\n\\n\\n\\n\\n\\n\\n\\n\\n\\n\\n\\n\\n\\n\\n\\n\\n\\n\\n\\n\\n\\n\\n\\n\\n\\n\\n\\n\\n\\n\\n\\n\\n\\n\\n\\n\\n\\n\\n\\n\\n\\n\\n\\n\\n\\n\\n\\n\\n\\n\\n\\n\\n\\n\\n\\n\\n\\n\\n\\n\\n\\n\\n\\n\\n\\n\\n\\n\\n\\n\\n\\n\\n\\n\\n\\n\\n\\n\\n\\n\\n\\n\\n\\n\\n\\n\\n\\n\\n\\n\\n\\n\\n\\n\\n\\n\\n\\n\\n\\n\\n\\n\\n\\n\\n\\n\\n\\n\\n\\n\\n\\n\\n\\n\\n\\n\\n\\n\\n\\n\\n\\n\\n\\n\\n\\n\\n\\n\\n\\n\\n\\n\\n\\n\\n\\n\\n\\n\\n\\n\\n\\n\\n\\n\\n\\n\\n\\n\\n\\n\\n\\n\\n\\n\\n\\n\\n\\n\\n\\n\\n\\n\\n\\n\\n\\n\\n\\n\\n\\n\\n\\n\\n\\n\\n\\n\\n\\n\\n\\n\\n\\n\\n\\n\\n\\n\\n\\n\\n\\n\\n\\n\\n\\n\\n\\n\\n\\n\\n\\n\\n\\n\\n\\n\\n\\n\\n\\n\\n\\n\\n\\n\\n\\n\\n\\n\\n\\n\\n\\n\\n\\n\\n\\n\\n\\n\\n\\n\\n\\n\\n\\n\\n\\n\\n\\n\\n\\n\\n\\n\\n\\n\\n\\n\\n\\n\\n\\n\\n\\n\\n\\n\\n\\n\\n\\n\\n\\n\\n\\n\\n\\n\\n\\n\\n\\n\\n\\n\\n\\n\\n\\n\\n\\n\\n\\n\\n\\n\\n\\n\\n\\n\\n\\n\\n\\n\\n\\n\\n\\n\\n\\n\\n\\n\\n\\n\\n\\n\\n\\n\\n\\n\\n\\n\\n\\n\\n\\n\\n\\n\\n\\n\\n\\n\\n\\n\\n\\n\\n\\n\\n\\n\\n\\n\\n\\n\\n\\n\\n\\n\\n\\n\\n\\n\\n\\n\\n\\n\\n\\n\\n\\n\\n\\n\\n\\n\\n\\n\\n\\n\\n\\n\\n\\n\\n\\n\\n\\n\\n\\n\\n\\n\\n\\n\\n\\n\\n\\n\\n\\n\\n\\n\\n\\n\\n\\n\\n\\n\\n\\n\\n\\n\\n\\n\\n\\n\\n\\n\\n\\n\\n\\n\\n\\n\\n\\n\\n\\n\\n\\n\\n\\n\\n\\n\\n\\n\\n\\n\\n\\n\\n\\n\\n\\n\\n\\n\\n\\n\\n\\n\\n\\n\\n\\n\\n\\n\\n\\n\\n\\n\\n\\n\\n\\n\\n\\n\\n\\n\\n\\n\\n\\n\\n\\n\\n\\n\\n\\n\\n\\n\\n\\n\\n\\n\\n\\n\\n\\n\\n\\n\\n\\n\\n\\n\\n\\n\\n\\n\\n\\n\\n\\n\\n\\n\\n\\n\\n\\n\\n\\n\\n\\n\\n\\n\\n\\n\\n\\n\\n\\n\\n\\n\\n\\n\\n\\n\\n\\n\\n\\n\\n\\n\\n\\n\\n\\n\\n\\n\\n\\n\\n\\n\\n\\n\\n\\n\\n\\n\\n\\n\\n\\n\\n\\n\\n\\n\\n\\n\\n\\n\\n\\n\\n\\n\\n\\n\\n\\n\\n\\n\\n\\n\\n\\n\\n\\n\\n\\n\\n\\n\\n\\n\\n\\n\\n\\n\\n\\n\\n\\n\\n\\n\\n\\n\\n\\n\\n\\n\\n\\n\\n\\n\\n\\n\\n\\n\\n\\n\\n\\n\\n\\n\\n\\n\\n\\n\\n\\n\\n\\n\\n\\n\\n\\n\\n\\n\\n\\n\\n\\n\\n\\n\\n\\n\\n\\n\\n\\n\\n\\n\\n\\n\\n\\n\\n\\n\\n\\n\\n\\n\\n\\n\\n\\n\\n\\n\\n\\n\\n\\n\\n\\n\\n\\n\\n\\n\\n\\n\\n\\n\\n\\n\\n\\n\\n\\n\\n\\n\\n\\n\\n\\n\\n\\n\\n\\n\\n\\n\\n\\n\\n\\n\\n\\n\\n\\n\\n\\n\\n\\n\\n\\n\\n\\n\\n\\n\\n\\n\\n\\n\\n\\n\\n\\n\\n\\n\\n\\n\\n\\n\\n\\n\\n\\n\\n\\n\\n\\n\\n\\n\\n\\n\\n\\n\\n\\n\\n\\n\\n\\n\\n\\n\\n\\n\\n\\n\\n\\n\\n\\n\\n\\n\\n\\n\\n\\n\\n\\n\\n\\n\\n\\n\\n\\n\\n\\n\\n\\n\\n\\n\\n\\n\\n\\n\\n\\n\\n\\n\\n\\n\\n\\n\\n\\n\\n\\n\\n\\n\\n\\n\\n\\n\\n\\n\\n\\n\\n\\n\\n\\n\\n\\n\\n\\n\\n\\n\\n\\n\\n\\n\\n\\n\\n\\n\\n\\n\\n\\n\\n\\n\\n\\n\\n\\n\\n\\n\\n\\n\\n\\n\\n\\n\\n\\n\\n\\n\\n\\n\\n\\n\\n\\n\\n\\n\\n\\n\\n\\n\\n\\n\\n\\n\\n\\n\\n\\n\\n\\n\\n\\n\\n\\n\\n\\n\\n\\n\\n\\n\\n\\n\\n\\n\\n\\n\\n\\n\\n\\n\\n\\n\\n\\n\\n\\n\\n\\n\\n\\n\\n\\n\\n\\n\\n\\n\\n\\n\\n\\n\\n\\n\\n\\n\\n\\n\\n\\n\\n\\n\\n\\n\\n\\n\\n\\n\\n\\n\\n\\n\\n\\n\\n\\n\\n\\n\\n\\n\\n\\n\\n\\n\\n\\n\\n\\n\\n\\n\\n\\n\\n\\n\\n\\n\\n\\n\\n\\n\\n\\n\\n\\n\\n\\n\\n\\n\\n\\n\\n\\n\\n\\n\\n\\n\\n\\n\\n\\n\\n\\n\\n\\n\\n\\n\\n\\n\\n\\n\\n\\n\\n\\n\\n\\n\\n\\n\\n\\n\\n\\n\\n\\n\\n\\n\\n\\n\\n\\n\\n\\n\\n\\n\\n\\n\\n\\n\\n\\n\\n\\n\\n\\n\\n\\n\\n\\n\\n\\n\\n\\n\\n\\n\\n\\n\\n\\n\\n\\n\\n\\n\\n\\n\\n\\n\\n\\n\\n\\n\\n\\n\\n\\n\\n\\n\\n\\n\\n\\n\\n\\n\\n\\n\\n\\n\\n\\n\\n\\n\\n\\n\\n\\n\\n\\n\\n\\n\\n\\n\\n\\n\\n\\n\\n\\n\\n\\n\\n\\n\\n\\n\\n\\n\\n\\n\\n\\n\\n\\n\\n\\n\\n\\n\\n\\n\\n\\n\\n\\n\\n\\n\\n\\n\\n\\n\\n\\n\\n\\n\\n\\n\\n\\n\\n\\n\\n\\n\\n\\n\\n\\n\\n\\n\\n\\n\\n\\n\\n\\n\\n\\n\\n\\n\\n\\n\\n\\n\\n\\n\\n\\n\\n\\n\\n\\n\\n\\n\\n\\n\\n\\n\\n\\n\\n\\n\\n\\n\\n\\n\\n\\n\\n\\n\\n\\n\\n\\n\\n\\n\\n\\n\\n\\n\\n\\n\\n\\n\\n\\n\\n\\n\\n\\n\\n\\n\\n\\n\\n\\n\\n\\n\\n\\n\\n\\n\\n\\n\\n\\n\\n\\n\\n\\n\\n\\n\\n\\n\\n\\n\\n\\n\\n\\n\\n\\n\\n\\n\\n\\n\\n\\n\\n\\n\\n\\n\\n\\n\\n\\n\\n\\n\\n\\n\\n\\n\\n\\n\\n\\n\\n\\n\\n\\n\\n\\n\\n\\n\\n\\n\\n\\n\\n\\n\\n\\n\\n\\n\\n\\n\\n\\n\\n\\n\\n\\n\\n\\n\\n\\n\\n\\n\\n\\n\\n\\n\\n\\n\\n\\n\\n\\n\\n\\n\\n\\n\\n\\n\\n\\n\\n\\n\\n\\n\\n\\n\\n\\n\\n\\n\\n\\n\\n\\n\\n\\n\\n\\n\\n\\n\\n\\n\\n\\n\\n\\n\\n\\n\\n\\n\\n\\n\\n\\n\\n\\n\\n\\n\\n\\n\\n\\n\\n\\n\\n\\n\\n\\n\\n\\n\\n\\n\\n\\n\\n\\n\\n\\n\\n\\n\\n\\n\\n\\n\\n\\n\\n\\n\\n\\n\\n\\n\\n\\n\\n\\n\\n\\n\\n\\n\\n\\n\\n\\n\\n\\n\\n\\n\\n\\n\\n\\n\\n\\n\\n\\n\\n\\n\\n\\n\\n\\n\\n\\n\\n\\n\\n\\n\\n\\n\\n\\n\\n\\n\\n\\n\\n\\n\\n\\n\\n\\n\\n\\n\\n\\n\\n\\n\\n\\n\\n\\n\\n\\n\\n\\n\\n\\n\\n\\n\\n\\n\\n\\n\\n\\n\\n\\n\\n\\n\\n\\n\\n\\n\\n\\n\\n\\n\\n\\n\\n\\n\\n\\n\\n\\n\\n\\n\\n\\n\\n\\n\\n\\n\\n\\n\\n\\n\\n\\n\\n\\n\\n\\n\\n\\n\\n\\n\\n\\n\\n\\n\\n\\n\\n\\n\\n\\n\\n\\n\\n\\n\\n\\n\\n\\n\\n\\n\\n\\n\\n\\n\\n\\n\\n\\n\\n\\n\\n\\n\\n\\n\\n\\n\\n\\n\\n\\n\\n\\n\\n\\n\\n\\n\\n\\n\\n\\n\\n\\n\\n\\n\\n\\n\\n\\n\\n\\n\\n\\n\\n\\n\\n\\n\\n\\n\\n\\n\\n\\n\\n\\n\\n\\n\\n\\n\\n\\n\\n\\n\\n\\n\\n\\n\\n\\n\\n\\n\\n\\n\\n\\n\\n\\n\\n\\n\\n\\n\\n\\n\\n\\n\\n\\n\\n\\n\\n\\n\\n\\n\\n\\n\\n\\n\\n\\n\\n\\n\\n\\n\\n\\n\\n\\n\\n\\n\\n\\n\\n\\n\\n\\n\\n\\n\\n\\n\\n\\n\\n\\n\\n\\n\\n\\n\\n\\n\\n\\n\\n\\n\\n\\n\\n\\n\\n\\n\\n\\n\\n\\n\\n\\n\\n\\n\\n\\n\\n\\n\\n\\n\\n\\n\\n\\n\\n\\n\\n\\n\\n\\n\\n\\n\\n\\n\\n\\n\\n\\n\\n\\n\\n\\n\\n\\n\\n\\n\\n\\n\\n\\n\\n\\n\\n\\n\\n\\n\\n\\n\\n\\n\\n\\n\\n\\n\\n\\n\\n\\n\\n\\n\\n\\n\\n\\n\\n\\n\\n\\n\\n\\n\\n\\n\\n\\n\\n\\n\\n\\n\\n\\n\\n\\n\\n\\n\\n\\n\\n\\n\\n\\n\\n\\n\\n\\n\\n\\n\\n\\n\\n\\n\\n\\n\\n\\n\\n\\n\\n\\n\\n\\n\\n\\n\\n\\n\\n\\n\\n\\n\\n\\n\\n\\n\\n\\n\\n\\n\\n\\n\\n\\n\\n\\n\\n\\n\\n\\n\\n\\n\\n\\n\\n\\n\\n\\n\\n\\n\\n\\n\\n\\n\\n\\n\\n\\n\\n\\n\\n\\n\\n\\n\\n\\n\\n\\n\\n\\n\\n\\n\\n\\n\\n\\n\\n\\n\\n\\n\\n\\n\\n\\n\\n\\n\\n\\n\\n\\n\\n\\n\\n\\n\\n\\n\\n\\n\\n\\n\\n\\n\\n\\n\\n\\n\\n\\n\\n\\n\\n\\n\\n\\n\\n\\n\\n\\n\\n\\n\\n\\n\\n\\n\\n\\n\\n\\n\\n\\n\\n\\n\\n\\n\\n\\n\\n\\n\\n\\n\\n\\n\\n\\n\\n\\n\\n\\n\\n\\n\\n\\n\\n\\n\\n\\n\\n\\n\\n\\n\\n\\n\\n\\n\\n\\n\\n\\n\\n\\n\\n\\n\\n\\n\\n\\n\\n\\n\\n\\n\\n\\n\\n\\n\\n\\n\\n\\n\\n\\n\\n\\n\\n\\n\\n\\n\\n\\n\\n\\n\\n\\n\\n\\n\\n\\n\\n\\n\\n\\n\\n\\n\\n\\n\\n\\n\\n\\n\\n\\n\\n\\n\\n\\n\\n\\n\\n\\n\\n\\n\\n\\n\\n\\n\\n\\n\\n\\n\\n\\n\\n\\n\\n\\n\\n\\n\\n\\n\\n\\n\\n\\n\\n\\n\\n\\n\\n\\n\\n\\n\\n\\n\\n\\n\\n\\n\\n\\n\\n\\n\\n\\n\\n\\n\\n\\n\\n\\n\\n\\n\\n\\n\\n\\n\\n\\n\\n\\n\\n\\n\\n\\n\\n\\n\\n\\n\\n\\n\\n\\n\\n\\n\\n\\n\\n\\n\\n\\n\\n\\n\\n\\n\\n\\n\\n\\n\\n\\n\\n\\n\\n\\n\\n\\n\\n\\n\\n\\n\\n\\n\\n\\n\\n\\n\\n\\n\\n\\n\\n\\n\\n\\n\\n\\n\\n\\n\\n\\n\\n\\n\\n\\n\\n\\n\\n\\n\\n\\n\\n\\n\\n\\n\\n\\n\\n\\n\\n\\n\\n\\n\\n\\n\\n\\n\\n\\n\\n\\n\\n\\n\\n\\n\\n\\n\\n\\n\\n\\n\\n\\n\\n\\n\\n\\n\\n\\n\\n\\n\\n\\n\\n\\n\\n\\n\\n\\n\\n\\n\\n\\n\\n\\n\\n\\n\\n\\n\\n\\n\\n\\n\\n\\n\\n\\n\\n\\n\\n\\n\\n\\n\\n\\n\\n\\n\\n\\n\\n\\n\\n\\n\\n\\n\\n\\n\\n\\n\\n\\n\\n\\n\\n\\n\\n\\n\\n\\n\\n\\n\\n\\n\\n\\n\\n\\n\\n\\n\\n\\n\\n\\n\\n\\n\\n\\n\\n\\n\\n\\n\\n\\n\\n\\n\\n\\n\\n\\n\\n\\n\\n\\n\\n\\n\\n\\n\\n\\n\\n\\n\\n\\n\\n\\n\\n\\n\\n\\n\\n\\n\\n\\n\\n\\n\\n\\n\\n\\n\\n\\n\\n\\n\\n\\n\\n\\n\\n\\n\\n\\n\\n\\n\\n\\n\\n\\n\\n\\n\\n\\n\\n\\n\\n\\n\\n\\n\\n\\n\\n\\n\\n\\n\\n\\n\\n\\n\\n\\n\\n\\n\\n\\n\\n\\n\\n\\n\\n\\n\\n\\n\\n\\n\\n\\n\\n\\n\\n\\n\\n\\n\\n\\n\\n\\n\\n\\n\\n\\n\\n\\n\\n\\n\\n\\n\\n\\n\\n\\n\\n\\n\\n\\n\\n\\n\\n\\n\\n\\n\\n\\n\\n\\n\\n\\n\\n\\n\\n\\n\\n\\n\\n\\n\\n\\n\\n\\n\\n\\n\\n\\n\\n\\n\\n\\n\\n\\n\\n\\n\\n\\n\\n\\n\\n\\n\\n\\n\\n\\n\\n\\n\\n\\n\\n\\n\\n\\n\\n\\n\\n\\n\\n\\n\\n\\n\\n\\n\\n\\n\\n\\n\\n\\n\\n\\n\\n\\n\\n\\n\\n\\n\\n\\n\\n\\n\\n\\n\\n\\n\\n\\n\\n\\n\\n\\n\\n\\n\\n\\n\\n\\n\\n\\n\\n\\n\\n\\n\\n\\n\\n\\n\\n\\n\\n\\n\\n\\n\\n\\n\\n\\n\\n\\n\\n\\n\\n\\n\\n\\n\\n\\n\\n\\n\\n\\n\\n\\n\\n\\n\\n\\n\\n\\n\\n\\n\\n\\n\\n\\n\\n\\n\\n\\n\\n\\n\\n\\n\\n\\n\\n\\n\\n\\n\\n\\n\\n\\n\\n\\n\\n\\n\\n\\n\\n\\n\\n\\n\\n\\n\\n\\n\\n\\n\\n\\n\\n\\n\\n\\n\\n\\n\\n\\n\\n\\n\\n\\n\\n\\n\\n\\n\\n\\n\\n\\n\\n\\n\\n\\n\\n\\n\\n\\n\\n\\n\\n\\n\\n\\n\\n\\n\\n\\n\\n\\n\\n\\n\\n\\n\\n\\n\\n\\n\\n\\n\\n\\n\\n\\n\\n\\n\\n\\n\\n\\n\\n\\n\\n\\n\\n\\n\\n\\n\\n\\n\\n\\n\\n\\n\\n\\n\\n\\n\\n\\n\\n\\n\\n\\n\\n\\n\\n\\n\\n\\n\\n\\n\\n\\n\\n\\n\\n\\n\\n\\n\\n\\n\\n\\n\\n\\n\\n\\n\\n\\n\\n\\n\\n\\n\\n\\n\\n\\n\\n\\n\\n\\n\\n\\n\\n\\n\\n\\n\\n\\n\\n\\n\\n\\n\\n\\n\\n\\n\\n\\n\\n\\n\\n\\n\\n\\n\\n\\n\\n\\n\\n\\n\\n\\n\\n\\n\\n\\n\\n\\n\\n\\n\\n\\n\\n\\n\\n\\n\\n\\n\\n\\n\\n\\n\\n\\n\\n\\n\\n\\n\\n\\n\\n\\n\\n\\n\\n\\n\\n\\n\\n\\n\\n\\n\\n\\n\\n\\n\\n\\n\\n\\n\\n\\n\\n\\n\\n\\n\\n\\n\\n\\n\\n\\n\\n\\n\\n\\n\\n\\n\\n\\n\\n\\n\\n\\n\\n\\n\\n\\n\\n\\n\\n\\n\\n\\n\\n\\n\\n\\n\\n\\n\\n\\n\\n\\n\\n\\n\\n\\n\\n\\n\\n\\n\\n\\n\\n\\n\\n\\n\\n\\n\\n\\n\\n\\n\\n\\n\\n\\n\\n\\n\\n\\n\\n\\n\\n\\n\\n\\n\\n\\n\\n\\n\\n\\n\\n\\n\\n\\n\\n\\n\\n\\n\\n\\n\\n\\n\\n\\n\\n\\n\\n\\n\\n\\n\\n\\n\\n\\n\\n\\n\\n\\n\\n\\n\\n\\n\\n\\n\\n\\n\\n\\n\\n\\n\\n\\n\\n\\n\\n\\n\\n\\n\\n\\n\\n\\n\\n\\n\\n\\n\\n\\n\\n\\n\\n\\n\\n\\n\\n\\n\\n\\n\\n\\n\\n\\n\\n\\n\\n\\n\\n\\n\\n\\n\\n\\n\\n\\n\\n\\n\\n\\n\\n\\n\\n\\n\\n\\n\\n\\n\\n\\n\\n\\n\\n\\n\\n\\n\\n\\n\\n\\n\\n\\n\\n\\n\\n\\n\\n\\n\\n\\n\\n\\n\\n\\n\\n\\n\\n\\n\\n\\n\\n\\n\\n\\n\\n\\n\\n\\n\\n\\n\\n\\n\\n\\n\\n\\n\\n\\n\\n\\n\\n\\n\\n\\n\\n\\n\\n\\n\\n\\n\\n\\n\\n\\n\\n\\n\\n\\n\\n\\n\\n\\n\\n\\n\\n\\n\\n\\n\\n\\n\\n\\n\\n\\n\\n\\n\\n\\n\\n\\n\\n\\n\\n\\n\\n\\n\\n\\n\\n\\n\\n\\n\\n\\n\\n\\n\\n\\n\\n\\n\\n\\n\\n\\n\\n\\n\\n\\n\\n\\n\\n\\n\\n\\n\\n\\n\\n\\n\\n\\n\\n\\n\\n\\n\\n\\n\\n\\n\\n\\n\\n\\n\\n\\n\\n\\n\\n\\n\\n\\n\\n\\n\\n\\n\\n\\n\\n\\n\\n\\n\\n\\n\\n\\n\\n\\n\\n\\n\\n\\n\\n\\n\\n\\n\\n\\n\\n\\n\\n\\n\\n\\n\\n\\n\\n\\n\\n\\n\\n\\n\\n\\n\\n\\n\\n\\n\\n\\n\\n\\n\\n\\n\\n\\n\\n\\n\\n\\n\\n\\n\\n\\n\\n\\n\\n\\n\\n\\n\\n\\n\\n\\n\\n\\n\\n\\n\\n\\n\\n\\n\\n\\n\\n\\n\\n\\n\\n\\n\\n\\n\\n\\n\\n\\n\\n\\n\\n\\n\\n\\n\\n\\n\\n\\n\\n\\n\\n\\n\\n\\n\\n\\n\\n\\n\\n\\n\\n\\n\\n\\n\\n\\n\\n\\n\\n\\n\\n\\n\\n\\n\\n\\n\\n\\n\\n\\n\\n\\n\\n\\n\\n\\n\\n\\n\\n\\n\\n\\n\\n\\n\\n\\n\\n\\n\\n\\n\\n\\n\\n\\n\\n\\n\\n\\n\\n\\n\\n\\n\\n\\n\\n\\n\\n\\n\\n\\n\\n\\n\\n\\n\\n\\n\\n\\n\\n\\n\\n\\n\\n\\n\\n\\n\\n\\n\\n\\n\\n\\n\\n\\n\\n\\n\\n\\n\\n\\n\\n\\n\\n\\n\\n\\n\\n\\n\\n\\n\\n\\n\\n\\n\\n\\n\\n\\n\\n\\n\\n\\n\\n\\n\\n\\n\\n\\n\\n\\n\\n\\n\\n\\n\\n\\n\\n\\n\\n\\n\\n\\n\\n\\n\\n\\n\\n\\n\\n\\n\\n\\n\\n\\n\\n\\n\\n\\n\\n\\n\\n\\n\\n\\n\\n\\n\\n\\n\\n\\n\\n\\n\\n\\n\\n\\n\\n\\n\\n\\n\\n\\n\\n\\n\\n\\n\\n\\n\\n\\n\\n\\n\\n\\n\\n\\n\\n\\n\\n\\n\\n\\n\\n\\n\\n\\n\\n\\n\\n\\n\\n\\n\\n\\n\\n\\n\\n\\n\\n\\n\\n\\n\\n\\n\\n\\n\\n\\n\\n\\n\\n\\n\\n\\n\\n\\n\\n\\n\\n\\n\\n\\n\\n\\n\\n\\n\\n\\n\\n\\n\\n\\n\\n\\n\\n\\n\\n\\n\\n\\n\\n\\n\\n\\n\\n\\n\\n\\n\\n\\n\\n\\n\\n\\n\\n\\n\\n\\n\\n\\n\\n\\n\\n\\n\\n\\n\\n\\n\\n\\n\\n\\n\\n\\n\\n\\n\\n\\n\\n\\n\\n\\n\\n\\n\\n\\n\\n\\n\\n\\n\\n\\n\\n\\n\\n\\n\\n\\n\\n\\n\\n\\n\\n\\n\\n\\n\\n\\n\\n\\n\\n\\n\\n\\n\\n\\n\\n\\n\\n\\n\\n\\n\\n\\n\\n\\n\\n\\n\\n\\n\\n\\n\\n\\n\\n\\n\\n\\n\\n\\n\\n\\n\\n\\n\\n\\n\\n\\n\\n\\n\\n\\n\\n\\n\\n\\n\\n\\n\\n\\n\\n\\n\\n\\n\\n\\n\\n\\n\\n\\n\\n\\n\\n\\n\\n\\n\\n\\n\\n\\n\\n\\n\\n\\n\\n\\n\\n\\n\\n\\n\\n\\n\\n\\n\\n\\n\\n\\n\\n\\n\\n\\n\\n\\n\\n\\n\\n\\n\\n\\n\\n\\n\\n\\n\\n\\n\\n\\n\\n\\n\\n\\n\\n\\n\\n\\n\\n\\n\\n\\n\\n\\n\\n\\n\\n\\n\\n\\n\\n\\n\\n\\n\\n\\n\\n\\n\\n\\n\\n\\n\\n\\n\\n\\n\\n\\n\\n\\n\\n\\n\\n\\n\\n\\n\\n\\n\\n\\n\\n\\n\\n\\n\\n\\n\\n\\n\\n\\n\\n\\n\\n\\n\\n\\n\\n\\n\\n\\n\\n\\n\\n\\n\\n\\n\\n\\n\\n\\n\\n\\n\\n\\n\\n\\n\\n\\n\\n\\n\\n\\n\\n\\n\\n\\n\\n\\n\\n\\n\\n\\n\\n\\n\\n\\n\\n\\n\\n\\n\\n\\n\\n\\n\\n\\n\\n\\n\\n\\n\\n\\n\\n\\n\\n\\n\\n\\n\\n\\n\\n\\n\\n\\n\\n\\n\\n\\n\\n\\n\\n\\n\\n\\n\\n\\n\\n\\n\\n\\n\\n\\n\\n\\n\\n\\n\\n\\n\\n\\n\\n\\n\\n\\n\\n\\n\\n\\n\\n\\n\\n\\n\\n\\n\\n\\n\\n\\n\\n\\n\\n\\n\\n\\n\\n\\n\\n\\n\\n\\n\\n\\n\\n\\n\\n\\n\\n\\n\\n\\n\\n\\n\\n\\n\\n\\n\\n\\n\\n\\n\\n\\n\\n\\n\\n\\n\\n\\n\\n\\n\\n\\n\\n\\n\\n\\n\\n\\n\\n\\n\\n\\n\\n\\n\\n\\n\\n\\n\\n\\n\\n\\n\\n\\n\\n\\n\\n\\n\\n\\n\\n\\n\\n\\n\\n\\n\\n\\n\\n\\n\\n\\n\\n\\n\\n\\n\\n\\n\\n\\n\\n\\n\\n\\n\\n\\n\\n\\n\\n\\n\\n\\n\\n\\n\\n\\n\\n\\n\\n\\n\\n\\n\\n\\n\\n\\n\\n\\n\\n\\n\\n\\n\\n\\n\\n\\n\\n\\n\\n\\n\\n\\n\\n\\n\\n\\n\\n\\n\\n\\n\\n\\n\\n\\n\\n\\n\\n\\n\\n\\n\\n\\n\\n\\n\\n\\n\\n\\n\\n\\n\\n\\n\\n\\n\\n\\n\\n\\n\\n\\n\\n\\n\\n\\n\\n\\n\\n\\n\\n\\n\\n\\n\\n\\n\\n\\n\\n\\n\\n\\n\\n\\n\\n\\n\\n\\n\\n\\n\\n\\n\\n\\n\\n\\n\\n\\n\\n\\n\\n\\n\\n\\n\\n\\n\\n\\n\\n\\n\\n\\n\\n\\n\\n\\n\\n\\n\\n\\n\\n\\n\\n\\n\\n\\n\\n\\n\\n\\n\\n\\n\\n\\n\\n\\n\\n\\n\\n\\n\\n\\n\\n\\n\\n\\n\\n\\n\\n\\n\\n\\n\\n\\n\\n\\n\\n\\n\\n\\n\\n\\n\\n\\n\\n\\n\\n\\n\\n\\n\\n\\n\\n\\n\\n\\n\\n\\n\\n\\n\\n\\n\\n\\n\\n\\n\\n\\n\\n\\n\\n\\n\\n\\n\\n\\n\\n\\n\\n\\n\\n\\n\\n\\n\\n\\n\\n\\n\\n\\n\\n\\n\\n\\n\\n\\n\\n\\n\\n\\n\\n\\n\\n\\n\\n\\n\\n\\n\\n\\n\\n\\n\\n\\n\\n\\n\\n\\n\\n\\n\\n\\n\\n\\n\\n\\n\\n\\n\\n\\n\\n\\n\\n\\n\\n\\n\\n\\n\\n\\n\\n\\n\\n\\n\\n\\n\\n\\n\\n\\n\\n\\n\\n\\n\\n\\n\\n\\n\\n\\n\\n\\n\\n\\n\\n\\n\\n\\n\\n\\n\\n\\n\\n\\n\\n\\n\\n\\n\\n\\n\\n\\n\\n\\n\\n\\n\\n\\n\\n\\n\\n\\n\\n\\n\\n\\n\\n\\n\\n\\n\\n\\n\\n\\n\\n\\n\\n\\n\\n\\n\\n\\n\\n\\n\\n\\n\\n\\n\\n\\n\\n\\n\\n\\n\\n\\n\\n\\n\\n\\n\\n\\n\\n\\n\\n\\n\\n\\n\\n\\n\\n\\n\\n\\n\\n\\n\\n\\n\\n\\n\\n\\n\\n\\n\\n\\n\\n\\n\\n\\n\\n\\n\\n\\n\\n\\n\\n\\n\\n\\n\\n\\n\\n\\n\\n\\n\\n\\n\\n\\n\\n\\n\\n\\n\\n\\n\\n\\n\\n\\n\\n\\n\\n\\n\\n\\n\\n\\n\\n\\n\\n\\n\\n\\n\\n\\n\\n\\n\\n\\n\\n\\n\\n\\n\\n\\n\\n\\n\\n\\n\\n\\n\\n\\n\\n\\n\\n\\n\\n\\n\\n\\n\\n\\n\\n\\n\\n\\n\\n\\n\\n\\n\\n\\n\\n\\n\\n\\n\\n\\n\\n\\n\\n\\n\\n\\n\\n\\n\\n\\n\\n\\n\\n\\n\\n\\n\\n\\n\\n\\n\\n\\n\\n\\n\\n\\n\\n\\n\\n\\n\\n\\n\\n\\n\\n\\n\\n\\n\\n\\n\\n\\n\\n\\n\\n\\n\\n\\n\\n\\n\\n\\n\\n\\n\\n\\n\\n\\n\\n\\n\\n\\n\\n\\n\\n\\n\\n\\n\\n\\n\\n\\n\\n\\n\\n\\n\\n\\n\\n\\n\\n\\n\\n\\n\\n\\n\\n\\n\\n\\n\\n\\n\\n\\n\\n\\n\\n\\n\\n\\n\\n\\n\\n\\n\\n\\n\\n\\n\\n\\n\\n\\n\\n\\n\\n\\n\\n\\n\\n\\n\\n\\n\\n\\n\\n\\n\\n\\n\\n\\n\\n\\n\\n\\n\\n\\n\\n\\n\\n\\n\\n\\n\\n\\n\\n\\n\\n\\n\\n\\n\\n\\n\\n\\n\\n\\n\\n\\n\\n\\n\\n\\n\\n\\n\\n\\n\\n\\n\\n\\n\\n\\n\\n\\n\\n\\n\\n\\n\\n\\n\\n\\n\\n\\n\\n\\n\\n\\n\\n\\n\\n\\n\\n\\n\\n\\n\\n\\n\\n\\n\\n\\n\\n\\n\\n\\n\\n\\n\\n\\n\\n\\n\\n\\n\\n\\n\\n\\n\\n\\n\\n\\n\\n\\n\\n\\n\\n\\n\\n\\n\\n\\n\\n\\n\\n\\n\\n\\n\\n\\n\\n\\n\\n\\n\\n\\n\\n\\n\\n\\n\\n\\n\\n\\n\\n\\n\\n\\n\\n\\n\\n\\n\\n\\n\\n\\n\\n\\n\\n\\n\\n\\n\\n\\n\\n\\n\\n\\n\\n\\n\\n\\n\\n\\n\\n\\n\\n\\n\\n\\n\\n\\n\\n\\n\\n\\n\\n\\n\\n\\n\\n\\n\\n\\n\\n\\n\\n\\n\\n\\n\\n\\n\\n\\n\\n\\n\\n\\n\\n\\n\\n\\n\\n\\n\\n\\n\\n\\n\\n\\n\\n\\n\\n\\n\\n\\n\\n\\n\\n\\n\\n\\n\\n\\n\\n\\n\\n\\n\\n\\n\\n\\n\\n\\n\\n\\n\\n\\n\\n\\n\\n\\n\\n\\n\\n\\n\\n\\n\\n\\n\\n\\n\\n\\n\\n\\n\\n\\n\\n\\n\\n\\n\\n\\n\\n\\n\\n\\n\\n\\n\\n\\n\\n\\n\\n\\n\\n\\n\\n\\n\\n\\n\\n\\n\\n\\n\\n\\n\\n\\n\\n\\n\\n\\n\\n\\n\\n\\n\\n\\n\\n\\n\\n\\n\\n\\n\\n\\n\\n\\n\\n\\n\\n\\n\\n\\n\\n\\n\\n\\n\\n\\n\\n\\n\\n\\n\\n\\n\\n\\n\\n\\n\\n\\n\\n\\n\\n\\n\\n\\n\\n\\n\\n\\n\\n\\n\\n\\n\\n\\n\\n\\n\\n\\n\\n\\n\\n\\n\\n\\n\\n\\n\\n\\n\\n\\n\\n\\n\\n\\n\\n\\n\\n\\n\\n\\n\\n\\n\\n\\n\\n\\n\\n\\n\\n\\n\\n\\n\\n\\n\\n\\n\\n\\n\\n\\n\\n\\n\\n\\n\\n\\n\\n\\n\\n\\n\\n\\n\\n\\n\\n\\n\\n\\n\\n\\n\\n\\n\\n\\n\\n\\n\\n\\n\\n\\n\\n\\n\\n\\n\\n\\n\\n\\n\\n\\n\\n\\n\\n\\n\\n\\n\\n\\n\\n\\n\\n\\n\\n\\n\\n\\n\\n\\n\\n\\n\\n\\n\\n\\n\\n\\n\\n\\n\\n\\n\\n\\n\\n\\n\\n\\n\\n\\n\\n\\n\\n\\n\\n\\n\\n\\n\\n\\n\\n\\n\\n\\n\\n\\n\\n\\n\\n\\n\\n\\n\\n\\n\\n\\n\\n\\n\\n\\n\\n\\n\\n\\n\\n\\n\\n\\n\\n\\n\\n\\n\\n\\n\\n\\n\\n\\n\\n\\n\\n\\n\\n\\n\\n\\n\\n\\n\\n\\n\\n\\n\\n\\n\\n\\n\\n\\n\\n\\n\\n\\n\\n\\n\\n\\n\\n\\n\\n\\n\\n\\n\\n\\n\\n\\n\\n\\n\\n\\n\\n\\n\\n\\n\\n\\n\\n\\n\\n\\n\\n\\n\\n\\n\\n\\n\\n\\n\\n\\n\\n\\n\\n\\n\\n\\n\\n\\n\\n\\n\\n\\n\\n\\n\\n\\n\\n\\n\\n\\n\\n\\n\\n\\n\\n\\n\\n\\n\\n\\n\\n\\n\\n\\n\\n\\n\\n\\n\\n\\n\\n\\n\\n\\n\\n\\n\\n\\n\\n\\n\\n\\n\\n\\n\\n\\n\\n\\n\\n\\n\\n\\n\\n\\n\\n\\n\\n\\n\\n\\n\\n\\n\\n\\n\\n\\n\\n\\n\\n\\n\\n\\n\\n\\n\\n\\n\\n\\n\\n\\n\\n\\n\\n\\n\\n\\n\\n\\n\\n\\n\\n\\n\\n\\n\\n\\n\\n\\n\\n\\n\\n\\n\\n\\n\\n\\n\\n\\n\\n\\n\\n\\n\\n\\n\\n\\n\\n\\n\\n\\n\\n\\n\\n\\n\\n\\n\\n\\n\\n\\n\\n\\n\\n\\n\\n\\n\\n\\n\\n\\n\\n\\n\\n\\n\\n\\n\\n\\n\\n\\n\\n\\n\\n\\n\\n\\n\\n\\n\\n\\n\\n\\n\\n\\n\\n\\n\\n\\n\\n\\n\\n\\n\\n\\n\\n\\n\\n\\n\\n\\n\\n\\n\\n\\n\\n\\n\\n\\n\\n\\n\\n\\n\\n\\n\\n\\n\\n\\n\\n\\n\\n\\n\\n\\n\\n\\n\\n\\n\\n\\n\\n\\n\\n\\n\\n\\n\\n\\n\\n\\n\\n\\n\\n\\n\\n\\n\\n\\n\\n\\n\\n\\n\\n\\n\\n\\n\\n\\n\\n\\n\\n\\n\\n\\n\\n\\n\\n\\n\\n\\n\\n\\n\\n\\n\\n\\n\\n\\n\\n\\n\\n\\n\\n\\n\\n\\n\\n\\n\\n\\n\\n\\n\\n\\n\\n\\n\\n\\n\\n\\n\\n\\n\\n\\n\\n\\n\\n\\n\\n\\n\\n\\n\\n\\n\\n\\n\\n\\n\\n\\n\\n\\n\\n\\n\\n\\n\\n\\n\\n\\n\\n\\n\\n\\n\\n\\n\\n\\n\\n\\n\\n\\n\\n\\n\\n\\n\\n\\n\\n\\n\\n\\n\\n\\n\\n\\n\\n\\n\\n\\n\\n\\n\\n\\n\\n\\n\\n\\n\\n\\n\\n\\n\\n\\n\\n\\n\\n\\n\\n\\n\\n\\n\\n\\n\\n\\n\\n\\n\\n\\n\\n\\n\\n\\n\\n\\n\\n\\n\\n\\n\\n\\n\\n\\n\\n\\n\\n\\n\\n\\n\\n\\n\\n\\n\\n\\n\\n\\n\\n\\n\\n\\n\\n\\n\\n\\n\\n\\n\\n\\n\\n\\n\\n\\n\\n\\n\\n\\n\\n\\n\\n\\n\\n\\n\\n\\n\\n\\n\\n\\n\\n\\n\\n\\n\\n\\n\\n\\n\\n\\n\\n\\n\\n\\n\\n\\n\\n\\n\\n\\n\\n\\n\\n\\n\\n\\n\\n\\n\\n\\n\\n\\n\\n\\n\\n\\n\\n\\n\\n\\n\\n\\n\\n\\n\\n\\n\\n\\n\\n\\n\\n\\n\\n\\n\\n\\n\\n\\n\\n\\n\\n\\n\\n\\n\\n\\n\\n\\n\\n\\n\\n\\n\\n\\n\\n\\n\\n\\n\\n\\n\\n\\n\\n\\n\\n\\n\\n\\n\\n\\n\\n\\n\\n\\n\\n\\n\\n\\n\\n\\n\\n\\n\\n\\n\\n\\n\\n\\n\\n\\n\\n\\n\\n\\n\\n\\n\\n\\n\\n\\n\\n\\n\\n\\n\\n\\n\\n\\n\\n\\n\\n\\n\\n\\n\\n\\n\\n\\n\\n\\n\\n\\n\\n\\n\\n\\n\\n\\n\\n\\n\\n\\n\\n\\n\\n\\n\\n\\n\\n\\n\\n\\n\\n\\n\\n\\n\\n\\n\\n\\n\\n\\n\\n\\n\\n\\n\\n\\n\\n\\n\\n\\n\\n\\n\\n\\n\\n\\n\\n\\n\\n\\n\\n\\n\\n\\n\\n\\n\\n\\n\\n\\n\\n\\n\\n\\n\\n\\n\\n\\n\\n\\n\\n\\n\\n\\n\\n\\n\\n\\n\\n\\n\\n\\n\\n\\n\\n\\n\\n\\n\\n\\n\\n\\n\\n\\n\\n\\n\\n\\n\\n\\n\\n\\n\\n\\n\\n\\n\\n\\n\\n\\n\\n\\n\\n\\n\\n\\n\\n\\n\\n\\n\\n\\n\\n\\n\\n\\n\\n\\n\\n\\n\\n\\n\\n\\n\\n\\n\\n\\n\\n\\n\\n\\n\\n\\n\\n\\n\\n\\n\\n\\n\\n\\n\\n\\n\\n\\n\\n\\n\\n\\n\\n\\n\\n\\n\\n\\n\\n\\n\\n\\n\\n\\n\\n\\n\\n\\n\\n\\n\\n\\n\\n\\n\\n\\n\\n\\n\\n\\n\\n\\n\\n\\n\\n\\n\\n\\n\\n\\n\\n\\n\\n\\n\\n\\n\\n\\n\\n\\n\\n\\n\\n\\n\\n\\n\\n\\n\\n\\n\\n\\n\\n\\n\\n\\n\\n\\n\\n\\n\\n\\n\\n\\n\\n\\n\\n\\n\\n\\n\\n\\n\\n\\n\\n\\n\\n\\n\\n\\n\\n\\n\\n\\n\\n\\n\\n\\n\\n\\n\\n\\n\\n\\n\\n\\n\\n\\n\\n\\n\\n\\n\\n\\n\\n\\n\\n\\n\\n\\n\\n\\n\\n\\n\\n\\n\\n\\n\\n\\n\\n\\n\\n\\n\\n\\n\\n\\n\\n\\n\\n\\n\\n\\n\\n\\n\\n\\n\\n\\n\\n\\n\\n\\n\\n\\n\\n\\n\\n\\n\\n\\n\\n\\n\\n\\n\\n\\n\\n\\n\\n\\n\\n\\n\\n\\n\\n\\n\\n\\n\\n\\n\\n\\n\\n\\n\\n\\n\\n\\n\\n\\n\\n\\n\\n\\n\\n\\n\\n\\n\\n\\n\\n\\n\\n\\n\\n\\n\\n\\n\\n\\n\\n\\n\\n\\n\\n\\n\\n\\n\\n\\n\\n\\n\\n\\n\\n\\n\\n\\n\\n\\n\\n\\n\\n\\n\\n\\n\\n\\n\\n\\n\\n\\n\\n\\n\\n\\n\\n\\n\\n\\n\\n\\n\\n\\n\\n\\n\\n\\n\\n\\n\\n\\n\\n\\n\\n\\n\\n\\n\\n\\n\\n\\n\\n\\n\\n\\n\\n\\n\\n\\n\\n\\n\\n\\n\\n\\n\\n\\n\\n\\n\\n\\n\\n\\n\\n\\n\\n\\n\\n\\n\\n\\n\\n\\n\\n\\n\\n\\n\\n\\n\\n\\n\\n\\n\\n\\n\\n\\n\\n\\n\\n\\n\\n\\n\\n\\n\\n\\n\\n\\n\\n\\n\\n\\n\\n\\n\\n\\n\\n\\n\\n\\n\\n\\n\\n\\n\\n\\n\\n\\n\\n\\n\\n\\n\\n\\n\\n\\n\\n\\n\\n\\n\\n\\n\\n\\n\\n\\n\\n\\n\\n\\n\\n\\n\\n\\n\\n\\n\\n\\n\\n\\n\\n\\n\\n\\n\\n\\n\\n\\n\\n\\n\\n\\n\\n\\n\\n\\n\\n\\n\\n\\n\\n\\n\\n\\n\\n\\n\\n\\n\\n\\n\\n\\n\\n\\n\\n\\n\\n\\n\\n\\n\\n\\n\\n\\n\\n\\n\\n\\n\\n\\n\\n\\n\\n\\n\\n\\n\\n\\n\\n\\n\\n\\n\\n\\n\\n\\n\\n\\n\\n\\n\\n\\n\\n\\n\\n\\n\\n\\n\\n\\n\\n\\n\\n\\n\\n\\n\\n\\n\\n\\n\\n\\n\\n\\n\\n\\n\\n\\n\\n\\n\\n\\n\\n\\n\\n\\n\\n\\n\\n\\n\\n\\n\\n\\n\\n\\n\\n\\n\\n\\n\\n\\n\\n\\n\\n\\n\\n\\n\\n\\n\\n\\n\\n\\n\\n\\n\\n\\n\\n\\n\\n\\n\\n\\n\\n\\n\\n\\n\\n\\n\\n\\n\\n\\n\\n\\n\\n\\n\\n\\n\\n\\n\\n\\n\\n\\n\\n\\n\\n\\n\\n\\n\\n\\n\\n\\n\\n\\n\\n\\n\\n\\n\\n\\n\\n\\n\\n\\n\\n\\n\\n\\n\\n\\n\\n\\n\\n\\n\\n\\n\\n\\n\\n\\n\\n\\n\\n\\n\\n\\n\\n\\n\\n\\n\\n\\n\\n\\n\\n\\n\\n\\n\\n\\n\\n\\n\\n\\n\\n\\n\\n\\n\\n\\n\\n\\n\\n\\n\\n\\n\\n\\n\\n\\n\\n\\n\\n\\n\\n\\n\\n\\n\\n\\n\\n\\n\\n\\n\\n\\n\\n\\n\\n\\n\\n\\n\\n\\n\\n\\n\\n\\n\\n\\n\\n\\n\\n\\n\\n\\n\\n\\n\\n\\n\\n\\n\\n\\n\\n\\n\\n\\n\\n\\n\\n\\n\\n\\n\\n\\n\\n\\n\\n\\n\\n\\n\\n\\n\\n\\n\\n\\n\\n\\n\\n\\n\\n\\n\\n\\n\\n\\n\\n\\n\\n\\n\\n\\n\\n\\n\\n\\n\\n\\n\\n\\n\\n\\n\\n\\n\\n\\n\\n\\n\\n\\n\\n\\n\\n\\n\\n\\n\\n\\n\\n\\n\\n\\n\\n\\n\\n\\n\\n\\n\\n\\n\\n\\n\\n\\n\\n\\n\\n\\n\\n\\n\\n\\n\\n\\n\\n\\n\\n\\n\\n\\n\\n\\n\\n\\n\\n\\n\\n\\n\\n\\n\\n\\n\\n\\n\\n\\n\\n\\n\\n\\n\\n\\n\\n\\n\\n\\n\\n\\n\\n\\n\\n\\n\\n\\n\\n\\n\\n\\n\\n\\n\\n\\n\\n\\n\\n\\n\\n\\n\\n\\n\\n\\n\\n\\n\\n\\n\\n\\n\\n\\n\\n\\n\\n\\n\\n\\n\\n\\n\\n\\n\\n\\n\\n\\n\\n\\n\\n\\n\\n\\n\\n\\n\\n\\n\\n\\n\\n\\n\\n\\n\\n\\n\\n\\n\\n\\n\\n\\n\\n\\n\\n\\n\\n\\n\\n\\n\\n\\n\\n\\n\\n\\n\\n\\n\\n\\n\\n\\n\\n\\n\\n\\n\\n\\n\\n\\n\\n\\n\\n\\n\\n\\n\\n\\n\\n\\n\\n\\n\\n\\n\\n\\n\\n\\n\\n\\n\\n\\n\\n\\n\\n\\n\\n\\n\\n\\n\\n\\n\\n\\n\\n\\n\\n\\n\\n\\n\\n\\n\\n\\n\\n\\n\\n\\n\\n\\n\\n\\n\\n\\n\\n\\n\\n\\n\\n\\n\\n\\n\\n\\n\\n\\n\\n\\n\\n\\n\\n\\n\\n\\n\\n\\n\\n\\n\\n\\n\\n\\n\\n\\n\\n\\n\\n\\n\\n\\n\\n\\n\\n\\n\\n\\n\\n\\n\\n\\n\\n\\n\\n\\n\\n\\n\\n\\n\\n\\n\\n\\n\\n\\n\\n\\n\\n\\n\\n\\n\\n\\n\\n\\n\\n\\n\\n\\n\\n\\n\\n\\n\\n\\n\\n\\n\\n\\n\\n\\n\\n\\n\\n\\n\\n\\n\\n\\n\\n\\n\\n\\n\\n\\n\\n\\n\\n\\n\\n\\n\\n\\n\\n\\n\\n\\n\\n\\n\\n\\n\\n\\n\\n\\n\\n\\n\\n\\n\\n\\n\\n\\n\\n\\n\\n\\n\\n\\n\\n\\n\\n\\n\\n\\n\\n\\n\\n\\n\\n\\n\\n\\n\\n\\n\\n\\n\\n\\n\\n\\n\\n\\n\\n\\n\\n\\n\\n\\n\\n\\n\\n\\n\\n\\n\\n\\n\\n\\n\\n\\n\\n\\n\\n\\n\\n\\n\\n\\n\\n\\n\\n\\n\\n\\n\\n\\n\\n\\n\\n\\n\\n\\n\\n\\n\\n\\n\\n\\n\\n\\n\\n\\n\\n\\n\\n\\n\\n\\n\\n\\n\\n\\n\\n\\n\\n\\n\\n\\n\\n\\n\\n\\n\\n\\n\\n\\n\\n\\n\\n\\n\\n\\n\\n\\n\\n\\n\\n\\n\\n\\n\\n\\n\\n\\n\\n\\n\\n\\n\\n\\n\\n\\n\\n\\n\\n\\n\\n\\n\\n\\n\\n\\n\\n\\n\\n\\n\\n\\n\\n\\n\\n\\n\\n\\n\\n\\n\\n\\n\\n\\n\\n\\n\\n\\n\\n\\n\\n\\n\\n\\n\\n\\n\\n\\n\\n\\n\\n\\n\\n\\n\\n\\n\\n\\n\\n\\n\\n\\n\\n\\n\\n\\n\\n\\n\\n\\n\\n\\n\\n\\n\\n\\n\\n\\n\\n\\n\\n\\n\\n\\n\\n\\n\\n\\n\\n\\n\\n\\n\\n\\n\\n\\n\\n\\n\\n\\n\\n\\n\\n\\n\\n\\n\\n\\n\\n\\n\\n\\n\\n\\n\\n\\n\\n\\n\\n\\n\\n\\n\\n\\n\\n\\n\\n\\n\\n\\n\\n\\n\\n\\n\\n\\n\\n\\n\\n\\n\\n\\n\\n\\n\\n\\n\\n\\n\\n\\n\\n\\n\\n\\n\\n\\n\\n\\n\\n\\n\\n\\n\\n\\n\\n\\n\\n\\n\\n\\n\\n\\n\\n\\n\\n\\n\\n\\n\\n\\n\\n\\n\\n\\n\\n\\n\\n\\n\\n\\n\\n\\n\\n\\n\\n\\n\\n\\n\\n\\n\\n\\n\\n\\n\\n\\n\\n\\n\\n\\n\\n\\n\\n\\n\\n\\n\\n\\n\\n\\n\\n\\n\\n\\n\\n\\n\\n\\n\\n\\n\\n\\n\\n\\n\\n\\n\\n\\n\\n\\n\\n\\n\\n\\n\\n\\n\\n\\n\\n\\n\\n\\n\\n\\n\\n\\n\\n\\n\\n\\n\\n\\n\\n\\n\\n\\n\\n\\n\\n\\n\\n\\n\\n\\n\\n\\n\\n\\n\\n\\n\\n\\n\\n\\n\\n\\n\\n\\n\\n\\n\\n\\n\\n\\n\\n\\n\\n\\n\\n\\n\\n\\n\\n\\n\\n\\n\\n\\n\\n\\n\\n\\n\\n\\n\\n\\n\\n\\n\\n\\n\\n\\n\\n\\n\\n\\n\\n\\n\\n\\n\\n\\n\\n\\n\\n\\n\\n\\n\\n\\n\\n\\n\\n\\n\\n\\n\\n\\n\\n\\n\\n\\n\\n\\n\\n\\n\\n\\n\\n\\n\\n\\n\\n\\n\\n\\n\\n\\n\\n\\n\\n\\n\\n\\n\\n\\n\\n\\n\\n\\n\\n\\n\\n\\n\\n\\n\\n\\n\\n\\n\\n\\n\\n\\n\\n\\n\\n\\n\\n\\n\\n\\n\\n\\n\\n\\n\\n\\n\\n\\n\\n\\n\\n\\n\\n\\n\\n\\n\\n\\n\\n\\n\\n\\n\\n\\n\\n\\n\\n\\n\\n\\n\\n\\n\\n\\n\\n\\n\\n\\n\\n\\n\\n\\n\\n\\n\\n\\n\\n\\n\\n\\n\\n\\n\\n\\n\\n\\n\\n\\n\\n\\n\\n\\n\\n\\n\\n\\n\\n\\n\\n\\n\\n\\n\\n\\n\\n\\n\\n\\n\\n\\n\\n\\n\\n\\n\\n\\n\\n\\n\\n\\n\\n\\n\\n\\n\\n\\n\\n\\n\\n\\n\\n\\n\\n\\n\\n\\n\\n\\n\\n\\n\\n\\n\\n\\n\\n\\n\\n\\n\\n\\n\\n\\n\\n\\n\\n\\n\\n\\n\\n\\n\\n\\n\\n\\n\\n\\n\\n\\n\\n\\n\\n\\n\\n\\n\\n\\n\\n\\n\\n\\n\\n\\n\\n\\n\\n\\n\\n\\n\\n\\n\\n\\n\\n\\n\\n\\n\\n\\n\\n\\n\\n\\n\\n\\n\\n\\n\\n\\n\\n\\n\\n\\n\\n\\n\\n\\n\\n\\n\\n\\n\\n\\n\\n\\n\\n\\n\\n\\n\\n\\n\\n\\n\\n\\n\\n\\n\\n\\n\\n\\n\\n\\n\\n\\n\\n\\n\\n\\n\\n\\n\\n\\n\\n\\n\\n\\n\\n\\n\\n\\n\\n\\n\\n\\n\\n\\n\\n\\n\\n\\n\\n\\n\\n\\n\\n\\n\\n\\n\\n\\n\\n\\n\\n\\n\\n\\n\\n\\n\\n\\n\\n\\n\\n\\n\\n\\n\\n\\n\\n\\n\\n\\n\\n\\n\\n\\n\\n\\n\\n\\n\\n\\n\\n\\n\\n\\n\\n\\n\\n\\n\\n\\n\\n\\n\\n\\n\\n\\n\\n\\n\\n\\n\\n\\n\\n\\n\\n\\n\\n\\n\\n\\n\\n\\n\\n\\n\\n\\n\\n\\n\\n\\n\\n\\n\\n\\n\\n\\n\\n\\n\\n\\n\\n\\n\\n\\n\\n\\n\\n\\n\\n\\n\\n\\n\\n\\n\\n\\n\\n\\n\\n\\n\\n\\n\\n\\n\\n\\n\\n\\n\\n\\n\\n\\n\\n\\n\\n\\n\\n\\n\\n\\n\\n\\n\\n\\n\\n\\n\\n\\n\\n\\n\\n\\n\\n\\n\\n\\n\\n\\n\\n\\n\\n\\n\\n\\n\\n\\n\\n\\n\\n\\n\\n\\n\\n\\n\\n\\n\\n\\n\\n\\n\\n\\n\\n\\n\\n\\n\\n\\n\\n\\n\\n\\n\\n\\n\\n\\n\\n\\n\\n\\n\\n\\n\\n\\n\\n\\n\\n\\n\\n\\n\\n\\n\\n\\n\\n\\n\\n\\n\\n\\n\\n\\n\\n\\n\\n\\n\\n\\n\\n\\n\\n\\n\\n\\n\\n\\n\\n\\n\\n\\n\\n\\n\\n\\n\\n\\n\\n\\n\\n\\n\\n\\n\\n\\n\\n\\n\\n\\n\\n\\n\\n\\n\\n\\n\\n\\n\\n\\n\\n\\n\\n\\n\\n\\n\\n\\n\\n\\n\\n\\n\\n\\n\\n\\n\\n\\n\\n\\n\\n\\n\\n\\n\\n\\n\\n\\n\\n\\n\\n\\n\\n\\n\\n\\n\\n\\n\\n\\n\\n\\n\\n\\n\\n\\n\\n\\n\\n\\n\\n\\n\\n\\n\\n\\n\\n\\n\\n\\n\\n\\n\\n\\n\\n\\n\\n\\n\\n\\n\\n\\n\\n\\n\\n\\n\\n\\n\\n\\n\\n\\n\\n\\n\\n\\n\\n\\n\\n\\n\\n\\n\\n\\n\\n\\n\\n\\n\\n\\n\\n\\n\\n\\n\\n\\n\\n\\n\\n\\n\\n\\n\\n\\n\\n\\n\\n\\n\\n\\n\\n\\n\\n\\n\\n\\n\\n\\n\\n\\n\\n\\n\\n\\n\\n\\n\\n\\n\\n\\n\\n\\n\\n\\n\\n\\n\\n\\n\\n\\n\\n\\n\\n\\n\\n\\n\\n\\n\\n\\n\\n\\n\\n\\n\\n\\n\\n\\n\\n\\n\\n\\n\\n\\n\\n\\n\\n\\n\\n\\n\\n\\n\\n\\n\\n\\n\\n\\n\\n\\n\\n\\n\\n\\n\\n\\n\\n\\n\\n\\n\\n\\n\\n\\n\\n\\n\\n\\n\\n\\n\\n\\n\\n\\n\\n\\n\\n\\n\\n\\n\\n\\n\\n\\n\\n\\n\\n\\n\\n\\n\\n\\n\\n\\n\\n\\n\\n\\n\\n\\n\\n\\n\\n\\n\\n\\n\\n\\n\\n\\n\\n\\n\\n\\n\\n\\n\\n\\n\\n\\n\\n\\n\\n\\n\\n\\n\\n\\n\\n\\n\\n\\n\\n\\n\\n\\n\\n\\n\\n\\n\\n\\n\\n\\n\\n\\n\\n\\n\\n\\n\\n\\n\\n\\n\\n\\n\\n\\n\\n\\n\\n\\n\\n\\n\\n\\n\\n\\n\\n\\n\\n\\n\\n\\n\\n\\n\\n\\n\\n\\n\\n\\n\\n\\n\\n\\n\\n\\n\\n\\n\\n\\n\\n\\n\\n\\n\\n\\n\\n\\n\\n\\n\\n\\n\\n\\n\\n\\n\\n\\n\\n\\n\\n\\n\\n\\n\\n\\n\\n\\n\\n\\n\\n\\n\\n\\n\\n\\n\\n\\n\\n\\n\\n\\n\\n\\n\\n\\n\\n\\n\\n\\n\\n\\n\\n\\n\\n\\n\\n\\n\\n\\n\\n\\n\\n\\n\\n\\n\\n\\n\\n\\n\\n\\n\\n\\n\\n\\n\\n\\n\\n\\n\\n\\n\\n\\n\\n\\n\\n\\n\\n\\n\\n\\n\\n\\n\\n\\n\\n\\n\\n\\n\\n\\n\\n\\n\\n\\n\\n\\n\\n\\n\\n\\n\\n\\n\\n\\n\\n\\n\\n\\n\\n\\n\\n\\n\\n\\n\\n\\n\\n\\n\\n\\n\\n\\n\\n\\n\\n\\n\\n\\n\\n\\n\\n\\n\\n\\n\\n\\n\\n\\n\\n\\n\\n\\n\\n\\n\\n\\n\\n\\n\\n\\n\\n\\n\\n\\n\\n\\n\\n\\n\\n\\n\\n\\n\\n\\n\\n\\n\\n\\n\\n\\n\\n\\n\\n\\n\\n\\n\\n\\n\\n\\n\\n\\n\\n\\n\\n\\n\\n\\n\\n\\n\\n\\n\\n\\n\\n\\n\\n\\n\\n\\n\\n\\n\\n\\n\\n\\n\\n\\n\\n\\n\\n\\n\\n\\n\\n\\n\\n\\n\\n\\n\\n\\n\\n\\n\\n\\n\\n\\n\\n\\n\\n\\n\\n\\n\\n\\n\\n\\n\\n\\n\\n\\n\\n\\n\\n\\n\\n\\n\\n\\n\\n\\n\\n\\n\\n\\n\\n\\n\\n\\n\\n\\n\\n\\n\\n\\n\\n\\n\\n\\n\\n\\n\\n\\n\\n\\n\\n\\n\\n\\n\\n\\n\\n\\n\\n\\n\\n\\n\\n\\n\\n\\n\\n\\n\\n\\n\\n\\n\\n\\n\\n\\n\\n\\n\\n\\n\\n\\n\\n\\n\\n\\n\\n\\n\\n\\n\\n\\n\\n\\n\\n\\n\\n\\n\\n\\n\\n\\n\\n\\n\\n\\n\\n\\n\\n\\n\\n\\n\\n\\n\\n\\n\\n\\n\\n\\n\\n\\n\\n\\n\\n\\n\\n\\n\\n\\n\\n\\n\\n\\n\\n\\n\\n\\n\\n\\n\\n\\n\\n\\n\\n\\n\\n\\n\\n\\n\\n\\n\\n\\n\\n\\n\\n\\n\\n\\n\\n\\n\\n\\n\\n\\n\\n\\n\\n\\n\\n\\n\\n\\n\\n\\n\\n\\n\\n\\n\\n\\n\\n\\n\\n\\n\\n\\n\\n\\n\\n\\n\\n\\n\\n\\n\\n\\n\\n\\n\\n\\n\\n\\n\\n\\n\\n\\n\\n\\n\\n\\n\\n\\n\\n\\n\\n\\n\\n\\n\\n\\n\\n\\n\\n\\n\\n\\n\\n\\n\\n\\n\\n\\n\\n\\n\\n\\n\\n\\n\\n\\n\\n\\n\\n\\n\\n\\n\\n\\n\\n\\n\\n\\n\\n\\n\\n\\n\\n\\n\\n\\n\\n\\n\\n\\n\\n\\n\\n\\n\\n\\n\\n\\n\\n\\n\\n\\n\\n\\n\\n\\n\\n\\n\\n\\n\\n\\n\\n\\n\\n\\n\\n\\n\\n\\n\\n\\n\\n\\n\\n\\n\\n\\n\\n\\n\\n\\n\\n\\n\\n\\n\\n\\n\\n\\n\\n\\n\\n\\n\\n\\n\\n\\n\\n\\n\\n\\n\\n\\n\\n\\n\\n\\n\\n\\n\\n\\n\\n\\n\\n\\n\\n\\n\\n\\n\\n\\n\\n\\n\\n\\n\\n\\n\\n\\n\\n\\n\\n\\n\\n\\n\\n\\n\\n\\n\\n\\n\\n\\n\\n\\n\\n\\n\\n\\n\\n\\n\\n\\n\\n\\n\\n\\n\\n\\n\\n\\n\\n\\n\\n\\n\\n\\n\\n\\n\\n\\n\\n\\n\\n\\n\\n\\n\\n\\n\\n\\n\\n\\n\\n\\n\\n\\n\\n\\n\\n\\n\\n\\n\\n\\n\\n\\n\\n\\n\\n\\n\\n\\n\\n\\n\\n\\n\\n\\n\\n\\n\\n\\n\\n\\n\\n\\n\\n\\n\\n\\n\\n\\n\\n\\n\\n\\n\\n\\n\\n\\n\\n\\n\\n\\n\\n\\n\\n\\n\\n\\n\\n\\n\\n\\n\\n\\n\\n\\n\\n\\n\\n\\n\\n\\n\\n\\n\\n\\n\\n\\n\\n\\n\\n\\n\\n\\n\\n\\n\\n\\n\\n\\n\\n\\n\\n\\n\\n\\n\\n\\n\\n\\n\\n\\n\\n\\n\\n\\n\\n\\n\\n\\n\\n\\n\\n\\n\\n\\n\\n\\n\\n\\n\\n\\n\\n\\n\\n\\n\\n\\n\\n\\n\\n\\n\\n\\n\\n\\n\\n\\n\\n\\n\\n\\n\\n\\n\\n\\n\\n\\n\\n\\n\\n\\n\\n\\n\\n\\n\\n\\n\\n\\n\\n\\n\\n\\n\\n\\n\\n\\n\\n\\n\\n\\n\\n\\n\\n\\n\\n\\n\\n\\n\\n\\n\\n\\n\\n\\n\\n\\n\\n\\n\\n\\n\\n\\n\\n\\n\\n\\n\\n\\n\\n\\n\\n\\n\\n\\n\\n\\n\\n\\n\\n\\n\\n\\n\\n\\n\\n\\n\\n\\n\\n\\n\\n\\n\\n\\n\\n\\n\\n\\n\\n\\n\\n\\n\\n\\n\\n\\n\\n\\n\\n\\n\\n\\n\\n\\n\\n\\n\\n\\n\\n\\n\\n\\n\\n\\n\\n\\n\\n\\n\\n\\n\\n\\n\\n\\n\\n\\n\\n\\n\\n\\n\\n\\n\\n\\n\\n\\n\\n\\n\\n\\n\\n\\n\\n\\n\\n\\n\\n\\n\\n\\n\\n\\n\\n\\n\\n\\n\\n\\n\\n\\n\\n\\n\\n\\n\\n\\n\\n\\n\\n\\n\\n\\n\\n\\n\\n\\n\\n\\n\\n\\n\\n\\n\\n\\n\\n\\n\\n\\n\\n\\n\\n\\n\\n\\n\\n\\n\\n\\n\\n\\n\\n\\n\\n\\n\\n\\n\\n\\n\\n\\n\\n\\n\\n\\n\\n\\n\\n\\n\\n\\n\\n\\n\\n\\n\\n\\n\\n\\n\\n\\n\\n\\n\\n\\n\\n\\n\\n\\n\\n\\n\\n\\n\\n\\n\\n\\n\\n\\n\\n\\n\\n\\n\\n\\n\\n\\n\\n\\n\\n\\n\\n\\n\\n\\n\\n\\n\\n\\n\\n\\n\\n\\n\\n\\n\\n\\n\\n\\n\\n\\n\\n\\n\\n\\n\\n\\n\\n\\n\\n\\n\\n\\n\\n\\n\\n\\n\\n\\n\\n\\n\\n\\n\\n\\n\\n\\n\\n\\n\\n\\n\\n\\n\\n\\n\\n\\n\\n\\n\\n\\n\\n\\n\\n\\n\\n\\n\\n\\n\\n\\n\\n\\n\\n\\n\\n\\n\\n\\n\\n\\n\\n\\n\\n\\n\\n\\n\\n\\n\\n\\n\\n\\n\\n\\n\\n\\n\\n\\n\\n\\n\\n\\n\\n\\n\\n\\n\\n\\n\\n\\n\\n\\n\\n\\n\\n\\n\\n\\n\\n\\n\\n\\n\\n\\n\\n\\n\\n\\n\\n\\n\\n\\n\\n\\n\\n\\n\\n\\n\\n\\n\\n\\n\\n\\n\\n\\n\\n\\n\\n\\n\\n\\n\\n\\n\\n\\n\\n\\n\\n\\n\\n\\n\\n\\n\\n\\n\\n\\n\\n\\n\\n\\n\\n\\n\\n\\n\\n\\n\\n\\n\\n\\n\\n\\n\\n\\n\\n\\n\\n\\n\\n\\n\\n\\n\\n\\n\\n\\n\\n\\n\\n\\n\\n\\n\\n\\n\\n\\n\\n\\n\\n\\n\\n\\n\\n\\n\\n\\n\\n\\n\\n\\n\\n\\n\\n\\n\\n\\n\\n\\n\\n\\n\\n\\n\\n\\n\\n\\n\\n\\n\\n\\n\\n\\n\\n\\n\\n\\n\\n\\n\\n\\n\\n\\n\\n\\n\\n\\n\\n\\n\\n\\n\\n\\n\\n\\n\\n\\n\\n\\n\\n\\n\\n\\n\\n\\n\\n\\n\\n\\n\\n\\n\\n\\n\\n\\n\\n\\n\\n\\n\\n\\n\\n\\n\\n\\n\\n\\n\\n\\n\\n\\n\\n\\n\\n\\n\\n\\n\\n\\n\\n\\n\\n\\n\\n\\n\\n\\n\\n\\n\\n\\n\\n\\n\\n\\n\\n\\n\\n\\n\\n\\n\\n\\n\\n\\n\\n\\n\\n\\n\\n\\n\\n\\n\\n\\n\\n\\n\\n\\n\\n\\n\\n\\n\\n\\n\\n\\n\\n\\n\\n\\n\\n\\n\\n\\n\\n\\n\\n\\n\\n\\n\\n\\n\\n\\n\\n\\n\\n\\n\\n\\n\\n\\n\\n\\n\\n\\n\\n\\n\\n\\n\\n\\n\\n\\n\\n\\n\\n\\n\\n\\n\\n\\n\\n\\n\\n\\n\\n\\n\\n\\n\\n\\n\\n\\n\\n\\n\\n\\n\\n\\n\\n\\n\\n\\n\\n\\n\\n\\n\\n\\n\\n\\n\\n\\n\\n\\n\\n\\n\\n\\n\\n\\n\\n\\n\\n\\n\\n\\n\\n\\n\\n\\n\\n\\n\\n\\n\\n\\n\\n\\n\\n\\n\\n\\n\\n\\n\\n\\n\\n\\n\\n\\n\\n\\n\\n\\n\\n\\n\\n\\n\\n\\n\\n\\n\\n\\n\\n\\n\\n\\n\\n\\n\\n\\n\\n\\n\\n\\n\\n\\n\\n\\n\\n\\n\\n\\n\\n\\n\\n\\n\\n\\n\\n\\n\\n\\n\\n\\n\\n\\n\\n\\n\\n\\n\\n\\n\\n\\n\\n\\n\\n\\n\\n\\n\\n\\n\\n\\n\\n\\n\\n\\n\\n\\n\\n\\n\\n\\n\\n\\n\\n\\n\\n\\n\\n\\n\\n\\n\\n\\n\\n\\n\\n\\n\\n\\n\\n\\n\\n\\n\\n\\n\\n\\n\\n\\n\\n\\n\\n\\n\\n\\n\\n\\n\\n\\n\\n\\n\\n\\n\\n\\n\\n\\n\\n\\n\\n\\n\\n\\n\\n\\n\\n\\n\\n\\n\\n\\n\\n\\n\\n\\n\\n\\n\\n\\n\\n\\n\\n\\n\\n\\n\\n\\n\\n\\n\\n\\n\\n\\n\\n\\n\\n\\n\\n\\n\\n\\n\\n\\n\\n\\n\\n\\n\\n\\n\\n\\n\\n\\n\\n\\n\\n\\n\\n\\n\\n\\n\\n\\n\\n\\n\\n\\n\\n\\n\\n\\n\\n\\n\\n\\n\\n\\n\\n\\n\\n\\n\\n\\n\\n\\n\\n\\n\\n\\n\\n\\n\\n\\n\\n\\n\\n\\n\\n\\n\\n\\n\\n\\n\\n\\n\\n\\n\\n\\n\\n\\n\\n\\n\\n\\n\\n\\n\\n\\n\\n\\n\\n\\n\\n\\n\\n\\n\\n\\n\\n\\n\\n\\n\\n\\n\\n\\n\\n\\n\\n\\n\\n\\n\\n\\n\\n\\n\\n\\n\\n\\n\\n\\n\\n\\n\\n\\n\\n\\n\\n\\n\\n\\n\\n\\n\\n\\n\\n\\n\\n\\n\\n\\n\\n\\n\\n\\n\\n\\n\\n\\n\\n\\n\\n\\n\\n\\n\\n\\n\\n\\n\\n\\n\\n\\n\\n\\n\\n\\n\\n\\n\\n\\n\\n\\n\\n\\n\\n\\n\\n\\n\\n\\n\\n\\n\\n\\n\\n\\n\\n\\n\\n\\n\\n\\n\\n\\n\\n\\n\\n\\n\\n\\n\\n\\n\\n\\n\\n\\n\\n\\n\\n\\n\\n\\n\\n\\n\\n\\n\\n\\n\\n\\n\\n\\n\\n\\n\\n\\n\\n\\n\\n\\n\\n\\n\\n\\n\\n\\n\\n\\n\\n\\n\\n\\n\\n\\n\\n\\n\\n\\n\\n\\n\\n\\n\\n\\n\\n\\n\\n\\n\\n\\n\\n\\n\\n\\n\\n\\n\\n\\n\\n\\n\\n\\n\\n\\n\\n\\n\\n\\n\\n\\n\\n\\n\\n\\n\\n\\n\\n\\n\\n\\n\\n\\n\\n\\n\\n\\n\\n\\n\\n\\n\\n\\n\\n\\n\\n\\n\\n\\n\\n\\n\\n\\n\\n\\n\\n\\n\\n\\n\\n\\n\\n\\n\\n\\n\\n\\n\\n\\n\\n\\n\\n\\n\\n\\n\\n\\n\\n\\n\\n\\n\\n\\n\\n\\n\\n\\n\\n\\n\\n\\n\\n\\n\\n\\n\\n\\n\\n\\n\\n\\n\\n\\n\\n\\n\\n\\n\\n\\n\\n\\n\\n\\n\\n\\n\\n\\n\\n\\n\\n\\n\\n\\n\\n\\n\\n\\n\\n\\n\\n\\n\\n\\n\\n\\n\\n\\n\\n\\n\\n\\n\\n\\n\\n\\n\\n\\n\\n\\n\\n\\n\\n\\n\\n\\n\\n\\n\\n\\n\\n\\n\\n\\n\\n\\n\\n\\n\\n\\n\\n\\n\\n\\n\\n\\n\\n\\n\\n\\n\\n\\n\\n\\n\\n\\n\\n\\n\\n\\n\\n\\n\\n\\n\\n\\n\\n\\n\\n\\n\\n\\n\\n\\n\\n\\n\\n\\n\\n\\n\\n\\n\\n\\n\\n\\n\\n\\n\\n\\n\\n\\n\\n\\n\\n\\n\\n\\n\\n\\n\\n\\n\\n\\n\\n\\n\\n\\n\\n\\n\\n\\n\\n\\n\\n\\n\\n\\n\\n\\n\\n\\n\\n\\n\\n\\n\\n\\n\\n\\n\\n\\n\\n\\n\\n\\n\\n\\n\\n\\n\\n\\n\\n\\n\\n\\n\\n\\n\\n\\n\\n\\n\\n\\n\\n\\n\\n\\n\\n\\n\\n\\n\\n\\n\\n\\n\\n\\n\\n\\n\\n\\n\\n\\n\\n\\n\\n\\n\\n\\n\\n\\n\\n\\n\\n\\n\\n\\n\\n\\n\\n\\n\\n\\n\\n\\n\\n\\n\\n\\n\\n\\n\\n\\n\\n\\n\\n\\n\\n\\n\\n\\n\\n\\n\\n\\n\\n\\n\\n\\n\\n\\n\\n\\n\\n\\n\\n\\n\\n\\n\\n\\n\\n\\n\\n\\n\\n\\n\\n\\n\\n\\n\\n\\n\\n\\n\\n\\n\\n\\n\\n\\n\\n\\n\\n\\n\\n\\n\\n\\n\\n\\n\\n\\n\\n\\n\\n\\n\\n\\n\\n\\n\\n\\n\\n\\n\\n\\n\\n\\n\\n\\n\\n\\n\\n\\n\\n\\n\\n\\n\\n\\n\\n\\n\\n\\n\\n\\n\\n\\n\\n\\n\\n\\n\\n\\n\\n\\n\\n\\n\\n\\n\\n\\n\\n\\n\\n\\n\\n\\n\\n\\n\\n\\n\\n\\n\\n\\n\\n\\n\\n\\n\\n\\n\\n\\n\\n\\n\\n\\n\\n\\n\\n\\n\\n\\n\\n\\n\\n\\n\\n\\n\\n\\n\\n\\n\\n\\n\\n\\n\\n\\n\\n\\n\\n\\n\\n\\n\\n\\n\\n\\n\\n\\n\\n\\n\\n\\n\\n\\n\\n\\n\\n\\n\\n\\n\\n\\n\\n\\n\\n\\n\\n\\n\\n\\n\\n\\n\\n\\n\\n\\n\\n\\n\\n\\n\\n\\n\\n\\n\\n\\n\\n\\n\\n\\n\\n\\n\\n\\n\\n\\n\\n\\n\\n\\n\\n\\n\\n\\n\\n\\n\\n\\n\\n\\n\\n\\n\\n\\n\\n\\n\\n\\n\\n\\n\\n\\n\\n\\n\\n\\n\\n\\n\\n\\n\\n\\n\\n\\n\\n\\n\\n\\n\\n\\n\\n\\n\\n\\n\\n\\n\\n\\n\\n\\n\\n\\n\\n\\n\\n\\n\\n\\n\\n\\n\\n\\n\\n\\n\\n\\n\\n\\n\\n\\n\\n\\n\\n\\n\\n\\n\\n\\n\\n\\n\\n\\n\\n\\n\\n\\n\\n\\n\\n\\n\\n\\n\\n\\n\\n\\n\\n\\n\\n\\n\\n\\n\\n\\n\\n\\n\\n\\n\\n\\n\\n\\n\\n\\n\\n\\n\\n\\n\\n\\n\\n\\n\\n\\n\\n\\n\\n\\n\\n\\n\\n\\n\\n\\n\\n\\n\\n\\n\\n\\n\\n\\n\\n\\n\\n\\n\\n\\n\\n\\n\\n\\n\\n\\n\\n\\n\\n\\n\\n\\n\\n\\n\\n\\n\\n\\n\\n\\n\\n\\n\\n\\n\\n\\n\\n\\n\\n\\n\\n\\n\\n\\n\\n\\n\\n\\n\\n\\n\\n\\n\\n\\n\\n\\n\\n\\n\\n\\n\\n\\n\\n\\n\\n\\n\\n\\n\\n\\n\\n\\n\\n\\n\\n\\n\\n\\n\\n\\n\\n\\n\\n\\n\\n\\n\\n\\n\\n\\n\\n\\n\\n\\n\\n\\n\\n\\n\\n\\n\\n\\n\\n\\n\\n\\n\\n\\n\\n\\n\\n\\n\\n\\n\\n\\n\\n\\n\\n\\n\\n\\n\\n\\n\\n\\n\\n\\n\\n\\n\\n\\n\\n\\n\\n\\n\\n\\n\\n\\n\\n\\n\\n\\n\\n\\n\\n\\n\\n\\n\\n\\n\\n\\n\\n\\n\\n\\n\\n\\n\\n\\n\\n\\n\\n\\n\\n\\n\\n\\n\\n\\n\\n\\n\\n\\n\\n\\n\\n\\n\\n\\n\\n\\n\\n\\n\\n\\n\\n\\n\\n\\n\\n\\n\\n\\n\\n\\n\\n\\n\\n\\n\\n\\n\\n\\n\\n\\n\\n\\n\\n\\n\\n\\n\\n\\n\\n\\n\\n\\n\\n\\n\\n\\n\\n\\n\\n\\n\\n\\n\\n\\n\\n\\n\\n\\n\\n\\n\\n\\n\\n\\n\\n\\n\\n\\n\\n\\n\\n\\n\\n\\n\\n\\n\\n\\n\\n\\n\\n\\n\\n\\n\\n\\n\\n\\n\\n\\n\\n\\n\\n\\n\\n\\n\\n\\n\\n\\n\\n\\n\\n\\n\\n\\n\\n\\n\\n\\n\\n\\n\\n\\n\\n\\n\\n\\n\\n\\n\\n\\n\\n\\n\\n\\n\\n\\n\\n\\n\\n\\n\\n\\n\\n\\n\\n\\n\\n\\n\\n\\n\\n\\n\\n\\n\\n\\n\\n\\n\\n\\n\\n\\n\\n\\n\\n\\n\\n\\n\\n\\n\\n\\n\\n\\n\\n\\n\\n\\n\\n\\n\\n\\n\\n\\n\\n\\n\\n\\n\\n\\n\\n\\n\\n\\n\\n\\n\\n\\n\\n\\n\\n\\n\\n\\n\\n\\n\\n\\n\\n\\n\\n\\n\\n\\n\\n\\n\\n\\n\\n\\n\\n\\n\\n\\n\\n\\n\\n\\n\\n\\n\\n\\n\\n\\n\\n\\n\\n\\n\\n\\n\\n\\n\\n\\n\\n\\n\\n\\n\\n\\n\\n\\n\\n\\n\\n\\n\\n\\n\\n\\n\\n\\n\\n\\n\\n\\n\\n\\n\\n\\n\\n\\n\\n\\n\\n\\n\\n\\n\\n\\n\\n\\n\\n\\n\\n\\n\\n\\n\\n\\n\\n\\n\\n\\n\\n\\n\\n\\n\\n\\n\\n\\n\\n\\n\\n\\n\\n\\n\\n\\n\\n\\n\\n\\n\\n\\n\\n\\n\\n\\n\\n\\n\\n\\n\\n\\n\\n\\n\\n\\n\\n\\n\\n\\n\\n\\n\\n\\n\\n\\n\\n\\n\\n\\n\\n\\n\\n\\n\\n\\n\\n\\n\\n\\n\\n\\n\\n\\n\\n\\n\\n\\n\\n\\n\\n\\n\\n\\n\\n\\n\\n\\n\\n\\n\\n\\n\\n\\n\\n\\n\\n\\n\\n\\n\\n\\n\\n\\n\\n\\n\\n\\n\\n\\n\\n\\n\\n\\n\\n\\n\\n\\n\\n\\n\\n\\n\\n\\n\\n\\n\\n\\n\\n\\n\\n\\n\\n\\n\\n\\n\\n\\n\\n\\n\\n\\n\\n\\n\\n\\n\\n\\n\\n\\n\\n\\n\\n\\n\\n\\n\\n\\n\\n\\n\\n\\n\\n\\n\\n\\n\\n\\n\\n\\n\\n\\n\\n\\n\\n\\n\\n\\n\\n\\n\\n\\n\\n\\n\\n\\n\\n\\n\\n\\n\\n\\n\\n\\n\\n\\n\\n\\n\\n\\n\\n\\n\\n\\n\\n\\n\\n\\n\\n\\n\\n\\n\\n\\n\\n\\n\\n\\n\\n\\n\\n\\n\\n\\n\\n\\n\\n\\n\\n\\n\\n\\n\\n\\n\\n\\n\\n\\n\\n\\n\\n\\n\\n\\n\\n\\n\\n\\n\\n\\n\\n\\n\\n\\n\\n\\n\\n\\n\\n\\n\\n\\n\\n\\n\\n\\n\\n\\n\\n\\n\\n\\n\\n\\n\\n\\n\\n\\n\\n\\n\\n\\n\\n\\n\\n\\n\\n\\n\\n\\n\\n\\n\\n\\n\\n\\n\\n\\n\\n\\n\\n\\n\\n\\n\\n\\n\\n\\n\\n\\n\\n\\n\\n\\n\\n\\n\\n\\n\\n\\n\\n\\n\\n\\n\\n\\n\\n\\n\\n\\n\\n\\n\\n\\n\\n\\n\\n\\n\\n\\n\\n\\n\\n\\n\\n\\n\\n\\n\\n\\n\\n\\n\\n\\n\\n\\n\\n\\n\\n\\n\\n\\n\\n\\n\\n\\n\\n\\n\\n\\n\\n\\n\\n\\n\\n\\n\\n\\n\\n\\n\\n\\n\\n\\n\\n\\n\\n\\n\\n\\n\\n\\n\\n\\n\\n\\n\\n\\n\\n\\n\\n\\n\\n\\n\\n\\n\\n\\n\\n\\n\\n\\n\\n\\n\\n\\n\\n\\n\\n\\n\\n\\n\\n\\n\\n\\n\\n\\n\\n\\n\\n\\n\\n\\n\\n\\n\\n\\n\\n\\n\\n\\n\\n\\n\\n\\n\\n\\n\\n\\n\\n\\n\\n\\n\\n\\n\\n\\n\\n\\n\\n\\n\\n\\n\\n\\n\\n\\n\\n\\n\\n\\n\\n\\n\\n\\n\\n\\n\\n\\n\\n\\n\\n\\n\\n\\n\\n\\n\\n\\n\\n\\n\\n\\n\\n\\n\\n\\n\\n\\n\\n\\n\\n\\n\\n\\n\\n\\n\\n\\n\\n\\n\\n\\n\\n\\n\\n\\n\\n\\n\\n\\n\\n\\n\\n\\n\\n\\n\\n\\n\\n\\n\\n\\n\\n\\n\\n\\n\\n\\n\\n\\n\\n\\n\\n\\n\\n\\n\\n\\n\\n\\n\\n\\n\\n\\n\\n\\n\\n\\n\\n\\n\\n\\n\\n\\n\\n\\n\\n\\n\\n\\n\\n\\n\\n\\n\\n\\n\\n\\n\\n\\n\\n\\n\\n\\n\\n\\n\\n\\n\\n\\n\\n\\n\\n\\n\\n\\n\\n\\n\\n\\n\\n\\n\\n\\n\\n\\n\\n\\n\\n\\n\\n\\n\\n\\n\\n\\n\\n\\n\\n\\n\\n\\n\\n\\n\\n\\n\\n\\n\\n\\n\\n\\n\\n\\n\\n\\n\\n\\n\\n\\n\\n\\n\\n\\n\\n\\n\\n\\n\\n\\n\\n\\n\\n\\n\\n\\n\\n\\n\\n\\n\\n\\n\\n\\n\\n\\n\\n\\n\\n\\n\\n\\n\\n\\n\\n\\n\\n\\n\\n\\n\\n\\n\\n\\n\\n\\n\\n\\n\\n\\n\\n\\n\\n\\n\\n\\n\\n\\n\\n\\n\\n\\n\\n\\n\\n\\n\\n\\n\\n\\n\\n\\n\\n\\n\\n\\n\\n\\n\\n\\n\\n\\n\\n\\n\\n\\n\\n\\n\\n\\n\\n\\n\\n\\n\\n\\n\\n\\n\\n\\n\\n\\n\\n\\n\\n\\n\\n\\n\\n\\n\\n\\n\\n\\n\\n\\n\\n\\n\\n\\n\\n\\n\\n\\n\\n\\n\\n\\n\\n\\n\\n\\n\\n\\n\\n\\n\\n\\n\\n\\n\\n\\n\\n\\n\\n\\n\\n\\n\\n\\n\\n\\n\\n\\n\\n\\n\\n\\n\\n\\n\\n\\n\\n\\n\\n\\n\\n\\n\\n\\n\\n\\n\\n\\n\\n\\n\\n\\n\\n\\n\\n\\n\\n\\n\\n\\n\\n\\n\\n\\n\\n\\n\\n\\n\\n\\n\\n\\n\\n\\n\\n\\n\\n\\n\\n\\n\\n\\n\\n\\n\\n\\n\\n\\n\\n\\n\\n\\n\\n\\n\\n\\n\\n\\n\\n\\n\\n\\n\\n\\n\\n\\n\\n\\n\\n\\n\\n\\n\\n\\n\\n\\n\\n\\n\\n\\n\\n\\n\\n\\n\\n\\n\\n\\n\\n\\n\\n\\n\\n\\n\\n\\n\\n\\n\\n\\n\\n\\n\\n\\n\\n\\n\\n\\n\\n\\n\\n\\n\\n\\n\\n\\n\\n\\n\\n\\n\\n\\n\\n\\n\\n\\n\\n\\n\\n\\n\\n\\n\\n\\n\\n\\n\\n\\n\\n\\n\\n\\n\\n\\n\\n\\n\\n\\n\\n\\n\\n\\n\\n\\n\\n\\n\\n\\n\\n\\n\\n\\n\\n\\n\\n\\n\\n\\n\\n\\n\\n\\n\\n\\n\\n\\n\\n\\n\\n\\n\\n\\n\\n\\n\\n\\n\\n\\n\\n\\n\\n\\n\\n\\n\\n\\n\\n\\n\\n\\n\\n\\n\\n\\n\\n\\n\\n\\n\\n\\n\\n\\n\\n\\n\\n\\n\\n\\n\\n\\n\\n\\n\\n\\n\\n\\n\\n\\n\\n\\n\\n\\n\\n\\n\\n\\n\\n\\n\\n\\n\\n\\n\\n\\n\\n\\n\\n\\n\\n\\n\\n\\n\\n\\n\\n\\n\\n\\n\\n\\n\\n\\n\\n\\n\\n\\n\\n\\n\\n\\n\\n\\n\\n\\n\\n\\n\\n\\n\\n\\n\\n\\n\\n\\n\\n\\n\\n\\n\\n\\n\\n\\n\\n\\n\\n\\n\\n\\n\\n\\n\\n\\n\\n\\n\\n\\n\\n\\n\\n\\n\\n\\n\\n\\n\\n\\n\\n\\n\\n\\n\\n\\n\\n\\n\\n\\n\\n\\n\\n\\n\\n\\n\\n\\n\\n\\n\\n\\n\\n\\n\\n\\n\\n\\n\\n\\n\\n\\n\\n\\n\\n\\n\\n\\n\\n\\n\\n\\n\\n\\n\\n\\n\\n\\n\\n\\n\\n\\n\\n\\n\\n\\n\\n\\n\\n\\n\\n\\n\\n\\n\\n\\n\\n\\n\\n\\n\\n\\n\\n\\n\\n\\n\\n\\n\\n\\n\\n\\n\\n\\n\\n\\n\\n\\n\\n\\n\\n\\n\\n\\n\\n\\n\\n\\n\\n\\n\\n\\n\\n\\n\\n\\n\\n\\n\\n\\n\\n\\n\\n\\n\\n\\n\\n\\n\\n\\n\\n\\n\\n\\n\\n\\n\\n\\n\\n\\n\\n\\n\\n\\n\\n\\n\\n\\n\\n\\n\\n\\n\\n\\n\\n\\n\\n\\n\\n\\n\\n\\n\\n\\n\\n\\n\\n\\n\\n\\n\\n\\n\\n\\n\\n\\n\\n\\n\\n\\n\\n\\n\\n\\n\\n\\n\\n\\n\\n\\n\\n\\n\\n\\n\\n\\n\\n\\n\\n\\n\\n\\n\\n\\n\\n\\n\\n\\n\\n\\n\\n\\n\\n\\n\\n\\n\\n\\n\\n\\n\\n\\n\\n\\n\\n\\n\\n\\n\\n\\n\\n\\n\\n\\n\\n\\n\\n\\n\\n\\n\\n\\n\\n\\n\\n\\n\\n\\n\\n\\n\\n\\n\\n\\n\\n\\n\\n\\n\\n\\n\\n\\n\\n\\n\\n\\n\\n\\n\\n\\n\\n\\n\\n\\n\\n\\n\\n\\n\\n\\n\\n\\n\\n\\n\\n\\n\\n\\n\\n\\n\\n\\n\\n\\n\\n\\n\\n\\n\\n\\n\\n\\n\\n\\n\\n\\n\\n\\n\\n\\n\\n\\n\\n\\n\\n\\n\\n\\n\\n\\n\\n\\n\\n\\n\\n\\n\\n\\n\\n\\n\\n\\n\\n\\n\\n\\n\\n\\n\\n\\n\\n\\n\\n\\n\\n\\n\\n\\n\\n\\n\\n\\n\\n\\n\\n\\n\\n\\n\\n\\n\\n\\n\\n\\n\\n\\n\\n\\n\\n\\n\\n\\n\\n\\n\\n\\n\\n\\n\\n\\n\\n\\n\\n\\n\\n\\n\\n\\n\\n\\n\\n\\n\\n\\n\\n\\n\\n\\n\\n\\n\\n\\n\\n\\n\\n\\n\\n\\n\\n\\n\\n\\n\\n\\n\\n\\n\\n\\n\\n\\n\\n\\n\\n\\n\\n\\n\\n\\n\\n\\n\\n\\n\\n\\n\\n\\n\\n\\n\\n\\n\\n\\n\\n\\n\\n\\n\\n\\n\\n\\n\\n\\n\\n\\n\\n\\n\\n\\n\\n\\n\\n\\n\\n\\n\\n\\n\\n\\n\\n\\n\\n\\n\\n\\n\\n\\n\\n\\n\\n\\n\\n\\n\\n\\n\\n\\n\\n\\n\\n\\n\\n\\n\\n\\n\\n\\n\\n\\n\\n\\n\\n\\n\\n\\n\\n\\n\\n\\n\\n\\n\\n\\n\\n\\n\\n\\n\\n\\n\\n\\n\\n\\n\\n\\n\\n\\n\\n\\n\\n\\n\\n\\n\\n\\n\\n\\n\\n\\n\\n\\n\\n\\n\\n\\n\\n\\n\\n\\n\\n\\n\\n\\n\\n\\n\\n\\n\\n\\n\\n\\n\\n\\n\\n\\n\\n\\n\\n\\n\\n\\n\\n\\n\\n\\n\\n\\n\\n\\n\\n\\n\\n\\n\\n\\n\\n\\n\\n\\n\\n\\n\\n\\n\\n\\n\\n\\n\\n\\n\\n\\n\\n\\n\\n\\n\\n\\n\\n\\n\\n\\n\\n\\n\\n\\n\\n\\n\\n\\n\\n\\n\\n\\n\\n\\n\\n\\n\\n\\n\\n\\n\\n\\n\\n\\n\\n\\n\\n\\n\\n\\n\\n\\n\\n\\n\\n\\n\\n\\n\\n\\n\\n\\n\\n\\n\\n\\n\\n\\n\\n\\n\\n\\n\\n\\n\\n\\n\\n\\n\\n\\n\\n\\n\\n\\n\\n\\n\\n\\n\\n\\n\\n\\n\\n\\n\\n\\n\\n\\n\\n\\n\\n\\n\\n\\n\\n\\n\\n\\n\\n\\n\\n\\n\\n\\n\\n\\n\\n\\n\\n\\n\\n\\n\\n\\n\\n\\n\\n\\n\\n\\n\\n\\n\\n\\n\\n\\n\\n\\n\\n\\n\\n\\n\\n\\n\\n\\n\\n\\n\\n\\n\\n\\n\\n\\n\\n\\n\\n\\n\\n\\n\\n\\n\\n\\n\\n\\n\\n\\n\\n\\n\\n\\n\\n\\n\\n\\n\\n\\n\\n\\n\\n\\n\\n\\n\\n\\n\\n\\n\\n\\n\\n\\n\\n\\n\\n\\n\\n\\n\\n\\n\\n\\n\\n\\n\\n\\n\\n\\n\\n\\n\\n\\n\\n\\n\\n\\n\\n\\n\\n\\n\\n\\n\\n\\n\\n\\n\\n\\n\\n\\n\\n\\n\\n\\n\\n\\n\\n\\n\\n\\n\\n\\n\\n\\n\\n\\n\\n\\n\\n\\n\\n\\n\\n\\n\\n\\n\\n\\n\\n\\n\\n\\n\\n\\n\\n\\n\\n\\n\\n\\n\\n\\n\\n\\n\\n\\n\\n\\n\\n\\n\\n\\n\\n\\n\\n\\n\\n\\n\\n\\n\\n\\n\\n\\n\\n\\n\\n\\n\\n\\n\\n\\n\\n\\n\\n\\n\\n\\n\\n\\n\\n\\n\\n\\n\\n\\n\\n\\n\\n\\n\\n\\n\\n\\n\\n\\n\\n\\n\\n\\n\\n\\n\\n\\n\\n\\n\\n\\n\\n\\n\\n\\n\\n\\n\\n\\n\\n\\n\\n\\n\\n\\n\\n\\n\\n\\n\\n\\n\\n\\n\\n\\n\\n\\n\\n\\n\\n\\n\\n\\n\\n\\n\\n\\n\\n\\n\\n\\n\\n\\n\\n\\n\\n\\n\\n\\n\\n\\n\\n\\n\\n\\n\\n\\n\\n\\n\\n\\n\\n\\n\\n\\n\\n\\n\\n\\n\\n\\n\\n\\n\\n\\n\\n\\n\\n\\n\\n\\n\\n\\n\\n\\n\\n\\n\\n\\n\\n\\n\\n\\n\\n\\n\\n\\n\\n\\n\\n\\n\\n\\n\\n\\n\\n\\n\\n\\n\\n\\n\\n\\n\\n\\n\\n\\n\\n\\n\\n\\n\\n\\n\\n\\n\\n\\n\\n\\n\\n\\n\\n\\n\\n\\n\\n\\n\\n\\n\\n\\n\\n\\n\\n\\n\\n\\n\\n\\n\\n\\n\\n\\n\\n\\n\\n\\n\\n\\n\\n\\n\\n\\n\\n\\n\\n\\n\\n\\n\\n\\n\\n\\n\\n\\n\\n\\n\\n\\n\\n\\n\\n\\n\\n\\n\\n\\n\\n\\n\\n\\n\\n\\n\\n\\n\\n\\n\\n\\n\\n\\n\\n\\n\\n\\n\\n\\n\\n\\n\\n\\n\\n\\n\\n\\n\\n\\n\\n\\n\\n\\n\\n\\n\\n\\n\\n\\n\\n\\n\\n\\n\\n\\n\\n\\n\\n\\n\\n\\n\\n\\n\\n\\n\\n\\n\\n\\n\\n\\n\\n\\n\\n\\n\\n\\n\\n\\n\\n\\n\\n\\n\\n\\n\\n\\n\\n\\n\\n\\n\\n\\n\\n\\n\\n\\n\\n\\n\\n\\n\\n\\n\\n\\n\\n\\n\\n\\n\\n\\n\\n\\n\\n\\n\\n\\n\\n\\n\\n\\n\\n\\n\\n\\n\\n\\n\\n\\n\\n\\n\\n\\n\\n\\n\\n\\n\\n\\n\\n\\n\\n\\n\\n\\n\\n\\n\\n\\n\\n\\n\\n\\n\\n\\n\\n\\n\\n\\n\\n\\n\\n\\n\\n\\n\\n\\n\\n\\n\\n\\n\\n\\n\\n\\n\\n\\n\\n\\n\\n\\n\\n\\n\\n\\n\\n\\n\\n\\n\\n\\n\\n\\n\\n\\n\\n\\n\\n\\n\\n\\n\\n\\n\\n\\n\\n\\n\\n\\n\\n\\n\\n\\n\\n\\n\\n\\n\\n\\n\\n\\n\\n\\n\\n\\n\\n\\n\\n\\n\\n\\n\\n\\n\\n\\n\\n\\n\\n\\n\\n\\n\\n\\n\\n\\n\\n\\n\\n\\n\\n\\n\\n\\n\\n\\n\\n\\n\\n\\n\\n\\n\\n\\n\\n\\n\\n\\n\\n\\n\\n\\n\\n\\n\\n\\n\\n\\n\\n\\n\\n\\n\\n\\n\\n\\n\\n\\n\\n\\n\\n\\n\\n\\n\\n\\n\\n\\n\\n\\n\\n\\n\\n\\n\\n\\n\\n\\n\\n\\n\\n\\n\\n\\n\\n\\n\\n\\n\\n\\n\\n\\n\\n\\n\\n\\n\\n\\n\\n\\n\\n\\n\\n\\n\\n\\n\\n\\n\\n\\n\\n\\n\\n\\n\\n\\n\\n\\n\\n\\n\\n\\n\\n\\n\\n\\n\\n\\n\\n\\n\\n\\n\\n\\n\\n\\n\\n\\n\\n\\n\\n\\n\\n\\n\\n\\n\\n\\n\\n\\n\\n\\n\\n\\n\\n\\n\\n\\n\\n\\n\\n\\n\\n\\n\\n\\n\\n\\n\\n\\n\\n\\n\\n\\n\\n\\n\\n\\n\\n\\n\\n\\n\\n\\n\\n\\n\\n\\n\\n\\n\\n\\n\\n\\n\\n\\n\\n\\n\\n\\n\\n\\n\\n\\n\\n\\n\\n\\n\\n\\n\\n\\n\\n\\n\\n\\n\\n\\n\\n\\n\\n\\n\\n\\n\\n\\n\\n\\n\\n\\n\\n\\n\\n\\n\\n\\n\\n\\n\\n\\n\\n\\n\\n\\n\\n\\n\\n\\n\\n\\n\\n\\n\\n\\n\\n\\n\\n\\n\\n\\n\\n\\n\\n\\n\\n\\n\\n\\n\\n\\n\\n\\n\\n\\n\\n\\n\\n\\n\\n\\n\\n\\n\\n\\n\\n\\n\\n\\n\\n\\n\\n\\n\\n\\n\\n\\n\\n\\n\\n\\n\\n\\n\\n\\n\\n\\n\\n\\n\\n\\n\\n\\n\\n\\n\\n\\n\\n\\n\\n\\n\\n\\n\\n\\n\\n\\n\\n\\n\\n\\n\\n\\n\\n\\n\\n\\n\\n\\n\\n\\n\\n\\n\\n\\n\\n\\n\\n\\n\\n\\n\\n\\n\\n\\n\\n\\n\\n\\n\\n\\n\\n\\n\\n\\n\\n\\n\\n\\n\\n\\n\\n\\n\\n\\n\\n\\n\\n\\n\\n\\n\\n\\n\\n\\n\\n\\n\\n\\n\\n\\n\\n\\n\\n\\n\\n\\n\\n\\n\\n\\n\\n\\n\\n\\n\\n\\n\\n\\n\\n\\n\\n\\n\\n\\n\\n\\n\\n\\n\\n\\n\\n\\n\\n\\n\\n\\n\\n\\n\\n\\n\\n\\n\\n\\n\\n\\n\\n\\n\\n\\n\\n\\n\\n\\n\\n\\n\\n\\n\\n\\n\\n\\n\\n\\n\\n\\n\\n\\n\\n\\n\\n\\n\\n\\n\\n\\n\\n\\n\\n\\n\\n\\n\\n\\n\\n\\n\\n\\n\\n\\n\\n\\n\\n\\n\\n\\n\\n\\n\\n\\n\\n\\n\\n\\n\\n\\n\\n\\n\\n\\n\\n\\n\\n\\n\\n\\n\\n\\n\\n\\n\\n\\n\\n\\n\\n\\n\\n\\n\\n\\n\\n\\n\\n\\n\\n\\n\\n\\n\\n\\n\\n\\n\\n\\n\\n\\n\\n\\n\\n\\n\\n\\n\\n\\n\\n\\n\\n\\n\\n\\n\\n\\n\\n\\n\\n\\n\\n\\n\\n\\n\\n\\n\\n\\n\\n\\n\\n\\n\\n\\n\\n\\n\\n\\n\\n\\n\\n\\n\\n\\n\\n\\n\\n\\n\\n\\n\\n\\n\\n\\n\\n\\n\\n\\n\\n\\n\\n\\n\\n\\n\\n\\n\\n\\n\\n\\n\\n\\n\\n\\n\\n\\n\\n\\n\\n\\n\\n\\n\\n\\n\\n\\n\\n\\n\\n\\n\\n\\n\\n\\n\\n\\n\\n\\n\\n\\n\\n\\n\\n\\n\\n\\n\\n\\n\\n\\n\\n\\n\\n\\n\\n\\n\\n\\n\\n\\n\\n\\n\\n\\n\\n\\n\\n\\n\\n\\n\\n\\n\\n\\n\\n\\n\\n\\n\\n\\n\\n\\n\\n\\n\\n\\n\\n\\n\\n\\n\\n\\n\\n\\n\\n\\n\\n\\n\\n\\n\\n\\n\\n\\n\\n\\n\\n\\n\\n\\n\\n\\n\\n\\n\\n\\n\\n\\n\\n\\n\\n\\n\\n\\n\\n\\n\\n\\n\\n\\n\\n\\n\\n\\n\\n\\n\\n\\n\\n\\n\\n\\n\\n\\n\\n\\n\\n\\n\\n\\n\\n\\n\\n\\n\\n\\n\\n\\n\\n\\n\\n\\n\\n\\n\\n\\n\\n\\n\\n\\n\\n\\n\\n\\n\\n\\n\\n\\n\\n\\n\\n\\n\\n\\n\\n\\n\\n\\n\\n\\n\\n\\n\\n\\n\\n\\n\\n\\n\\n\\n\\n\\n\\n\\n\\n\\n\\n\\n\\n\\n\\n\\n\\n\\n\\n\\n\\n\\n\\n\\n\\n\\n\\n\\n\\n\\n\\n\\n\\n\\n\\n\\n\\n\\n\\n\\n\\n\\n\\n\\n\\n\\n\\n\\n\\n\\n\\n\\n\\n\\n\\n\\n\\n\\n\\n\\n\\n\\n\\n\\n\\n\\n\\n\\n\\n\\n\\n\\n\\n\\n\\n\\n\\n\\n\\n\\n\\n\\n\\n\\n\\n\\n\\n\\n\\n\\n\\n\\n\\n\\n\\n\\n\\n\\n\\n\\n\\n\\n\\n\\n\\n\\n\\n\\n\\n\\n\\n\\n\\n\\n\\n\\n\\n\\n\\n\\n\\n\\n\\n\\n\\n\\n\\n\\n\\n\\n\\n\\n\\n\\n\\n\\n\\n\\n\\n\\n\\n\\n\\n\\n\\n\\n\\n\\n\\n\\n\\n\\n\\n\\n\\n\\n\\n\\n\\n\\n\\n\\n\\n\\n\\n\\n\\n\\n\\n\\n\\n\\n\\n\\n\\n\\n\\n\\n\\n\\n\\n\\n\\n\\n\\n\\n\\n\\n\\n\\n\\n\\n\\n\\n\\n\\n\\n\\n\\n\\n\\n\\n\\n\\n\\n\\n\\n\\n\\n\\n\\n\\n\\n\\n\\n\\n\\n\\n\\n\\n\\n\\n\\n\\n\\n\\n\\n\\n\\n\\n\\n\\n\\n\\n\\n\\n\\n\\n\\n\\n\\n\\n\\n\\n\\n\\n\\n\\n\\n\\n\\n\\n\\n\\n\\n\\n\\n\\n\\n\\n\\n\\n\\n\\n\\n\\n\\n\\n\\n\\n\\n\\n\\n\\n\\n\\n\\n\\n\\n\\n\\n\\n\\n\\n\\n\\n\\n\\n\\n\\n\\n\\n\\n\\n\\n\\n\\n\\n\\n\\n\\n\\n\\n\\n\\n\\n\\n\\n\\n\\n\\n\\n\\n\\n\\n\\n\\n\\n\\n\\n\\n\\n\\n\\n\\n\\n\\n\\n\\n\\n\\n\\n\\n\\n\\n\\n\\n\\n\\n\\n\\n\\n\\n\\n\\n\\n\\n\\n\\n\\n\\n\\n\\n\\n\\n\\n\\n\\n\\n\\n\\n\\n\\n\\n\\n\\n\\n\\n\\n\\n\\n\\n\\n\\n\\n\\n\\n\\n\\n\\n\\n\\n\\n\\n\\n\\n\\n\\n\\n\\n\\n\\n\\n\\n\\n\\n\\n\\n\\n\\n\\n\\n\\n\\n\\n\\n\\n\\n\\n\\n\\n\\n\\n\\n\\n\\n\\n\\n\\n\\n\\n\\n\\n\\n\\n\\n\\n\\n\\n\\n\\n\\n\\n\\n\\n\\n\\n\\n\\n\\n\\n\\n\\n\\n\\n\\n\\n\\n\\n\\n\\n\\n\\n\\n\\n\\n\\n\\n\\n\\n\\n\\n\\n\\n\\n\\n\\n\\n\\n\\n\\n\\n\\n\\n\\n\\n\\n\\n\\n\\n\\n\\n\\n\\n\\n\\n\\n\\n\\n\\n\\n\\n\\n\\n\\n\\n\\n\\n\\n\\n\\n\\n\\n\\n\\n\\n\\n\\n\\n\\n\\n\\n\\n\\n\\n\\n\\n\\n\\n\\n\\n\\n\\n\\n\\n\\n\\n\\n\\n\\n\\n\\n\\n\\n\\n\\n\\n\\n\\n\\n\\n\\n\\n\\n\\n\\n\\n\\n\\n\\n', StringSignature(question -> reasoning, rewritten_query\n",
      "    instructions='Rewrite the vague user question into a more specific search query.'\n",
      "    question = Field(annotation=str required=True json_schema_extra={'__dspy_field_type': 'input', 'prefix': 'Question:', 'desc': '${question}'})\n",
      "    reasoning = Field(annotation=str required=True json_schema_extra={'prefix': \"Reasoning: Let's think step by step in order to\", 'desc': '${reasoning}', '__dspy_field_type': 'output'})\n",
      "    rewritten_query = Field(annotation=str required=True json_schema_extra={'__dspy_field_type': 'output', 'prefix': 'Rewritten Query:', 'desc': '${rewritten_query}'})\n",
      "), {'question': 'summarize the key findings of the paper \"Red teaming language models with language models\" by Ethan Perez et al.'}, 0, 2). Set `provide_traceback=True` for traceback.\n"
     ]
    },
    {
     "name": "stdout",
     "output_type": "stream",
     "text": [
      "Average Metric: 13.00 / 49 (26.5%): 100%|██████████| 50/50 [01:10<00:00,  1.40s/it]"
     ]
    },
    {
     "name": "stderr",
     "output_type": "stream",
     "text": [
      "2025/05/07 19:53:25 INFO dspy.evaluate.evaluate: Average Metric: 13.0 / 50 (26.0%)\n",
      "2025/05/07 19:53:25 INFO dspy.teleprompt.grpo: Student program validation set score after training step 70/100: 26.0\n",
      "2025/05/07 19:53:25 INFO dspy.teleprompt.grpo: GRPO training step 71/100...\n",
      "2025/05/07 19:53:25 INFO dspy.teleprompt.grpo: Bootstrapping data...\n"
     ]
    },
    {
     "name": "stdout",
     "output_type": "stream",
     "text": [
      "\n",
      "Average Metric: 5.00 / 32 (15.6%): 100%|██████████| 32/32 [00:42<00:00,  1.34s/it]"
     ]
    },
    {
     "name": "stderr",
     "output_type": "stream",
     "text": [
      "2025/05/07 19:54:08 INFO dspy.evaluate.evaluate: Average Metric: 5.0 / 32 (15.6%)\n",
      "2025/05/07 19:54:08 INFO dspy.teleprompt.grpo: Preparing the training data batch from bootstrapped examples for GRPO...\n",
      "2025/05/07 19:54:08 INFO dspy.teleprompt.grpo: Invoking GRPO training step...\n"
     ]
    },
    {
     "name": "stdout",
     "output_type": "stream",
     "text": [
      "\n"
     ]
    },
    {
     "name": "stderr",
     "output_type": "stream",
     "text": [
      "2025/05/07 19:54:08 INFO dspy.teleprompt.grpo: GRPO training step 71/100 completed.\n",
      "2025/05/07 19:54:08 INFO dspy.teleprompt.grpo: GRPO training step 72/100...\n",
      "2025/05/07 19:54:08 INFO dspy.teleprompt.grpo: Bootstrapping data...\n"
     ]
    },
    {
     "name": "stdout",
     "output_type": "stream",
     "text": [
      "Average Metric: 8.00 / 32 (25.0%): 100%|██████████| 32/32 [00:43<00:00,  1.35s/it]"
     ]
    },
    {
     "name": "stderr",
     "output_type": "stream",
     "text": [
      "2025/05/07 19:54:52 INFO dspy.evaluate.evaluate: Average Metric: 8.0 / 32 (25.0%)\n",
      "2025/05/07 19:54:52 INFO dspy.teleprompt.grpo: Preparing the training data batch from bootstrapped examples for GRPO...\n",
      "2025/05/07 19:54:52 INFO dspy.teleprompt.grpo: Invoking GRPO training step...\n"
     ]
    },
    {
     "name": "stdout",
     "output_type": "stream",
     "text": [
      "\n"
     ]
    },
    {
     "name": "stderr",
     "output_type": "stream",
     "text": [
      "2025/05/07 19:54:52 INFO dspy.teleprompt.grpo: Current train step is 72. Updating the model...\n",
      "2025/05/07 19:56:22 INFO dspy.teleprompt.grpo: GRPO training step 72/100 completed.\n",
      "2025/05/07 19:56:22 INFO dspy.teleprompt.grpo: GRPO training step 73/100...\n",
      "2025/05/07 19:56:22 INFO dspy.teleprompt.grpo: Bootstrapping data...\n"
     ]
    },
    {
     "name": "stdout",
     "output_type": "stream",
     "text": [
      "Average Metric: 5.00 / 32 (15.6%): 100%|██████████| 32/32 [00:31<00:00,  1.01it/s]"
     ]
    },
    {
     "name": "stderr",
     "output_type": "stream",
     "text": [
      "2025/05/07 19:56:54 INFO dspy.evaluate.evaluate: Average Metric: 5.0 / 32 (15.6%)\n",
      "2025/05/07 19:56:54 INFO dspy.teleprompt.grpo: Preparing the training data batch from bootstrapped examples for GRPO...\n",
      "2025/05/07 19:56:54 INFO dspy.teleprompt.grpo: Invoking GRPO training step...\n"
     ]
    },
    {
     "name": "stdout",
     "output_type": "stream",
     "text": [
      "\n"
     ]
    },
    {
     "name": "stderr",
     "output_type": "stream",
     "text": [
      "2025/05/07 19:56:54 INFO dspy.teleprompt.grpo: GRPO training step 73/100 completed.\n",
      "2025/05/07 19:56:54 INFO dspy.teleprompt.grpo: GRPO training step 74/100...\n",
      "2025/05/07 19:56:54 INFO dspy.teleprompt.grpo: Bootstrapping data...\n"
     ]
    },
    {
     "name": "stdout",
     "output_type": "stream",
     "text": [
      "Average Metric: 11.00 / 32 (34.4%): 100%|██████████| 32/32 [00:52<00:00,  1.66s/it]"
     ]
    },
    {
     "name": "stderr",
     "output_type": "stream",
     "text": [
      "2025/05/07 19:57:47 INFO dspy.evaluate.evaluate: Average Metric: 11.0 / 32 (34.4%)\n",
      "2025/05/07 19:57:47 INFO dspy.teleprompt.grpo: Preparing the training data batch from bootstrapped examples for GRPO...\n",
      "2025/05/07 19:57:47 INFO dspy.teleprompt.grpo: Invoking GRPO training step...\n"
     ]
    },
    {
     "name": "stdout",
     "output_type": "stream",
     "text": [
      "\n"
     ]
    },
    {
     "name": "stderr",
     "output_type": "stream",
     "text": [
      "2025/05/07 19:57:48 INFO dspy.teleprompt.grpo: GRPO training step 74/100 completed.\n",
      "2025/05/07 19:57:48 INFO dspy.teleprompt.grpo: GRPO training step 75/100...\n",
      "2025/05/07 19:57:48 INFO dspy.teleprompt.grpo: Bootstrapping data...\n"
     ]
    },
    {
     "name": "stdout",
     "output_type": "stream",
     "text": [
      "Average Metric: 2.00 / 6 (33.3%):  16%|█▌        | 5/32 [00:03<00:24,  1.09it/s]"
     ]
    },
    {
     "name": "stderr",
     "output_type": "stream",
     "text": [
      "2025/05/07 19:57:58 WARNING dspy.adapters.json_adapter: Failed to use structured output format. Falling back to JSON mode. Error: 'type' object is not iterable\n"
     ]
    },
    {
     "name": "stdout",
     "output_type": "stream",
     "text": [
      "Average Metric: 6.00 / 32 (18.8%): 100%|██████████| 32/32 [00:37<00:00,  1.16s/it]"
     ]
    },
    {
     "name": "stderr",
     "output_type": "stream",
     "text": [
      "2025/05/07 19:58:25 INFO dspy.evaluate.evaluate: Average Metric: 6.0 / 32 (18.8%)\n",
      "2025/05/07 19:58:25 INFO dspy.teleprompt.grpo: Preparing the training data batch from bootstrapped examples for GRPO...\n",
      "2025/05/07 19:58:25 WARNING dspy.teleprompt.grpo: Adding a format failure example to the training data for predictor 0 and example 0.\n",
      "2025/05/07 19:58:25 INFO dspy.teleprompt.grpo: Invoking GRPO training step...\n"
     ]
    },
    {
     "name": "stdout",
     "output_type": "stream",
     "text": [
      "\n"
     ]
    },
    {
     "name": "stderr",
     "output_type": "stream",
     "text": [
      "2025/05/07 19:58:25 INFO dspy.teleprompt.grpo: Current train step is 75. Updating the model...\n",
      "2025/05/07 19:59:56 INFO dspy.teleprompt.grpo: GRPO training step 75/100 completed.\n",
      "2025/05/07 19:59:56 INFO dspy.teleprompt.grpo: GRPO training step 76/100...\n",
      "2025/05/07 19:59:56 INFO dspy.teleprompt.grpo: Bootstrapping data...\n"
     ]
    },
    {
     "name": "stdout",
     "output_type": "stream",
     "text": [
      "Average Metric: 8.00 / 32 (25.0%): 100%|██████████| 32/32 [00:55<00:00,  1.72s/it]"
     ]
    },
    {
     "name": "stderr",
     "output_type": "stream",
     "text": [
      "2025/05/07 20:00:51 INFO dspy.evaluate.evaluate: Average Metric: 8.0 / 32 (25.0%)\n",
      "2025/05/07 20:00:51 INFO dspy.teleprompt.grpo: Preparing the training data batch from bootstrapped examples for GRPO...\n",
      "2025/05/07 20:00:51 INFO dspy.teleprompt.grpo: Invoking GRPO training step...\n"
     ]
    },
    {
     "name": "stdout",
     "output_type": "stream",
     "text": [
      "\n"
     ]
    },
    {
     "name": "stderr",
     "output_type": "stream",
     "text": [
      "2025/05/07 20:00:51 INFO dspy.teleprompt.grpo: GRPO training step 76/100 completed.\n",
      "2025/05/07 20:00:51 INFO dspy.teleprompt.grpo: GRPO training step 77/100...\n",
      "2025/05/07 20:00:51 INFO dspy.teleprompt.grpo: Bootstrapping data...\n"
     ]
    },
    {
     "name": "stdout",
     "output_type": "stream",
     "text": [
      "Average Metric: 0.00 / 32 (0.0%): 100%|██████████| 32/32 [00:33<00:00,  1.05s/it]"
     ]
    },
    {
     "name": "stderr",
     "output_type": "stream",
     "text": [
      "2025/05/07 20:01:25 INFO dspy.evaluate.evaluate: Average Metric: 0.0 / 32 (0.0%)\n",
      "2025/05/07 20:01:25 INFO dspy.teleprompt.grpo: Preparing the training data batch from bootstrapped examples for GRPO...\n",
      "2025/05/07 20:01:25 INFO dspy.teleprompt.grpo: Invoking GRPO training step...\n"
     ]
    },
    {
     "name": "stdout",
     "output_type": "stream",
     "text": [
      "\n"
     ]
    },
    {
     "name": "stderr",
     "output_type": "stream",
     "text": [
      "2025/05/07 20:01:25 INFO dspy.teleprompt.grpo: GRPO training step 77/100 completed.\n",
      "2025/05/07 20:01:25 INFO dspy.teleprompt.grpo: GRPO training step 78/100...\n",
      "2025/05/07 20:01:25 INFO dspy.teleprompt.grpo: Bootstrapping data...\n"
     ]
    },
    {
     "name": "stdout",
     "output_type": "stream",
     "text": [
      "Average Metric: 0.00 / 32 (0.0%): 100%|██████████| 32/32 [00:29<00:00,  1.07it/s]"
     ]
    },
    {
     "name": "stderr",
     "output_type": "stream",
     "text": [
      "2025/05/07 20:01:55 INFO dspy.evaluate.evaluate: Average Metric: 0.0 / 32 (0.0%)\n",
      "2025/05/07 20:01:55 INFO dspy.teleprompt.grpo: Preparing the training data batch from bootstrapped examples for GRPO...\n",
      "2025/05/07 20:01:55 INFO dspy.teleprompt.grpo: Invoking GRPO training step...\n"
     ]
    },
    {
     "name": "stdout",
     "output_type": "stream",
     "text": [
      "\n"
     ]
    },
    {
     "name": "stderr",
     "output_type": "stream",
     "text": [
      "2025/05/07 20:01:56 INFO dspy.teleprompt.grpo: Current train step is 78. Updating the model...\n",
      "2025/05/07 20:03:31 INFO dspy.teleprompt.grpo: GRPO training step 78/100 completed.\n",
      "2025/05/07 20:03:31 INFO dspy.teleprompt.grpo: GRPO training step 79/100...\n",
      "2025/05/07 20:03:31 INFO dspy.teleprompt.grpo: Updating shuffled trainset for epoch 3...\n",
      "2025/05/07 20:03:31 INFO dspy.teleprompt.grpo: Bootstrapping data...\n"
     ]
    },
    {
     "name": "stdout",
     "output_type": "stream",
     "text": [
      "Average Metric: 8.00 / 32 (25.0%): 100%|██████████| 32/32 [01:01<00:00,  1.91s/it]"
     ]
    },
    {
     "name": "stderr",
     "output_type": "stream",
     "text": [
      "2025/05/07 20:04:32 INFO dspy.evaluate.evaluate: Average Metric: 8.0 / 32 (25.0%)\n",
      "2025/05/07 20:04:32 INFO dspy.teleprompt.grpo: Preparing the training data batch from bootstrapped examples for GRPO...\n",
      "2025/05/07 20:04:32 INFO dspy.teleprompt.grpo: Invoking GRPO training step...\n"
     ]
    },
    {
     "name": "stdout",
     "output_type": "stream",
     "text": [
      "\n"
     ]
    },
    {
     "name": "stderr",
     "output_type": "stream",
     "text": [
      "2025/05/07 20:04:33 INFO dspy.teleprompt.grpo: GRPO training step 79/100 completed.\n",
      "2025/05/07 20:04:33 INFO dspy.teleprompt.grpo: GRPO training step 80/100...\n",
      "2025/05/07 20:04:33 INFO dspy.teleprompt.grpo: Bootstrapping data...\n"
     ]
    },
    {
     "name": "stdout",
     "output_type": "stream",
     "text": [
      "Average Metric: 2.00 / 32 (6.2%): 100%|██████████| 32/32 [00:46<00:00,  1.45s/it] "
     ]
    },
    {
     "name": "stderr",
     "output_type": "stream",
     "text": [
      "2025/05/07 20:05:19 INFO dspy.evaluate.evaluate: Average Metric: 2.0 / 32 (6.2%)\n",
      "2025/05/07 20:05:19 INFO dspy.teleprompt.grpo: Preparing the training data batch from bootstrapped examples for GRPO...\n",
      "2025/05/07 20:05:19 INFO dspy.teleprompt.grpo: Invoking GRPO training step...\n"
     ]
    },
    {
     "name": "stdout",
     "output_type": "stream",
     "text": [
      "\n"
     ]
    },
    {
     "name": "stderr",
     "output_type": "stream",
     "text": [
      "2025/05/07 20:05:19 INFO dspy.teleprompt.grpo: GRPO training step 80/100 completed.\n",
      "2025/05/07 20:05:19 INFO dspy.teleprompt.grpo: Evaluating the student program on the validation set after training step 80/100\n"
     ]
    },
    {
     "name": "stdout",
     "output_type": "stream",
     "text": [
      "Average Metric: 12.00 / 50 (24.0%): 100%|██████████| 50/50 [01:24<00:00,  1.70s/it]"
     ]
    },
    {
     "name": "stderr",
     "output_type": "stream",
     "text": [
      "2025/05/07 20:06:44 INFO dspy.evaluate.evaluate: Average Metric: 12.0 / 50 (24.0%)\n",
      "2025/05/07 20:06:44 INFO dspy.teleprompt.grpo: Student program validation set score after training step 80/100: 24.0\n",
      "2025/05/07 20:06:44 INFO dspy.teleprompt.grpo: GRPO training step 81/100...\n",
      "2025/05/07 20:06:44 INFO dspy.teleprompt.grpo: Bootstrapping data...\n"
     ]
    },
    {
     "name": "stdout",
     "output_type": "stream",
     "text": [
      "\n",
      "Average Metric: 13.00 / 32 (40.6%): 100%|██████████| 32/32 [01:03<00:00,  1.99s/it]"
     ]
    },
    {
     "name": "stderr",
     "output_type": "stream",
     "text": [
      "2025/05/07 20:07:48 INFO dspy.evaluate.evaluate: Average Metric: 13.0 / 32 (40.6%)\n",
      "2025/05/07 20:07:48 INFO dspy.teleprompt.grpo: Preparing the training data batch from bootstrapped examples for GRPO...\n",
      "2025/05/07 20:07:48 INFO dspy.teleprompt.grpo: Invoking GRPO training step...\n"
     ]
    },
    {
     "name": "stdout",
     "output_type": "stream",
     "text": [
      "\n"
     ]
    },
    {
     "name": "stderr",
     "output_type": "stream",
     "text": [
      "2025/05/07 20:07:49 INFO dspy.teleprompt.grpo: Current train step is 81. Updating the model...\n",
      "2025/05/07 20:09:24 INFO dspy.teleprompt.grpo: GRPO training step 81/100 completed.\n",
      "2025/05/07 20:09:24 INFO dspy.teleprompt.grpo: GRPO training step 82/100...\n",
      "2025/05/07 20:09:24 INFO dspy.teleprompt.grpo: Bootstrapping data...\n"
     ]
    },
    {
     "name": "stdout",
     "output_type": "stream",
     "text": [
      "Average Metric: 3.00 / 32 (9.4%): 100%|██████████| 32/32 [00:50<00:00,  1.57s/it] "
     ]
    },
    {
     "name": "stderr",
     "output_type": "stream",
     "text": [
      "2025/05/07 20:10:14 INFO dspy.evaluate.evaluate: Average Metric: 3.0 / 32 (9.4%)\n",
      "2025/05/07 20:10:14 INFO dspy.teleprompt.grpo: Preparing the training data batch from bootstrapped examples for GRPO...\n",
      "2025/05/07 20:10:14 INFO dspy.teleprompt.grpo: Invoking GRPO training step...\n"
     ]
    },
    {
     "name": "stdout",
     "output_type": "stream",
     "text": [
      "\n"
     ]
    },
    {
     "name": "stderr",
     "output_type": "stream",
     "text": [
      "2025/05/07 20:10:15 INFO dspy.teleprompt.grpo: GRPO training step 82/100 completed.\n",
      "2025/05/07 20:10:15 INFO dspy.teleprompt.grpo: GRPO training step 83/100...\n",
      "2025/05/07 20:10:15 INFO dspy.teleprompt.grpo: Bootstrapping data...\n"
     ]
    },
    {
     "name": "stdout",
     "output_type": "stream",
     "text": [
      "Average Metric: 8.00 / 28 (28.6%):  88%|████████▊ | 28/32 [00:36<00:03,  1.13it/s]"
     ]
    },
    {
     "name": "stderr",
     "output_type": "stream",
     "text": [
      "2025/05/07 20:10:56 WARNING dspy.adapters.json_adapter: Failed to use structured output format. Falling back to JSON mode. Error: 'type' object is not iterable\n"
     ]
    },
    {
     "name": "stdout",
     "output_type": "stream",
     "text": [
      "Average Metric: 8.00 / 32 (25.0%): 100%|██████████| 32/32 [00:46<00:00,  1.46s/it]"
     ]
    },
    {
     "name": "stderr",
     "output_type": "stream",
     "text": [
      "2025/05/07 20:11:01 INFO dspy.evaluate.evaluate: Average Metric: 8.0 / 32 (25.0%)\n",
      "2025/05/07 20:11:01 INFO dspy.teleprompt.grpo: Preparing the training data batch from bootstrapped examples for GRPO...\n",
      "2025/05/07 20:11:01 INFO dspy.teleprompt.grpo: Invoking GRPO training step...\n"
     ]
    },
    {
     "name": "stdout",
     "output_type": "stream",
     "text": [
      "\n"
     ]
    },
    {
     "name": "stderr",
     "output_type": "stream",
     "text": [
      "2025/05/07 20:11:02 INFO dspy.teleprompt.grpo: GRPO training step 83/100 completed.\n",
      "2025/05/07 20:11:02 INFO dspy.teleprompt.grpo: GRPO training step 84/100...\n",
      "2025/05/07 20:11:02 INFO dspy.teleprompt.grpo: Bootstrapping data...\n"
     ]
    },
    {
     "name": "stdout",
     "output_type": "stream",
     "text": [
      "Average Metric: 16.00 / 32 (50.0%): 100%|██████████| 32/32 [00:34<00:00,  1.08s/it]"
     ]
    },
    {
     "name": "stderr",
     "output_type": "stream",
     "text": [
      "2025/05/07 20:11:36 INFO dspy.evaluate.evaluate: Average Metric: 16.0 / 32 (50.0%)\n",
      "2025/05/07 20:11:36 INFO dspy.teleprompt.grpo: Preparing the training data batch from bootstrapped examples for GRPO...\n",
      "2025/05/07 20:11:36 INFO dspy.teleprompt.grpo: Invoking GRPO training step...\n"
     ]
    },
    {
     "name": "stdout",
     "output_type": "stream",
     "text": [
      "\n"
     ]
    },
    {
     "name": "stderr",
     "output_type": "stream",
     "text": [
      "2025/05/07 20:11:37 INFO dspy.teleprompt.grpo: Current train step is 84. Updating the model...\n",
      "2025/05/07 20:13:07 INFO dspy.teleprompt.grpo: GRPO training step 84/100 completed.\n",
      "2025/05/07 20:13:07 INFO dspy.teleprompt.grpo: GRPO training step 85/100...\n",
      "2025/05/07 20:13:07 INFO dspy.teleprompt.grpo: Bootstrapping data...\n"
     ]
    },
    {
     "name": "stdout",
     "output_type": "stream",
     "text": [
      "Average Metric: 0.00 / 32 (0.0%): 100%|██████████| 32/32 [00:49<00:00,  1.55s/it]"
     ]
    },
    {
     "name": "stderr",
     "output_type": "stream",
     "text": [
      "2025/05/07 20:13:57 INFO dspy.evaluate.evaluate: Average Metric: 0.0 / 32 (0.0%)\n",
      "2025/05/07 20:13:57 INFO dspy.teleprompt.grpo: Preparing the training data batch from bootstrapped examples for GRPO...\n",
      "2025/05/07 20:13:57 INFO dspy.teleprompt.grpo: Invoking GRPO training step...\n"
     ]
    },
    {
     "name": "stdout",
     "output_type": "stream",
     "text": [
      "\n"
     ]
    },
    {
     "name": "stderr",
     "output_type": "stream",
     "text": [
      "2025/05/07 20:13:58 INFO dspy.teleprompt.grpo: GRPO training step 85/100 completed.\n",
      "2025/05/07 20:13:58 INFO dspy.teleprompt.grpo: GRPO training step 86/100...\n",
      "2025/05/07 20:13:58 INFO dspy.teleprompt.grpo: Bootstrapping data...\n"
     ]
    },
    {
     "name": "stdout",
     "output_type": "stream",
     "text": [
      "Average Metric: 0.00 / 32 (0.0%): 100%|██████████| 32/32 [00:39<00:00,  1.23s/it]"
     ]
    },
    {
     "name": "stderr",
     "output_type": "stream",
     "text": [
      "2025/05/07 20:14:37 INFO dspy.evaluate.evaluate: Average Metric: 0.0 / 32 (0.0%)\n",
      "2025/05/07 20:14:37 INFO dspy.teleprompt.grpo: Preparing the training data batch from bootstrapped examples for GRPO...\n",
      "2025/05/07 20:14:37 INFO dspy.teleprompt.grpo: Invoking GRPO training step...\n"
     ]
    },
    {
     "name": "stdout",
     "output_type": "stream",
     "text": [
      "\n"
     ]
    },
    {
     "name": "stderr",
     "output_type": "stream",
     "text": [
      "2025/05/07 20:14:37 INFO dspy.teleprompt.grpo: GRPO training step 86/100 completed.\n",
      "2025/05/07 20:14:37 INFO dspy.teleprompt.grpo: GRPO training step 87/100...\n",
      "2025/05/07 20:14:37 INFO dspy.teleprompt.grpo: Bootstrapping data...\n"
     ]
    },
    {
     "name": "stdout",
     "output_type": "stream",
     "text": [
      "Average Metric: 16.00 / 32 (50.0%): 100%|██████████| 32/32 [00:31<00:00,  1.01it/s]"
     ]
    },
    {
     "name": "stderr",
     "output_type": "stream",
     "text": [
      "2025/05/07 20:15:09 INFO dspy.evaluate.evaluate: Average Metric: 16.0 / 32 (50.0%)\n",
      "2025/05/07 20:15:09 INFO dspy.teleprompt.grpo: Preparing the training data batch from bootstrapped examples for GRPO...\n",
      "2025/05/07 20:15:09 INFO dspy.teleprompt.grpo: Invoking GRPO training step...\n"
     ]
    },
    {
     "name": "stdout",
     "output_type": "stream",
     "text": [
      "\n"
     ]
    },
    {
     "name": "stderr",
     "output_type": "stream",
     "text": [
      "2025/05/07 20:15:10 INFO dspy.teleprompt.grpo: Current train step is 87. Updating the model...\n",
      "2025/05/07 20:16:40 INFO dspy.teleprompt.grpo: GRPO training step 87/100 completed.\n",
      "2025/05/07 20:16:40 INFO dspy.teleprompt.grpo: GRPO training step 88/100...\n",
      "2025/05/07 20:16:40 INFO dspy.teleprompt.grpo: Bootstrapping data...\n"
     ]
    },
    {
     "name": "stdout",
     "output_type": "stream",
     "text": [
      "Average Metric: 16.00 / 32 (50.0%): 100%|██████████| 32/32 [00:25<00:00,  1.23it/s]"
     ]
    },
    {
     "name": "stderr",
     "output_type": "stream",
     "text": [
      "2025/05/07 20:17:06 INFO dspy.evaluate.evaluate: Average Metric: 16.0 / 32 (50.0%)\n",
      "2025/05/07 20:17:06 INFO dspy.teleprompt.grpo: Preparing the training data batch from bootstrapped examples for GRPO...\n",
      "2025/05/07 20:17:06 INFO dspy.teleprompt.grpo: Invoking GRPO training step...\n"
     ]
    },
    {
     "name": "stdout",
     "output_type": "stream",
     "text": [
      "\n"
     ]
    },
    {
     "name": "stderr",
     "output_type": "stream",
     "text": [
      "2025/05/07 20:17:06 INFO dspy.teleprompt.grpo: GRPO training step 88/100 completed.\n",
      "2025/05/07 20:17:06 INFO dspy.teleprompt.grpo: GRPO training step 89/100...\n",
      "2025/05/07 20:17:06 INFO dspy.teleprompt.grpo: Bootstrapping data...\n"
     ]
    },
    {
     "name": "stdout",
     "output_type": "stream",
     "text": [
      "Average Metric: 8.00 / 32 (25.0%): 100%|██████████| 32/32 [00:36<00:00,  1.13s/it]"
     ]
    },
    {
     "name": "stderr",
     "output_type": "stream",
     "text": [
      "2025/05/07 20:17:43 INFO dspy.evaluate.evaluate: Average Metric: 8.0 / 32 (25.0%)\n",
      "2025/05/07 20:17:43 INFO dspy.teleprompt.grpo: Preparing the training data batch from bootstrapped examples for GRPO...\n",
      "2025/05/07 20:17:43 INFO dspy.teleprompt.grpo: Invoking GRPO training step...\n"
     ]
    },
    {
     "name": "stdout",
     "output_type": "stream",
     "text": [
      "\n"
     ]
    },
    {
     "name": "stderr",
     "output_type": "stream",
     "text": [
      "2025/05/07 20:17:43 INFO dspy.teleprompt.grpo: GRPO training step 89/100 completed.\n",
      "2025/05/07 20:17:43 INFO dspy.teleprompt.grpo: GRPO training step 90/100...\n",
      "2025/05/07 20:17:43 INFO dspy.teleprompt.grpo: Bootstrapping data...\n"
     ]
    },
    {
     "name": "stdout",
     "output_type": "stream",
     "text": [
      "Average Metric: 4.00 / 32 (12.5%): 100%|██████████| 32/32 [01:05<00:00,  2.04s/it]"
     ]
    },
    {
     "name": "stderr",
     "output_type": "stream",
     "text": [
      "2025/05/07 20:18:48 INFO dspy.evaluate.evaluate: Average Metric: 4.0 / 32 (12.5%)\n",
      "2025/05/07 20:18:48 INFO dspy.teleprompt.grpo: Preparing the training data batch from bootstrapped examples for GRPO...\n",
      "2025/05/07 20:18:48 INFO dspy.teleprompt.grpo: Invoking GRPO training step...\n"
     ]
    },
    {
     "name": "stdout",
     "output_type": "stream",
     "text": [
      "\n"
     ]
    },
    {
     "name": "stderr",
     "output_type": "stream",
     "text": [
      "2025/05/07 20:18:49 INFO dspy.teleprompt.grpo: Current train step is 90. Updating the model...\n",
      "2025/05/07 20:20:24 INFO dspy.teleprompt.grpo: GRPO training step 90/100 completed.\n",
      "2025/05/07 20:20:24 INFO dspy.teleprompt.grpo: Evaluating the student program on the validation set after training step 90/100\n"
     ]
    },
    {
     "name": "stdout",
     "output_type": "stream",
     "text": [
      "Average Metric: 14.00 / 50 (28.0%): 100%|██████████| 50/50 [01:08<00:00,  1.37s/it]"
     ]
    },
    {
     "name": "stderr",
     "output_type": "stream",
     "text": [
      "2025/05/07 20:21:33 INFO dspy.evaluate.evaluate: Average Metric: 14.0 / 50 (28.0%)\n",
      "2025/05/07 20:21:33 INFO dspy.teleprompt.grpo: Student program validation set score after training step 90/100: 28.0\n",
      "2025/05/07 20:21:33 INFO dspy.teleprompt.grpo: GRPO training step 91/100...\n",
      "2025/05/07 20:21:33 INFO dspy.teleprompt.grpo: Bootstrapping data...\n"
     ]
    },
    {
     "name": "stdout",
     "output_type": "stream",
     "text": [
      "\n",
      "Average Metric: 8.00 / 30 (26.7%):  94%|█████████▍| 30/32 [00:29<00:01,  1.36it/s]"
     ]
    },
    {
     "name": "stderr",
     "output_type": "stream",
     "text": [
      "2025/05/07 20:22:08 WARNING dspy.adapters.json_adapter: Failed to use structured output format. Falling back to JSON mode. Error: 'type' object is not iterable\n"
     ]
    },
    {
     "name": "stdout",
     "output_type": "stream",
     "text": [
      "Average Metric: 7.00 / 32 (21.9%): 100%|██████████| 32/32 [00:35<00:00,  1.12s/it]"
     ]
    },
    {
     "name": "stderr",
     "output_type": "stream",
     "text": [
      "2025/05/07 20:22:09 INFO dspy.evaluate.evaluate: Average Metric: 7.0 / 32 (21.9%)\n",
      "2025/05/07 20:22:09 INFO dspy.teleprompt.grpo: Preparing the training data batch from bootstrapped examples for GRPO...\n",
      "2025/05/07 20:22:09 WARNING dspy.teleprompt.grpo: Adding a format failure example to the training data for predictor 0 and example 2.\n",
      "2025/05/07 20:22:09 INFO dspy.teleprompt.grpo: Invoking GRPO training step...\n"
     ]
    },
    {
     "name": "stdout",
     "output_type": "stream",
     "text": [
      "\n"
     ]
    },
    {
     "name": "stderr",
     "output_type": "stream",
     "text": [
      "2025/05/07 20:22:09 INFO dspy.teleprompt.grpo: GRPO training step 91/100 completed.\n",
      "2025/05/07 20:22:09 INFO dspy.teleprompt.grpo: GRPO training step 92/100...\n",
      "2025/05/07 20:22:09 INFO dspy.teleprompt.grpo: Bootstrapping data...\n"
     ]
    },
    {
     "name": "stdout",
     "output_type": "stream",
     "text": [
      "Average Metric: 15.00 / 32 (46.9%): 100%|██████████| 32/32 [00:23<00:00,  1.35it/s]"
     ]
    },
    {
     "name": "stderr",
     "output_type": "stream",
     "text": [
      "2025/05/07 20:22:33 INFO dspy.evaluate.evaluate: Average Metric: 15.0 / 32 (46.9%)\n",
      "2025/05/07 20:22:33 INFO dspy.teleprompt.grpo: Preparing the training data batch from bootstrapped examples for GRPO...\n",
      "2025/05/07 20:22:33 INFO dspy.teleprompt.grpo: Invoking GRPO training step...\n"
     ]
    },
    {
     "name": "stdout",
     "output_type": "stream",
     "text": [
      "\n"
     ]
    },
    {
     "name": "stderr",
     "output_type": "stream",
     "text": [
      "2025/05/07 20:22:33 INFO dspy.teleprompt.grpo: GRPO training step 92/100 completed.\n",
      "2025/05/07 20:22:33 INFO dspy.teleprompt.grpo: GRPO training step 93/100...\n",
      "2025/05/07 20:22:33 INFO dspy.teleprompt.grpo: Bootstrapping data...\n"
     ]
    },
    {
     "name": "stdout",
     "output_type": "stream",
     "text": [
      "Average Metric: 20.00 / 32 (62.5%): 100%|██████████| 32/32 [00:28<00:00,  1.12it/s]"
     ]
    },
    {
     "name": "stderr",
     "output_type": "stream",
     "text": [
      "2025/05/07 20:23:02 INFO dspy.evaluate.evaluate: Average Metric: 20.0 / 32 (62.5%)\n",
      "2025/05/07 20:23:02 INFO dspy.teleprompt.grpo: Preparing the training data batch from bootstrapped examples for GRPO...\n",
      "2025/05/07 20:23:02 INFO dspy.teleprompt.grpo: Invoking GRPO training step...\n"
     ]
    },
    {
     "name": "stdout",
     "output_type": "stream",
     "text": [
      "\n"
     ]
    },
    {
     "name": "stderr",
     "output_type": "stream",
     "text": [
      "2025/05/07 20:23:02 INFO dspy.teleprompt.grpo: Current train step is 93. Updating the model...\n",
      "2025/05/07 20:24:38 INFO dspy.teleprompt.grpo: GRPO training step 93/100 completed.\n",
      "2025/05/07 20:24:38 INFO dspy.teleprompt.grpo: GRPO training step 94/100...\n",
      "2025/05/07 20:24:38 INFO dspy.teleprompt.grpo: Bootstrapping data...\n"
     ]
    },
    {
     "name": "stdout",
     "output_type": "stream",
     "text": [
      "Average Metric: 5.00 / 32 (15.6%): 100%|██████████| 32/32 [00:55<00:00,  1.74s/it]"
     ]
    },
    {
     "name": "stderr",
     "output_type": "stream",
     "text": [
      "2025/05/07 20:25:33 INFO dspy.evaluate.evaluate: Average Metric: 5.0 / 32 (15.6%)\n",
      "2025/05/07 20:25:33 INFO dspy.teleprompt.grpo: Preparing the training data batch from bootstrapped examples for GRPO...\n",
      "2025/05/07 20:25:33 INFO dspy.teleprompt.grpo: Invoking GRPO training step...\n"
     ]
    },
    {
     "name": "stdout",
     "output_type": "stream",
     "text": [
      "\n"
     ]
    },
    {
     "name": "stderr",
     "output_type": "stream",
     "text": [
      "2025/05/07 20:25:34 INFO dspy.teleprompt.grpo: GRPO training step 94/100 completed.\n",
      "2025/05/07 20:25:34 INFO dspy.teleprompt.grpo: GRPO training step 95/100...\n",
      "2025/05/07 20:25:34 INFO dspy.teleprompt.grpo: Bootstrapping data...\n"
     ]
    },
    {
     "name": "stdout",
     "output_type": "stream",
     "text": [
      "Average Metric: 7.00 / 32 (21.9%): 100%|██████████| 32/32 [00:38<00:00,  1.21s/it]"
     ]
    },
    {
     "name": "stderr",
     "output_type": "stream",
     "text": [
      "2025/05/07 20:26:13 INFO dspy.evaluate.evaluate: Average Metric: 7.0 / 32 (21.9%)\n",
      "2025/05/07 20:26:13 INFO dspy.teleprompt.grpo: Preparing the training data batch from bootstrapped examples for GRPO...\n",
      "2025/05/07 20:26:13 INFO dspy.teleprompt.grpo: Invoking GRPO training step...\n"
     ]
    },
    {
     "name": "stdout",
     "output_type": "stream",
     "text": [
      "\n"
     ]
    },
    {
     "name": "stderr",
     "output_type": "stream",
     "text": [
      "2025/05/07 20:26:13 INFO dspy.teleprompt.grpo: GRPO training step 95/100 completed.\n",
      "2025/05/07 20:26:13 INFO dspy.teleprompt.grpo: GRPO training step 96/100...\n",
      "2025/05/07 20:26:13 INFO dspy.teleprompt.grpo: Bootstrapping data...\n"
     ]
    },
    {
     "name": "stdout",
     "output_type": "stream",
     "text": [
      "Average Metric: 1.00 / 32 (3.1%): 100%|██████████| 32/32 [00:44<00:00,  1.38s/it]"
     ]
    },
    {
     "name": "stderr",
     "output_type": "stream",
     "text": [
      "2025/05/07 20:26:57 INFO dspy.evaluate.evaluate: Average Metric: 1.0 / 32 (3.1%)\n",
      "2025/05/07 20:26:57 INFO dspy.teleprompt.grpo: Preparing the training data batch from bootstrapped examples for GRPO...\n",
      "2025/05/07 20:26:57 INFO dspy.teleprompt.grpo: Invoking GRPO training step...\n"
     ]
    },
    {
     "name": "stdout",
     "output_type": "stream",
     "text": [
      "\n"
     ]
    },
    {
     "name": "stderr",
     "output_type": "stream",
     "text": [
      "2025/05/07 20:26:58 INFO dspy.teleprompt.grpo: Current train step is 96. Updating the model...\n",
      "2025/05/07 20:28:43 INFO dspy.teleprompt.grpo: GRPO training step 96/100 completed.\n",
      "2025/05/07 20:28:43 INFO dspy.teleprompt.grpo: GRPO training step 97/100...\n",
      "2025/05/07 20:28:43 INFO dspy.teleprompt.grpo: Bootstrapping data...\n"
     ]
    },
    {
     "name": "stdout",
     "output_type": "stream",
     "text": [
      "Average Metric: 13.00 / 32 (40.6%): 100%|██████████| 32/32 [00:20<00:00,  1.58it/s]"
     ]
    },
    {
     "name": "stderr",
     "output_type": "stream",
     "text": [
      "2025/05/07 20:29:03 INFO dspy.evaluate.evaluate: Average Metric: 13.0 / 32 (40.6%)\n",
      "2025/05/07 20:29:03 INFO dspy.teleprompt.grpo: Preparing the training data batch from bootstrapped examples for GRPO...\n",
      "2025/05/07 20:29:03 INFO dspy.teleprompt.grpo: Invoking GRPO training step...\n"
     ]
    },
    {
     "name": "stdout",
     "output_type": "stream",
     "text": [
      "\n"
     ]
    },
    {
     "name": "stderr",
     "output_type": "stream",
     "text": [
      "2025/05/07 20:29:04 INFO dspy.teleprompt.grpo: GRPO training step 97/100 completed.\n",
      "2025/05/07 20:29:04 INFO dspy.teleprompt.grpo: GRPO training step 98/100...\n",
      "2025/05/07 20:29:04 INFO dspy.teleprompt.grpo: Bootstrapping data...\n"
     ]
    },
    {
     "name": "stdout",
     "output_type": "stream",
     "text": [
      "Average Metric: 8.00 / 32 (25.0%): 100%|██████████| 32/32 [00:34<00:00,  1.08s/it]"
     ]
    },
    {
     "name": "stderr",
     "output_type": "stream",
     "text": [
      "2025/05/07 20:29:38 INFO dspy.evaluate.evaluate: Average Metric: 8.0 / 32 (25.0%)\n",
      "2025/05/07 20:29:38 INFO dspy.teleprompt.grpo: Preparing the training data batch from bootstrapped examples for GRPO...\n",
      "2025/05/07 20:29:38 INFO dspy.teleprompt.grpo: Invoking GRPO training step...\n"
     ]
    },
    {
     "name": "stdout",
     "output_type": "stream",
     "text": [
      "\n"
     ]
    },
    {
     "name": "stderr",
     "output_type": "stream",
     "text": [
      "2025/05/07 20:29:39 INFO dspy.teleprompt.grpo: GRPO training step 98/100 completed.\n",
      "2025/05/07 20:29:39 INFO dspy.teleprompt.grpo: GRPO training step 99/100...\n",
      "2025/05/07 20:29:39 INFO dspy.teleprompt.grpo: Bootstrapping data...\n"
     ]
    },
    {
     "name": "stdout",
     "output_type": "stream",
     "text": [
      "Average Metric: 8.00 / 32 (25.0%): 100%|██████████| 32/32 [00:30<00:00,  1.04it/s]"
     ]
    },
    {
     "name": "stderr",
     "output_type": "stream",
     "text": [
      "2025/05/07 20:30:10 INFO dspy.evaluate.evaluate: Average Metric: 8.0 / 32 (25.0%)\n",
      "2025/05/07 20:30:10 INFO dspy.teleprompt.grpo: Preparing the training data batch from bootstrapped examples for GRPO...\n",
      "2025/05/07 20:30:10 INFO dspy.teleprompt.grpo: Invoking GRPO training step...\n"
     ]
    },
    {
     "name": "stdout",
     "output_type": "stream",
     "text": [
      "\n"
     ]
    },
    {
     "name": "stderr",
     "output_type": "stream",
     "text": [
      "2025/05/07 20:30:10 INFO dspy.teleprompt.grpo: Current train step is 99. Updating the model...\n",
      "2025/05/07 20:31:40 INFO dspy.teleprompt.grpo: GRPO training step 99/100 completed.\n",
      "2025/05/07 20:31:40 INFO dspy.teleprompt.grpo: GRPO training step 100/100...\n",
      "2025/05/07 20:31:40 INFO dspy.teleprompt.grpo: Bootstrapping data...\n"
     ]
    },
    {
     "name": "stdout",
     "output_type": "stream",
     "text": [
      "Average Metric: 9.00 / 32 (28.1%): 100%|██████████| 32/32 [00:29<00:00,  1.10it/s]"
     ]
    },
    {
     "name": "stderr",
     "output_type": "stream",
     "text": [
      "2025/05/07 20:32:10 INFO dspy.evaluate.evaluate: Average Metric: 9.0 / 32 (28.1%)\n",
      "2025/05/07 20:32:10 INFO dspy.teleprompt.grpo: Preparing the training data batch from bootstrapped examples for GRPO...\n",
      "2025/05/07 20:32:10 INFO dspy.teleprompt.grpo: Invoking GRPO training step...\n"
     ]
    },
    {
     "name": "stdout",
     "output_type": "stream",
     "text": [
      "\n"
     ]
    },
    {
     "name": "stderr",
     "output_type": "stream",
     "text": [
      "2025/05/07 20:32:10 INFO dspy.teleprompt.grpo: GRPO training step 100/100 completed.\n",
      "2025/05/07 20:32:10 INFO dspy.teleprompt.grpo: Evaluating the student program on the validation set after training step 100/100\n"
     ]
    },
    {
     "name": "stdout",
     "output_type": "stream",
     "text": [
      "Average Metric: 14.00 / 50 (28.0%): 100%|██████████| 50/50 [01:19<00:00,  1.59s/it]"
     ]
    },
    {
     "name": "stderr",
     "output_type": "stream",
     "text": [
      "2025/05/07 20:33:30 INFO dspy.evaluate.evaluate: Average Metric: 14.0 / 50 (28.0%)\n",
      "2025/05/07 20:33:30 INFO dspy.teleprompt.grpo: Student program validation set score after training step 100/100: 28.0\n",
      "2025/05/07 20:33:30 INFO dspy.teleprompt.grpo: Done with the iterations! Retrieving the final model(s)...\n"
     ]
    },
    {
     "name": "stdout",
     "output_type": "stream",
     "text": [
      "\n"
     ]
    },
    {
     "name": "stderr",
     "output_type": "stream",
     "text": [
      "2025/05/07 20:34:00 INFO dspy.teleprompt.grpo: GRPO compiler has finished compiling the student program\n"
     ]
    },
    {
     "name": "stdout",
     "output_type": "stream",
     "text": [
      "Optimization complete!\n"
     ]
    }
   ],
   "source": [
    "from dspy.teleprompt.grpo import GRPO\n",
    "\n",
    "# Configure GRPO parameters\n",
    "train_kwargs = {\n",
    "    \"update_interval\": 3,\n",
    "    \"per_device_train_batch_size\": 2,  # reduced from 8\n",
    "    \"gradient_accumulation_steps\": 8,  # increased to maintain effective batch size\n",
    "    \"temperature\": 0.7,\n",
    "    \"beta\": 0.04,\n",
    "    \"learning_rate\": 1e-5,\n",
    "    \"gradient_checkpointing\": True,\n",
    "    \"gradient_checkpointing_kwargs\": {\"use_reentrant\": False},\n",
    "    \"bf16\": True,\n",
    "    \"lr_scheduler_type\": \"constant_with_warmup\",\n",
    "    \"max_prompt_length\": 512,           # add to control token length\n",
    "    \"max_completion_length\": 128,\n",
    "    \"scale_rewards\": True,\n",
    "    \"max_grad_norm\": 0.5,\n",
    "    \"lora\": True,\n",
    "}\n",
    "\n",
    "# Initialize the GRPO compiler\n",
    "compiler = GRPO(\n",
    "    metric=contains_answer,\n",
    "    multitask=True,\n",
    "    num_dspy_examples_per_grpo_step=4,\n",
    "    num_samples_per_input=8,\n",
    "    exclude_demos=True,\n",
    "    num_train_steps=100,\n",
    "    num_threads=24,\n",
    "    use_train_as_val=False,\n",
    "    num_steps_for_val=10,\n",
    "    train_kwargs=train_kwargs,\n",
    "    report_train_scores=False,\n",
    ")\n",
    "\n",
    "print(\"Starting GRPO optimization. This may take some time...\")\n",
    "optimized_program = compiler.compile(student=program, trainset=trainset, valset=devset)\n",
    "print(\"Optimization complete!\")"
   ]
  },
  {
   "cell_type": "markdown",
   "metadata": {},
   "source": [
    "## Evaluating the Optimized Agent\n",
    "\n",
    "After optimizing our agent with GRPO, we need to evaluate its performance to see how much it has improved. We'll use the same evaluation framework as before, but now with our optimized agent.\n",
    "\n",
    "We'll also compare the baseline and optimized agents on a specific example to see the differences in their behavior. This will help us understand how GRPO has changed the agent's query rewriting strategy."
   ]
  },
  {
   "cell_type": "code",
   "execution_count": 214,
   "metadata": {},
   "outputs": [
    {
     "name": "stdout",
     "output_type": "stream",
     "text": [
      "Average Metric: 13.00 / 50 (26.0%): 100%|██████████| 50/50 [00:00<00:00, 943.89it/s]"
     ]
    },
    {
     "name": "stderr",
     "output_type": "stream",
     "text": [
      "2025/05/07 20:40:32 INFO dspy.evaluate.evaluate: Average Metric: 13.0 / 50 (26.0%)\n"
     ]
    },
    {
     "name": "stdout",
     "output_type": "stream",
     "text": [
      "\n",
      "\n",
      "Baseline Performance: 28.00\n",
      "Optimized Performance: 26.00\n"
     ]
    }
   ],
   "source": [
    "# Evaluate the optimized program\n",
    "optimized_result = evaluate(optimized_program)\n",
    "\n",
    "print(f\"\\nBaseline Performance: {baseline_result:.2f}\")\n",
    "print(f\"Optimized Performance: {optimized_result:.2f}\")"
   ]
  },
  {
   "cell_type": "markdown",
   "metadata": {},
   "source": [
    "## Conclusion\n",
    "\n",
    "In this cookbook, we've demonstrated how to use GRPO to optimize an LLM agent for better performance. We've seen that:\n",
    "\n",
    "1. GRPO can significantly improve an agent's performance without manual prompt engineering\n",
    "2. The improvements come from better query rewriting strategies learned through reinforcement\n",
    "\n",
    "This approach can be applied to various types of agents beyond simple query rewriters, including:\n",
    "- Multi-step reasoning agents\n",
    "- Tool-using agents\n",
    "- Conversational agents\n",
    "- Code generation agents\n",
    "\n",
    "By defining appropriate reward functions and training data, you can use GRPO to optimize virtually any LLM-based agent for your specific use case.\n",
    "\n",
    "Remember that the quality of your training data and reward function are crucial for effective optimization. Invest time in creating high-quality examples and designing rewards that truly capture what you want your agent to optimize for."
   ]
  }
 ],
 "metadata": {
  "kernelspec": {
   "display_name": "venv312",
   "language": "python",
   "name": "python3"
  },
  "language_info": {
   "codemirror_mode": {
    "name": "ipython",
    "version": 3
   },
   "file_extension": ".py",
   "mimetype": "text/x-python",
   "name": "python",
   "nbconvert_exporter": "python",
   "pygments_lexer": "ipython3",
   "version": "3.12.10"
  }
 },
 "nbformat": 4,
 "nbformat_minor": 2
}
