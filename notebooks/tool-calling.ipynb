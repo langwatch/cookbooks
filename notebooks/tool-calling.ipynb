{
 "cells": [
  {
   "cell_type": "markdown",
   "metadata": {},
   "source": [
    "# Simulating Tool Calling\n",
    "\n",
    "In this cookbook, we demonstrate how to evaluate tool calling capabilities in LLM applications using objective metrics. Like always, we'll focus on data-driven approaches to measure and improve tool selection performance.\n",
    "\n",
    "When building AI assistants, we often need them to use external tools - searching databases, calling APIs, or processing data. But how do we know if our model is selecting the right tools at the right time? Traditional evaluation methods don't capture this well.\n",
    "\n",
    "Imagine you're building a customer service bot. A user asks \"What's my account balance?\" Your assistant needs to decide: should it query the account database, ask for authentication, or simply respond with general information? Selecting the wrong tool leads to either frustrated users (if important tools are missed) or wasted resources (if unnecessary tools are called).\n",
    "\n",
    "The key insight is that tool selection quality is distinct from text generation quality. You can have a model that writes beautiful responses but consistently fails to take appropriate actions. By measuring precision and recall of tool selection decisions, we can systematically improve how our models interact with the world around them."
   ]
  },
  {
   "cell_type": "markdown",
   "metadata": {},
   "source": [
    "## Requirements\n",
    "\n",
    "Before starting, ensure you have the following packages installed:"
   ]
  },
  {
   "cell_type": "code",
   "execution_count": 1,
   "metadata": {},
   "outputs": [
    {
     "name": "stdout",
     "output_type": "stream",
     "text": [
      "Requirement already satisfied: langwatch in /Users/tahmidtapadar/Documents/cookbooks/venv/lib/python3.13/site-packages (0.1.30)\n",
      "Requirement already satisfied: pydantic in /Users/tahmidtapadar/Documents/cookbooks/venv/lib/python3.13/site-packages (2.11.3)\n",
      "Requirement already satisfied: openai in /Users/tahmidtapadar/Documents/cookbooks/venv/lib/python3.13/site-packages (1.74.0)\n",
      "Requirement already satisfied: pandas in /Users/tahmidtapadar/Documents/cookbooks/venv/lib/python3.13/site-packages (2.2.3)\n",
      "Requirement already satisfied: coolname<3.0.0,>=2.2.0 in /Users/tahmidtapadar/Documents/cookbooks/venv/lib/python3.13/site-packages (from langwatch) (2.2.0)\n",
      "Requirement already satisfied: deprecated<2.0.0,>=1.2.14 in /Users/tahmidtapadar/Documents/cookbooks/venv/lib/python3.13/site-packages (from langwatch) (1.2.18)\n",
      "Requirement already satisfied: httpx<0.28.0,>=0.27.0 in /Users/tahmidtapadar/Documents/cookbooks/venv/lib/python3.13/site-packages (from langwatch) (0.27.2)\n",
      "Requirement already satisfied: nanoid<3.0.0,>=2.0.0 in /Users/tahmidtapadar/Documents/cookbooks/venv/lib/python3.13/site-packages (from langwatch) (2.0.0)\n",
      "Requirement already satisfied: requests<3.0.0,>=2.31.0 in /Users/tahmidtapadar/Documents/cookbooks/venv/lib/python3.13/site-packages (from langwatch) (2.32.3)\n",
      "Requirement already satisfied: retry<0.10.0,>=0.9.2 in /Users/tahmidtapadar/Documents/cookbooks/venv/lib/python3.13/site-packages (from langwatch) (0.9.2)\n",
      "Requirement already satisfied: tqdm<5.0.0,>=4.66.2 in /Users/tahmidtapadar/Documents/cookbooks/venv/lib/python3.13/site-packages (from langwatch) (4.67.1)\n",
      "Requirement already satisfied: annotated-types>=0.6.0 in /Users/tahmidtapadar/Documents/cookbooks/venv/lib/python3.13/site-packages (from pydantic) (0.7.0)\n",
      "Requirement already satisfied: pydantic-core==2.33.1 in /Users/tahmidtapadar/Documents/cookbooks/venv/lib/python3.13/site-packages (from pydantic) (2.33.1)\n",
      "Requirement already satisfied: typing-extensions>=4.12.2 in /Users/tahmidtapadar/Documents/cookbooks/venv/lib/python3.13/site-packages (from pydantic) (4.13.2)\n",
      "Requirement already satisfied: typing-inspection>=0.4.0 in /Users/tahmidtapadar/Documents/cookbooks/venv/lib/python3.13/site-packages (from pydantic) (0.4.0)\n",
      "Requirement already satisfied: anyio<5,>=3.5.0 in /Users/tahmidtapadar/Documents/cookbooks/venv/lib/python3.13/site-packages (from openai) (4.9.0)\n",
      "Requirement already satisfied: distro<2,>=1.7.0 in /Users/tahmidtapadar/Documents/cookbooks/venv/lib/python3.13/site-packages (from openai) (1.9.0)\n",
      "Requirement already satisfied: jiter<1,>=0.4.0 in /Users/tahmidtapadar/Documents/cookbooks/venv/lib/python3.13/site-packages (from openai) (0.8.2)\n",
      "Requirement already satisfied: sniffio in /Users/tahmidtapadar/Documents/cookbooks/venv/lib/python3.13/site-packages (from openai) (1.3.1)\n",
      "Requirement already satisfied: numpy>=1.26.0 in /Users/tahmidtapadar/Documents/cookbooks/venv/lib/python3.13/site-packages (from pandas) (2.2.4)\n",
      "Requirement already satisfied: python-dateutil>=2.8.2 in /Users/tahmidtapadar/Documents/cookbooks/venv/lib/python3.13/site-packages (from pandas) (2.9.0.post0)\n",
      "Requirement already satisfied: pytz>=2020.1 in /Users/tahmidtapadar/Documents/cookbooks/venv/lib/python3.13/site-packages (from pandas) (2025.2)\n",
      "Requirement already satisfied: tzdata>=2022.7 in /Users/tahmidtapadar/Documents/cookbooks/venv/lib/python3.13/site-packages (from pandas) (2025.2)\n",
      "Requirement already satisfied: idna>=2.8 in /Users/tahmidtapadar/Documents/cookbooks/venv/lib/python3.13/site-packages (from anyio<5,>=3.5.0->openai) (3.10)\n",
      "Requirement already satisfied: wrapt<2,>=1.10 in /Users/tahmidtapadar/Documents/cookbooks/venv/lib/python3.13/site-packages (from deprecated<2.0.0,>=1.2.14->langwatch) (1.17.2)\n",
      "Requirement already satisfied: certifi in /Users/tahmidtapadar/Documents/cookbooks/venv/lib/python3.13/site-packages (from httpx<0.28.0,>=0.27.0->langwatch) (2025.1.31)\n",
      "Requirement already satisfied: httpcore==1.* in /Users/tahmidtapadar/Documents/cookbooks/venv/lib/python3.13/site-packages (from httpx<0.28.0,>=0.27.0->langwatch) (1.0.8)\n",
      "Requirement already satisfied: h11<0.15,>=0.13 in /Users/tahmidtapadar/Documents/cookbooks/venv/lib/python3.13/site-packages (from httpcore==1.*->httpx<0.28.0,>=0.27.0->langwatch) (0.14.0)\n",
      "Requirement already satisfied: six>=1.5 in /Users/tahmidtapadar/Documents/cookbooks/venv/lib/python3.13/site-packages (from python-dateutil>=2.8.2->pandas) (1.17.0)\n",
      "Requirement already satisfied: charset-normalizer<4,>=2 in /Users/tahmidtapadar/Documents/cookbooks/venv/lib/python3.13/site-packages (from requests<3.0.0,>=2.31.0->langwatch) (3.4.1)\n",
      "Requirement already satisfied: urllib3<3,>=1.21.1 in /Users/tahmidtapadar/Documents/cookbooks/venv/lib/python3.13/site-packages (from requests<3.0.0,>=2.31.0->langwatch) (2.4.0)\n",
      "Requirement already satisfied: decorator>=3.4.2 in /Users/tahmidtapadar/Documents/cookbooks/venv/lib/python3.13/site-packages (from retry<0.10.0,>=0.9.2->langwatch) (5.2.1)\n",
      "Requirement already satisfied: py<2.0.0,>=1.4.26 in /Users/tahmidtapadar/Documents/cookbooks/venv/lib/python3.13/site-packages (from retry<0.10.0,>=0.9.2->langwatch) (1.11.0)\n",
      "\n",
      "\u001b[1m[\u001b[0m\u001b[34;49mnotice\u001b[0m\u001b[1;39;49m]\u001b[0m\u001b[39;49m A new release of pip is available: \u001b[0m\u001b[31;49m25.0.1\u001b[0m\u001b[39;49m -> \u001b[0m\u001b[32;49m25.1\u001b[0m\n",
      "\u001b[1m[\u001b[0m\u001b[34;49mnotice\u001b[0m\u001b[1;39;49m]\u001b[0m\u001b[39;49m To update, run: \u001b[0m\u001b[32;49mpip install --upgrade pip\u001b[0m\n",
      "Note: you may need to restart the kernel to use updated packages.\n"
     ]
    }
   ],
   "source": [
    "%pip install langwatch pydantic openai pandas "
   ]
  },
  {
   "cell_type": "markdown",
   "metadata": {},
   "source": [
    "## Setup\n",
    "\n",
    "Start by setting up LangWatch to monitor your RAG application:"
   ]
  },
  {
   "cell_type": "code",
   "execution_count": null,
   "metadata": {},
   "outputs": [],
   "source": [
    "import langwatch\n",
    "import openai\n",
    "import getpass\n",
    "import pandas as pd\n",
    "\n",
    "# Display settings for better visualization\n",
    "pd.set_option('display.max_columns', None)\n",
    "pd.set_option('display.width', 1000)\n",
    "pd.set_option('display.max_rows', 100)\n",
    "pd.set_option('display.max_colwidth', 100)\n",
    "\n",
    "# Initialize OpenAI and LangWatch\n",
    "openai.api_key = getpass.getpass('Enter your OpenAI API key: ')\n",
    "langwatch.api_key = getpass.getpass('Enter your LangWatch API key: ')"
   ]
  }
 ],
 "metadata": {
  "kernelspec": {
   "display_name": "venv",
   "language": "python",
   "name": "python3"
  },
  "language_info": {
   "codemirror_mode": {
    "name": "ipython",
    "version": 3
   },
   "file_extension": ".py",
   "mimetype": "text/x-python",
   "name": "python",
   "nbconvert_exporter": "python",
   "pygments_lexer": "ipython3",
   "version": "3.13.3"
  }
 },
 "nbformat": 4,
 "nbformat_minor": 2
}
