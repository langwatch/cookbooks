{
 "cells": [
  {
   "cell_type": "markdown",
   "metadata": {},
   "source": [
    "# Fine-Tuning Embedding Models\n",
    "\n",
    "In this cookbook, we demonstrate how to fine-tune open-source embedding models using sentence-transformer and then evaluating its performance. Like always, we'll focus on data-driven approaches to measure and improve retrieval performance.\n",
    "\n",
    "Imagine you’re building a dating app. Two users fill in their bios:\n",
    "- “I love coffee.”\n",
    "- “I hate coffee.”\n",
    "\n",
    "From a linguistic standpoint, these statements are opposites. But from a recommendation perspective, there’s a case to be made that they belong together. Both are expressing strong food preferences. Both might be ‘foodies’ which is why they mentioned their preferences. \n",
    "\n",
    "The point here is subtle, but important: semantic similarity is not the same as task relevance. That’s why fine-tuning your embedding model, even on a small number of labeled pairs, can make a noticeable difference. I’ve often seen teams improve their recall by 10-15% by fine-tuning their embedding models with just a couple hundred examples. \n",
    "\n",
    "Whether you’re recommending dating profiles or retrieving security policies, what matters is that the notion of “relevance” is aligned with your application’s goal."
   ]
  },
  {
   "cell_type": "markdown",
   "metadata": {},
   "source": [
    "## Requirements\n",
    "\n",
    "Before starting, ensure you have the following packages installed:"
   ]
  },
  {
   "cell_type": "code",
   "execution_count": null,
   "metadata": {},
   "outputs": [],
   "source": [
    "%pip install langwatch openai chromadb pandas matplotlib datasets"
   ]
  },
  {
   "cell_type": "markdown",
   "metadata": {},
   "source": [
    "## Setup\n",
    "\n",
    "Start by setting up LangWatch to monitor your RAG application:"
   ]
  },
  {
   "cell_type": "code",
   "execution_count": null,
   "metadata": {},
   "outputs": [],
   "source": [
    "%pip install langwatch chromadb openai pandas numpy pydantic seaborn"
   ]
  },
  {
   "cell_type": "code",
   "execution_count": 80,
   "metadata": {},
   "outputs": [],
   "source": [
    "import chromadb\n",
    "import pandas as pd\n",
    "import openai\n",
    "import getpass\n",
    "import langwatch\n",
    "\n",
    "# Display settings for better visualization\n",
    "pd.set_option('display.max_columns', None)\n",
    "pd.set_option('display.width', 1000)\n",
    "pd.set_option('display.max_rows', 100)\n",
    "pd.set_option('display.max_colwidth', 100)\n",
    "\n",
    "# Initialize OpenAI, LangWatch & HuggingFace\n",
    "openai.api_key = getpass.getpass('Enter your OpenAI API key: ')\n",
    "langwatch.api_key = getpass.getpass('Enter your LangWatch API key: ')\n",
    "huggingface_api_key = getpass.getpass(\"Enter your Huggingface API key: \")\n",
    "chroma_client = chromadb.PersistentClient()"
   ]
  },
  {
   "cell_type": "markdown",
   "metadata": {},
   "source": [
    "## Generating Synthetic Data\n",
    "\n",
    "In this section, we'll generate synthetic data to simulate a real-world scenario. We'll mimic Ramp's successful approach to fine-tuning embeddings for transaction categorization. Following their case study, we'll create a dataset of transactions objects with associated categories. I've pre-defined some categories and stored them in data/categories.json. Let's load them first and see what they look like."
   ]
  },
  {
   "cell_type": "code",
   "execution_count": 6,
   "metadata": {},
   "outputs": [
    {
     "data": {
      "text/html": [
       "<pre style=\"white-space:pre;overflow-x:auto;line-height:normal;font-family:Menlo,'DejaVu Sans Mono',consolas,'Courier New',monospace\"><span style=\"font-weight: bold\">{</span>\n",
       "    <span style=\"color: #008000; text-decoration-color: #008000\">'category'</span>: <span style=\"color: #008000; text-decoration-color: #008000\">'Software &amp; Licenses'</span>,\n",
       "    <span style=\"color: #008000; text-decoration-color: #008000\">'sample_transactions'</span>: <span style=\"font-weight: bold\">[</span>\n",
       "        <span style=\"color: #008000; text-decoration-color: #008000\">'Adobe Creative Cloud Annual Subscription'</span>,\n",
       "        <span style=\"color: #008000; text-decoration-color: #008000\">'Microsoft 365 Business Premium'</span>,\n",
       "        <span style=\"color: #008000; text-decoration-color: #008000\">'Atlassian JIRA License'</span>,\n",
       "        <span style=\"color: #008000; text-decoration-color: #008000\">'Zoom Enterprise Plan'</span>,\n",
       "        <span style=\"color: #008000; text-decoration-color: #008000\">'AutoCAD Software License'</span>\n",
       "    <span style=\"font-weight: bold\">]</span>,\n",
       "    <span style=\"color: #008000; text-decoration-color: #008000\">'departments'</span>: <span style=\"font-weight: bold\">[</span>\n",
       "        <span style=\"color: #008000; text-decoration-color: #008000\">'Engineering'</span>,\n",
       "        <span style=\"color: #008000; text-decoration-color: #008000\">'Marketing'</span>,\n",
       "        <span style=\"color: #008000; text-decoration-color: #008000\">'HR'</span>,\n",
       "        <span style=\"color: #008000; text-decoration-color: #008000\">'Finance'</span>,\n",
       "        <span style=\"color: #008000; text-decoration-color: #008000\">'Legal'</span>,\n",
       "        <span style=\"color: #008000; text-decoration-color: #008000\">'IT Operations'</span>,\n",
       "        <span style=\"color: #008000; text-decoration-color: #008000\">'Research &amp; Development'</span>\n",
       "    <span style=\"font-weight: bold\">]</span>\n",
       "<span style=\"font-weight: bold\">}</span>\n",
       "</pre>\n"
      ],
      "text/plain": [
       "\u001b[1m{\u001b[0m\n",
       "    \u001b[32m'category'\u001b[0m: \u001b[32m'Software & Licenses'\u001b[0m,\n",
       "    \u001b[32m'sample_transactions'\u001b[0m: \u001b[1m[\u001b[0m\n",
       "        \u001b[32m'Adobe Creative Cloud Annual Subscription'\u001b[0m,\n",
       "        \u001b[32m'Microsoft 365 Business Premium'\u001b[0m,\n",
       "        \u001b[32m'Atlassian JIRA License'\u001b[0m,\n",
       "        \u001b[32m'Zoom Enterprise Plan'\u001b[0m,\n",
       "        \u001b[32m'AutoCAD Software License'\u001b[0m\n",
       "    \u001b[1m]\u001b[0m,\n",
       "    \u001b[32m'departments'\u001b[0m: \u001b[1m[\u001b[0m\n",
       "        \u001b[32m'Engineering'\u001b[0m,\n",
       "        \u001b[32m'Marketing'\u001b[0m,\n",
       "        \u001b[32m'HR'\u001b[0m,\n",
       "        \u001b[32m'Finance'\u001b[0m,\n",
       "        \u001b[32m'Legal'\u001b[0m,\n",
       "        \u001b[32m'IT Operations'\u001b[0m,\n",
       "        \u001b[32m'Research & Development'\u001b[0m\n",
       "    \u001b[1m]\u001b[0m\n",
       "\u001b[1m}\u001b[0m\n"
      ]
     },
     "metadata": {},
     "output_type": "display_data"
    }
   ],
   "source": [
    "import json\n",
    "from rich import print\n",
    "\n",
    "# Load in pre-defined categories\n",
    "categories = json.load(open(\"../data/categories.json\"))\n",
    "\n",
    "# Print the first category\n",
    "print(categories[0])"
   ]
  },
  {
   "cell_type": "markdown",
   "metadata": {},
   "source": [
    "Let's now create a Pydantic Model to represent the transaction data. Following their casestudy, each transaction will be represented as an object containing:\n",
    "\n",
    "- Merchant name\n",
    "- Merchant category (MCC)\n",
    "- Department name\n",
    "- Location\n",
    "- Amount\n",
    "- Memo\n",
    "- Spend program name\n",
    "- Trip name (if applicable)"
   ]
  },
  {
   "cell_type": "code",
   "execution_count": 7,
   "metadata": {},
   "outputs": [],
   "source": [
    "from pydantic import BaseModel, field_validator, ValidationInfo\n",
    "from typing import Optional\n",
    "from textwrap import dedent\n",
    "\n",
    "# A Pydantic model to represent the same transaction data as Ramp\n",
    "class Transaction(BaseModel):\n",
    "    merchant_name: str\n",
    "    merchant_category: list[str]\n",
    "    department: str\n",
    "    location: str\n",
    "    amount: float\n",
    "    spend_program_name: str\n",
    "    trip_name: Optional[str] = None\n",
    "    expense_category: str\n",
    "\n",
    "    def format_transaction(self):\n",
    "        return dedent(f\"\"\"\n",
    "        Name : {self.merchant_name}\n",
    "        Category: {\", \".join(self.merchant_category)}\n",
    "        Department: {self.department}\n",
    "        Location: {self.location}\n",
    "        Amount: {self.amount}\n",
    "        Card: {self.spend_program_name}\n",
    "        Trip Name: {self.trip_name if self.trip_name else \"unknown\"}\n",
    "        \"\"\")\n",
    "\n",
    "    @field_validator(\"expense_category\")\n",
    "    @classmethod\n",
    "    def validate_expense_category(cls, v, info: ValidationInfo):\n",
    "        if not info.context:\n",
    "            return v\n",
    "\n",
    "        expected_category = info.context.get(\"category\")\n",
    "\n",
    "        if v != expected_category:\n",
    "            raise ValueError(f\"Expense category must be '{expected_category}', but got '{v}'\")\n",
    "\n",
    "        return v"
   ]
  },
  {
   "cell_type": "markdown",
   "metadata": {},
   "source": [
    "Notice that I don't include the expense_category in the format_transaction method, since this is our label. Now that we have a Transaction class, let's load the data and create a list of transactions. I'll use the instructor library to generate data in the format we need."
   ]
  },
  {
   "cell_type": "code",
   "execution_count": 10,
   "metadata": {},
   "outputs": [],
   "source": [
    "from openai import AsyncOpenAI\n",
    "import instructor\n",
    "\n",
    "client = instructor.from_openai(AsyncOpenAI(api_key=openai.api_key))\n",
    "\n",
    "async def generate_transaction(category):\n",
    "    prompt =\"\"\"\n",
    "                Generate a potentially ambiguous business transaction that could reasonably be categorized as {{ category }} or another similar category. The goal is to create transactions that challenge automatic categorization systems by having characteristics that could fit multiple categories.\n",
    "\n",
    "                Available categories in the system.:\n",
    "                <categories>\n",
    "                {% for category_option in categories %}\n",
    "                    {{ category_option[\"category\"] }}\n",
    "                {% endfor %}\n",
    "                </categories>\n",
    "\n",
    "                The transaction should:\n",
    "                1. Have the same category as {{ category }}\n",
    "                2. Use a realistic but non-obvious merchant name (international names welcome), don't use names that are obviously made u\n",
    "                3. Include a plausible but non-rounded amount with decimals (e.g., $1247.83)\n",
    "                4. Be difficult to categorize definitively (could fit in multiple categories)\n",
    "                5. Merchant Category Name(s) should not reference the category at all and should be able to be used for other similar categories if possible.\n",
    "            \"\"\"\n",
    "\n",
    "    return await client.chat.completions.create(\n",
    "        model=\"gpt-4o-mini\",\n",
    "        messages=[{\"role\": \"system\", \"content\": prompt}],\n",
    "        context={\"category\": category},\n",
    "        response_model=Transaction,\n",
    "    )"
   ]
  },
  {
   "cell_type": "markdown",
   "metadata": {},
   "source": [
    "We can now generate a large number of transactions using asyncio and our generate_transaction function."
   ]
  },
  {
   "cell_type": "code",
   "execution_count": 11,
   "metadata": {},
   "outputs": [],
   "source": [
    "import random\n",
    "import asyncio\n",
    "\n",
    "coros = []\n",
    "for _ in range(326):\n",
    "    coros.append(generate_transaction(random.choice(categories)['category']))\n",
    "\n",
    "transactions = await asyncio.gather(*coros)"
   ]
  },
  {
   "cell_type": "code",
   "execution_count": 12,
   "metadata": {},
   "outputs": [
    {
     "data": {
      "text/html": [
       "<pre style=\"white-space:pre;overflow-x:auto;line-height:normal;font-family:Menlo,'DejaVu Sans Mono',consolas,'Courier New',monospace\"><span style=\"color: #800080; text-decoration-color: #800080; font-weight: bold\">Transaction</span><span style=\"font-weight: bold\">(</span>\n",
       "    <span style=\"color: #808000; text-decoration-color: #808000\">merchant_name</span>=<span style=\"color: #008000; text-decoration-color: #008000\">'Global Tech Solutions'</span>,\n",
       "    <span style=\"color: #808000; text-decoration-color: #808000\">merchant_category</span>=<span style=\"font-weight: bold\">[</span><span style=\"color: #008000; text-decoration-color: #008000\">'Information Technology Services'</span>, <span style=\"color: #008000; text-decoration-color: #008000\">'Miscellaneous'</span><span style=\"font-weight: bold\">]</span>,\n",
       "    <span style=\"color: #808000; text-decoration-color: #808000\">department</span>=<span style=\"color: #008000; text-decoration-color: #008000\">'IT Department'</span>,\n",
       "    <span style=\"color: #808000; text-decoration-color: #808000\">location</span>=<span style=\"color: #008000; text-decoration-color: #008000\">'San Francisco, CA'</span>,\n",
       "    <span style=\"color: #808000; text-decoration-color: #808000\">amount</span>=<span style=\"color: #008080; text-decoration-color: #008080; font-weight: bold\">1575.67</span>,\n",
       "    <span style=\"color: #808000; text-decoration-color: #808000\">spend_program_name</span>=<span style=\"color: #008000; text-decoration-color: #008000\">'Hardware Upgrade Program'</span>,\n",
       "    <span style=\"color: #808000; text-decoration-color: #808000\">trip_name</span>=<span style=\"color: #800080; text-decoration-color: #800080; font-style: italic\">None</span>,\n",
       "    <span style=\"color: #808000; text-decoration-color: #808000\">expense_category</span>=<span style=\"color: #008000; text-decoration-color: #008000\">'Hardware &amp; Equipment'</span>\n",
       "<span style=\"font-weight: bold\">)</span>\n",
       "</pre>\n"
      ],
      "text/plain": [
       "\u001b[1;35mTransaction\u001b[0m\u001b[1m(\u001b[0m\n",
       "    \u001b[33mmerchant_name\u001b[0m=\u001b[32m'Global Tech Solutions'\u001b[0m,\n",
       "    \u001b[33mmerchant_category\u001b[0m=\u001b[1m[\u001b[0m\u001b[32m'Information Technology Services'\u001b[0m, \u001b[32m'Miscellaneous'\u001b[0m\u001b[1m]\u001b[0m,\n",
       "    \u001b[33mdepartment\u001b[0m=\u001b[32m'IT Department'\u001b[0m,\n",
       "    \u001b[33mlocation\u001b[0m=\u001b[32m'San Francisco, CA'\u001b[0m,\n",
       "    \u001b[33mamount\u001b[0m=\u001b[1;36m1575\u001b[0m\u001b[1;36m.67\u001b[0m,\n",
       "    \u001b[33mspend_program_name\u001b[0m=\u001b[32m'Hardware Upgrade Program'\u001b[0m,\n",
       "    \u001b[33mtrip_name\u001b[0m=\u001b[3;35mNone\u001b[0m,\n",
       "    \u001b[33mexpense_category\u001b[0m=\u001b[32m'Hardware & Equipment'\u001b[0m\n",
       "\u001b[1m)\u001b[0m\n"
      ]
     },
     "metadata": {},
     "output_type": "display_data"
    }
   ],
   "source": [
    "print(transactions[0])"
   ]
  },
  {
   "cell_type": "markdown",
   "metadata": {},
   "source": [
    "Awesome. Now let's create a list of transactions, where each transaction is a dictionary with a \"query\" and \"expected\" key."
   ]
  },
  {
   "cell_type": "code",
   "execution_count": 16,
   "metadata": {},
   "outputs": [],
   "source": [
    "transactions = [\n",
    "    {\n",
    "      \"query\": transaction.format_transaction(),\n",
    "      \"expected\": transaction.expense_category\n",
    "    }\n",
    "    for transaction in transactions\n",
    "]"
   ]
  },
  {
   "cell_type": "markdown",
   "metadata": {},
   "source": [
    "## Setting up a Vector Database\n",
    "\n",
    "Let's set up a vector database to store our embeddings of categories. "
   ]
  },
  {
   "cell_type": "code",
   "execution_count": 63,
   "metadata": {},
   "outputs": [
    {
     "data": {
      "text/html": [
       "<pre style=\"white-space:pre;overflow-x:auto;line-height:normal;font-family:Menlo,'DejaVu Sans Mono',consolas,'Courier New',monospace\">Created collection with <span style=\"color: #008080; text-decoration-color: #008080; font-weight: bold\">27</span> documents.\n",
       "</pre>\n"
      ],
      "text/plain": [
       "Created collection with \u001b[1;36m27\u001b[0m documents.\n"
      ]
     },
     "metadata": {},
     "output_type": "display_data"
    }
   ],
   "source": [
    "import chromadb\n",
    "from chromadb.utils.embedding_functions import OpenAIEmbeddingFunction\n",
    "\n",
    "# Initialize Chroma\n",
    "client = chromadb.PersistentClient()\n",
    "\n",
    "# Initialize embeddings\n",
    "embedding_function = OpenAIEmbeddingFunction(model_name=\"text-embedding-3-large\", api_key=openai.api_key)\n",
    "\n",
    "# Create collections\n",
    "base_collection = client.get_or_create_collection(name=\"base_collection\", embedding_function=embedding_function)\n",
    "\n",
    "# Add documents to both collections\n",
    "for i, category in enumerate(categories):\n",
    "    base_collection.add(\n",
    "        documents=[category['category']],\n",
    "        ids=[str(i)]\n",
    "    )\n",
    "\n",
    "print(f\"Created collection with {base_collection.count()} documents.\")"
   ]
  },
  {
   "cell_type": "markdown",
   "metadata": {},
   "source": [
    "## Parametrizing our Retrieval Pipeline\n",
    "\n",
    "The key to running quick experiments is to parametrize the retrieval pipeline. This makes it easy to swap different retrieval methods as your RAG system evolves. Let's start by defining the metrics we want to track.\n",
    "\n",
    "**Recall** measures how many of the total relevant items we managed to find. If there are 20 relevant documents in your dataset but you only retrieve 10 of them, that's 50% recall.\n",
    "\n",
    "**Mean Reciprocal Rank (MRR)** measures how high the first relevant document appears in your results. If the first relevant document is at position 3, the MRR is 1/3."
   ]
  },
  {
   "cell_type": "code",
   "execution_count": 13,
   "metadata": {},
   "outputs": [],
   "source": [
    "def calculate_recall(predictions: list[str], ground_truth: list[str]):\n",
    "    \"\"\"Calculate the proportion of relevant items that were retrieved\"\"\"\n",
    "    return len([label for label in ground_truth if label in predictions]) / len(ground_truth)\n",
    "\n",
    "def calculate_mrr(predictions: list[str], ground_truth: list[str]):\n",
    "    \"\"\"Calculate Mean Reciprocal Rank - how high the relevant items appear in results\"\"\"\n",
    "    mrr = 0\n",
    "    for label in ground_truth:\n",
    "        if label in predictions:\n",
    "            # Find the position of the first relevant item\n",
    "            mrr = max(mrr, 1 / (predictions.index(label) + 1))\n",
    "    return mrr"
   ]
  },
  {
   "cell_type": "markdown",
   "metadata": {},
   "source": [
    "The case for recall is obvious, since it's the main thing you'd want to track when evaluating your retrieval performance. The case for MRR is more subtle. In Ramp's application, the end-user is shown a number of categories for their transaction and is asked to pick the most relevant one. We want the first category to be the most relevant, so we care about MRR. \n",
    "\n",
    "Sidenote: You don't need 100 different metrics. Think about what you care about in your application and track that. You want to keep the signal-to-noise ratio high. \n",
    "\n",
    "Before we move on to define both the retrieval function and the evaluation function, let's first structure our data. "
   ]
  },
  {
   "cell_type": "code",
   "execution_count": 64,
   "metadata": {},
   "outputs": [],
   "source": [
    "def retrieve(query, collection, k=5):\n",
    "    \"\"\"Retrieve documents from a collection based on a query\"\"\"\n",
    "    results = collection.query(query_texts=[query], n_results=k)\n",
    "    \n",
    "    # Get the document IDs from the results\n",
    "    retrieved_docs = results['documents'][0]\n",
    "    \n",
    "    return retrieved_docs\n",
    "\n",
    "# Evaluation function\n",
    "def evaluate_retrieval(retrieved_ids, expected_ids):\n",
    "    \"\"\"Evaluate retrieval performance using recall and MRR\"\"\"\n",
    "    recall = calculate_recall(retrieved_ids, expected_ids)\n",
    "    mrr = calculate_mrr(retrieved_ids, expected_ids)\n",
    "    \n",
    "    return {\"recall\": recall, \"mrr\": mrr}\n"
   ]
  },
  {
   "cell_type": "markdown",
   "metadata": {},
   "source": [
    "Let's first create a training and evaluation set, so that we can evaluate the performance when we fine-tune our embedding model later fairly."
   ]
  },
  {
   "cell_type": "code",
   "execution_count": 65,
   "metadata": {},
   "outputs": [],
   "source": [
    "train_transactions = transactions[: int(0.8 * len(transactions))]\n",
    "evals_transactions = transactions[int(0.8 * len(transactions)) :]\n",
    "datasets = [(\"train\", train_transactions), (\"evals\", evals_transactions)]"
   ]
  },
  {
   "cell_type": "markdown",
   "metadata": {},
   "source": [
    "Now we can set up our parametrized retrieval pipeline. I'll vary the number of retrieved documents to see how it affects recall and MRR. Note that you can easily vary other parameters (like the embedding models or rerankers) as well with this parametrized pipeline."
   ]
  },
  {
   "cell_type": "code",
   "execution_count": 75,
   "metadata": {},
   "outputs": [],
   "source": [
    "def run_evaluation(collections=None, transactions=None,k_values=[1, 3, 5]):\n",
    "    \"\"\"Run evaluation across different k values\"\"\"\n",
    "    results = []\n",
    "    \n",
    "    for k in k_values:\n",
    "        for table in collections:\n",
    "            scores = []\n",
    "            for transaction in transactions:\n",
    "                query = transaction['query']\n",
    "                expected_docs = [transaction['expected']]\n",
    "                    \n",
    "                # Retrieve documents\n",
    "                retrieved_docs = retrieve(query, table, k)\n",
    "                    \n",
    "                # Evaluate retrieval\n",
    "                metrics = evaluate_retrieval(retrieved_docs, expected_docs)\n",
    "                    \n",
    "                scores.append({\n",
    "                    \"query\": query,\n",
    "                    \"k\": k,\n",
    "                    \"recall\": metrics[\"recall\"],\n",
    "                    \"mrr\": metrics[\"mrr\"]\n",
    "                })\n",
    "                \n",
    "            # Calculate average metrics\n",
    "            avg_recall = sum(r[\"recall\"] for r in scores) / len(scores)\n",
    "            avg_mrr = sum(r[\"mrr\"] for r in scores) / len(scores)\n",
    "                \n",
    "            results.append({\n",
    "                \"collection\": table,\n",
    "                \"k\": k,\n",
    "                \"avg_recall\": avg_recall,\n",
    "                \"avg_mrr\": avg_mrr\n",
    "            })\n",
    "                    \n",
    "    return pd.DataFrame(results)"
   ]
  },
  {
   "cell_type": "code",
   "execution_count": 76,
   "metadata": {},
   "outputs": [
    {
     "data": {
      "text/html": [
       "<pre style=\"white-space:pre;overflow-x:auto;line-height:normal;font-family:Menlo,'DejaVu Sans Mono',consolas,'Courier New',monospace\">                         collection  k  avg_recall   avg_mrr\n",
       "<span style=\"color: #008080; text-decoration-color: #008080; font-weight: bold\">0</span>  <span style=\"color: #800080; text-decoration-color: #800080; font-weight: bold\">Collection</span><span style=\"font-weight: bold\">(</span><span style=\"color: #808000; text-decoration-color: #808000\">name</span>=<span style=\"color: #800080; text-decoration-color: #800080\">base_collection</span><span style=\"font-weight: bold\">)</span>  <span style=\"color: #008080; text-decoration-color: #008080; font-weight: bold\">1</span>    <span style=\"color: #008080; text-decoration-color: #008080; font-weight: bold\">0.279141</span>  <span style=\"color: #008080; text-decoration-color: #008080; font-weight: bold\">0.279141</span>\n",
       "<span style=\"color: #008080; text-decoration-color: #008080; font-weight: bold\">1</span>  <span style=\"color: #800080; text-decoration-color: #800080; font-weight: bold\">Collection</span><span style=\"font-weight: bold\">(</span><span style=\"color: #808000; text-decoration-color: #808000\">name</span>=<span style=\"color: #800080; text-decoration-color: #800080\">base_collection</span><span style=\"font-weight: bold\">)</span>  <span style=\"color: #008080; text-decoration-color: #008080; font-weight: bold\">3</span>    <span style=\"color: #008080; text-decoration-color: #008080; font-weight: bold\">0.493865</span>  <span style=\"color: #008080; text-decoration-color: #008080; font-weight: bold\">0.368609</span>\n",
       "<span style=\"color: #008080; text-decoration-color: #008080; font-weight: bold\">2</span>  <span style=\"color: #800080; text-decoration-color: #800080; font-weight: bold\">Collection</span><span style=\"font-weight: bold\">(</span><span style=\"color: #808000; text-decoration-color: #808000\">name</span>=<span style=\"color: #800080; text-decoration-color: #800080\">base_collection</span><span style=\"font-weight: bold\">)</span>  <span style=\"color: #008080; text-decoration-color: #008080; font-weight: bold\">5</span>    <span style=\"color: #008080; text-decoration-color: #008080; font-weight: bold\">0.607362</span>  <span style=\"color: #008080; text-decoration-color: #008080; font-weight: bold\">0.396677</span>\n",
       "</pre>\n"
      ],
      "text/plain": [
       "                         collection  k  avg_recall   avg_mrr\n",
       "\u001b[1;36m0\u001b[0m  \u001b[1;35mCollection\u001b[0m\u001b[1m(\u001b[0m\u001b[33mname\u001b[0m=\u001b[35mbase_collection\u001b[0m\u001b[1m)\u001b[0m  \u001b[1;36m1\u001b[0m    \u001b[1;36m0.279141\u001b[0m  \u001b[1;36m0.279141\u001b[0m\n",
       "\u001b[1;36m1\u001b[0m  \u001b[1;35mCollection\u001b[0m\u001b[1m(\u001b[0m\u001b[33mname\u001b[0m=\u001b[35mbase_collection\u001b[0m\u001b[1m)\u001b[0m  \u001b[1;36m3\u001b[0m    \u001b[1;36m0.493865\u001b[0m  \u001b[1;36m0.368609\u001b[0m\n",
       "\u001b[1;36m2\u001b[0m  \u001b[1;35mCollection\u001b[0m\u001b[1m(\u001b[0m\u001b[33mname\u001b[0m=\u001b[35mbase_collection\u001b[0m\u001b[1m)\u001b[0m  \u001b[1;36m5\u001b[0m    \u001b[1;36m0.607362\u001b[0m  \u001b[1;36m0.396677\u001b[0m\n"
      ]
     },
     "metadata": {},
     "output_type": "display_data"
    }
   ],
   "source": [
    "results_df = run_evaluation(collections=[base_collection], transactions=transactions)\n",
    "print(results_df)"
   ]
  },
  {
   "cell_type": "markdown",
   "metadata": {},
   "source": [
    "## Fine-tune embedding models\n",
    "\n",
    "Moving on, we’ll fine-tune a small open-source embedding model using just 256 synthetic examples. It’s a small set for the sake of speed, but in real projects, you’ll want much bigger private datasets. The more data you have, the better your model will understand the details that general models usually miss.\n",
    "\n",
    "One big reason to fine-tune open-source models is cost. After training, you can run them on your own hardware without worrying about per-query charges. If you’re handling a lot of traffic, this saves a lot of money fast.\n",
    "\n",
    "We’ll be using sentence-transformers — it’s easy to train, plays nicely with Hugging Face, and has plenty of community examples if you get stuck. Let's first transform our data in the format that sentence-transformer expects it. "
   ]
  },
  {
   "cell_type": "code",
   "execution_count": 77,
   "metadata": {},
   "outputs": [],
   "source": [
    "from sentence_transformers import InputExample, losses\n",
    "from torch.utils.data import DataLoader\n",
    "import random\n",
    "\n",
    "labels = set([train_transaction['expected'] for train_transaction in train_transactions])\n",
    "\n",
    "finetuning_data = [\n",
    "    InputExample(\n",
    "        texts=[transaction['query'], transaction['expected'], negative],\n",
    "    )\n",
    "    for transaction in train_transactions \n",
    "    for _ in range(2)  # Generate 2 samples per transaction\n",
    "    for negative in random.sample([label for label in labels if label != transaction['expected']], k=4)  # 4 negatives per sample\n",
    "]"
   ]
  },
  {
   "cell_type": "markdown",
   "metadata": {},
   "source": [
    "We’ll use the MultipleNegativesRankingLoss to train our model. This loss function works by maximizing the similarity between a query and its correct document while minimizing the similarity between the query and all other documents in the batch. It’s efficient because every other example in the batch automatically serves as a negative sample, making it ideal for small datasets."
   ]
  },
  {
   "cell_type": "code",
   "execution_count": 78,
   "metadata": {},
   "outputs": [],
   "source": [
    "from sentence_transformers import SentenceTransformer\n",
    "\n",
    "# Load the model, dataloader and loss function\n",
    "model = SentenceTransformer(\"BAAI/bge-base-en\")\n",
    "train_dataloader = DataLoader(finetuning_data, batch_size=8, shuffle=True)\n",
    "train_loss = losses.MultipleNegativesRankingLoss(model)"
   ]
  },
  {
   "cell_type": "markdown",
   "metadata": {},
   "source": [
    "Now we can start training. If you're done training, you can optionally upload it to HuggingFace. "
   ]
  },
  {
   "cell_type": "code",
   "execution_count": null,
   "metadata": {},
   "outputs": [],
   "source": [
    "model.fit(\n",
    "    train_objectives=[(train_dataloader, train_loss)],\n",
    "    epochs=3,\n",
    "    warmup_steps=100,\n",
    "    output_path=\"./bge-finetuned\"\n",
    ")\n",
    "\n",
    "# If you want to save the model to the Hugging Face Hub\n",
    "\"\"\"\n",
    "model.save(\"./bge-finetuned\")\n",
    "fine_tuned_model = SentenceTransformer(\"./bge-finetuned\")\n",
    "fine_tuned_model.push_to_hub(\"TahmidTapadar/finetuned-bge-base-en\", exist_ok=True)\n",
    "\"\"\""
   ]
  },
  {
   "cell_type": "markdown",
   "metadata": {},
   "source": [
    "Now we can create a new collection using our fine-tuned embedding model. "
   ]
  },
  {
   "cell_type": "code",
   "execution_count": 81,
   "metadata": {},
   "outputs": [
    {
     "data": {
      "text/html": [
       "<pre style=\"white-space:pre;overflow-x:auto;line-height:normal;font-family:Menlo,'DejaVu Sans Mono',consolas,'Courier New',monospace\">Created collection with <span style=\"color: #008080; text-decoration-color: #008080; font-weight: bold\">27</span> documents.\n",
       "</pre>\n"
      ],
      "text/plain": [
       "Created collection with \u001b[1;36m27\u001b[0m documents.\n"
      ]
     },
     "metadata": {},
     "output_type": "display_data"
    }
   ],
   "source": [
    "import chromadb.utils.embedding_functions as embedding_functions\n",
    "\n",
    "huggingface_ef = embedding_functions.HuggingFaceEmbeddingFunction(\n",
    "    api_key=huggingface_api_key,\n",
    "    model_name=\"TahmidTapadar/finetuned-bge-base-en\" # replace this with your model\n",
    ")\n",
    "\n",
    "# Create collections\n",
    "finetuned_collection = client.get_or_create_collection(name=\"finetuned\", embedding_function=huggingface_ef)\n",
    "\n",
    "# Add documents to both collections\n",
    "for i, category in enumerate(categories):\n",
    "    finetuned_collection.add(\n",
    "        documents=[category['category']],\n",
    "        ids=[str(i)]\n",
    "    )\n",
    "\n",
    "print(f\"Created collection with {finetuned_collection.count()} documents.\")"
   ]
  },
  {
   "cell_type": "markdown",
   "metadata": {},
   "source": [
    "Let's compare the performance of the two models using our parametrized retrieval pipeline. "
   ]
  },
  {
   "cell_type": "code",
   "execution_count": 82,
   "metadata": {},
   "outputs": [
    {
     "data": {
      "text/html": [
       "<pre style=\"white-space:pre;overflow-x:auto;line-height:normal;font-family:Menlo,'DejaVu Sans Mono',consolas,'Courier New',monospace\">                         collection  k  avg_recall   avg_mrr\n",
       "<span style=\"color: #008080; text-decoration-color: #008080; font-weight: bold\">0</span>  <span style=\"color: #800080; text-decoration-color: #800080; font-weight: bold\">Collection</span><span style=\"font-weight: bold\">(</span><span style=\"color: #808000; text-decoration-color: #808000\">name</span>=<span style=\"color: #800080; text-decoration-color: #800080\">base_collection</span><span style=\"font-weight: bold\">)</span>  <span style=\"color: #008080; text-decoration-color: #008080; font-weight: bold\">1</span>    <span style=\"color: #008080; text-decoration-color: #008080; font-weight: bold\">0.257576</span>  <span style=\"color: #008080; text-decoration-color: #008080; font-weight: bold\">0.257576</span>\n",
       "<span style=\"color: #008080; text-decoration-color: #008080; font-weight: bold\">1</span>        <span style=\"color: #800080; text-decoration-color: #800080; font-weight: bold\">Collection</span><span style=\"font-weight: bold\">(</span><span style=\"color: #808000; text-decoration-color: #808000\">name</span>=<span style=\"color: #800080; text-decoration-color: #800080\">finetuned</span><span style=\"font-weight: bold\">)</span>  <span style=\"color: #008080; text-decoration-color: #008080; font-weight: bold\">1</span>    <span style=\"color: #008080; text-decoration-color: #008080; font-weight: bold\">0.727273</span>  <span style=\"color: #008080; text-decoration-color: #008080; font-weight: bold\">0.727273</span>\n",
       "<span style=\"color: #008080; text-decoration-color: #008080; font-weight: bold\">2</span>  <span style=\"color: #800080; text-decoration-color: #800080; font-weight: bold\">Collection</span><span style=\"font-weight: bold\">(</span><span style=\"color: #808000; text-decoration-color: #808000\">name</span>=<span style=\"color: #800080; text-decoration-color: #800080\">base_collection</span><span style=\"font-weight: bold\">)</span>  <span style=\"color: #008080; text-decoration-color: #008080; font-weight: bold\">3</span>    <span style=\"color: #008080; text-decoration-color: #008080; font-weight: bold\">0.378788</span>  <span style=\"color: #008080; text-decoration-color: #008080; font-weight: bold\">0.313131</span>\n",
       "<span style=\"color: #008080; text-decoration-color: #008080; font-weight: bold\">3</span>        <span style=\"color: #800080; text-decoration-color: #800080; font-weight: bold\">Collection</span><span style=\"font-weight: bold\">(</span><span style=\"color: #808000; text-decoration-color: #808000\">name</span>=<span style=\"color: #800080; text-decoration-color: #800080\">finetuned</span><span style=\"font-weight: bold\">)</span>  <span style=\"color: #008080; text-decoration-color: #008080; font-weight: bold\">3</span>    <span style=\"color: #008080; text-decoration-color: #008080; font-weight: bold\">0.954545</span>  <span style=\"color: #008080; text-decoration-color: #008080; font-weight: bold\">0.830808</span>\n",
       "<span style=\"color: #008080; text-decoration-color: #008080; font-weight: bold\">4</span>  <span style=\"color: #800080; text-decoration-color: #800080; font-weight: bold\">Collection</span><span style=\"font-weight: bold\">(</span><span style=\"color: #808000; text-decoration-color: #808000\">name</span>=<span style=\"color: #800080; text-decoration-color: #800080\">base_collection</span><span style=\"font-weight: bold\">)</span>  <span style=\"color: #008080; text-decoration-color: #008080; font-weight: bold\">5</span>    <span style=\"color: #008080; text-decoration-color: #008080; font-weight: bold\">0.545455</span>  <span style=\"color: #008080; text-decoration-color: #008080; font-weight: bold\">0.352525</span>\n",
       "<span style=\"color: #008080; text-decoration-color: #008080; font-weight: bold\">5</span>        <span style=\"color: #800080; text-decoration-color: #800080; font-weight: bold\">Collection</span><span style=\"font-weight: bold\">(</span><span style=\"color: #808000; text-decoration-color: #808000\">name</span>=<span style=\"color: #800080; text-decoration-color: #800080\">finetuned</span><span style=\"font-weight: bold\">)</span>  <span style=\"color: #008080; text-decoration-color: #008080; font-weight: bold\">5</span>    <span style=\"color: #008080; text-decoration-color: #008080; font-weight: bold\">0.969697</span>  <span style=\"color: #008080; text-decoration-color: #008080; font-weight: bold\">0.833838</span>\n",
       "</pre>\n"
      ],
      "text/plain": [
       "                         collection  k  avg_recall   avg_mrr\n",
       "\u001b[1;36m0\u001b[0m  \u001b[1;35mCollection\u001b[0m\u001b[1m(\u001b[0m\u001b[33mname\u001b[0m=\u001b[35mbase_collection\u001b[0m\u001b[1m)\u001b[0m  \u001b[1;36m1\u001b[0m    \u001b[1;36m0.257576\u001b[0m  \u001b[1;36m0.257576\u001b[0m\n",
       "\u001b[1;36m1\u001b[0m        \u001b[1;35mCollection\u001b[0m\u001b[1m(\u001b[0m\u001b[33mname\u001b[0m=\u001b[35mfinetuned\u001b[0m\u001b[1m)\u001b[0m  \u001b[1;36m1\u001b[0m    \u001b[1;36m0.727273\u001b[0m  \u001b[1;36m0.727273\u001b[0m\n",
       "\u001b[1;36m2\u001b[0m  \u001b[1;35mCollection\u001b[0m\u001b[1m(\u001b[0m\u001b[33mname\u001b[0m=\u001b[35mbase_collection\u001b[0m\u001b[1m)\u001b[0m  \u001b[1;36m3\u001b[0m    \u001b[1;36m0.378788\u001b[0m  \u001b[1;36m0.313131\u001b[0m\n",
       "\u001b[1;36m3\u001b[0m        \u001b[1;35mCollection\u001b[0m\u001b[1m(\u001b[0m\u001b[33mname\u001b[0m=\u001b[35mfinetuned\u001b[0m\u001b[1m)\u001b[0m  \u001b[1;36m3\u001b[0m    \u001b[1;36m0.954545\u001b[0m  \u001b[1;36m0.830808\u001b[0m\n",
       "\u001b[1;36m4\u001b[0m  \u001b[1;35mCollection\u001b[0m\u001b[1m(\u001b[0m\u001b[33mname\u001b[0m=\u001b[35mbase_collection\u001b[0m\u001b[1m)\u001b[0m  \u001b[1;36m5\u001b[0m    \u001b[1;36m0.545455\u001b[0m  \u001b[1;36m0.352525\u001b[0m\n",
       "\u001b[1;36m5\u001b[0m        \u001b[1;35mCollection\u001b[0m\u001b[1m(\u001b[0m\u001b[33mname\u001b[0m=\u001b[35mfinetuned\u001b[0m\u001b[1m)\u001b[0m  \u001b[1;36m5\u001b[0m    \u001b[1;36m0.969697\u001b[0m  \u001b[1;36m0.833838\u001b[0m\n"
      ]
     },
     "metadata": {},
     "output_type": "display_data"
    }
   ],
   "source": [
    "results_df = run_evaluation([base_collection, finetuned_collection], evals_transactions)\n",
    "print(results_df)"
   ]
  },
  {
   "cell_type": "code",
   "execution_count": 92,
   "metadata": {},
   "outputs": [
    {
     "data": {
      "text/plain": [
       "<Axes: xlabel='k'>"
      ]
     },
     "execution_count": 92,
     "metadata": {},
     "output_type": "execute_result"
    },
    {
     "data": {
      "image/png": "[encoded data removed]",
      "text/plain": [
       "<Figure size 1200x600 with 1 Axes>"
      ]
     },
     "metadata": {},
     "output_type": "display_data"
    }
   ],
   "source": [
    "# Convert collection objects to strings\n",
    "results_df['collection'] = results_df['collection'].astype(str)\n",
    "\n",
    "# Now create the plot\n",
    "results_df.pivot(index='k', columns='collection', values=['avg_recall']).plot(kind='bar', figsize=(12, 6))"
   ]
  },
  {
   "cell_type": "markdown",
   "metadata": {},
   "source": [
    "## Conclusion\n",
    "\n",
    "We see that the fine-tuned model performs better than the base model on the evaluation set. Like I said at the beginning of this post, I often find teams improve their retrieval significantly by fine-tuning embedding models on their specific data, for their specific application. Note that we didn't even need that much data. A few hundred examples is often enough. "
   ]
  }
 ],
 "metadata": {
  "kernelspec": {
   "display_name": "venv",
   "language": "python",
   "name": "python3"
  },
  "language_info": {
   "codemirror_mode": {
    "name": "ipython",
    "version": 3
   },
   "file_extension": ".py",
   "mimetype": "text/x-python",
   "name": "python",
   "nbconvert_exporter": "python",
   "pygments_lexer": "ipython3",
   "version": "3.13.3"
  }
 },
 "nbformat": 4,
 "nbformat_minor": 2
}
